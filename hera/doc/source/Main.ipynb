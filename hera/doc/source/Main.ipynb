{
 "cells": [
  {
   "cell_type": "markdown",
   "id": "e0bb7251-df3e-4881-a8a5-a729468fd1bc",
   "metadata": {
    "tags": []
   },
   "source": [
    "<font size=\"+3\">Welcome to Hera's documentation!</font>\n",
    "\n",
    "# Overview\n",
    "The 'Hera' project aims to standardize data storage and analysis. \n",
    "\n",
    "The library manages data by providing interface to store pieces of data\n",
    "and their metadata (i.e description of the data). Then, the library\n",
    "provides tools that help to load, analysis and presentations for specific data types.\n",
    "\n",
    "<p style=\"text-align:center;\"><img src=\"./Hera-Layers.png\"  style=\"max-width: 75%;\"/></p>"
   ]
  },
  {
   "cell_type": "markdown",
   "id": "03d06551-fe79-4733-a4e7-3b9b466559bd",
   "metadata": {},
   "source": [
    "<img src=\"./Hera-Layers.png\" />"
   ]
  },
  {
   "cell_type": "markdown",
   "id": "1f0c8265-e00d-42a7-9865-bd1927802b1a",
   "metadata": {},
   "source": [
    "The hera package has two parts.\n",
    " - [Data layer](DataLayer.ipynb): The datalayer provides interface to store the metadata (data that describes the data itself)\n",
    "               of each piece of data as a document in the database\n",
    "\n",
    "\n",
    "\n",
    " - [Toolkit](toolkitPage.ipyng): Interfaces to manage different types of data.\n"
   ]
  },
  {
   "cell_type": "markdown",
   "id": "048d7467-4c73-42bd-918a-a17eaa16448f",
   "metadata": {},
   "source": [
    "# Installing & setup\n",
    "\n",
    "\n",
    "We currently recommend using the package as a development package.\n",
    "You must have MongoDB installed.\n",
    "\n",
    "1. Download the package from the git repository.\n",
    "\n",
    "<div class=\"alert alert-block alert-info\">\n",
    "     >> git clone [path to repository] path-to-save/pyhera\n",
    "</div>\n",
    "\n",
    "2. Add the path to the to the PYTHONPATH.\n",
    "\n",
    "<div class=\"alert alert-block alert-info\">\n",
    "   >> export PYTHONPATH=$PYTHONPATH:path-to-save/pyhera/hera\n",
    "</div>\n",
    "\n",
    "   we recommend to add it to the .bashrc.\n",
    "\n",
    "and also\n",
    "<div class=\"alert alert-block alert-info\">\n",
    "   export PATH=$PATH:path-to-save/pyhera/hera/bin\n",
    "</div>\n",
    "\n",
    "3. Configuration the mongo DB connection\n",
    "\n",
    "    Details for configuring Hera are provided [here.](DataLayer.ipynb#setup)\n",
    "\n",
    "# Usage and API\n",
    "\n",
    "   datalayer\n",
    "   toolkit\n",
    "   instructions_for_dev\n"
   ]
  }
 ],
 "metadata": {
  "kernelspec": {
   "display_name": "Python 3 (ipykernel)",
   "language": "python",
   "name": "python3"
  },
  "language_info": {
   "codemirror_mode": {
    "name": "ipython",
    "version": 3
   },
   "file_extension": ".py",
   "mimetype": "text/x-python",
   "name": "python",
   "nbconvert_exporter": "python",
   "pygments_lexer": "ipython3",
   "version": "3.9.18"
  }
 },
 "nbformat": 4,
 "nbformat_minor": 5
}
