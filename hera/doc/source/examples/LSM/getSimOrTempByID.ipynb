{
 "cells": [
  {
   "cell_type": "markdown",
   "metadata": {},
   "source": [
    "# Get Template or Simulation by ID\n",
    "\n",
    "This notebook shows how to get template or Simulation by the document ID."
   ]
  },
  {
   "cell_type": "code",
   "execution_count": 1,
   "metadata": {},
   "outputs": [],
   "source": [
    "from pyhera.hera import LSM"
   ]
  },
  {
   "cell_type": "markdown",
   "metadata": {},
   "source": [
    "## Template"
   ]
  },
  {
   "cell_type": "markdown",
   "metadata": {},
   "source": [
    "We can see all of the templates available in a project with the listTemplates function."
   ]
  },
  {
   "cell_type": "code",
   "execution_count": 2,
   "metadata": {},
   "outputs": [
    {
     "data": {
      "text/html": [
       "<div>\n",
       "<style scoped>\n",
       "    .dataframe tbody tr th:only-of-type {\n",
       "        vertical-align: middle;\n",
       "    }\n",
       "\n",
       "    .dataframe tbody tr th {\n",
       "        vertical-align: top;\n",
       "    }\n",
       "\n",
       "    .dataframe thead th {\n",
       "        text-align: right;\n",
       "    }\n",
       "</style>\n",
       "<table border=\"1\" class=\"dataframe\">\n",
       "  <thead>\n",
       "    <tr style=\"text-align: right;\">\n",
       "      <th></th>\n",
       "      <th>variable</th>\n",
       "      <th>value</th>\n",
       "    </tr>\n",
       "  </thead>\n",
       "  <tbody>\n",
       "    <tr>\n",
       "      <th>5e3bc9d6abda30199c4bf532</th>\n",
       "      <td>version</td>\n",
       "      <td>1</td>\n",
       "    </tr>\n",
       "    <tr>\n",
       "      <th>5e3bc9d6abda30199c4bf532</th>\n",
       "      <td>modelFolder</td>\n",
       "      <td>/home/eden/Projects.local/2020/templateLSM</td>\n",
       "    </tr>\n",
       "    <tr>\n",
       "      <th>5e3bc9d6abda30199c4bf532</th>\n",
       "      <td>params__wind_dir</td>\n",
       "      <td>0</td>\n",
       "    </tr>\n",
       "    <tr>\n",
       "      <th>5e3bc9d6abda30199c4bf532</th>\n",
       "      <td>params__wind_speed</td>\n",
       "      <td>5</td>\n",
       "    </tr>\n",
       "    <tr>\n",
       "      <th>5e3bc9d6abda30199c4bf532</th>\n",
       "      <td>params__StabilityMOLength</td>\n",
       "      <td>unstable</td>\n",
       "    </tr>\n",
       "  </tbody>\n",
       "</table>\n",
       "</div>"
      ],
      "text/plain": [
       "                                           variable  \\\n",
       "5e3bc9d6abda30199c4bf532                    version   \n",
       "5e3bc9d6abda30199c4bf532                modelFolder   \n",
       "5e3bc9d6abda30199c4bf532           params__wind_dir   \n",
       "5e3bc9d6abda30199c4bf532         params__wind_speed   \n",
       "5e3bc9d6abda30199c4bf532  params__StabilityMOLength   \n",
       "\n",
       "                                                               value  \n",
       "5e3bc9d6abda30199c4bf532                                           1  \n",
       "5e3bc9d6abda30199c4bf532  /home/eden/Projects.local/2020/templateLSM  \n",
       "5e3bc9d6abda30199c4bf532                                           0  \n",
       "5e3bc9d6abda30199c4bf532                                           5  \n",
       "5e3bc9d6abda30199c4bf532                                    unstable  "
      ]
     },
     "execution_count": 2,
     "metadata": {},
     "output_type": "execute_result"
    }
   ],
   "source": [
    "LSM.listTemplates(projectName='test')"
   ]
  },
  {
   "cell_type": "markdown",
   "metadata": {},
   "source": [
    "The default is long format but you can also choose it to be wide format by adding the argument 'wideFormat' with value True as shown below."
   ]
  },
  {
   "cell_type": "code",
   "execution_count": 3,
   "metadata": {},
   "outputs": [
    {
     "data": {
      "text/html": [
       "<div>\n",
       "<style scoped>\n",
       "    .dataframe tbody tr th:only-of-type {\n",
       "        vertical-align: middle;\n",
       "    }\n",
       "\n",
       "    .dataframe tbody tr th {\n",
       "        vertical-align: top;\n",
       "    }\n",
       "\n",
       "    .dataframe thead th {\n",
       "        text-align: right;\n",
       "    }\n",
       "</style>\n",
       "<table border=\"1\" class=\"dataframe\">\n",
       "  <thead>\n",
       "    <tr style=\"text-align: right;\">\n",
       "      <th>variable</th>\n",
       "      <th>modelFolder</th>\n",
       "      <th>params__StabilityMOLength</th>\n",
       "      <th>params__wind_dir</th>\n",
       "      <th>params__wind_speed</th>\n",
       "      <th>version</th>\n",
       "    </tr>\n",
       "  </thead>\n",
       "  <tbody>\n",
       "    <tr>\n",
       "      <th>5e3bc9d6abda30199c4bf532</th>\n",
       "      <td>/home/eden/Projects.local/2020/templateLSM</td>\n",
       "      <td>unstable</td>\n",
       "      <td>0</td>\n",
       "      <td>5</td>\n",
       "      <td>1</td>\n",
       "    </tr>\n",
       "  </tbody>\n",
       "</table>\n",
       "</div>"
      ],
      "text/plain": [
       "variable                                                 modelFolder  \\\n",
       "5e3bc9d6abda30199c4bf532  /home/eden/Projects.local/2020/templateLSM   \n",
       "\n",
       "variable                 params__StabilityMOLength params__wind_dir  \\\n",
       "5e3bc9d6abda30199c4bf532                  unstable                0   \n",
       "\n",
       "variable                 params__wind_speed version  \n",
       "5e3bc9d6abda30199c4bf532                  5       1  "
      ]
     },
     "execution_count": 3,
     "metadata": {},
     "output_type": "execute_result"
    }
   ],
   "source": [
    "LSM.listTemplates(projectName='test', wideFormat=True)"
   ]
  },
  {
   "cell_type": "markdown",
   "metadata": {},
   "source": [
    "If you want to get the template by the id you use the getTemplateByID function."
   ]
  },
  {
   "cell_type": "code",
   "execution_count": 4,
   "metadata": {},
   "outputs": [],
   "source": [
    "temp = LSM.getTemplateByID(id='5e3bc9d6abda30199c4bf532')"
   ]
  },
  {
   "cell_type": "markdown",
   "metadata": {},
   "source": [
    "## Simulation"
   ]
  },
  {
   "cell_type": "markdown",
   "metadata": {},
   "source": [
    "We can see all of the simulation available in a project with the listSimulations function."
   ]
  },
  {
   "cell_type": "code",
   "execution_count": 5,
   "metadata": {},
   "outputs": [
    {
     "data": {
      "text/html": [
       "<div>\n",
       "<style scoped>\n",
       "    .dataframe tbody tr th:only-of-type {\n",
       "        vertical-align: middle;\n",
       "    }\n",
       "\n",
       "    .dataframe tbody tr th {\n",
       "        vertical-align: top;\n",
       "    }\n",
       "\n",
       "    .dataframe thead th {\n",
       "        text-align: right;\n",
       "    }\n",
       "</style>\n",
       "<table border=\"1\" class=\"dataframe\">\n",
       "  <thead>\n",
       "    <tr style=\"text-align: right;\">\n",
       "      <th></th>\n",
       "      <th>variable</th>\n",
       "      <th>value</th>\n",
       "    </tr>\n",
       "  </thead>\n",
       "  <tbody>\n",
       "    <tr>\n",
       "      <th>5e41123397ebcadca9972adc</th>\n",
       "      <td>version</td>\n",
       "      <td>1</td>\n",
       "    </tr>\n",
       "    <tr>\n",
       "      <th>5e41123397ebcadca9972adc</th>\n",
       "      <td>params__wind_dir</td>\n",
       "      <td>45</td>\n",
       "    </tr>\n",
       "    <tr>\n",
       "      <th>5e41123397ebcadca9972adc</th>\n",
       "      <td>params__wind_speed</td>\n",
       "      <td>5</td>\n",
       "    </tr>\n",
       "    <tr>\n",
       "      <th>5e41123397ebcadca9972adc</th>\n",
       "      <td>params__StabilityMOLength</td>\n",
       "      <td>unstable</td>\n",
       "    </tr>\n",
       "  </tbody>\n",
       "</table>\n",
       "</div>"
      ],
      "text/plain": [
       "                                           variable     value\n",
       "5e41123397ebcadca9972adc                    version         1\n",
       "5e41123397ebcadca9972adc           params__wind_dir        45\n",
       "5e41123397ebcadca9972adc         params__wind_speed         5\n",
       "5e41123397ebcadca9972adc  params__StabilityMOLength  unstable"
      ]
     },
     "execution_count": 5,
     "metadata": {},
     "output_type": "execute_result"
    }
   ],
   "source": [
    "LSM.listSimulations(projectName='example')"
   ]
  },
  {
   "cell_type": "markdown",
   "metadata": {},
   "source": [
    "The default is long format but you can also choose it to be wide format by adding the argument 'wideFormat' with value True as shown below."
   ]
  },
  {
   "cell_type": "code",
   "execution_count": 6,
   "metadata": {},
   "outputs": [
    {
     "data": {
      "text/html": [
       "<div>\n",
       "<style scoped>\n",
       "    .dataframe tbody tr th:only-of-type {\n",
       "        vertical-align: middle;\n",
       "    }\n",
       "\n",
       "    .dataframe tbody tr th {\n",
       "        vertical-align: top;\n",
       "    }\n",
       "\n",
       "    .dataframe thead th {\n",
       "        text-align: right;\n",
       "    }\n",
       "</style>\n",
       "<table border=\"1\" class=\"dataframe\">\n",
       "  <thead>\n",
       "    <tr style=\"text-align: right;\">\n",
       "      <th>variable</th>\n",
       "      <th>params__StabilityMOLength</th>\n",
       "      <th>params__wind_dir</th>\n",
       "      <th>params__wind_speed</th>\n",
       "      <th>version</th>\n",
       "    </tr>\n",
       "  </thead>\n",
       "  <tbody>\n",
       "    <tr>\n",
       "      <th>5e41123397ebcadca9972adc</th>\n",
       "      <td>unstable</td>\n",
       "      <td>45</td>\n",
       "      <td>5</td>\n",
       "      <td>1</td>\n",
       "    </tr>\n",
       "  </tbody>\n",
       "</table>\n",
       "</div>"
      ],
      "text/plain": [
       "variable                 params__StabilityMOLength params__wind_dir  \\\n",
       "5e41123397ebcadca9972adc                  unstable               45   \n",
       "\n",
       "variable                 params__wind_speed version  \n",
       "5e41123397ebcadca9972adc                  5       1  "
      ]
     },
     "execution_count": 6,
     "metadata": {},
     "output_type": "execute_result"
    }
   ],
   "source": [
    "LSM.listSimulations(projectName='example', wideFormat=True)"
   ]
  },
  {
   "cell_type": "markdown",
   "metadata": {},
   "source": [
    "If you want to get the simulation by the id you use the getSimulationByID function."
   ]
  },
  {
   "cell_type": "code",
   "execution_count": 7,
   "metadata": {},
   "outputs": [],
   "source": [
    "sim = LSM.getSimulationByID(id='5e41123397ebcadca9972adc')"
   ]
  }
 ],
 "metadata": {
  "kernelspec": {
   "display_name": "Python 3",
   "language": "python",
   "name": "python3"
  },
  "language_info": {
   "codemirror_mode": {
    "name": "ipython",
    "version": 3
   },
   "file_extension": ".py",
   "mimetype": "text/x-python",
   "name": "python",
   "nbconvert_exporter": "python",
   "pygments_lexer": "ipython3",
   "version": "3.6.5"
  }
 },
 "nbformat": 4,
 "nbformat_minor": 4
}
