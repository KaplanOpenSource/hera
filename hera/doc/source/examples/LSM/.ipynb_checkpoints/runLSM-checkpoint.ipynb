{
 "cells": [
  {
   "cell_type": "markdown",
   "metadata": {},
   "source": [
    "# Run LSM\n",
    "This notebook shows how to use the LSM simulation with hera"
   ]
  },
  {
   "cell_type": "code",
   "execution_count": 1,
   "metadata": {},
   "outputs": [],
   "source": [
    "from pyhera.hera import LSM"
   ]
  },
  {
   "cell_type": "markdown",
   "metadata": {},
   "source": [
    "After importing LSM, we use getTemplates() function to get a list of the existing templates.\n",
    "\n",
    "We choose for example the first template as you can see below."
   ]
  },
  {
   "cell_type": "code",
   "execution_count": 2,
   "metadata": {},
   "outputs": [],
   "source": [
    "templates = LSM.getTemplates()\n",
    "chosen_temp = templates[0]"
   ]
  },
  {
   "cell_type": "markdown",
   "metadata": {},
   "source": [
    "After we choose a template, we use the run() function to run the simulation.\n",
    "\n",
    "In the example below we decided to save the data as xarray after the simulation completed, and not saving a document of the run to the database."
   ]
  },
  {
   "cell_type": "code",
   "execution_count": 3,
   "metadata": {},
   "outputs": [
    {
     "name": "stdout",
     "output_type": "stream",
     "text": [
      "Processing the files\n",
      "/home/eden/testRun/modelRun/tozaot/machsan/OUTD2d\n",
      "['/home/eden/testRun/modelRun/tozaot/machsan/OUTD2d03_3_0050', '/home/eden/testRun/modelRun/tozaot/machsan/OUTD2d03_3_0160', '/home/eden/testRun/modelRun/tozaot/machsan/OUTD2d03_3_0250', '/home/eden/testRun/modelRun/tozaot/machsan/OUTD2d03_3_0030', '/home/eden/testRun/modelRun/tozaot/machsan/OUTD2d03_3_0120', '/home/eden/testRun/modelRun/tozaot/machsan/OUTD2d03_3_0150', '/home/eden/testRun/modelRun/tozaot/machsan/OUTD2d03_3_0140', '/home/eden/testRun/modelRun/tozaot/machsan/OUTD2d03_3_0090', '/home/eden/testRun/modelRun/tozaot/machsan/OUTD2d03_3_0200', '/home/eden/testRun/modelRun/tozaot/machsan/OUTD2d03_3', '/home/eden/testRun/modelRun/tozaot/machsan/OUTD2d03_3_0110', '/home/eden/testRun/modelRun/tozaot/machsan/OUTD2d03_3_0240', '/home/eden/testRun/modelRun/tozaot/machsan/OUTD2d03_3_0080', '/home/eden/testRun/modelRun/tozaot/machsan/OUTD2d03_3_0040', '/home/eden/testRun/modelRun/tozaot/machsan/OUTD2d03_3_0020', '/home/eden/testRun/modelRun/tozaot/machsan/OUTD2d03_3_0070', '/home/eden/testRun/modelRun/tozaot/machsan/OUTD2d03_3_0280', '/home/eden/testRun/modelRun/tozaot/machsan/OUTD2d03_3_0170', '/home/eden/testRun/modelRun/tozaot/machsan/OUTD2d03_3_0260', '/home/eden/testRun/modelRun/tozaot/machsan/OUTD2d03_3_0190', '/home/eden/testRun/modelRun/tozaot/machsan/OUTD2d03_3_0010', '/home/eden/testRun/modelRun/tozaot/machsan/OUTD2d03_3_0270', '/home/eden/testRun/modelRun/tozaot/machsan/OUTD2d03_3_0220', '/home/eden/testRun/modelRun/tozaot/machsan/OUTD2d03_3_0230', '/home/eden/testRun/modelRun/tozaot/machsan/OUTD2d03_3_0180', '/home/eden/testRun/modelRun/tozaot/machsan/OUTD2d03_3_0210', '/home/eden/testRun/modelRun/tozaot/machsan/OUTD2d03_3_0100', '/home/eden/testRun/modelRun/tozaot/machsan/OUTD2d03_3_0060', '/home/eden/testRun/modelRun/tozaot/machsan/OUTD2d03_3_0130', '/home/eden/testRun/modelRun/tozaot/machsan/OUTD2d03_3_0290', '/home/eden/testRun/modelRun/tozaot/machsan/OUTD2d03_3_0300']\n",
      "\t... reading /home/eden/testRun/modelRun/tozaot/machsan/OUTD2d03_3\n",
      "\t... reading /home/eden/testRun/modelRun/tozaot/machsan/OUTD2d03_3_0010\n",
      "\t... reading /home/eden/testRun/modelRun/tozaot/machsan/OUTD2d03_3_0020\n",
      "\t... reading /home/eden/testRun/modelRun/tozaot/machsan/OUTD2d03_3_0030\n",
      "\t... reading /home/eden/testRun/modelRun/tozaot/machsan/OUTD2d03_3_0040\n",
      "\t... reading /home/eden/testRun/modelRun/tozaot/machsan/OUTD2d03_3_0050\n",
      "\t... reading /home/eden/testRun/modelRun/tozaot/machsan/OUTD2d03_3_0060\n",
      "\t... reading /home/eden/testRun/modelRun/tozaot/machsan/OUTD2d03_3_0070\n",
      "\t... reading /home/eden/testRun/modelRun/tozaot/machsan/OUTD2d03_3_0080\n",
      "\t... reading /home/eden/testRun/modelRun/tozaot/machsan/OUTD2d03_3_0090\n",
      "\t... reading /home/eden/testRun/modelRun/tozaot/machsan/OUTD2d03_3_0100\n",
      "\t... reading /home/eden/testRun/modelRun/tozaot/machsan/OUTD2d03_3_0110\n",
      "\t... reading /home/eden/testRun/modelRun/tozaot/machsan/OUTD2d03_3_0120\n",
      "\t... reading /home/eden/testRun/modelRun/tozaot/machsan/OUTD2d03_3_0130\n",
      "\t... reading /home/eden/testRun/modelRun/tozaot/machsan/OUTD2d03_3_0140\n",
      "\t... reading /home/eden/testRun/modelRun/tozaot/machsan/OUTD2d03_3_0150\n",
      "\t... reading /home/eden/testRun/modelRun/tozaot/machsan/OUTD2d03_3_0160\n",
      "\t... reading /home/eden/testRun/modelRun/tozaot/machsan/OUTD2d03_3_0170\n",
      "\t... reading /home/eden/testRun/modelRun/tozaot/machsan/OUTD2d03_3_0180\n",
      "\t... reading /home/eden/testRun/modelRun/tozaot/machsan/OUTD2d03_3_0190\n",
      "\t... reading /home/eden/testRun/modelRun/tozaot/machsan/OUTD2d03_3_0200\n",
      "\t... reading /home/eden/testRun/modelRun/tozaot/machsan/OUTD2d03_3_0210\n",
      "\t... reading /home/eden/testRun/modelRun/tozaot/machsan/OUTD2d03_3_0220\n",
      "\t... reading /home/eden/testRun/modelRun/tozaot/machsan/OUTD2d03_3_0230\n",
      "\t... reading /home/eden/testRun/modelRun/tozaot/machsan/OUTD2d03_3_0240\n",
      "\t... reading /home/eden/testRun/modelRun/tozaot/machsan/OUTD2d03_3_0250\n",
      "\t... reading /home/eden/testRun/modelRun/tozaot/machsan/OUTD2d03_3_0260\n",
      "\t... reading /home/eden/testRun/modelRun/tozaot/machsan/OUTD2d03_3_0270\n",
      "\t... reading /home/eden/testRun/modelRun/tozaot/machsan/OUTD2d03_3_0280\n",
      "\t... reading /home/eden/testRun/modelRun/tozaot/machsan/OUTD2d03_3_0290\n",
      "\t... reading /home/eden/testRun/modelRun/tozaot/machsan/OUTD2d03_3_0300\n"
     ]
    }
   ],
   "source": [
    "saveDir = '/home/eden/testRun'\n",
    "to_xarray = True\n",
    "to_database = False\n",
    "chosen_temp.run(saveDir=saveDir,\n",
    "                to_xarray=to_xarray,\n",
    "                to_database=to_database\n",
    "               )"
   ]
  }
 ],
 "metadata": {
  "kernelspec": {
   "display_name": "Python 3",
   "language": "python",
   "name": "python3"
  },
  "language_info": {
   "codemirror_mode": {
    "name": "ipython",
    "version": 3
   },
   "file_extension": ".py",
   "mimetype": "text/x-python",
   "name": "python",
   "nbconvert_exporter": "python",
   "pygments_lexer": "ipython3",
   "version": "3.6.5"
  }
 },
 "nbformat": 4,
 "nbformat_minor": 4
}
