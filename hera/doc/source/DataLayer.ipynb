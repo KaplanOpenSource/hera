{
 "cells": [
  {
   "cell_type": "markdown",
   "id": "26069857-3833-4297-a6fe-0acf3163ea91",
   "metadata": {},
   "source": [
    "<font size=\"+3\">Datalayer</font>\n",
    "\n",
    "# Overview\n",
    "\n",
    "The Hera datalayer serves as a datalake, utilizing MongoDB to store metadata that describes data properties and links to corresponding data files. Due to the extensive nature of data generated from measurements or simulations, it's common to store data on disk while retaining only metadata in the database. Each database entry, termed a 'document,' represents a singular data piece (pandas, dask, xarray, or any other data) associated with a specific project, requiring the specification of a project name during the addition of a document to the database.\n",
    "\n",
    "As MongoDB is a NoSQL database, metadata for each data piece is presented in JSON format, creating a hierarchical data structure. Users can query data pieces based on the JSON structure, specifying queries using the [MongoEngine query language](https://docs.mongoengine.org/guide/querying.html).\n",
    "\n",
    "In basic usage, users add data documents to the database by providing metadata and specifying the data path. Upon addition, users define the data format. This definition allows users to employ the `getData()` method, enabling them to load the data while considering the data format for suitable loading strategies.\n",
    "\n",
    "\n",
    "Each record denotes a piece of data from various sources. For simplicity, we define three distinct types of data documents:\n",
    "\n",
    "<table>\n",
    "  <tr>\n",
    "      <th>Document kind</th>\n",
    "    <th>Description</th>\n",
    "  </tr>\n",
    "  <tr>\n",
    "    <td><b>Measurments</b></td>\n",
    "    <td>Document references data from measurements or external data</td>\n",
    "  </tr>\n",
    "  <tr>\n",
    "      <td><b>Simulations</b></td>\n",
    "      <td>Document references data from simulations</td>      \n",
    "    </tr>\n",
    "  <tr>\n",
    "      <td><b>Cache</b></td>\n",
    "    <td>Document references data after computation (either measurement or simulaiton data)</td>\n",
    "  </tr>\n",
    "</table>\n",
    "\n",
    "Each document holds the following properties: \n",
    "<table>\n",
    "  <tr>\n",
    "      <th>Property name</th>\n",
    "    <th>Description</th>\n",
    "  </tr>\n",
    "  <tr>\n",
    "    <td><b>projectName</b></td>\n",
    "    <td>The term used to identify the project to which a particular piece of information belongs.</td>\n",
    "  </tr>\n",
    "  <tr>\n",
    "      <td><b>type</b></td>\n",
    "      <td>A user-define string to identify the data</td>      \n",
    "    </tr>\n",
    "  <tr>\n",
    "    <td><b>dataFormat</b></td>\n",
    "    <td>The format of the data the document stores</td>\n",
    "  </tr>\n",
    "  <tr>\n",
    "    <td><b>resource</b></td>\n",
    "    <td>The resource that the document holds (for example the path to the file)</td>\n",
    "  </tr>\n",
    "\n",
    "</table>\n",
    "\n",
    "\n",
    "<p style=\"text-align:center;\"><img src=\"Hera-DB.png\"  style=\"max-width: 75%;\"/></p>\n",
    "\n",
    "\n",
    "Each user has its own database that stores documents, but it is also possible to access\n",
    "a different databases."
   ]
  },
  {
   "cell_type": "markdown",
   "id": "9127ebad-594b-44f3-afa0-6bf62ac44054",
   "metadata": {},
   "source": [
    "<a id=\"setup\"></a>\n",
    "\n",
    "# Setup\n",
    "\n",
    "\n",
    "The database is configurated in the file \n",
    "`$HOME/.pyhera/config.json`. \n",
    "\n",
    "The structure of the config.json is\n",
    "\n",
    "```javascript\n",
    "{\n",
    "        <connection name 1> : {\n",
    "            \"dbIP\": \"DB IP\",\n",
    "            \"dbName\": \"...\",\n",
    "            \"password\": \"...\" ,\n",
    "            \"username\": \"...\"\n",
    "        },\n",
    "        <connection name 1> : {\n",
    "            \"dbIP\": \"DB IP\",\n",
    "            \"dbName\": \"...\",\n",
    "            \"password\": \"...\" ,\n",
    "            \"username\": \"...\"\n",
    "        }\n",
    "    }\n",
    "```\n",
    "\n",
    "The default connection is the **default with the linux user name**.\n",
    "It is possible to add other database connections. See below on how\n",
    "to access other databases."
   ]
  },
  {
   "cell_type": "markdown",
   "id": "10b179b2-a5bc-4794-a085-58ebd67f4016",
   "metadata": {},
   "source": [
    "# 10-minute tutorial\n",
    "\n",
    "This tutorial demonstrate how to store and retrieve data from the database\n",
    "with the default connection (the username of the linux system). \n",
    "Accesssing other connection is given in ... (TBD). \n",
    "\n",
    "First, lets create some mock-up data that we can store in the DB.   "
   ]
  },
  {
   "cell_type": "code",
   "execution_count": 1,
   "id": "b70a8203-4a69-463e-9cdf-e5a1ebc050bb",
   "metadata": {},
   "outputs": [
    {
     "name": "stdout",
     "output_type": "stream",
     "text": [
      "          x         y\n",
      "0 -2.326348  0.026652\n",
      "1 -2.279351  0.029698\n",
      "2 -2.232354  0.033020\n",
      "3 -2.185357  0.036632\n",
      "4 -2.138360  0.040550\n"
     ]
    }
   ],
   "source": [
    "import pandas\n",
    "import numpy\n",
    "from scipy.stats import norm\n",
    "\n",
    "x = numpy.linspace(norm.ppf(0.01), norm.ppf(0.99), 100)\n",
    "\n",
    "dataset1 = pandas.DataFrame(dict(x=x,y=norm.pdf(x,loc=0,scale=1)))\n",
    "dataset2 = pandas.DataFrame(dict(x=x,y=norm.pdf(x,loc=0,scale=0.5)))\n",
    "dataset3 = pandas.DataFrame(dict(x=x,y=norm.pdf(x,loc=0.5,scale=0.5)))\n",
    "\n",
    "print(dataset1.head())"
   ]
  },
  {
   "cell_type": "markdown",
   "id": "9c49816e-27be-4736-9aa6-6522b341fe07",
   "metadata": {},
   "source": [
    "Now that we have data, we can save it. We would like to keep the connection between the data and the parameters that generated it. \n",
    "So that:\n",
    "\n",
    "- **dataset1** is characterized by loc=0 and scale = 1 \n",
    "- **dataset2** is characterized by loc=0 and scale = 0.5 \n",
    "- **dataset3** is characterized by loc=0.5 and scale = 0.5\n",
    "\n",
    "Therefore, we will save the loc and scale in the metadata.\n",
    "\n",
    "Before we add the data to the DB, we need to save it to the disk"
   ]
  },
  {
   "cell_type": "code",
   "execution_count": 2,
   "id": "70666f47-cda0-4cd0-a4ea-1bfa1928b4e2",
   "metadata": {},
   "outputs": [],
   "source": [
    "import os \n",
    "\n",
    "# getting the work directory\n",
    "workingdir = os.path.join(os.path.abspath(os.getcwd()),\"examples\",\"datalayer\")\n",
    "\n",
    "dataset1File = os.path.join(workingdir,\"dataset1.parquet\")\n",
    "dataset2File = os.path.join(workingdir,\"dataset2.parquet\")\n",
    "dataset3File = os.path.join(workingdir,\"dataset3.parquet\")"
   ]
  },
  {
   "cell_type": "markdown",
   "id": "fdada61d-b6d2-44ba-87b0-cbe114a31602",
   "metadata": {},
   "source": [
    "Now we can save the dataset. We choose parquet for convinience, but it can be any other format."
   ]
  },
  {
   "cell_type": "code",
   "execution_count": 3,
   "id": "f93a8b0a-61be-44d0-88ed-0b3a287afd01",
   "metadata": {},
   "outputs": [],
   "source": [
    "dataset1.to_parquet(dataset1File,engine='fastparquet',compression='GZIP')\n",
    "dataset2.to_parquet(dataset2File,engine='fastparquet',compression='GZIP')\n",
    "dataset3.to_parquet(dataset3File,engine='fastparquet',compression='GZIP')"
   ]
  },
  {
   "cell_type": "markdown",
   "id": "a3484abd-5e02-4de5-b976-00d8118059a1",
   "metadata": {},
   "source": [
    "When we save the data to the database we need to define a project\n",
    "and specify the project name. \n",
    "\n",
    "To do so, we need to import the project and create it with its name. \n",
    "For this example we will use the name `ExampleProject`."
   ]
  },
  {
   "cell_type": "code",
   "execution_count": 4,
   "id": "a76d184c-21c9-4fb4-99b6-bd68a4622e0b",
   "metadata": {},
   "outputs": [],
   "source": [
    "from hera.datalayer import Project\n",
    "\n",
    "projectName = \"ExampleProject\"\n",
    "\n",
    "proj = Project(projectName=projectName)"
   ]
  },
  {
   "cell_type": "markdown",
   "id": "d274190e-cfc9-4eab-9d76-c9b36fe9133a",
   "metadata": {},
   "source": [
    "## Adding data to the MongoDB \n",
    "\n",
    "Next, we add the documents to the database. To do this, we must specify the 'type' of the documents. This type is user-defined and enables the user to query all documents of this type.\n",
    "\n",
    "For this example, we will add the data as a Measurement data. "
   ]
  },
  {
   "cell_type": "code",
   "execution_count": 5,
   "id": "00e24300-2530-4ffc-9c10-ff9ff4e53d51",
   "metadata": {},
   "outputs": [],
   "source": [
    "proj.addMeasurementsDocument( type=\"Distribution\",\n",
    "                             dataFormat=proj.datatypes.PARQUET,\n",
    "                             resource=dataset1File,\n",
    "                             desc=dict(loc=0,scale=1));\n",
    "\n",
    "proj.addMeasurementsDocument(type=\"Distribution\",\n",
    "                             dataFormat=proj.datatypes.PARQUET,\n",
    "                             resource=dataset2File,\n",
    "                             desc=dict(loc=0,scale=0.5));\n",
    "\n",
    "proj.addMeasurementsDocument(type=\"Distribution\",\n",
    "                             dataFormat=proj.datatypes.PARQUET,\n",
    "                             resource=dataset3File,\n",
    "                             desc=dict(loc=0.5,scale=0.5));"
   ]
  },
  {
   "cell_type": "markdown",
   "id": "3bd44ba4-99f8-4395-901b-f0667bb0e2ee",
   "metadata": {},
   "source": [
    "## Getting the data\n",
    "\n",
    "### Getting one record back\n",
    "Now we will query the database for all the records in which loc=0 and scale=1."
   ]
  },
  {
   "cell_type": "code",
   "execution_count": 6,
   "id": "c7366a5d-1c31-42ef-8137-859cc46defd1",
   "metadata": {},
   "outputs": [
    {
     "name": "stdout",
     "output_type": "stream",
     "text": [
      "The number of documents obtained from the query 1 \n"
     ]
    }
   ],
   "source": [
    "List1 = proj.getMeasurementsDocuments(loc=0,scale=1)\n",
    "\n",
    "print(f\"The number of documents obtained from the query {len(List1)} \")\n",
    "item0 = List1[0]"
   ]
  },
  {
   "cell_type": "markdown",
   "id": "665d4ca3-a53c-4d9f-be7c-bf2206708549",
   "metadata": {},
   "source": [
    "Note that for consistency the query always returns a list.\n",
    "\n",
    "The description of the record that matched the query is"
   ]
  },
  {
   "cell_type": "code",
   "execution_count": 7,
   "id": "3435df86-dc6d-4c10-b1c2-fdb31613c9bb",
   "metadata": {},
   "outputs": [
    {
     "name": "stdout",
     "output_type": "stream",
     "text": [
      "The description of dataset 1\n",
      "{\n",
      "    \"loc\": 0,\n",
      "    \"scale\": 1\n",
      "}\n"
     ]
    }
   ],
   "source": [
    "import json \n",
    "\n",
    "print(\"The description of dataset 1\")\n",
    "print(json.dumps(item0.desc, indent=4, sort_keys=True))"
   ]
  },
  {
   "cell_type": "markdown",
   "id": "1c729248-d01c-465b-a1e3-d3f11554d738",
   "metadata": {},
   "source": [
    "Now, we will extract the data.\n",
    "\n",
    "Using the getData on item0 will retrieve the data "
   ]
  },
  {
   "cell_type": "code",
   "execution_count": 8,
   "id": "e745dae4-6895-4b4e-a8bd-4ce5de17c869",
   "metadata": {},
   "outputs": [],
   "source": [
    "dataset1FromDB = item0.getData()"
   ]
  },
  {
   "cell_type": "markdown",
   "id": "a26c3940-14a8-40f7-90f1-a58857bbff3a",
   "metadata": {},
   "source": [
    "Since the data is parquet, the library automatically returns a dask.DataFrame, where \n",
    "the data is not loaded until it is computed. \n",
    "\n",
    "Alternatively, we can pass the usePandas flag. This flag is used only \n",
    "when the datatype is PARQUET. "
   ]
  },
  {
   "cell_type": "code",
   "execution_count": 9,
   "id": "be9d32a2-f23b-4649-b1e8-c1b356aa4ea0",
   "metadata": {},
   "outputs": [
    {
     "name": "stdout",
     "output_type": "stream",
     "text": [
      "           x         y\n",
      "0  -2.326348  0.026652\n",
      "1  -2.279351  0.029698\n",
      "2  -2.232354  0.033020\n",
      "3  -2.185357  0.036632\n",
      "4  -2.138360  0.040550\n",
      "..       ...       ...\n",
      "95  2.138360  0.040550\n",
      "96  2.185357  0.036632\n",
      "97  2.232354  0.033020\n",
      "98  2.279351  0.029698\n",
      "99  2.326348  0.026652\n",
      "\n",
      "[100 rows x 2 columns]\n"
     ]
    }
   ],
   "source": [
    "dataset1FromDB = item0.getData(usePandas=True)\n",
    "\n",
    "print(dataset1FromDB)"
   ]
  },
  {
   "cell_type": "markdown",
   "id": "59f280ba-74e0-4f0b-aa62-4adebf91a4d8",
   "metadata": {},
   "source": [
    "### Getting multiple records back\n",
    "\n",
    "The getMeasurementsDocuments returns all the records that match the criteria. \n",
    "\n",
    "Now, lets get all the records where loc=0"
   ]
  },
  {
   "cell_type": "code",
   "execution_count": 10,
   "id": "cd7a22e8-cd87-42a8-b234-1b927dbc0c6a",
   "metadata": {},
   "outputs": [
    {
     "name": "stdout",
     "output_type": "stream",
     "text": [
      "The number of documents obtained from the query 2 \n"
     ]
    }
   ],
   "source": [
    "List2 = proj.getMeasurementsDocuments(loc=0)\n",
    "\n",
    "print(f\"The number of documents obtained from the query {len(List2)} \")"
   ]
  },
  {
   "cell_type": "markdown",
   "id": "abffd20c-1ba5-42e2-88e6-f6e2b9c3bcda",
   "metadata": {},
   "source": [
    "As another example, let's retrieve all documents of the type 'Distribution'."
   ]
  },
  {
   "cell_type": "code",
   "execution_count": 11,
   "id": "c34d0342-d4d6-42e7-b535-506165738b42",
   "metadata": {},
   "outputs": [
    {
     "name": "stdout",
     "output_type": "stream",
     "text": [
      "The number of documents obtained from the query 3 \n"
     ]
    }
   ],
   "source": [
    "List3 = proj.getMeasurementsDocuments(type='Distribution')\n",
    "\n",
    "print(f\"The number of documents obtained from the query {len(List3)} \")"
   ]
  },
  {
   "cell_type": "markdown",
   "id": "879cdbbe-00d4-4a40-8832-9be2f9070f28",
   "metadata": {},
   "source": [
    "## Updating the data.\n",
    "The hera system holds the name of the file on the disk and loads the data from it. Therefore, if the datafile on the disk is overwitten, then the data of the record is changed\n",
    "\n",
    "Lets multiply dataset1 by factor 2. The file name is saved in the resource attribute.\n",
    "\n",
    "Note that if we just update the data and not the metadata, then we can use the resource property to \n",
    "save the new file. "
   ]
  },
  {
   "cell_type": "code",
   "execution_count": 12,
   "id": "2340e18b-c569-4335-9008-15f40ebbf7f8",
   "metadata": {},
   "outputs": [],
   "source": [
    "dataset1['y'] *=2\n",
    "dataset1FileName = item0.resource\n",
    "dataset1.to_parquet(dataset1FileName,engine='fastparquet',compression='GZIP',append=False)"
   ]
  },
  {
   "cell_type": "code",
   "execution_count": 13,
   "id": "ef00ad58-7fd5-4b8d-ad5f-b2e4f600f547",
   "metadata": {},
   "outputs": [
    {
     "name": "stdout",
     "output_type": "stream",
     "text": [
      "           x         y\n",
      "0  -2.326348  0.053304\n",
      "1  -2.279351  0.059397\n",
      "2  -2.232354  0.066040\n",
      "3  -2.185357  0.073264\n",
      "4  -2.138360  0.081099\n",
      "..       ...       ...\n",
      "95  2.138360  0.081099\n",
      "96  2.185357  0.073264\n",
      "97  2.232354  0.066040\n",
      "98  2.279351  0.059397\n",
      "99  2.326348  0.053304\n",
      "\n",
      "[100 rows x 2 columns]\n"
     ]
    }
   ],
   "source": [
    "dataset1FromDB = item0.getData().compute()\n",
    "print(dataset1FromDB)"
   ]
  },
  {
   "cell_type": "markdown",
   "id": "635d5b28-b18a-4872-a255-67aa9d6469dd",
   "metadata": {},
   "source": [
    "## Updating the metadata.\n",
    "\n",
    "Lets assume we want to add another property to the first record. To so we will update item0"
   ]
  },
  {
   "cell_type": "code",
   "execution_count": 14,
   "id": "44fa2d4b-4e36-4855-9bb6-001e74f10c9b",
   "metadata": {},
   "outputs": [],
   "source": [
    "item0.desc['new_attribute'] = \"some data\"\n",
    "item0.save();"
   ]
  },
  {
   "cell_type": "markdown",
   "id": "c4fb9deb-9e95-4790-9284-2b00e15cd271",
   "metadata": {},
   "source": [
    "Lets requery the database to see what is the data there. "
   ]
  },
  {
   "cell_type": "code",
   "execution_count": 15,
   "id": "6a330b00-4ff8-4324-a84f-7bf227c325d3",
   "metadata": {},
   "outputs": [
    {
     "name": "stdout",
     "output_type": "stream",
     "text": [
      "{\n",
      "    \"loc\": 0,\n",
      "    \"new_attribute\": \"some data\",\n",
      "    \"scale\": 1\n",
      "}\n"
     ]
    }
   ],
   "source": [
    "item0_fromdb = proj.getMeasurementsDocuments(loc=0,scale=1)[0]\n",
    "print(json.dumps(item0_fromdb.desc, indent=4, sort_keys=True))"
   ]
  },
  {
   "cell_type": "markdown",
   "id": "2e782c24-7fd3-4909-a35b-a3b5e27b2951",
   "metadata": {},
   "source": [
    "## Deleting the metadata entry.\n",
    "\n",
    "We delete the metadata records similarly to the way we add them\n",
    "\n",
    "The following will delete one record. The simplest method is to erase the document object. "
   ]
  },
  {
   "cell_type": "code",
   "execution_count": 16,
   "id": "8a1d0ed6-745e-4fb9-942e-b06c040cce5f",
   "metadata": {},
   "outputs": [],
   "source": [
    "item0.delete()"
   ]
  },
  {
   "cell_type": "markdown",
   "id": "dd88bd0d-1f97-428b-a448-d6c7cd87d2d2",
   "metadata": {},
   "source": [
    "Lets query the database again to see if the record was deleted. \n",
    "\n",
    "<div class=\"alert alert-block alert-warning\">\n",
    "Note that the file on the disk is not deleted by deleting the record in the DB. \n",
    "</div>"
   ]
  },
  {
   "cell_type": "code",
   "execution_count": 17,
   "id": "6918dfd3-c025-497c-96b8-39e117c158c8",
   "metadata": {},
   "outputs": [
    {
     "name": "stdout",
     "output_type": "stream",
     "text": [
      "The number of documents obtained from the query 0 \n"
     ]
    }
   ],
   "source": [
    "List1 = proj.getMeasurementsDocuments(loc=0,scale=1)\n",
    "\n",
    "print(f\"The number of documents obtained from the query {len(List1)} \")"
   ]
  },
  {
   "cell_type": "markdown",
   "id": "dedfa8ac-0d85-4544-9794-ddf739f12363",
   "metadata": {},
   "source": [
    "Another option is to delete the records using the Project interface. "
   ]
  },
  {
   "cell_type": "code",
   "execution_count": 18,
   "id": "e08e9cd0-caf3-4f01-9b94-4225b6af66e5",
   "metadata": {},
   "outputs": [],
   "source": [
    "deletedList1 = proj.deleteMeasurementsDocuments(loc=0)"
   ]
  },
  {
   "cell_type": "markdown",
   "id": "50a9256e-e78b-4814-a189-926cf0ea9338",
   "metadata": {},
   "source": [
    "Lets list all the data records that we deleted"
   ]
  },
  {
   "cell_type": "code",
   "execution_count": 19,
   "id": "d1255e1f-026f-45f5-8f11-a2e999f453cb",
   "metadata": {},
   "outputs": [
    {
     "name": "stdout",
     "output_type": "stream",
     "text": [
      "{\n",
      "    \"_cls\": \"Metadata.Measurements\",\n",
      "    \"_id\": {\n",
      "        \"$oid\": \"65a1bcfbf0190ae81334031a\"\n",
      "    },\n",
      "    \"dataFormat\": \"parquet\",\n",
      "    \"desc\": {\n",
      "        \"loc\": 0,\n",
      "        \"scale\": 0.5\n",
      "    },\n",
      "    \"projectName\": \"ExampleProject\",\n",
      "    \"resource\": \"/home/yehudaa/Development/hera/hera/doc/source/examples/datalayer/dataset2.parquet\",\n",
      "    \"type\": \"Distribution\"\n",
      "}\n"
     ]
    }
   ],
   "source": [
    "for doc in deletedList1:\n",
    "    print(json.dumps(doc, indent=4, sort_keys=True))"
   ]
  },
  {
   "cell_type": "markdown",
   "id": "045ef039-72c1-4b1f-baba-2b3cb2046e97",
   "metadata": {},
   "source": [
    "## Deleting the data on the disk \n",
    "\n",
    "Now we can erase the file from the disk. It is saved in the resource property"
   ]
  },
  {
   "cell_type": "code",
   "execution_count": 20,
   "id": "1bc5633e-df2e-4005-8f7f-23f8eef227f8",
   "metadata": {},
   "outputs": [],
   "source": [
    "import shutil\n",
    "\n",
    "for doc in deletedList1:\n",
    "    if os.path.isfile(doc['resource']):\n",
    "          os.remove(doc['resource'])\n",
    "    else:\n",
    "        shutil.rmtree(doc['resource'])"
   ]
  },
  {
   "cell_type": "markdown",
   "id": "64a864c7-93e9-447f-b83c-4c5c93ba69a7",
   "metadata": {},
   "source": [
    "## Delete all the metadata records \n",
    "\n",
    "A simple way to delete all the records (be careful)"
   ]
  },
  {
   "cell_type": "code",
   "execution_count": 21,
   "id": "6565706f-35cb-4ad5-9b8a-78a758864b0f",
   "metadata": {},
   "outputs": [
    {
     "data": {
      "text/plain": [
       "[None]"
      ]
     },
     "execution_count": 21,
     "metadata": {},
     "output_type": "execute_result"
    }
   ],
   "source": [
    "[x.delete() for x in proj.getMeasurementsDocuments(type=\"Distribution\")]"
   ]
  },
  {
   "cell_type": "code",
   "execution_count": null,
   "id": "fa8e86fa-dd18-45a8-b120-133842e11f80",
   "metadata": {},
   "outputs": [],
   "source": []
  }
 ],
 "metadata": {
  "kernelspec": {
   "display_name": "Python 3 (ipykernel)",
   "language": "python",
   "name": "python3"
  },
  "language_info": {
   "codemirror_mode": {
    "name": "ipython",
    "version": 3
   },
   "file_extension": ".py",
   "mimetype": "text/x-python",
   "name": "python",
   "nbconvert_exporter": "python",
   "pygments_lexer": "ipython3",
   "version": "3.9.18"
  },
  "toc-autonumbering": true,
  "toc-showmarkdowntxt": false
 },
 "nbformat": 4,
 "nbformat_minor": 5
}
