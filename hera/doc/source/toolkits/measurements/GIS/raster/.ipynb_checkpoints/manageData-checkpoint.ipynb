{
 "cells": [
  {
   "cell_type": "markdown",
   "metadata": {},
   "source": [
    "# Manage data\n",
    "\n",
    "Images of regions may be loaded to the database or rerieved from it, and later presented using the region's coordinates.\n",
    "\n",
    "## Loading new data\n",
    "\n",
    "New data may be loaded to the database.\n",
    "The loading function recieves either the name of the image file or the image data as the input data.\n",
    "The bounds coordinates of the image must be delivered as the extent parameter.\n",
    "The extent recieved either a list or a dict, in the structure that is demonstrated below.\n",
    "The region name may be set using a parameter, otherwise the name of the file is saved as the region name.\n",
    "For example, we will load an image of Katsrin to the database:"
   ]
  },
  {
   "cell_type": "code",
   "execution_count": 3,
   "metadata": {},
   "outputs": [
    {
     "name": "stdout",
     "output_type": "stream",
     "text": [
      "Directory is not given, tries to load from default or using the current directory\n",
      "Using /raid/users/ofir/Development/pyhera/hera/doc/source/toolkits/raster\n",
      "Toolkit Image in project documentation - Done\n"
     ]
    },
    {
     "data": {
      "text/plain": [
       "<hera.datalayer.document.metadataDocument.nonDBMetadataFrame at 0x7f1128b35d30>"
      ]
     },
     "execution_count": 3,
     "metadata": {},
     "output_type": "execute_result"
    }
   ],
   "source": [
    "from hera import toolkitHome\n",
    "import pandas\n",
    "import geopandas\n",
    "\n",
    "projectName = \"documentation\"\n",
    "toolkitName = \"GIS_Raster\"\n",
    "raster  = toolkitHome.getToolkit(projectName=projectName,toolkitName=toolkitName)\n",
    "\n",
    "extents = [259600,762000,269600,772000] # or,\n",
    "extents = {\"minX\":259600, \"minY\":762000, \"maxX\":269600, \"maxY\":772000}\n",
    "\n",
    "loadedData = raster.loadData(fileNameOrData=\"Katsrin.png\", extents = extents, saveMode=\"DB_overwrite\", regionName=\"Katsrin\", additionalData=dict(units=\"ITM\"))\n",
    "loadedData"
   ]
  },
  {
   "cell_type": "markdown",
   "metadata": {},
   "source": [
    "## Getting stored data\n",
    "\n",
    "Stored images may be loaded using their names:"
   ]
  },
  {
   "cell_type": "code",
   "execution_count": 4,
   "metadata": {},
   "outputs": [
    {
     "data": {
      "text/plain": [
       "array([[[0.38431373, 0.3764706 , 0.33333334, 1.        ],\n",
       "        [0.38431373, 0.3764706 , 0.33333334, 1.        ],\n",
       "        [0.38431373, 0.3764706 , 0.33333334, 1.        ],\n",
       "        ...,\n",
       "        [0.38431373, 0.3764706 , 0.33333334, 1.        ],\n",
       "        [0.38431373, 0.3764706 , 0.33333334, 1.        ],\n",
       "        [0.38431373, 0.3764706 , 0.33333334, 1.        ]],\n",
       "\n",
       "       [[0.3529412 , 0.34509805, 0.30980393, 1.        ],\n",
       "        [0.3529412 , 0.34509805, 0.30980393, 1.        ],\n",
       "        [0.3529412 , 0.34509805, 0.30980393, 1.        ],\n",
       "        ...,\n",
       "        [0.3529412 , 0.34509805, 0.30980393, 1.        ],\n",
       "        [0.3529412 , 0.34509805, 0.30980393, 1.        ],\n",
       "        [0.3529412 , 0.34509805, 0.30980393, 1.        ]],\n",
       "\n",
       "       [[0.34901962, 0.34117648, 0.30588236, 1.        ],\n",
       "        [0.34901962, 0.34117648, 0.30588236, 1.        ],\n",
       "        [0.34901962, 0.34117648, 0.30588236, 1.        ],\n",
       "        ...,\n",
       "        [0.34901962, 0.34117648, 0.30588236, 1.        ],\n",
       "        [0.34901962, 0.34117648, 0.30588236, 1.        ],\n",
       "        [0.34901962, 0.34117648, 0.30588236, 1.        ]],\n",
       "\n",
       "       ...,\n",
       "\n",
       "       [[0.4       , 0.06666667, 0.3372549 , 1.        ],\n",
       "        [0.4       , 0.06666667, 0.3372549 , 1.        ],\n",
       "        [0.4       , 0.06666667, 0.3372549 , 1.        ],\n",
       "        ...,\n",
       "        [0.17254902, 0.15686275, 0.13333334, 1.        ],\n",
       "        [0.1764706 , 0.16078432, 0.13725491, 1.        ],\n",
       "        [0.16862746, 0.15294118, 0.13333334, 1.        ]],\n",
       "\n",
       "       [[0.4       , 0.06666667, 0.3372549 , 1.        ],\n",
       "        [0.4       , 0.06666667, 0.3372549 , 1.        ],\n",
       "        [0.4       , 0.06666667, 0.3372549 , 1.        ],\n",
       "        ...,\n",
       "        [0.17254902, 0.15686275, 0.13333334, 1.        ],\n",
       "        [0.1764706 , 0.16078432, 0.13725491, 1.        ],\n",
       "        [0.16078432, 0.14509805, 0.1254902 , 1.        ]],\n",
       "\n",
       "       [[0.4       , 0.06666667, 0.3372549 , 1.        ],\n",
       "        [0.4       , 0.06666667, 0.3372549 , 1.        ],\n",
       "        [0.4       , 0.06666667, 0.3372549 , 1.        ],\n",
       "        ...,\n",
       "        [0.17254902, 0.15686275, 0.13333334, 1.        ],\n",
       "        [0.16470589, 0.14901961, 0.12941177, 1.        ],\n",
       "        [0.15294118, 0.13725491, 0.11372549, 1.        ]]], dtype=float32)"
      ]
     },
     "execution_count": 4,
     "metadata": {},
     "output_type": "execute_result"
    }
   ],
   "source": [
    "ZY = raster.getImage(regionName=\"Katsrin\").getData()\n",
    "ZY"
   ]
  },
  {
   "cell_type": "code",
   "execution_count": null,
   "metadata": {},
   "outputs": [],
   "source": []
  }
 ],
 "metadata": {
  "kernelspec": {
   "display_name": "Python 3",
   "language": "python",
   "name": "python3"
  },
  "language_info": {
   "codemirror_mode": {
    "name": "ipython",
    "version": 3
   },
   "file_extension": ".py",
   "mimetype": "text/x-python",
   "name": "python",
   "nbconvert_exporter": "python",
   "pygments_lexer": "ipython3",
   "version": "3.8.6"
  }
 },
 "nbformat": 4,
 "nbformat_minor": 4
}
