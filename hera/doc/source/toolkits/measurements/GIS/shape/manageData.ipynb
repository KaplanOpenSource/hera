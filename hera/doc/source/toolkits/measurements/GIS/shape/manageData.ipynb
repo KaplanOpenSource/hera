{
 "cells": [
  {
   "cell_type": "markdown",
   "metadata": {},
   "source": [
    "# Manage data\n",
    "\n",
    "geoJSON or geopandas structures that describe shape - a polygon, a point, a line, etc. - may be loaded and retrieved from the database.\n",
    "These shapes may be used for other GIS tools.\n",
    "\n",
    "## Loading new data\n",
    "\n",
    "New data may be loaded to the database.\n",
    "The loading function recieves either the name of the file or the data itself as a geodataframe/geoJSON as the input data.\n",
    "For example, we will generate a geopandas dataframe that describes a point at the center of Katsrin and load it to the database:"
   ]
  },
  {
   "cell_type": "code",
   "execution_count": 1,
   "metadata": {},
   "outputs": [],
   "source": [
    "from hera import toolkitHome\n",
    "import pandas\n",
    "import geopandas\n",
    "\n",
    "projectName = \"documentation\"\n",
    "toolkitName = toolkitHome.GIS_SHAPES\n",
    "shapes  = toolkitHome.getToolkit(projectName=projectName,toolkitName=toolkitName)\n",
    "\n",
    "location = \"KatsrinCenter\"\n",
    "data = pandas.DataFrame({\"Location\":[location],\"Longitude\":[264500],\"Latitude\":[766600]})\n",
    "geoData = geopandas.GeoDataFrame(data,geometry=geopandas.points_from_xy(data.Longitude,data.Latitude))\n",
    "\n",
    "loadedData = shapes.loadData(fileNameOrData=geoData, saveMode=\"DB_overwrite\", regionName=location, additionalData=dict(units=\"ITM\"))\n",
    "loadedData"
   ]
  },
  {
   "cell_type": "markdown",
   "metadata": {},
   "source": [
    "## Getting stored data\n",
    "\n",
    "Stored shapes may be loaded using their names:"
   ]
  },
  {
   "cell_type": "code",
   "execution_count": 3,
   "metadata": {},
   "outputs": [
    {
     "data": {
      "text/html": [
       "<div>\n",
       "<style scoped>\n",
       "    .dataframe tbody tr th:only-of-type {\n",
       "        vertical-align: middle;\n",
       "    }\n",
       "\n",
       "    .dataframe tbody tr th {\n",
       "        vertical-align: top;\n",
       "    }\n",
       "\n",
       "    .dataframe thead th {\n",
       "        text-align: right;\n",
       "    }\n",
       "</style>\n",
       "<table border=\"1\" class=\"dataframe\">\n",
       "  <thead>\n",
       "    <tr style=\"text-align: right;\">\n",
       "      <th></th>\n",
       "      <th>Latitude</th>\n",
       "      <th>Location</th>\n",
       "      <th>Longitude</th>\n",
       "      <th>geometry</th>\n",
       "    </tr>\n",
       "  </thead>\n",
       "  <tbody>\n",
       "    <tr>\n",
       "      <th>0</th>\n",
       "      <td>766600</td>\n",
       "      <td>KatsrinCenter</td>\n",
       "      <td>264500</td>\n",
       "      <td>POINT (264500.000 766600.000)</td>\n",
       "    </tr>\n",
       "  </tbody>\n",
       "</table>\n",
       "</div>"
      ],
      "text/plain": [
       "   Latitude       Location  Longitude                       geometry\n",
       "0    766600  KatsrinCenter     264500  POINT (264500.000 766600.000)"
      ]
     },
     "execution_count": 3,
     "metadata": {},
     "output_type": "execute_result"
    }
   ],
   "source": [
    "KatsrinCenter = shapes.getShape(regionName=location).getData()\n",
    "KatsrinCenter"
   ]
  }
 ],
 "metadata": {
  "kernelspec": {
   "display_name": "Python 3",
   "language": "python",
   "name": "python3"
  },
  "language_info": {
   "codemirror_mode": {
    "name": "ipython",
    "version": 3
   },
   "file_extension": ".py",
   "mimetype": "text/x-python",
   "name": "python",
   "nbconvert_exporter": "python",
   "pygments_lexer": "ipython3",
   "version": "3.8.6"
  }
 },
 "nbformat": 4,
 "nbformat_minor": 4
}
