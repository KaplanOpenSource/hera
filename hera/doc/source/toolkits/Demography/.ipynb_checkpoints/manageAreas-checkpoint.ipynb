{
 "cells": [
  {
   "cell_type": "markdown",
   "metadata": {},
   "source": [
    "# Manage Areas\n",
    "\n",
    "The demography tool helps managing GIS data which contains polygons and data about the population inside them.\n",
    "Its main use of the datalayer is loading the source data for a specific desired area.\n",
    "The desired area may be a new shapely polygon or an existing polygon in the database. When using an existing polygon we deliver its name (see \"shapes\" documentation).\n",
    "\n",
    "A source which includes data of Israel may be loaded to the database using hera-data:\n",
    "\n",
    "hera-data-load documentation Demography lamas\n",
    "\n",
    "In the next example we load the population in Haifa.\n",
    "The data is loaded from the examples directory; it was created using the marked command."
   ]
  },
  {
   "cell_type": "code",
   "execution_count": 1,
   "metadata": {},
   "outputs": [
    {
     "name": "stdout",
     "output_type": "stream",
     "text": [
      "Loading the Building Toolkit. FreeCAD not Found, cannot convert to STL\n"
     ]
    },
    {
     "data": {
      "text/html": [
       "<div>\n",
       "<style scoped>\n",
       "    .dataframe tbody tr th:only-of-type {\n",
       "        vertical-align: middle;\n",
       "    }\n",
       "\n",
       "    .dataframe tbody tr th {\n",
       "        vertical-align: top;\n",
       "    }\n",
       "\n",
       "    .dataframe thead th {\n",
       "        text-align: right;\n",
       "    }\n",
       "</style>\n",
       "<table border=\"1\" class=\"dataframe\">\n",
       "  <thead>\n",
       "    <tr style=\"text-align: right;\">\n",
       "      <th></th>\n",
       "      <th>areaFracti</th>\n",
       "      <th>total_pop</th>\n",
       "      <th>age_0_14</th>\n",
       "      <th>age_15_19</th>\n",
       "      <th>age_20_29</th>\n",
       "      <th>age_30_64</th>\n",
       "      <th>age_65_up</th>\n",
       "      <th>geometry</th>\n",
       "    </tr>\n",
       "  </thead>\n",
       "  <tbody>\n",
       "    <tr>\n",
       "      <th>0</th>\n",
       "      <td>1.000000</td>\n",
       "      <td>339.000000</td>\n",
       "      <td>84.000000</td>\n",
       "      <td>156.000000</td>\n",
       "      <td>24.000000</td>\n",
       "      <td>73.000000</td>\n",
       "      <td>2.000000</td>\n",
       "      <td>POLYGON ((196029.382 741394.846, 196038.943 74...</td>\n",
       "    </tr>\n",
       "    <tr>\n",
       "      <th>1</th>\n",
       "      <td>0.005485</td>\n",
       "      <td>4.332987</td>\n",
       "      <td>1.234079</td>\n",
       "      <td>0.197453</td>\n",
       "      <td>0.323603</td>\n",
       "      <td>1.914193</td>\n",
       "      <td>0.669145</td>\n",
       "      <td>POLYGON ((196178.480 740000.000, 196184.191 74...</td>\n",
       "    </tr>\n",
       "    <tr>\n",
       "      <th>2</th>\n",
       "      <td>0.521338</td>\n",
       "      <td>3.128030</td>\n",
       "      <td>1.042677</td>\n",
       "      <td>0.000000</td>\n",
       "      <td>0.000000</td>\n",
       "      <td>2.085353</td>\n",
       "      <td>0.000000</td>\n",
       "      <td>MULTIPOLYGON (((205000.000 745800.781, 204981....</td>\n",
       "    </tr>\n",
       "    <tr>\n",
       "      <th>3</th>\n",
       "      <td>0.243990</td>\n",
       "      <td>1.951923</td>\n",
       "      <td>0.487981</td>\n",
       "      <td>0.000000</td>\n",
       "      <td>0.000000</td>\n",
       "      <td>0.975962</td>\n",
       "      <td>0.487981</td>\n",
       "      <td>POLYGON ((205000.000 745019.966, 204995.832 74...</td>\n",
       "    </tr>\n",
       "    <tr>\n",
       "      <th>4</th>\n",
       "      <td>0.789863</td>\n",
       "      <td>3.949313</td>\n",
       "      <td>0.789863</td>\n",
       "      <td>0.000000</td>\n",
       "      <td>0.000000</td>\n",
       "      <td>2.369588</td>\n",
       "      <td>0.789863</td>\n",
       "      <td>MULTIPOLYGON (((204822.924 744808.173, 204819....</td>\n",
       "    </tr>\n",
       "    <tr>\n",
       "      <th>5</th>\n",
       "      <td>1.000000</td>\n",
       "      <td>65.000000</td>\n",
       "      <td>3.000000</td>\n",
       "      <td>0.000000</td>\n",
       "      <td>1.000000</td>\n",
       "      <td>7.000000</td>\n",
       "      <td>54.000000</td>\n",
       "      <td>POLYGON ((202070.008 744816.063, 202060.759 74...</td>\n",
       "    </tr>\n",
       "    <tr>\n",
       "      <th>6</th>\n",
       "      <td>1.000000</td>\n",
       "      <td>4.000000</td>\n",
       "      <td>0.000000</td>\n",
       "      <td>0.000000</td>\n",
       "      <td>0.000000</td>\n",
       "      <td>3.000000</td>\n",
       "      <td>1.000000</td>\n",
       "      <td>POLYGON ((202577.347 746521.683, 202559.989 74...</td>\n",
       "    </tr>\n",
       "    <tr>\n",
       "      <th>7</th>\n",
       "      <td>0.999377</td>\n",
       "      <td>0.999377</td>\n",
       "      <td>0.000000</td>\n",
       "      <td>0.000000</td>\n",
       "      <td>0.000000</td>\n",
       "      <td>0.999377</td>\n",
       "      <td>0.000000</td>\n",
       "      <td>POLYGON ((204851.142 745682.151, 204847.762 74...</td>\n",
       "    </tr>\n",
       "    <tr>\n",
       "      <th>8</th>\n",
       "      <td>1.000000</td>\n",
       "      <td>782.000000</td>\n",
       "      <td>180.000000</td>\n",
       "      <td>62.000000</td>\n",
       "      <td>135.000000</td>\n",
       "      <td>323.000000</td>\n",
       "      <td>82.000000</td>\n",
       "      <td>POLYGON ((202066.468 744819.772, 202065.199 74...</td>\n",
       "    </tr>\n",
       "    <tr>\n",
       "      <th>9</th>\n",
       "      <td>1.000000</td>\n",
       "      <td>1389.000000</td>\n",
       "      <td>296.000000</td>\n",
       "      <td>121.000000</td>\n",
       "      <td>243.000000</td>\n",
       "      <td>507.000000</td>\n",
       "      <td>222.000000</td>\n",
       "      <td>POLYGON ((200667.902 746307.603, 200668.462 74...</td>\n",
       "    </tr>\n",
       "  </tbody>\n",
       "</table>\n",
       "</div>"
      ],
      "text/plain": [
       "   areaFracti    total_pop    age_0_14   age_15_19   age_20_29   age_30_64  \\\n",
       "0    1.000000   339.000000   84.000000  156.000000   24.000000   73.000000   \n",
       "1    0.005485     4.332987    1.234079    0.197453    0.323603    1.914193   \n",
       "2    0.521338     3.128030    1.042677    0.000000    0.000000    2.085353   \n",
       "3    0.243990     1.951923    0.487981    0.000000    0.000000    0.975962   \n",
       "4    0.789863     3.949313    0.789863    0.000000    0.000000    2.369588   \n",
       "5    1.000000    65.000000    3.000000    0.000000    1.000000    7.000000   \n",
       "6    1.000000     4.000000    0.000000    0.000000    0.000000    3.000000   \n",
       "7    0.999377     0.999377    0.000000    0.000000    0.000000    0.999377   \n",
       "8    1.000000   782.000000  180.000000   62.000000  135.000000  323.000000   \n",
       "9    1.000000  1389.000000  296.000000  121.000000  243.000000  507.000000   \n",
       "\n",
       "    age_65_up                                           geometry  \n",
       "0    2.000000  POLYGON ((196029.382 741394.846, 196038.943 74...  \n",
       "1    0.669145  POLYGON ((196178.480 740000.000, 196184.191 74...  \n",
       "2    0.000000  MULTIPOLYGON (((205000.000 745800.781, 204981....  \n",
       "3    0.487981  POLYGON ((205000.000 745019.966, 204995.832 74...  \n",
       "4    0.789863  MULTIPOLYGON (((204822.924 744808.173, 204819....  \n",
       "5   54.000000  POLYGON ((202070.008 744816.063, 202060.759 74...  \n",
       "6    1.000000  POLYGON ((202577.347 746521.683, 202559.989 74...  \n",
       "7    0.000000  POLYGON ((204851.142 745682.151, 204847.762 74...  \n",
       "8   82.000000  POLYGON ((202066.468 744819.772, 202065.199 74...  \n",
       "9  222.000000  POLYGON ((200667.902 746307.603, 200668.462 74...  "
      ]
     },
     "execution_count": 1,
     "metadata": {},
     "output_type": "execute_result"
    }
   ],
   "source": [
    "from hera import toolkitHome\n",
    "import geopandas\n",
    "from shapely.geometry import Polygon\n",
    "\n",
    "projectName = \"documentation\"\n",
    "toolkitName = \"GIS_Demography\"\n",
    "Demography  = toolkitHome.getToolkit(projectName=projectName,toolkitName=toolkitName)\n",
    "\n",
    "\n",
    "HaifaPolygon = Polygon([[195000,740000],[195000,750000],[205000,750000],[205000,740000],[195000,740000]])\n",
    "# Haifa = Demography.analysis.calculatePopulationInPolygon(shapeNameOrData = HaifaPolygon, dataSourceOrData = \"lamas\", dataSourceVersion = \"1\")\n",
    "Haifa = geopandas.read_file(\"examples/Haifa\")\n",
    "Haifa.plot()\n",
    "Haifa[:10]"
   ]
  },
  {
   "cell_type": "markdown",
   "metadata": {},
   "source": [
    "The data is a geopandas of polygons. For each polygon, the amount of population in it is detailed. As can be seen, some of the polygons are cut, beacuse a part of them is outside the desired region. The fraction of their area within the region from their total area is given in the column areaFraction. The amount of population is the total amount of population in each polygon times its fraction.\n",
    "\n",
    "A can be seen, different populations are given by groups of ages. One can find information on specific types of population. To find out which types are available, we can view the population types defined here:"
   ]
  },
  {
   "cell_type": "code",
   "execution_count": 2,
   "metadata": {},
   "outputs": [
    {
     "data": {
      "text/plain": [
       "{'All': 'total_pop',\n",
       " 'Children': 'age_0_14',\n",
       " 'Youth': 'age_15_19',\n",
       " 'YoungAdults': 'age_20_29',\n",
       " 'Adults': 'age_30_64',\n",
       " 'Elderly': 'age_65_up'}"
      ]
     },
     "execution_count": 2,
     "metadata": {},
     "output_type": "execute_result"
    }
   ],
   "source": [
    "Demography.populationTypes"
   ]
  },
  {
   "cell_type": "markdown",
   "metadata": {},
   "source": [
    "Then, when we can deliver a specific type or a list of types to the function. If we are intersted in population in ages of under 14 or above 65, we may find it like this:"
   ]
  },
  {
   "cell_type": "code",
   "execution_count": 3,
   "metadata": {},
   "outputs": [],
   "source": [
    "# data = Demography.analysis.calculatePopulationInPolygon(shapeNameOrData = HaifaPolygon, \n",
    "#                                                         dataSourceOrData = \"lamas\", dataSourceVersion = \"1\", \n",
    "#                                                         populationTypes=[\"Children\",\"Elderly\"])"
   ]
  },
  {
   "cell_type": "markdown",
   "metadata": {},
   "source": [
    "## Populating an area\n",
    "\n",
    "The polygons of the public demography data describes the area of jurisdiction of cities in israel. However, that area might differ from the actual populated area. The demography tool has a function that “populates” a polygon or a multipolygon. It return a geodataframe whose geometry is the desired area, which holds the sum of all population polygons that intersect with it as its population.\n",
    "\n",
    "For example, if we are interested in the population of Katsrin, and we use the projectPolygonOnPopulation function, we get the this area of jurisdiction:"
   ]
  },
  {
   "cell_type": "code",
   "execution_count": 4,
   "metadata": {},
   "outputs": [
    {
     "data": {
      "text/html": [
       "<div>\n",
       "<style scoped>\n",
       "    .dataframe tbody tr th:only-of-type {\n",
       "        vertical-align: middle;\n",
       "    }\n",
       "\n",
       "    .dataframe tbody tr th {\n",
       "        vertical-align: top;\n",
       "    }\n",
       "\n",
       "    .dataframe thead th {\n",
       "        text-align: right;\n",
       "    }\n",
       "</style>\n",
       "<table border=\"1\" class=\"dataframe\">\n",
       "  <thead>\n",
       "    <tr style=\"text-align: right;\">\n",
       "      <th></th>\n",
       "      <th>areaFracti</th>\n",
       "      <th>total_pop</th>\n",
       "      <th>age_0_14</th>\n",
       "      <th>age_15_19</th>\n",
       "      <th>age_20_29</th>\n",
       "      <th>age_30_64</th>\n",
       "      <th>age_65_up</th>\n",
       "      <th>geometry</th>\n",
       "    </tr>\n",
       "  </thead>\n",
       "  <tbody>\n",
       "    <tr>\n",
       "      <th>0</th>\n",
       "      <td>0.678384</td>\n",
       "      <td>4834.840687</td>\n",
       "      <td>1155.965838</td>\n",
       "      <td>333.086401</td>\n",
       "      <td>716.373196</td>\n",
       "      <td>1946.961242</td>\n",
       "      <td>681.775627</td>\n",
       "      <td>POLYGON ((265868.601 767606.445, 266000.000 76...</td>\n",
       "    </tr>\n",
       "  </tbody>\n",
       "</table>\n",
       "</div>"
      ],
      "text/plain": [
       "   areaFracti    total_pop     age_0_14   age_15_19   age_20_29    age_30_64  \\\n",
       "0    0.678384  4834.840687  1155.965838  333.086401  716.373196  1946.961242   \n",
       "\n",
       "    age_65_up                                           geometry  \n",
       "0  681.775627  POLYGON ((265868.601 767606.445, 266000.000 76...  "
      ]
     },
     "execution_count": 4,
     "metadata": {},
     "output_type": "execute_result"
    },
    {
     "data": {
      "image/png": "[encoded data removed]",
      "text/plain": [
       "<Figure size 432x288 with 1 Axes>"
      ]
     },
     "metadata": {
      "needs_background": "light"
     },
     "output_type": "display_data"
    }
   ],
   "source": [
    "KatsrinPolygon = Polygon([[263000,765000],[263000,768000],[266000,768000],[266000,765000],[263000,765000]])\n",
    "# Katsrin = Demography.analysis.calculatePopulationInPolygon(shapeNameOrData = KatsrinPolygon, dataSourceOrData = \"lamas\", dataSourceVersion = \"1\")\n",
    "Katsrin = geopandas.read_file(\"examples/Katsrin\")\n",
    "Katsrin.plot()\n",
    "Katsrin"
   ]
  },
  {
   "cell_type": "markdown",
   "metadata": {},
   "source": [
    "We can create a dataframe of the buildings in this area, and “populate” it with the population data of the entire area of jurisdiction.\n",
    "We have to deliver a shape name, a region name or a dataframe of the buildings and a data source or a dataframe of the population."
   ]
  },
  {
   "cell_type": "code",
   "execution_count": 5,
   "metadata": {},
   "outputs": [
    {
     "data": {
      "text/html": [
       "<div>\n",
       "<style scoped>\n",
       "    .dataframe tbody tr th:only-of-type {\n",
       "        vertical-align: middle;\n",
       "    }\n",
       "\n",
       "    .dataframe tbody tr th {\n",
       "        vertical-align: top;\n",
       "    }\n",
       "\n",
       "    .dataframe thead th {\n",
       "        text-align: right;\n",
       "    }\n",
       "</style>\n",
       "<table border=\"1\" class=\"dataframe\">\n",
       "  <thead>\n",
       "    <tr style=\"text-align: right;\">\n",
       "      <th></th>\n",
       "      <th>geometry</th>\n",
       "      <th>total_pop</th>\n",
       "      <th>age_0_14</th>\n",
       "      <th>age_15_19</th>\n",
       "      <th>age_20_29</th>\n",
       "      <th>age_30_64</th>\n",
       "      <th>age_65_up</th>\n",
       "    </tr>\n",
       "  </thead>\n",
       "  <tbody>\n",
       "    <tr>\n",
       "      <th>0</th>\n",
       "      <td>POLYGON ((265566.948 765639.687, 265557.256 76...</td>\n",
       "      <td>4834.840687</td>\n",
       "      <td>1155.965838</td>\n",
       "      <td>333.086401</td>\n",
       "      <td>716.373196</td>\n",
       "      <td>1946.961242</td>\n",
       "      <td>681.775627</td>\n",
       "    </tr>\n",
       "  </tbody>\n",
       "</table>\n",
       "</div>"
      ],
      "text/plain": [
       "                                            geometry    total_pop  \\\n",
       "0  POLYGON ((265566.948 765639.687, 265557.256 76...  4834.840687   \n",
       "\n",
       "      age_0_14   age_15_19   age_20_29    age_30_64   age_65_up  \n",
       "0  1155.965838  333.086401  716.373196  1946.961242  681.775627  "
      ]
     },
     "execution_count": 5,
     "metadata": {},
     "output_type": "execute_result"
    },
    {
     "data": {
      "image/png": "[encoded data removed]",
      "text/plain": [
       "<Figure size 432x288 with 1 Axes>"
      ]
     },
     "metadata": {
      "needs_background": "light"
     },
     "output_type": "display_data"
    }
   ],
   "source": [
    "katsrinBuildings = geopandas.read_file(\"../Buildings/examples/Katsrin/BLDG.shp\")\n",
    "KatsrinCityOnly = Demography.analysis.createNewArea(shapeNameOrData=katsrinBuildings,dataSourceOrData=Katsrin).getData()\n",
    "KatsrinCityOnly.plot()\n",
    "KatsrinCityOnly"
   ]
  },
  {
   "cell_type": "markdown",
   "metadata": {},
   "source": [
    "If the shapeNameOrData describes buildings, as in our case, the function uses by default the largest convexed polygon found within the area, using buildings analysis.ConvexPolygons. If one desires to populate the polygons of the buildings themselves, it can be done this way:"
   ]
  },
  {
   "cell_type": "code",
   "execution_count": 6,
   "metadata": {},
   "outputs": [
    {
     "data": {
      "text/html": [
       "<div>\n",
       "<style scoped>\n",
       "    .dataframe tbody tr th:only-of-type {\n",
       "        vertical-align: middle;\n",
       "    }\n",
       "\n",
       "    .dataframe tbody tr th {\n",
       "        vertical-align: top;\n",
       "    }\n",
       "\n",
       "    .dataframe thead th {\n",
       "        text-align: right;\n",
       "    }\n",
       "</style>\n",
       "<table border=\"1\" class=\"dataframe\">\n",
       "  <thead>\n",
       "    <tr style=\"text-align: right;\">\n",
       "      <th></th>\n",
       "      <th>geometry</th>\n",
       "      <th>total_pop</th>\n",
       "      <th>age_0_14</th>\n",
       "      <th>age_15_19</th>\n",
       "      <th>age_20_29</th>\n",
       "      <th>age_30_64</th>\n",
       "      <th>age_65_up</th>\n",
       "    </tr>\n",
       "  </thead>\n",
       "  <tbody>\n",
       "    <tr>\n",
       "      <th>0</th>\n",
       "      <td>MULTIPOLYGON (((264411.690 765556.810, 264411....</td>\n",
       "      <td>4834.840687</td>\n",
       "      <td>1155.965838</td>\n",
       "      <td>333.086401</td>\n",
       "      <td>716.373196</td>\n",
       "      <td>1946.961242</td>\n",
       "      <td>681.775627</td>\n",
       "    </tr>\n",
       "  </tbody>\n",
       "</table>\n",
       "</div>"
      ],
      "text/plain": [
       "                                            geometry    total_pop  \\\n",
       "0  MULTIPOLYGON (((264411.690 765556.810, 264411....  4834.840687   \n",
       "\n",
       "      age_0_14   age_15_19   age_20_29    age_30_64   age_65_up  \n",
       "0  1155.965838  333.086401  716.373196  1946.961242  681.775627  "
      ]
     },
     "execution_count": 6,
     "metadata": {},
     "output_type": "execute_result"
    },
    {
     "data": {
      "image/png": "[encoded data removed]",
      "text/plain": [
       "<Figure size 432x288 with 1 Axes>"
      ]
     },
     "metadata": {
      "needs_background": "light"
     },
     "output_type": "display_data"
    }
   ],
   "source": [
    "KatsrinCityBuildings = Demography.analysis.createNewArea(shapeNameOrData=katsrinBuildings,dataSourceOrData=Katsrin, convex=False).getData()\n",
    "KatsrinCityBuildings.plot()\n",
    "KatsrinCityBuildings"
   ]
  },
  {
   "cell_type": "markdown",
   "metadata": {},
   "source": [
    "Now, this new population data may be used itself as the basic data for the calculatePopulationInPolygon function. Suppose that we want to find the population in a small polygon within Katsrin. We would like to use the polygon found above, instead of the entire area of jurisdiction. We can do it this way:"
   ]
  },
  {
   "cell_type": "code",
   "execution_count": 7,
   "metadata": {},
   "outputs": [
    {
     "data": {
      "text/html": [
       "<div>\n",
       "<style scoped>\n",
       "    .dataframe tbody tr th:only-of-type {\n",
       "        vertical-align: middle;\n",
       "    }\n",
       "\n",
       "    .dataframe tbody tr th {\n",
       "        vertical-align: top;\n",
       "    }\n",
       "\n",
       "    .dataframe thead th {\n",
       "        text-align: right;\n",
       "    }\n",
       "</style>\n",
       "<table border=\"1\" class=\"dataframe\">\n",
       "  <thead>\n",
       "    <tr style=\"text-align: right;\">\n",
       "      <th></th>\n",
       "      <th>geometry</th>\n",
       "      <th>areaFraction</th>\n",
       "      <th>total_pop</th>\n",
       "      <th>age_0_14</th>\n",
       "      <th>age_15_19</th>\n",
       "      <th>age_20_29</th>\n",
       "      <th>age_30_64</th>\n",
       "      <th>age_65_up</th>\n",
       "    </tr>\n",
       "  </thead>\n",
       "  <tbody>\n",
       "    <tr>\n",
       "      <th>0</th>\n",
       "      <td>POLYGON ((264000.000 766500.000, 264000.000 76...</td>\n",
       "      <td>0.099544</td>\n",
       "      <td>481.277358</td>\n",
       "      <td>115.06898</td>\n",
       "      <td>33.156613</td>\n",
       "      <td>71.310354</td>\n",
       "      <td>193.807495</td>\n",
       "      <td>67.866388</td>\n",
       "    </tr>\n",
       "  </tbody>\n",
       "</table>\n",
       "</div>"
      ],
      "text/plain": [
       "                                            geometry  areaFraction  \\\n",
       "0  POLYGON ((264000.000 766500.000, 264000.000 76...      0.099544   \n",
       "\n",
       "    total_pop   age_0_14  age_15_19  age_20_29   age_30_64  age_65_up  \n",
       "0  481.277358  115.06898  33.156613  71.310354  193.807495  67.866388  "
      ]
     },
     "execution_count": 7,
     "metadata": {},
     "output_type": "execute_result"
    },
    {
     "data": {
      "image/png": "[encoded data removed]",
      "text/plain": [
       "<Figure size 432x288 with 1 Axes>"
      ]
     },
     "metadata": {
      "needs_background": "light"
     },
     "output_type": "display_data"
    }
   ],
   "source": [
    "import matplotlib.pyplot as plt\n",
    "\n",
    "poly = Polygon([[264000,766500],[264000,767000],[264500,767000],[264500,766500]])\n",
    "KatsrinRectangle = Demography.analysis.calculatePopulationInPolygon(shapeNameOrData = poly, dataSourceOrData = KatsrinCityOnly, dataSourceVersion = \"1\")\n",
    "x,y = KatsrinCityOnly.geometry[0].exterior.xy\n",
    "fig, ax = plt.subplots()\n",
    "ax.plot(x,y)\n",
    "KatsrinRectangle.plot(ax=ax)\n",
    "KatsrinRectangle"
   ]
  }
 ],
 "metadata": {
  "kernelspec": {
   "display_name": "Python 3",
   "language": "python",
   "name": "python3"
  },
  "language_info": {
   "codemirror_mode": {
    "name": "ipython",
    "version": 3
   },
   "file_extension": ".py",
   "mimetype": "text/x-python",
   "name": "python",
   "nbconvert_exporter": "python",
   "pygments_lexer": "ipython3",
   "version": "3.6.5"
  }
 },
 "nbformat": 4,
 "nbformat_minor": 4
}
