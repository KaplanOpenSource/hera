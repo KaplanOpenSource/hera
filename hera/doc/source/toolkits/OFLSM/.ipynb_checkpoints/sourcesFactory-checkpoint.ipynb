{
 "cells": [
  {
   "cell_type": "markdown",
   "metadata": {},
   "source": [
    "# Sources Factory\n",
    "\n",
    "The sources factory tool is used to generate pandas dataframes with coordinates of particles.\n",
    "They may be used in building particles positions files which are needed for openfoam LSM simulations.\n",
    "\n",
    "For all models, one must deliver the x, y and z coordinates of the middle of the source, and the number of particles.\n",
    "Each type of source may require other additional parameters.\n",
    "\n",
    "A list of all available sources types can be viewed this way:"
   ]
  },
  {
   "cell_type": "code",
   "execution_count": 2,
   "metadata": {},
   "outputs": [
    {
     "data": {
      "text/plain": [
       "['Point', 'Circle', 'Sphere', 'Cylinder', 'Rectangle', 'HyperRectangle']"
      ]
     },
     "execution_count": 2,
     "metadata": {},
     "output_type": "execute_result"
    }
   ],
   "source": [
    "from hera.simulations.openFoam.LSM.sourcesFactoryTool import sourcesFactoryTool\n",
    "\n",
    "sources = sourcesFactoryTool()\n",
    "sources.sourcesList"
   ]
  },
  {
   "cell_type": "markdown",
   "metadata": {},
   "source": [
    "Sources are made using the next function:"
   ]
  },
  {
   "cell_type": "code",
   "execution_count": 3,
   "metadata": {},
   "outputs": [
    {
     "data": {
      "text/html": [
       "<div>\n",
       "<style scoped>\n",
       "    .dataframe tbody tr th:only-of-type {\n",
       "        vertical-align: middle;\n",
       "    }\n",
       "\n",
       "    .dataframe tbody tr th {\n",
       "        vertical-align: top;\n",
       "    }\n",
       "\n",
       "    .dataframe thead th {\n",
       "        text-align: right;\n",
       "    }\n",
       "</style>\n",
       "<table border=\"1\" class=\"dataframe\">\n",
       "  <thead>\n",
       "    <tr style=\"text-align: right;\">\n",
       "      <th></th>\n",
       "      <th>x</th>\n",
       "      <th>y</th>\n",
       "      <th>z</th>\n",
       "    </tr>\n",
       "  </thead>\n",
       "  <tbody>\n",
       "    <tr>\n",
       "      <th>0</th>\n",
       "      <td>1</td>\n",
       "      <td>2</td>\n",
       "      <td>3</td>\n",
       "    </tr>\n",
       "    <tr>\n",
       "      <th>1</th>\n",
       "      <td>1</td>\n",
       "      <td>2</td>\n",
       "      <td>3</td>\n",
       "    </tr>\n",
       "    <tr>\n",
       "      <th>2</th>\n",
       "      <td>1</td>\n",
       "      <td>2</td>\n",
       "      <td>3</td>\n",
       "    </tr>\n",
       "    <tr>\n",
       "      <th>3</th>\n",
       "      <td>1</td>\n",
       "      <td>2</td>\n",
       "      <td>3</td>\n",
       "    </tr>\n",
       "    <tr>\n",
       "      <th>4</th>\n",
       "      <td>1</td>\n",
       "      <td>2</td>\n",
       "      <td>3</td>\n",
       "    </tr>\n",
       "  </tbody>\n",
       "</table>\n",
       "</div>"
      ],
      "text/plain": [
       "   x  y  z\n",
       "0  1  2  3\n",
       "1  1  2  3\n",
       "2  1  2  3\n",
       "3  1  2  3\n",
       "4  1  2  3"
      ]
     },
     "execution_count": 3,
     "metadata": {},
     "output_type": "execute_result"
    }
   ],
   "source": [
    "x = 1 # x coordinate\n",
    "y = 2 # y coordinate\n",
    "z = 3 # z coordinate\n",
    "nParticles = 5 # number of particles\n",
    "sources.getSource(x = x, y = y, z = z, nParticles = nParticles)"
   ]
  },
  {
   "cell_type": "markdown",
   "metadata": {},
   "source": [
    "Now we will explore the available sources as of today:\n",
    "\n",
    "## Point\n",
    "\n",
    "Puts all particles at the same point; it requires no additional parameters.\n",
    "\n",
    "## Circle\n",
    "\n",
    "Distibutes the particles in a horizontal circle.\n",
    "Requries radius, and distribution type, which is optional.\n",
    "The default distribution type is \"uniform\". \n",
    "Additional types are \"normal\" and \"lognormal\".\n",
    "For these types, the radius is the sigma of the gaussian.\n",
    "For example:"
   ]
  },
  {
   "cell_type": "code",
   "execution_count": 4,
   "metadata": {},
   "outputs": [
    {
     "data": {
      "text/plain": [
       "Text(0.5, 1.0, 'normal')"
      ]
     },
     "execution_count": 4,
     "metadata": {},
     "output_type": "execute_result"
    }
   ],
   "source": [
    "import matplotlib.pyplot as plt\n",
    "\n",
    "x = 0 # x coordinate\n",
    "y = 0 # y coordinate\n",
    "radius = 1\n",
    "nParticles = 100000\n",
    "uniform = sources.getSource(x = x, y = y, z = z, nParticles = nParticles, type = \"Circle\", radius = radius, distribution = \"uniform\")\n",
    "normal = sources.getSource(x = x, y = y, z = z, nParticles = nParticles, type = \"Circle\", radius = radius, distribution = \"normal\")\n",
    "\n",
    "fig, axs = plt.subplots(1,2)\n",
    "axs[0].scatter(uniform.x,uniform.y)\n",
    "axs[0].set_title(\"uniform\")\n",
    "axs[1].scatter(normal.x,normal.y)\n",
    "axs[1].set_title(\"normal\")"
   ]
  },
  {
   "cell_type": "markdown",
   "metadata": {},
   "source": [
    "## Sphere\n",
    "\n",
    "Distibutes the particles in a sphere around the inserted coordinates.\n",
    "Requries radius, and distribution type, which is optional.\n",
    "The default distribution type is \"uniform\". \n",
    "Additional types are \"normal\" and \"lognormal\".\n",
    "For these types, the radius is the sigma of the gaussian."
   ]
  },
  {
   "cell_type": "code",
   "execution_count": 5,
   "metadata": {},
   "outputs": [
    {
     "data": {
      "text/plain": [
       "Text(0.5, 1.0, 'vertical slice')"
      ]
     },
     "execution_count": 5,
     "metadata": {},
     "output_type": "execute_result"
    },
    {
     "data": {
      "image/png": "[encoded data removed]",
      "text/plain": [
       "<Figure size 432x288 with 2 Axes>"
      ]
     },
     "metadata": {
      "needs_background": "light"
     },
     "output_type": "display_data"
    }
   ],
   "source": [
    "x = 0 # x coordinate\n",
    "y = 0 # y coordinate\n",
    "z = 10 # z coordinate\n",
    "radius = 1\n",
    "nParticles = 100000\n",
    "uniform = sources.getSource(x = x, y = y, z = z, nParticles = nParticles, type = \"Sphere\", radius = radius, distribution = \"uniform\")\n",
    "\n",
    "fig, axs = plt.subplots(1,2)\n",
    "axs[0].scatter(uniform.x,uniform.y)\n",
    "axs[0].set_title(\"horizontal slice\")\n",
    "axs[1].scatter(uniform.x,uniform.z)\n",
    "axs[1].set_title(\"vertical slice\")"
   ]
  },
  {
   "cell_type": "markdown",
   "metadata": {},
   "source": [
    "## Cylinder\n",
    "\n",
    "Distibutes the particles in a cylinder around the inserted coordinates.\n",
    "Requries radius, height, and horizontal and vertical distribution types, which are optional.\n",
    "The default distribution type is \"uniform\". \n",
    "Additional types are \"normal\" and \"lognormal\".\n",
    "For these types, the radius or height is the sigma of the gaussian."
   ]
  },
  {
   "cell_type": "code",
   "execution_count": 6,
   "metadata": {},
   "outputs": [
    {
     "data": {
      "text/plain": [
       "Text(0.5, 1.0, 'vertical slice')"
      ]
     },
     "execution_count": 6,
     "metadata": {},
     "output_type": "execute_result"
    },
    {
     "data": {
      "image/png": "[encoded data removed]",
      "text/plain": [
       "<Figure size 432x288 with 2 Axes>"
      ]
     },
     "metadata": {
      "needs_background": "light"
     },
     "output_type": "display_data"
    }
   ],
   "source": [
    "x = 0 # x coordinate\n",
    "y = 0 # y coordinate\n",
    "z = 10 # z coordinate\n",
    "radius = 1\n",
    "height = 5\n",
    "nParticles = 100000\n",
    "cylinder = sources.getSource(x = x, y = y, z = z, nParticles = nParticles, type = \"Cylinder\", height = height,\n",
    "                            radius = radius, horizontalDistribution = \"normal\", verticalDistribution = \"uniform\")\n",
    "\n",
    "fig, axs = plt.subplots(1,2)\n",
    "axs[0].scatter(cylinder.x,cylinder.y)\n",
    "axs[0].set_title(\"horizontal slice\")\n",
    "axs[1].scatter(cylinder.x,cylinder.z)\n",
    "axs[1].set_title(\"vertical slice\")"
   ]
  },
  {
   "cell_type": "markdown",
   "metadata": {},
   "source": [
    "## Rectangle\n",
    "\n",
    "Distibutes the particles in a horizontal recatngle whose middle point is the inserted coordinates.\n",
    "Requries lengthX and lengthY, which are length in two perpendicular directions.\n",
    "An optional parameter is rotateAngle, which is used in order to rotate the source in the xy plane."
   ]
  },
  {
   "cell_type": "code",
   "execution_count": 7,
   "metadata": {},
   "outputs": [
    {
     "data": {
      "text/plain": [
       "<matplotlib.collections.PathCollection at 0x7f7fefc321d0>"
      ]
     },
     "execution_count": 7,
     "metadata": {},
     "output_type": "execute_result"
    },
    {
     "data": {
      "image/png": "[encoded data removed]",
      "text/plain": [
       "<Figure size 432x288 with 1 Axes>"
      ]
     },
     "metadata": {
      "needs_background": "light"
     },
     "output_type": "display_data"
    }
   ],
   "source": [
    "import numpy\n",
    "\n",
    "lengthX = 2\n",
    "lengthY = 4\n",
    "rotateAngle = numpy.pi/4\n",
    "rectangle = sources.getSource(x = x, y = y, z = z, nParticles = nParticles, type = \"Rectangle\", lengthX = lengthX, lengthY = lengthY, rotateAngle = rotateAngle)\n",
    "plt.scatter(rectangle.x,rectangle.y)"
   ]
  },
  {
   "cell_type": "markdown",
   "metadata": {},
   "source": [
    "## hyperrectangle\n",
    "\n",
    "Distibutes the particles in a three dimensional whose middle point is the inserted coordinates.\n",
    "Requries lengthX, lengthZ and lengthZ, which are length in three perpendicular directions.\n",
    "An optional parameter is rotateAngle, which is used in order to rotate the source in the xy plane."
   ]
  },
  {
   "cell_type": "code",
   "execution_count": 9,
   "metadata": {},
   "outputs": [
    {
     "data": {
      "text/plain": [
       "Text(0.5, 1.0, 'vertical slice')"
      ]
     },
     "execution_count": 9,
     "metadata": {},
     "output_type": "execute_result"
    },
    {
     "data": {
      "image/png": "[encoded data removed]",
      "text/plain": [
       "<Figure size 432x288 with 2 Axes>"
      ]
     },
     "metadata": {
      "needs_background": "light"
     },
     "output_type": "display_data"
    }
   ],
   "source": [
    "lengthX = 2\n",
    "lengthY = 4\n",
    "lengthZ = 6\n",
    "rotateAngle = numpy.pi/4\n",
    "hyperRectangle = sources.getSource(x = x, y = y, z = z, nParticles = nParticles, type = \"HyperRectangle\",\n",
    "                                   lengthX = lengthX, lengthY = lengthY, lengthZ = lengthZ, rotateAngle = rotateAngle)\n",
    "fig, axs = plt.subplots(1,2)\n",
    "axs[0].scatter(hyperRectangle.x,hyperRectangle.y)\n",
    "axs[0].set_title(\"horizontal slice\")\n",
    "axs[1].scatter(hyperRectangle.x,hyperRectangle.z)\n",
    "axs[1].set_title(\"vertical slice\")"
   ]
  }
 ],
 "metadata": {
  "kernelspec": {
   "display_name": "Python 3",
   "language": "python",
   "name": "python3"
  },
  "language_info": {
   "codemirror_mode": {
    "name": "ipython",
    "version": 3
   },
   "file_extension": ".py",
   "mimetype": "text/x-python",
   "name": "python",
   "nbconvert_exporter": "python",
   "pygments_lexer": "ipython3",
   "version": "3.6.5"
  }
 },
 "nbformat": 4,
 "nbformat_minor": 4
}
