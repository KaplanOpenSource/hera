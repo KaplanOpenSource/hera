{
 "cells": [
  {
   "cell_type": "markdown",
   "metadata": {},
   "source": [
    "# Extract results\n",
    "\n",
    "## Getting the concentration\n",
    "\n",
    "The concentration is achieved using the following function:"
   ]
  },
  {
   "cell_type": "code",
   "execution_count": 2,
   "metadata": {},
   "outputs": [
    {
     "ename": "TypeError",
     "evalue": "'ToolkitHome' object is not callable",
     "output_type": "error",
     "traceback": [
      "\u001b[0;31m---------------------------------------------------------------------------\u001b[0m",
      "\u001b[0;31mTypeError\u001b[0m                                 Traceback (most recent call last)",
      "\u001b[0;32m<ipython-input-2-662df5bb2297>\u001b[0m in \u001b[0;36m<module>\u001b[0;34m\u001b[0m\n\u001b[1;32m      2\u001b[0m \u001b[0;32mfrom\u001b[0m \u001b[0mhera\u001b[0m \u001b[0;32mimport\u001b[0m \u001b[0mtoolkitHome\u001b[0m\u001b[0;34m\u001b[0m\u001b[0m\n\u001b[1;32m      3\u001b[0m \u001b[0;32mfrom\u001b[0m \u001b[0munum\u001b[0m\u001b[0;34m.\u001b[0m\u001b[0munits\u001b[0m \u001b[0;32mimport\u001b[0m \u001b[0;34m*\u001b[0m\u001b[0;34m\u001b[0m\u001b[0m\n\u001b[0;32m----> 4\u001b[0;31m \u001b[0mOFLSM\u001b[0m \u001b[0;34m=\u001b[0m \u001b[0mtoolkitHome\u001b[0m\u001b[0;34m(\u001b[0m\u001b[0mprojectName\u001b[0m\u001b[0;34m=\u001b[0m\u001b[0;34m\"documentation\"\u001b[0m\u001b[0;34m,\u001b[0m\u001b[0mtoolkitName\u001b[0m\u001b[0;34m=\u001b[0m\u001b[0mtoolkitHome\u001b[0m\u001b[0;34m.\u001b[0m\u001b[0mOF_LSM\u001b[0m\u001b[0;34m,\u001b[0m\u001b[0mcasePath\u001b[0m\u001b[0;34m=\u001b[0m\u001b[0;34m\"../Topography/examples/Carmel\"\u001b[0m\u001b[0;34m)\u001b[0m\u001b[0;34m\u001b[0m\u001b[0m\n\u001b[0m\u001b[1;32m      5\u001b[0m \u001b[0;34m\u001b[0m\u001b[0m\n\u001b[1;32m      6\u001b[0m Concentration = OFLSM.analysis.getConcentration(endTime=5,file=\"somedirectory/somefilename.parquet\",\n",
      "\u001b[0;31mTypeError\u001b[0m: 'ToolkitHome' object is not callable"
     ]
    }
   ],
   "source": [
    "from unum.units import *\n",
    "from hera import toolkitHome\n",
    "from unum.units import *\n",
    "OFLSM = toolkitHome.getToolkit(projectName=\"documentation\",toolkitName=toolkitHome.OF_LSM,casePath=\"../Topography/examples/Carmel\")\n",
    "\n",
    "Concentration = OFLSM.analysis.getConcentration(endTime=5,file=\"somedirectory/somefilename.parquet\",\n",
    "                                     startTime=1,Q=1*kg, dt=5*s,dx=10*m,dy=10*m, dz=10*m,\n",
    "                                     Qunits=mg,lengthUnits=m,timeUnits=s,nParticles=None, OFmass = False)"
   ]
  },
  {
   "cell_type": "markdown",
   "metadata": {},
   "source": [
    "endTime is the final time step to read.\n",
    "All other parameters are optional; the values above are the default value, except for file, whose default is None.\n",
    "\n",
    "Q is the total mass of the particles.\n",
    "In case of an instantaneous release, one should deliver a value in units of mass, as shown above.\n",
    "In case of a continueous release with constant rate, one may either deliver a value in units of mass or mass over time.\n",
    "If the units are of mass, this is the mass which is released every time step.\n",
    "If the units are mass over time, Q defines the rate of the release.\n",
    "In case of a continueous release which is not constant with time, one should deliver a list of values in units of mass,\n",
    "which is equal in length to the number of time steps.\n",
    "\n",
    "The dx, dy, dz, dt parameters are the dimensions of the cells and time steps that are used\n",
    "to calculate the concentration.\n",
    "The \"units\" parameters are the units of the concentration (Qunits/(lengthUnits**3)\n",
    "and time in the final dataframe.\n",
    "\n",
    "nParticles is the number of particles released in a single time step. If nParticles is None, the number of particles is found using the kinematicCloudPositions file;\n",
    "if the function can't find the file it may ask the user to deliver the number to the function.\n",
    "\n",
    "If save is set to True, the concentration is saved under the file parameter name.\n",
    "If this parameter is None, it is saved in the current working directory under the name \"Concentration.parquet\".\n",
    "If addToDB is True, the data is added to the database. Any aditional descriptors may be given as **kwargs.\n",
    "If OFmass is True, the concentration is calculated using the mass defined in the openFOAM simulation instead of the mass defined in the Q parameter.\n",
    "\n",
    "Loading positions and velocities\n",
    "--------------------------------\n",
    "\n",
    "The locations and velocities of the particles in an OpenFOAM LSM simulations are extracted\n",
    "to a dask dataframe using the following function:"
   ]
  },
  {
   "cell_type": "code",
   "execution_count": 7,
   "metadata": {},
   "outputs": [
    {
     "data": {
      "text/html": [
       "<div>\n",
       "<style scoped>\n",
       "    .dataframe tbody tr th:only-of-type {\n",
       "        vertical-align: middle;\n",
       "    }\n",
       "\n",
       "    .dataframe tbody tr th {\n",
       "        vertical-align: top;\n",
       "    }\n",
       "\n",
       "    .dataframe thead th {\n",
       "        text-align: right;\n",
       "    }\n",
       "</style>\n",
       "<table border=\"1\" class=\"dataframe\">\n",
       "  <thead>\n",
       "    <tr style=\"text-align: right;\">\n",
       "      <th></th>\n",
       "      <th>x</th>\n",
       "      <th>y</th>\n",
       "      <th>height</th>\n",
       "      <th>time</th>\n",
       "    </tr>\n",
       "  </thead>\n",
       "  <tbody>\n",
       "    <tr>\n",
       "      <th>249990</th>\n",
       "      <td>18.1303</td>\n",
       "      <td>250.205</td>\n",
       "      <td>1.36710</td>\n",
       "      <td>4.0</td>\n",
       "    </tr>\n",
       "    <tr>\n",
       "      <th>249991</th>\n",
       "      <td>21.6505</td>\n",
       "      <td>250.236</td>\n",
       "      <td>1.57966</td>\n",
       "      <td>4.0</td>\n",
       "    </tr>\n",
       "    <tr>\n",
       "      <th>249992</th>\n",
       "      <td>21.0623</td>\n",
       "      <td>248.666</td>\n",
       "      <td>2.27922</td>\n",
       "      <td>4.0</td>\n",
       "    </tr>\n",
       "    <tr>\n",
       "      <th>249993</th>\n",
       "      <td>23.4010</td>\n",
       "      <td>250.976</td>\n",
       "      <td>3.00719</td>\n",
       "      <td>4.0</td>\n",
       "    </tr>\n",
       "    <tr>\n",
       "      <th>249994</th>\n",
       "      <td>21.6852</td>\n",
       "      <td>248.954</td>\n",
       "      <td>2.25097</td>\n",
       "      <td>4.0</td>\n",
       "    </tr>\n",
       "    <tr>\n",
       "      <th>249995</th>\n",
       "      <td>19.9990</td>\n",
       "      <td>249.831</td>\n",
       "      <td>2.28184</td>\n",
       "      <td>4.0</td>\n",
       "    </tr>\n",
       "    <tr>\n",
       "      <th>249996</th>\n",
       "      <td>21.1248</td>\n",
       "      <td>248.809</td>\n",
       "      <td>1.26727</td>\n",
       "      <td>4.0</td>\n",
       "    </tr>\n",
       "    <tr>\n",
       "      <th>249997</th>\n",
       "      <td>21.2049</td>\n",
       "      <td>250.499</td>\n",
       "      <td>1.88155</td>\n",
       "      <td>4.0</td>\n",
       "    </tr>\n",
       "    <tr>\n",
       "      <th>249998</th>\n",
       "      <td>22.3177</td>\n",
       "      <td>250.480</td>\n",
       "      <td>3.08593</td>\n",
       "      <td>4.0</td>\n",
       "    </tr>\n",
       "    <tr>\n",
       "      <th>249999</th>\n",
       "      <td>20.9876</td>\n",
       "      <td>249.933</td>\n",
       "      <td>1.62650</td>\n",
       "      <td>4.0</td>\n",
       "    </tr>\n",
       "  </tbody>\n",
       "</table>\n",
       "</div>"
      ],
      "text/plain": [
       "              x        y   height  time\n",
       "249990  18.1303  250.205  1.36710   4.0\n",
       "249991  21.6505  250.236  1.57966   4.0\n",
       "249992  21.0623  248.666  2.27922   4.0\n",
       "249993  23.4010  250.976  3.00719   4.0\n",
       "249994  21.6852  248.954  2.25097   4.0\n",
       "249995  19.9990  249.831  2.28184   4.0\n",
       "249996  21.1248  248.809  1.26727   4.0\n",
       "249997  21.2049  250.499  1.88155   4.0\n",
       "249998  22.3177  250.480  3.08593   4.0\n",
       "249999  20.9876  249.933  1.62650   4.0"
      ]
     },
     "execution_count": 7,
     "metadata": {},
     "output_type": "execute_result"
    }
   ],
   "source": [
    "file = \"/home/ofir/Projects/2020/LSM/horizontal500000/results.parquet\"\n",
    "data = OFLSM.extractRunResult(times=[i for i in range(5)], withVelocities=True, file=file)\n",
    "data.compute()[-10:]"
   ]
  },
  {
   "cell_type": "markdown",
   "metadata": {},
   "source": [
    "All parameters are optional.\n",
    "times is a list of time steps to read, in this case, the first hundred.\n",
    "If it is not given, all time steps in the casePath are extracted.\n",
    "By default, only the positions of the particles are extracted.\n",
    "Their velocities may be extracted too by setting the withVelocities parameter to True.\n",
    "\n",
    "The save and addToDB parmaeters may be set to True in order to save the\n",
    "dataframe to the disc and add it to the database.\n",
    "The new file name and path may be given as the file paramters. The default path is the\n",
    "current working directory and the default name is \"Positions.parquet\".\n",
    "Any additional descriptors for the new document in the database may be given as **kwargs."
   ]
  }
 ],
 "metadata": {
  "kernelspec": {
   "display_name": "Python 3",
   "language": "python",
   "name": "python3"
  },
  "language_info": {
   "codemirror_mode": {
    "name": "ipython",
    "version": 3
   },
   "file_extension": ".py",
   "mimetype": "text/x-python",
   "name": "python",
   "nbconvert_exporter": "python",
   "pygments_lexer": "ipython3",
   "version": "3.6.5"
  }
 },
 "nbformat": 4,
 "nbformat_minor": 4
}
