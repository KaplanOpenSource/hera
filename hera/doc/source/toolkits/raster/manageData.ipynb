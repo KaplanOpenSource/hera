{
 "cells": [
  {
   "cell_type": "markdown",
   "metadata": {},
   "source": [
    "# Manage data\n",
    "\n",
    "Images of regions may be loaded to the database or rerieved from it, and later presented using the region's coordinates.\n",
    "\n",
    "## Loading new data\n",
    "\n",
    "New data may be loaded to the database.\n",
    "The loading function recieves either the name of the image file or the image data as the input data.\n",
    "The bounds coordinates of the image must be delivered as the extent parameter.\n",
    "The extent recieved either a list or a dict, in the structure that is demonstrated below.\n",
    "The region name may be set using a parameter, otherwise the name of the file is saved as the region name.\n",
    "For example, we will load an image of Katsrin to the database:"
   ]
  },
  {
   "cell_type": "code",
   "execution_count": 5,
   "metadata": {},
   "outputs": [
    {
     "name": "stdout",
     "output_type": "stream",
     "text": [
      "Directory is not given, tries to load from default or using the current directory\n",
      "Using /raid/users/ofir/Development/pyhera/hera/doc/source/toolkits/raster\n",
      "Toolkit Image in project documentation - Done\n"
     ]
    },
    {
     "data": {
      "text/plain": [
       "<Cache: Cache object>"
      ]
     },
     "execution_count": 5,
     "metadata": {},
     "output_type": "execute_result"
    }
   ],
   "source": [
    "from hera import toolkitHome\n",
    "import pandas\n",
    "import geopandas\n",
    "\n",
    "projectName = \"documentation\"\n",
    "toolkitName = toolkitHome.GIS_RASTER\n",
    "raster  = toolkitHome.getToolkit(projectName=projectName,toolkitName=toolkitName)\n",
    "\n",
    "extents = [259600,762000,269600,772000] # or,\n",
    "extents = {\"minX\":259600, \"minY\":762000, \"maxX\":269600, \"maxY\":772000}\n",
    "\n",
    "loadedData = raster.loadData(fileNameOrData=\"Katsrin.png\", extents = extents, saveMode=\"DB_overwrite\", regionName=\"Katsrin\", additionalData=dict(units=\"ITM\"))\n",
    "loadedData"
   ]
  },
  {
   "cell_type": "markdown",
   "metadata": {},
   "source": [
    "## Getting stored data\n",
    "\n",
    "Stored images may be loaded using their names:"
   ]
  },
  {
   "cell_type": "code",
   "execution_count": 6,
   "metadata": {},
   "outputs": [
    {
     "data": {
      "text/plain": [
       "array([[[0.41960785, 0.54901963, 0.49411765, 1.        ],\n",
       "        [0.4       , 0.54509807, 0.5137255 , 1.        ],\n",
       "        [0.40392157, 0.54509807, 0.5176471 , 1.        ],\n",
       "        ...,\n",
       "        [0.5019608 , 0.5058824 , 0.48235294, 1.        ],\n",
       "        [0.5137255 , 0.5176471 , 0.49411765, 1.        ],\n",
       "        [0.50980395, 0.5176471 , 0.49411765, 1.        ]],\n",
       "\n",
       "       [[0.41568628, 0.5529412 , 0.5019608 , 1.        ],\n",
       "        [0.39215687, 0.5411765 , 0.50980395, 1.        ],\n",
       "        [0.39607844, 0.5411765 , 0.50980395, 1.        ],\n",
       "        ...,\n",
       "        [0.5058824 , 0.5137255 , 0.49019608, 1.        ],\n",
       "        [0.50980395, 0.5176471 , 0.49411765, 1.        ],\n",
       "        [0.5019608 , 0.5137255 , 0.49019608, 1.        ]],\n",
       "\n",
       "       [[0.4       , 0.54509807, 0.49411765, 1.        ],\n",
       "        [0.38039216, 0.5411765 , 0.5058824 , 1.        ],\n",
       "        [0.3882353 , 0.5411765 , 0.50980395, 1.        ],\n",
       "        ...,\n",
       "        [0.5058824 , 0.5176471 , 0.49411765, 1.        ],\n",
       "        [0.5058824 , 0.52156866, 0.49803922, 1.        ],\n",
       "        [0.49019608, 0.5137255 , 0.4862745 , 1.        ]],\n",
       "\n",
       "       ...,\n",
       "\n",
       "       [[0.56078434, 0.54901963, 0.5176471 , 1.        ],\n",
       "        [0.58431375, 0.5803922 , 0.54509807, 1.        ],\n",
       "        [0.59607846, 0.6039216 , 0.56078434, 1.        ],\n",
       "        ...,\n",
       "        [0.6117647 , 0.6039216 , 0.56078434, 1.        ],\n",
       "        [0.6156863 , 0.6039216 , 0.56078434, 1.        ],\n",
       "        [0.6117647 , 0.5921569 , 0.54509807, 1.        ]],\n",
       "\n",
       "       [[0.54509807, 0.54509807, 0.50980395, 1.        ],\n",
       "        [0.5686275 , 0.5686275 , 0.5294118 , 1.        ],\n",
       "        [0.58431375, 0.5921569 , 0.54901963, 1.        ],\n",
       "        ...,\n",
       "        [0.5921569 , 0.6       , 0.56078434, 1.        ],\n",
       "        [0.6117647 , 0.6156863 , 0.5764706 , 1.        ],\n",
       "        [0.5764706 , 0.5764706 , 0.5372549 , 1.        ]],\n",
       "\n",
       "       [[0.5372549 , 0.5372549 , 0.5019608 , 1.        ],\n",
       "        [0.56078434, 0.5647059 , 0.5254902 , 1.        ],\n",
       "        [0.57254905, 0.5882353 , 0.5411765 , 1.        ],\n",
       "        ...,\n",
       "        [0.60784316, 0.6156863 , 0.5764706 , 1.        ],\n",
       "        [0.6039216 , 0.6156863 , 0.57254905, 1.        ],\n",
       "        [0.5411765 , 0.54509807, 0.5058824 , 1.        ]]], dtype=float32)"
      ]
     },
     "execution_count": 6,
     "metadata": {},
     "output_type": "execute_result"
    }
   ],
   "source": [
    "ZY = raster.getImage(regionName=\"Katsrin\").getData()\n",
    "ZY"
   ]
  },
  {
   "cell_type": "code",
   "execution_count": null,
   "metadata": {},
   "outputs": [],
   "source": []
  }
 ],
 "metadata": {
  "kernelspec": {
   "display_name": "Python 3",
   "language": "python",
   "name": "python3"
  },
  "language_info": {
   "codemirror_mode": {
    "name": "ipython",
    "version": 3
   },
   "file_extension": ".py",
   "mimetype": "text/x-python",
   "name": "python",
   "nbconvert_exporter": "python",
   "pygments_lexer": "ipython3",
   "version": "3.8.6"
  }
 },
 "nbformat": 4,
 "nbformat_minor": 4
}
