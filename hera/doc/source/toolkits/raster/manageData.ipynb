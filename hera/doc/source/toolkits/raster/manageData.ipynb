{
 "cells": [
  {
   "cell_type": "markdown",
   "metadata": {},
   "source": [
    "# Manage data\n",
    "\n",
    "Images of regions may be loaded to the database or rerieved from it, and later presented using the region's coordinates.\n",
    "\n",
    "## Loading new data\n",
    "\n",
    "New data may be loaded to the database.\n",
    "The loading function recieves either the name of the image file or the image data as the input data.\n",
    "The bounds coordinates of the image must be delivered as the extent parameter.\n",
    "The extent recieved either a list or a dict, in the structure that is demonstrated below.\n",
    "The region name may be set using a parameter, otherwise the name of the file is saved as the region name.\n",
    "For example, we will load an image of ___ to the database:"
   ]
  },
  {
   "cell_type": "code",
   "execution_count": 4,
   "metadata": {},
   "outputs": [
    {
     "ename": "FileNotFoundError",
     "evalue": "The image.png does not exist.",
     "output_type": "error",
     "traceback": [
      "\u001b[0;31m---------------------------------------------------------------------------\u001b[0m",
      "\u001b[0;31mFileNotFoundError\u001b[0m                         Traceback (most recent call last)",
      "\u001b[0;32m<ipython-input-4-ee1d16d2d123>\u001b[0m in \u001b[0;36m<module>\u001b[0;34m\u001b[0m\n\u001b[1;32m     10\u001b[0m \u001b[0mextents\u001b[0m \u001b[0;34m=\u001b[0m \u001b[0;34m{\u001b[0m\u001b[0;34m\"minX\"\u001b[0m\u001b[0;34m:\u001b[0m\u001b[0;36m263000\u001b[0m\u001b[0;34m,\u001b[0m \u001b[0;34m\"minY\"\u001b[0m\u001b[0;34m:\u001b[0m\u001b[0;36m765000\u001b[0m\u001b[0;34m,\u001b[0m \u001b[0;34m\"maxX\"\u001b[0m\u001b[0;34m:\u001b[0m\u001b[0;36m266000\u001b[0m\u001b[0;34m,\u001b[0m \u001b[0;34m\"maxY\"\u001b[0m\u001b[0;34m:\u001b[0m\u001b[0;36m768000\u001b[0m\u001b[0;34m}\u001b[0m\u001b[0;34m\u001b[0m\u001b[0m\n\u001b[1;32m     11\u001b[0m \u001b[0;34m\u001b[0m\u001b[0m\n\u001b[0;32m---> 12\u001b[0;31m \u001b[0mloadedData\u001b[0m \u001b[0;34m=\u001b[0m \u001b[0mraster\u001b[0m\u001b[0;34m.\u001b[0m\u001b[0mloadData\u001b[0m\u001b[0;34m(\u001b[0m\u001b[0mfileNameOrData\u001b[0m\u001b[0;34m=\u001b[0m\u001b[0;34m\"image.png\"\u001b[0m\u001b[0;34m,\u001b[0m \u001b[0mextents\u001b[0m \u001b[0;34m=\u001b[0m \u001b[0mextents\u001b[0m\u001b[0;34m,\u001b[0m \u001b[0msaveMode\u001b[0m\u001b[0;34m=\u001b[0m\u001b[0;34m\"DB_overwrite\"\u001b[0m\u001b[0;34m,\u001b[0m \u001b[0mregionName\u001b[0m\u001b[0;34m=\u001b[0m\u001b[0;34m\"\"\u001b[0m\u001b[0;34m,\u001b[0m \u001b[0madditionalData\u001b[0m\u001b[0;34m=\u001b[0m\u001b[0mdict\u001b[0m\u001b[0;34m(\u001b[0m\u001b[0munits\u001b[0m\u001b[0;34m=\u001b[0m\u001b[0;34m\"ITM\"\u001b[0m\u001b[0;34m)\u001b[0m\u001b[0;34m)\u001b[0m\u001b[0;34m\u001b[0m\u001b[0m\n\u001b[0m\u001b[1;32m     13\u001b[0m \u001b[0mloadedData\u001b[0m\u001b[0;34m\u001b[0m\u001b[0m\n",
      "\u001b[0;32m~/Development/Hera/hera/measurements/GIS/locations/raster.py\u001b[0m in \u001b[0;36mloadData\u001b[0;34m(self, fileNameOrData, extents, saveMode, regionName, additionalData)\u001b[0m\n\u001b[1;32m     87\u001b[0m                 \u001b[0mdata\u001b[0m \u001b[0;34m=\u001b[0m \u001b[0mmpimg\u001b[0m\u001b[0;34m.\u001b[0m\u001b[0mimread\u001b[0m\u001b[0;34m(\u001b[0m\u001b[0mos\u001b[0m\u001b[0;34m.\u001b[0m\u001b[0mpath\u001b[0m\u001b[0;34m.\u001b[0m\u001b[0mabspath\u001b[0m\u001b[0;34m(\u001b[0m\u001b[0mfileNameOrData\u001b[0m\u001b[0;34m)\u001b[0m\u001b[0;34m)\u001b[0m\u001b[0;34m\u001b[0m\u001b[0m\n\u001b[1;32m     88\u001b[0m             \u001b[0;32melse\u001b[0m\u001b[0;34m:\u001b[0m\u001b[0;34m\u001b[0m\u001b[0m\n\u001b[0;32m---> 89\u001b[0;31m                 \u001b[0;32mraise\u001b[0m \u001b[0mFileNotFoundError\u001b[0m\u001b[0;34m(\u001b[0m\u001b[0;34mf\"The {fileNameOrData} does not exist.\"\u001b[0m\u001b[0;34m)\u001b[0m\u001b[0;34m\u001b[0m\u001b[0m\n\u001b[0m\u001b[1;32m     90\u001b[0m \u001b[0;34m\u001b[0m\u001b[0m\n\u001b[1;32m     91\u001b[0m         \u001b[0;32melse\u001b[0m\u001b[0;34m:\u001b[0m\u001b[0;34m\u001b[0m\u001b[0m\n",
      "\u001b[0;31mFileNotFoundError\u001b[0m: The image.png does not exist."
     ]
    }
   ],
   "source": [
    "from hera import toolkitHome\n",
    "import pandas\n",
    "import geopandas\n",
    "\n",
    "projectName = \"documentation\"\n",
    "toolkitName = \"GIS_Raster\"\n",
    "raster  = toolkitHome.getToolkit(projectName=projectName,toolkitName=toolkitName)\n",
    "\n",
    "extents = [263000,765000,266000,768000] # or,\n",
    "extents = {\"minX\":263000, \"minY\":765000, \"maxX\":266000, \"maxY\":768000}\n",
    "\n",
    "loadedData = raster.loadData(fileNameOrData=\"image.png\", extents = extents, saveMode=\"DB_overwrite\", regionName=\"\", additionalData=dict(units=\"ITM\"))\n",
    "loadedData"
   ]
  },
  {
   "cell_type": "markdown",
   "metadata": {},
   "source": [
    "## Getting stored data\n",
    "\n",
    "Stored images may be loaded using their names:"
   ]
  },
  {
   "cell_type": "code",
   "execution_count": 6,
   "metadata": {},
   "outputs": [
    {
     "ename": "AttributeError",
     "evalue": "'NoneType' object has no attribute 'getData'",
     "output_type": "error",
     "traceback": [
      "\u001b[0;31m---------------------------------------------------------------------------\u001b[0m",
      "\u001b[0;31mAttributeError\u001b[0m                            Traceback (most recent call last)",
      "\u001b[0;32m<ipython-input-6-f8521c7d8773>\u001b[0m in \u001b[0;36m<module>\u001b[0;34m\u001b[0m\n\u001b[0;32m----> 1\u001b[0;31m \u001b[0mKatsrinCenter\u001b[0m \u001b[0;34m=\u001b[0m \u001b[0mraster\u001b[0m\u001b[0;34m.\u001b[0m\u001b[0mgetImage\u001b[0m\u001b[0;34m(\u001b[0m\u001b[0mregionName\u001b[0m\u001b[0;34m=\u001b[0m\u001b[0;34m\"\"\u001b[0m\u001b[0;34m)\u001b[0m\u001b[0;34m.\u001b[0m\u001b[0mgetData\u001b[0m\u001b[0;34m(\u001b[0m\u001b[0;34m)\u001b[0m\u001b[0;34m\u001b[0m\u001b[0m\n\u001b[0m\u001b[1;32m      2\u001b[0m \u001b[0mKatsrinCenter\u001b[0m\u001b[0;34m\u001b[0m\u001b[0m\n",
      "\u001b[0;31mAttributeError\u001b[0m: 'NoneType' object has no attribute 'getData'"
     ]
    }
   ],
   "source": [
    "KatsrinCenter = raster.getImage(regionName=\"\").getData()\n",
    "KatsrinCenter"
   ]
  },
  {
   "cell_type": "code",
   "execution_count": null,
   "metadata": {},
   "outputs": [],
   "source": []
  }
 ],
 "metadata": {
  "kernelspec": {
   "display_name": "Python 3",
   "language": "python",
   "name": "python3"
  },
  "language_info": {
   "codemirror_mode": {
    "name": "ipython",
    "version": 3
   },
   "file_extension": ".py",
   "mimetype": "text/x-python",
   "name": "python",
   "nbconvert_exporter": "python",
   "pygments_lexer": "ipython3",
   "version": "3.6.5"
  }
 },
 "nbformat": 4,
 "nbformat_minor": 4
}
