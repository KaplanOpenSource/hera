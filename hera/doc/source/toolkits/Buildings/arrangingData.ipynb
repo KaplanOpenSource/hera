{
 "cells": [
  {
   "cell_type": "markdown",
   "metadata": {},
   "source": [
    "# Arranging data\n",
    "\n",
    "Here we will demonstrate how to cut a desired region from a large data source, how to load new data to the database, and how to get saved data.\n",
    "\n",
    "## Cutting the desired region\n",
    "\n",
    "A source for the buildings tool's data is available in hera-data. It may be added to the current project using the next command:\n",
    "\n",
    "hera-data-load documentation Buildings BNTL\n",
    "\n",
    "Here, \"documentation\" is the project name, \"Buildings\" is the type of the data and \"BNTL\" is the source.\n",
    "\n",
    "The BNTL source holds data of whole Israel, which is too large to handle.\n",
    "Therefore, one usually has to cut a desired region from the source.\n",
    "This is done using the next procedure:"
   ]
  },
  {
   "cell_type": "code",
   "execution_count": 2,
   "metadata": {},
   "outputs": [],
   "source": [
    "# from hera import toolkitHome\n",
    "# projectName = \"documentation\"\n",
    "# toolkitName = \"GIS_Buildings\"\n",
    "# buildings  = toolkitHome.getToolkit(projectName=projectName,toolkitName=toolkitName)"
   ]
  },
  {
   "cell_type": "code",
   "execution_count": 3,
   "metadata": {},
   "outputs": [],
   "source": [
    "from hera.measurements.GIS.locations.buildings import BuildingsToolkit\n",
    "projectName = \"documentation\"\n",
    "FilesDirectory = \"New-Files-Directory\"\n",
    "buildings  = BuildingsToolkit(projectName=projectName,FilesDirectory=FilesDirectory)\n",
    "points = [263000,765000,266000,768000]\n",
    "regionName = \"Katsrin\"\n",
    "# KatsrinDoc = buildings.makeRegion(points=points, regionName=regionName, saveMode=None, dataSourceOrFile=\"BNTL\", dataSourceVersion=\"1\",additionalData=dict())"
   ]
  },
  {
   "cell_type": "markdown",
   "metadata": {},
   "source": [
    "The \"makeRegion\" function returns the name of the file of the new region if the saveMode doesn't include adding to the database.\n",
    "If the new file is added to the database, the function returns its document.\n",
    "\n",
    "The points parameter holds the coordinates of the bounds of the region. \n",
    "It may be a list, as demonstrated above, a geopandas dataframe, for which the bounds are used for the new region, or a dictionary\n",
    "of the following structure:"
   ]
  },
  {
   "cell_type": "code",
   "execution_count": 8,
   "metadata": {},
   "outputs": [],
   "source": [
    "points = {\"minX\":263000, \"minY\":765000, \"maxX\":266000, \"maxY\":768000}"
   ]
  },
  {
   "cell_type": "markdown",
   "metadata": {},
   "source": [
    "The regionName parameter is the name used to save the new file.\n",
    "The dataSourceOrFile and dataSourceVersion parameters are None by default, in which case the most updated version and source are used.\n",
    "For a specific source or version, the name of the source and version, as demonstrated above for source \"BNTL\" and version \"1\".\n",
    "The dataSourceOrFile may also be a direct path of a file from which the region may be cut.\n",
    "Currently, the only available file type for buildings is shapefile (shp).\n",
    "\n",
    "For instance,"
   ]
  },
  {
   "cell_type": "code",
   "execution_count": 9,
   "metadata": {},
   "outputs": [
    {
     "data": {
      "text/plain": [
       "'New-Files-Directory/KatsrinSmall'"
      ]
     },
     "execution_count": 9,
     "metadata": {},
     "output_type": "execute_result"
    }
   ],
   "source": [
    "points = {'minX': 264000, 'minY': 766000, 'maxX': 265000, 'maxY': 767000}\n",
    "regionName = \"KatsrinSmall\"\n",
    "KatsrinDoc = buildings.makeRegion(points=points, regionName=regionName, saveMode=None, dataSourceOrFile=\"examples/Katsrin/BLDG.shp\")\n",
    "KatsrinDoc"
   ]
  },
  {
   "cell_type": "markdown",
   "metadata": {},
   "source": [
    "Any additional descriptors of the data may be given in the additionalData parameter in dict format.\n",
    "These descriptors are saved to the database when the save mode includes saving to database.\n",
    "\n",
    "## Loading new data\n",
    "\n",
    "New data may be loaded to the database.\n",
    "The loading function recieves either the name of the file or the data itself as a geodataframe as the input data.\n",
    "For example:"
   ]
  },
  {
   "cell_type": "code",
   "execution_count": 5,
   "metadata": {},
   "outputs": [],
   "source": [
    "fileName = \"Saved-File-Directory\"\n",
    "saveMode = \"SaveMode\"\n",
    "descriptors = {} # any descriptors of the data\n",
    "# buildings.loadData(fileNameOrData = fileName, saveMode=saveMode, regionName=regionName, additionalData=descriptors)"
   ]
  },
  {
   "cell_type": "markdown",
   "metadata": {},
   "source": [
    "## Getting stored data\n",
    "\n",
    "Stored data may be loaded using the standard datalayer function:"
   ]
  },
  {
   "cell_type": "code",
   "execution_count": 6,
   "metadata": {},
   "outputs": [],
   "source": [
    "StoredData = buildings.getMeasurementsDocuments(**descriptors)"
   ]
  }
 ],
 "metadata": {
  "kernelspec": {
   "display_name": "Python 3",
   "language": "python",
   "name": "python3"
  },
  "language_info": {
   "codemirror_mode": {
    "name": "ipython",
    "version": 3
   },
   "file_extension": ".py",
   "mimetype": "text/x-python",
   "name": "python",
   "nbconvert_exporter": "python",
   "pygments_lexer": "ipython3",
   "version": "3.6.5"
  }
 },
 "nbformat": 4,
 "nbformat_minor": 4
}
