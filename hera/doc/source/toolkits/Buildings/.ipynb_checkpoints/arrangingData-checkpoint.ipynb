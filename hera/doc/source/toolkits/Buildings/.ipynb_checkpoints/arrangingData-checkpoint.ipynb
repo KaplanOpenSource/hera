{
 "cells": [
  {
   "cell_type": "markdown",
   "metadata": {},
   "source": [
    "# Arranging data\n",
    "\n",
    "Here we will demonstrate how to cut a desired region from a large data source, how to load new data to the database, and how to get saved data.\n",
    "\n",
    "## Cutting the desired region\n",
    "\n",
    "A source for the buildings tool's data is available in hera-data. It may be added to the current project using the next command:\n",
    "\n",
    "hera-data-load documentation Buildings BNTL\n",
    "\n",
    "Here, \"documentation\" is the project name, \"Buildings\" is the type of the data and \"BNTL\" is the source.\n",
    "\n",
    "The BNTL source holds data of whole Israel, which is too large to handle.\n",
    "Therefore, one usually has to cut a desired region from the source.\n",
    "This is done using the next procedure:"
   ]
  },
  {
   "cell_type": "code",
   "execution_count": 1,
   "metadata": {},
   "outputs": [
    {
     "name": "stdout",
     "output_type": "stream",
     "text": [
      "Loading the Building Toolkit. FreeCAD not Found, cannot convert to STL\n"
     ]
    }
   ],
   "source": [
    "from hera import toolkitHome\n",
    "import pandas\n",
    "import geopandas\n",
    "projectName = \"documentation\"\n",
    "toolkitName = \"GIS_Buildings\"\n",
    "buildings  = toolkitHome.getToolkit(projectName=projectName,toolkitName=toolkitName)\n",
    "points = [263000,765000,266000,768000]\n",
    "regionName = \"Katsrin\"\n",
    "# KatsrinDoc = buildings.makeRegion(points=points, regionName=regionName, saveMode=None, dataSourceOrFile=\"BNTL\", dataSourceVersion=\"1\",additionalData=dict())"
   ]
  },
  {
   "cell_type": "markdown",
   "metadata": {},
   "source": [
    "The \"makeRegion\" function returns the name of the file of the new region if the saveMode doesn't include adding to the database.\n",
    "If the new file is added to the database, the function returns its document.\n",
    "\n",
    "The points parameter holds the coordinates of the bounds of the region. \n",
    "It may be a list, as demonstrated above, a geopandas dataframe, for which the bounds are used for the new region, or a dictionary\n",
    "of the following structure:"
   ]
  },
  {
   "cell_type": "code",
   "execution_count": 2,
   "metadata": {},
   "outputs": [],
   "source": [
    "points = {\"minX\":263000, \"minY\":765000, \"maxX\":266000, \"maxY\":768000}"
   ]
  },
  {
   "cell_type": "markdown",
   "metadata": {},
   "source": [
    "The regionName parameter is the name used to save the new file.\n",
    "The dataSourceOrFile and dataSourceVersion parameters are None by default, in which case the most updated version and source are used.\n",
    "For a specific source or version, the name of the source and version, as demonstrated above for source \"BNTL\" and version \"1\".\n",
    "The dataSourceOrFile may also be a direct path of a file from which the region may be cut.\n",
    "Currently, the only available file type for buildings is shapefile (shp).\n",
    "\n",
    "For instance,"
   ]
  },
  {
   "cell_type": "code",
   "execution_count": 5,
   "metadata": {},
   "outputs": [
    {
     "data": {
      "text/plain": [
       "'/home/eyal/Development/Hera/hera/doc/source/toolkits/Buildings/KatsrinSmall'"
      ]
     },
     "execution_count": 5,
     "metadata": {},
     "output_type": "execute_result"
    }
   ],
   "source": [
    "points = {'minX': 264000, 'minY': 766000, 'maxX': 265000, 'maxY': 767000}\n",
    "regionName = \"KatsrinSmall\"\n",
    "KatsrinDoc = buildings.makeRegion(points=points, regionName=regionName, saveMode=\"DB_overwrite\", dataSourceOrFile=\"examples/Katsrin/BLDG.shp\")\n",
    "KatsrinDoc"
   ]
  },
  {
   "cell_type": "markdown",
   "metadata": {},
   "source": [
    "Any additional descriptors of the data may be given in the additionalData parameter in dict format.\n",
    "These descriptors are saved to the database when the save mode includes saving to database.\n",
    "\n",
    "A region may also be made using a saved shape in the database.\n",
    "For example, we will add a set of points around Katsrin to the database as documented at the shapes tool documentation, and use it to cut a region."
   ]
  },
  {
   "cell_type": "code",
   "execution_count": 7,
   "metadata": {},
   "outputs": [
    {
     "data": {
      "text/plain": [
       "'/home/eyal/Development/Hera/hera/doc/source/toolkits/Buildings/aroundKatsrin'"
      ]
     },
     "execution_count": 7,
     "metadata": {},
     "output_type": "execute_result"
    }
   ],
   "source": [
    "toolkitName = \"GIS_Shapes\"\n",
    "shapes  = toolkitHome.getToolkit(projectName=projectName,toolkitName=toolkitName)\n",
    "\n",
    "location = \"aroundKatsrin\"\n",
    "data = pandas.DataFrame({\"Location\":location,\"Longitude\":[263500,263500,265500,265500],\"Latitude\":[766600,767000,767000,766600]})\n",
    "geoData = geopandas.GeoDataFrame(data,geometry=geopandas.points_from_xy(data.Longitude,data.Latitude))\n",
    "loadedData = shapes.loadData(fileNameOrData=geoData, saveMode=\"DB_overwrite\", regionName=location, additionalData=dict(units=\"ITM\"))\n",
    "\n",
    "KatsrinDoc = buildings.makeRegionByShapeName(shapeNameOrArea=location, regionName=location, saveMode=None, dataSourceOrFile=\"examples/Katsrin/BLDG.shp\")\n",
    "KatsrinDoc"
   ]
  },
  {
   "cell_type": "markdown",
   "metadata": {},
   "source": [
    "## Loading new data\n",
    "\n",
    "New data may be loaded to the database.\n",
    "The loading function recieves either the name of the file or the data itself as a geodataframe as the input data.\n",
    "For example:"
   ]
  },
  {
   "cell_type": "code",
   "execution_count": 4,
   "metadata": {},
   "outputs": [],
   "source": [
    "fileName = \"Saved-File-Directory\"\n",
    "saveMode = \"SaveMode\"\n",
    "descriptors = {} # any descriptors of the data\n",
    "# buildings.loadData(fileNameOrData = fileName, saveMode=saveMode, regionName=regionName, additionalData=descriptors)"
   ]
  },
  {
   "cell_type": "markdown",
   "metadata": {},
   "source": [
    "## Getting stored data\n",
    "\n",
    "A list of existing regions is available using the next function:"
   ]
  },
  {
   "cell_type": "code",
   "execution_count": 2,
   "metadata": {},
   "outputs": [
    {
     "data": {
      "text/plain": [
       "['KatsrinSmall']"
      ]
     },
     "execution_count": 2,
     "metadata": {},
     "output_type": "execute_result"
    }
   ],
   "source": [
    "buildings.getRegionNameList()"
   ]
  },
  {
   "cell_type": "markdown",
   "metadata": {},
   "source": [
    "A region may be retrieved using its name:"
   ]
  },
  {
   "cell_type": "code",
   "execution_count": 3,
   "metadata": {},
   "outputs": [
    {
     "data": {
      "text/html": [
       "<div>\n",
       "<style scoped>\n",
       "    .dataframe tbody tr th:only-of-type {\n",
       "        vertical-align: middle;\n",
       "    }\n",
       "\n",
       "    .dataframe tbody tr th {\n",
       "        vertical-align: top;\n",
       "    }\n",
       "\n",
       "    .dataframe thead th {\n",
       "        text-align: right;\n",
       "    }\n",
       "</style>\n",
       "<table border=\"1\" class=\"dataframe\">\n",
       "  <thead>\n",
       "    <tr style=\"text-align: right;\">\n",
       "      <th></th>\n",
       "      <th>UNIQ_ID</th>\n",
       "      <th>PARENT</th>\n",
       "      <th>FCODE</th>\n",
       "      <th>FTYPE</th>\n",
       "      <th>HI_PNT_X</th>\n",
       "      <th>HI_PNT_Y</th>\n",
       "      <th>HI_PNT_Z</th>\n",
       "      <th>HEIGHT</th>\n",
       "      <th>HT_LAND</th>\n",
       "      <th>FNAME</th>\n",
       "      <th>...</th>\n",
       "      <th>BLDG_HT</th>\n",
       "      <th>ADDR_ID</th>\n",
       "      <th>ADDR_COUNT</th>\n",
       "      <th>USG_ID</th>\n",
       "      <th>CMPLX_ID</th>\n",
       "      <th>CMLX_FCD</th>\n",
       "      <th>ORIG_AREA</th>\n",
       "      <th>SHAPE_Leng</th>\n",
       "      <th>SHAPE_Area</th>\n",
       "      <th>geometry</th>\n",
       "    </tr>\n",
       "  </thead>\n",
       "  <tbody>\n",
       "    <tr>\n",
       "      <th>0</th>\n",
       "      <td>51705354</td>\n",
       "      <td>6623332</td>\n",
       "      <td>201</td>\n",
       "      <td>14</td>\n",
       "      <td>264683.406727</td>\n",
       "      <td>766218.483294</td>\n",
       "      <td>304.54</td>\n",
       "      <td>303.89</td>\n",
       "      <td>301.64</td>\n",
       "      <td>???? ??' 10</td>\n",
       "      <td>...</td>\n",
       "      <td>2.25</td>\n",
       "      <td>0</td>\n",
       "      <td>0</td>\n",
       "      <td>0</td>\n",
       "      <td>0</td>\n",
       "      <td>0</td>\n",
       "      <td>113.5775</td>\n",
       "      <td>42.574073</td>\n",
       "      <td>113.5775</td>\n",
       "      <td>POLYGON ((264678.690 766211.810, 264678.410 76...</td>\n",
       "    </tr>\n",
       "    <tr>\n",
       "      <th>1</th>\n",
       "      <td>51710246</td>\n",
       "      <td>856175</td>\n",
       "      <td>201</td>\n",
       "      <td>11</td>\n",
       "      <td>264526.982527</td>\n",
       "      <td>766864.337594</td>\n",
       "      <td>327.80</td>\n",
       "      <td>320.11</td>\n",
       "      <td>316.50</td>\n",
       "      <td>None</td>\n",
       "      <td>...</td>\n",
       "      <td>3.61</td>\n",
       "      <td>53493332</td>\n",
       "      <td>6</td>\n",
       "      <td>0</td>\n",
       "      <td>0</td>\n",
       "      <td>0</td>\n",
       "      <td>631.9991</td>\n",
       "      <td>132.488229</td>\n",
       "      <td>631.9991</td>\n",
       "      <td>POLYGON ((264533.190 766839.380, 264526.910 76...</td>\n",
       "    </tr>\n",
       "  </tbody>\n",
       "</table>\n",
       "<p>2 rows × 21 columns</p>\n",
       "</div>"
      ],
      "text/plain": [
       "    UNIQ_ID   PARENT  FCODE  FTYPE       HI_PNT_X       HI_PNT_Y  HI_PNT_Z  \\\n",
       "0  51705354  6623332    201     14  264683.406727  766218.483294    304.54   \n",
       "1  51710246   856175    201     11  264526.982527  766864.337594    327.80   \n",
       "\n",
       "   HEIGHT  HT_LAND        FNAME  ... BLDG_HT   ADDR_ID  ADDR_COUNT  USG_ID  \\\n",
       "0  303.89   301.64  ???? ??' 10  ...    2.25         0           0       0   \n",
       "1  320.11   316.50         None  ...    3.61  53493332           6       0   \n",
       "\n",
       "   CMPLX_ID  CMLX_FCD  ORIG_AREA  SHAPE_Leng  SHAPE_Area  \\\n",
       "0         0         0   113.5775   42.574073    113.5775   \n",
       "1         0         0   631.9991  132.488229    631.9991   \n",
       "\n",
       "                                            geometry  \n",
       "0  POLYGON ((264678.690 766211.810, 264678.410 76...  \n",
       "1  POLYGON ((264533.190 766839.380, 264526.910 76...  \n",
       "\n",
       "[2 rows x 21 columns]"
      ]
     },
     "execution_count": 3,
     "metadata": {},
     "output_type": "execute_result"
    }
   ],
   "source": [
    "buildings.getRegionByName(\"KatsrinSmall\")[:2]"
   ]
  },
  {
   "cell_type": "markdown",
   "metadata": {},
   "source": [
    "Regions may also be retrieved by points that they contain.\n",
    "The searched point should be a list/tuple of x/y coordinates or a shapely.geometry.Point."
   ]
  },
  {
   "cell_type": "code",
   "execution_count": 2,
   "metadata": {},
   "outputs": [
    {
     "data": {
      "text/plain": [
       "[<Measurements: Measurements object>]"
      ]
     },
     "execution_count": 2,
     "metadata": {},
     "output_type": "execute_result"
    }
   ],
   "source": [
    "point = [264500, 766500]\n",
    "\n",
    "buildings.getRegionDocumentByPoints(point=point)"
   ]
  }
 ],
 "metadata": {
  "kernelspec": {
   "display_name": "Python 3",
   "language": "python",
   "name": "python3"
  },
  "language_info": {
   "codemirror_mode": {
    "name": "ipython",
    "version": 3
   },
   "file_extension": ".py",
   "mimetype": "text/x-python",
   "name": "python",
   "nbconvert_exporter": "python",
   "pygments_lexer": "ipython3",
   "version": "3.8.6"
  }
 },
 "nbformat": 4,
 "nbformat_minor": 4
}
