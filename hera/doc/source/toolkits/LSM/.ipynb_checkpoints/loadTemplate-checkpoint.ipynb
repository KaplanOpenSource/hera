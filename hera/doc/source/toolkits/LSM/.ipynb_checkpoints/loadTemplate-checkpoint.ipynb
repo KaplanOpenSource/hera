{
 "cells": [
  {
   "cell_type": "markdown",
   "metadata": {},
   "source": [
    "# Load a template\n",
    "\n",
    "In order to use the LSM fortran code, we have to load a template from the database.\n",
    "The templates defer by their parameterization.\n",
    "The templates may be loaded to the project using hera-lsm:\n",
    "\n"
   ]
  }
 ],
 "metadata": {
  "kernelspec": {
   "display_name": "Python 3",
   "language": "python",
   "name": "python3"
  },
  "language_info": {
   "codemirror_mode": {
    "name": "ipython",
    "version": 3
   },
   "file_extension": ".py",
   "mimetype": "text/x-python",
   "name": "python",
   "nbconvert_exporter": "python",
   "pygments_lexer": "ipython3",
   "version": "3.6.5"
  }
 },
 "nbformat": 4,
 "nbformat_minor": 4
}
