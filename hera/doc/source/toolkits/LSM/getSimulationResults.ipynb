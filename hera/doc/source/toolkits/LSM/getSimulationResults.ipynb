{
 "cells": [
  {
   "cell_type": "markdown",
   "metadata": {},
   "source": [
    "# Get simulation results\n",
    "\n",
    "LSM simulation results may be extracted and handled using an LSMsimulation object.\n",
    "\n",
    "## Getting an LSMsimulation object\n",
    "\n",
    "A simulation may be loaded from the database, by quering its parameters.\n",
    "For example:"
   ]
  },
  {
   "cell_type": "code",
   "execution_count": 4,
   "metadata": {},
   "outputs": [
    {
     "data": {
      "text/plain": [
       "[]"
      ]
     },
     "execution_count": 4,
     "metadata": {},
     "output_type": "execute_result"
    }
   ],
   "source": [
    "from hera.simulations.LSM.toolkit import LSMToolkit\n",
    "\n",
    "LSM = LSMToolkit(projectName=\"documentation\")\n",
    "LSM.getSimulations(duration=1)"
   ]
  },
  {
   "cell_type": "markdown",
   "metadata": {},
   "source": [
    "A list of all available simulations in the DB is available using the next function:"
   ]
  },
  {
   "cell_type": "code",
   "execution_count": 5,
   "metadata": {},
   "outputs": [
    {
     "ename": "FileNotFoundError",
     "evalue": "No simulations found",
     "output_type": "error",
     "traceback": [
      "\u001b[0;31m---------------------------------------------------------------------------\u001b[0m",
      "\u001b[0;31mValueError\u001b[0m                                Traceback (most recent call last)",
      "\u001b[0;32m~/Development/Hera/hera/simulations/LSM/toolkit.py\u001b[0m in \u001b[0;36mlistSimulations\u001b[0;34m(self, wideFormat, **query)\u001b[0m\n\u001b[1;32m    263\u001b[0m         \u001b[0;32mtry\u001b[0m\u001b[0;34m:\u001b[0m\u001b[0;34m\u001b[0m\u001b[0m\n\u001b[0;32m--> 264\u001b[0;31m             \u001b[0mdf\u001b[0m \u001b[0;34m=\u001b[0m \u001b[0mpandas\u001b[0m\u001b[0;34m.\u001b[0m\u001b[0mconcat\u001b[0m\u001b[0;34m(\u001b[0m\u001b[0mnew_df_list\u001b[0m\u001b[0;34m)\u001b[0m\u001b[0;34m\u001b[0m\u001b[0m\n\u001b[0m\u001b[1;32m    265\u001b[0m             \u001b[0;32mif\u001b[0m \u001b[0mwideFormat\u001b[0m\u001b[0;34m:\u001b[0m\u001b[0;34m\u001b[0m\u001b[0m\n",
      "\u001b[0;32m/raid/opt/anaconda3/envs/Math-20-05/lib/python3.6/site-packages/pandas/core/reshape/concat.py\u001b[0m in \u001b[0;36mconcat\u001b[0;34m(objs, axis, join, join_axes, ignore_index, keys, levels, names, verify_integrity, sort, copy)\u001b[0m\n\u001b[1;32m    227\u001b[0m                        \u001b[0mverify_integrity\u001b[0m\u001b[0;34m=\u001b[0m\u001b[0mverify_integrity\u001b[0m\u001b[0;34m,\u001b[0m\u001b[0;34m\u001b[0m\u001b[0m\n\u001b[0;32m--> 228\u001b[0;31m                        copy=copy, sort=sort)\n\u001b[0m\u001b[1;32m    229\u001b[0m     \u001b[0;32mreturn\u001b[0m \u001b[0mop\u001b[0m\u001b[0;34m.\u001b[0m\u001b[0mget_result\u001b[0m\u001b[0;34m(\u001b[0m\u001b[0;34m)\u001b[0m\u001b[0;34m\u001b[0m\u001b[0m\n",
      "\u001b[0;32m/raid/opt/anaconda3/envs/Math-20-05/lib/python3.6/site-packages/pandas/core/reshape/concat.py\u001b[0m in \u001b[0;36m__init__\u001b[0;34m(self, objs, axis, join, join_axes, keys, levels, names, ignore_index, verify_integrity, copy, sort)\u001b[0m\n\u001b[1;32m    261\u001b[0m         \u001b[0;32mif\u001b[0m \u001b[0mlen\u001b[0m\u001b[0;34m(\u001b[0m\u001b[0mobjs\u001b[0m\u001b[0;34m)\u001b[0m \u001b[0;34m==\u001b[0m \u001b[0;36m0\u001b[0m\u001b[0;34m:\u001b[0m\u001b[0;34m\u001b[0m\u001b[0m\n\u001b[0;32m--> 262\u001b[0;31m             \u001b[0;32mraise\u001b[0m \u001b[0mValueError\u001b[0m\u001b[0;34m(\u001b[0m\u001b[0;34m'No objects to concatenate'\u001b[0m\u001b[0;34m)\u001b[0m\u001b[0;34m\u001b[0m\u001b[0m\n\u001b[0m\u001b[1;32m    263\u001b[0m \u001b[0;34m\u001b[0m\u001b[0m\n",
      "\u001b[0;31mValueError\u001b[0m: No objects to concatenate",
      "\nDuring handling of the above exception, another exception occurred:\n",
      "\u001b[0;31mFileNotFoundError\u001b[0m                         Traceback (most recent call last)",
      "\u001b[0;32m<ipython-input-5-1ac9cc079470>\u001b[0m in \u001b[0;36m<module>\u001b[0;34m\u001b[0m\n\u001b[0;32m----> 1\u001b[0;31m \u001b[0mLSM\u001b[0m\u001b[0;34m.\u001b[0m\u001b[0mlistSimulations\u001b[0m\u001b[0;34m(\u001b[0m\u001b[0;34m)\u001b[0m\u001b[0;34m\u001b[0m\u001b[0m\n\u001b[0m",
      "\u001b[0;32m~/Development/Hera/hera/simulations/LSM/toolkit.py\u001b[0m in \u001b[0;36mlistSimulations\u001b[0;34m(self, wideFormat, **query)\u001b[0m\n\u001b[1;32m    268\u001b[0m                 \u001b[0;32mreturn\u001b[0m \u001b[0mdf\u001b[0m\u001b[0;34m\u001b[0m\u001b[0m\n\u001b[1;32m    269\u001b[0m         \u001b[0;32mexcept\u001b[0m \u001b[0mValueError\u001b[0m\u001b[0;34m:\u001b[0m\u001b[0;34m\u001b[0m\u001b[0m\n\u001b[0;32m--> 270\u001b[0;31m             \u001b[0;32mraise\u001b[0m \u001b[0mFileNotFoundError\u001b[0m\u001b[0;34m(\u001b[0m\u001b[0;34m'No simulations found'\u001b[0m\u001b[0;34m)\u001b[0m\u001b[0;34m\u001b[0m\u001b[0m\n\u001b[0m",
      "\u001b[0;31mFileNotFoundError\u001b[0m: No simulations found"
     ]
    }
   ],
   "source": [
    "LSM.listSimulations()"
   ]
  },
  {
   "cell_type": "markdown",
   "metadata": {},
   "source": [
    "Finally, a simulation object may be initialized directly using the source file's directory:"
   ]
  },
  {
   "cell_type": "code",
   "execution_count": 6,
   "metadata": {},
   "outputs": [],
   "source": [
    "simulation = LSM.singleSimulation(\"netcdf\")"
   ]
  },
  {
   "cell_type": "markdown",
   "metadata": {},
   "source": [
    "## Getting the concentration\n",
    "\n",
    "Once the simulation object is created, the concentration may be extracted.\n",
    "One can choose the mass of agent disperesed and the units of the time steps and of the agent's mass per cubic meter.\n",
    "The default values are presented in the next example."
   ]
  },
  {
   "cell_type": "code",
   "execution_count": 7,
   "metadata": {},
   "outputs": [
    {
     "data": {
      "text/html": [
       "<pre>&lt;xarray.Dataset&gt;\n",
       "Dimensions:   (datetime: 3, x: 1000, y: 1000, z: 1)\n",
       "Coordinates:\n",
       "  * x         (x) float64 -995.0 -985.0 -975.0 ... 8.975e+03 8.985e+03 8.995e+03\n",
       "  * z         (z) float64 0.0\n",
       "  * y         (y) float64 -4.995e+03 -4.985e+03 ... 4.985e+03 4.995e+03\n",
       "  * datetime  (datetime) datetime64[ns] 2016-01-01T12:00:20 ... 2016-01-01T12:01:00\n",
       "Data variables:\n",
       "    dDosage   (datetime, y, x, z) float64 dask.array&lt;chunksize=(3, 1000, 1000, 1), meta=np.ndarray&gt;\n",
       "    C         (datetime, y, x, z) float64 dask.array&lt;chunksize=(3, 1000, 1000, 1), meta=np.ndarray&gt;\n",
       "Attributes:\n",
       "    dt:       0.3333333333333333 [min]\n",
       "    Q:        1000000.0 [mg]\n",
       "    C:        1.0 [mg/m3]</pre>"
      ],
      "text/plain": [
       "<xarray.Dataset>\n",
       "Dimensions:   (datetime: 3, x: 1000, y: 1000, z: 1)\n",
       "Coordinates:\n",
       "  * x         (x) float64 -995.0 -985.0 -975.0 ... 8.975e+03 8.985e+03 8.995e+03\n",
       "  * z         (z) float64 0.0\n",
       "  * y         (y) float64 -4.995e+03 -4.985e+03 ... 4.985e+03 4.995e+03\n",
       "  * datetime  (datetime) datetime64[ns] 2016-01-01T12:00:20 ... 2016-01-01T12:01:00\n",
       "Data variables:\n",
       "    dDosage   (datetime, y, x, z) float64 dask.array<chunksize=(3, 1000, 1000, 1), meta=np.ndarray>\n",
       "    C         (datetime, y, x, z) float64 dask.array<chunksize=(3, 1000, 1000, 1), meta=np.ndarray>\n",
       "Attributes:\n",
       "    dt:       0.3333333333333333 [min]\n",
       "    Q:        1000000.0 [mg]\n",
       "    C:        1.0 [mg/m3]"
      ]
     },
     "execution_count": 7,
     "metadata": {},
     "output_type": "execute_result"
    }
   ],
   "source": [
    "from unum.units import *\n",
    "Concentration = simulation.getConcentration(Q=1*kg, time_units=min, q_units=mg)\n",
    "Concentration"
   ]
  },
  {
   "cell_type": "markdown",
   "metadata": {},
   "source": [
    "## Getting the dosage\n",
    "\n",
    "Similarly, the doage may be extracted:"
   ]
  },
  {
   "cell_type": "code",
   "execution_count": 8,
   "metadata": {},
   "outputs": [
    {
     "data": {
      "text/html": [
       "<pre>&lt;xarray.Dataset&gt;\n",
       "Dimensions:   (datetime: 4, x: 1000, y: 1000, z: 1)\n",
       "Coordinates:\n",
       "  * x         (x) float64 -995.0 -985.0 -975.0 ... 8.975e+03 8.985e+03 8.995e+03\n",
       "  * z         (z) float64 0.0\n",
       "  * y         (y) float64 -4.995e+03 -4.985e+03 ... 4.985e+03 4.995e+03\n",
       "  * datetime  (datetime) datetime64[ns] 2016-01-01T12:00:00 ... 2016-01-01T12:01:00\n",
       "Data variables:\n",
       "    Dosage    (datetime, y, x, z) float64 dask.array&lt;chunksize=(4, 1000, 1000, 1), meta=np.ndarray&gt;\n",
       "Attributes:\n",
       "    dt:       0.3333333333333333 [min]\n",
       "    Q:        1000000.0 [mg]\n",
       "    C:        1.0 [mg/m3]</pre>"
      ],
      "text/plain": [
       "<xarray.Dataset>\n",
       "Dimensions:   (datetime: 4, x: 1000, y: 1000, z: 1)\n",
       "Coordinates:\n",
       "  * x         (x) float64 -995.0 -985.0 -975.0 ... 8.975e+03 8.985e+03 8.995e+03\n",
       "  * z         (z) float64 0.0\n",
       "  * y         (y) float64 -4.995e+03 -4.985e+03 ... 4.985e+03 4.995e+03\n",
       "  * datetime  (datetime) datetime64[ns] 2016-01-01T12:00:00 ... 2016-01-01T12:01:00\n",
       "Data variables:\n",
       "    Dosage    (datetime, y, x, z) float64 dask.array<chunksize=(4, 1000, 1000, 1), meta=np.ndarray>\n",
       "Attributes:\n",
       "    dt:       0.3333333333333333 [min]\n",
       "    Q:        1000000.0 [mg]\n",
       "    C:        1.0 [mg/m3]"
      ]
     },
     "execution_count": 8,
     "metadata": {},
     "output_type": "execute_result"
    }
   ],
   "source": [
    "Dosage = simulation.getDosage(Q=1*kg, time_units=min, q_units=mg)\n",
    "Dosage"
   ]
  }
 ],
 "metadata": {
  "kernelspec": {
   "display_name": "Python 3",
   "language": "python",
   "name": "python3"
  },
  "language_info": {
   "codemirror_mode": {
    "name": "ipython",
    "version": 3
   },
   "file_extension": ".py",
   "mimetype": "text/x-python",
   "name": "python",
   "nbconvert_exporter": "python",
   "pygments_lexer": "ipython3",
   "version": "3.8.6"
  }
 },
 "nbformat": 4,
 "nbformat_minor": 4
}
