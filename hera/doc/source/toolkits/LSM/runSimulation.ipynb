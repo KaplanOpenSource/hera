{
 "cells": [
  {
   "cell_type": "markdown",
   "metadata": {},
   "source": [
    "# Running a simulation\n",
    "\n",
    "Here we will demonstrate how to run a simulation.\n",
    "\n",
    "The simulation is done using the template standard parameters by default. Any parameter may be altered\n",
    "by inducing a different value to the parameter when calling the \"run\" function.\n",
    "For instance, in the example below we set the duration of the simulation to 10 minutes instead of the default value of 60 minutes.\n",
    "\n",
    "The topography parameter in the run function is optional;\n",
    "if it is not defined the simulation is performed over a flat terrain.\n",
    "Others terrains may be given in the format of a DEM string.\n",
    "Terrains may be converted to this format using the GIS-topography tool.\n",
    "\n",
    "When using topography, wind measurements must be given.\n",
    "These measurements include wind velocity and direction for any number of measurements stations in different times.\n",
    "Each station must have a name and x/y coordinates.\n",
    "The measurements should be given as dataframes of the next format (the 'measurements' here are made-up values):"
   ]
  },
  {
   "cell_type": "code",
   "execution_count": 1,
   "metadata": {},
   "outputs": [
    {
     "data": {
      "text/html": [
       "<div>\n",
       "<style scoped>\n",
       "    .dataframe tbody tr th:only-of-type {\n",
       "        vertical-align: middle;\n",
       "    }\n",
       "\n",
       "    .dataframe tbody tr th {\n",
       "        vertical-align: top;\n",
       "    }\n",
       "\n",
       "    .dataframe thead th {\n",
       "        text-align: right;\n",
       "    }\n",
       "</style>\n",
       "<table border=\"1\" class=\"dataframe\">\n",
       "  <thead>\n",
       "    <tr style=\"text-align: right;\">\n",
       "      <th></th>\n",
       "      <th>station</th>\n",
       "      <th>x</th>\n",
       "      <th>y</th>\n",
       "      <th>u</th>\n",
       "      <th>direction</th>\n",
       "      <th>datetime</th>\n",
       "    </tr>\n",
       "  </thead>\n",
       "  <tbody>\n",
       "    <tr>\n",
       "      <th>0</th>\n",
       "      <td>flat</td>\n",
       "      <td>2000</td>\n",
       "      <td>740000</td>\n",
       "      <td>2</td>\n",
       "      <td>0</td>\n",
       "      <td>2021-01-01 00:00:00</td>\n",
       "    </tr>\n",
       "    <tr>\n",
       "      <th>1</th>\n",
       "      <td>flat</td>\n",
       "      <td>2000</td>\n",
       "      <td>740000</td>\n",
       "      <td>2</td>\n",
       "      <td>0</td>\n",
       "      <td>2021-01-01 02:00:00</td>\n",
       "    </tr>\n",
       "    <tr>\n",
       "      <th>2</th>\n",
       "      <td>mount</td>\n",
       "      <td>4000</td>\n",
       "      <td>740000</td>\n",
       "      <td>3</td>\n",
       "      <td>0</td>\n",
       "      <td>2021-01-01 00:00:00</td>\n",
       "    </tr>\n",
       "    <tr>\n",
       "      <th>3</th>\n",
       "      <td>mount</td>\n",
       "      <td>4000</td>\n",
       "      <td>740000</td>\n",
       "      <td>3</td>\n",
       "      <td>0</td>\n",
       "      <td>2021-01-01 02:00:00</td>\n",
       "    </tr>\n",
       "  </tbody>\n",
       "</table>\n",
       "</div>"
      ],
      "text/plain": [
       "  station     x       y  u  direction            datetime\n",
       "0    flat  2000  740000  2          0 2021-01-01 00:00:00\n",
       "1    flat  2000  740000  2          0 2021-01-01 02:00:00\n",
       "2   mount  4000  740000  3          0 2021-01-01 00:00:00\n",
       "3   mount  4000  740000  3          0 2021-01-01 02:00:00"
      ]
     },
     "execution_count": 1,
     "metadata": {},
     "output_type": "execute_result"
    }
   ],
   "source": [
    "import pandas\n",
    "\n",
    "flatAreaX = 2000\n",
    "mountainAreaX = 4000\n",
    "Y = 740000\n",
    "flatVelocity = 2\n",
    "flatDirection = 0\n",
    "mountVelocity = 3\n",
    "mountDirection = 0\n",
    "stations = pandas.DataFrame({\"station\":[\"flat\",\"flat\",\"mount\",\"mount\"],\"x\":[flatAreaX,flatAreaX,mountainAreaX,mountainAreaX],\n",
    "                             \"y\":Y,\"u\":[flatVelocity,flatVelocity,mountVelocity,mountVelocity],\n",
    "                             \"direction\":[flatDirection,flatDirection,mountDirection,mountDirection],\n",
    "                             \"datetime\":[pandas.Timestamp('2021-01-01 00:00:00'), pandas.Timestamp('2021-01-01 02:00:00'),\n",
    "                                         pandas.Timestamp('2021-01-01 00:00:00'), pandas.Timestamp('2021-01-01 02:00:00')]})\n",
    "stations"
   ]
  },
  {
   "cell_type": "markdown",
   "metadata": {},
   "source": [
    "The simulation is done using the \"run\" function of a template object.\n",
    "The template object may be loaded as demonstrated in the \"Loading a template\" page."
   ]
  },
  {
   "cell_type": "code",
   "execution_count": 2,
   "metadata": {},
   "outputs": [
    {
     "name": "stdout",
     "output_type": "stream",
     "text": [
      "Processing the files\n",
      "/home/eyal/Development/Hera/hera/doc/source/toolkits/LSM/608568e9ec62982ab9e29a81/tozaot/machsan/OUTD2d03_3_\n",
      "[]\n"
     ]
    },
    {
     "ename": "ValueError",
     "evalue": "must supply at least one object to concatenate",
     "output_type": "error",
     "traceback": [
      "\u001b[0;31m---------------------------------------------------------------------------\u001b[0m",
      "\u001b[0;31mStopIteration\u001b[0m                             Traceback (most recent call last)",
      "\u001b[0;32m/raid/opt/anaconda3/envs/Math-20-05/lib/python3.6/site-packages/xarray/core/concat.py\u001b[0m in \u001b[0;36mconcat\u001b[0;34m(objs, dim, data_vars, coords, compat, positions, fill_value, join)\u001b[0m\n\u001b[1;32m    113\u001b[0m     \u001b[0;32mtry\u001b[0m\u001b[0;34m:\u001b[0m\u001b[0;34m\u001b[0m\u001b[0m\n\u001b[0;32m--> 114\u001b[0;31m         \u001b[0mfirst_obj\u001b[0m\u001b[0;34m,\u001b[0m \u001b[0mobjs\u001b[0m \u001b[0;34m=\u001b[0m \u001b[0mutils\u001b[0m\u001b[0;34m.\u001b[0m\u001b[0mpeek_at\u001b[0m\u001b[0;34m(\u001b[0m\u001b[0mobjs\u001b[0m\u001b[0;34m)\u001b[0m\u001b[0;34m\u001b[0m\u001b[0m\n\u001b[0m\u001b[1;32m    115\u001b[0m     \u001b[0;32mexcept\u001b[0m \u001b[0mStopIteration\u001b[0m\u001b[0;34m:\u001b[0m\u001b[0;34m\u001b[0m\u001b[0m\n",
      "\u001b[0;32m/raid/opt/anaconda3/envs/Math-20-05/lib/python3.6/site-packages/xarray/core/utils.py\u001b[0m in \u001b[0;36mpeek_at\u001b[0;34m(iterable)\u001b[0m\n\u001b[1;32m    181\u001b[0m     \u001b[0mgen\u001b[0m \u001b[0;34m=\u001b[0m \u001b[0miter\u001b[0m\u001b[0;34m(\u001b[0m\u001b[0miterable\u001b[0m\u001b[0;34m)\u001b[0m\u001b[0;34m\u001b[0m\u001b[0m\n\u001b[0;32m--> 182\u001b[0;31m     \u001b[0mpeek\u001b[0m \u001b[0;34m=\u001b[0m \u001b[0mnext\u001b[0m\u001b[0;34m(\u001b[0m\u001b[0mgen\u001b[0m\u001b[0;34m)\u001b[0m\u001b[0;34m\u001b[0m\u001b[0m\n\u001b[0m\u001b[1;32m    183\u001b[0m     \u001b[0;32mreturn\u001b[0m \u001b[0mpeek\u001b[0m\u001b[0;34m,\u001b[0m \u001b[0mitertools\u001b[0m\u001b[0;34m.\u001b[0m\u001b[0mchain\u001b[0m\u001b[0;34m(\u001b[0m\u001b[0;34m[\u001b[0m\u001b[0mpeek\u001b[0m\u001b[0;34m]\u001b[0m\u001b[0;34m,\u001b[0m \u001b[0mgen\u001b[0m\u001b[0;34m)\u001b[0m\u001b[0;34m\u001b[0m\u001b[0m\n",
      "\u001b[0;31mStopIteration\u001b[0m: ",
      "\nDuring handling of the above exception, another exception occurred:\n",
      "\u001b[0;31mValueError\u001b[0m                                Traceback (most recent call last)",
      "\u001b[0;32m<ipython-input-2-e43cf0929d65>\u001b[0m in \u001b[0;36m<module>\u001b[0;34m\u001b[0m\n\u001b[1;32m      4\u001b[0m \u001b[0mtemplate\u001b[0m \u001b[0;34m=\u001b[0m \u001b[0mLSM\u001b[0m\u001b[0;34m.\u001b[0m\u001b[0mgetTemplateByName\u001b[0m\u001b[0;34m(\u001b[0m\u001b[0;34m\"v1-general\"\u001b[0m\u001b[0;34m,\u001b[0m\u001b[0mtemplateVersion\u001b[0m\u001b[0;34m=\u001b[0m\u001b[0;34m\"1\"\u001b[0m\u001b[0;34m)\u001b[0m\u001b[0;34m\u001b[0m\u001b[0m\n\u001b[1;32m      5\u001b[0m \u001b[0mparams\u001b[0m \u001b[0;34m=\u001b[0m \u001b[0mdict\u001b[0m\u001b[0;34m(\u001b[0m\u001b[0mduration\u001b[0m\u001b[0;34m=\u001b[0m\u001b[0;36m10\u001b[0m\u001b[0;34m,\u001b[0m \u001b[0mlineSource\u001b[0m\u001b[0;34m=\u001b[0m\u001b[0;34m\".FALSE.\"\u001b[0m\u001b[0;34m)\u001b[0m\u001b[0;34m\u001b[0m\u001b[0m\n\u001b[0;32m----> 6\u001b[0;31m \u001b[0mtemplate\u001b[0m\u001b[0;34m.\u001b[0m\u001b[0mrun\u001b[0m\u001b[0;34m(\u001b[0m\u001b[0mstations\u001b[0m\u001b[0;34m=\u001b[0m\u001b[0mstations\u001b[0m\u001b[0;34m,\u001b[0m\u001b[0mparams\u001b[0m\u001b[0;34m=\u001b[0m\u001b[0mparams\u001b[0m\u001b[0;34m)\u001b[0m\u001b[0;34m\u001b[0m\u001b[0m\n\u001b[0m",
      "\u001b[0;32m~/Development/Hera/hera/simulations/LSM/template.py\u001b[0m in \u001b[0;36mrun\u001b[0;34m(self, topography, stations, canopy, params, depositionRates, saveMode, **descriptor)\u001b[0m\n\u001b[1;32m    251\u001b[0m \u001b[0;34m\u001b[0m\u001b[0m\n\u001b[1;32m    252\u001b[0m             \u001b[0;31m# save the rest.\u001b[0m\u001b[0;34m\u001b[0m\u001b[0;34m\u001b[0m\u001b[0m\n\u001b[0;32m--> 253\u001b[0;31m             \u001b[0mfinalxarray\u001b[0m \u001b[0;34m=\u001b[0m \u001b[0mxarray\u001b[0m\u001b[0;34m.\u001b[0m\u001b[0mconcat\u001b[0m\u001b[0;34m(\u001b[0m\u001b[0mL\u001b[0m\u001b[0;34m,\u001b[0m \u001b[0mdim\u001b[0m\u001b[0;34m=\u001b[0m\u001b[0;34m\"datetime\"\u001b[0m\u001b[0;34m)\u001b[0m\u001b[0;34m\u001b[0m\u001b[0m\n\u001b[0m\u001b[1;32m    254\u001b[0m \u001b[0;34m\u001b[0m\u001b[0m\n\u001b[1;32m    255\u001b[0m             \u001b[0mnew_coords\u001b[0m \u001b[0;34m=\u001b[0m \u001b[0mdict\u001b[0m\u001b[0;34m(\u001b[0m\u001b[0mx\u001b[0m\u001b[0;34m=\u001b[0m\u001b[0mfinalxarray\u001b[0m\u001b[0;34m.\u001b[0m\u001b[0mx\u001b[0m\u001b[0;34m-\u001b[0m\u001b[0mxshift\u001b[0m\u001b[0;34m,\u001b[0m\u001b[0my\u001b[0m\u001b[0;34m=\u001b[0m\u001b[0mfinalxarray\u001b[0m\u001b[0;34m.\u001b[0m\u001b[0my\u001b[0m\u001b[0;34m-\u001b[0m\u001b[0myshift\u001b[0m\u001b[0;34m)\u001b[0m\u001b[0;34m\u001b[0m\u001b[0m\n",
      "\u001b[0;32m/raid/opt/anaconda3/envs/Math-20-05/lib/python3.6/site-packages/xarray/core/concat.py\u001b[0m in \u001b[0;36mconcat\u001b[0;34m(objs, dim, data_vars, coords, compat, positions, fill_value, join)\u001b[0m\n\u001b[1;32m    114\u001b[0m         \u001b[0mfirst_obj\u001b[0m\u001b[0;34m,\u001b[0m \u001b[0mobjs\u001b[0m \u001b[0;34m=\u001b[0m \u001b[0mutils\u001b[0m\u001b[0;34m.\u001b[0m\u001b[0mpeek_at\u001b[0m\u001b[0;34m(\u001b[0m\u001b[0mobjs\u001b[0m\u001b[0;34m)\u001b[0m\u001b[0;34m\u001b[0m\u001b[0m\n\u001b[1;32m    115\u001b[0m     \u001b[0;32mexcept\u001b[0m \u001b[0mStopIteration\u001b[0m\u001b[0;34m:\u001b[0m\u001b[0;34m\u001b[0m\u001b[0m\n\u001b[0;32m--> 116\u001b[0;31m         \u001b[0;32mraise\u001b[0m \u001b[0mValueError\u001b[0m\u001b[0;34m(\u001b[0m\u001b[0;34m\"must supply at least one object to concatenate\"\u001b[0m\u001b[0;34m)\u001b[0m\u001b[0;34m\u001b[0m\u001b[0m\n\u001b[0m\u001b[1;32m    117\u001b[0m \u001b[0;34m\u001b[0m\u001b[0m\n\u001b[1;32m    118\u001b[0m     \u001b[0;32mif\u001b[0m \u001b[0mcompat\u001b[0m \u001b[0;32mnot\u001b[0m \u001b[0;32min\u001b[0m \u001b[0m_VALID_COMPAT\u001b[0m\u001b[0;34m:\u001b[0m\u001b[0;34m\u001b[0m\u001b[0m\n",
      "\u001b[0;31mValueError\u001b[0m: must supply at least one object to concatenate"
     ]
    }
   ],
   "source": [
    "from hera.simulations.LSM.toolkit import LSMToolkit\n",
    "\n",
    "LSM = LSMToolkit(projectName=\"documentation\")\n",
    "template = LSM.getTemplateByName(\"v1-general\",templateVersion=\"1\")\n",
    "params = dict(duration=10, lineSource=\".FALSE.\")\n",
    "template.run(stations=stations,params=params)"
   ]
  },
  {
   "cell_type": "markdown",
   "metadata": {},
   "source": [
    "## Canopy\n",
    "\n",
    "The effect of canopy on the wind profile may be added.\n",
    "A string with canopy parameters for each cell may be given. If stations are used, the height of the stations must also be given.\n",
    "The cells are listed by x and y coordinates, this way: [11,12,13 ... 1n, 21,22,23 ... 2n, ... m1, m2, m3 ... mn].\n",
    "By default, the number of cells is n=m=129.\n",
    "\n",
    "The canopy parameters are the canopy height, $\\lambda_p$,$\\lambda_f$.\n",
    "For example, for a homogeneous field, we can use:"
   ]
  },
  {
   "cell_type": "code",
   "execution_count": 3,
   "metadata": {},
   "outputs": [
    {
     "name": "stdout",
     "output_type": "stream",
     "text": [
      "Processing the files\n",
      "/home/eyal/Development/Hera/hera/doc/source/toolkits/LSM/608568f1ec62982ab9e29a82/tozaot/machsan/OUTD2d03_3_\n",
      "['/home/eyal/Development/Hera/hera/doc/source/toolkits/LSM/608568f1ec62982ab9e29a82/tozaot/machsan/OUTD2d03_3_0320', '/home/eyal/Development/Hera/hera/doc/source/toolkits/LSM/608568f1ec62982ab9e29a82/tozaot/machsan/OUTD2d03_3_0580', '/home/eyal/Development/Hera/hera/doc/source/toolkits/LSM/608568f1ec62982ab9e29a82/tozaot/machsan/OUTD2d03_3_0120', '/home/eyal/Development/Hera/hera/doc/source/toolkits/LSM/608568f1ec62982ab9e29a82/tozaot/machsan/OUTD2d03_3_0600', '/home/eyal/Development/Hera/hera/doc/source/toolkits/LSM/608568f1ec62982ab9e29a82/tozaot/machsan/OUTD2d03_3_0300', '/home/eyal/Development/Hera/hera/doc/source/toolkits/LSM/608568f1ec62982ab9e29a82/tozaot/machsan/OUTD2d03_3_0340', '/home/eyal/Development/Hera/hera/doc/source/toolkits/LSM/608568f1ec62982ab9e29a82/tozaot/machsan/OUTD2d03_3_0520', '/home/eyal/Development/Hera/hera/doc/source/toolkits/LSM/608568f1ec62982ab9e29a82/tozaot/machsan/OUTD2d03_3_0420', '/home/eyal/Development/Hera/hera/doc/source/toolkits/LSM/608568f1ec62982ab9e29a82/tozaot/machsan/OUTD2d03_3_0260', '/home/eyal/Development/Hera/hera/doc/source/toolkits/LSM/608568f1ec62982ab9e29a82/tozaot/machsan/OUTD2d03_3_0060', '/home/eyal/Development/Hera/hera/doc/source/toolkits/LSM/608568f1ec62982ab9e29a82/tozaot/machsan/OUTD2d03_3_0240', '/home/eyal/Development/Hera/hera/doc/source/toolkits/LSM/608568f1ec62982ab9e29a82/tozaot/machsan/OUTD2d03_3_0020', '/home/eyal/Development/Hera/hera/doc/source/toolkits/LSM/608568f1ec62982ab9e29a82/tozaot/machsan/OUTD2d03_3_0540', '/home/eyal/Development/Hera/hera/doc/source/toolkits/LSM/608568f1ec62982ab9e29a82/tozaot/machsan/OUTD2d03_3_0500', '/home/eyal/Development/Hera/hera/doc/source/toolkits/LSM/608568f1ec62982ab9e29a82/tozaot/machsan/OUTD2d03_3_0280', '/home/eyal/Development/Hera/hera/doc/source/toolkits/LSM/608568f1ec62982ab9e29a82/tozaot/machsan/OUTD2d03_3_0400', '/home/eyal/Development/Hera/hera/doc/source/toolkits/LSM/608568f1ec62982ab9e29a82/tozaot/machsan/OUTD2d03_3_0480', '/home/eyal/Development/Hera/hera/doc/source/toolkits/LSM/608568f1ec62982ab9e29a82/tozaot/machsan/OUTD2d03_3_0360', '/home/eyal/Development/Hera/hera/doc/source/toolkits/LSM/608568f1ec62982ab9e29a82/tozaot/machsan/OUTD2d03_3_0220', '/home/eyal/Development/Hera/hera/doc/source/toolkits/LSM/608568f1ec62982ab9e29a82/tozaot/machsan/OUTD2d03_3_0160', '/home/eyal/Development/Hera/hera/doc/source/toolkits/LSM/608568f1ec62982ab9e29a82/tozaot/machsan/OUTD2d03_3_0200', '/home/eyal/Development/Hera/hera/doc/source/toolkits/LSM/608568f1ec62982ab9e29a82/tozaot/machsan/OUTD2d03_3_0180', '/home/eyal/Development/Hera/hera/doc/source/toolkits/LSM/608568f1ec62982ab9e29a82/tozaot/machsan/OUTD2d03_3_0040', '/home/eyal/Development/Hera/hera/doc/source/toolkits/LSM/608568f1ec62982ab9e29a82/tozaot/machsan/OUTD2d03_3_0560', '/home/eyal/Development/Hera/hera/doc/source/toolkits/LSM/608568f1ec62982ab9e29a82/tozaot/machsan/OUTD2d03_3_0100', '/home/eyal/Development/Hera/hera/doc/source/toolkits/LSM/608568f1ec62982ab9e29a82/tozaot/machsan/OUTD2d03_3_0440', '/home/eyal/Development/Hera/hera/doc/source/toolkits/LSM/608568f1ec62982ab9e29a82/tozaot/machsan/OUTD2d03_3_0140', '/home/eyal/Development/Hera/hera/doc/source/toolkits/LSM/608568f1ec62982ab9e29a82/tozaot/machsan/OUTD2d03_3_0380', '/home/eyal/Development/Hera/hera/doc/source/toolkits/LSM/608568f1ec62982ab9e29a82/tozaot/machsan/OUTD2d03_3_0080', '/home/eyal/Development/Hera/hera/doc/source/toolkits/LSM/608568f1ec62982ab9e29a82/tozaot/machsan/OUTD2d03_3_0460']\n",
      "\t... reading /home/eyal/Development/Hera/hera/doc/source/toolkits/LSM/608568f1ec62982ab9e29a82/tozaot/machsan/OUTD2d03_3_0020\n",
      "\t... reading /home/eyal/Development/Hera/hera/doc/source/toolkits/LSM/608568f1ec62982ab9e29a82/tozaot/machsan/OUTD2d03_3_0040\n",
      "\t... reading /home/eyal/Development/Hera/hera/doc/source/toolkits/LSM/608568f1ec62982ab9e29a82/tozaot/machsan/OUTD2d03_3_0060\n",
      "\t... reading /home/eyal/Development/Hera/hera/doc/source/toolkits/LSM/608568f1ec62982ab9e29a82/tozaot/machsan/OUTD2d03_3_0080\n",
      "\t... reading /home/eyal/Development/Hera/hera/doc/source/toolkits/LSM/608568f1ec62982ab9e29a82/tozaot/machsan/OUTD2d03_3_0100\n",
      "\t... reading /home/eyal/Development/Hera/hera/doc/source/toolkits/LSM/608568f1ec62982ab9e29a82/tozaot/machsan/OUTD2d03_3_0120\n",
      "\t... reading /home/eyal/Development/Hera/hera/doc/source/toolkits/LSM/608568f1ec62982ab9e29a82/tozaot/machsan/OUTD2d03_3_0140\n",
      "\t... reading /home/eyal/Development/Hera/hera/doc/source/toolkits/LSM/608568f1ec62982ab9e29a82/tozaot/machsan/OUTD2d03_3_0160\n",
      "\t... reading /home/eyal/Development/Hera/hera/doc/source/toolkits/LSM/608568f1ec62982ab9e29a82/tozaot/machsan/OUTD2d03_3_0180\n",
      "\t... reading /home/eyal/Development/Hera/hera/doc/source/toolkits/LSM/608568f1ec62982ab9e29a82/tozaot/machsan/OUTD2d03_3_0200\n",
      "\t... reading /home/eyal/Development/Hera/hera/doc/source/toolkits/LSM/608568f1ec62982ab9e29a82/tozaot/machsan/OUTD2d03_3_0220\n",
      "\t... reading /home/eyal/Development/Hera/hera/doc/source/toolkits/LSM/608568f1ec62982ab9e29a82/tozaot/machsan/OUTD2d03_3_0240\n",
      "\t... reading /home/eyal/Development/Hera/hera/doc/source/toolkits/LSM/608568f1ec62982ab9e29a82/tozaot/machsan/OUTD2d03_3_0260\n",
      "\t... reading /home/eyal/Development/Hera/hera/doc/source/toolkits/LSM/608568f1ec62982ab9e29a82/tozaot/machsan/OUTD2d03_3_0280\n",
      "\t... reading /home/eyal/Development/Hera/hera/doc/source/toolkits/LSM/608568f1ec62982ab9e29a82/tozaot/machsan/OUTD2d03_3_0300\n",
      "\t... reading /home/eyal/Development/Hera/hera/doc/source/toolkits/LSM/608568f1ec62982ab9e29a82/tozaot/machsan/OUTD2d03_3_0320\n",
      "\t... reading /home/eyal/Development/Hera/hera/doc/source/toolkits/LSM/608568f1ec62982ab9e29a82/tozaot/machsan/OUTD2d03_3_0340\n",
      "\t... reading /home/eyal/Development/Hera/hera/doc/source/toolkits/LSM/608568f1ec62982ab9e29a82/tozaot/machsan/OUTD2d03_3_0360\n",
      "\t... reading /home/eyal/Development/Hera/hera/doc/source/toolkits/LSM/608568f1ec62982ab9e29a82/tozaot/machsan/OUTD2d03_3_0380\n",
      "\t... reading /home/eyal/Development/Hera/hera/doc/source/toolkits/LSM/608568f1ec62982ab9e29a82/tozaot/machsan/OUTD2d03_3_0400\n",
      "\t... reading /home/eyal/Development/Hera/hera/doc/source/toolkits/LSM/608568f1ec62982ab9e29a82/tozaot/machsan/OUTD2d03_3_0420\n",
      "\t... reading /home/eyal/Development/Hera/hera/doc/source/toolkits/LSM/608568f1ec62982ab9e29a82/tozaot/machsan/OUTD2d03_3_0440\n",
      "\t... reading /home/eyal/Development/Hera/hera/doc/source/toolkits/LSM/608568f1ec62982ab9e29a82/tozaot/machsan/OUTD2d03_3_0460\n",
      "\t... reading /home/eyal/Development/Hera/hera/doc/source/toolkits/LSM/608568f1ec62982ab9e29a82/tozaot/machsan/OUTD2d03_3_0480\n",
      "\t... reading /home/eyal/Development/Hera/hera/doc/source/toolkits/LSM/608568f1ec62982ab9e29a82/tozaot/machsan/OUTD2d03_3_0500\n",
      "\t... reading /home/eyal/Development/Hera/hera/doc/source/toolkits/LSM/608568f1ec62982ab9e29a82/tozaot/machsan/OUTD2d03_3_0520\n",
      "\t... reading /home/eyal/Development/Hera/hera/doc/source/toolkits/LSM/608568f1ec62982ab9e29a82/tozaot/machsan/OUTD2d03_3_0540\n",
      "\t... reading /home/eyal/Development/Hera/hera/doc/source/toolkits/LSM/608568f1ec62982ab9e29a82/tozaot/machsan/OUTD2d03_3_0560\n",
      "\t... reading /home/eyal/Development/Hera/hera/doc/source/toolkits/LSM/608568f1ec62982ab9e29a82/tozaot/machsan/OUTD2d03_3_0580\n",
      "\t... reading /home/eyal/Development/Hera/hera/doc/source/toolkits/LSM/608568f1ec62982ab9e29a82/tozaot/machsan/OUTD2d03_3_0600\n",
      "saved xarray in  /home/eyal/Development/Hera/hera/doc/source/toolkits/LSM/608568f1ec62982ab9e29a82/netcdf\n"
     ]
    },
    {
     "data": {
      "text/plain": [
       "<hera.datalayer.document.metadataDocument.nonDBMetadataFrame at 0x7fdf05128b00>"
      ]
     },
     "execution_count": 3,
     "metadata": {},
     "output_type": "execute_result"
    }
   ],
   "source": [
    "stationsHeight = 15\n",
    "canopyHeight = 10.0\n",
    "lambdaP = 0.5\n",
    "lambdaF = 0.5\n",
    "\n",
    "canopyString = \"\"\n",
    "for i in range(129*129):\n",
    "    canopyString += f\"{canopyHeight} {lambdaP} {lambdaF}\\n\"\n",
    "\n",
    "stations[\"h\"] = stationsHeight\n",
    "template.run(stations=stations,params=params,canopy=canopyString)"
   ]
  }
 ],
 "metadata": {
  "kernelspec": {
   "display_name": "Python 3",
   "language": "python",
   "name": "python3"
  },
  "language_info": {
   "codemirror_mode": {
    "name": "ipython",
    "version": 3
   },
   "file_extension": ".py",
   "mimetype": "text/x-python",
   "name": "python",
   "nbconvert_exporter": "python",
   "pygments_lexer": "ipython3",
   "version": "3.8.6"
  }
 },
 "nbformat": 4,
 "nbformat_minor": 4
}
