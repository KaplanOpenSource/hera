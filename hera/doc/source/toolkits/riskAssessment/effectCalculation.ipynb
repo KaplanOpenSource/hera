{
 "cells": [
  {
   "cell_type": "markdown",
   "metadata": {},
   "source": [
    "# Effect Calculation\n",
    "\n",
    "Here we will demonstrate how to calculate the effect of agents' dispersion.\n",
    "\n",
    "## Loading an agent\n",
    "\n",
    "The agent object provides usefull functions that use physical and effect properties for risk assessments.\n",
    "Any new risk assessment should first make a new instance of the object with the properties of the requested agent.\n",
    "Properties of different hazardous chemicals are saved in hera-data.\n",
    "We will use a fictional agent shown below, loaded to the DB using loadAgent."
   ]
  },
  {
   "cell_type": "code",
   "execution_count": 2,
   "metadata": {},
   "outputs": [
    {
     "name": "stdout",
     "output_type": "stream",
     "text": [
      "Loading the Building Toolkit. FreeCAD not Found, cannot convert to STL\n"
     ]
    },
    {
     "data": {
      "text/plain": [
       "<Measurements: Measurements object>"
      ]
     },
     "execution_count": 2,
     "metadata": {},
     "output_type": "execute_result"
    }
   ],
   "source": [
    "from hera.riskassessment.riskToolkit import RiskToolkit\n",
    "risk = RiskToolkit(projectName = \"documentation\")\n",
    "from unum.units import *\n",
    "AgentName = \"ExampleAgent\"\n",
    "description = {\n",
    "    \"effectParameters\" : {\n",
    "        \"tenbergeCoefficient\" : 1.5\n",
    "    },\n",
    "    \"effects\" : {\n",
    "        \"RegularPopulation\":{\n",
    "            \"type\": \"Lognormal10\",\n",
    "            \"calculator\":{\n",
    "                \"TenBerge\" : {\"breathingRate\":10}\n",
    "            },\n",
    "            \"parameters\":{\n",
    "                \"type\": \"Lognormal10DoseResponse\",\n",
    "                \"levels\":[\"Severe\",\"Light\"],\n",
    "                \"parameters\":{\n",
    "                \"Severe\": {\n",
    "                    \"TL_50\" : 10,\n",
    "                    \"sigma\": 0.5\n",
    "                },\n",
    "                \"Light\": {\n",
    "                    \"TL_50\" : 1,\n",
    "                    \"sigma\": 0.5\n",
    "                }\n",
    "            }\n",
    "            }\n",
    "        },\n",
    "        \"PAC1min\":{\n",
    "            \"type\":\"Threshold\",\n",
    "            \"calculator\":{\n",
    "                \"MaxConcentration\" : {\"sampling\":\"1min\"}\n",
    "            },\n",
    "            \"parameters\":{\n",
    "                \"type\":\"Threshold\",\n",
    "                \"levels\":[\"1\",\"2\"],\n",
    "                \"parameters\":{\n",
    "                    \"1\":{\"threshold\":\"1*mg/m**3\"},\n",
    "                    \"2\":{\"threshold\":\"2*mg/m**3\"},\n",
    "                }\n",
    "            }\n",
    "        }\n",
    "    }\n",
    "}\n",
    "Agent = risk.loadAgent(name=AgentName, agentDescription=description, version=\"1\",saveMode=None)\n",
    "Agent"
   ]
  },
  {
   "cell_type": "markdown",
   "metadata": {},
   "source": [
    "As demonstrated above, each agent has several kinds of effect types, which define different kinds of injuries.\n",
    "For example, the fictive agent above may use Ten-Berge model in order to assess light and severe injuries, or, on the other hand,\n",
    "calculate the areas in which the concentration during a 1 minute sampling surpass the defined PAC levels.\n",
    "When using the agent, one needs to decide which kind of injury type should be used.\n",
    "\n",
    "As of today, three types of effects are available: Lognormal10, Exponential and Threshold.\n",
    "Lognormal10 requries values for the parameters \"TL_50\" and \"sigma\" for each injury level.\n",
    "Exponential requries value for the parameter \"k\" for each injury level.\n",
    "Threshold requiers value for the parameter \"threshold\" for each injury level.\n",
    "\n",
    "Lognormal and exponential distributions of injury levels may use one of two calculators: \"Haber\" and \"TenBerge\".\n",
    "The threshold should use \"MaxConcentration\". A sampling time must be given to this calculator, as presented above.\n",
    "\n",
    "## Get Agent\n",
    "\n",
    "An agent object can be retrieved by the agent name or descriptor using the getAgent function:"
   ]
  },
  {
   "cell_type": "code",
   "execution_count": 17,
   "metadata": {},
   "outputs": [
    {
     "data": {
      "text/plain": [
       "<hera.riskassessment.agents.Agents.Agent at 0x7f410c70c748>"
      ]
     },
     "execution_count": 17,
     "metadata": {},
     "output_type": "execute_result"
    }
   ],
   "source": [
    "Agent = risk.getAgent(description)\n",
    "Agent"
   ]
  },
  {
   "cell_type": "markdown",
   "metadata": {},
   "source": [
    "If the agent was saved to the database, a certain desired version could be retrieved.\n",
    "If the version is not specified, the latest version is retrieved."
   ]
  },
  {
   "cell_type": "code",
   "execution_count": 18,
   "metadata": {},
   "outputs": [],
   "source": [
    "# Agent = risk.getAgent(AgentName, version = \"1\")"
   ]
  },
  {
   "cell_type": "markdown",
   "metadata": {},
   "source": [
    "## Calculating the toxic load\n",
    "\n",
    "Some agents use the Ten-Berge model for toxic load. For these agents, the effective toxic load in each point relative to the source may be calculated,\n",
    "using the agent's appropiate Ten-Berge coefficient. The calculation is done using a concentration field, calculated in this case using hera LSM. For example, the calculation for the fictive agent is:"
   ]
  },
  {
   "cell_type": "code",
   "execution_count": 4,
   "metadata": {},
   "outputs": [],
   "source": [
    "from hera.simulations.LSM.singleSimulation import SingleSimulation\n",
    "chosen_sim = SingleSimulation(\"../LSM/netcdf\")\n",
    "concentration = chosen_sim.getConcentration()\n",
    "ToxicLoad = Agent.RegularPopulation.calculateRaw(concentration,\"C\")"
   ]
  },
  {
   "cell_type": "markdown",
   "metadata": {},
   "source": [
    "The toxic load is an xarray.\n",
    "\n",
    "## Calculating the effect\n",
    "\n",
    "The main use of the agent object is to calculate the dimensions of the affected areas for the different injury levels of the different injury types.\n",
    "This is done simply using the \"calculate\" function, that should receive a concentration field and the name of the appropiate field in the concentration xarray."
   ]
  },
  {
   "cell_type": "code",
   "execution_count": 5,
   "metadata": {},
   "outputs": [],
   "source": [
    "#riskAreas = Agent.RegularPopulation.calculate(concentration, \"C\")"
   ]
  },
  {
   "cell_type": "markdown",
   "metadata": {},
   "source": [
    "If one desires to calculate the areas for a specific timestep of the concentration xarray, it may be done this way:"
   ]
  },
  {
   "cell_type": "code",
   "execution_count": 6,
   "metadata": {},
   "outputs": [
    {
     "data": {
      "text/html": [
       "<div>\n",
       "<style scoped>\n",
       "    .dataframe tbody tr th:only-of-type {\n",
       "        vertical-align: middle;\n",
       "    }\n",
       "\n",
       "    .dataframe tbody tr th {\n",
       "        vertical-align: top;\n",
       "    }\n",
       "\n",
       "    .dataframe thead th {\n",
       "        text-align: right;\n",
       "    }\n",
       "</style>\n",
       "<table border=\"1\" class=\"dataframe\">\n",
       "  <thead>\n",
       "    <tr style=\"text-align: right;\">\n",
       "      <th></th>\n",
       "      <th>ToxicLoad</th>\n",
       "      <th>TotalPolygon</th>\n",
       "      <th>severity</th>\n",
       "      <th>datetime</th>\n",
       "      <th>percentEffected</th>\n",
       "      <th>ThresholdPolygon</th>\n",
       "    </tr>\n",
       "  </thead>\n",
       "  <tbody>\n",
       "    <tr>\n",
       "      <th>0</th>\n",
       "      <td>1.505127</td>\n",
       "      <td>POLYGON ((219.549 -40.451, 215.000 -40.663, 20...</td>\n",
       "      <td>Severe</td>\n",
       "      <td>2016-01-01 12:10:00</td>\n",
       "      <td>0.05</td>\n",
       "      <td>POLYGON ((219.5494544363258 -40.45054556367421...</td>\n",
       "    </tr>\n",
       "    <tr>\n",
       "      <th>1</th>\n",
       "      <td>2.286779</td>\n",
       "      <td>POLYGON ((195.386 -34.614, 195.000 -34.640, 19...</td>\n",
       "      <td>Severe</td>\n",
       "      <td>2016-01-01 12:10:00</td>\n",
       "      <td>0.10</td>\n",
       "      <td>POLYGON ((195.3861095831512 -34.61389041684884...</td>\n",
       "    </tr>\n",
       "    <tr>\n",
       "      <th>2</th>\n",
       "      <td>3.032378</td>\n",
       "      <td>POLYGON ((199.462 -30.538, 195.000 -30.836, 18...</td>\n",
       "      <td>Severe</td>\n",
       "      <td>2016-01-01 12:10:00</td>\n",
       "      <td>0.15</td>\n",
       "      <td>POLYGON ((199.4615080772127 -30.53849192278734...</td>\n",
       "    </tr>\n",
       "    <tr>\n",
       "      <th>3</th>\n",
       "      <td>3.794804</td>\n",
       "      <td>POLYGON ((203.629 -26.371, 195.000 -26.947, 19...</td>\n",
       "      <td>Severe</td>\n",
       "      <td>2016-01-01 12:10:00</td>\n",
       "      <td>0.20</td>\n",
       "      <td>POLYGON ((203.6288866315501 -26.37111336844987...</td>\n",
       "    </tr>\n",
       "    <tr>\n",
       "      <th>4</th>\n",
       "      <td>4.599971</td>\n",
       "      <td>POLYGON ((17.141 17.141, 25.000 22.654, 26.679...</td>\n",
       "      <td>Severe</td>\n",
       "      <td>2016-01-01 12:10:00</td>\n",
       "      <td>0.25</td>\n",
       "      <td>POLYGON ((17.14104408470092 17.14104408470092,...</td>\n",
       "    </tr>\n",
       "    <tr>\n",
       "      <th>5</th>\n",
       "      <td>5.467638</td>\n",
       "      <td>POLYGON ((15.521 15.521, 25.000 22.170, 27.025...</td>\n",
       "      <td>Severe</td>\n",
       "      <td>2016-01-01 12:10:00</td>\n",
       "      <td>0.30</td>\n",
       "      <td>POLYGON ((15.52051957070593 15.52051957070593,...</td>\n",
       "    </tr>\n",
       "    <tr>\n",
       "      <th>6</th>\n",
       "      <td>6.417114</td>\n",
       "      <td>POLYGON ((135.016 24.984, 145.000 24.927, 153....</td>\n",
       "      <td>Severe</td>\n",
       "      <td>2016-01-01 12:10:00</td>\n",
       "      <td>0.35</td>\n",
       "      <td>POLYGON ((135.0157901021301 24.98420989786993,...</td>\n",
       "    </tr>\n",
       "    <tr>\n",
       "      <th>7</th>\n",
       "      <td>7.470101</td>\n",
       "      <td>POLYGON ((137.093 22.907, 145.000 22.861, 151....</td>\n",
       "      <td>Severe</td>\n",
       "      <td>2016-01-01 12:10:00</td>\n",
       "      <td>0.40</td>\n",
       "      <td>POLYGON ((137.0932019347003 22.90679806529972,...</td>\n",
       "    </tr>\n",
       "    <tr>\n",
       "      <th>8</th>\n",
       "      <td>8.653052</td>\n",
       "      <td>POLYGON ((139.427 20.573, 145.000 20.541, 149....</td>\n",
       "      <td>Severe</td>\n",
       "      <td>2016-01-01 12:10:00</td>\n",
       "      <td>0.45</td>\n",
       "      <td>POLYGON ((139.4270192417542 20.57298075824579,...</td>\n",
       "    </tr>\n",
       "    <tr>\n",
       "      <th>9</th>\n",
       "      <td>10.000000</td>\n",
       "      <td>POLYGON ((142.084 17.916, 145.000 17.899, 147....</td>\n",
       "      <td>Severe</td>\n",
       "      <td>2016-01-01 12:10:00</td>\n",
       "      <td>0.50</td>\n",
       "      <td>POLYGON ((142.084380455533 17.91561954446698, ...</td>\n",
       "    </tr>\n",
       "  </tbody>\n",
       "</table>\n",
       "</div>"
      ],
      "text/plain": [
       "   ToxicLoad                                       TotalPolygon severity  \\\n",
       "0   1.505127  POLYGON ((219.549 -40.451, 215.000 -40.663, 20...   Severe   \n",
       "1   2.286779  POLYGON ((195.386 -34.614, 195.000 -34.640, 19...   Severe   \n",
       "2   3.032378  POLYGON ((199.462 -30.538, 195.000 -30.836, 18...   Severe   \n",
       "3   3.794804  POLYGON ((203.629 -26.371, 195.000 -26.947, 19...   Severe   \n",
       "4   4.599971  POLYGON ((17.141 17.141, 25.000 22.654, 26.679...   Severe   \n",
       "5   5.467638  POLYGON ((15.521 15.521, 25.000 22.170, 27.025...   Severe   \n",
       "6   6.417114  POLYGON ((135.016 24.984, 145.000 24.927, 153....   Severe   \n",
       "7   7.470101  POLYGON ((137.093 22.907, 145.000 22.861, 151....   Severe   \n",
       "8   8.653052  POLYGON ((139.427 20.573, 145.000 20.541, 149....   Severe   \n",
       "9  10.000000  POLYGON ((142.084 17.916, 145.000 17.899, 147....   Severe   \n",
       "\n",
       "             datetime  percentEffected  \\\n",
       "0 2016-01-01 12:10:00             0.05   \n",
       "1 2016-01-01 12:10:00             0.10   \n",
       "2 2016-01-01 12:10:00             0.15   \n",
       "3 2016-01-01 12:10:00             0.20   \n",
       "4 2016-01-01 12:10:00             0.25   \n",
       "5 2016-01-01 12:10:00             0.30   \n",
       "6 2016-01-01 12:10:00             0.35   \n",
       "7 2016-01-01 12:10:00             0.40   \n",
       "8 2016-01-01 12:10:00             0.45   \n",
       "9 2016-01-01 12:10:00             0.50   \n",
       "\n",
       "                                    ThresholdPolygon  \n",
       "0  POLYGON ((219.5494544363258 -40.45054556367421...  \n",
       "1  POLYGON ((195.3861095831512 -34.61389041684884...  \n",
       "2  POLYGON ((199.4615080772127 -30.53849192278734...  \n",
       "3  POLYGON ((203.6288866315501 -26.37111336844987...  \n",
       "4  POLYGON ((17.14104408470092 17.14104408470092,...  \n",
       "5  POLYGON ((15.52051957070593 15.52051957070593,...  \n",
       "6  POLYGON ((135.0157901021301 24.98420989786993,...  \n",
       "7  POLYGON ((137.0932019347003 22.90679806529972,...  \n",
       "8  POLYGON ((139.4270192417542 20.57298075824579,...  \n",
       "9  POLYGON ((142.084380455533 17.91561954446698, ...  "
      ]
     },
     "execution_count": 6,
     "metadata": {},
     "output_type": "execute_result"
    }
   ],
   "source": [
    "import pandas\n",
    "time = \"2018-01-15 10:00:00\"\n",
    "desiredTime = pandas.to_datetime(time)\n",
    "#riskAreas = Agent.RegularPopulation.calculate(concentration, \"C\", sel={\"datetime\":desiredTime})\n",
    "# Or, for the last time step, for example:\n",
    "riskAreas = Agent.RegularPopulation.calculate(concentration, \"C\", isel={\"datetime\":-1})\n",
    "riskAreas[:10]"
   ]
  },
  {
   "cell_type": "markdown",
   "metadata": {},
   "source": [
    "## Demography \n",
    "\n",
    "The risk areas calculated in the previous section may be projected on GIS data, such as the demography data which exists in hera-data."
   ]
  },
  {
   "cell_type": "code",
   "execution_count": 7,
   "metadata": {},
   "outputs": [
    {
     "name": "stderr",
     "output_type": "stream",
     "text": [
      "/raid/opt/anaconda3/envs/Math-20-05/lib/python3.6/site-packages/pyproj/crs/crs.py:53: FutureWarning: '+init=<authority>:<code>' syntax is deprecated. '<authority>:<code>' is the preferred initialization method. When making the change, be mindful of axis order changes: https://pyproj4.github.io/pyproj/stable/gotchas.html#axis-order-changes-in-proj-6\n",
      "  return _prepare_from_string(\" \".join(pjargs))\n"
     ]
    },
    {
     "data": {
      "text/html": [
       "<div>\n",
       "<style scoped>\n",
       "    .dataframe tbody tr th:only-of-type {\n",
       "        vertical-align: middle;\n",
       "    }\n",
       "\n",
       "    .dataframe tbody tr th {\n",
       "        vertical-align: top;\n",
       "    }\n",
       "\n",
       "    .dataframe thead th {\n",
       "        text-align: right;\n",
       "    }\n",
       "</style>\n",
       "<table border=\"1\" class=\"dataframe\">\n",
       "  <thead>\n",
       "    <tr style=\"text-align: right;\">\n",
       "      <th></th>\n",
       "      <th>geometry</th>\n",
       "      <th>areaFraction</th>\n",
       "      <th>total_pop</th>\n",
       "      <th>effectedtotal_pop</th>\n",
       "      <th>percentEffected</th>\n",
       "      <th>ToxicLoad</th>\n",
       "      <th>severity</th>\n",
       "      <th>datetime</th>\n",
       "    </tr>\n",
       "  </thead>\n",
       "  <tbody>\n",
       "    <tr>\n",
       "      <th>30</th>\n",
       "      <td>POLYGON ((198268.188 745070.614, 198277.759 74...</td>\n",
       "      <td>0.003678</td>\n",
       "      <td>20.609957</td>\n",
       "      <td>1.027741</td>\n",
       "      <td>0.049866</td>\n",
       "      <td>0.150513</td>\n",
       "      <td>Light</td>\n",
       "      <td>2016-01-01 12:10:00</td>\n",
       "    </tr>\n",
       "    <tr>\n",
       "      <th>37</th>\n",
       "      <td>MULTIPOLYGON (((198567.743 744921.885, 198569....</td>\n",
       "      <td>0.072329</td>\n",
       "      <td>177.783998</td>\n",
       "      <td>8.865417</td>\n",
       "      <td>0.049866</td>\n",
       "      <td>0.150513</td>\n",
       "      <td>Light</td>\n",
       "      <td>2016-01-01 12:10:00</td>\n",
       "    </tr>\n",
       "    <tr>\n",
       "      <th>38</th>\n",
       "      <td>MULTIPOLYGON (((198594.432 745073.000, 198595....</td>\n",
       "      <td>0.006646</td>\n",
       "      <td>24.424028</td>\n",
       "      <td>1.217934</td>\n",
       "      <td>0.049866</td>\n",
       "      <td>0.150513</td>\n",
       "      <td>Light</td>\n",
       "      <td>2016-01-01 12:10:00</td>\n",
       "    </tr>\n",
       "    <tr>\n",
       "      <th>30</th>\n",
       "      <td>POLYGON ((198277.759 745065.188, 198282.156 74...</td>\n",
       "      <td>0.002573</td>\n",
       "      <td>14.421174</td>\n",
       "      <td>1.434673</td>\n",
       "      <td>0.099484</td>\n",
       "      <td>0.228678</td>\n",
       "      <td>Light</td>\n",
       "      <td>2016-01-01 12:10:00</td>\n",
       "    </tr>\n",
       "    <tr>\n",
       "      <th>37</th>\n",
       "      <td>POLYGON ((198570.083 744935.064, 198570.148 74...</td>\n",
       "      <td>0.029542</td>\n",
       "      <td>72.614867</td>\n",
       "      <td>7.224004</td>\n",
       "      <td>0.099484</td>\n",
       "      <td>0.228678</td>\n",
       "      <td>Light</td>\n",
       "      <td>2016-01-01 12:10:00</td>\n",
       "    </tr>\n",
       "    <tr>\n",
       "      <th>38</th>\n",
       "      <td>MULTIPOLYGON (((198594.082 745058.468, 198593....</td>\n",
       "      <td>0.005056</td>\n",
       "      <td>18.581962</td>\n",
       "      <td>1.848604</td>\n",
       "      <td>0.099484</td>\n",
       "      <td>0.228678</td>\n",
       "      <td>Light</td>\n",
       "      <td>2016-01-01 12:10:00</td>\n",
       "    </tr>\n",
       "    <tr>\n",
       "      <th>30</th>\n",
       "      <td>POLYGON ((198282.156 745062.696, 198287.753 74...</td>\n",
       "      <td>0.001995</td>\n",
       "      <td>11.178899</td>\n",
       "      <td>1.663454</td>\n",
       "      <td>0.148803</td>\n",
       "      <td>0.303238</td>\n",
       "      <td>Light</td>\n",
       "      <td>2016-01-01 12:10:00</td>\n",
       "    </tr>\n",
       "    <tr>\n",
       "      <th>37</th>\n",
       "      <td>POLYGON ((198571.222 744941.776, 198571.588 74...</td>\n",
       "      <td>0.019584</td>\n",
       "      <td>48.138115</td>\n",
       "      <td>7.163097</td>\n",
       "      <td>0.148803</td>\n",
       "      <td>0.303238</td>\n",
       "      <td>Light</td>\n",
       "      <td>2016-01-01 12:10:00</td>\n",
       "    </tr>\n",
       "    <tr>\n",
       "      <th>38</th>\n",
       "      <td>MULTIPOLYGON (((198592.674 745049.586, 198591....</td>\n",
       "      <td>0.004669</td>\n",
       "      <td>17.157926</td>\n",
       "      <td>2.553151</td>\n",
       "      <td>0.148803</td>\n",
       "      <td>0.303238</td>\n",
       "      <td>Light</td>\n",
       "      <td>2016-01-01 12:10:00</td>\n",
       "    </tr>\n",
       "    <tr>\n",
       "      <th>30</th>\n",
       "      <td>POLYGON ((198287.753 745059.523, 198293.900 74...</td>\n",
       "      <td>0.001837</td>\n",
       "      <td>10.294382</td>\n",
       "      <td>2.035773</td>\n",
       "      <td>0.197756</td>\n",
       "      <td>0.379480</td>\n",
       "      <td>Light</td>\n",
       "      <td>2016-01-01 12:10:00</td>\n",
       "    </tr>\n",
       "  </tbody>\n",
       "</table>\n",
       "</div>"
      ],
      "text/plain": [
       "                                             geometry  areaFraction  \\\n",
       "30  POLYGON ((198268.188 745070.614, 198277.759 74...      0.003678   \n",
       "37  MULTIPOLYGON (((198567.743 744921.885, 198569....      0.072329   \n",
       "38  MULTIPOLYGON (((198594.432 745073.000, 198595....      0.006646   \n",
       "30  POLYGON ((198277.759 745065.188, 198282.156 74...      0.002573   \n",
       "37  POLYGON ((198570.083 744935.064, 198570.148 74...      0.029542   \n",
       "38  MULTIPOLYGON (((198594.082 745058.468, 198593....      0.005056   \n",
       "30  POLYGON ((198282.156 745062.696, 198287.753 74...      0.001995   \n",
       "37  POLYGON ((198571.222 744941.776, 198571.588 74...      0.019584   \n",
       "38  MULTIPOLYGON (((198592.674 745049.586, 198591....      0.004669   \n",
       "30  POLYGON ((198287.753 745059.523, 198293.900 74...      0.001837   \n",
       "\n",
       "     total_pop  effectedtotal_pop  percentEffected  ToxicLoad severity  \\\n",
       "30   20.609957           1.027741         0.049866   0.150513    Light   \n",
       "37  177.783998           8.865417         0.049866   0.150513    Light   \n",
       "38   24.424028           1.217934         0.049866   0.150513    Light   \n",
       "30   14.421174           1.434673         0.099484   0.228678    Light   \n",
       "37   72.614867           7.224004         0.099484   0.228678    Light   \n",
       "38   18.581962           1.848604         0.099484   0.228678    Light   \n",
       "30   11.178899           1.663454         0.148803   0.303238    Light   \n",
       "37   48.138115           7.163097         0.148803   0.303238    Light   \n",
       "38   17.157926           2.553151         0.148803   0.303238    Light   \n",
       "30   10.294382           2.035773         0.197756   0.379480    Light   \n",
       "\n",
       "              datetime  \n",
       "30 2016-01-01 12:10:00  \n",
       "37 2016-01-01 12:10:00  \n",
       "38 2016-01-01 12:10:00  \n",
       "30 2016-01-01 12:10:00  \n",
       "37 2016-01-01 12:10:00  \n",
       "38 2016-01-01 12:10:00  \n",
       "30 2016-01-01 12:10:00  \n",
       "37 2016-01-01 12:10:00  \n",
       "38 2016-01-01 12:10:00  \n",
       "30 2016-01-01 12:10:00  "
      ]
     },
     "execution_count": 7,
     "metadata": {},
     "output_type": "execute_result"
    }
   ],
   "source": [
    "import geopandas\n",
    "Haifa = geopandas.read_file(\"../Demography/examples/Haifa\")\n",
    "some_angle = 0 # An angle between 0-360\n",
    "x_coordinate = 198000\n",
    "y_coordinate = 745000\n",
    "injuryareas = riskAreas.project(Haifa, loc=[x_coordinate,y_coordinate],mathematical_angle=some_angle)\n",
    "injuryareas[:10]"
   ]
  },
  {
   "cell_type": "markdown",
   "metadata": {},
   "source": [
    "## Presentation\n",
    "\n",
    "The injuryareas parameter is a geodataframe with polygons that correspond to injury severities,\n",
    "with the number of injured population in each polygon.\n",
    "Using this data, one may design and present one's risk assessment as one desires.\n",
    "For example, one may get the total number of injuries in each severity this way:"
   ]
  },
  {
   "cell_type": "code",
   "execution_count": 8,
   "metadata": {},
   "outputs": [
    {
     "data": {
      "text/plain": [
       "severity\n",
       "Light     205.204804\n",
       "Severe     48.805068\n",
       "Name: effectedtotal_pop, dtype: float64"
      ]
     },
     "execution_count": 8,
     "metadata": {},
     "output_type": "execute_result"
    }
   ],
   "source": [
    "totalInjuries = injuryareas.groupby(\"severity\")[\"effectedtotal_pop\"].sum()\n",
    "totalInjuries"
   ]
  },
  {
   "cell_type": "markdown",
   "metadata": {},
   "source": [
    "One may also use built-in plots of the riskassessment tool.\n",
    "At the moment, one plot type is available,\n",
    "which shows the risk areas polygons."
   ]
  },
  {
   "cell_type": "code",
   "execution_count": 15,
   "metadata": {},
   "outputs": [
    {
     "name": "stderr",
     "output_type": "stream",
     "text": [
      "/raid/opt/anaconda3/envs/Math-20-05/lib/python3.6/site-packages/pyproj/crs/crs.py:53: FutureWarning: '+init=<authority>:<code>' syntax is deprecated. '<authority>:<code>' is the preferred initialization method. When making the change, be mindful of axis order changes: https://pyproj4.github.io/pyproj/stable/gotchas.html#axis-order-changes-in-proj-6\n",
      "  return _prepare_from_string(\" \".join(pjargs))\n"
     ]
    },
    {
     "data": {
      "text/plain": [
       "<matplotlib.axes._subplots.AxesSubplot at 0x7f411c0620b8>"
      ]
     },
     "execution_count": 15,
     "metadata": {},
     "output_type": "execute_result"
    },
    {
     "data": {
      "image/png": "[encoded data removed]",
      "text/plain": [
       "<Figure size 432x288 with 1 Axes>"
      ]
     },
     "metadata": {
      "needs_background": "light"
     },
     "output_type": "display_data"
    }
   ],
   "source": [
    "import matplotlib.pyplot as plt\n",
    "ax, retProj = risk.presentation.plotCasualtiesProjection(results=riskAreas,area=Haifa,loc=[x_coordinate,y_coordinate],\n",
    "                                             mathematical_angle=some_angle, severityList=[\"Light\",\"Severe\"],\n",
    "                                                            cycler=plt.cycler(fc=plt.rcParams['axes.prop_cycle'].by_key()['color'])*plt.cycler(ec=['black']))\n",
    "Haifa.plot(ax=ax,cmap='Greens')\n",
    "ax.scatter(x_coordinate,y_coordinate,marker=\"*\",color=\"red\")\n",
    "ax"
   ]
  },
  {
   "cell_type": "markdown",
   "metadata": {},
   "source": [
    "And, with zoom-in:"
   ]
  },
  {
   "cell_type": "code",
   "execution_count": 16,
   "metadata": {},
   "outputs": [
    {
     "name": "stderr",
     "output_type": "stream",
     "text": [
      "/raid/opt/anaconda3/envs/Math-20-05/lib/python3.6/site-packages/pyproj/crs/crs.py:53: FutureWarning: '+init=<authority>:<code>' syntax is deprecated. '<authority>:<code>' is the preferred initialization method. When making the change, be mindful of axis order changes: https://pyproj4.github.io/pyproj/stable/gotchas.html#axis-order-changes-in-proj-6\n",
      "  return _prepare_from_string(\" \".join(pjargs))\n"
     ]
    },
    {
     "data": {
      "text/plain": [
       "<matplotlib.axes._subplots.AxesSubplot at 0x7f410c7392e8>"
      ]
     },
     "execution_count": 16,
     "metadata": {},
     "output_type": "execute_result"
    },
    {
     "data": {
      "image/png": "[encoded data removed]",
      "text/plain": [
       "<Figure size 432x288 with 1 Axes>"
      ]
     },
     "metadata": {
      "needs_background": "light"
     },
     "output_type": "display_data"
    }
   ],
   "source": [
    "ax, retProj = risk.presentation.plotCasualtiesProjection(results=riskAreas,area=Haifa,loc=[x_coordinate,y_coordinate],\n",
    "                                             mathematical_angle=some_angle, severityList=[\"Light\",\"Severe\"],\n",
    "                                                            cycler=plt.cycler(fc=plt.rcParams['axes.prop_cycle'].by_key()['color'])*plt.cycler(ec=['black']))\n",
    "ax.set_xlim(197800,199000)\n",
    "ax.set_ylim(744800,745200)\n",
    "Haifa.plot(ax=ax,cmap='Greens')\n",
    "ax.scatter(x_coordinate,y_coordinate,marker=\"*\",color=\"red\")\n",
    "ax"
   ]
  }
 ],
 "metadata": {
  "kernelspec": {
   "display_name": "Python 3",
   "language": "python",
   "name": "python3"
  },
  "language_info": {
   "codemirror_mode": {
    "name": "ipython",
    "version": 3
   },
   "file_extension": ".py",
   "mimetype": "text/x-python",
   "name": "python",
   "nbconvert_exporter": "python",
   "pygments_lexer": "ipython3",
   "version": "3.6.5"
  }
 },
 "nbformat": 4,
 "nbformat_minor": 4
}
