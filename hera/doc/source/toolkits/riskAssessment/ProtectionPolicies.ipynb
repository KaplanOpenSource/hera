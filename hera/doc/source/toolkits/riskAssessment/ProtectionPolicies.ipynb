{
 "cells": [
  {
   "cell_type": "markdown",
   "metadata": {},
   "source": [
    "# Protection Policies\n",
    "\n",
    "The effect of protetion policies on the concentration field may be assessed.\n",
    "There are currently two kinds of protection policies: entering safe areas and wearing masks.\n",
    "\n",
    "The protection policies are defined by dictionaries. The key name should be \"indoor\" for entering safe areas or \"masks\" for wearing masks.\n",
    "The other key is \"params\", which is another dictionary.\n",
    "\n",
    "## Indoor\n",
    "\n",
    "For this policy, three parameters should be defined: \"turnover\", which is the measure of time in which the air in the closed area is exchanged,\n",
    "\"enter\", which is the time between the beginning of the simulation and the enterance indoors, and \"stay\", which is the time between the entrance and leaving of the protected area.\n",
    "\n",
    "The calculation is done this way:"
   ]
  },
  {
   "cell_type": "code",
   "execution_count": 19,
   "metadata": {},
   "outputs": [],
   "source": [
    "from hera.simulations.LSM.singleSimulation import SingleSimulation\n",
    "from unum.units import *\n",
    "\n",
    "from hera import toolkitHome\n",
    "risk = toolkitHome.getToolkit(toolkitName=toolkitHome.RISKASSESSMENT,\n",
    "                              projectName = \"documentation\")\n",
    "\n",
    "chosen_sim = SingleSimulation(\"../LSM/netcdf\")\n",
    "concentration = chosen_sim.getConcentration()\n",
    "\n",
    "indoor = dict(name=\"indoor\",params=dict(turnover=15*min,enter=\"30s\",stay=\"10min\"))\n",
    "newConcentraion = risk.ProtectionPolicy(indoor).compute(concentration.isel({\"z\":0})).squeeze().compute()"
   ]
  },
  {
   "cell_type": "markdown",
   "metadata": {},
   "source": [
    "## Masks\n",
    "\n",
    "Defining the properties of wearing masks is done similarly.\n",
    "The parameters are \"factor\", which is the factor by which the mask reduces the concentration, \"wear\", which is the time between the beginning of the simulation and the wearing of the mask, and \"duration\", which is the amount of time the mask is being worn.\n",
    "For example,"
   ]
  },
  {
   "cell_type": "code",
   "execution_count": 20,
   "metadata": {},
   "outputs": [],
   "source": [
    "masks = dict(name=\"masks\",params=dict(protectionFactor=10,wear=\"0s\",duration=\"10min\"))\n",
    "newConcentraion = risk.ProtectionPolicy(indoor).compute(concentration.isel({\"z\":0})).squeeze().compute()"
   ]
  },
  {
   "cell_type": "markdown",
   "metadata": {},
   "source": [
    "Several protection policies may be activated at the same time, for example:"
   ]
  },
  {
   "cell_type": "code",
   "execution_count": 22,
   "metadata": {},
   "outputs": [],
   "source": [
    "newConcentraion = risk.ProtectionPolicy(actionList=[indoor,masks]).compute(concentration).squeeze().compute()"
   ]
  }
 ],
 "metadata": {
  "kernelspec": {
   "display_name": "Python 3",
   "language": "python",
   "name": "python3"
  },
  "language_info": {
   "codemirror_mode": {
    "name": "ipython",
    "version": 3
   },
   "file_extension": ".py",
   "mimetype": "text/x-python",
   "name": "python",
   "nbconvert_exporter": "python",
   "pygments_lexer": "ipython3",
   "version": "3.6.5"
  }
 },
 "nbformat": 4,
 "nbformat_minor": 4
}
