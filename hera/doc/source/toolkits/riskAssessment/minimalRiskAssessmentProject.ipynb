{
 "cells": [
  {
   "cell_type": "markdown",
   "metadata": {},
   "source": [
    "# Risk Assessment Project Example\n",
    "\n",
    "Here we will demonstrate how to start a new risk assessment project.\n",
    "We will present the most basic steps needed.\n",
    "More detailed information on each step may be found at the used tools' documentation.\n",
    "\n",
    "We will use data loaded directly from the files directories, not using hera-data.\n",
    "Information on the data available for each tool in hera-data may be found at the tools documentation.\n",
    "\n",
    "## Demography\n",
    "\n",
    "A new region may be cut from the source file. For example, we will use a source file of Katsrin's population,\n",
    "and cut a rectangle within it."
   ]
  },
  {
   "cell_type": "code",
   "execution_count": 1,
   "metadata": {},
   "outputs": [
    {
     "name": "stdout",
     "output_type": "stream",
     "text": [
      "Loading the Building Toolkit. FreeCAD not Found, cannot convert to STL\n"
     ]
    },
    {
     "data": {
      "text/html": [
       "<div>\n",
       "<style scoped>\n",
       "    .dataframe tbody tr th:only-of-type {\n",
       "        vertical-align: middle;\n",
       "    }\n",
       "\n",
       "    .dataframe tbody tr th {\n",
       "        vertical-align: top;\n",
       "    }\n",
       "\n",
       "    .dataframe thead th {\n",
       "        text-align: right;\n",
       "    }\n",
       "</style>\n",
       "<table border=\"1\" class=\"dataframe\">\n",
       "  <thead>\n",
       "    <tr style=\"text-align: right;\">\n",
       "      <th></th>\n",
       "      <th>geometry</th>\n",
       "      <th>areaFraction</th>\n",
       "      <th>total_pop</th>\n",
       "      <th>age_0_14</th>\n",
       "      <th>age_15_19</th>\n",
       "      <th>age_20_29</th>\n",
       "      <th>age_30_64</th>\n",
       "      <th>age_65_up</th>\n",
       "    </tr>\n",
       "  </thead>\n",
       "  <tbody>\n",
       "    <tr>\n",
       "      <th>0</th>\n",
       "      <td>POLYGON ((264000.000 766500.000, 264000.000 76...</td>\n",
       "      <td>0.039139</td>\n",
       "      <td>189.229777</td>\n",
       "      <td>45.243095</td>\n",
       "      <td>13.036596</td>\n",
       "      <td>28.037974</td>\n",
       "      <td>76.201692</td>\n",
       "      <td>26.683868</td>\n",
       "    </tr>\n",
       "  </tbody>\n",
       "</table>\n",
       "</div>"
      ],
      "text/plain": [
       "                                            geometry  areaFraction  \\\n",
       "0  POLYGON ((264000.000 766500.000, 264000.000 76...      0.039139   \n",
       "\n",
       "    total_pop   age_0_14  age_15_19  age_20_29  age_30_64  age_65_up  \n",
       "0  189.229777  45.243095  13.036596  28.037974  76.201692  26.683868  "
      ]
     },
     "execution_count": 1,
     "metadata": {},
     "output_type": "execute_result"
    }
   ],
   "source": [
    "from hera import toolkitHome\n",
    "import pandas\n",
    "import geopandas\n",
    "from shapely.geometry import Polygon\n",
    "\n",
    "projectName = \"documentation\"\n",
    "toolkitName = \"GIS_Demography\"\n",
    "Demography  = toolkitHome.getToolkit(projectName=projectName,toolkitName=toolkitName)\n",
    "\n",
    "poly = Polygon([[264000,766500],[264000,767000],[264500,767000],[264500,766500]])\n",
    "filePath = \"../Demography/examples/Katsrin/Katsrin.shp\"\n",
    "KatsrinRectangle = Demography.analysis.calculatePopulationInPolygon(shapeNameOrData = poly, dataSourceOrData = filePath)\n",
    "KatsrinRectangle"
   ]
  },
  {
   "cell_type": "markdown",
   "metadata": {},
   "source": [
    "The areaFraction value is the fraction of the area from the whole area of the polygon in the original data file - \n",
    "in our case, about 4 percent of the area. The population values are 4 percent of the values of the whole area.\n",
    "\n",
    "We can also cut an area and choose to asign the population of the whole area to it. For example, if we wanted to asign the whole population of Katsrin to the selected rectangle we could do it this way:"
   ]
  },
  {
   "cell_type": "code",
   "execution_count": 2,
   "metadata": {},
   "outputs": [
    {
     "data": {
      "text/html": [
       "<div>\n",
       "<style scoped>\n",
       "    .dataframe tbody tr th:only-of-type {\n",
       "        vertical-align: middle;\n",
       "    }\n",
       "\n",
       "    .dataframe tbody tr th {\n",
       "        vertical-align: top;\n",
       "    }\n",
       "\n",
       "    .dataframe thead th {\n",
       "        text-align: right;\n",
       "    }\n",
       "</style>\n",
       "<table border=\"1\" class=\"dataframe\">\n",
       "  <thead>\n",
       "    <tr style=\"text-align: right;\">\n",
       "      <th></th>\n",
       "      <th>geometry</th>\n",
       "      <th>total_pop</th>\n",
       "      <th>age_0_14</th>\n",
       "      <th>age_15_19</th>\n",
       "      <th>age_20_29</th>\n",
       "      <th>age_30_64</th>\n",
       "      <th>age_65_up</th>\n",
       "    </tr>\n",
       "  </thead>\n",
       "  <tbody>\n",
       "    <tr>\n",
       "      <th>0</th>\n",
       "      <td>POLYGON ((264000.000 766500.000, 264000.000 76...</td>\n",
       "      <td>4834.840687</td>\n",
       "      <td>1155.965838</td>\n",
       "      <td>333.086401</td>\n",
       "      <td>716.373196</td>\n",
       "      <td>1946.961242</td>\n",
       "      <td>681.775627</td>\n",
       "    </tr>\n",
       "  </tbody>\n",
       "</table>\n",
       "</div>"
      ],
      "text/plain": [
       "                                            geometry    total_pop  \\\n",
       "0  POLYGON ((264000.000 766500.000, 264000.000 76...  4834.840687   \n",
       "\n",
       "      age_0_14   age_15_19   age_20_29    age_30_64   age_65_up  \n",
       "0  1155.965838  333.086401  716.373196  1946.961242  681.775627  "
      ]
     },
     "execution_count": 2,
     "metadata": {},
     "output_type": "execute_result"
    }
   ],
   "source": [
    "KatsrinRectangle = Demography.analysis.createNewArea(shapeNameOrData=poly,dataSourceOrData=filePath).getData()\n",
    "KatsrinRectangle"
   ]
  },
  {
   "cell_type": "markdown",
   "metadata": {},
   "source": [
    "We can ask for specific population types, for example:"
   ]
  },
  {
   "cell_type": "code",
   "execution_count": 3,
   "metadata": {},
   "outputs": [
    {
     "data": {
      "text/html": [
       "<div>\n",
       "<style scoped>\n",
       "    .dataframe tbody tr th:only-of-type {\n",
       "        vertical-align: middle;\n",
       "    }\n",
       "\n",
       "    .dataframe tbody tr th {\n",
       "        vertical-align: top;\n",
       "    }\n",
       "\n",
       "    .dataframe thead th {\n",
       "        text-align: right;\n",
       "    }\n",
       "</style>\n",
       "<table border=\"1\" class=\"dataframe\">\n",
       "  <thead>\n",
       "    <tr style=\"text-align: right;\">\n",
       "      <th></th>\n",
       "      <th>geometry</th>\n",
       "      <th>total_pop</th>\n",
       "    </tr>\n",
       "  </thead>\n",
       "  <tbody>\n",
       "    <tr>\n",
       "      <th>0</th>\n",
       "      <td>POLYGON ((264000.000 766500.000, 264000.000 76...</td>\n",
       "      <td>4834.840687</td>\n",
       "    </tr>\n",
       "  </tbody>\n",
       "</table>\n",
       "</div>"
      ],
      "text/plain": [
       "                                            geometry    total_pop\n",
       "0  POLYGON ((264000.000 766500.000, 264000.000 76...  4834.840687"
      ]
     },
     "execution_count": 3,
     "metadata": {},
     "output_type": "execute_result"
    }
   ],
   "source": [
    "KatsrinRectangle = Demography.analysis.createNewArea(shapeNameOrData=poly,dataSourceOrData=filePath,populationTypes=[\"total_pop\"]).getData()\n",
    "KatsrinRectangle"
   ]
  },
  {
   "cell_type": "markdown",
   "metadata": {},
   "source": [
    "## LSM\n",
    "\n",
    "Particles dispersion simulations are also needed for risk assessments.\n",
    "\n",
    "### Loading templates\n",
    "\n",
    "Templates may be loaded to the database using hera-lsm.\n",
    "For example, for loading the v1-general template to the documentation projects the next command line should be run:\n",
    "\n",
    "hera-LSM-load-template v1-general documentation\n",
    "\n",
    "v1-genreal is a template for neutral conditions.\n",
    "\n",
    "After the loading to the database, we can load a template object:"
   ]
  },
  {
   "cell_type": "code",
   "execution_count": 4,
   "metadata": {},
   "outputs": [
    {
     "data": {
      "text/plain": [
       "{'TopoFile': \"'INPUTFLAT'\",\n",
       " 'flat': '.TRUE.',\n",
       " 'TopoXmin': 0.0,\n",
       " 'TopoXmax': 10000.0,\n",
       " 'TopoYmin': 0.0,\n",
       " 'TopoYmax': 10000.0,\n",
       " 'TopoXn': 500,\n",
       " 'TopoYn': 500,\n",
       " 'sourceRatioX': 0.1,\n",
       " 'sourceRatioY': 0.5,\n",
       " 'releaseTime': 1.0,\n",
       " 'releaseHeight': 5,\n",
       " 'windSpeed': 2,\n",
       " 'windDir': 270,\n",
       " 'inversionHeight': 1000,\n",
       " 'savedt': 20,\n",
       " 'duration': 60,\n",
       " 'nParticles': 100000,\n",
       " 'savedx': 10.0,\n",
       " 'savedy': 10.0,\n",
       " 'savedz': 10.0,\n",
       " 'StationsFile': \"'INPUT_STAT_DATA_HAIFA'\",\n",
       " 'homogeneousWind': '.TRUE.',\n",
       " 'particles3D': '.FALSE.',\n",
       " 'wind3D': '.FALSE.',\n",
       " 'n_vdep': 0}"
      ]
     },
     "execution_count": 4,
     "metadata": {},
     "output_type": "execute_result"
    }
   ],
   "source": [
    "toolkitName = \"LSM\"\n",
    "LSM  = toolkitHome.getToolkit(projectName=projectName,toolkitName=toolkitName)\n",
    "neutralTemplate = LSM.getTemplateByName(\"v1-general\",templateVersion=\"1\")\n",
    "neutralTemplate.params"
   ]
  },
  {
   "cell_type": "markdown",
   "metadata": {},
   "source": [
    "These are the template's default parameter; they may be changed in the simulation.\n",
    "\n",
    "### Running a simulation\n",
    "\n",
    "Here we will demonstrate how to run the most simple simulation, with homogenous wind over flat terrain. For more complex cases,\n",
    "see the LSM tool's documentation.\n",
    "\n",
    "The important parameters that should be considered for a homogenous flow over flat terrain are the follow:\n",
    "\n",
    "<ul>\n",
    "<li>windSpeed: The wind's speed in m/s</li>\n",
    "<li>releaseHeight: The height of the release point from the ground in meters</li>\n",
    "<li>inversionHeight: The inversion height in meters</li>\n",
    "<li>releaseTime: The measure of the release of particles in seconds. The default is 1 second, suitable for instantaneuous release</li>\n",
    "<li>savedt: The time steps used for averaging in seconds</li>\n",
    "<li>nParticles: The number of particles used in the simulation</li>\n",
    "<li>duration: The duration of the simulation in minutes</li>\n",
    "</ul>\n",
    "\n",
    "For example, we will run a simulation with a continuous source for 10 minutes, with wind speed of 4 m/s and time averaging of half a minute.\n",
    "The default parameters presented above are used for the parameters we don't define."
   ]
  },
  {
   "cell_type": "code",
   "execution_count": 5,
   "metadata": {},
   "outputs": [],
   "source": [
    "params = dict(duration=10,windSpeed=4,releaseTime=600,savedt=30)\n",
    "# neutralTemplate.run(params=params,saveMode=\"DB_overwrite\")"
   ]
  },
  {
   "cell_type": "markdown",
   "metadata": {},
   "source": [
    "### Extracting the concentration field\n",
    "\n",
    "The concentration field may be eatracted from a simulation.\n",
    "\n",
    "The simulation may be loaded from the database:"
   ]
  },
  {
   "cell_type": "code",
   "execution_count": 6,
   "metadata": {},
   "outputs": [],
   "source": [
    "simulation = LSM.getSimulations(**params)[0]"
   ]
  },
  {
   "cell_type": "markdown",
   "metadata": {},
   "source": [
    "Alternatively, it may be loaded directely from the file:"
   ]
  },
  {
   "cell_type": "code",
   "execution_count": 7,
   "metadata": {},
   "outputs": [
    {
     "data": {
      "text/plain": [
       "<hera.simulations.LSM.singleSimulation.SingleSimulation at 0x7f5ce8876898>"
      ]
     },
     "execution_count": 7,
     "metadata": {},
     "output_type": "execute_result"
    }
   ],
   "source": [
    "LSM.singleSimulation(resource=\"/home/eyal/Development/Hera/hera/doc/source/toolkits/riskAssessment/6072ef11bb31a0a7a6c9bb1c/netcdf\")"
   ]
  },
  {
   "cell_type": "markdown",
   "metadata": {},
   "source": [
    "Then, the concentration field may be calculated. We may deliver the total mass of particles dispersed; the default is 1 kg."
   ]
  },
  {
   "cell_type": "code",
   "execution_count": 8,
   "metadata": {},
   "outputs": [
    {
     "data": {
      "text/html": [
       "<pre>&lt;xarray.Dataset&gt;\n",
       "Dimensions:   (datetime: 20, x: 1000, y: 1000, z: 1)\n",
       "Coordinates:\n",
       "  * x         (x) float64 -995.0 -985.0 -975.0 ... 8.975e+03 8.985e+03 8.995e+03\n",
       "  * z         (z) float64 0.0\n",
       "  * y         (y) float64 -4.995e+03 -4.985e+03 ... 4.985e+03 4.995e+03\n",
       "  * datetime  (datetime) datetime64[ns] 2016-01-01T12:00:30 ... 2016-01-01T12:10:00\n",
       "Data variables:\n",
       "    dDosage   (datetime, y, x, z) float64 dask.array&lt;chunksize=(20, 1000, 1000, 1), meta=np.ndarray&gt;\n",
       "    C         (datetime, y, x, z) float64 dask.array&lt;chunksize=(20, 1000, 1000, 1), meta=np.ndarray&gt;\n",
       "Attributes:\n",
       "    dt:       0.5 [min]\n",
       "    Q:        10000000.0 [mg]\n",
       "    C:        1.0 [mg/m3]</pre>"
      ],
      "text/plain": [
       "<xarray.Dataset>\n",
       "Dimensions:   (datetime: 20, x: 1000, y: 1000, z: 1)\n",
       "Coordinates:\n",
       "  * x         (x) float64 -995.0 -985.0 -975.0 ... 8.975e+03 8.985e+03 8.995e+03\n",
       "  * z         (z) float64 0.0\n",
       "  * y         (y) float64 -4.995e+03 -4.985e+03 ... 4.985e+03 4.995e+03\n",
       "  * datetime  (datetime) datetime64[ns] 2016-01-01T12:00:30 ... 2016-01-01T12:10:00\n",
       "Data variables:\n",
       "    dDosage   (datetime, y, x, z) float64 dask.array<chunksize=(20, 1000, 1000, 1), meta=np.ndarray>\n",
       "    C         (datetime, y, x, z) float64 dask.array<chunksize=(20, 1000, 1000, 1), meta=np.ndarray>\n",
       "Attributes:\n",
       "    dt:       0.5 [min]\n",
       "    Q:        10000000.0 [mg]\n",
       "    C:        1.0 [mg/m3]"
      ]
     },
     "execution_count": 8,
     "metadata": {},
     "output_type": "execute_result"
    }
   ],
   "source": [
    "from unum.units import *\n",
    "Concentration = simulation.getConcentration(Q=10*kg)\n",
    "Concentration"
   ]
  },
  {
   "cell_type": "markdown",
   "metadata": {},
   "source": [
    "## Assessing the effect\n",
    "\n",
    "In order to assess the effect of the dispersion, we first need to get an agent.\n",
    "\n",
    "### Loading and retrieving an agent\n",
    "\n",
    "An agent may be loaded to the database using a dictionary or json file with its description. For example, we will load a json file."
   ]
  },
  {
   "cell_type": "code",
   "execution_count": 9,
   "metadata": {},
   "outputs": [
    {
     "data": {
      "text/plain": [
       "<Measurements: Measurements object>"
      ]
     },
     "execution_count": 9,
     "metadata": {},
     "output_type": "execute_result"
    }
   ],
   "source": [
    "risk = toolkitHome.getToolkit(toolkitName=\"RiskAssessment\", projectName = projectName)\n",
    "\n",
    "risk.loadData(fileNameOrData=\"/home/eyal/Development/Hera/hera/doc/source/toolkits/riskAssessment/ExampleAgent.json\",saveMode=\"DB_overwrite\")"
   ]
  },
  {
   "cell_type": "markdown",
   "metadata": {},
   "source": [
    "The agent may be retrieved using its name, defined in the json file."
   ]
  },
  {
   "cell_type": "code",
   "execution_count": 10,
   "metadata": {},
   "outputs": [],
   "source": [
    "Agent = risk.getAgent(\"ExampleAgent\")"
   ]
  },
  {
   "cell_type": "markdown",
   "metadata": {},
   "source": [
    "### Calculating the effect\n",
    "\n",
    "The main use of the agent object is to calculate the dimensions of the affected areas for the different injury levels of the different injury types.\n",
    "This is done simply using the \"calculate\" function, that should receive a concentration field and the name of the appropiate field in the concentration xarray.\n",
    "\n",
    "If we are interested only in the effect at the end of the event, which is often the case, we can set the isel parameter to choose the final time step.\n",
    "Otherwise, we don't deliver a value for isel, and we get the effect in each time step."
   ]
  },
  {
   "cell_type": "code",
   "execution_count": 11,
   "metadata": {},
   "outputs": [
    {
     "data": {
      "text/html": [
       "<div>\n",
       "<style scoped>\n",
       "    .dataframe tbody tr th:only-of-type {\n",
       "        vertical-align: middle;\n",
       "    }\n",
       "\n",
       "    .dataframe tbody tr th {\n",
       "        vertical-align: top;\n",
       "    }\n",
       "\n",
       "    .dataframe thead th {\n",
       "        text-align: right;\n",
       "    }\n",
       "</style>\n",
       "<table border=\"1\" class=\"dataframe\">\n",
       "  <thead>\n",
       "    <tr style=\"text-align: right;\">\n",
       "      <th></th>\n",
       "      <th>ToxicLoad</th>\n",
       "      <th>TotalPolygon</th>\n",
       "      <th>severity</th>\n",
       "      <th>datetime</th>\n",
       "      <th>percentEffected</th>\n",
       "      <th>ThresholdPolygon</th>\n",
       "    </tr>\n",
       "  </thead>\n",
       "  <tbody>\n",
       "    <tr>\n",
       "      <th>0</th>\n",
       "      <td>1.505127</td>\n",
       "      <td>MULTIPOLYGON (((185.000 55.543, 192.118 57.882...</td>\n",
       "      <td>Severe</td>\n",
       "      <td>2016-01-01 12:10:00</td>\n",
       "      <td>0.05</td>\n",
       "      <td>(POLYGON ((185 55.54308732884635, 192.11834167...</td>\n",
       "    </tr>\n",
       "    <tr>\n",
       "      <th>1</th>\n",
       "      <td>2.286779</td>\n",
       "      <td>POLYGON ((235.000 -54.996, 234.996 -54.996, 22...</td>\n",
       "      <td>Severe</td>\n",
       "      <td>2016-01-01 12:10:00</td>\n",
       "      <td>0.10</td>\n",
       "      <td>POLYGON ((235 -54.99633231068524, 234.99638495...</td>\n",
       "    </tr>\n",
       "    <tr>\n",
       "      <th>2</th>\n",
       "      <td>3.032378</td>\n",
       "      <td>POLYGON ((235.000 -51.679, 231.726 -51.726, 22...</td>\n",
       "      <td>Severe</td>\n",
       "      <td>2016-01-01 12:10:00</td>\n",
       "      <td>0.15</td>\n",
       "      <td>POLYGON ((235 -51.67878397548793, 231.72645137...</td>\n",
       "    </tr>\n",
       "    <tr>\n",
       "      <th>3</th>\n",
       "      <td>3.794804</td>\n",
       "      <td>POLYGON ((235.000 -48.286, 228.383 -48.383, 22...</td>\n",
       "      <td>Severe</td>\n",
       "      <td>2016-01-01 12:10:00</td>\n",
       "      <td>0.20</td>\n",
       "      <td>POLYGON ((235 -48.28635994499737, 228.38271675...</td>\n",
       "    </tr>\n",
       "    <tr>\n",
       "      <th>4</th>\n",
       "      <td>4.599971</td>\n",
       "      <td>POLYGON ((225.000 -44.920, 220.792 -45.000, 21...</td>\n",
       "      <td>Severe</td>\n",
       "      <td>2016-01-01 12:10:00</td>\n",
       "      <td>0.25</td>\n",
       "      <td>POLYGON ((225 -44.91980021759564, 220.79189929...</td>\n",
       "    </tr>\n",
       "    <tr>\n",
       "      <th>5</th>\n",
       "      <td>5.467638</td>\n",
       "      <td>POLYGON ((216.983 -43.017, 215.000 -43.376, 20...</td>\n",
       "      <td>Severe</td>\n",
       "      <td>2016-01-01 12:10:00</td>\n",
       "      <td>0.30</td>\n",
       "      <td>POLYGON ((216.9830263246679 -43.01697367533211...</td>\n",
       "    </tr>\n",
       "    <tr>\n",
       "      <th>6</th>\n",
       "      <td>6.417114</td>\n",
       "      <td>POLYGON ((219.276 -40.724, 215.000 -41.499, 20...</td>\n",
       "      <td>Severe</td>\n",
       "      <td>2016-01-01 12:10:00</td>\n",
       "      <td>0.35</td>\n",
       "      <td>POLYGON ((219.2761655872956 -40.72383441270438...</td>\n",
       "    </tr>\n",
       "    <tr>\n",
       "      <th>7</th>\n",
       "      <td>7.470101</td>\n",
       "      <td>POLYGON ((221.819 -38.181, 215.000 -39.417, 21...</td>\n",
       "      <td>Severe</td>\n",
       "      <td>2016-01-01 12:10:00</td>\n",
       "      <td>0.40</td>\n",
       "      <td>POLYGON ((221.8192984906041 -38.1807015093959,...</td>\n",
       "    </tr>\n",
       "    <tr>\n",
       "      <th>8</th>\n",
       "      <td>8.653052</td>\n",
       "      <td>POLYGON ((224.676 -35.324, 215.000 -37.078, 21...</td>\n",
       "      <td>Severe</td>\n",
       "      <td>2016-01-01 12:10:00</td>\n",
       "      <td>0.45</td>\n",
       "      <td>POLYGON ((224.6763186975875 -35.32368130241245...</td>\n",
       "    </tr>\n",
       "    <tr>\n",
       "      <th>9</th>\n",
       "      <td>10.000000</td>\n",
       "      <td>POLYGON ((18.988 18.988, 25.000 23.355, 26.053...</td>\n",
       "      <td>Severe</td>\n",
       "      <td>2016-01-01 12:10:00</td>\n",
       "      <td>0.50</td>\n",
       "      <td>POLYGON ((18.98758512671143 18.98758512671143,...</td>\n",
       "    </tr>\n",
       "  </tbody>\n",
       "</table>\n",
       "</div>"
      ],
      "text/plain": [
       "   ToxicLoad                                       TotalPolygon severity  \\\n",
       "0   1.505127  MULTIPOLYGON (((185.000 55.543, 192.118 57.882...   Severe   \n",
       "1   2.286779  POLYGON ((235.000 -54.996, 234.996 -54.996, 22...   Severe   \n",
       "2   3.032378  POLYGON ((235.000 -51.679, 231.726 -51.726, 22...   Severe   \n",
       "3   3.794804  POLYGON ((235.000 -48.286, 228.383 -48.383, 22...   Severe   \n",
       "4   4.599971  POLYGON ((225.000 -44.920, 220.792 -45.000, 21...   Severe   \n",
       "5   5.467638  POLYGON ((216.983 -43.017, 215.000 -43.376, 20...   Severe   \n",
       "6   6.417114  POLYGON ((219.276 -40.724, 215.000 -41.499, 20...   Severe   \n",
       "7   7.470101  POLYGON ((221.819 -38.181, 215.000 -39.417, 21...   Severe   \n",
       "8   8.653052  POLYGON ((224.676 -35.324, 215.000 -37.078, 21...   Severe   \n",
       "9  10.000000  POLYGON ((18.988 18.988, 25.000 23.355, 26.053...   Severe   \n",
       "\n",
       "             datetime  percentEffected  \\\n",
       "0 2016-01-01 12:10:00             0.05   \n",
       "1 2016-01-01 12:10:00             0.10   \n",
       "2 2016-01-01 12:10:00             0.15   \n",
       "3 2016-01-01 12:10:00             0.20   \n",
       "4 2016-01-01 12:10:00             0.25   \n",
       "5 2016-01-01 12:10:00             0.30   \n",
       "6 2016-01-01 12:10:00             0.35   \n",
       "7 2016-01-01 12:10:00             0.40   \n",
       "8 2016-01-01 12:10:00             0.45   \n",
       "9 2016-01-01 12:10:00             0.50   \n",
       "\n",
       "                                    ThresholdPolygon  \n",
       "0  (POLYGON ((185 55.54308732884635, 192.11834167...  \n",
       "1  POLYGON ((235 -54.99633231068524, 234.99638495...  \n",
       "2  POLYGON ((235 -51.67878397548793, 231.72645137...  \n",
       "3  POLYGON ((235 -48.28635994499737, 228.38271675...  \n",
       "4  POLYGON ((225 -44.91980021759564, 220.79189929...  \n",
       "5  POLYGON ((216.9830263246679 -43.01697367533211...  \n",
       "6  POLYGON ((219.2761655872956 -40.72383441270438...  \n",
       "7  POLYGON ((221.8192984906041 -38.1807015093959,...  \n",
       "8  POLYGON ((224.6763186975875 -35.32368130241245...  \n",
       "9  POLYGON ((18.98758512671143 18.98758512671143,...  "
      ]
     },
     "execution_count": 11,
     "metadata": {},
     "output_type": "execute_result"
    }
   ],
   "source": [
    "riskAreas = Agent.RegularPopulation.calculate(Concentration, \"C\", isel={\"datetime\":-1})\n",
    "riskAreas[:10]"
   ]
  },
  {
   "cell_type": "markdown",
   "metadata": {},
   "source": [
    "The risk areas calculated may be projected the demography.\n",
    "For example, we will release the agent near the rectangle we cut from Katsrin."
   ]
  },
  {
   "cell_type": "code",
   "execution_count": 12,
   "metadata": {},
   "outputs": [
    {
     "name": "stderr",
     "output_type": "stream",
     "text": [
      "/raid/opt/anaconda3/envs/Math-20-05/lib/python3.6/site-packages/pyproj/crs/crs.py:53: FutureWarning: '+init=<authority>:<code>' syntax is deprecated. '<authority>:<code>' is the preferred initialization method. When making the change, be mindful of axis order changes: https://pyproj4.github.io/pyproj/stable/gotchas.html#axis-order-changes-in-proj-6\n",
      "  return _prepare_from_string(\" \".join(pjargs))\n"
     ]
    },
    {
     "data": {
      "text/html": [
       "<div>\n",
       "<style scoped>\n",
       "    .dataframe tbody tr th:only-of-type {\n",
       "        vertical-align: middle;\n",
       "    }\n",
       "\n",
       "    .dataframe tbody tr th {\n",
       "        vertical-align: top;\n",
       "    }\n",
       "\n",
       "    .dataframe thead th {\n",
       "        text-align: right;\n",
       "    }\n",
       "</style>\n",
       "<table border=\"1\" class=\"dataframe\">\n",
       "  <thead>\n",
       "    <tr style=\"text-align: right;\">\n",
       "      <th></th>\n",
       "      <th>geometry</th>\n",
       "      <th>areaFraction</th>\n",
       "      <th>total_pop</th>\n",
       "      <th>effectedtotal_pop</th>\n",
       "      <th>percentEffected</th>\n",
       "      <th>ToxicLoad</th>\n",
       "      <th>severity</th>\n",
       "      <th>datetime</th>\n",
       "    </tr>\n",
       "  </thead>\n",
       "  <tbody>\n",
       "    <tr>\n",
       "      <th>0</th>\n",
       "      <td>MULTIPOLYGON (((264000.000 766661.694, 264000....</td>\n",
       "      <td>0.035298</td>\n",
       "      <td>170.662474</td>\n",
       "      <td>8.510294</td>\n",
       "      <td>0.049866</td>\n",
       "      <td>0.150513</td>\n",
       "      <td>Light</td>\n",
       "      <td>2016-01-01 12:10:00</td>\n",
       "    </tr>\n",
       "    <tr>\n",
       "      <th>0</th>\n",
       "      <td>MULTIPOLYGON (((264000.000 766666.393, 264000....</td>\n",
       "      <td>0.024229</td>\n",
       "      <td>117.144792</td>\n",
       "      <td>11.654010</td>\n",
       "      <td>0.099484</td>\n",
       "      <td>0.228678</td>\n",
       "      <td>Light</td>\n",
       "      <td>2016-01-01 12:10:00</td>\n",
       "    </tr>\n",
       "    <tr>\n",
       "      <th>0</th>\n",
       "      <td>MULTIPOLYGON (((264000.000 766670.530, 264000....</td>\n",
       "      <td>0.022074</td>\n",
       "      <td>106.724177</td>\n",
       "      <td>15.880880</td>\n",
       "      <td>0.148803</td>\n",
       "      <td>0.303238</td>\n",
       "      <td>Light</td>\n",
       "      <td>2016-01-01 12:10:00</td>\n",
       "    </tr>\n",
       "    <tr>\n",
       "      <th>0</th>\n",
       "      <td>MULTIPOLYGON (((264000.000 766673.840, 264000....</td>\n",
       "      <td>0.023537</td>\n",
       "      <td>113.797270</td>\n",
       "      <td>22.504066</td>\n",
       "      <td>0.197756</td>\n",
       "      <td>0.379480</td>\n",
       "      <td>Light</td>\n",
       "      <td>2016-01-01 12:10:00</td>\n",
       "    </tr>\n",
       "    <tr>\n",
       "      <th>0</th>\n",
       "      <td>MULTIPOLYGON (((264000.000 766675.953, 264000....</td>\n",
       "      <td>0.018290</td>\n",
       "      <td>88.430843</td>\n",
       "      <td>21.776789</td>\n",
       "      <td>0.246258</td>\n",
       "      <td>0.459997</td>\n",
       "      <td>Light</td>\n",
       "      <td>2016-01-01 12:10:00</td>\n",
       "    </tr>\n",
       "    <tr>\n",
       "      <th>0</th>\n",
       "      <td>MULTIPOLYGON (((264000.000 766677.489, 264000....</td>\n",
       "      <td>0.014229</td>\n",
       "      <td>68.794142</td>\n",
       "      <td>20.239595</td>\n",
       "      <td>0.294205</td>\n",
       "      <td>0.546764</td>\n",
       "      <td>Light</td>\n",
       "      <td>2016-01-01 12:10:00</td>\n",
       "    </tr>\n",
       "    <tr>\n",
       "      <th>0</th>\n",
       "      <td>MULTIPOLYGON (((264000.000 766679.170, 264000....</td>\n",
       "      <td>0.013804</td>\n",
       "      <td>66.741549</td>\n",
       "      <td>22.790095</td>\n",
       "      <td>0.341468</td>\n",
       "      <td>0.641711</td>\n",
       "      <td>Light</td>\n",
       "      <td>2016-01-01 12:10:00</td>\n",
       "    </tr>\n",
       "    <tr>\n",
       "      <th>0</th>\n",
       "      <td>MULTIPOLYGON (((264000.000 766680.839, 264000....</td>\n",
       "      <td>0.014011</td>\n",
       "      <td>67.742833</td>\n",
       "      <td>26.276183</td>\n",
       "      <td>0.387881</td>\n",
       "      <td>0.747010</td>\n",
       "      <td>Light</td>\n",
       "      <td>2016-01-01 12:10:00</td>\n",
       "    </tr>\n",
       "    <tr>\n",
       "      <th>0</th>\n",
       "      <td>MULTIPOLYGON (((264000.000 766682.538, 264000....</td>\n",
       "      <td>0.017644</td>\n",
       "      <td>85.305917</td>\n",
       "      <td>36.957446</td>\n",
       "      <td>0.433234</td>\n",
       "      <td>0.865305</td>\n",
       "      <td>Light</td>\n",
       "      <td>2016-01-01 12:10:00</td>\n",
       "    </tr>\n",
       "    <tr>\n",
       "      <th>0</th>\n",
       "      <td>MULTIPOLYGON (((264000.000 766684.472, 264000....</td>\n",
       "      <td>0.020480</td>\n",
       "      <td>99.017309</td>\n",
       "      <td>47.255998</td>\n",
       "      <td>0.477250</td>\n",
       "      <td>1.000000</td>\n",
       "      <td>Light</td>\n",
       "      <td>2016-01-01 12:10:00</td>\n",
       "    </tr>\n",
       "  </tbody>\n",
       "</table>\n",
       "</div>"
      ],
      "text/plain": [
       "                                            geometry  areaFraction  \\\n",
       "0  MULTIPOLYGON (((264000.000 766661.694, 264000....      0.035298   \n",
       "0  MULTIPOLYGON (((264000.000 766666.393, 264000....      0.024229   \n",
       "0  MULTIPOLYGON (((264000.000 766670.530, 264000....      0.022074   \n",
       "0  MULTIPOLYGON (((264000.000 766673.840, 264000....      0.023537   \n",
       "0  MULTIPOLYGON (((264000.000 766675.953, 264000....      0.018290   \n",
       "0  MULTIPOLYGON (((264000.000 766677.489, 264000....      0.014229   \n",
       "0  MULTIPOLYGON (((264000.000 766679.170, 264000....      0.013804   \n",
       "0  MULTIPOLYGON (((264000.000 766680.839, 264000....      0.014011   \n",
       "0  MULTIPOLYGON (((264000.000 766682.538, 264000....      0.017644   \n",
       "0  MULTIPOLYGON (((264000.000 766684.472, 264000....      0.020480   \n",
       "\n",
       "    total_pop  effectedtotal_pop  percentEffected  ToxicLoad severity  \\\n",
       "0  170.662474           8.510294         0.049866   0.150513    Light   \n",
       "0  117.144792          11.654010         0.099484   0.228678    Light   \n",
       "0  106.724177          15.880880         0.148803   0.303238    Light   \n",
       "0  113.797270          22.504066         0.197756   0.379480    Light   \n",
       "0   88.430843          21.776789         0.246258   0.459997    Light   \n",
       "0   68.794142          20.239595         0.294205   0.546764    Light   \n",
       "0   66.741549          22.790095         0.341468   0.641711    Light   \n",
       "0   67.742833          26.276183         0.387881   0.747010    Light   \n",
       "0   85.305917          36.957446         0.433234   0.865305    Light   \n",
       "0   99.017309          47.255998         0.477250   1.000000    Light   \n",
       "\n",
       "             datetime  \n",
       "0 2016-01-01 12:10:00  \n",
       "0 2016-01-01 12:10:00  \n",
       "0 2016-01-01 12:10:00  \n",
       "0 2016-01-01 12:10:00  \n",
       "0 2016-01-01 12:10:00  \n",
       "0 2016-01-01 12:10:00  \n",
       "0 2016-01-01 12:10:00  \n",
       "0 2016-01-01 12:10:00  \n",
       "0 2016-01-01 12:10:00  \n",
       "0 2016-01-01 12:10:00  "
      ]
     },
     "execution_count": 12,
     "metadata": {},
     "output_type": "execute_result"
    }
   ],
   "source": [
    "windAngle = 0\n",
    "x_coordinate = 263750\n",
    "y_coordinate = 766750\n",
    "injuryareas = riskAreas.project(KatsrinRectangle, loc=[x_coordinate,y_coordinate],mathematical_angle=windAngle)\n",
    "injuryareas[:10]"
   ]
  },
  {
   "cell_type": "markdown",
   "metadata": {},
   "source": [
    "## Presentation\n",
    "\n",
    "The injuryareas parameter is a geodataframe with polygons that correspond to injury severities,\n",
    "with the number of injured population in each polygon.\n",
    "Using this data, one may design and present one's risk assessment as one desires.\n",
    "For example, one may get the total number of injuries in each severity this way:"
   ]
  },
  {
   "cell_type": "code",
   "execution_count": 13,
   "metadata": {},
   "outputs": [
    {
     "data": {
      "text/plain": [
       "severity\n",
       "Light     946.328928\n",
       "Severe    198.468724\n",
       "Name: effectedtotal_pop, dtype: float64"
      ]
     },
     "execution_count": 13,
     "metadata": {},
     "output_type": "execute_result"
    }
   ],
   "source": [
    "totalInjuries = injuryareas.groupby(\"severity\")[\"effectedtotal_pop\"].sum()\n",
    "totalInjuries"
   ]
  },
  {
   "cell_type": "markdown",
   "metadata": {},
   "source": [
    "One may also use built-in plots of the riskassessment tool.\n",
    "At the moment, one plot type is available,\n",
    "which shows the risk areas polygons."
   ]
  },
  {
   "cell_type": "code",
   "execution_count": 14,
   "metadata": {},
   "outputs": [
    {
     "data": {
      "text/plain": [
       "<matplotlib.axes._subplots.AxesSubplot at 0x7f5c85bdb358>"
      ]
     },
     "execution_count": 14,
     "metadata": {},
     "output_type": "execute_result"
    },
    {
     "data": {
      "image/png": "[encoded data removed]",
      "text/plain": [
       "<Figure size 432x288 with 1 Axes>"
      ]
     },
     "metadata": {
      "needs_background": "light"
     },
     "output_type": "display_data"
    }
   ],
   "source": [
    "import matplotlib.pyplot as plt\n",
    "ax, retProj = risk.presentation.plotCasualtiesProjection(results=riskAreas,area=KatsrinRectangle,loc=[x_coordinate,y_coordinate],\n",
    "                                             mathematical_angle=windAngle, severityList=[\"Light\",\"Severe\"],\n",
    "                                                            cycler=plt.cycler(fc=plt.rcParams['axes.prop_cycle'].by_key()['color'])*plt.cycler(ec=['black']))\n",
    "KatsrinRectangle.plot(ax=ax,cmap='Reds')\n",
    "ax.scatter(x_coordinate,y_coordinate,marker=\"*\",color=\"red\")\n",
    "ax"
   ]
  }
 ],
 "metadata": {
  "kernelspec": {
   "display_name": "Python 3",
   "language": "python",
   "name": "python3"
  },
  "language_info": {
   "codemirror_mode": {
    "name": "ipython",
    "version": 3
   },
   "file_extension": ".py",
   "mimetype": "text/x-python",
   "name": "python",
   "nbconvert_exporter": "python",
   "pygments_lexer": "ipython3",
   "version": "3.6.5"
  }
 },
 "nbformat": 4,
 "nbformat_minor": 4
}
