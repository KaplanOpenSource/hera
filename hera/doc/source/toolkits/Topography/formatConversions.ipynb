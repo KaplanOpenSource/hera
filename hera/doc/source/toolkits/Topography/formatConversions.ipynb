{
 "cells": [
  {
   "cell_type": "markdown",
   "metadata": {},
   "source": [
    "# Format conversions\n",
    "\n",
    "GIS data may be converted using this tool to stl and DEM formats.\n",
    "\n",
    "## Conversion to stl\n",
    "\n",
    "The data can be converted from a geodataframe, pandas/dask datraframe or geoJSON format to an stl format using a buit in convertion function. The data can be induced as a geodataframe, geoJSON string, or as a name of a saved region in the database. \n",
    "\n",
    "A name for a new file must be given even if the file is not saved, because it is used in the stl string.\n",
    "\n",
    "The size of cells in the dataframe used for the conversion is 50X50 meters by default, it is set by the dxdy parameter.\n",
    "\n",
    "In the next example we will convert the saved shapefile of Katsrin topography from the examples directory to stl.\n",
    "The function returns a DB document object or the STL as a string (if the saving mode doesn't include saving to DB)."
   ]
  },
  {
   "cell_type": "code",
   "execution_count": 1,
   "metadata": {},
   "outputs": [
    {
     "data": {
      "text/plain": [
       "'solid Topography\\nfacet normal 8.60911042381868e-05 0.0 0.9999999962941609\\n  outer loop\\n      vertex 263000.0 765000.0 235.0068017763997\\n      vertex 263050.0 765000.0 235.00249722117184\\n      vertex 263000.0 765050.0 235.0068017763997\\n  endloop\\nendfacet\\nfacet normal -0.00011946510491454016 -3.337400101960105e-05 -0.9999999923071324\\n  outer loop\\n      vertex 263050.0 765000.0 235.00249722117184\\n      vertex 263050.0 765050.0 235.00082852110802\\n      vertex 263000.0 765050.0 235.0068017763997\\n  endloop\\nendfacet\\nfacet normal 0.0 0.0 -1.0\\n  outer loop\\n      vertex 263000.0 765000.0 218.80503594662488\\n      vertex 263050.0 765000.0 218.80503594662488\\n      vertex 263000.0 765050.0 218.80503594662488\\n  endloop\\nendfacet\\nfacet normal 0.0 0.0 -1.0\\n  outer loop\\n      vertex 263050.0 765000.0 218.80503594662488\\n      vertex 263000.0 765050.0 218.80503594662488\\n      vertex 263050.0 765050.0 218.80503594662488\\n  endloop\\nendfacet\\nfacet normal -0.0 -1.0 -0.0\\n  outer loop\\n      vertex 263000.0 765000'"
      ]
     },
     "execution_count": 1,
     "metadata": {},
     "output_type": "execute_result"
    }
   ],
   "source": [
    "from hera import toolkitHome\n",
    "import geopandas\n",
    "import pandas\n",
    "projectName = \"documentation\"\n",
    "FilesDirectory = \"New-Files-Directory\"\n",
    "toolkitName = toolkitHome.GIS_TOPOGRAPHY\n",
    "Topography  = toolkitHome.getToolkit(projectName=projectName,FilesDirectory=FilesDirectory,toolkitName = toolkitName)\n",
    "katsrinBNTL = geopandas.read_file(\"examples/Katsrin/CONTOUR.shp\")\n",
    "descriptors = {} # any descriptors of the data\n",
    "stlString = Topography.toSTL(regionNameOrData=katsrinBNTL, outputFileName=\"Katsrin\", dxdy=50, saveMode=None, additionalData=descriptors)\n",
    "stlString[:1000]"
   ]
  },
  {
   "cell_type": "code",
   "execution_count": 2,
   "metadata": {},
   "outputs": [
    {
     "name": "stdout",
     "output_type": "stream",
     "text": [
      "Mesh boundaries x=(262963.82917221735,265911.8401055278) ; y=(764975.3031798955,768008.0834425769)\n"
     ]
    },
    {
     "data": {
      "text/plain": [
       "'solid Topography\\nfacet normal 0.0 0.0 1.0\\n  outer loop\\n      vertex 262963.82917221735 764975.3031798955 219.0\\n      vertex 263013.82917221735 764975.3031798955 219.0\\n      vertex 262963.82917221735 765025.3031798955 219.0\\n  endloop\\nendfacet\\nfacet normal 0.2520054631079958 0.2520054631079958 -0.9343374621235355\\n  outer loop\\n      vertex 263013.82917221735 764975.3031798955 219.0\\n      vertex 263013.82917221735 765025.3031798955 232.48578395514855\\n      vertex 262963.82917221735 765025.3031798955 219.0\\n  endloop\\nendfacet\\nfacet normal 0.0 0.0 -1.0\\n  outer loop\\n      vertex 262963.82917221735 764975.3031798955 209.0\\n      vertex 263013.82917221735 764975.3031798955 209.0\\n      vertex 262963.82917221735 765025.3031798955 209.0\\n  endloop\\nendfacet\\nfacet normal 0.0 0.0 -1.0\\n  outer loop\\n      vertex 263013.82917221735 764975.3031798955 209.0\\n      vertex 262963.82917221735 765025.3031798955 209.0\\n      vertex 263013.82917221735 765025.3031798955 209.0\\n  endloop\\nendfacet\\nfacet normal -0.0 -1.0'"
      ]
     },
     "execution_count": 2,
     "metadata": {},
     "output_type": "execute_result"
    }
   ],
   "source": [
    "katsrinSRTM = pandas.read_parquet(\"examples/KatsrinSRTM.parquet\")\n",
    "stlString = Topography.toSTL(regionNameOrData=katsrinSRTM, outputFileName=\"Katsrin\", dxdy=50, saveMode=None, additionalData=descriptors)\n",
    "stlString[:1000]"
   ]
  },
  {
   "cell_type": "markdown",
   "metadata": {},
   "source": [
    "If the string is saved to the database, it can be retrieved using the getSTL function.\n",
    "List of the stl names or documents may be retrieved using appropiate functions as well:"
   ]
  },
  {
   "cell_type": "code",
   "execution_count": 5,
   "metadata": {},
   "outputs": [],
   "source": [
    "stlString = Topography.getSTL(regionNameSTL=\"Katsrin\")\n",
    "stlNames = Topography.getSTLList()\n",
    "stlDocuments = Topography.getSTLDocumentsList()"
   ]
  },
  {
   "cell_type": "markdown",
   "metadata": {},
   "source": [
    "## Conversion to DEM\n",
    "\n",
    "The data can be converted from a geodataframe format to a DEM format, which is used for example for LSM runs. \n",
    "As in the case of conversion to stl, The data can be induced as a geodataframe, geoJSON string, or as a name of a saved region in the database. \n",
    "\n",
    "The size of cells in the dataframe used for the conversion is 50X50 meters by default, it is set by the dxdy parameter."
   ]
  },
  {
   "cell_type": "code",
   "execution_count": 4,
   "metadata": {},
   "outputs": [
    {
     "data": {
      "text/plain": [
       "'263000.0 265950.0 765000.0 767950.0\\n60 60\\n235.0068017763997 235.00249722117184 234.91838595647275 234.51803124279718 233.71580311152985 232.43606182882814 230.60316766084958 228.80503594662488 231.1523694670678 231.6928871590884 228.89024601853748 230.0863599394796 229.71252439791954 233.54611737062177 235.70652142873354 237.10836787568087 238.7006531074192 240.521458057643 242.01999119084914 242.99606335374747 243.46719196330577 243.45089443649186 242.96468819027365 242.02609064161896 240.65261920749558 239.2658886885266 239.57074209606697 243.55596701962986 247.61587533240603 249.39882197028172 251.47441197206746 253.52208222297054 255.01735565538368 256.25091226121344 258.62217914766273 262.74261605830344 266.1849931431079 268.225560706257 269.99596893869455 271.6364176710485 273.0154506572682 274.98266454688365 277.1572557409177 278.7927392549841 280.34890168264184 284.5177145304443 289.2841286702532 295.73648706591314 297.0298385355591 301.62320613242616 307.607858153749 312.89517'"
      ]
     },
     "execution_count": 4,
     "metadata": {},
     "output_type": "execute_result"
    }
   ],
   "source": [
    "demString = Topography.getDEM(regionNameOrData=katsrinBNTL, dxdy=50, saveMode=None)\n",
    "demString[:1000]"
   ]
  }
 ],
 "metadata": {
  "kernelspec": {
   "display_name": "Python 3",
   "language": "python",
   "name": "python3"
  },
  "language_info": {
   "codemirror_mode": {
    "name": "ipython",
    "version": 3
   },
   "file_extension": ".py",
   "mimetype": "text/x-python",
   "name": "python",
   "nbconvert_exporter": "python",
   "pygments_lexer": "ipython3",
   "version": "3.8.6"
  }
 },
 "nbformat": 4,
 "nbformat_minor": 4
}
