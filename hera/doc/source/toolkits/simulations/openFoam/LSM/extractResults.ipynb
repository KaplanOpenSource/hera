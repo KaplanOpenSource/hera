{
 "cells": [
  {
   "cell_type": "markdown",
   "metadata": {},
   "source": [
    "# Extract results\n",
    "\n",
    "## Getting the concentration\n",
    "\n",
    "The concentration is achieved using the following function:"
   ]
  },
  {
   "cell_type": "code",
   "execution_count": 1,
   "metadata": {},
   "outputs": [
    {
     "name": "stdout",
     "output_type": "stream",
     "text": [
      "Finished times 1 to 6\n"
     ]
    },
    {
     "data": {
      "text/html": [
       "<div>\n",
       "<style scoped>\n",
       "    .dataframe tbody tr th:only-of-type {\n",
       "        vertical-align: middle;\n",
       "    }\n",
       "\n",
       "    .dataframe tbody tr th {\n",
       "        vertical-align: top;\n",
       "    }\n",
       "\n",
       "    .dataframe thead th {\n",
       "        text-align: right;\n",
       "    }\n",
       "</style>\n",
       "<table border=\"1\" class=\"dataframe\">\n",
       "  <thead>\n",
       "    <tr style=\"text-align: right;\">\n",
       "      <th></th>\n",
       "      <th>index</th>\n",
       "      <th>x</th>\n",
       "      <th>y</th>\n",
       "      <th>z</th>\n",
       "      <th>time</th>\n",
       "      <th>Dosage</th>\n",
       "      <th>Concentration</th>\n",
       "    </tr>\n",
       "  </thead>\n",
       "  <tbody>\n",
       "    <tr>\n",
       "      <th>0</th>\n",
       "      <td>0</td>\n",
       "      <td>15.0</td>\n",
       "      <td>245.0</td>\n",
       "      <td>5.0</td>\n",
       "      <td>5</td>\n",
       "      <td>262238.0</td>\n",
       "      <td>52447.6</td>\n",
       "    </tr>\n",
       "    <tr>\n",
       "      <th>1</th>\n",
       "      <td>1</td>\n",
       "      <td>15.0</td>\n",
       "      <td>255.0</td>\n",
       "      <td>5.0</td>\n",
       "      <td>5</td>\n",
       "      <td>259938.0</td>\n",
       "      <td>51987.6</td>\n",
       "    </tr>\n",
       "    <tr>\n",
       "      <th>2</th>\n",
       "      <td>2</td>\n",
       "      <td>25.0</td>\n",
       "      <td>245.0</td>\n",
       "      <td>5.0</td>\n",
       "      <td>5</td>\n",
       "      <td>239672.0</td>\n",
       "      <td>47934.4</td>\n",
       "    </tr>\n",
       "    <tr>\n",
       "      <th>3</th>\n",
       "      <td>3</td>\n",
       "      <td>25.0</td>\n",
       "      <td>255.0</td>\n",
       "      <td>5.0</td>\n",
       "      <td>5</td>\n",
       "      <td>238148.0</td>\n",
       "      <td>47629.6</td>\n",
       "    </tr>\n",
       "    <tr>\n",
       "      <th>4</th>\n",
       "      <td>4</td>\n",
       "      <td>35.0</td>\n",
       "      <td>245.0</td>\n",
       "      <td>5.0</td>\n",
       "      <td>5</td>\n",
       "      <td>2.0</td>\n",
       "      <td>0.4</td>\n",
       "    </tr>\n",
       "    <tr>\n",
       "      <th>5</th>\n",
       "      <td>5</td>\n",
       "      <td>35.0</td>\n",
       "      <td>255.0</td>\n",
       "      <td>5.0</td>\n",
       "      <td>5</td>\n",
       "      <td>3.0</td>\n",
       "      <td>0.6</td>\n",
       "    </tr>\n",
       "  </tbody>\n",
       "</table>\n",
       "</div>"
      ],
      "text/plain": [
       "   index     x      y    z  time    Dosage  Concentration\n",
       "0      0  15.0  245.0  5.0     5  262238.0        52447.6\n",
       "1      1  15.0  255.0  5.0     5  259938.0        51987.6\n",
       "2      2  25.0  245.0  5.0     5  239672.0        47934.4\n",
       "3      3  25.0  255.0  5.0     5  238148.0        47629.6\n",
       "4      4  35.0  245.0  5.0     5       2.0            0.4\n",
       "5      5  35.0  255.0  5.0     5       3.0            0.6"
      ]
     },
     "execution_count": 1,
     "metadata": {},
     "output_type": "execute_result"
    }
   ],
   "source": [
    "from unum.units import *\n",
    "from hera import toolkitHome\n",
    "from unum.units import *\n",
    "OFLSM = toolkitHome.getToolkit(projectName=\"documentation\",toolkitName=toolkitHome.OF_LSM,casePath=\"../Topography/examples/Carmel\")\n",
    "\n",
    "Concentration = OFLSM.analysis.getConcentration(endTime=6,file=\"somedirectory/somefilename.parquet\",\n",
    "                                     startTime=1,Q=1*kg, dt=5*s,dx=10*m,dy=10*m, dz=10*m,\n",
    "                                     Qunits=mg,lengthUnits=m,timeUnits=s,nParticles=None, OFmass = False,loc=None)\n",
    "Concentration"
   ]
  },
  {
   "cell_type": "markdown",
   "metadata": {},
   "source": [
    "endTime is the final time step to read.\n",
    "All other parameters are optional; the values above are the default value, except for file, whose default is None.\n",
    "\n",
    "Q is the total mass of the particles.\n",
    "In case of an instantaneous release, one should deliver a value in units of mass, as shown above.\n",
    "In case of a continueous release with constant rate, one may either deliver a value in units of mass or mass over time.\n",
    "If the units are of mass, this is the mass which is released every time step.\n",
    "If the units are mass over time, Q defines the rate of the release.\n",
    "In case of a continueous release which is not constant with time, one should deliver a list of values in units of mass,\n",
    "which is equal in length to the number of time steps.\n",
    "\n",
    "The dx, dy, dz, dt parameters are the dimensions of the cells and time steps that are used\n",
    "to calculate the concentration.\n",
    "The \"units\" parameters are the units of the concentration (Qunits/(lengthUnits**3)\n",
    "and time in the final dataframe.\n",
    "\n",
    "nParticles is the number of particles released in a single time step. If nParticles is None, the number of particles is found using the kinematicCloudPositions file;\n",
    "if the function can't find the file it may ask the user to deliver the number to the function.\n",
    "\n",
    "If save is set to True, the concentration is saved under the file parameter name.\n",
    "If this parameter is None, it is saved in the current working directory under the name \"Concentration.parquet\".\n",
    "If addToDB is True, the data is added to the database. Any aditional descriptors may be given as **kwargs.\n",
    "\n",
    "If OFmass is True, the concentration is calculated using the mass defined in the openFOAM simulation.\n",
    "This makes the process slower, but is needed in cases where the mass of the particles change during the simulation.\n",
    "If the mass doesn't change and is the same for all particles this parameter should be set to False.\n",
    "\n",
    "Another method to save calculation time is to loc a certain plane.\n",
    "For example, if we are interested only in the concentration near the ground, and our dz parameter is equal to 10, \n",
    "we may choose to keep only the value in the plane z=5."
   ]
  },
  {
   "cell_type": "code",
   "execution_count": 4,
   "metadata": {},
   "outputs": [
    {
     "name": "stdout",
     "output_type": "stream",
     "text": [
      "Finished times 1 to 6\n"
     ]
    }
   ],
   "source": [
    "Concentration = OFLSM.analysis.getConcentration(endTime=6,file=\"somedirectory/somefilename.parquet\",\n",
    "                                     startTime=1,Q=1*kg, dt=5*s,dx=10*m,dy=10*m, dz=10*m,\n",
    "                                     Qunits=mg,lengthUnits=m,timeUnits=s,nParticles=None, OFmass = False,loc=(\"z\",5))"
   ]
  }
 ],
 "metadata": {
  "kernelspec": {
   "display_name": "Python 3",
   "language": "python",
   "name": "python3"
  },
  "language_info": {
   "codemirror_mode": {
    "name": "ipython",
    "version": 3
   },
   "file_extension": ".py",
   "mimetype": "text/x-python",
   "name": "python",
   "nbconvert_exporter": "python",
   "pygments_lexer": "ipython3",
   "version": "3.8.6"
  }
 },
 "nbformat": 4,
 "nbformat_minor": 4
}
