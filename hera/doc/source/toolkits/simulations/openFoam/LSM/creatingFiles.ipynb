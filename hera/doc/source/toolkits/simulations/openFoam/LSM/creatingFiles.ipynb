{
 "cells": [
  {
   "cell_type": "markdown",
   "metadata": {},
   "source": [
    "# Creating files\n",
    "\n",
    "In order to run an openFOAM LSM simulation, several files are needed. \n",
    "They can be produced using the OFLSM toolkit.\n",
    "We will go through them in the next sections.\n",
    "\n",
    "## Height from ground\n",
    "\n",
    "A file with the cells heights from ground is needed for the simulation.\n",
    "It can be made this way:"
   ]
  },
  {
   "cell_type": "code",
   "execution_count": 1,
   "metadata": {},
   "outputs": [
    {
     "name": "stdout",
     "output_type": "stream",
     "text": [
      "10000\n",
      "20000\n"
     ]
    }
   ],
   "source": [
    "from hera import toolkitHome\n",
    "\n",
    "projectName = \"documentation\"\n",
    "toolkitName = toolkitHome.OF_LSM\n",
    "OFLSM = toolkitHome.getToolkit(projectName=\"documentation\",toolkitName=toolkitName,casePath=\"../Topography/examples/Carmel\")\n",
    "OFLSM.makeCellHeights(ground=\"caseE\",times=[0],resolution=10,saveMode=None)"
   ]
  },
  {
   "cell_type": "markdown",
   "metadata": {},
   "source": [
    "The resolution of the interpulation of the ground data to a regular grid is defined in parameter \"resolition\".\n",
    "The name of the ground patch is defined in the parameter \"ground\", and the time directories for which the height should be written are defined\n",
    "in the parameter \"times\".\n",
    "\n",
    "## Shear Velocity\n",
    "\n",
    "The shear velocity at cell centers is also needed:"
   ]
  },
  {
   "cell_type": "code",
   "execution_count": 3,
   "metadata": {},
   "outputs": [
    {
     "name": "stdout",
     "output_type": "stream",
     "text": [
      "10000\n",
      "20000\n",
      "10000\n",
      "20000\n",
      "wrote time  0\n"
     ]
    }
   ],
   "source": [
    "OFLSM.makeUstar(ground=\"caseE\",times=[0], heightLimits=[1,2], dField=None, dColumn=\"D\")"
   ]
  },
  {
   "cell_type": "markdown",
   "metadata": {},
   "source": [
    "The resolution of the interpulation of the ground data to a regular grid is defined in parameter \"resolition\".\n",
    "The name of the ground patch is defined in the parameter \"ground\", and the time directories for which the height should be written are defined\n",
    "in the parameter \"times\".\n",
    "\n",
    "The mean velocity which is used to calculate the shear velocity is found within the height from ground limited by the value of the heightLimit parameter.\n",
    "The zero-plane displacement for each cell may be defined in a pandas dataframe delivered to the parameter dField.\n",
    "dColumn is the name of the column of the height of the displacement.\n",
    "If dField is None, there is no displacement.\n",
    "\n",
    "## Particles positions\n",
    "\n",
    "The particles initial position is set in a file.\n",
    "There are several kinds of sources structures for the particles, as documented for the sources factory tool.\n",
    "The default source is the point source, for which all particles are induced in a single point.\n",
    "The default name of the particle positions file is the one defimed as the fileName parameter below."
   ]
  },
  {
   "cell_type": "code",
   "execution_count": 5,
   "metadata": {},
   "outputs": [],
   "source": [
    "x = 196500 #the source's x coordinate\n",
    "y = 740500 #the source's y coordinate\n",
    "z = 30 #the source's z coordinate\n",
    "nParticles = 1000 #the number of particles induced every time step\n",
    "OFLSM.makeSource(x=x,y=y,z=z,nParticles=nParticles,type=\"Point\",fileName=\"kinematicCloudPositions\")"
   ]
  }
 ],
 "metadata": {
  "kernelspec": {
   "display_name": "Python 3",
   "language": "python",
   "name": "python3"
  },
  "language_info": {
   "codemirror_mode": {
    "name": "ipython",
    "version": 3
   },
   "file_extension": ".py",
   "mimetype": "text/x-python",
   "name": "python",
   "nbconvert_exporter": "python",
   "pygments_lexer": "ipython3",
   "version": "3.8.6"
  }
 },
 "nbformat": 4,
 "nbformat_minor": 4
}
