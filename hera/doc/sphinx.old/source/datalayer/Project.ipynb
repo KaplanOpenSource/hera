{
 "cells": [
  {
   "cell_type": "code",
   "execution_count": null,
   "id": "bc63784d-88c4-4cee-b8e7-4e533b3cdd0a",
   "metadata": {},
   "outputs": [],
   "source": [
    "## Setting up default configuration options\n",
    "\n",
    "\n",
    "The defaults are stored in the **caseConfiguration.json** file.\n",
    "Specifically, the **projectName** that is used when no project name is supplied to the CLI\n",
    "is given in:\n",
    "\n",
    "\n",
    "..  code-block:: javascript\n",
    "\n",
    "    {\n",
    "        \"projectName\" : <project name>\n",
    "    }"
   ]
  }
 ],
 "metadata": {
  "kernelspec": {
   "display_name": "Python 3 (ipykernel)",
   "language": "python",
   "name": "python3"
  },
  "language_info": {
   "codemirror_mode": {
    "name": "ipython",
    "version": 3
   },
   "file_extension": ".py",
   "mimetype": "text/x-python",
   "name": "python",
   "nbconvert_exporter": "python",
   "pygments_lexer": "ipython3",
   "version": "3.9.18"
  }
 },
 "nbformat": 4,
 "nbformat_minor": 5
}
