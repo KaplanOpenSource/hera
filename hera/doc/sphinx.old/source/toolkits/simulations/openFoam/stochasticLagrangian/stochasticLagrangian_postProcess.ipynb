{
 "cells": [
  {
   "cell_type": "markdown",
   "id": "dee8b144-002d-4e3f-b9cd-6a658da98f5f",
   "metadata": {},
   "source": [
    "<font size=\"+4\">PostProcessing StochasticLagrangianSolver</font>\n",
    "\n",
    "# Introduction\n",
    "\n",
    "After the simulation of the StochasticLagrangianSolver is over, the openFOAM toolkit provides tools to analyze the data. \n",
    "The specialized tools for handling the lagrnagian data are provided in the sub-tookit StochasticLagrangianSolver of the openFOAM toolkit (see below for details) \n",
    "\n",
    "\n",
    "The StochasticLagrangianSolver sub-toolkit provides tools to load the lagrangian data as a [dask dataframe](https://docs.dask.org/en/stable/), either by spefying the directory of the case or, if hera datalayer (e.g the database) support was used, by specifying its name or parameters. \n",
    "\n",
    "After the data was loaded, it can be analyzed as a lagrangian data, or transformed to eulerian data (saved as a [xarray dataframe](https://docs.xarray.dev/en/stable/)).\n",
    "\n",
    "Below we delineate the procedures to load the data, and analyse it as dask dataframe or as xarray dataframe. \n",
    "\n",
    "\n"
   ]
  },
  {
   "cell_type": "markdown",
   "id": "7327940c-c644-4fca-8068-48f9fd0c6b0b",
   "metadata": {},
   "source": [
    "# Loading the data \n",
    "\n",
    "Loading the data is achieved throught the toolkit. \n",
    "Now, we will initialize it using the project name in the case configuration, by passing projectName=None (which is the default). \n",
    "\n",
    "The case configuration is \n",
    "\n",
    "```javascript\n",
    "{\n",
    "    \"projectName\":\"EWTModel\"\n",
    "}\n",
    "```\n",
    "\n"
   ]
  },
  {
   "cell_type": "code",
   "execution_count": 1,
   "id": "a23fd3bf-0ff9-4471-87f9-1a8a4543415b",
   "metadata": {},
   "outputs": [
    {
     "name": "stdout",
     "output_type": "stream",
     "text": [
      "paraview not Found. Cannot execute the VTK pipeline.\n",
      "paraview module is not Found!. VTK pipeline wont work\n",
      " INFO    : project.py/__init__(213) Initializing with logger EWTModel\n"
     ]
    }
   ],
   "source": [
    "from hera import toolkitHome\n",
    "from hera.utils.logging import initialize_logging,with_logger\n",
    "initialize_logging(\n",
    " with_logger(\"hera.simulations\",handlers=['console'],level=\"INFO\",propagate=False)\n",
    ")\n",
    "\n",
    "tk = toolkitHome.getToolkit(toolkitName=toolkitHome.SIMULATIONS_OPENFOAM)"
   ]
  },
  {
   "cell_type": "markdown",
   "id": "e12dfb92-68b0-4b99-9016-55d735ddd130",
   "metadata": {},
   "source": [
    "For now, lets laded it without caching the results to the database. Hence `cache=False`"
   ]
  },
  {
   "cell_type": "code",
   "execution_count": 2,
   "id": "57debfb7-0d5e-4e81-91e1-23ff9cf97a1f",
   "metadata": {},
   "outputs": [
    {
     "name": "stdout",
     "output_type": "stream",
     "text": [
      " INFO    : abstractLagrangianSolver.py/getCaseResults(1040) The simulations/Dispersion is (re)-calculated\n",
      " INFO    : abstractLagrangianSolver.py/getCaseResults(1043) Calculating the data. Trying to find the case described by: simulations/Dispersion\n",
      " INFO    : abstractLagrangianSolver.py/getCaseResults(1046) not found, trying as a directory\n",
      " INFO    : abstractLagrangianSolver.py/getCaseResults(1065) Checking if the case is single processor or multiprocessor\n"
     ]
    }
   ],
   "source": [
    "data = tk.stochasticLagrangian.getCaseResults(\"simulations/Dispersion\",cache=False)"
   ]
  },
  {
   "cell_type": "markdown",
   "id": "27691706-fbd0-47fd-b7cb-4a8dcb9d8220",
   "metadata": {},
   "source": [
    "The file is loaded as a delayed dask. Hence, it is possible to perform querys and then load only the \n",
    "necessary data. For now, we will load all the data. "
   ]
  },
  {
   "cell_type": "code",
   "execution_count": 3,
   "id": "ed86fb39-85b1-450d-a511-c8bf42532c71",
   "metadata": {},
   "outputs": [],
   "source": [
    "loadeddata = data.compute()"
   ]
  },
  {
   "cell_type": "markdown",
   "id": "deef53f6-1ce2-4c81-a0ba-579e107f9996",
   "metadata": {},
   "source": [
    "Now, lets query particle 16"
   ]
  },
  {
   "cell_type": "markdown",
   "id": "47bb52de-4b4b-4e7f-86e3-a56c86d96f9f",
   "metadata": {},
   "source": [
    "## Using the hera datalayer \n",
    "\n",
    "The hera datalayer allows the user to retrieve the data using either: \n",
    "* The name of the simulation\n",
    "* The parameters of the simulation\n",
    "\n",
    "Note that a query that returns more than 1 record will result in ValueError exception.\n",
    "\n",
    "The usage is exactly like the usage of `tk.stochasticLagrangian.getCaseResults` that was shown above. \n"
   ]
  },
  {
   "cell_type": "markdown",
   "id": "a2cf6e9c-2ad6-461c-81e8-0fea20590063",
   "metadata": {},
   "source": [
    "# Processing the lagrangian data\n",
    "\n",
    "Once the data was loaded, it is possible to "
   ]
  },
  {
   "cell_type": "code",
   "execution_count": 16,
   "id": "b01c44d5-d04c-4a0c-9e95-f675b184fc0b",
   "metadata": {},
   "outputs": [
    {
     "data": {
      "text/html": [
       "<div>\n",
       "<style scoped>\n",
       "    .dataframe tbody tr th:only-of-type {\n",
       "        vertical-align: middle;\n",
       "    }\n",
       "\n",
       "    .dataframe tbody tr th {\n",
       "        vertical-align: top;\n",
       "    }\n",
       "\n",
       "    .dataframe thead th {\n",
       "        text-align: right;\n",
       "    }\n",
       "</style>\n",
       "<table border=\"1\" class=\"dataframe\">\n",
       "  <thead>\n",
       "    <tr style=\"text-align: right;\">\n",
       "      <th></th>\n",
       "      <th>x</th>\n",
       "      <th>y</th>\n",
       "      <th>z</th>\n",
       "      <th>id</th>\n",
       "      <th>procId</th>\n",
       "      <th>globalID</th>\n",
       "      <th>mass</th>\n",
       "      <th>age</th>\n",
       "      <th>U_x</th>\n",
       "      <th>U_y</th>\n",
       "      <th>U_z</th>\n",
       "      <th>time</th>\n",
       "    </tr>\n",
       "  </thead>\n",
       "  <tbody>\n",
       "    <tr>\n",
       "      <th>0</th>\n",
       "      <td>-0.005225</td>\n",
       "      <td>0.301343</td>\n",
       "      <td>0.017618</td>\n",
       "      <td>16.0</td>\n",
       "      <td>3.0</td>\n",
       "      <td>3.000000e+09</td>\n",
       "      <td>1.296680e-09</td>\n",
       "      <td>1.6889</td>\n",
       "      <td>-0.025878</td>\n",
       "      <td>0.349586</td>\n",
       "      <td>0.300931</td>\n",
       "      <td>1.0</td>\n",
       "    </tr>\n",
       "    <tr>\n",
       "      <th>16</th>\n",
       "      <td>0.255793</td>\n",
       "      <td>-0.015202</td>\n",
       "      <td>0.026750</td>\n",
       "      <td>16.0</td>\n",
       "      <td>3.0</td>\n",
       "      <td>3.000000e+09</td>\n",
       "      <td>1.296680e-09</td>\n",
       "      <td>2.6889</td>\n",
       "      <td>0.272111</td>\n",
       "      <td>-0.312984</td>\n",
       "      <td>-0.300000</td>\n",
       "      <td>2.0</td>\n",
       "    </tr>\n",
       "    <tr>\n",
       "      <th>8</th>\n",
       "      <td>-0.030813</td>\n",
       "      <td>0.318467</td>\n",
       "      <td>0.087374</td>\n",
       "      <td>16.0</td>\n",
       "      <td>3.0</td>\n",
       "      <td>3.000000e+09</td>\n",
       "      <td>1.296680e-09</td>\n",
       "      <td>3.6889</td>\n",
       "      <td>-0.270974</td>\n",
       "      <td>0.370206</td>\n",
       "      <td>0.299742</td>\n",
       "      <td>3.0</td>\n",
       "    </tr>\n",
       "    <tr>\n",
       "      <th>1</th>\n",
       "      <td>-0.147991</td>\n",
       "      <td>0.134711</td>\n",
       "      <td>0.122896</td>\n",
       "      <td>16.0</td>\n",
       "      <td>3.0</td>\n",
       "      <td>3.000000e+09</td>\n",
       "      <td>1.296680e-09</td>\n",
       "      <td>4.6889</td>\n",
       "      <td>-0.128508</td>\n",
       "      <td>-0.262778</td>\n",
       "      <td>-0.210259</td>\n",
       "      <td>4.0</td>\n",
       "    </tr>\n",
       "    <tr>\n",
       "      <th>1</th>\n",
       "      <td>-0.030408</td>\n",
       "      <td>0.300145</td>\n",
       "      <td>0.077249</td>\n",
       "      <td>16.0</td>\n",
       "      <td>3.0</td>\n",
       "      <td>3.000000e+09</td>\n",
       "      <td>1.296680e-09</td>\n",
       "      <td>5.6889</td>\n",
       "      <td>0.116097</td>\n",
       "      <td>0.225015</td>\n",
       "      <td>0.097708</td>\n",
       "      <td>5.0</td>\n",
       "    </tr>\n",
       "  </tbody>\n",
       "</table>\n",
       "</div>"
      ],
      "text/plain": [
       "           x         y         z    id  procId      globalID          mass  \\\n",
       "0  -0.005225  0.301343  0.017618  16.0     3.0  3.000000e+09  1.296680e-09   \n",
       "16  0.255793 -0.015202  0.026750  16.0     3.0  3.000000e+09  1.296680e-09   \n",
       "8  -0.030813  0.318467  0.087374  16.0     3.0  3.000000e+09  1.296680e-09   \n",
       "1  -0.147991  0.134711  0.122896  16.0     3.0  3.000000e+09  1.296680e-09   \n",
       "1  -0.030408  0.300145  0.077249  16.0     3.0  3.000000e+09  1.296680e-09   \n",
       "\n",
       "       age       U_x       U_y       U_z  time  \n",
       "0   1.6889 -0.025878  0.349586  0.300931   1.0  \n",
       "16  2.6889  0.272111 -0.312984 -0.300000   2.0  \n",
       "8   3.6889 -0.270974  0.370206  0.299742   3.0  \n",
       "1   4.6889 -0.128508 -0.262778 -0.210259   4.0  \n",
       "1   5.6889  0.116097  0.225015  0.097708   5.0  "
      ]
     },
     "execution_count": 16,
     "metadata": {},
     "output_type": "execute_result"
    }
   ],
   "source": [
    "p16 = loadeddata.query(\"id==16\").sort_values(\"time\")\n",
    "p16.head()"
   ]
  },
  {
   "cell_type": "markdown",
   "id": "ec12990c-544f-4856-8918-251670665f56",
   "metadata": {},
   "source": [
    "# Converting to eulerian data\n",
    "\n",
    "## Partial mesh \n",
    "\n",
    "The partial mesh format is a long table format that describes the concentration in a dxdydz cell (dx=dy=dz). \n",
    "That is, each row represent a single cell at a point in time with its concentration. Cells with zero concentration (i.e no particles in the cell) \n",
    "will not appear in the data. \n",
    "\n",
    "For example, \n",
    "\n",
    "<table>\n",
    "    <tr>\n",
    "        <td><b>x</b></td>\n",
    "        <td><b>y</b></td>\n",
    "        <td><b>z</b></td>\n",
    "        <td><b>time</b></td>\n",
    "        <td><b>C</b></td>\n",
    "    </tr>\n",
    "    <tr>\n",
    "        <td>0</td>\n",
    "        <td>0</td>\n",
    "        <td>0</td>\n",
    "        <td>0</td>\n",
    "        <td>1</td>\n",
    "    </tr>    \n",
    "    <tr>\n",
    "        <td>0</td>\n",
    "        <td>2</td>\n",
    "        <td>0</td>\n",
    "        <td>0</td>\n",
    "        <td>2</td>\n",
    "    </tr>        \n",
    "    <tr><td/><td>.</td></tr>\n",
    "    <tr><td/><td>.</td></tr>\n",
    "    <tr><td/><td>.</td></tr>\n",
    "    \n",
    "</table>\n",
    "\n",
    "Where in this example the cell (0,1,0) at time 0 has no concentration. \n",
    "\n",
    "For example converting the `loadeddata` to cells of $10cm$, we use "
   ]
  },
  {
   "cell_type": "code",
   "execution_count": 17,
   "id": "305e3add-c5cd-4099-95e8-9c5dbe996e6c",
   "metadata": {},
   "outputs": [],
   "source": [
    "eulerian = tk.stochasticLagrangian.analysis.calcConcentrationPointWise(loadeddata,dxdydz=0.1)"
   ]
  },
  {
   "cell_type": "code",
   "execution_count": 18,
   "id": "bcfa5474-3d52-4336-bcfa-a03a42cfe845",
   "metadata": {},
   "outputs": [
    {
     "data": {
      "text/html": [
       "<div>\n",
       "<style scoped>\n",
       "    .dataframe tbody tr th:only-of-type {\n",
       "        vertical-align: middle;\n",
       "    }\n",
       "\n",
       "    .dataframe tbody tr th {\n",
       "        vertical-align: top;\n",
       "    }\n",
       "\n",
       "    .dataframe thead th {\n",
       "        text-align: right;\n",
       "    }\n",
       "</style>\n",
       "<table border=\"1\" class=\"dataframe\">\n",
       "  <thead>\n",
       "    <tr style=\"text-align: right;\">\n",
       "      <th></th>\n",
       "      <th></th>\n",
       "      <th></th>\n",
       "      <th></th>\n",
       "      <th>C</th>\n",
       "    </tr>\n",
       "    <tr>\n",
       "      <th>xI</th>\n",
       "      <th>yI</th>\n",
       "      <th>zI</th>\n",
       "      <th>time</th>\n",
       "      <th></th>\n",
       "    </tr>\n",
       "  </thead>\n",
       "  <tbody>\n",
       "    <tr>\n",
       "      <th rowspan=\"5\" valign=\"top\">-0.5</th>\n",
       "      <th rowspan=\"5\" valign=\"top\">-0.5</th>\n",
       "      <th rowspan=\"5\" valign=\"top\">0.0</th>\n",
       "      <th>8.0</th>\n",
       "      <td>0.000001</td>\n",
       "    </tr>\n",
       "    <tr>\n",
       "      <th>11.0</th>\n",
       "      <td>0.000001</td>\n",
       "    </tr>\n",
       "    <tr>\n",
       "      <th>13.0</th>\n",
       "      <td>0.000004</td>\n",
       "    </tr>\n",
       "    <tr>\n",
       "      <th>14.0</th>\n",
       "      <td>0.000001</td>\n",
       "    </tr>\n",
       "    <tr>\n",
       "      <th>17.0</th>\n",
       "      <td>0.000003</td>\n",
       "    </tr>\n",
       "    <tr>\n",
       "      <th>...</th>\n",
       "      <th>...</th>\n",
       "      <th>...</th>\n",
       "      <th>...</th>\n",
       "      <td>...</td>\n",
       "    </tr>\n",
       "    <tr>\n",
       "      <th rowspan=\"5\" valign=\"top\">0.4</th>\n",
       "      <th rowspan=\"5\" valign=\"top\">0.4</th>\n",
       "      <th rowspan=\"5\" valign=\"top\">0.1</th>\n",
       "      <th>270.0</th>\n",
       "      <td>0.000001</td>\n",
       "    </tr>\n",
       "    <tr>\n",
       "      <th>271.0</th>\n",
       "      <td>0.000004</td>\n",
       "    </tr>\n",
       "    <tr>\n",
       "      <th>273.0</th>\n",
       "      <td>0.000001</td>\n",
       "    </tr>\n",
       "    <tr>\n",
       "      <th>277.0</th>\n",
       "      <td>0.000001</td>\n",
       "    </tr>\n",
       "    <tr>\n",
       "      <th>280.0</th>\n",
       "      <td>0.000001</td>\n",
       "    </tr>\n",
       "  </tbody>\n",
       "</table>\n",
       "<p>53560 rows × 1 columns</p>\n",
       "</div>"
      ],
      "text/plain": [
       "                            C\n",
       "xI   yI   zI  time           \n",
       "-0.5 -0.5 0.0 8.0    0.000001\n",
       "              11.0   0.000001\n",
       "              13.0   0.000004\n",
       "              14.0   0.000001\n",
       "              17.0   0.000003\n",
       "...                       ...\n",
       " 0.4  0.4 0.1 270.0  0.000001\n",
       "              271.0  0.000004\n",
       "              273.0  0.000001\n",
       "              277.0  0.000001\n",
       "              280.0  0.000001\n",
       "\n",
       "[53560 rows x 1 columns]"
      ]
     },
     "execution_count": 18,
     "metadata": {},
     "output_type": "execute_result"
    }
   ],
   "source": [
    "eulerian"
   ]
  },
  {
   "cell_type": "markdown",
   "id": "b29ff080-a508-4a2b-82c2-87383f1ef557",
   "metadata": {},
   "source": [
    "# Converting to vtk point. \n",
    "\n",
    "In order to create presentation in paraFOAM, it is necessary to converty the files to .vtu format. \n",
    "To do so, we use the presentation layer of the stochasticlagrangian toolkit "
   ]
  },
  {
   "cell_type": "code",
   "execution_count": null,
   "id": "3500312e-fed5-4150-ba69-cf863018923f",
   "metadata": {},
   "outputs": [],
   "source": [
    "tk.stochasticLagrangian.presentation.toVTU(loadeddata,outDirectory=\"VTK\",outFile=\"dispersion\")"
   ]
  },
  {
   "cell_type": "markdown",
   "id": "ae7eda9e-5f47-4898-8103-e9693ee5efbf",
   "metadata": {},
   "source": [
    "Alternatively, one can use the CLI \n",
    "\n",
    "\n",
    "<div class=\"alert alert-block alert-success\">\n",
    ">> hera-openfoam stochasticLagrangian postProcess toVTK {case name} [--outputDirectory {outputDirectory}] [--overwrite] [--cloudName {cloudName}]\n",
    "</div>\n",
    "\n",
    "Where \n",
    "\n",
    "- {case name} can be the pat or the name of the simulation in the DB. \n",
    "- overwrite : if flag is true, remove the VTK in the directory (TODO) and also overwrite the caching the the DB. \n",
    "- cloudName : The name of the cloud to process. The default is kinematicCloud. \n",
    "\n",
    "<div class=\"alert alert-block alert-info\">\n",
    "<b>Example: </b> \n",
    "    \n",
    "```\n",
    ">> hera-openfoam stochasticLagrangian postProcess toVTK Dispersion\n",
    "```"
   ]
  }
 ],
 "metadata": {
  "kernelspec": {
   "display_name": "Python 3",
   "language": "python",
   "name": "python3"
  },
  "language_info": {
   "codemirror_mode": {
    "name": "ipython",
    "version": 3
   },
   "file_extension": ".py",
   "mimetype": "text/x-python",
   "name": "python",
   "nbconvert_exporter": "python",
   "pygments_lexer": "ipython3",
   "version": "3.9.13"
  }
 },
 "nbformat": 4,
 "nbformat_minor": 5
}
