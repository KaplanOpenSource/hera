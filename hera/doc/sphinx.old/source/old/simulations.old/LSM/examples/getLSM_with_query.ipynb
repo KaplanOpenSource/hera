{
 "cells": [
  {
   "cell_type": "markdown",
   "metadata": {},
   "source": [
    "# Getting LSM simulation with a query\n",
    "\n",
    "This notebook shows how to get LSM run with a query on the parameters"
   ]
  },
  {
   "cell_type": "markdown",
   "metadata": {},
   "source": [
    "In the example below we use the 'lower than equal'(lte) and the 'greater than equal'(gte) on the 'wind_dir' parameter to get the LSM runs with wind direction between 30 to 60, and also we want the 'wind_speed' parameter to be 5.\n",
    "\n",
    "Notice that when you query a varaible that is a key in a dictionary like the 'params', you need to add '\\__' (i.e for a parameter 'x' you need to write params\\__x)\n",
    "\n",
    "Notice that when trying to use the query patterns like the 'gte' you also need to use '\\__' before the pattern. (i.e for a variable 'x' you need to write x__lte)"
   ]
  },
  {
   "cell_type": "code",
   "execution_count": 4,
   "metadata": {},
   "outputs": [],
   "source": [
    "from hera import LSM\n",
    "\n",
    "sims = LSM.getSimulations(projectName='example', params__wind_dir__lte=60, params__wind_dir__gte=30, params__wind_speed=5)\n",
    "chosen_sim = sims[0]\n",
    "\n",
    "dos = chosen_sim.getDosage()\n",
    "con = chosen_sim.getConcentration()"
   ]
  }
 ],
 "metadata": {
  "kernelspec": {
   "display_name": "Python 3",
   "language": "python",
   "name": "python3"
  },
  "language_info": {
   "codemirror_mode": {
    "name": "ipython",
    "version": 3
   },
   "file_extension": ".py",
   "mimetype": "text/x-python",
   "name": "python",
   "nbconvert_exporter": "python",
   "pygments_lexer": "ipython3",
   "version": "3.6.5"
  }
 },
 "nbformat": 4,
 "nbformat_minor": 4
}
