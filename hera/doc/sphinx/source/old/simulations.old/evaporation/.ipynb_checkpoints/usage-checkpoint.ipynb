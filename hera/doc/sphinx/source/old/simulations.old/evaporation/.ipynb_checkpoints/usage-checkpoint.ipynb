{
 "cells": [
  {
   "cell_type": "markdown",
   "metadata": {},
   "source": [
    "# Usage\n",
    "\n",
    "The evaporation rate from a pool may be assessed using this tool.\n",
    "When initializing the tool, an agent's name or descriptor must be given.\n",
    "Additional accessable parameters define the different models that would be used.\n",
    "Description of the models may be found in the next page.\n",
    "The models defined below are the default models.\n",
    "Note that if the molecular volume is not found in the agent's descriptor,\n",
    "the molecular diffusion model is set to \"EPA\" by default. "
   ]
  },
  {
   "cell_type": "code",
   "execution_count": 1,
   "metadata": {},
   "outputs": [
    {
     "name": "stderr",
     "output_type": "stream",
     "text": [
      "WARNING:root:FreeCAD not Found, cannot convert to STL\n"
     ]
    }
   ],
   "source": [
    "from hera.simulations.evaporation import models\n",
    "from unum.units import *\n",
    "ammonia = {\"agentConfig\":{\"physicalProperties\":{\"molecularWeight\":\"17.031*g/mol\",\"molecularVolume\":25.8*cm**3/mol,\n",
    "                                \"vaporPressure\":{\"A\":6.67956,\"B\":1002.711,\"C\":25.215,\"units\":1000*Pa}},\n",
    "                         \"effects\":{},\"effectParameters\":{}}}\n",
    "model = models(agent=ammonia,evaporationModel=\"US\",dinamicViscocityModel=\"powerLaw\",molecularDiffusionModel=\"FSG\")"
   ]
  },
  {
   "cell_type": "markdown",
   "metadata": {},
   "source": [
    "In order to calculate the evaporation rate, the pool's diameter downwind, the wind's velocity and the temperature must be given.\n",
    "For example:"
   ]
  },
  {
   "cell_type": "code",
   "execution_count": 2,
   "metadata": {},
   "outputs": [
    {
     "data": {
      "text/plain": [
       "68.05205653486809 [g/m2.s]"
      ]
     },
     "execution_count": 2,
     "metadata": {},
     "output_type": "execute_result"
    }
   ],
   "source": [
    "diameter = 10*m\n",
    "velocity = 4*m/s\n",
    "temperature=300*K\n",
    "model.flux(diameter=diameter,velocity=velocity,temperature=temperature)"
   ]
  },
  {
   "cell_type": "markdown",
   "metadata": {},
   "source": [
    "One may get the flux in any desired suitable units, for example: "
   ]
  },
  {
   "cell_type": "code",
   "execution_count": 3,
   "metadata": {},
   "outputs": [
    {
     "data": {
      "text/plain": [
       "244.98740352552514 [kg/h.m2]"
      ]
     },
     "execution_count": 3,
     "metadata": {},
     "output_type": "execute_result"
    }
   ],
   "source": [
    "units = kg/(m**2*h)\n",
    "model.flux(diameter=diameter,velocity=velocity,temperature=temperature,units=units)"
   ]
  }
 ],
 "metadata": {
  "kernelspec": {
   "display_name": "Python 3",
   "language": "python",
   "name": "python3"
  },
  "language_info": {
   "codemirror_mode": {
    "name": "ipython",
    "version": 3
   },
   "file_extension": ".py",
   "mimetype": "text/x-python",
   "name": "python",
   "nbconvert_exporter": "python",
   "pygments_lexer": "ipython3",
   "version": "3.6.5"
  }
 },
 "nbformat": 4,
 "nbformat_minor": 4
}
