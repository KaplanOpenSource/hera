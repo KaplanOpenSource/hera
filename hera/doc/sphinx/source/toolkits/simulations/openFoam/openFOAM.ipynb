{
 "cells": [
  {
   "cell_type": "markdown",
   "id": "dcf79341-a74f-4546-bcbc-a2478bc0761e",
   "metadata": {
    "tags": []
   },
   "source": [
    "# OpenFOAM toolkit\n",
    "\n",
    "## Preparation \n",
    "\n",
    "Make sure the caseConfiguration.json file is in your directory. \n",
    "\n",
    "The caseConfiguration.json should include\n",
    "\n",
    "```js\n",
    "{\n",
    "    \"projectName\": <project Name>\n",
    "}\n",
    "```\n",
    "\n",
    "## Creating the Flow\n",
    "\n",
    "Update the [Flow.json](Flow.json) file to include the object file. \n",
    "\n",
    "Rebemebr you should also manually update:\n",
    "<details>\n",
    "    <summary><b>blockMesh</b></summary>\n",
    "        make sure the blockmesh includes the object. \n",
    "   </details>\n",
    "<details>\n",
    "<summary><b>snappyHexMesh</b></summary>\n",
    "    Update teh regions and the mesh configurations. \n",
    "</details>\n",
    "<details>\n",
    "    <summary><b>Object name</b></summary>\n",
    "    Update the Flow.json in the parameters node of the Flow.json\n",
    "</details>\n",
    "   \n",
    "### Executing Without database support \n",
    "\n",
    "Execution without the database support just executes the workflow, but does not store the \n",
    "parameters file in the project for further use. \n",
    "\n",
    "To do so, use the \n",
    "```\n",
    ">> hermes-workflow buildExecute Flow.json [--force]\n",
    "```\n",
    "\n",
    "use the ```--force``` flag to force the (re)execution of a pipeline that exists in the \n",
    "\n"
   ]
  },
  {
   "cell_type": "code",
   "execution_count": null,
   "id": "b80a49f4-90ec-4e18-8ad6-464b4dfec3d0",
   "metadata": {},
   "outputs": [],
   "source": []
  }
 ],
 "metadata": {
  "kernelspec": {
   "display_name": "Python 3",
   "language": "python",
   "name": "python3"
  },
  "language_info": {
   "codemirror_mode": {
    "name": "ipython",
    "version": 3
   },
   "file_extension": ".py",
   "mimetype": "text/x-python",
   "name": "python",
   "nbconvert_exporter": "python",
   "pygments_lexer": "ipython3",
   "version": "3.9.13"
  }
 },
 "nbformat": 4,
 "nbformat_minor": 5
}
