{
 "cells": [
  {
   "cell_type": "markdown",
   "metadata": {},
   "source": [
    "## Adding data\n",
    "\n",
    "This notebook shows how to add a document to database with the datalayer.\n",
    "\n",
    "First, we will create a synthetic dataframe that we want to save as a database record:"
   ]
  },
  {
   "cell_type": "code",
   "execution_count": 102,
   "metadata": {},
   "outputs": [],
   "source": [
    "import pandas\n",
    "from hera import datalayer\n",
    "import json "
   ]
  },
  {
   "cell_type": "markdown",
   "metadata": {},
   "source": [
    "We now create a mock dataset: "
   ]
  },
  {
   "cell_type": "code",
   "execution_count": 103,
   "metadata": {},
   "outputs": [
    {
     "name": "stdout",
     "output_type": "stream",
     "text": [
      "                           date      time  value\n",
      "date_time                                       \n",
      "2016-11-10 22:00:00  2016-11-10  22:00:00     90\n",
      "2016-11-10 23:00:00  2016-11-10  23:00:00     91\n",
      "2016-11-11 00:00:00  2016-11-11  00:00:00     80\n",
      "2016-11-11 01:00:00  2016-11-11  01:00:00     87\n",
      "2016-11-11 02:00:00  2016-11-11  02:00:00     84\n",
      "2016-11-11 03:00:00  2016-11-11  03:00:00     94\n",
      "2016-11-11 04:00:00  2016-11-11  04:00:00     91\n",
      "2016-11-11 05:00:00  2016-11-11  05:00:00     94\n"
     ]
    }
   ],
   "source": [
    "df = pandas.DataFrame(dict(date = [\"2016-11-10\", \"2016-11-10\", \"2016-11-11\", \"2016-11-11\",\"2016-11-11\",\"2016-11-11\",\"2016-11-11\", \"2016-11-11\" ],\n",
    "                           time = [\"22:00:00\", \"23:00:00\", \"00:00:00\", \"01:00:00\", \"02:00:00\", \"03:00:00\", \"04:00:00\", \"05:00:00\"],\n",
    "                           value = [90, 91, 80, 87, 84,94, 91, 94]))\n",
    "df['date_time'] = pandas.to_datetime(df['date'] + ' ' + df['time'])\n",
    "df=df.set_index('date_time')\n",
    "print (df)"
   ]
  },
  {
   "cell_type": "markdown",
   "metadata": {},
   "source": [
    "Several parameters must be given for any document, and must be defined in order to add new data.\n",
    "These parameters are the ones given in the next example.\n",
    "In addition, one may add any other parameters to the document.\n",
    "\n",
    "In order to add the data, we will determine all its properties: \n",
    "\n",
    "The projectName must be a string. "
   ]
  },
  {
   "cell_type": "code",
   "execution_count": 104,
   "metadata": {},
   "outputs": [],
   "source": [
    "projectName = \"addDataExample\""
   ]
  },
  {
   "cell_type": "markdown",
   "metadata": {},
   "source": [
    "The document type is a string that is determined by the user. It is used to \n",
    "simplify the querying of documents of a similar type. "
   ]
  },
  {
   "cell_type": "code",
   "execution_count": 105,
   "metadata": {},
   "outputs": [],
   "source": [
    "documentType = \"ExampleData\""
   ]
  },
  {
   "cell_type": "markdown",
   "metadata": {},
   "source": [
    "The description of the metadata is a dict. The dict can be any JSON format, at any desired depth (but please be reasonable...). "
   ]
  },
  {
   "cell_type": "code",
   "execution_count": 106,
   "metadata": {},
   "outputs": [],
   "source": [
    "desc = dict(description_A=\"A\", description_B=\"B\")"
   ]
  },
  {
   "cell_type": "markdown",
   "metadata": {},
   "source": [
    "The dataformat specifies what is the format of the data that the document describes. \n",
    "In this example, we use JSON_PANDAS format which means that the 'resource' attributes contains the JSON text of the pandas. "
   ]
  },
  {
   "cell_type": "code",
   "execution_count": 107,
   "metadata": {},
   "outputs": [],
   "source": [
    "dataFormat = datalayer.datatypes.JSON_PANDAS "
   ]
  },
  {
   "cell_type": "markdown",
   "metadata": {},
   "source": [
    "In this example, we create the data using the 'to_json()' function. However, the resource will typically include a \n",
    "parquet file. "
   ]
  },
  {
   "cell_type": "code",
   "execution_count": 108,
   "metadata": {},
   "outputs": [],
   "source": [
    "resource = df.to_json()"
   ]
  },
  {
   "cell_type": "markdown",
   "metadata": {},
   "source": [
    "Now we add the document using hera.datalayer"
   ]
  },
  {
   "cell_type": "code",
   "execution_count": 109,
   "metadata": {},
   "outputs": [],
   "source": [
    "new_doc=datalayer.Measurements.addDocument(projectName=projectName, type=documentType, dataFormat=dataFormat, resource=resource, desc=desc)"
   ]
  },
  {
   "cell_type": "markdown",
   "metadata": {},
   "source": [
    "We can see the document content by printing it as dict"
   ]
  },
  {
   "cell_type": "code",
   "execution_count": 110,
   "metadata": {},
   "outputs": [
    {
     "name": "stdout",
     "output_type": "stream",
     "text": [
      "{'_cls': 'Metadata.Measurements', 'projectName': 'addDataExample', 'desc': {'description_A': 'A', 'description_B': 'B'}, 'type': 'ExampleData', 'resource': '{\"date\":{\"1478815200000\":\"2016-11-10\",\"1478818800000\":\"2016-11-10\",\"1478822400000\":\"2016-11-11\",\"1478826000000\":\"2016-11-11\",\"1478829600000\":\"2016-11-11\",\"1478833200000\":\"2016-11-11\",\"1478836800000\":\"2016-11-11\",\"1478840400000\":\"2016-11-11\"},\"time\":{\"1478815200000\":\"22:00:00\",\"1478818800000\":\"23:00:00\",\"1478822400000\":\"00:00:00\",\"1478826000000\":\"01:00:00\",\"1478829600000\":\"02:00:00\",\"1478833200000\":\"03:00:00\",\"1478836800000\":\"04:00:00\",\"1478840400000\":\"05:00:00\"},\"value\":{\"1478815200000\":90,\"1478818800000\":91,\"1478822400000\":80,\"1478826000000\":87,\"1478829600000\":84,\"1478833200000\":94,\"1478836800000\":91,\"1478840400000\":94}}', 'dataFormat': 'JSON_pandas'}\n"
     ]
    }
   ],
   "source": [
    "print(new_doc.asDict())"
   ]
  },
  {
   "cell_type": "markdown",
   "metadata": {},
   "source": [
    "Notice that the desc dictionary may not contain a key named \"type\".\n",
    "The allowed data formats are detailed in the hera.datalayer.datatypes (partial list):\n",
    "\n",
    "-    STRING : Any string. \n",
    "-    TIME   : any date/time object\n",
    "-    HDF    : a dask or pandas in hdf file format. \n",
    "-    NETCDF_XARRAY : an xarray netcdf. \n",
    "-    JSON_DICT  :  JSON as python dict \n",
    "-    JSON_PANDAS :  JSON as pandas.DataFrame \n",
    "-    GEOPANDAS   : a GIS-file format. returns as geopandas.GISDataFrame \n",
    "-    PARQUET    : dask or pandas in parquet format. \n",
    "-    IMAGE      : any Image data format. Preferably PNG. \n",
    "\n",
    "They indicate how to read the data, and therefore must correspond to the type of data located in the resource.\n",
    "\n",
    "The added document can be loaded as presented in the \"Getting data\" notebook."
   ]
  },
  {
   "cell_type": "markdown",
   "metadata": {},
   "source": [
    "## Getting data\n",
    "\n",
    "Getting the data can achieved by using the getDocuments procedure of the collection. \n",
    "Getting the data allows the user to [query the database](#another_cell) using the [mongo engine query language](https://docs.mongoengine.org/guide/querying.html). \n",
    "\n",
    "For simplicity, lets retrieve the documents for which 'description_A' equals 'A'. \n"
   ]
  },
  {
   "cell_type": "code",
   "execution_count": 111,
   "metadata": {},
   "outputs": [],
   "source": [
    "docList = datalayer.Measurements.getDocuments(projectName=projectName,description_A = \"A\")"
   ]
  },
  {
   "cell_type": "markdown",
   "metadata": {},
   "source": [
    "The query returns a list. "
   ]
  },
  {
   "cell_type": "markdown",
   "metadata": {},
   "source": [
    "The result obtained from the query is:"
   ]
  },
  {
   "cell_type": "code",
   "execution_count": 112,
   "metadata": {},
   "outputs": [
    {
     "name": "stdout",
     "output_type": "stream",
     "text": [
      "1\n"
     ]
    }
   ],
   "source": [
    "print(len(docList))"
   ]
  },
  {
   "cell_type": "markdown",
   "metadata": {},
   "source": [
    "In order to see the details of the document, lets print it"
   ]
  },
  {
   "cell_type": "code",
   "execution_count": 113,
   "metadata": {},
   "outputs": [
    {
     "name": "stdout",
     "output_type": "stream",
     "text": [
      "Measurements object\n"
     ]
    }
   ],
   "source": [
    "print(docList[0])"
   ]
  },
  {
   "cell_type": "code",
   "execution_count": 114,
   "metadata": {},
   "outputs": [
    {
     "data": {
      "text/plain": [
       "'{\"date\":{\"1478815200000\":\"2016-11-10\",\"1478818800000\":\"2016-11-10\",\"1478822400000\":\"2016-11-11\",\"1478826000000\":\"2016-11-11\",\"1478829600000\":\"2016-11-11\",\"1478833200000\":\"2016-11-11\",\"1478836800000\":\"2016-11-11\",\"1478840400000\":\"2016-11-11\"},\"time\":{\"1478815200000\":\"22:00:00\",\"1478818800000\":\"23:00:00\",\"1478822400000\":\"00:00:00\",\"1478826000000\":\"01:00:00\",\"1478829600000\":\"02:00:00\",\"1478833200000\":\"03:00:00\",\"1478836800000\":\"04:00:00\",\"1478840400000\":\"05:00:00\"},\"value\":{\"1478815200000\":90,\"1478818800000\":91,\"1478822400000\":80,\"1478826000000\":87,\"1478829600000\":84,\"1478833200000\":94,\"1478836800000\":91,\"1478840400000\":94}}'"
      ]
     },
     "execution_count": 114,
     "metadata": {},
     "output_type": "execute_result"
    }
   ],
   "source": [
    "docList[0].resource"
   ]
  },
  {
   "cell_type": "markdown",
   "metadata": {},
   "source": [
    "You can now read the data from the 'doc' and perform another query (for example, on a date range):"
   ]
  },
  {
   "cell_type": "code",
   "execution_count": 115,
   "metadata": {},
   "outputs": [],
   "source": [
    "data=docList[0].getData()"
   ]
  },
  {
   "cell_type": "markdown",
   "metadata": {},
   "source": [
    "The data we got is: "
   ]
  },
  {
   "cell_type": "code",
   "execution_count": 116,
   "metadata": {},
   "outputs": [
    {
     "name": "stdout",
     "output_type": "stream",
     "text": [
      "                          date      time  value\n",
      "2016-11-10 22:00:00 2016-11-10  22:00:00     90\n",
      "2016-11-10 23:00:00 2016-11-10  23:00:00     91\n",
      "2016-11-11 00:00:00 2016-11-11  00:00:00     80\n",
      "2016-11-11 01:00:00 2016-11-11  01:00:00     87\n",
      "2016-11-11 02:00:00 2016-11-11  02:00:00     84\n",
      "2016-11-11 03:00:00 2016-11-11  03:00:00     94\n",
      "2016-11-11 04:00:00 2016-11-11  04:00:00     91\n",
      "2016-11-11 05:00:00 2016-11-11  05:00:00     94\n"
     ]
    }
   ],
   "source": [
    "print(data)"
   ]
  },
  {
   "cell_type": "markdown",
   "metadata": {},
   "source": [
    "<a id='advanced_querying'></a>\n",
    "## Advanced Querying data\n",
    "\n",
    "\n",
    "Querying the database uses the [mongo engine query language](https://docs.mongoengine.org/guide/querying.html). \n",
    "Briefly, in the mongo enngine query language the JSON path translates to a the list of keys seperated by '__'.\n",
    "\n",
    "for example if the desc field of the document is"
   ]
  },
  {
   "cell_type": "code",
   "execution_count": 117,
   "metadata": {},
   "outputs": [
    {
     "name": "stdout",
     "output_type": "stream",
     "text": [
      "{\n",
      "    \"a\": {\n",
      "        \"b\": {\n",
      "            \"c\": 1,\n",
      "            \"d\": [\n",
      "                1,\n",
      "                2,\n",
      "                3\n",
      "            ],\n",
      "            \"e\": \"A\"\n",
      "        },\n",
      "        \"b1\": 4\n",
      "    }\n",
      "}\n"
     ]
    }
   ],
   "source": [
    "print(json.dumps({\"a\" : {\"b\" : {\"c\" : 1,\"d\" : [1,2,3],\"e\" : \"A\"},\"b1\" : 4}},indent=4))"
   ]
  },
  {
   "cell_type": "markdown",
   "metadata": {},
   "source": [
    "The the path of the \"c\" key-path is 'a__b__c'.\n",
    "So querying the documents where 'c' field is 1 is done as follows:"
   ]
  },
  {
   "cell_type": "code",
   "execution_count": 118,
   "metadata": {},
   "outputs": [],
   "source": [
    "tmp = datalayer.Measurements.getDocuments(projectName='projectName',a__b__c=1)"
   ]
  },
  {
   "cell_type": "markdown",
   "metadata": {},
   "source": [
    "It is possible to add operators to query all the documents that fulfil a certain criteria.\n",
    "For example add '__lt' to find all the documents that are less than a value."
   ]
  },
  {
   "cell_type": "code",
   "execution_count": 119,
   "metadata": {},
   "outputs": [],
   "source": [
    "tmp = datalayer.Measurements.getDocuments(projectName='projectName',a__b__c__lt=1)\n"
   ]
  },
  {
   "cell_type": "markdown",
   "metadata": {},
   "source": [
    "To retrieve all the documents that the field 'd' includes the item 1 in it."
   ]
  },
  {
   "cell_type": "code",
   "execution_count": 120,
   "metadata": {},
   "outputs": [],
   "source": [
    "tmp = datalayer.Measurements.getDocuments(projectName='projectName',a__b__d__in=1)"
   ]
  },
  {
   "cell_type": "markdown",
   "metadata": {},
   "source": [
    "## Update data description\n",
    "\n",
    "If the metadata changes, it is possible to update its value. \n",
    "For example, the data before the update is: "
   ]
  },
  {
   "cell_type": "code",
   "execution_count": 121,
   "metadata": {},
   "outputs": [
    {
     "name": "stdout",
     "output_type": "stream",
     "text": [
      "The resource is: {\"date\":{\"1478815200000\":\"2016-11-10\",\"1478818800000\":\"2016-11-10\",\"1478822400000\":\"2016-11-11\",\"1478826000000\":\"2016-11-11\",\"1478829600000\":\"2016-11-11\",\"1478833200000\":\"2016-11-11\",\"1478836800000\":\"2016-11-11\",\"1478840400000\":\"2016-11-11\"},\"time\":{\"1478815200000\":\"22:00:00\",\"1478818800000\":\"23:00:00\",\"1478822400000\":\"00:00:00\",\"1478826000000\":\"01:00:00\",\"1478829600000\":\"02:00:00\",\"1478833200000\":\"03:00:00\",\"1478836800000\":\"04:00:00\",\"1478840400000\":\"05:00:00\"},\"value\":{\"1478815200000\":90,\"1478818800000\":91,\"1478822400000\":80,\"1478826000000\":87,\"1478829600000\":84,\"1478833200000\":94,\"1478836800000\":91,\"1478840400000\":94}}\n",
      "The description is: {'description_A': 'A', 'description_B': 'B'}\n"
     ]
    }
   ],
   "source": [
    "print('The resource is: %s' %docList[0].resource)\n",
    "print('The description is: %s' %docList[0].desc)"
   ]
  },
  {
   "cell_type": "code",
   "execution_count": 122,
   "metadata": {},
   "outputs": [],
   "source": [
    "docobj = docList[0]\n",
    "newdata1 = dict(docobj.desc)\n",
    "newdata1['description_C'] = \"C1\"\n",
    "resource1 = \"resource1\"\n",
    "\n",
    "\n",
    "newdata2 = dict(docobj.desc)\n",
    "newdata2['description_C'] = \"C2\"\n",
    "resource2 = \"resource2\""
   ]
  },
  {
   "cell_type": "markdown",
   "metadata": {},
   "source": [
    "**Method 1:** set the new attributes in the object and save. "
   ]
  },
  {
   "cell_type": "code",
   "execution_count": 123,
   "metadata": {},
   "outputs": [
    {
     "data": {
      "text/plain": [
       "<Measurements: Measurements object>"
      ]
     },
     "execution_count": 123,
     "metadata": {},
     "output_type": "execute_result"
    }
   ],
   "source": [
    "docobj.resource = resource1\n",
    "docobj.desc = newdata1\n",
    "docobj.save()"
   ]
  },
  {
   "cell_type": "markdown",
   "metadata": {},
   "source": [
    "Now we check that the database was updated. "
   ]
  },
  {
   "cell_type": "code",
   "execution_count": 124,
   "metadata": {},
   "outputs": [
    {
     "name": "stdout",
     "output_type": "stream",
     "text": [
      "The resource is: resource1\n",
      "The description is: {'description_A': 'A', 'description_B': 'B', 'description_C': 'C1'}\n"
     ]
    }
   ],
   "source": [
    "after_update_docList = datalayer.Measurements.getDocuments(projectName=projectName,**desc)\n",
    "after_update_docobj = docList[0]\n",
    "print('The resource is: %s' %after_update_docobj.resource)\n",
    "print('The description is: %s' %after_update_docobj.desc)"
   ]
  },
  {
   "cell_type": "markdown",
   "metadata": {},
   "source": [
    "**Method 2:** Using the update method"
   ]
  },
  {
   "cell_type": "code",
   "execution_count": 125,
   "metadata": {},
   "outputs": [
    {
     "data": {
      "text/plain": [
       "1"
      ]
     },
     "execution_count": 125,
     "metadata": {},
     "output_type": "execute_result"
    }
   ],
   "source": [
    "docobj = docList[0]\n",
    "docobj.update(resource=\"resource2\",desc=newdata2)"
   ]
  },
  {
   "cell_type": "markdown",
   "metadata": {},
   "source": [
    "Now we update the object and fetch the current values from the database: "
   ]
  },
  {
   "cell_type": "code",
   "execution_count": 90,
   "metadata": {},
   "outputs": [
    {
     "name": "stdout",
     "output_type": "stream",
     "text": [
      "The resource is: resource2\n",
      "The description is: {'description_A': 'A', 'description_B': 'B', 'description_C': 'C2'}\n"
     ]
    }
   ],
   "source": [
    "after_update_docList = datalayer.Measurements.getDocuments(projectName=projectName,description_A = \"A\")\n",
    "after_update_docobj = docList[0]\n",
    "print('The resource is: %s' %after_update_docobj.resource)\n",
    "print('The description is: %s' %after_update_docobj.desc)"
   ]
  },
  {
   "cell_type": "markdown",
   "metadata": {},
   "source": [
    "## Reloading an object. \n",
    "\n",
    "If the there are 2 instaces of the same document, and one updated the DB, it is necessary to reload them. \n",
    "For example. Lets assume we have used getDocument twice. "
   ]
  },
  {
   "cell_type": "code",
   "execution_count": 91,
   "metadata": {},
   "outputs": [],
   "source": [
    "copy1_docList = datalayer.Measurements.getDocuments(projectName=projectName,description_A = \"A\")\n",
    "copy2_docList = datalayer.Measurements.getDocuments(projectName=projectName,description_A = \"A\")\n",
    "\n",
    "copy1_doc0 = copy1_docList[0]\n",
    "copy2_doc0 = copy2_docList[0]"
   ]
  },
  {
   "cell_type": "markdown",
   "metadata": {},
   "source": [
    "Now we update the first document in copy1_docList"
   ]
  },
  {
   "cell_type": "code",
   "execution_count": 92,
   "metadata": {},
   "outputs": [],
   "source": [
    "copy1_doc0.update(resource=\"resource3\")"
   ]
  },
  {
   "cell_type": "code",
   "execution_count": 93,
   "metadata": {},
   "outputs": [
    {
     "ename": "AttributeError",
     "evalue": "'int' object has no attribute 'asDict'",
     "output_type": "error",
     "traceback": [
      "\u001b[0;31m---------------------------------------------------------------------------\u001b[0m",
      "\u001b[0;31mAttributeError\u001b[0m                            Traceback (most recent call last)",
      "Cell \u001b[0;32mIn [93], line 1\u001b[0m\n\u001b[0;32m----> 1\u001b[0m \u001b[43mcopy1_doc0\u001b[49m\u001b[38;5;241;43m.\u001b[39;49m\u001b[43masDict\u001b[49m()\n",
      "\u001b[0;31mAttributeError\u001b[0m: 'int' object has no attribute 'asDict'"
     ]
    }
   ],
   "source": [
    "copy1_doc0.asDict()"
   ]
  },
  {
   "cell_type": "code",
   "execution_count": 55,
   "metadata": {},
   "outputs": [
    {
     "data": {
      "text/plain": [
       "{'_cls': 'Metadata.Measurements',\n",
       " 'projectName': 'addDataExample',\n",
       " 'desc': {'description_A': 'A', 'description_B': 'B', 'description_C': 'C2'},\n",
       " 'type': 'ExampleData',\n",
       " 'resource': 'resource',\n",
       " 'dataFormat': 'JSON_pandas'}"
      ]
     },
     "execution_count": 55,
     "metadata": {},
     "output_type": "execute_result"
    }
   ],
   "source": [
    "copy2_doc0.asDict()"
   ]
  },
  {
   "cell_type": "markdown",
   "metadata": {},
   "source": [
    "The value is copy 2 remains the old value: "
   ]
  },
  {
   "cell_type": "code",
   "execution_count": 56,
   "metadata": {},
   "outputs": [
    {
     "name": "stdout",
     "output_type": "stream",
     "text": [
      "Resource in copy 1: resource\n",
      "Resource in copy 2: resource\n"
     ]
    }
   ],
   "source": [
    "print('Resource in copy 1: %s' % copy1_doc0.resource)\n",
    "print('Resource in copy 2: %s' % copy2_doc0.resource)"
   ]
  },
  {
   "cell_type": "markdown",
   "metadata": {},
   "source": [
    "To update copy2 we need to reload it. "
   ]
  },
  {
   "cell_type": "code",
   "execution_count": 57,
   "metadata": {},
   "outputs": [
    {
     "data": {
      "text/plain": [
       "<Measurements: Measurements object>"
      ]
     },
     "execution_count": 57,
     "metadata": {},
     "output_type": "execute_result"
    }
   ],
   "source": [
    "copy2_doc0.reload()"
   ]
  },
  {
   "cell_type": "markdown",
   "metadata": {},
   "source": [
    "Now the values in the instance copy2_doc0 are synchronized with the DB"
   ]
  },
  {
   "cell_type": "code",
   "execution_count": 94,
   "metadata": {},
   "outputs": [
    {
     "ename": "AttributeError",
     "evalue": "'int' object has no attribute 'resource'",
     "output_type": "error",
     "traceback": [
      "\u001b[0;31m---------------------------------------------------------------------------\u001b[0m",
      "\u001b[0;31mAttributeError\u001b[0m                            Traceback (most recent call last)",
      "Cell \u001b[0;32mIn [94], line 1\u001b[0m\n\u001b[0;32m----> 1\u001b[0m \u001b[38;5;28mprint\u001b[39m(\u001b[38;5;124m'\u001b[39m\u001b[38;5;124mResource in copy 1: \u001b[39m\u001b[38;5;132;01m%s\u001b[39;00m\u001b[38;5;124m'\u001b[39m \u001b[38;5;241m%\u001b[39m \u001b[43mcopy1_doc0\u001b[49m\u001b[38;5;241;43m.\u001b[39;49m\u001b[43mresource\u001b[49m)\n\u001b[1;32m      2\u001b[0m \u001b[38;5;28mprint\u001b[39m(\u001b[38;5;124m'\u001b[39m\u001b[38;5;124mResource in copy 2: \u001b[39m\u001b[38;5;132;01m%s\u001b[39;00m\u001b[38;5;124m'\u001b[39m \u001b[38;5;241m%\u001b[39m copy2_doc0\u001b[38;5;241m.\u001b[39mresource)\n",
      "\u001b[0;31mAttributeError\u001b[0m: 'int' object has no attribute 'resource'"
     ]
    }
   ],
   "source": [
    "print('Resource in copy 1: %s' % copy1_doc0.resource)\n",
    "print('Resource in copy 2: %s' % copy2_doc0.resource)"
   ]
  },
  {
   "cell_type": "markdown",
   "metadata": {},
   "source": [
    "## Deleting a metadata document. \n",
    "\n",
    "There are 2 ways to delete documents from the DB. \n",
    "\n",
    "The first deletes documents with the collection, and actually allows for deletion of all the documents that \n",
    "satisfy a criteria (see [querying the database](#another_cell)). The other method deletes one document using the document object. \n",
    "\n",
    "Note that the deletion deletes only the database document, and **not** actual file on the disk (if a file is a resource). \n",
    "\n",
    "In order to use this example, lets add 2 more documents to the database. One with 'description_A' equals 'A' and the other with 'description_A' equals 'B'."
   ]
  },
  {
   "cell_type": "code",
   "execution_count": 95,
   "metadata": {},
   "outputs": [
    {
     "data": {
      "text/plain": [
       "<Measurements: Measurements object>"
      ]
     },
     "execution_count": 95,
     "metadata": {},
     "output_type": "execute_result"
    }
   ],
   "source": [
    "datalayer.Measurements.addDocument(projectName=projectName, type=documentType, dataFormat=dataFormat, resource=resource, desc=dict(description_A=\"A\", description_B=\"C\"))\n",
    "datalayer.Measurements.addDocument(projectName=projectName, type=documentType, dataFormat=dataFormat, resource=resource, desc=dict(description_A=\"B\", description_B=\"D\"))"
   ]
  },
  {
   "cell_type": "markdown",
   "metadata": {},
   "source": [
    "### Deleting documents using a query\n",
    "\n",
    "In order to delete all the documents that satisfy a criteria we use the deleteDocuments method. \n",
    "For example, delete the documents for which 'description_A' equals 'A'"
   ]
  },
  {
   "cell_type": "code",
   "execution_count": 96,
   "metadata": {},
   "outputs": [
    {
     "data": {
      "text/plain": [
       "[{'_id': {'$oid': '636fc8d3b9f0f4b3fecf0ad5'},\n",
       "  '_cls': 'Metadata.Measurements',\n",
       "  'projectName': 'addDataExample',\n",
       "  'desc': {'description_A': 'A', 'description_B': 'B', 'description_C': 'C2'},\n",
       "  'type': 'ExampleData',\n",
       "  'resource': 'resource3',\n",
       "  'dataFormat': 'JSON_pandas'},\n",
       " {'_id': {'$oid': '636fc934b9f0f4b3fecf0ad6'},\n",
       "  '_cls': 'Metadata.Measurements',\n",
       "  'projectName': 'addDataExample',\n",
       "  'desc': {'description_A': 'A', 'description_B': 'C'},\n",
       "  'type': 'ExampleData',\n",
       "  'resource': '{\"date\":{\"1478815200000\":\"2016-11-10\",\"1478818800000\":\"2016-11-10\",\"1478822400000\":\"2016-11-11\",\"1478826000000\":\"2016-11-11\",\"1478829600000\":\"2016-11-11\",\"1478833200000\":\"2016-11-11\",\"1478836800000\":\"2016-11-11\",\"1478840400000\":\"2016-11-11\"},\"time\":{\"1478815200000\":\"22:00:00\",\"1478818800000\":\"23:00:00\",\"1478822400000\":\"00:00:00\",\"1478826000000\":\"01:00:00\",\"1478829600000\":\"02:00:00\",\"1478833200000\":\"03:00:00\",\"1478836800000\":\"04:00:00\",\"1478840400000\":\"05:00:00\"},\"value\":{\"1478815200000\":90,\"1478818800000\":91,\"1478822400000\":80,\"1478826000000\":87,\"1478829600000\":84,\"1478833200000\":94,\"1478836800000\":91,\"1478840400000\":94}}',\n",
       "  'dataFormat': 'JSON_pandas'}]"
      ]
     },
     "execution_count": 96,
     "metadata": {},
     "output_type": "execute_result"
    }
   ],
   "source": [
    "datalayer.Measurements.deleteDocuments(projectName=projectName,description_A='A')"
   ]
  },
  {
   "cell_type": "markdown",
   "metadata": {},
   "source": [
    "### Deleting a single document: \n",
    "\n",
    "To delete a single document, we get the document using the retrieve and then delete it. "
   ]
  },
  {
   "cell_type": "code",
   "execution_count": 97,
   "metadata": {},
   "outputs": [],
   "source": [
    "document_to_delete = datalayer.Measurements.getDocuments(projectName=projectName,description_A = \"B\")"
   ]
  },
  {
   "cell_type": "markdown",
   "metadata": {},
   "source": [
    "Now, we delete the document"
   ]
  },
  {
   "cell_type": "code",
   "execution_count": 98,
   "metadata": {},
   "outputs": [
    {
     "data": {
      "text/plain": [
       "1"
      ]
     },
     "execution_count": 98,
     "metadata": {},
     "output_type": "execute_result"
    }
   ],
   "source": [
    "document_to_delete.delete()"
   ]
  },
  {
   "cell_type": "code",
   "execution_count": 99,
   "metadata": {},
   "outputs": [],
   "source": [
    "docList = datalayer.Measurements.getDocuments(projectName=projectName,description_A = \"B\")"
   ]
  },
  {
   "cell_type": "markdown",
   "metadata": {},
   "source": [
    "Now the database is empty"
   ]
  },
  {
   "cell_type": "code",
   "execution_count": 100,
   "metadata": {},
   "outputs": [
    {
     "name": "stdout",
     "output_type": "stream",
     "text": [
      "[]\n"
     ]
    }
   ],
   "source": [
    "print(docList)"
   ]
  },
  {
   "cell_type": "code",
   "execution_count": 101,
   "metadata": {},
   "outputs": [
    {
     "data": {
      "text/plain": [
       "[]"
      ]
     },
     "execution_count": 101,
     "metadata": {},
     "output_type": "execute_result"
    }
   ],
   "source": [
    "datalayer.Measurements.getDocuments(projectName=projectName,description_A = \"A\")"
   ]
  },
  {
   "cell_type": "code",
   "execution_count": null,
   "metadata": {},
   "outputs": [],
   "source": []
  },
  {
   "cell_type": "code",
   "execution_count": null,
   "metadata": {},
   "outputs": [],
   "source": []
  }
 ],
 "metadata": {
  "kernelspec": {
   "display_name": "Python 3 (ipykernel)",
   "language": "python",
   "name": "python3"
  },
  "language_info": {
   "codemirror_mode": {
    "name": "ipython",
    "version": 3
   },
   "file_extension": ".py",
   "mimetype": "text/x-python",
   "name": "python",
   "nbconvert_exporter": "python",
   "pygments_lexer": "ipython3",
   "version": "3.9.15"
  }
 },
 "nbformat": 4,
 "nbformat_minor": 4
}
