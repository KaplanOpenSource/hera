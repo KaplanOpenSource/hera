{
 "cells": [
  {
   "cell_type": "markdown",
   "id": "ae14f463-1fe9-4afe-b46b-be57b9a941dc",
   "metadata": {},
   "source": [
    "# Toolkit and Data Sources Documentation  \n",
    "Welcome to the toolkit and data sources documentation.  \n",
    "In this tutorial, you will become more familiar with toolkits and data sources, how they are related and how to connect and use them in Projects."
   ]
  },
  {
   "cell_type": "markdown",
   "id": "5993c888-35e7-454c-8496-77c7133657d6",
   "metadata": {},
   "source": [
    "## Toolkits  \n",
    "Let's start with toolkits. Toolkits is a set of tools and functionalities tailored for specific areas and their data. For example, the GIS Building toolkit is designed to work with Buildings data and includes functions for analyzing and managing this type of data.  \n",
    "The following list includes the available toolkits the hera provides:  \n",
    "- Experiment toolkit\n",
    "- GIS Landcover toolkit\n",
    "- GIS Buildings toolkit\n",
    "- GIS Tiles toolkit\n",
    "- GIS Topography toolkit\n",
    "- GIS Demography toolkit\n",
    "- Meterology Low Frequency toolkit\n",
    "- Meterology High Frequency toolkit\n",
    "- Riskassessment Agents toolkit\n",
    "- Wind Profile toolkit\n",
    "- LSM toolkit\n",
    "- Open Foam toolkit\n",
    "\n",
    "\n",
    "Each toolkit requires one or more datasources to function and operate. Each type of toolkit works with its corresponding data sources type. For example, the GIS Building toolkit works with a GIS Building Data source. The data sources are placed inside projects. We will soon detail more about data sources on in this notebook.  \n",
    "\n",
    "### The Toolkit Structure\n",
    "Basicly, each toolkit is designed as a 3-tier application. In simple words, each of the toolkits include 3 layers:  \n",
    "1) **Data Layer**: Manages loading and parsing the specific data domain.\n",
    "2) **Presentation Layer**: Manages the graphs and other types of presentation for the specific domain.\n",
    "3) **Analysis Layer**: Manages the analysis and computational functions for the specific domain.\n",
    "\n",
    "At the end,  users will mainly use the second and third layers.  \n",
    "It is important to note that while some toolkits may include only one of these layers, this is a rare occurrence."
   ]
  },
  {
   "cell_type": "markdown",
   "id": "c4c9842e-cdfd-4c24-ac61-f2a9604a9336",
   "metadata": {},
   "source": [
    "### Getting Started with Toolkits  \n",
    "Let's see how we initate a toolkit and connect it to a project.  \n",
    "First, we need to import the **toolkitHome** class from hera:"
   ]
  },
  {
   "cell_type": "code",
   "execution_count": 1,
   "id": "77498c21-3df6-44e1-a8f3-a9b441a1f904",
   "metadata": {},
   "outputs": [],
   "source": [
    "from hera import toolkitHome"
   ]
  },
  {
   "cell_type": "markdown",
   "id": "2ecb7d42-55cb-4717-95f5-d507ee53d407",
   "metadata": {},
   "source": [
    "Using the **toolkitHome** class, we can reach and initiate any type of toolkit we want, using the *getToolkit()* function.  \n",
    "The *getToolkit* function recieves two main arguments you should know:  \n",
    "1) Toolkit Name - This is the type of toolkit you want to reach.\n",
    "2) The project Name - This is the project name you want to connect your toolkit to.\n",
    "\n",
    "The project name is essentially a string that the user can specify for a new or existing project in the system, with no restrictions on its format.  \n",
    "The toolkit name, however, must be a specific string defined in the attributes of the ToolkitHome class. When specifying a toolkit name, you should use only strings from the following list:  "
   ]
  },
  {
   "cell_type": "code",
   "execution_count": 20,
   "id": "72f6e391-bf3a-45d8-affc-5a2c34965ba1",
   "metadata": {},
   "outputs": [
    {
     "name": "stdout",
     "output_type": "stream",
     "text": [
      "EXPERIMENT: 'experiment'\n",
      "GIS_BUILDINGS: 'GIS_Buildings'\n",
      "GIS_DEMOGRAPHY: 'GIS_Demography'\n",
      "GIS_LANDCOVER: 'GIS_LandCover'\n",
      "GIS_RASTER_TOPOGRAPHY: 'GIS_Raster_Topography'\n",
      "GIS_SHAPES: 'GIS_Shapes'\n",
      "GIS_TILES: 'GIS_Tiles'\n",
      "GIS_VECTOR_TOPOGRAPHY: 'GIS_Vector_Topography'\n",
      "LSM: 'LSM'\n",
      "METEOROLOGY_HIGHFREQ: 'MeteoHighFreq'\n",
      "METEOROLOGY_LOWFREQ: 'MeteoLowFreq'\n",
      "RISKASSESSMENT: 'RiskAssessment'\n",
      "SIMULATIONS_OPENFOAM: 'OpenFOAM'\n",
      "SIMULATIONS_WORKFLOWS: 'hermesWorkflows'\n",
      "WINDPROFILE: 'WindProfile'\n"
     ]
    }
   ],
   "source": [
    "for attr in dir(toolkitHome)[1:-2]:\n",
    "    if not callable(getattr(toolkitHome, attr)) and not attr.startswith(\"__\") and not 'SAVEMODE' in attr:\n",
    "        print(f\"{attr}: '{getattr(toolkitHome, attr)}'\")"
   ]
  },
  {
   "cell_type": "markdown",
   "id": "d93bbb6d-78f2-4a99-afb1-30486dd2f232",
   "metadata": {},
   "source": [
    "For demonstration, let's initate the GIS Building toolkit and connect it to a new project. Pay attention to the syntax and how I reach the toolkit name:"
   ]
  },
  {
   "cell_type": "code",
   "execution_count": 22,
   "id": "5c4a65f1-4d4e-4036-ab10-0f757c1996a8",
   "metadata": {},
   "outputs": [],
   "source": [
    "toolkitName = toolkitHome.GIS_BUILDINGS ## Same as 'GIS_LandCover'\n",
    "projectName = \"MY_PROJECT\"\n",
    "\n",
    "building_toolkit = toolkitHome.getToolkit(\n",
    "                    toolkitName=toolkitName,\n",
    "                    projectName=projectName)"
   ]
  },
  {
   "cell_type": "markdown",
   "id": "00d6b213-13b4-4d80-b33a-54a03c7ef795",
   "metadata": {},
   "source": [
    "You can see that by writting *toolkitHome.GIS_BUILDINGS*, I basicly reach the corresponding string of the GIS Building name:"
   ]
  },
  {
   "cell_type": "code",
   "execution_count": 23,
   "id": "5fd5de03-512d-49d3-8a10-fc9c7860930c",
   "metadata": {},
   "outputs": [
    {
     "data": {
      "text/plain": [
       "'GIS_Buildings'"
      ]
     },
     "execution_count": 23,
     "metadata": {},
     "output_type": "execute_result"
    }
   ],
   "source": [
    "toolkitName"
   ]
  },
  {
   "cell_type": "markdown",
   "id": "fe3ff6f9-f27e-4419-a600-38d1185c3074",
   "metadata": {},
   "source": [
    "Now we have a new variable *building_toolkit* , which is a GIS Building toolkit, inside a new project with the name \"MY_PROJECT\".  \n",
    "\n",
    "You will soon learn more about Projects and how they work. For now, here's an important note:\n",
    "When initializing a toolkit for a project, if no project with the specified name exists, a new empty project will be created. If the project already exists, the toolkit will be connected to it."
   ]
  },
  {
   "cell_type": "markdown",
   "id": "b76e29e5-b735-433f-8f90-2aa65f281dd8",
   "metadata": {},
   "source": [
    "Since the project is currently empty with no data sources added, let's set the toolkit aside for now and move on to explaining more about data sources."
   ]
  },
  {
   "cell_type": "markdown",
   "id": "3bce67d2-78fd-4d93-a841-ec3adcee6dc9",
   "metadata": {},
   "source": [
    "## Data Sources  \n",
    "A datasource is an external data that is needed for the toolkit. Each toolkit works with various data sources, which provide the information it needs to operate. Data sources are the origins of the data used in toolkits. These can include:  \n",
    "- URLs\n",
    "- File path for files and folders (usually the case).\n",
    "- Path to Classes.\n",
    "- The Data source object it self.\n",
    "- And More.\n",
    "  \n",
    "Datasources also include version and metadata. Each toolkit type knows how to deal with its corresponding data source type.\n",
    "\n",
    "### Data Source Structure\n",
    "\n",
    "A datasource is a structured JSON object that defines all the necessary information about a particular dataset. Let's explain its structure and fields using an example.  \n",
    "A GIS Building Data Source may look like this:  \n",
    "```json\n",
    "\"GIS_Buildings\": {\n",
    "    \"Config\": {\n",
    "        \"defaultBuildingDataSource\": \"BNTL\"\n",
    "    },\n",
    "    \"DataSource\": {\n",
    "        \"BNTL\": {\n",
    "            \"isRelativePath\": \"True\",\n",
    "            \"item\": {\n",
    "                \"resource\": \"data/GIS_BUILDING/BNTL-JERUSALEM/JERU-BLDG.shp\",\n",
    "                \"dataFormat\": \"geopandas\",\n",
    "                \"desc\": {\n",
    "                    \"crs\": 2039,\n",
    "                    \"BuildingHeightColumn\": \"BLDG_HT\",\n",
    "                    \"LandHeightColumns\": \"HT_LAND\"\n",
    "                }\n",
    "            }\n",
    "        }\n",
    "    }\n",
    "}\n",
    "```\n",
    "### Explanation of the Components\n",
    "- **Toolkit Type (GIS_Buildings)** : This represents the type of toolkit that will handle the datasource. Each toolkit corresponds to a specific type of data processing or management.  \n",
    "    - **Config Section**: Contains configurations relevant to the toolkit. In this example, the defaultBuildingDataSource specifies which datasource should be used as the default.  \n",
    "    - **DataSource Section**: This section contains JSON formats (in this example one), each identified by a unique name (e.g., 'BNTL').  \n",
    "    - **Datasource Details (BNTL)**:  \n",
    "        - **isRelativePath**: Indicates whether the path to the datasource is relative to the repository.\n",
    "        - **item**: A JSON which contains details about the datasource.\n",
    "            - **resource**: The path to the data file (e.g., a shapefile in this case).\n",
    "            - **dataFormat**: Specifies the format of the data (e.g., geopandas).\n",
    "            - **desc**: A JSON object holding additional metadata, which can vary depending on the datasource. The fields vary between each datasource."
   ]
  }
 ],
 "metadata": {
  "kernelspec": {
   "display_name": "Python 3 (ipykernel)",
   "language": "python",
   "name": "python3"
  },
  "language_info": {
   "codemirror_mode": {
    "name": "ipython",
    "version": 3
   },
   "file_extension": ".py",
   "mimetype": "text/x-python",
   "name": "python",
   "nbconvert_exporter": "python",
   "pygments_lexer": "ipython3",
   "version": "3.11.6"
  }
 },
 "nbformat": 4,
 "nbformat_minor": 5
}
