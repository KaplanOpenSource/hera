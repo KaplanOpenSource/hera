{
 "cells": [
  {
   "cell_type": "markdown",
   "id": "aa3cf92c-ca79-4873-82df-2d77eb8feed1",
   "metadata": {},
   "source": [
    "# Beginner Tutorial \n",
    "Welcome to the Hera System!\n",
    "\n",
    "Hera is a powerful platform designed to help you easily manage projects and work in a variety of specialized areas without needing to write scripts. \n",
    "\n",
    "It's built to support tasks across three area domains:  \n",
    "**Measurements**  \n",
    "- Experiment conduction and managment.\n",
    "- GIS data (both raster and vector).\n",
    "- Meteorological data, including both low and high-frequency datasets.\n",
    "\n",
    "**Risk Assessment**  \n",
    "- Model and manage risk using advanced agent-based approaches.\n",
    "\n",
    "**Simulations**  \n",
    "- Wind Profiles for analysis.\n",
    "- OpenFOAM.\n",
    "\n",
    "Each of these domains is enhanced with presentation and analysis tools, making it easy to visualize data and gain insights.\n",
    "Whether you're working with experiments, assessing risks, or running simulations, the Hera system simplifies complex tasks so you can focus on results."
   ]
  },
  {
   "cell_type": "markdown",
   "id": "db8cc4f7-815a-4ba9-987b-a4e10cf15375",
   "metadata": {},
   "source": [
    "## Basic concepts  \n",
    "To understand how Hera works, let’s explore some key ideas:\n",
    "\n",
    "**Toolkit**  \n",
    "A toolkit is a set of tools and functionalities tailored for a specific area. For example, the GIS Landcover toolkit is designed to work with landcover data and includes functions for analyzing and managing this type of data. Toolkit examples are:  \n",
    "\n",
    "- The GIS toolkit uses raster or vector files from specific URLs or databases.\n",
    "- The experiment toolkit is designed for creating and managing experiments.\n",
    "- The windProfile toolkit handle creation and analysis of wind profiles in specified areas.\n",
    "- And more...\n",
    "\n",
    "    \n",
    "Toolkits provide the core functions for their respective areas, making it easy to handle tasks without complex setups and writting your own scripts.\n",
    "\n",
    "**Data Sources**  \n",
    "Each toolkit works with various data sources, which provide the information it needs to operate. Data sources are the origins of the data used in toolkits. These can include:\n",
    "\n",
    "- URLs pointing to online maps (e.g., GIS raster data).\n",
    "- File paths to local or network-stored data (usually the case).\n",
    "- A JSON of an object describing an element\n",
    "- And more...\n",
    "\n",
    "  \n",
    "Datasources also include version and metadata.\n",
    "\n",
    "**Project**  \n",
    "A project in Hera is a central workspace where you can bring together multiple datasources. For example, one project might include:\n",
    "\n",
    "- GIS Building datasources\n",
    "- Landcover datasources\n",
    "- Riskassessment datasources\n",
    "- And More...\n",
    "  \n",
    "Projects help you manage and organize different data sources effectively, allowing you to work seamlessly across various areas.\n",
    "When a project is initiated with multiple data sources, the corresponding toolkit can be connected to perform tasks. The toolkit automatically links to the data sources associated with the project, enabling immediate access and streamlined operations. When the datasource is linked with a project, the user is no longer required to remember the path to the datasource.\n",
    "\n",
    "**Repository**  \n",
    "Each project can connect to one or more repositories. A repository is a storage hub for information about data sources. It uses a JSON file format to store the datasources details such as:\n",
    "\n",
    "- The URL for a raster GIS toolkit.\n",
    "- The file path for GIS building folders.\n",
    "- And more...\n",
    "\n",
    "You can connect a project to multiple repositories, each holding data for different toolkits. \n"
   ]
  },
  {
   "cell_type": "code",
   "execution_count": null,
   "id": "dc1b9f0a-1a24-422a-9a86-3418d68d016a",
   "metadata": {},
   "outputs": [],
   "source": []
  }
 ],
 "metadata": {
  "kernelspec": {
   "display_name": "Python 3 (ipykernel)",
   "language": "python",
   "name": "python3"
  },
  "language_info": {
   "codemirror_mode": {
    "name": "ipython",
    "version": 3
   },
   "file_extension": ".py",
   "mimetype": "text/x-python",
   "name": "python",
   "nbconvert_exporter": "python",
   "pygments_lexer": "ipython3",
   "version": "3.11.6"
  }
 },
 "nbformat": 4,
 "nbformat_minor": 5
}
