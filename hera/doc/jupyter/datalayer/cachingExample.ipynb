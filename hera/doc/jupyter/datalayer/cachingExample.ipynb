{
 "cells": [
  {
   "cell_type": "markdown",
   "id": "cb6663ab-b8cd-484a-98ca-bfe03913d473",
   "metadata": {},
   "source": [
    "# Automatic Caching \n",
    "\n",
    "Hera allows the automatic caching of a function using the decorator cache Function \n",
    "\n",
    "To use it first import it. "
   ]
  },
  {
   "cell_type": "code",
   "execution_count": 1,
   "id": "initial_id",
   "metadata": {},
   "outputs": [],
   "source": [
    "from hera import cacheFunction,datatypes,clearFunctionCache\n",
    "from hera.utils import *"
   ]
  },
  {
   "cell_type": "markdown",
   "id": "69633d78-1e60-4645-ba71-df4d15f868b1",
   "metadata": {},
   "source": [
    "Now for example lets define the function computeTheItem. "
   ]
  },
  {
   "cell_type": "code",
   "execution_count": 2,
   "id": "f9efe003-342c-4826-9a1a-b531569e90b3",
   "metadata": {},
   "outputs": [],
   "source": [
    "import numpy \n",
    "import time \n",
    "import pandas \n",
    "\n",
    "@cacheFunction\n",
    "def computeTheItem(param1,param2,param3):\n",
    "    time.sleep(5)\n",
    "    return pandas.Series([param1,param2,param3])"
   ]
  },
  {
   "cell_type": "code",
   "execution_count": 10,
   "id": "22f6260d-ea10-42f1-aa91-c6c34f37ed2b",
   "metadata": {},
   "outputs": [
    {
     "data": {
      "text/plain": [
       "0    1\n",
       "1    2\n",
       "2    3\n",
       "dtype: int64"
      ]
     },
     "execution_count": 10,
     "metadata": {},
     "output_type": "execute_result"
    }
   ],
   "source": [
    "computeTheItem(1,2,3)"
   ]
  },
  {
   "cell_type": "code",
   "execution_count": 11,
   "id": "6c4d5e29-f1ef-4f08-8913-6aa3b8657add",
   "metadata": {},
   "outputs": [
    {
     "data": {
      "text/plain": [
       "0    1\n",
       "1    4\n",
       "2    3\n",
       "dtype: int64"
      ]
     },
     "execution_count": 11,
     "metadata": {},
     "output_type": "execute_result"
    }
   ],
   "source": [
    "computeTheItem(1,4,3)"
   ]
  },
  {
   "cell_type": "code",
   "execution_count": 12,
   "id": "29673ba6-d924-422b-bf57-d2e58ab622a5",
   "metadata": {},
   "outputs": [
    {
     "data": {
      "text/plain": [
       "0    1\n",
       "1    2\n",
       "2    3\n",
       "dtype: int64"
      ]
     },
     "execution_count": 12,
     "metadata": {},
     "output_type": "execute_result"
    }
   ],
   "source": [
    "computeTheItem(1,2,3)"
   ]
  },
  {
   "cell_type": "code",
   "execution_count": 13,
   "id": "b82bbd25-82e3-4c7f-95e2-31c2668c8d49",
   "metadata": {},
   "outputs": [
    {
     "data": {
      "text/plain": [
       "0    1\n",
       "1    2\n",
       "2    5\n",
       "dtype: int64"
      ]
     },
     "execution_count": 13,
     "metadata": {},
     "output_type": "execute_result"
    }
   ],
   "source": [
    "computeTheItem(1,2,5)"
   ]
  },
  {
   "cell_type": "code",
   "execution_count": 3,
   "id": "d9001f85-3b06-4e77-bebe-b9d6a69a10db",
   "metadata": {},
   "outputs": [],
   "source": [
    "import pandas\n",
    "\n",
    "class exampleClass:\n",
    "\n",
    "    def __init__(self,myParam):\n",
    "        self.data = myParam\n",
    "\n",
    "    @cacheFunction\n",
    "    def computeClassMethod(self,param1,param2,param3):\n",
    "        time.sleep(10)\n",
    "        return pandas.Series(numpy.array([param1,param2,param3]))  "
   ]
  },
  {
   "cell_type": "code",
   "execution_count": 4,
   "id": "8dc41133-5ba8-41f8-8490-48594d00c2f7",
   "metadata": {},
   "outputs": [],
   "source": [
    "exmaple = exampleClass(\"A\")\n",
    "aa = exmaple.computeClassMethod(4,5,9)"
   ]
  },
  {
   "cell_type": "code",
   "execution_count": 5,
   "id": "7306c9df-eac6-4737-b4f9-622f6a05ab63",
   "metadata": {},
   "outputs": [
    {
     "data": {
      "text/plain": [
       "0    4\n",
       "1    5\n",
       "2    9\n",
       "dtype: int64"
      ]
     },
     "execution_count": 5,
     "metadata": {},
     "output_type": "execute_result"
    }
   ],
   "source": [
    "aa"
   ]
  },
  {
   "cell_type": "code",
   "execution_count": 6,
   "id": "000fe250-6998-4664-bd04-eca7b4ee3d4d",
   "metadata": {},
   "outputs": [],
   "source": [
    "aa = exmaple.computeClassMethod(4,5,90)"
   ]
  },
  {
   "cell_type": "code",
   "execution_count": 7,
   "id": "dafdf33a-938d-402c-b6ff-838fd9b8be34",
   "metadata": {},
   "outputs": [
    {
     "data": {
      "text/plain": [
       "0     4\n",
       "1     5\n",
       "2    90\n",
       "dtype: int64"
      ]
     },
     "execution_count": 7,
     "metadata": {},
     "output_type": "execute_result"
    }
   ],
   "source": [
    "aa"
   ]
  },
  {
   "cell_type": "code",
   "execution_count": 8,
   "id": "abd9b92f-a144-42af-8b82-c37865a2720a",
   "metadata": {},
   "outputs": [
    {
     "data": {
      "text/plain": [
       "0     4\n",
       "1     5\n",
       "2    90\n",
       "dtype: int64"
      ]
     },
     "execution_count": 8,
     "metadata": {},
     "output_type": "execute_result"
    }
   ],
   "source": [
    "aa = exmaple.computeClassMethod(4,5,90)\n",
    "aa"
   ]
  },
  {
   "cell_type": "code",
   "execution_count": 9,
   "id": "5ea951d6-aa75-4b8f-953b-68ac254be26c",
   "metadata": {},
   "outputs": [],
   "source": [
    "exmaple1 = exampleClass(\"A\")\n",
    "aa = exmaple.computeClassMethod(4,5,9)"
   ]
  },
  {
   "cell_type": "code",
   "execution_count": 10,
   "id": "d068b40a-0774-4e83-8068-0b305c15e6e0",
   "metadata": {},
   "outputs": [],
   "source": [
    "exmaple = exampleClass(\"B\")\n",
    "aa = exmaple.computeClassMethod(4,5,9)"
   ]
  },
  {
   "cell_type": "code",
   "execution_count": 11,
   "id": "032400a5-a8b3-456c-b132-8f9f20bd5761",
   "metadata": {},
   "outputs": [
    {
     "data": {
      "text/plain": [
       "0    4\n",
       "1    5\n",
       "2    9\n",
       "dtype: int64"
      ]
     },
     "execution_count": 11,
     "metadata": {},
     "output_type": "execute_result"
    }
   ],
   "source": [
    "aa"
   ]
  },
  {
   "cell_type": "code",
   "execution_count": 12,
   "id": "505478f7-6b6c-476c-901b-c02a06417d44",
   "metadata": {},
   "outputs": [],
   "source": [
    "aa = exmaple.computeClassMethod(4,5,9)"
   ]
  },
  {
   "cell_type": "code",
   "execution_count": 13,
   "id": "a95b83e4-b96c-4176-84dc-3c713a083aec",
   "metadata": {},
   "outputs": [
    {
     "data": {
      "text/plain": [
       "True"
      ]
     },
     "execution_count": 13,
     "metadata": {},
     "output_type": "execute_result"
    }
   ],
   "source": [
    "clearFunctionCache(\"exampleClass.computeClassMethod\")"
   ]
  },
  {
   "cell_type": "code",
   "execution_count": null,
   "id": "9b05f0f1-d4fb-47fc-882d-e72939317805",
   "metadata": {},
   "outputs": [],
   "source": []
  }
 ],
 "metadata": {
  "kernelspec": {
   "display_name": "Python 3 (ipykernel)",
   "language": "python",
   "name": "python3"
  },
  "language_info": {
   "codemirror_mode": {
    "name": "ipython",
    "version": 3
   },
   "file_extension": ".py",
   "mimetype": "text/x-python",
   "name": "python",
   "nbconvert_exporter": "python",
   "pygments_lexer": "ipython3",
   "version": "3.9.20"
  }
 },
 "nbformat": 4,
 "nbformat_minor": 5
}
