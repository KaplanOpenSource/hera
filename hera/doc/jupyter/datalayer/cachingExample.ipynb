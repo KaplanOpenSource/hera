{
 "cells": [
  {
   "cell_type": "markdown",
   "id": "cb6663ab-b8cd-484a-98ca-bfe03913d473",
   "metadata": {},
   "source": [
    "# Automatic Caching \n",
    "\n",
    "Hera allows the automatic caching of a function using the decorator cache Function \n",
    "\n",
    "To use it first import it. "
   ]
  },
  {
   "cell_type": "code",
   "execution_count": 1,
   "id": "initial_id",
   "metadata": {},
   "outputs": [],
   "source": [
    "from hera import cacheFunction,datatypes,clearFunctionCache\n",
    "from hera.utils import *"
   ]
  },
  {
   "cell_type": "markdown",
   "id": "69633d78-1e60-4645-ba71-df4d15f868b1",
   "metadata": {},
   "source": [
    "Now for example lets define the function computeTheItem. "
   ]
  },
  {
   "cell_type": "code",
   "execution_count": 2,
   "id": "f9efe003-342c-4826-9a1a-b531569e90b3",
   "metadata": {},
   "outputs": [],
   "source": [
    "import numpy \n",
    "import time \n",
    "\n",
    "@cacheFunction\n",
    "def computeTheItem(param1,param2,param3):\n",
    "    time.sleep(2)\n",
    "    return numpy.array([param1,param2,param3])"
   ]
  },
  {
   "cell_type": "code",
   "execution_count": 3,
   "id": "22f6260d-ea10-42f1-aa91-c6c34f37ed2b",
   "metadata": {},
   "outputs": [
    {
     "data": {
      "text/plain": [
       "array([1, 2, 3])"
      ]
     },
     "execution_count": 3,
     "metadata": {},
     "output_type": "execute_result"
    }
   ],
   "source": [
    "computeTheItem(1,2,3)"
   ]
  },
  {
   "cell_type": "code",
   "execution_count": 4,
   "id": "6c4d5e29-f1ef-4f08-8913-6aa3b8657add",
   "metadata": {},
   "outputs": [
    {
     "data": {
      "text/plain": [
       "array([1, 4, 3])"
      ]
     },
     "execution_count": 4,
     "metadata": {},
     "output_type": "execute_result"
    }
   ],
   "source": [
    "computeTheItem(1,4,3)"
   ]
  },
  {
   "cell_type": "code",
   "execution_count": 5,
   "id": "29673ba6-d924-422b-bf57-d2e58ab622a5",
   "metadata": {},
   "outputs": [
    {
     "data": {
      "text/plain": [
       "array([1, 2, 3])"
      ]
     },
     "execution_count": 5,
     "metadata": {},
     "output_type": "execute_result"
    }
   ],
   "source": [
    "computeTheItem(1,2,3)"
   ]
  },
  {
   "cell_type": "code",
   "execution_count": 2,
   "id": "d9001f85-3b06-4e77-bebe-b9d6a69a10db",
   "metadata": {},
   "outputs": [],
   "source": [
    "import pandas\n",
    "\n",
    "class exampleClass:\n",
    "    @cacheFunction\n",
    "    def computeClassMethod(self,param1,param2,param3):\n",
    "        return pandas.Series(numpy.array([param1,param2,param3]))  "
   ]
  },
  {
   "cell_type": "code",
   "execution_count": 8,
   "id": "8dc41133-5ba8-41f8-8490-48594d00c2f7",
   "metadata": {},
   "outputs": [],
   "source": [
    "exmaple = exampleClass()\n",
    "aa = exmaple.computeClassMethod(4,5,6)"
   ]
  },
  {
   "cell_type": "code",
   "execution_count": 9,
   "id": "a8774b2a-060a-479e-bce3-8f65568d6cd8",
   "metadata": {},
   "outputs": [
    {
     "data": {
      "text/plain": [
       "True"
      ]
     },
     "execution_count": 9,
     "metadata": {},
     "output_type": "execute_result"
    }
   ],
   "source": [
    "clearFunctionCache(\"computeTheItem\")"
   ]
  },
  {
   "cell_type": "code",
   "execution_count": 6,
   "id": "bb3f8bc3-6ad2-4ec8-a9ce-3038e2400951",
   "metadata": {},
   "outputs": [],
   "source": [
    "from hera import Project \n",
    "proj = Project()"
   ]
  },
  {
   "cell_type": "code",
   "execution_count": 9,
   "id": "ee4d9349-5148-47f5-a65a-fcfbc01eb091",
   "metadata": {},
   "outputs": [
    {
     "data": {
      "text/plain": [
       "[<Cache: {\n",
       "    \"_cls\": \"Metadata.Cache\",\n",
       "    \"projectName\": \"testProject\",\n",
       "    \"desc\": {\n",
       "        \"param1\": 1,\n",
       "        \"param2\": 2,\n",
       "        \"param3\": 3,\n",
       "        \"functionName\": \"computeTheItem\",\n",
       "        \"storeParameters\": {}\n",
       "    },\n",
       "    \"type\": \"functionCacheData\",\n",
       "    \"resource\": \"/home/yehudaa/Development/hera/hera/doc/jupyter/datalayer/cache/computeTheItem_7.npy\",\n",
       "    \"dataFormat\": \"numpy_array\"\n",
       "}>, <Cache: {\n",
       "    \"_cls\": \"Metadata.Cache\",\n",
       "    \"projectName\": \"testProject\",\n",
       "    \"desc\": {\n",
       "        \"param1\": 1,\n",
       "        \"param2\": 4,\n",
       "        \"param3\": 3,\n",
       "        \"functionName\": \"computeTheItem\",\n",
       "        \"storeParameters\": {}\n",
       "    },\n",
       "    \"type\": \"functionCacheData\",\n",
       "    \"resource\": \"/home/yehudaa/Development/hera/hera/doc/jupyter/datalayer/cache/computeTheItem_8.npy\",\n",
       "    \"dataFormat\": \"numpy_array\"\n",
       "}>]"
      ]
     },
     "execution_count": 9,
     "metadata": {},
     "output_type": "execute_result"
    }
   ],
   "source": [
    "proj.getCacheDocuments(functionName= \"computeTheItem\")"
   ]
  },
  {
   "cell_type": "code",
   "execution_count": 9,
   "id": "831e6822-c280-47cd-af7a-3a528de261e9",
   "metadata": {},
   "outputs": [
    {
     "data": {
      "text/plain": [
       "True"
      ]
     },
     "execution_count": 9,
     "metadata": {},
     "output_type": "execute_result"
    }
   ],
   "source": [
    "clearFunctionCache(functionName=\"computeTheItem\")"
   ]
  },
  {
   "cell_type": "code",
   "execution_count": null,
   "id": "0a32005e-e388-4d05-9414-286f696e0dc0",
   "metadata": {},
   "outputs": [],
   "source": []
  }
 ],
 "metadata": {
  "kernelspec": {
   "display_name": "Python 3 (ipykernel)",
   "language": "python",
   "name": "python3"
  },
  "language_info": {
   "codemirror_mode": {
    "name": "ipython",
    "version": 3
   },
   "file_extension": ".py",
   "mimetype": "text/x-python",
   "name": "python",
   "nbconvert_exporter": "python",
   "pygments_lexer": "ipython3",
   "version": "3.9.20"
  }
 },
 "nbformat": 4,
 "nbformat_minor": 5
}
