{
 "cells": [
  {
   "cell_type": "markdown",
   "id": "cb6663ab-b8cd-484a-98ca-bfe03913d473",
   "metadata": {},
   "source": [
    "# Automatic Caching \n",
    "\n",
    "Hera allows the automatic caching of a function using the decorator cache Function \n",
    "\n",
    "To use it first import it. "
   ]
  },
  {
   "cell_type": "code",
   "execution_count": 1,
   "id": "initial_id",
   "metadata": {},
   "outputs": [],
   "source": [
    "from hera import cacheFunction,datatypes,clearFunctionCache\n",
    "from hera.utils import *"
   ]
  },
  {
   "cell_type": "markdown",
   "id": "69633d78-1e60-4645-ba71-df4d15f868b1",
   "metadata": {},
   "source": [
    "Now for example lets define the function computeTheItem. "
   ]
  },
  {
   "cell_type": "code",
   "execution_count": 2,
   "id": "f9efe003-342c-4826-9a1a-b531569e90b3",
   "metadata": {},
   "outputs": [],
   "source": [
    "import numpy \n",
    "import time \n",
    "\n",
    "@cacheFunction\n",
    "def computeTheItem(param1,param2,param3):\n",
    "    time.sleep(2)\n",
    "    return [param1,param2,param3]"
   ]
  },
  {
   "cell_type": "code",
   "execution_count": 3,
   "id": "22f6260d-ea10-42f1-aa91-c6c34f37ed2b",
   "metadata": {},
   "outputs": [
    {
     "name": "stdout",
     "output_type": "stream",
     "text": [
      "> \u001b[0;32m/home/yehudaa/Development/hera/hera/datalayer/autocache.py\u001b[0m(149)\u001b[0;36m__call__\u001b[0;34m()\u001b[0m\n",
      "\u001b[0;32m    147 \u001b[0;31m\u001b[0;34m\u001b[0m\u001b[0m\n",
      "\u001b[0m\u001b[0;32m    148 \u001b[0;31m        \u001b[0;31m# Add the function name\u001b[0m\u001b[0;34m\u001b[0m\u001b[0;34m\u001b[0m\u001b[0m\n",
      "\u001b[0m\u001b[0;32m--> 149 \u001b[0;31m        \u001b[0mcall_info_serialized\u001b[0m\u001b[0;34m[\u001b[0m\u001b[0;34m'functionName'\u001b[0m\u001b[0;34m]\u001b[0m \u001b[0;34m=\u001b[0m  \u001b[0mself\u001b[0m\u001b[0;34m.\u001b[0m\u001b[0m_get_full_func_name\u001b[0m\u001b[0;34m(\u001b[0m\u001b[0mself\u001b[0m\u001b[0;34m.\u001b[0m\u001b[0mfunc\u001b[0m\u001b[0;34m)\u001b[0m\u001b[0;34m\u001b[0m\u001b[0;34m\u001b[0m\u001b[0m\n",
      "\u001b[0m\u001b[0;32m    150 \u001b[0;31m\u001b[0;34m\u001b[0m\u001b[0m\n",
      "\u001b[0m\u001b[0;32m    151 \u001b[0;31m        \u001b[0mdata\u001b[0m \u001b[0;34m=\u001b[0m \u001b[0mself\u001b[0m\u001b[0;34m.\u001b[0m\u001b[0mcheckIfFunctionIsCached\u001b[0m\u001b[0;34m(\u001b[0m\u001b[0mcall_info_serialized\u001b[0m\u001b[0;34m)\u001b[0m\u001b[0;34m\u001b[0m\u001b[0;34m\u001b[0m\u001b[0m\n",
      "\u001b[0m\n"
     ]
    },
    {
     "name": "stdin",
     "output_type": "stream",
     "text": [
      "ipdb>  c\n"
     ]
    },
    {
     "name": "stdout",
     "output_type": "stream",
     "text": [
      "> \u001b[0;32m/home/yehudaa/Development/hera/hera/datalayer/project.py\u001b[0m(738)\u001b[0;36maddData\u001b[0;34m()\u001b[0m\n",
      "\u001b[0;32m    736 \u001b[0;31m        \u001b[0;32mimport\u001b[0m \u001b[0mpdb\u001b[0m\u001b[0;34m\u001b[0m\u001b[0;34m\u001b[0m\u001b[0m\n",
      "\u001b[0m\u001b[0;32m    737 \u001b[0;31m        \u001b[0mpdb\u001b[0m\u001b[0;34m.\u001b[0m\u001b[0mset_trace\u001b[0m\u001b[0;34m(\u001b[0m\u001b[0;34m)\u001b[0m\u001b[0;34m\u001b[0m\u001b[0;34m\u001b[0m\u001b[0m\n",
      "\u001b[0m\u001b[0;32m--> 738 \u001b[0;31m        \u001b[0mguessedDataFormat\u001b[0m \u001b[0;34m=\u001b[0m \u001b[0mself\u001b[0m\u001b[0;34m.\u001b[0m\u001b[0mdatatypes\u001b[0m\u001b[0;34m.\u001b[0m\u001b[0mgetDataFormatName\u001b[0m\u001b[0;34m(\u001b[0m\u001b[0mdata\u001b[0m\u001b[0;34m)\u001b[0m \u001b[0;32mif\u001b[0m \u001b[0mdataFormat\u001b[0m \u001b[0;32mis\u001b[0m \u001b[0;32mNone\u001b[0m \u001b[0;32melse\u001b[0m \u001b[0mdataFormat\u001b[0m\u001b[0;34m\u001b[0m\u001b[0;34m\u001b[0m\u001b[0m\n",
      "\u001b[0m\u001b[0;32m    739 \u001b[0;31m\u001b[0;34m\u001b[0m\u001b[0m\n",
      "\u001b[0m\u001b[0;32m    740 \u001b[0;31m        \u001b[0mhandler\u001b[0m \u001b[0;34m=\u001b[0m \u001b[0mself\u001b[0m\u001b[0;34m.\u001b[0m\u001b[0mdatatypes\u001b[0m\u001b[0;34m.\u001b[0m\u001b[0mgetHandler\u001b[0m\u001b[0;34m(\u001b[0m\u001b[0mguessedDataFormat\u001b[0m\u001b[0;34m)\u001b[0m\u001b[0;34m\u001b[0m\u001b[0;34m\u001b[0m\u001b[0m\n",
      "\u001b[0m\n"
     ]
    },
    {
     "name": "stdin",
     "output_type": "stream",
     "text": [
      "ipdb>  unt\n"
     ]
    },
    {
     "name": "stdout",
     "output_type": "stream",
     "text": [
      "> \u001b[0;32m/home/yehudaa/Development/hera/hera/datalayer/project.py\u001b[0m(740)\u001b[0;36maddData\u001b[0;34m()\u001b[0m\n",
      "\u001b[0;32m    738 \u001b[0;31m        \u001b[0mguessedDataFormat\u001b[0m \u001b[0;34m=\u001b[0m \u001b[0mself\u001b[0m\u001b[0;34m.\u001b[0m\u001b[0mdatatypes\u001b[0m\u001b[0;34m.\u001b[0m\u001b[0mgetDataFormatName\u001b[0m\u001b[0;34m(\u001b[0m\u001b[0mdata\u001b[0m\u001b[0;34m)\u001b[0m \u001b[0;32mif\u001b[0m \u001b[0mdataFormat\u001b[0m \u001b[0;32mis\u001b[0m \u001b[0;32mNone\u001b[0m \u001b[0;32melse\u001b[0m \u001b[0mdataFormat\u001b[0m\u001b[0;34m\u001b[0m\u001b[0;34m\u001b[0m\u001b[0m\n",
      "\u001b[0m\u001b[0;32m    739 \u001b[0;31m\u001b[0;34m\u001b[0m\u001b[0m\n",
      "\u001b[0m\u001b[0;32m--> 740 \u001b[0;31m        \u001b[0mhandler\u001b[0m \u001b[0;34m=\u001b[0m \u001b[0mself\u001b[0m\u001b[0;34m.\u001b[0m\u001b[0mdatatypes\u001b[0m\u001b[0;34m.\u001b[0m\u001b[0mgetHandler\u001b[0m\u001b[0;34m(\u001b[0m\u001b[0mguessedDataFormat\u001b[0m\u001b[0;34m)\u001b[0m\u001b[0;34m\u001b[0m\u001b[0;34m\u001b[0m\u001b[0m\n",
      "\u001b[0m\u001b[0;32m    741 \u001b[0;31m        \u001b[0mfile_extension\u001b[0m \u001b[0;34m=\u001b[0m \u001b[0mself\u001b[0m\u001b[0;34m.\u001b[0m\u001b[0mdatatypes\u001b[0m\u001b[0;34m.\u001b[0m\u001b[0mgetDataFormatExtension\u001b[0m\u001b[0;34m(\u001b[0m\u001b[0mdata\u001b[0m\u001b[0;34m)\u001b[0m\u001b[0;34m\u001b[0m\u001b[0;34m\u001b[0m\u001b[0m\n",
      "\u001b[0m\u001b[0;32m    742 \u001b[0;31m\u001b[0;34m\u001b[0m\u001b[0m\n",
      "\u001b[0m\n"
     ]
    },
    {
     "name": "stdin",
     "output_type": "stream",
     "text": [
      "ipdb>  v\n"
     ]
    },
    {
     "name": "stdout",
     "output_type": "stream",
     "text": [
      "*** NameError: name 'v' is not defined\n"
     ]
    },
    {
     "name": "stdin",
     "output_type": "stream",
     "text": [
      "ipdb>  guessedDataFormat\n"
     ]
    },
    {
     "name": "stdout",
     "output_type": "stream",
     "text": [
      "'pickle'\n"
     ]
    },
    {
     "name": "stdin",
     "output_type": "stream",
     "text": [
      "ipdb>  c\n"
     ]
    },
    {
     "data": {
      "text/plain": [
       "[1, 2, array([1, 2])]"
      ]
     },
     "execution_count": 3,
     "metadata": {},
     "output_type": "execute_result"
    }
   ],
   "source": [
    "computeTheItem(1,2,numpy.array([1,2]))"
   ]
  },
  {
   "cell_type": "code",
   "execution_count": 7,
   "id": "6c4d5e29-f1ef-4f08-8913-6aa3b8657add",
   "metadata": {},
   "outputs": [
    {
     "data": {
      "text/plain": [
       "array([1, 4, 3])"
      ]
     },
     "execution_count": 7,
     "metadata": {},
     "output_type": "execute_result"
    }
   ],
   "source": [
    "computeTheItem(1,4,3)"
   ]
  },
  {
   "cell_type": "code",
   "execution_count": 8,
   "id": "29673ba6-d924-422b-bf57-d2e58ab622a5",
   "metadata": {},
   "outputs": [
    {
     "data": {
      "text/plain": [
       "array([1, 2, 3])"
      ]
     },
     "execution_count": 8,
     "metadata": {},
     "output_type": "execute_result"
    }
   ],
   "source": [
    "computeTheItem(1,2,3)"
   ]
  },
  {
   "cell_type": "code",
   "execution_count": 14,
   "id": "b82bbd25-82e3-4c7f-95e2-31c2668c8d49",
   "metadata": {},
   "outputs": [
    {
     "data": {
      "text/plain": [
       "array([1, 2, 5])"
      ]
     },
     "execution_count": 14,
     "metadata": {},
     "output_type": "execute_result"
    }
   ],
   "source": [
    "computeTheItem(1,2,5)"
   ]
  },
  {
   "cell_type": "code",
   "execution_count": 2,
   "id": "d9001f85-3b06-4e77-bebe-b9d6a69a10db",
   "metadata": {},
   "outputs": [],
   "source": [
    "import pandas\n",
    "\n",
    "class exampleClass:\n",
    "    @cacheFunction\n",
    "    def computeClassMethod(self,param1,param2,param3):\n",
    "        return pandas.Series(numpy.array([param1,param2,param3]))  "
   ]
  },
  {
   "cell_type": "code",
   "execution_count": 8,
   "id": "8dc41133-5ba8-41f8-8490-48594d00c2f7",
   "metadata": {},
   "outputs": [],
   "source": [
    "exmaple = exampleClass()\n",
    "aa = exmaple.computeClassMethod(4,5,numpy.array([1,2))"
   ]
  },
  {
   "cell_type": "code",
   "execution_count": 15,
   "id": "bb3f8bc3-6ad2-4ec8-a9ce-3038e2400951",
   "metadata": {},
   "outputs": [],
   "source": [
    "from hera import Project \n",
    "proj = Project()"
   ]
  },
  {
   "cell_type": "code",
   "execution_count": 16,
   "id": "ee4d9349-5148-47f5-a65a-fcfbc01eb091",
   "metadata": {},
   "outputs": [
    {
     "data": {
      "text/plain": [
       "[<Cache: {\n",
       "    \"_cls\": \"Metadata.Cache\",\n",
       "    \"projectName\": \"testProject\",\n",
       "    \"desc\": {\n",
       "        \"param1\": 1,\n",
       "        \"param2\": 2,\n",
       "        \"param3\": 5,\n",
       "        \"functionName\": \"computeTheItem\",\n",
       "        \"storeParameters\": {}\n",
       "    },\n",
       "    \"type\": \"functionCacheData\",\n",
       "    \"resource\": \"/home/yehudaa/Development/hera/hera/doc/jupyter/datalayer/cache/computeTheItem_10.npy\",\n",
       "    \"dataFormat\": \"numpy_array\"\n",
       "}>]"
      ]
     },
     "execution_count": 16,
     "metadata": {},
     "output_type": "execute_result"
    }
   ],
   "source": [
    "proj.getCacheDocuments(functionName= \"computeTheItem\")"
   ]
  },
  {
   "cell_type": "code",
   "execution_count": 12,
   "id": "831e6822-c280-47cd-af7a-3a528de261e9",
   "metadata": {},
   "outputs": [
    {
     "data": {
      "text/plain": [
       "True"
      ]
     },
     "execution_count": 12,
     "metadata": {},
     "output_type": "execute_result"
    }
   ],
   "source": [
    "clearFunctionCache(functionName=\"computeTheItem\")"
   ]
  },
  {
   "cell_type": "code",
   "execution_count": 13,
   "id": "74eb9e6b-addc-4822-bfea-646d5cea2a21",
   "metadata": {},
   "outputs": [],
   "source": [
    "import pickle\n",
    "import base64\n",
    "\n",
    "# Serialize an object into a plain text\n",
    "def obj_to_txt(obj):\n",
    "    message_bytes = pickle.dumps(obj)\n",
    "    base64_bytes = base64.b64encode(message_bytes)\n",
    "    txt = base64_bytes.decode('ascii')\n",
    "    return txt\n",
    "\n",
    "# De-serialize an object from a plain text\n",
    "def txt_to_obj(txt):\n",
    "    base64_bytes = txt.encode('ascii')\n",
    "    message_bytes = base64.b64decode(base64_bytes)\n",
    "    obj = pickle.loads(message_bytes)\n",
    "    return obj\n"
   ]
  },
  {
   "cell_type": "code",
   "execution_count": 22,
   "id": "7b541c76-68f8-41d6-8293-33bc2f9f33af",
   "metadata": {},
   "outputs": [],
   "source": [
    "# Some class for demonstration\n",
    "class Demo:\n",
    "    x = None\n",
    "    def __init__(self):\n",
    "        # It has some data which can be serialized\n",
    "        self.some_data = \"hello\"\n",
    "        self.x = numpy.array([1,2])\n",
    "\n",
    "    def say_hello(self):\n",
    "        print(self.some_data)"
   ]
  },
  {
   "cell_type": "code",
   "execution_count": 23,
   "id": "49c7978c-653f-4d5e-9c3b-5dacd6035d08",
   "metadata": {},
   "outputs": [],
   "source": [
    "d = Demo()"
   ]
  },
  {
   "cell_type": "code",
   "execution_count": 25,
   "id": "d297dc2b-d803-4754-b61b-767505cb6d91",
   "metadata": {},
   "outputs": [],
   "source": [
    "txt = obj_to_txt(d)"
   ]
  },
  {
   "cell_type": "code",
   "execution_count": 26,
   "id": "2ac76a7d-0953-42ac-a623-c9b85d013616",
   "metadata": {},
   "outputs": [],
   "source": [
    "newObj = txt_to_obj(txt)"
   ]
  },
  {
   "cell_type": "code",
   "execution_count": 28,
   "id": "bb75d8c3-eb58-4784-865a-cd2b7e1ea530",
   "metadata": {},
   "outputs": [
    {
     "name": "stdout",
     "output_type": "stream",
     "text": [
      "hello\n"
     ]
    }
   ],
   "source": [
    "newObj.say_hello()"
   ]
  },
  {
   "cell_type": "code",
   "execution_count": 7,
   "id": "90ddbafd-e744-4043-ac58-a1bdd5efad33",
   "metadata": {},
   "outputs": [],
   "source": [
    "from bson import json_util\n",
    "import json"
   ]
  },
  {
   "cell_type": "code",
   "execution_count": 10,
   "id": "6b238d08-687a-4b91-a8f6-8ebd5d4cf48d",
   "metadata": {},
   "outputs": [],
   "source": [
    "json_str = obj_to_txt(numpy.array([1,2]))"
   ]
  },
  {
   "cell_type": "code",
   "execution_count": 15,
   "id": "190172da-98f7-42c2-8aa9-6dbeed49ab4e",
   "metadata": {},
   "outputs": [
    {
     "data": {
      "text/plain": [
       "array([1, 2])"
      ]
     },
     "execution_count": 15,
     "metadata": {},
     "output_type": "execute_result"
    }
   ],
   "source": [
    "txt_to_obj(json_str)"
   ]
  },
  {
   "cell_type": "code",
   "execution_count": 16,
   "id": "cba97ca5-4ba8-4ae4-afcc-0a87b43cbf6d",
   "metadata": {},
   "outputs": [],
   "source": []
  },
  {
   "cell_type": "code",
   "execution_count": 17,
   "id": "a2ef0928-2071-4c31-a369-c2705e39b1b5",
   "metadata": {},
   "outputs": [
    {
     "data": {
      "text/plain": [
       "False"
      ]
     },
     "execution_count": 17,
     "metadata": {},
     "output_type": "execute_result"
    }
   ],
   "source": [
    "is_mongo_serializable(numpy.array([1,2]))\n"
   ]
  },
  {
   "cell_type": "code",
   "execution_count": null,
   "id": "2532d4cb-3a24-42f8-a358-98c278f7c547",
   "metadata": {},
   "outputs": [],
   "source": []
  }
 ],
 "metadata": {
  "kernelspec": {
   "display_name": "Python 3 (ipykernel)",
   "language": "python",
   "name": "python3"
  },
  "language_info": {
   "codemirror_mode": {
    "name": "ipython",
    "version": 3
   },
   "file_extension": ".py",
   "mimetype": "text/x-python",
   "name": "python",
   "nbconvert_exporter": "python",
   "pygments_lexer": "ipython3",
   "version": "3.9.20"
  }
 },
 "nbformat": 4,
 "nbformat_minor": 5
}
