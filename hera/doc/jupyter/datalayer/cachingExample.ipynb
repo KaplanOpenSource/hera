{
 "cells": [
  {
   "cell_type": "markdown",
   "id": "cb6663ab-b8cd-484a-98ca-bfe03913d473",
   "metadata": {},
   "source": [
    "# Automatic Caching \n",
    "\n",
    "Hera allows the automatic caching of a function using the decorator cache Function \n",
    "\n",
    "To use it first import it. "
   ]
  },
  {
   "cell_type": "code",
   "execution_count": 1,
   "id": "initial_id",
   "metadata": {},
   "outputs": [],
   "source": [
    "from hera import cacheFunction,datatypes,clearFunctionCache\n",
    "from hera.utils import *"
   ]
  },
  {
   "cell_type": "markdown",
   "id": "69633d78-1e60-4645-ba71-df4d15f868b1",
   "metadata": {},
   "source": [
    "Now for example lets define the function computeTheItem. "
   ]
  },
  {
   "cell_type": "code",
   "execution_count": 2,
   "id": "f9efe003-342c-4826-9a1a-b531569e90b3",
   "metadata": {},
   "outputs": [],
   "source": [
    "import numpy \n",
    "import time \n",
    "import pandas \n",
    "\n",
    "@cacheFunction\n",
    "def computeTheItem(param1,param2,param3):\n",
    "    time.sleep(2)\n",
    "    return pandas.Series([param1,param2,param3])"
   ]
  },
  {
   "cell_type": "code",
   "execution_count": 3,
   "id": "22f6260d-ea10-42f1-aa91-c6c34f37ed2b",
   "metadata": {},
   "outputs": [
    {
     "data": {
      "text/plain": [
       "0    1\n",
       "1    2\n",
       "2    3\n",
       "dtype: int64"
      ]
     },
     "execution_count": 3,
     "metadata": {},
     "output_type": "execute_result"
    }
   ],
   "source": [
    "computeTheItem(1,2,3)"
   ]
  },
  {
   "cell_type": "code",
   "execution_count": 4,
   "id": "6c4d5e29-f1ef-4f08-8913-6aa3b8657add",
   "metadata": {},
   "outputs": [
    {
     "data": {
      "text/plain": [
       "0    1\n",
       "1    4\n",
       "2    3\n",
       "dtype: int64"
      ]
     },
     "execution_count": 4,
     "metadata": {},
     "output_type": "execute_result"
    }
   ],
   "source": [
    "computeTheItem(1,4,3)"
   ]
  },
  {
   "cell_type": "code",
   "execution_count": 5,
   "id": "29673ba6-d924-422b-bf57-d2e58ab622a5",
   "metadata": {},
   "outputs": [
    {
     "data": {
      "text/plain": [
       "0    1\n",
       "1    2\n",
       "2    3\n",
       "dtype: int64"
      ]
     },
     "execution_count": 5,
     "metadata": {},
     "output_type": "execute_result"
    }
   ],
   "source": [
    "computeTheItem(1,2,3)"
   ]
  },
  {
   "cell_type": "code",
   "execution_count": 10,
   "id": "b82bbd25-82e3-4c7f-95e2-31c2668c8d49",
   "metadata": {},
   "outputs": [
    {
     "data": {
      "text/plain": [
       "0    1\n",
       "1    2\n",
       "2    5\n",
       "dtype: int64"
      ]
     },
     "execution_count": 10,
     "metadata": {},
     "output_type": "execute_result"
    }
   ],
   "source": [
    "computeTheItem(1,2,5)"
   ]
  },
  {
   "cell_type": "code",
   "execution_count": 11,
   "id": "d9001f85-3b06-4e77-bebe-b9d6a69a10db",
   "metadata": {},
   "outputs": [],
   "source": [
    "import pandas\n",
    "\n",
    "class exampleClass:\n",
    "    @cacheFunction\n",
    "    def computeClassMethod(self,param1,param2,param3):\n",
    "        return pandas.Series(numpy.array([param1,param2,param3]))  "
   ]
  },
  {
   "cell_type": "code",
   "execution_count": 12,
   "id": "8dc41133-5ba8-41f8-8490-48594d00c2f7",
   "metadata": {},
   "outputs": [],
   "source": [
    "exmaple = exampleClass()\n",
    "aa = exmaple.computeClassMethod(4,5,9)"
   ]
  },
  {
   "cell_type": "code",
   "execution_count": 8,
   "id": "bb3f8bc3-6ad2-4ec8-a9ce-3038e2400951",
   "metadata": {},
   "outputs": [],
   "source": [
    "from hera import Project \n",
    "proj = Project()"
   ]
  },
  {
   "cell_type": "code",
   "execution_count": 9,
   "id": "ee4d9349-5148-47f5-a65a-fcfbc01eb091",
   "metadata": {},
   "outputs": [
    {
     "data": {
      "text/plain": [
       "[<Cache: {\n",
       "    \"_cls\": \"Metadata.Cache\",\n",
       "    \"projectName\": \"testProject\",\n",
       "    \"desc\": {\n",
       "        \"param1\": [\n",
       "            true,\n",
       "            1\n",
       "        ],\n",
       "        \"param2\": [\n",
       "            true,\n",
       "            2\n",
       "        ],\n",
       "        \"param3\": [\n",
       "            true,\n",
       "            3\n",
       "        ],\n",
       "        \"functionName\": \"computeTheItem\",\n",
       "        \"storeParameters\": {\n",
       "            \"pandasSeries\": true\n",
       "        }\n",
       "    },\n",
       "    \"type\": \"functionCacheData\",\n",
       "    \"resource\": \"/home/yehudaa/Development/hera/hera/doc/jupyter/datalayer/cache/computeTheItem_16.json\",\n",
       "    \"dataFormat\": \"JSON_pandas\"\n",
       "}>, <Cache: {\n",
       "    \"_cls\": \"Metadata.Cache\",\n",
       "    \"projectName\": \"testProject\",\n",
       "    \"desc\": {\n",
       "        \"param1\": [\n",
       "            true,\n",
       "            1\n",
       "        ],\n",
       "        \"param2\": [\n",
       "            true,\n",
       "            4\n",
       "        ],\n",
       "        \"param3\": [\n",
       "            true,\n",
       "            3\n",
       "        ],\n",
       "        \"functionName\": \"computeTheItem\",\n",
       "        \"storeParameters\": {\n",
       "            \"pandasSeries\": true,\n",
       "            \"usePandas\": true\n",
       "        }\n",
       "    },\n",
       "    \"type\": \"functionCacheData\",\n",
       "    \"resource\": \"/home/yehudaa/Development/hera/hera/doc/jupyter/datalayer/cache/computeTheItem_17.json\",\n",
       "    \"dataFormat\": \"JSON_pandas\"\n",
       "}>, <Cache: {\n",
       "    \"_cls\": \"Metadata.Cache\",\n",
       "    \"projectName\": \"testProject\",\n",
       "    \"desc\": {\n",
       "        \"param1\": [\n",
       "            true,\n",
       "            1\n",
       "        ],\n",
       "        \"param2\": [\n",
       "            true,\n",
       "            2\n",
       "        ],\n",
       "        \"param3\": [\n",
       "            true,\n",
       "            5\n",
       "        ],\n",
       "        \"functionName\": \"computeTheItem\",\n",
       "        \"storeParameters\": {\n",
       "            \"pandasSeries\": true,\n",
       "            \"usePandas\": true\n",
       "        }\n",
       "    },\n",
       "    \"type\": \"functionCacheData\",\n",
       "    \"resource\": \"/home/yehudaa/Development/hera/hera/doc/jupyter/datalayer/cache/computeTheItem_18.json\",\n",
       "    \"dataFormat\": \"JSON_pandas\"\n",
       "}>]"
      ]
     },
     "execution_count": 9,
     "metadata": {},
     "output_type": "execute_result"
    }
   ],
   "source": [
    "proj.getCacheDocuments(functionName= \"computeTheItem\")"
   ]
  },
  {
   "cell_type": "code",
   "execution_count": 4,
   "id": "831e6822-c280-47cd-af7a-3a528de261e9",
   "metadata": {},
   "outputs": [
    {
     "data": {
      "text/plain": [
       "True"
      ]
     },
     "execution_count": 4,
     "metadata": {},
     "output_type": "execute_result"
    }
   ],
   "source": [
    "clearFunctionCache(functionName=\"computeTheItem\")"
   ]
  },
  {
   "cell_type": "code",
   "execution_count": 13,
   "id": "4975cc49-0c43-4821-abbb-4b79ceb3df89",
   "metadata": {},
   "outputs": [
    {
     "name": "stdout",
     "output_type": "stream",
     "text": [
      "[method] Calling helper function from instance 'ExampleObject'\n",
      "[get_instance_from_caller] Found instance of MyClass\n",
      "[method] Retrieved instance name: ExampleObject\n"
     ]
    }
   ],
   "source": [
    "import inspect\n",
    "\n",
    "def get_instance_from_caller():\n",
    "    # Walk the call stack and look for a 'self' in the caller's local variables\n",
    "    for frame_info in inspect.stack():\n",
    "        local_vars = frame_info.frame.f_locals\n",
    "        if 'self' in local_vars:\n",
    "            instance = local_vars['self']\n",
    "            print(f\"[get_instance_from_caller] Found instance of {type(instance).__name__}\")\n",
    "            return instance\n",
    "    print(\"[get_instance_from_caller] No instance found.\")\n",
    "    return None\n",
    "\n",
    "class MyClass:\n",
    "    def __init__(self, name):\n",
    "        self.name = name\n",
    "\n",
    "    def method(self):\n",
    "        print(f\"[method] Calling helper function from instance '{self.name}'\")\n",
    "        instance = get_instance_from_caller()\n",
    "        if instance:\n",
    "            print(f\"[method] Retrieved instance name: {instance.name}\")\n",
    "\n",
    "# Example usage\n",
    "obj = MyClass(\"ExampleObject\")\n",
    "obj.method()\n"
   ]
  },
  {
   "cell_type": "code",
   "execution_count": null,
   "id": "260523ec-3870-414a-a24c-d0560b79d1d2",
   "metadata": {},
   "outputs": [],
   "source": []
  }
 ],
 "metadata": {
  "kernelspec": {
   "display_name": "Python 3 (ipykernel)",
   "language": "python",
   "name": "python3"
  },
  "language_info": {
   "codemirror_mode": {
    "name": "ipython",
    "version": 3
   },
   "file_extension": ".py",
   "mimetype": "text/x-python",
   "name": "python",
   "nbconvert_exporter": "python",
   "pygments_lexer": "ipython3",
   "version": "3.9.20"
  }
 },
 "nbformat": 4,
 "nbformat_minor": 5
}
