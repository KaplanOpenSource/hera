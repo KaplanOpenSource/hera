{
 "cells": [
  {
   "cell_type": "markdown",
   "id": "cc3df703-d0f2-4523-82c4-7abc2b971560",
   "metadata": {},
   "source": [
    "<font size=\"+3\">Project</font>\n",
    "\n",
    "Each data item belongs to a certain project. \n",
    "\n",
    "The project exists in the database if there is at least one document (of any type) with the project name. "
   ]
  },
  {
   "cell_type": "markdown",
   "id": "e81dae07-7a1d-48dc-882f-5c4f5444309c",
   "metadata": {},
   "source": [
    "# Creating a new project \n"
   ]
  },
  {
   "cell_type": "code",
   "execution_count": null,
   "id": "c8bb6db4-6ed1-4b9b-ae93-9b86d53bd5f2",
   "metadata": {},
   "outputs": [],
   "source": []
  },
  {
   "cell_type": "markdown",
   "id": "48b89207-cb90-49a4-8297-4eb31f9f6fe6",
   "metadata": {},
   "source": [
    "# Listing the projects in the database\n",
    "\n",
    "To get the list of documents in the database can be done performed \n",
    "either using code or from the CLI \n",
    "\n",
    "## Code "
   ]
  },
  {
   "cell_type": "code",
   "execution_count": 9,
   "id": "fa8e86fa-dd18-45a8-b120-133842e11f80",
   "metadata": {
    "tags": []
   },
   "outputs": [
    {
     "name": "stdout",
     "output_type": "stream",
     "text": [
      "\n",
      "documentation\n",
      "particlesNanoBBB\n",
      "The-Project-Name\n",
      "nanoParticlesBBB\n",
      "loggingData\n",
      "tmp\n",
      "NTA2022\n",
      "Demography\n"
     ]
    }
   ],
   "source": [
    "from hera import datalayer\n",
    "projectList = datalayer.getProjectList()\n",
    "\n",
    "for pn in projectList:\n",
    "    print(pn)"
   ]
  },
  {
   "cell_type": "markdown",
   "id": "dd95ba7f-5cd5-4444-9d35-1967e246d1f7",
   "metadata": {},
   "source": [
    "## CLI \n",
    "\n",
    "The list of projects can be obtained from the CLI \n",
    "\n",
    "<div class=\"alert alert-success\" role=\"alert\">    \n",
    "    >>  hera-project project list [--onlyName] [--connectionName CONNECTIONNAME]\n",
    "</div>    \n",
    "\n",
    "lists all the projects and summarizes the number of documents in each type (Cache, Measurements, and  Simulation documents). \n",
    "\n",
    "When --onlyName is specified, the output is without the summary of the documents. \n",
    "The --connectionName flag is specified to change the database connection name. "
   ]
  },
  {
   "cell_type": "markdown",
   "id": "3583c075-861a-444e-86ea-aa544268cd50",
   "metadata": {},
   "source": [
    "# The Project class \n",
    "\n",
    "The Project class provides an interface to manage the data items in the project. The \n",
    "The project name is [supplied from a configuration file](#file), or by specifying it [explicitly](#id).\n",
    "The project class also allows the user to specify the [connection name to the database](#connectionName). \n",
    "When the connectionName is not specified then the deafult connection is used (e.g the linux user name). \n",
    "\n",
    "Additionally, the Project object provides an interface to save configuration parameters.\n",
    "\n",
    "First, we need to import the Project object."
   ]
  },
  {
   "cell_type": "code",
   "execution_count": 10,
   "id": "ad84f5a7-6387-4bfd-94cb-7555a13d9638",
   "metadata": {},
   "outputs": [],
   "source": [
    "from hera import Project "
   ]
  },
  {
   "cell_type": "markdown",
   "id": "b8ee91d1-1a0b-472c-b5e7-0956931af853",
   "metadata": {},
   "source": [
    "<a id=\"file\"></id>\n",
    "## Initialize from  a configuration file \n",
    "\n",
    "In standard usage the same project name will be used in different \n",
    "occasions (like different jupyter notebooks or python scripts). \n",
    "\n",
    "To simplify the usage, it is possible to initialize the project \n",
    "name from a configuration file. \n",
    "\n",
    "The configuration file name is always `caseConfiguration.json`, \n",
    "and its the default location is the current directory. Alternatively, \n",
    "it is possible to specify the location of the configuration. \n",
    "The structure of the configuration is delineated [below](#configurationFile).\n",
    "\n",
    "Initializing the project using the configuration file is \n",
    "is perfomed as follows "
   ]
  },
  {
   "cell_type": "code",
   "execution_count": 4,
   "id": "7a7a678e-2e22-4e7c-9f97-acf845c21de2",
   "metadata": {},
   "outputs": [],
   "source": [
    "proj = Project()"
   ]
  },
  {
   "cell_type": "markdown",
   "id": "617540f6-b0ec-4cd8-b44f-713640dd6e79",
   "metadata": {},
   "source": [
    "In the current example, the name of the project is testProject. \n",
    "Printing the project name "
   ]
  },
  {
   "cell_type": "code",
   "execution_count": 5,
   "id": "47774d3a-9e3c-4514-b76a-d72d6ecde229",
   "metadata": {},
   "outputs": [
    {
     "name": "stdout",
     "output_type": "stream",
     "text": [
      "testProject\n"
     ]
    }
   ],
   "source": [
    "print(proj.projectName)"
   ]
  },
  {
   "cell_type": "markdown",
   "id": "f26bb063-2dd1-4724-acc0-adb48a559ca4",
   "metadata": {},
   "source": [
    "When the case configuration is in a different directory, it is possible to \n",
    "supply the directory name"
   ]
  },
  {
   "cell_type": "code",
   "execution_count": 7,
   "id": "083eebab-8882-4764-8a28-c534a69c8974",
   "metadata": {},
   "outputs": [
    {
     "name": "stdout",
     "output_type": "stream",
     "text": [
      "testProject\n"
     ]
    }
   ],
   "source": [
    "configurationPath = \".\"\n",
    "proj = Project(configurationPath=configurationPath)\n",
    "print(proj.projectName)"
   ]
  },
  {
   "cell_type": "markdown",
   "id": "f53ddd09-12ed-4217-99fd-2179b4b5a905",
   "metadata": {
    "tags": []
   },
   "source": [
    "<a id=\"explicit\"></id>\n",
    "## Initializing  explicitly  \n",
    "\n",
    "Initializing the Project by specifying the \n",
    "project name explicitly"
   ]
  },
  {
   "cell_type": "code",
   "execution_count": 8,
   "id": "7703cd21-e4f3-4ab4-bb35-c338f6394f9c",
   "metadata": {
    "tags": []
   },
   "outputs": [
    {
     "name": "stdout",
     "output_type": "stream",
     "text": [
      "myProject\n"
     ]
    }
   ],
   "source": [
    "proj = Project(projectName=\"myProject\")\n",
    "print(proj.projectName)"
   ]
  },
  {
   "cell_type": "markdown",
   "id": "0c9889f1-301b-4214-be7f-2fad81999514",
   "metadata": {},
   "source": [
    "<a id=\"connectionName\"></a>\n",
    "## Specifying the connection name \n",
    "\n",
    "Specifying the connection name is perfomed as follows, "
   ]
  },
  {
   "cell_type": "code",
   "execution_count": null,
   "id": "47b41a0a-b193-4948-9738-82d66ed80c36",
   "metadata": {},
   "outputs": [],
   "source": [
    "proj = Project(connectionName=\"theConnection\")"
   ]
  },
  {
   "cell_type": "markdown",
   "id": "a1984c21-5ab7-499c-b058-9ed2ef9a33d8",
   "metadata": {},
   "source": [
    "The connection should be present in the conifguration file. \n",
    "Management of the database is described [here](DataLayer.ipynb#setup).\n"
   ]
  },
  {
   "cell_type": "markdown",
   "id": "7de769d0-fddb-47eb-a240-137a78c7847f",
   "metadata": {},
   "source": [
    "<a id=\"configurationFile\"></a>\n",
    "## Creating a caseConfiguration file. \n",
    "\n",
    "The case configuration file can be created manually or using the CLI. \n",
    "\n",
    "## Manual \n",
    "\n",
    "The project name is specified in the json file. \n",
    "\n",
    "The structure of the JSON file is, \n",
    "\n",
    "```javascript\n",
    "{\n",
    "    \"projectName\" : <project name>\n",
    "}\n",
    "```\n",
    "\n",
    "## CLI\n",
    "\n",
    "Creating the `caseConfiguration.json` with the CLI is \n",
    "\n",
    "<div class=\"alert alert-success\" role=\"alert\">    \n",
    "    >> hera-project project create projectName [--directory DIRECTORY]\n",
    "</div>    \n",
    "\n",
    "Will create the caseConfiguration file with the requested project name. \n",
    "If the DIRECTORY is not specified, the file will be created in the current directory. \n",
    "If --directory is present, then the DIRECTORY will be created and the `caseConfiguration.json` will be created \n",
    "there. "
   ]
  },
  {
   "cell_type": "markdown",
   "id": "85b0ab69-226c-4d5b-b62d-d91f72a46325",
   "metadata": {
    "tags": []
   },
   "source": [
    "# Managing the data. \n",
    "\n",
    "Adding, removing and updating the data items is explained by example. \n",
    "\n",
    "First, lets create some mock-up data that we can store in the DB.   "
   ]
  },
  {
   "cell_type": "code",
   "execution_count": 2,
   "id": "b70a8203-4a69-463e-9cdf-e5a1ebc050bb",
   "metadata": {},
   "outputs": [
    {
     "name": "stdout",
     "output_type": "stream",
     "text": [
      "          x         y\n",
      "0 -2.326348  0.026652\n",
      "1 -2.279351  0.029698\n",
      "2 -2.232354  0.033020\n",
      "3 -2.185357  0.036632\n",
      "4 -2.138360  0.040550\n"
     ]
    }
   ],
   "source": [
    "import pandas\n",
    "import numpy\n",
    "from scipy.stats import norm\n",
    "\n",
    "x = numpy.linspace(norm.ppf(0.01), norm.ppf(0.99), 100)\n",
    "\n",
    "dataset1 = pandas.DataFrame(dict(x=x,y=norm.pdf(x,loc=0,scale=1)))\n",
    "dataset2 = pandas.DataFrame(dict(x=x,y=norm.pdf(x,loc=0,scale=0.5)))\n",
    "dataset3 = pandas.DataFrame(dict(x=x,y=norm.pdf(x,loc=0.5,scale=0.5)))\n",
    "\n",
    "print(dataset1.head())"
   ]
  },
  {
   "cell_type": "markdown",
   "id": "f1726f19-20ad-41ab-8fb4-9d1412936ef3",
   "metadata": {},
   "source": [
    "Now that we have data, we can save it. We would like to keep the connection between the data and the parameters that generated it. \n",
    "So that:\n",
    "\n",
    "- **dataset1** is characterized by loc=0 and scale = 1 \n",
    "- **dataset2** is characterized by loc=0 and scale = 0.5 \n",
    "- **dataset3** is characterized by loc=0.5 and scale = 0.5\n",
    "\n",
    "Therefore, we will save the loc and scale in the metadata.\n",
    "\n",
    "Before we add the data to the DB, we need to save it to the disk"
   ]
  },
  {
   "cell_type": "code",
   "execution_count": 3,
   "id": "70666f47-cda0-4cd0-a4ea-1bfa1928b4e2",
   "metadata": {},
   "outputs": [],
   "source": [
    "import os \n",
    "\n",
    "# getting the work directory\n",
    "workingdir = os.path.join(os.path.abspath(os.getcwd()),\"examples\",\"datalayer\")\n",
    "\n",
    "dataset1File = os.path.join(workingdir,\"dataset1.parquet\")\n",
    "dataset2File = os.path.join(workingdir,\"dataset2.parquet\")\n",
    "dataset3File = os.path.join(workingdir,\"dataset3.parquet\")"
   ]
  },
  {
   "cell_type": "markdown",
   "id": "1fba700d-01ce-4702-ac32-116ac2b0d818",
   "metadata": {},
   "source": [
    "Now we can save the dataset. We choose parquet for convinience, but it can be any other format."
   ]
  },
  {
   "cell_type": "code",
   "execution_count": 4,
   "id": "f93a8b0a-61be-44d0-88ed-0b3a287afd01",
   "metadata": {},
   "outputs": [],
   "source": [
    "dataset1.to_parquet(dataset1File,engine='fastparquet',compression='GZIP')\n",
    "dataset2.to_parquet(dataset2File,engine='fastparquet',compression='GZIP')\n",
    "dataset3.to_parquet(dataset3File,engine='fastparquet',compression='GZIP')"
   ]
  },
  {
   "cell_type": "markdown",
   "id": "b8dd434b-f7d0-4c5a-87ad-91648fde7d9c",
   "metadata": {},
   "source": [
    "When we save the data to the database we need to define a project\n",
    "and specify the project name. \n",
    "\n",
    "To do so, we need to import the project and create it with its name. \n",
    "For this example we will use the name `ExampleProject`."
   ]
  },
  {
   "cell_type": "code",
   "execution_count": 5,
   "id": "a76d184c-21c9-4fb4-99b6-bd68a4622e0b",
   "metadata": {},
   "outputs": [],
   "source": [
    "from hera.datalayer import Project\n",
    "\n",
    "projectName = \"ExampleProject\"\n",
    "\n",
    "proj = Project(projectName=projectName)"
   ]
  },
  {
   "cell_type": "markdown",
   "id": "224e630d-20ee-4302-a5a9-c58cadf711f9",
   "metadata": {},
   "source": [
    "## Adding data items to the project \n",
    "\n",
    "Next, we add the documents to the database. To do this, we must specify the 'type' of the documents. This type is user-defined and enables the user to query all documents of this type.\n",
    "\n",
    "For this example, we will add the data as a Measurement data. "
   ]
  },
  {
   "cell_type": "code",
   "execution_count": 6,
   "id": "00e24300-2530-4ffc-9c10-ff9ff4e53d51",
   "metadata": {},
   "outputs": [],
   "source": [
    "proj.addMeasurementsDocument( type=\"Distribution\",\n",
    "                             dataFormat=proj.datatypes.PARQUET,\n",
    "                             resource=dataset1File,\n",
    "                             desc=dict(loc=0,scale=1));\n",
    "\n",
    "proj.addMeasurementsDocument(type=\"Distribution\",\n",
    "                             dataFormat=proj.datatypes.PARQUET,\n",
    "                             resource=dataset2File,\n",
    "                             desc=dict(loc=0,scale=0.5));\n",
    "\n",
    "proj.addMeasurementsDocument(type=\"Distribution\",\n",
    "                             dataFormat=proj.datatypes.PARQUET,\n",
    "                             resource=dataset3File,\n",
    "                             desc=dict(loc=0.5,scale=0.5));"
   ]
  },
  {
   "cell_type": "markdown",
   "id": "e2c7e7ff-5636-4cc4-9e25-c501bb40c6cd",
   "metadata": {},
   "source": [
    "## Getting the data\n",
    "\n",
    "### Getting one record back\n",
    "Now we will query the database for all the records in which loc=0 and scale=1."
   ]
  },
  {
   "cell_type": "code",
   "execution_count": 7,
   "id": "c7366a5d-1c31-42ef-8137-859cc46defd1",
   "metadata": {},
   "outputs": [
    {
     "name": "stdout",
     "output_type": "stream",
     "text": [
      "The number of documents obtained from the query 1 \n"
     ]
    }
   ],
   "source": [
    "List1 = proj.getMeasurementsDocuments(loc=0,scale=1)\n",
    "\n",
    "print(f\"The number of documents obtained from the query {len(List1)} \")\n",
    "item0 = List1[0]"
   ]
  },
  {
   "cell_type": "markdown",
   "id": "2df9f5f0-6ce0-418a-8e4e-d8149ae2df30",
   "metadata": {},
   "source": [
    "Note that for consistency the query always returns a list.\n",
    "\n",
    "The description of the record that matched the query is"
   ]
  },
  {
   "cell_type": "code",
   "execution_count": 8,
   "id": "3435df86-dc6d-4c10-b1c2-fdb31613c9bb",
   "metadata": {},
   "outputs": [
    {
     "name": "stdout",
     "output_type": "stream",
     "text": [
      "The description of dataset 1\n",
      "{\n",
      "    \"loc\": 0,\n",
      "    \"scale\": 1\n",
      "}\n"
     ]
    }
   ],
   "source": [
    "import json \n",
    "\n",
    "print(\"The description of dataset 1\")\n",
    "print(json.dumps(item0.desc, indent=4, sort_keys=True))"
   ]
  },
  {
   "cell_type": "markdown",
   "id": "0b55dcfa-217b-4589-9f8a-68cf8f445221",
   "metadata": {},
   "source": [
    "Now, we will extract the data.\n",
    "\n",
    "Using the getData on item0 will retrieve the data "
   ]
  },
  {
   "cell_type": "code",
   "execution_count": 9,
   "id": "e745dae4-6895-4b4e-a8bd-4ce5de17c869",
   "metadata": {},
   "outputs": [],
   "source": [
    "dataset1FromDB = item0.getData()"
   ]
  },
  {
   "cell_type": "markdown",
   "id": "13017b10-efed-4104-9445-373187d1ce20",
   "metadata": {},
   "source": [
    "Since the data is parquet, the library automatically returns a dask.DataFrame, where \n",
    "the data is not loaded until it is computed. \n",
    "\n",
    "Alternatively, we can pass the usePandas flag. This flag is used only \n",
    "when the datatype is PARQUET. "
   ]
  },
  {
   "cell_type": "code",
   "execution_count": 10,
   "id": "be9d32a2-f23b-4649-b1e8-c1b356aa4ea0",
   "metadata": {},
   "outputs": [
    {
     "name": "stdout",
     "output_type": "stream",
     "text": [
      "           x         y\n",
      "0  -2.326348  0.026652\n",
      "1  -2.279351  0.029698\n",
      "2  -2.232354  0.033020\n",
      "3  -2.185357  0.036632\n",
      "4  -2.138360  0.040550\n",
      "..       ...       ...\n",
      "95  2.138360  0.040550\n",
      "96  2.185357  0.036632\n",
      "97  2.232354  0.033020\n",
      "98  2.279351  0.029698\n",
      "99  2.326348  0.026652\n",
      "\n",
      "[100 rows x 2 columns]\n"
     ]
    }
   ],
   "source": [
    "dataset1FromDB = item0.getData(usePandas=True)\n",
    "\n",
    "print(dataset1FromDB)"
   ]
  },
  {
   "cell_type": "markdown",
   "id": "84707443-eaba-46fc-8e51-18f2c687e75c",
   "metadata": {},
   "source": [
    "### Getting multiple records back\n",
    "\n",
    "The getMeasurementsDocuments returns all the records that match the criteria. \n",
    "\n",
    "Now, lets get all the records where loc=0"
   ]
  },
  {
   "cell_type": "code",
   "execution_count": 11,
   "id": "cd7a22e8-cd87-42a8-b234-1b927dbc0c6a",
   "metadata": {},
   "outputs": [
    {
     "name": "stdout",
     "output_type": "stream",
     "text": [
      "The number of documents obtained from the query 2 \n"
     ]
    }
   ],
   "source": [
    "List2 = proj.getMeasurementsDocuments(loc=0)\n",
    "\n",
    "print(f\"The number of documents obtained from the query {len(List2)} \")"
   ]
  },
  {
   "cell_type": "markdown",
   "id": "93248f27-8141-4df1-b836-1090800b59be",
   "metadata": {},
   "source": [
    "As another example, let's retrieve all documents of the type 'Distribution'."
   ]
  },
  {
   "cell_type": "code",
   "execution_count": 12,
   "id": "c34d0342-d4d6-42e7-b535-506165738b42",
   "metadata": {},
   "outputs": [
    {
     "name": "stdout",
     "output_type": "stream",
     "text": [
      "The number of documents obtained from the query 3 \n"
     ]
    }
   ],
   "source": [
    "List3 = proj.getMeasurementsDocuments(type='Distribution')\n",
    "\n",
    "print(f\"The number of documents obtained from the query {len(List3)} \")"
   ]
  },
  {
   "cell_type": "markdown",
   "id": "1280bf3e-b893-42b5-b17a-7d39c10c59fd",
   "metadata": {},
   "source": [
    "## Updating the data.\n",
    "The hera system holds the name of the file on the disk and loads the data from it. Therefore, if the datafile on the disk is overwitten, then the data of the record is changed\n",
    "\n",
    "Lets multiply dataset1 by factor 2. The file name is saved in the resource attribute.\n",
    "\n",
    "Note that if we just update the data and not the metadata, then we can use the resource property to \n",
    "save the new file. "
   ]
  },
  {
   "cell_type": "code",
   "execution_count": 13,
   "id": "2340e18b-c569-4335-9008-15f40ebbf7f8",
   "metadata": {},
   "outputs": [],
   "source": [
    "dataset1['y'] *=2\n",
    "dataset1FileName = item0.resource\n",
    "dataset1.to_parquet(dataset1FileName,engine='fastparquet',compression='GZIP',append=False)"
   ]
  },
  {
   "cell_type": "code",
   "execution_count": 14,
   "id": "ef00ad58-7fd5-4b8d-ad5f-b2e4f600f547",
   "metadata": {},
   "outputs": [
    {
     "name": "stdout",
     "output_type": "stream",
     "text": [
      "           x         y\n",
      "0  -2.326348  0.053304\n",
      "1  -2.279351  0.059397\n",
      "2  -2.232354  0.066040\n",
      "3  -2.185357  0.073264\n",
      "4  -2.138360  0.081099\n",
      "..       ...       ...\n",
      "95  2.138360  0.081099\n",
      "96  2.185357  0.073264\n",
      "97  2.232354  0.066040\n",
      "98  2.279351  0.059397\n",
      "99  2.326348  0.053304\n",
      "\n",
      "[100 rows x 2 columns]\n"
     ]
    }
   ],
   "source": [
    "dataset1FromDB = item0.getData().compute()\n",
    "print(dataset1FromDB)"
   ]
  },
  {
   "cell_type": "markdown",
   "id": "9974baa7-a39d-424b-8400-b712156d7c90",
   "metadata": {},
   "source": [
    "## Updating the metadata.\n",
    "\n",
    "Lets assume we want to add another property to the first record. To so we will update item0"
   ]
  },
  {
   "cell_type": "code",
   "execution_count": 15,
   "id": "44fa2d4b-4e36-4855-9bb6-001e74f10c9b",
   "metadata": {},
   "outputs": [],
   "source": [
    "item0.desc['new_attribute'] = \"some data\"\n",
    "item0.save();"
   ]
  },
  {
   "cell_type": "markdown",
   "id": "7dddaaea-6df2-44db-aa9b-983ae38a8e50",
   "metadata": {},
   "source": [
    "Lets requery the database to see what is the data there. "
   ]
  },
  {
   "cell_type": "code",
   "execution_count": 16,
   "id": "6a330b00-4ff8-4324-a84f-7bf227c325d3",
   "metadata": {},
   "outputs": [
    {
     "name": "stdout",
     "output_type": "stream",
     "text": [
      "{\n",
      "    \"loc\": 0,\n",
      "    \"new_attribute\": \"some data\",\n",
      "    \"scale\": 1\n",
      "}\n"
     ]
    }
   ],
   "source": [
    "item0_fromdb = proj.getMeasurementsDocuments(loc=0,scale=1)[0]\n",
    "print(json.dumps(item0_fromdb.desc, indent=4, sort_keys=True))"
   ]
  },
  {
   "cell_type": "markdown",
   "id": "611004ba-5ef4-43b5-9b84-1ebcb42fb01c",
   "metadata": {},
   "source": [
    "## Deleting the metadata entry.\n",
    "\n",
    "We delete the metadata records similarly to the way we add them\n",
    "\n",
    "The following will delete one record. The simplest method is to erase the document object. "
   ]
  },
  {
   "cell_type": "code",
   "execution_count": 17,
   "id": "8a1d0ed6-745e-4fb9-942e-b06c040cce5f",
   "metadata": {},
   "outputs": [],
   "source": [
    "item0.delete()"
   ]
  },
  {
   "cell_type": "markdown",
   "id": "8ca7774f-8cb5-4703-a1d9-981f46edd97e",
   "metadata": {},
   "source": [
    "Lets query the database again to see if the record was deleted. \n",
    "\n",
    "<div class=\"alert alert-block alert-warning\">\n",
    "Note that the file on the disk is not deleted by deleting the record in the DB. \n",
    "</div>"
   ]
  },
  {
   "cell_type": "code",
   "execution_count": 18,
   "id": "6918dfd3-c025-497c-96b8-39e117c158c8",
   "metadata": {},
   "outputs": [
    {
     "name": "stdout",
     "output_type": "stream",
     "text": [
      "The number of documents obtained from the query 0 \n"
     ]
    }
   ],
   "source": [
    "List1 = proj.getMeasurementsDocuments(loc=0,scale=1)\n",
    "\n",
    "print(f\"The number of documents obtained from the query {len(List1)} \")"
   ]
  },
  {
   "cell_type": "markdown",
   "id": "8a89e4ce-40a5-466e-87e1-d77c5564e762",
   "metadata": {},
   "source": [
    "Another option is to delete the records using the Project interface. "
   ]
  },
  {
   "cell_type": "code",
   "execution_count": 19,
   "id": "e08e9cd0-caf3-4f01-9b94-4225b6af66e5",
   "metadata": {},
   "outputs": [],
   "source": [
    "deletedList1 = proj.deleteMeasurementsDocuments(loc=0)"
   ]
  },
  {
   "cell_type": "markdown",
   "id": "53658d9e-3f72-4eaf-978b-04e0d625970a",
   "metadata": {},
   "source": [
    "Lets list all the data records that we deleted"
   ]
  },
  {
   "cell_type": "code",
   "execution_count": 20,
   "id": "d1255e1f-026f-45f5-8f11-a2e999f453cb",
   "metadata": {},
   "outputs": [
    {
     "name": "stdout",
     "output_type": "stream",
     "text": [
      "{\n",
      "    \"_cls\": \"Metadata.Measurements\",\n",
      "    \"_id\": {\n",
      "        \"$oid\": \"65a1d49d9b9128b1cb982b4c\"\n",
      "    },\n",
      "    \"dataFormat\": \"parquet\",\n",
      "    \"desc\": {\n",
      "        \"loc\": 0,\n",
      "        \"scale\": 0.5\n",
      "    },\n",
      "    \"projectName\": \"ExampleProject\",\n",
      "    \"resource\": \"/home/yehudaa/Development/hera/hera/doc/source/examples/datalayer/dataset2.parquet\",\n",
      "    \"type\": \"Distribution\"\n",
      "}\n"
     ]
    }
   ],
   "source": [
    "for doc in deletedList1:\n",
    "    print(json.dumps(doc, indent=4, sort_keys=True))"
   ]
  },
  {
   "cell_type": "markdown",
   "id": "f84ee35d-112b-48bb-a284-cc2ba1f1ae50",
   "metadata": {},
   "source": [
    "## Deleting the data on the disk \n",
    "\n",
    "Now we can erase the file from the disk. It is saved in the resource property"
   ]
  },
  {
   "cell_type": "code",
   "execution_count": 21,
   "id": "1bc5633e-df2e-4005-8f7f-23f8eef227f8",
   "metadata": {},
   "outputs": [],
   "source": [
    "import shutil\n",
    "\n",
    "for doc in deletedList1:\n",
    "    if os.path.isfile(doc['resource']):\n",
    "          os.remove(doc['resource'])\n",
    "    else:\n",
    "        shutil.rmtree(doc['resource'])"
   ]
  },
  {
   "cell_type": "markdown",
   "id": "a59e78f8-1598-48d4-bd16-385444d87948",
   "metadata": {},
   "source": [
    "## Delete all the metadata records \n",
    "\n",
    "A simple way to delete all the records (be careful)"
   ]
  },
  {
   "cell_type": "code",
   "execution_count": 22,
   "id": "6565706f-35cb-4ad5-9b8a-78a758864b0f",
   "metadata": {},
   "outputs": [
    {
     "data": {
      "text/plain": [
       "[None]"
      ]
     },
     "execution_count": 22,
     "metadata": {},
     "output_type": "execute_result"
    }
   ],
   "source": [
    "[x.delete() for x in proj.getMeasurementsDocuments(type=\"Distribution\")]"
   ]
  },
  {
   "cell_type": "markdown",
   "id": "a9e42f08-f5bb-44ce-8cee-576e1c0fd403",
   "metadata": {},
   "source": [
    "# Conifguration \n",
    "\n",
    "The configuration interface enables users to store project parameters, which are organized as a dictionary.\n",
    "\n",
    "Setting the parameters is obtained as follows"
   ]
  },
  {
   "cell_type": "code",
   "execution_count": 12,
   "id": "a9122b8c-200d-4064-8b26-559114c42cb6",
   "metadata": {},
   "outputs": [],
   "source": [
    "proj.setConfig(parameterName=\"value\")"
   ]
  },
  {
   "cell_type": "markdown",
   "id": "90413ec2-0d5e-45cb-98b4-e218778a85e3",
   "metadata": {},
   "source": [
    "Getting the parameter dictionary is obtained as follows "
   ]
  },
  {
   "cell_type": "code",
   "execution_count": 13,
   "id": "5768dc80-a16f-43c4-8001-7bbbb7048854",
   "metadata": {},
   "outputs": [
    {
     "data": {
      "text/plain": [
       "{'parameterName': 'value'}"
      ]
     },
     "execution_count": 13,
     "metadata": {},
     "output_type": "execute_result"
    }
   ],
   "source": [
    "proj.getConfig()"
   ]
  },
  {
   "cell_type": "markdown",
   "id": "aba2e599-ecc3-4cf2-80ae-3be46ee64274",
   "metadata": {},
   "source": [
    "# Datatypes \n",
    "\n",
    "The Project class also provides access to the [datatypes](DataLayer.ipynb#datatypes) of the available data formats. \n",
    "\n",
    "Specifically, "
   ]
  },
  {
   "cell_type": "code",
   "execution_count": 14,
   "id": "d2608e0d-c153-4b49-9f04-f3325ca653ed",
   "metadata": {},
   "outputs": [
    {
     "data": {
      "text/plain": [
       "'parquet'"
      ]
     },
     "execution_count": 14,
     "metadata": {},
     "output_type": "execute_result"
    }
   ],
   "source": [
    "proj.datatypes.PARQUET"
   ]
  }
 ],
 "metadata": {
  "kernelspec": {
   "display_name": "Python 3 (ipykernel)",
   "language": "python",
   "name": "python3"
  },
  "language_info": {
   "codemirror_mode": {
    "name": "ipython",
    "version": 3
   },
   "file_extension": ".py",
   "mimetype": "text/x-python",
   "name": "python",
   "nbconvert_exporter": "python",
   "pygments_lexer": "ipython3",
   "version": "3.9.18"
  },
  "toc-autonumbering": true,
  "toc-showcode": false,
  "toc-showmarkdowntxt": false
 },
 "nbformat": 4,
 "nbformat_minor": 5
}
