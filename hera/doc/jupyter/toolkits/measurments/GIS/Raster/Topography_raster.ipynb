{
 "cells": [
  {
   "cell_type": "markdown",
   "id": "6de67000-7890-4ca6-8bae-5e484fe60142",
   "metadata": {},
   "source": [
    "<font size=\"+3\">Topography (raster)</font>\n",
    "\n",
    "Handles Elevation raster maps (DEM). \n",
    "\n",
    "Currently manages the SRTM files of NASA (30m resolution). \n",
    "\n"
   ]
  },
  {
   "cell_type": "markdown",
   "id": "48411f5f-273e-4c8f-a53c-f0e798f94d14",
   "metadata": {},
   "source": [
    "# Get the elevation map \n",
    "\n",
    "To get the elevation map in code use "
   ]
  },
  {
   "cell_type": "code",
   "execution_count": null,
   "id": "76ff719c-bc06-4d31-b503-3bc5513dc7e2",
   "metadata": {},
   "outputs": [],
   "source": [
    "from hera import toolkitHome\n",
    "tk = toolkitHome.getToolkit(toolkitName=toolkitHome.GIS_RASTER_TOPOGRAPHY)\n",
    "elevation = tk.getDomainElevation(minx=34.529,maxx=34.531,miny=31.160,maxy=31.162)"
   ]
  },
  {
   "cell_type": "markdown",
   "id": "b8d3044c-a432-4e42-bb08-617e474d25f2",
   "metadata": {},
   "source": [
    "# Write the STL with the command line\n",
    "\n",
    "To write the STL use: \n",
    "\n",
    "-  hera-GIS topography_raster toSTL --minx 34.529 --maxx 34.531 --miny 31.160 --maxy 31.162 --fileName testTopo\n"
   ]
  },
  {
   "cell_type": "code",
   "execution_count": null,
   "id": "75907198-ba4a-4d32-beac-dcb22c4e89e2",
   "metadata": {},
   "outputs": [],
   "source": []
  }
 ],
 "metadata": {
  "kernelspec": {
   "display_name": "My Env",
   "language": "python",
   "name": "my_env"
  },
  "language_info": {
   "codemirror_mode": {
    "name": "ipython",
    "version": 3
   },
   "file_extension": ".py",
   "mimetype": "text/x-python",
   "name": "python",
   "nbconvert_exporter": "python",
   "pygments_lexer": "ipython3",
   "version": "3.8.6"
  }
 },
 "nbformat": 4,
 "nbformat_minor": 5
}
