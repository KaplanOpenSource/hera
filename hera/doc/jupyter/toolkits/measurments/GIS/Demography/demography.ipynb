{
 "cells": [
  {
   "cell_type": "code",
   "execution_count": 1,
   "id": "e7868cc3-ca49-4585-bed1-ff5aca90d31c",
   "metadata": {},
   "outputs": [],
   "source": [
    "from hera import toolkitHome\n",
    "from shapely import Point\n",
    "import shapely\n",
    "\n",
    "projectName = 'DOCUMENTATION'\n",
    "gis_demography_tk = toolkitHome.getToolkit(toolkitName=toolkitHome.GIS_DEMOGRAPHY, projectName=projectName)"
   ]
  },
  {
   "cell_type": "code",
   "execution_count": 2,
   "id": "edd4a714-82a3-4005-ae27-75dc86e600a9",
   "metadata": {},
   "outputs": [
    {
     "data": {
      "image/svg+xml": [
       "<svg xmlns=\"http://www.w3.org/2000/svg\" xmlns:xlink=\"http://www.w3.org/1999/xlink\" width=\"100.0\" height=\"100.0\" viewBox=\"-10.8 -10.8 21.6 21.6\" preserveAspectRatio=\"xMinYMin meet\"><g transform=\"matrix(1,0,0,-1,0,0.0)\"><path fill-rule=\"evenodd\" fill=\"#66cc99\" stroke=\"#555555\" stroke-width=\"0.43200000000000005\" opacity=\"0.6\" d=\"M 10.0,0.0 L 9.95184726672197,-0.980171403295606 L 9.807852804032304,-1.9509032201612824 L 9.569403357322088,-2.902846772544623 L 9.238795325112868,-3.826834323650898 L 8.819212643483551,-4.7139673682599765 L 8.314696123025453,-5.555702330196022 L 7.73010453362737,-6.343932841636455 L 7.0710678118654755,-7.071067811865475 L 6.343932841636455,-7.73010453362737 L 5.555702330196023,-8.314696123025453 L 4.713967368259978,-8.81921264348355 L 3.8268343236508984,-9.238795325112868 L 2.902846772544623,-9.56940335732209 L 1.9509032201612833,-9.807852804032304 L 0.9801714032956077,-9.951847266721968 L 6.123233995736766e-16,-10.0 L -0.9801714032956065,-9.95184726672197 L -1.950903220161282,-9.807852804032304 L -2.9028467725446214,-9.56940335732209 L -3.826834323650897,-9.238795325112868 L -4.713967368259977,-8.819212643483551 L -5.55570233019602,-8.314696123025454 L -6.3439328416364535,-7.730104533627371 L -7.071067811865475,-7.0710678118654755 L -7.73010453362737,-6.343932841636455 L -8.314696123025453,-5.555702330196022 L -8.81921264348355,-4.713967368259978 L -9.238795325112868,-3.826834323650899 L -9.569403357322088,-2.902846772544624 L -9.807852804032304,-1.9509032201612861 L -9.951847266721968,-0.9801714032956083 L -10.0,-1.2246467991473533e-15 L -9.95184726672197,0.9801714032956059 L -9.807852804032304,1.9509032201612837 L -9.56940335732209,2.902846772544621 L -9.238795325112868,3.8268343236508966 L -8.819212643483551,4.7139673682599765 L -8.314696123025454,5.55570233019602 L -7.730104533627371,6.343932841636453 L -7.071067811865477,7.071067811865475 L -6.343932841636459,7.730104533627367 L -5.555702330196022,8.314696123025453 L -4.713967368259978,8.81921264348355 L -3.8268343236509033,9.238795325112864 L -2.9028467725446245,9.569403357322088 L -1.9509032201612866,9.807852804032303 L -0.9801714032956045,9.95184726672197 L -1.8369701987210296e-15,10.0 L 0.9801714032956009,9.95184726672197 L 1.950903220161283,9.807852804032304 L 2.9028467725446205,9.56940335732209 L 3.8268343236509,9.238795325112866 L 4.713967368259976,8.819212643483551 L 5.555702330196018,8.314696123025454 L 6.343932841636456,7.730104533627369 L 7.071067811865474,7.071067811865477 L 7.730104533627367,6.343932841636459 L 8.314696123025453,5.555702330196022 L 8.819212643483548,4.713967368259979 L 9.238795325112864,3.826834323650904 L 9.569403357322088,2.902846772544625 L 9.807852804032303,1.9509032201612873 L 9.95184726672197,0.980171403295605 L 10.0,0.0 z\" /></g></svg>"
      ],
      "text/plain": [
       "<POLYGON ((10 0, 9.952 -0.98, 9.808 -1.951, 9.569 -2.903, 9.239 -3.827, 8.81...>"
      ]
     },
     "execution_count": 2,
     "metadata": {},
     "output_type": "execute_result"
    }
   ],
   "source": [
    "Point(0.0, 0.0).buffer(10.0)"
   ]
  },
  {
   "cell_type": "code",
   "execution_count": 3,
   "id": "6ada0f5b-9bcd-43ba-8bba-7b93a080c619",
   "metadata": {},
   "outputs": [
    {
     "data": {
      "text/html": [
       "<div>\n",
       "<style scoped>\n",
       "    .dataframe tbody tr th:only-of-type {\n",
       "        vertical-align: middle;\n",
       "    }\n",
       "\n",
       "    .dataframe tbody tr th {\n",
       "        vertical-align: top;\n",
       "    }\n",
       "\n",
       "    .dataframe thead th {\n",
       "        text-align: right;\n",
       "    }\n",
       "</style>\n",
       "<table border=\"1\" class=\"dataframe\">\n",
       "  <thead>\n",
       "    <tr style=\"text-align: right;\">\n",
       "      <th></th>\n",
       "      <th>geometry</th>\n",
       "      <th>areaFraction</th>\n",
       "      <th>total_pop</th>\n",
       "      <th>age_0_14</th>\n",
       "      <th>age_15_19</th>\n",
       "      <th>age_20_29</th>\n",
       "      <th>age_30_64</th>\n",
       "      <th>age_65_up</th>\n",
       "    </tr>\n",
       "  </thead>\n",
       "  <tbody>\n",
       "  </tbody>\n",
       "</table>\n",
       "</div>"
      ],
      "text/plain": [
       "Empty GeoDataFrame\n",
       "Columns: [geometry, areaFraction, total_pop, age_0_14, age_15_19, age_20_29, age_30_64, age_65_up]\n",
       "Index: []"
      ]
     },
     "execution_count": 3,
     "metadata": {},
     "output_type": "execute_result"
    }
   ],
   "source": [
    "df = gis_demography_tk.analysis.calculatePopulationInPolygon(Point(0.0, 0.0).buffer(10.0),'lamas')\n",
    "df"
   ]
  },
  {
   "cell_type": "code",
   "execution_count": null,
   "id": "d78d0ada-4294-46f5-b81f-09154acda1c1",
   "metadata": {},
   "outputs": [],
   "source": []
  }
 ],
 "metadata": {
  "kernelspec": {
   "display_name": "Python 3 (ipykernel)",
   "language": "python",
   "name": "python3"
  },
  "language_info": {
   "codemirror_mode": {
    "name": "ipython",
    "version": 3
   },
   "file_extension": ".py",
   "mimetype": "text/x-python",
   "name": "python",
   "nbconvert_exporter": "python",
   "pygments_lexer": "ipython3",
   "version": "3.11.6"
  }
 },
 "nbformat": 4,
 "nbformat_minor": 5
}
