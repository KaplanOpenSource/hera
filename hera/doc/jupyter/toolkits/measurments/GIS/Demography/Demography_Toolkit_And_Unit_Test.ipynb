{
 "cells": [
  {
   "cell_type": "markdown",
   "id": "7e6e8a1b",
   "metadata": {},
   "source": [
    "\n",
    "# DemographyToolkit - Unit Test and Demonstration\n",
    "\n",
    "This notebook demonstrates the usage of the `DemographyToolkit` with basic examples, \n",
    "as part of validating that the toolkit works properly. It includes explanations about Unit Tests, \n",
    "the setup of the environment, loading data, calculating population in polygons, and creating new areas.\n",
    "\n",
    "---\n"
   ]
  },
  {
   "cell_type": "markdown",
   "id": "bbce0379",
   "metadata": {},
   "source": [
    "\n",
    "## 🧪 What is a Unit Test?\n",
    "\n",
    "A Unit Test is a small, automated piece of code that checks that a specific function or feature \n",
    "in your project works as expected. In our case, we are writing simple tests to verify that the \n",
    "`DemographyToolkit` works properly: loading datasets, calculating population, creating new areas, etc.\n",
    "\n",
    "If any test fails, it means that something might be wrong in the code or in the expected results.\n"
   ]
  },
  {
   "cell_type": "markdown",
   "id": "8e2655b4",
   "metadata": {},
   "source": [
    "\n",
    "## ⚙️ Environment Setup\n",
    "\n",
    "Before using the `DemographyToolkit`, make sure you import the necessary modules and initialize a project.\n"
   ]
  },
  {
   "cell_type": "code",
   "execution_count": null,
   "id": "cee915a7",
   "metadata": {},
   "outputs": [],
   "source": [
    "from hera import Project\n",
    "from measurements.GIS.vector.demography import DemographyToolkit\n",
    "import geopandas as gpd\n",
    "from shapely.geometry import Polygon"
   ]
  },
  {
   "cell_type": "markdown",
   "id": "d6a4aecb",
   "metadata": {},
   "source": [
    "\n",
    "## 📁 Create a New Project\n",
    "\n",
    "We create a test project to work inside it.\n"
   ]
  },
  {
   "cell_type": "code",
   "execution_count": null,
   "id": "a6a0b2ed",
   "metadata": {},
   "outputs": [],
   "source": [
    "project = Project(\"UNIT_TEST_DEMOGRAPHY\")\n",
    "toolkit = DemographyToolkit(projectName=\"UNIT_TEST_DEMOGRAPHY\")"
   ]
  },
  {
   "cell_type": "markdown",
   "id": "1ea43123",
   "metadata": {},
   "source": [
    "\n",
    "## 📦 Load a Small Dataset\n",
    "\n",
    "For testing, we load a small sample shapefile with basic population information.\n"
   ]
  },
  {
   "cell_type": "code",
   "execution_count": null,
   "id": "9d8dfca4",
   "metadata": {},
   "outputs": [],
   "source": [
    "\n",
    "# Load a basic dataset (already exists)\n",
    "import os\n",
    "\n",
    "# Resolve data path relative to HERA_DATA_PATH environment variable\n",
    "data_path = os.path.join(\n",
    "    os.environ[\"HERA_DATA_PATH\"],\n",
    "    \"measurements\", \"GIS\", \"vector\", \"population_lamas.shp\"\n",
    ")\n",
    "\n",
    "# Load the sample dataset\n",
    "toolkit.loadData(\"lamas_population\", data_path, overwrite=True)\n"
   ]
  },
  {
   "cell_type": "markdown",
   "id": "846663b4",
   "metadata": {},
   "source": [
    "\n",
    "## 🧮 Calculate Population in a Small Polygon\n",
    "\n",
    "Let's define a simple polygon and calculate the estimated population inside it.\n"
   ]
  },
  {
   "cell_type": "code",
   "execution_count": null,
   "id": "3a8a0e3d",
   "metadata": {},
   "outputs": [],
   "source": [
    "\n",
    "# Define a simple polygon in WGS84 (EPSG:4326)\n",
    "polygon = Polygon([\n",
    "    (35.1, 33.85),\n",
    "    (35.15, 33.85),\n",
    "    (35.15, 33.90),\n",
    "    (35.1, 33.90),\n",
    "    (35.1, 33.85)\n",
    "])\n",
    "\n",
    "gdf = gpd.GeoDataFrame(index=[0], crs=\"EPSG:4326\", geometry=[polygon])\n",
    "\n",
    "# Calculate population using the toolkit\n",
    "result = toolkit.analysis.calculatePopulationInPolygon(\n",
    "    shapelyPolygon=gdf.geometry.iloc[0],\n",
    "    dataSourceOrData=\"lamas_population\"\n",
    ")\n",
    "\n",
    "result\n"
   ]
  },
  {
   "cell_type": "markdown",
   "id": "3bdf12f8",
   "metadata": {},
   "source": [
    "\n",
    "## ✅ Summary\n",
    "\n",
    "In this notebook we demonstrated:\n",
    "\n",
    "- Creating a `Project`\n",
    "- Loading a demographic dataset\n",
    "- Calculating population inside a polygon\n",
    "- Creating a new area based on demographic data\n",
    "\n",
    "All examples are kept simple to ensure that the Unit Test will pass without unexpected errors.\n"
   ]
  },
  {
   "metadata": {},
   "cell_type": "markdown",
   "source": [
    "# 📊 DemographyToolkit - Unit Test Documentation\n",
    "\n",
    "This notebook explains the purpose and coverage of the unit tests written for the `DemographyToolkit` class in Hera.\n",
    "Each test is described in detail along with the logic of the toolkit methods it verifies.\n"
   ],
   "id": "700214e6be51e1af"
  },
  {
   "metadata": {},
   "cell_type": "markdown",
   "source": [
    "## 🧰 Overview: `DemographyToolkit`\n",
    "\n",
    "The `DemographyToolkit` is responsible for managing demographic data, including loading population shapefiles, analyzing intersections with custom polygons, and saving derived areas.\n",
    "\n",
    "### Core Methods\n",
    "\n",
    "- `loadData(...)`: Loads a shapefile or GeoJSON into the database as a population source.\n",
    "- `createNewArea(...)`: Generates a new area (polygon) and summarizes the intersecting population from a data source.\n",
    "- `calculatePopulationInPolygon(...)`: Calculates fractional population within a specified polygon.\n",
    "- `setDefaultDirectory(...)`: Sets and optionally creates a default directory to save shapefiles.\n"
   ],
   "id": "1f2788fa7c3de814"
  },
  {
   "metadata": {},
   "cell_type": "markdown",
   "source": [
    "## ✅ Test: `test_calculatePopulationInPolygon_basic`\n",
    "\n",
    "**Purpose:**\n",
    "Validates that the function returns a non-empty result for a polygon that intersects existing data.\n",
    "\n",
    "**What it does:**\n",
    "- Constructs a buffered rectangle around the first polygon.\n",
    "- Calls `calculatePopulationInPolygon` to get population fractions.\n",
    "- Asserts:\n",
    "  - The result is not empty.\n",
    "  - It contains expected columns: `geometry` and `areaFraction`.\n",
    "\n",
    "**Why it matters:**\n",
    "Ensures the intersection logic and population weight computation work for overlapping geometries.\n"
   ],
   "id": "b70b4d73b2321f75"
  },
  {
   "metadata": {},
   "cell_type": "markdown",
   "source": [
    "## 🧪 Test: `test_calculatePopulationInPolygon_partial_intersection`\n",
    "\n",
    "**Purpose:**\n",
    "Checks correctness when a polygon intersects **multiple existing** features only partially.\n",
    "\n",
    "**What it does:**\n",
    "- Unions two adjacent polygons and creates a buffer around their centroid.\n",
    "- Ensures that multiple overlaps are detected and partial contributions are calculated correctly.\n",
    "\n",
    "**Assertions:**\n",
    "- Result is non-empty.\n",
    "- At least one intersecting region is returned.\n"
   ],
   "id": "d44f38956f1cc265"
  },
  {
   "metadata": {},
   "cell_type": "markdown",
   "source": [
    "## 🚫 Test: `test_calculatePopulationInPolygon_outside_bounds`\n",
    "\n",
    "**Purpose:**\n",
    "Verifies that the function behaves correctly when the polygon is **outside the data bounds**.\n",
    "\n",
    "**What it does:**\n",
    "- Builds a polygon far away from all population data.\n",
    "- Ensures the returned GeoDataFrame is empty.\n",
    "\n",
    "**Why this test is important:**\n",
    "Prevents false positives or errors on spatial mismatches.\n"
   ],
   "id": "b76e311d8c16b3b2"
  },
  {
   "metadata": {},
   "cell_type": "markdown",
   "source": [
    "## 🛑 Test: `test_calculatePopulationInPolygon_invalid_datasource`\n",
    "\n",
    "**Purpose:**\n",
    "Checks error handling when the data source name does not exist.\n",
    "\n",
    "**What it does:**\n",
    "- Passes an invalid source name.\n",
    "- Confirms that the code raises a `ValueError`.\n",
    "\n",
    "**Why it's tested:**\n",
    "Verifies input validation and prevents silent failures.\n"
   ],
   "id": "302861f60c5f73c3"
  },
  {
   "metadata": {},
   "cell_type": "markdown",
   "source": [
    "## 🧮 Test: `test_createNewArea_simple`\n",
    "\n",
    "**Purpose:**\n",
    "Tests the creation of a new area and verifies population aggregation.\n",
    "\n",
    "**How it works:**\n",
    "- Creates a rectangle covering the full extent of the dataset.\n",
    "- Calls `createNewArea` with `TOOLKIT_SAVEMODE_NOSAVE`.\n",
    "- Verifies that:\n",
    "  - The result is a `nonDBMetadataFrame`.\n",
    "  - The geometry and population data are present.\n",
    "  - The total population matches the expected sum.\n",
    "\n",
    "**Key aspect tested:**\n",
    "Correct aggregation and output structure when creating regions dynamically.\n"
   ],
   "id": "c73c929b4351ceab"
  },
  {
   "metadata": {},
   "cell_type": "markdown",
   "source": [
    "## 📁 Test: `test_setDefaultDirectory_creates_and_sets_path`\n",
    "\n",
    "**Purpose:**\n",
    "Validates the behavior of setting and creating the default save directory.\n",
    "\n",
    "**What it checks:**\n",
    "- A temporary folder is created.\n",
    "- The internal attribute `_FilesDirectory` is updated.\n",
    "- The directory exists on the filesystem.\n",
    "\n",
    "**Why important:**\n",
    "Ensures safe and correct saving of shapefiles when working across systems.\n"
   ],
   "id": "d7d219b8651b2110"
  }
 ],
 "metadata": {},
 "nbformat": 4,
 "nbformat_minor": 5
}
