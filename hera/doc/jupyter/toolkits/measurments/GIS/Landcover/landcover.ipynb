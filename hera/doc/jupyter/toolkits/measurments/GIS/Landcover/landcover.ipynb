{
 "cells": [
  {
   "cell_type": "code",
   "execution_count": 1,
   "id": "abfccf25-c05b-4316-a0aa-4b0e13595bd7",
   "metadata": {},
   "outputs": [],
   "source": [
    "from hera import toolkitHome"
   ]
  },
  {
   "cell_type": "code",
   "execution_count": 2,
   "id": "e024af82-6c00-452d-afc4-e71fb5c4233b",
   "metadata": {},
   "outputs": [],
   "source": [
    "projectName = 'DOCUMENTATION'\n",
    "landcover_tk = toolkitHome.getToolkit(toolkitName=toolkitHome.GIS_LANDCOVER, projectName=projectName)"
   ]
  },
  {
   "cell_type": "code",
   "execution_count": 3,
   "id": "6623da40-e139-44d1-b715-f0a4f117bee9",
   "metadata": {},
   "outputs": [
    {
     "data": {
      "text/plain": [
       "['Type-1']"
      ]
     },
     "execution_count": 3,
     "metadata": {},
     "output_type": "execute_result"
    }
   ],
   "source": [
    "landcover_tk.getDataSourceList()"
   ]
  },
  {
   "cell_type": "code",
   "execution_count": 4,
   "id": "5e41db27-2b1b-47de-8839-63d330e9ae22",
   "metadata": {},
   "outputs": [
    {
     "name": "stderr",
     "output_type": "stream",
     "text": [
      "Warning 1: Starting with GDAL 3.7, PIXELTYPE=SIGNEDBYTE is no longer used to signal signed 8-bit raster. Change your code to test for the new GDT_Int8 data type instead.\n"
     ]
    },
    {
     "ename": "NameError",
     "evalue": "name 'long' is not defined",
     "output_type": "error",
     "traceback": [
      "\u001b[0;31m---------------------------------------------------------------------------\u001b[0m",
      "\u001b[0;31mNameError\u001b[0m                                 Traceback (most recent call last)",
      "Cell \u001b[0;32mIn[4], line 1\u001b[0m\n\u001b[0;32m----> 1\u001b[0m \u001b[43mlandcover_tk\u001b[49m\u001b[38;5;241;43m.\u001b[39;49m\u001b[43mgetRoughnessAtPoint\u001b[49m\u001b[43m(\u001b[49m\u001b[43mlon\u001b[49m\u001b[38;5;241;43m=\u001b[39;49m\u001b[38;5;241;43m30.0\u001b[39;49m\u001b[43m,\u001b[49m\u001b[43mlat\u001b[49m\u001b[38;5;241;43m=\u001b[39;49m\u001b[38;5;241;43m100.0\u001b[39;49m\u001b[43m,\u001b[49m\u001b[43mdataSourceName\u001b[49m\u001b[38;5;241;43m=\u001b[39;49m\u001b[38;5;124;43m'\u001b[39;49m\u001b[38;5;124;43mType-1\u001b[39;49m\u001b[38;5;124;43m'\u001b[39;49m\u001b[43m)\u001b[49m\n",
      "File \u001b[0;32m~/development/hera/hera/measurements/GIS/raster/landcover.py:185\u001b[0m, in \u001b[0;36mLandCoverToolkit.getRoughnessAtPoint\u001b[0;34m(self, lon, lat, inputCRS, dataSourceName)\u001b[0m\n\u001b[1;32m    183\u001b[0m dataSourceName \u001b[38;5;241m=\u001b[39m \u001b[38;5;28mself\u001b[39m\u001b[38;5;241m.\u001b[39mgetConfig()[\u001b[38;5;124m'\u001b[39m\u001b[38;5;124mdefaultLandCover\u001b[39m\u001b[38;5;124m'\u001b[39m] \u001b[38;5;28;01mif\u001b[39;00m dataSourceName \u001b[38;5;129;01mis\u001b[39;00m \u001b[38;5;28;01mNone\u001b[39;00m \u001b[38;5;28;01melse\u001b[39;00m dataSourceName\n\u001b[1;32m    184\u001b[0m datasourceDocument \u001b[38;5;241m=\u001b[39m \u001b[38;5;28mself\u001b[39m\u001b[38;5;241m.\u001b[39mgetDataSourceDocument(dataSourceName)\n\u001b[0;32m--> 185\u001b[0m landcover \u001b[38;5;241m=\u001b[39m \u001b[38;5;28;43mself\u001b[39;49m\u001b[38;5;241;43m.\u001b[39;49m\u001b[43mgetLandCoverAtPoint\u001b[49m\u001b[43m(\u001b[49m\u001b[43mlon\u001b[49m\u001b[38;5;241;43m=\u001b[39;49m\u001b[43mlon\u001b[49m\u001b[43m,\u001b[49m\u001b[43mlat\u001b[49m\u001b[38;5;241;43m=\u001b[39;49m\u001b[43mlat\u001b[49m\u001b[43m,\u001b[49m\u001b[43minputCRS\u001b[49m\u001b[38;5;241;43m=\u001b[39;49m\u001b[43minputCRS\u001b[49m\u001b[43m,\u001b[49m\u001b[43mdataSourceName\u001b[49m\u001b[38;5;241;43m=\u001b[39;49m\u001b[43mdataSourceName\u001b[49m\u001b[43m)\u001b[49m\n\u001b[1;32m    187\u001b[0m handlerFunction \u001b[38;5;241m=\u001b[39m \u001b[38;5;28mgetattr\u001b[39m(\u001b[38;5;28mself\u001b[39m, \u001b[38;5;124mf\u001b[39m\u001b[38;5;124m\"\u001b[39m\u001b[38;5;124mhandleType\u001b[39m\u001b[38;5;132;01m{\u001b[39;00mdatasourceDocument[\u001b[38;5;124m'\u001b[39m\u001b[38;5;124mdesc\u001b[39m\u001b[38;5;124m'\u001b[39m][\u001b[38;5;124m'\u001b[39m\u001b[38;5;124mtype\u001b[39m\u001b[38;5;124m'\u001b[39m]\u001b[38;5;132;01m}\u001b[39;00m\u001b[38;5;124m\"\u001b[39m)\n\u001b[1;32m    188\u001b[0m \u001b[38;5;28;01mreturn\u001b[39;00m handlerFunction(landcover)\n",
      "File \u001b[0;32m~/development/hera/hera/measurements/GIS/raster/landcover.py:161\u001b[0m, in \u001b[0;36mLandCoverToolkit.getLandCoverAtPoint\u001b[0;34m(self, lon, lat, inputCRS, dataSourceName)\u001b[0m\n\u001b[1;32m    159\u001b[0m maxy \u001b[38;5;241m=\u001b[39m gt[\u001b[38;5;241m3\u001b[39m]\n\u001b[1;32m    160\u001b[0m x \u001b[38;5;241m=\u001b[39m math\u001b[38;5;241m.\u001b[39mfloor((lat \u001b[38;5;241m-\u001b[39m gt[\u001b[38;5;241m3\u001b[39m]) \u001b[38;5;241m/\u001b[39m gt[\u001b[38;5;241m5\u001b[39m])\n\u001b[0;32m--> 161\u001b[0m y \u001b[38;5;241m=\u001b[39m math\u001b[38;5;241m.\u001b[39mfloor((\u001b[43mlong\u001b[49m \u001b[38;5;241m-\u001b[39m gt[\u001b[38;5;241m0\u001b[39m]) \u001b[38;5;241m/\u001b[39m gt[\u001b[38;5;241m1\u001b[39m])\n\u001b[1;32m    162\u001b[0m \u001b[38;5;28;01mreturn\u001b[39;00m img[x, y]\n",
      "\u001b[0;31mNameError\u001b[0m: name 'long' is not defined"
     ]
    }
   ],
   "source": [
    "landcover_tk.getRoughnessAtPoint(lon=30.0,lat=100.0,dataSourceName='Type-1')"
   ]
  },
  {
   "cell_type": "code",
   "execution_count": null,
   "id": "b6b9a794-7f37-46bb-bf21-0cce1615aef9",
   "metadata": {},
   "outputs": [],
   "source": []
  }
 ],
 "metadata": {
  "kernelspec": {
   "display_name": "Python 3 (ipykernel)",
   "language": "python",
   "name": "python3"
  },
  "language_info": {
   "codemirror_mode": {
    "name": "ipython",
    "version": 3
   },
   "file_extension": ".py",
   "mimetype": "text/x-python",
   "name": "python",
   "nbconvert_exporter": "python",
   "pygments_lexer": "ipython3",
   "version": "3.11.6"
  }
 },
 "nbformat": 4,
 "nbformat_minor": 5
}
