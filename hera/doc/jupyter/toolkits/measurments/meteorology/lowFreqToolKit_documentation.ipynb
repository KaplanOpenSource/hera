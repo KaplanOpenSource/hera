{
 "cells": [
  {
   "cell_type": "markdown",
   "id": "a317a040",
   "metadata": {},
   "source": [
    "# 📘 `lowFreqToolKit` Explanation and Test Coverage\n",
    "\n",
    "This notebook documents the structure, logic, and unit testing coverage of the `lowFreqToolKit` for low-frequency meteorological data analysis and visualization.\n",
    "\n",
    "It includes:\n",
    "- Class and function explanations from the toolkit\n",
    "- What each function does\n",
    "- How each function is tested (if applicable)\n",
    "- References to real test cases in the `test_unit_lowfreq_toolkit.py` file"
   ]
  },
  {
   "cell_type": "markdown",
   "id": "b3a8f29a",
   "metadata": {},
   "source": [
    "## 🧱 Class: `lowFreqToolKit`\n",
    "**File:** `toolkit.py`\n",
    "\n",
    "This is the main class responsible for managing the low-frequency meteorological data. It inherits from `abstractToolkit` and provides access to two subsystems:\n",
    "- `analysis`: for processing and statistical operations\n",
    "- `presentation`: for data visualization\n",
    "\n",
    "**Main properties:**\n",
    "- `self._analysis`: instance of `analysis` class\n",
    "- `self._presentation`: instance of `presenation` class\n",
    "- `docType`: returns toolkit-specific identifier string\n",
    "\n",
    "**Test coverage:**\n",
    "- `test_init_toolkit_structure`: ensures both components exist\n",
    "- `test_docType`: verifies format of the document type string"
   ]
  },
  {
   "cell_type": "markdown",
   "id": "7d670518",
   "metadata": {},
   "source": [
    "## 🔎 Class: `analysis`\n",
    "**File:** `analysis.py`\n",
    "\n",
    "Handles temporal enrichment of data and statistical operations.\n",
    "\n",
    "**Functions:**\n",
    "- `addDatesColumns(data, datecolumn)`: adds `yearonly`, `monthonly`, `season`, etc.\n",
    "  - ✅ `test_add_dates_columns`\n",
    "- `calcHourlyDist(data, Field, normalization)`: calculates hourly distribution as 2D histogram\n",
    "  - ✅ `test_calc_hourly_dist_max_normalized`\n",
    "  - ✅ `test_calc_hourly_dist_density`\n",
    "- `resampleSecondMoments(...)`: computes second-order statistics like variance and covariance\n",
    "  - ✅ `test_resample_second_moments`\n",
    "\n",
    "**Supporting function:** `_calculateCov`: internal helper, tested indirectly."
   ]
  },
  {
   "cell_type": "markdown",
   "id": "3e34a308",
   "metadata": {},
   "source": [
    "## 📊 Class: `presenation`\n",
    "**File:** `presentationLayer.py`\n",
    "\n",
    "Acts as a bridge for visualization, offering access to:\n",
    "- `dailyPlots`: instance of `DailyPlots`\n",
    "- `seasonalPlots`: instance of `SeasonalPlots`\n",
    "\n",
    "**Test coverage:** Verified implicitly via `toolkit.presentation` initialization in multiple tests."
   ]
  },
  {
   "cell_type": "markdown",
   "id": "10b6baf4",
   "metadata": {},
   "source": [
    "## 📈 Class: `DailyPlots` (inherits from `Plots`)\n",
    "Provides daily visualizations for a selected meteorological field.\n",
    "\n",
    "**Functions:**\n",
    "- `plotScatter(data, plotField)`: scatter plot of field vs. hour\n",
    "  - ✅ `test_plotScatter`\n",
    "  - ✅ `test_plotScatter_matches_data`\n",
    "  - ✅ `test_plotScatter_empty_dataframe`\n",
    "  - ✅ `test_plotScatter_with_nan_and_outliers`\n",
    "  - ✅ `test_plotScatter_WS_field`, `WD_field`\n",
    "  - ✅ `test_plotScatter_axis_labels`\n",
    "  - ✅ `test_plotScatter_creates_non_empty_image`\n",
    "\n",
    "- `dateLinePlot(data, plotField, date)`: line plot for a single day\n",
    "  - ✅ `test_dateLinePlot`\n",
    "  - ✅ `test_dateLinePlot_matches_data`\n",
    "\n",
    "- `plotProbContourf(...)`: 2D probability contour plot\n",
    "  - ✅ `test_plotProbContourf`\n",
    "  - ✅ `test_plotProbContourf_distribution_ranges`\n",
    "\n",
    "**Each function handles datetime parsing, filtering invalid values, and applying customized seaborn or matplotlib settings.**"
   ]
  },
  {
   "cell_type": "markdown",
   "id": "c0fdbe7b",
   "metadata": {},
   "source": [
    "## 🌦️ Class: `SeasonalPlots` (inherits from `Plots`)\n",
    "**Function:** `plotProbContourf_bySeason(...)`\n",
    "Generates a 2x2 seasonal grid of contour plots using the same logic as `plotProbContourf` but filtered by seasons defined in `seasonsdict`.\n",
    "\n",
    "- ✅ `test_plotProbContourf_bySeason`\n",
    "- ✅ `test_plotProbContourf_bySeason_basic` (structure check)"
   ]
  },
  {
   "cell_type": "markdown",
   "id": "58d12c81",
   "metadata": {},
   "source": [
    "## 🧪 Summary of Unit Test Coverage\n",
    "\n",
    "- Toolkit initialization: ✅\n",
    "- Analysis functions: ✅\n",
    "- Plot functions:\n",
    "  - `plotScatter`: ✅\n",
    "  - `dateLinePlot`: ✅\n",
    "  - `plotProbContourf`: ✅\n",
    "  - `plotProbContourf_bySeason`: ✅\n",
    "- Error handling: ✅ (empty dataframe, invalid fields)\n",
    "- Output validation: ✅ (values, axis labels, images)\n",
    "\n",
    "This comprehensive test suite ensures the correctness, robustness, and consistency of the visualization and analysis pipeline for meteorological data."
   ]
  },
  {
   "cell_type": "markdown",
   "id": "1bb65ba4",
   "metadata": {},
   "source": [
    "## 🚀 Full Example: How to Use `lowFreqToolKit`\n",
    "This section demonstrates how to initialize and use the `lowFreqToolKit` from raw meteorological data to analysis and visualization.\n",
    "\n",
    "**Important**: The example assumes the data file is located under the environment variable `HERA_UNITTEST_DATA`. Please set this variable to the root data folder, e.g.:\n",
    "\n",
    "```bash\n",
    "export HERA_UNITTEST_DATA=/home/ilay/hera_unittest_data\n",
    "```\n"
   ]
  },
  {
   "cell_type": "code",
   "execution_count": null,
   "id": "81d66210",
   "metadata": {},
   "outputs": [],
   "source": [
    "# Step 1: Import modules and resolve data path using environment variable\n",
    "import os\n",
    "import pandas as pd\n",
    "from hera.measurements.meteorology.lowfreqdata.toolkit import lowFreqToolKit\n",
    "\n",
    "# Load data using environment variable\n",
    "data_path = os.path.join(os.environ['HERA_UNITTEST_DATA'],\n",
    "                          'measurements/meteorology/lowfreqdata/YAVNEEL.parquet')\n",
    "df = pd.read_parquet(data_path)\n",
    "df[\"datetime\"] = pd.to_datetime(df[\"datetime\"], utc=True)\n",
    "df.head()"
   ]
  },
  {
   "cell_type": "code",
   "execution_count": null,
   "id": "d366fcbb",
   "metadata": {},
   "outputs": [],
   "source": [
    "# Step 2: Create the toolkit instance\n",
    "toolkit = lowFreqToolKit(df)"
   ]
  },
  {
   "cell_type": "markdown",
   "id": "11dad6f9",
   "metadata": {},
   "source": [
    "### 🔄 Enrich Data with Time Columns (Optional Step)\n",
    "Toolkit does this internally, but you can also do it manually if needed."
   ]
  },
  {
   "cell_type": "code",
   "execution_count": null,
   "id": "ffe5326c",
   "metadata": {},
   "outputs": [],
   "source": [
    "df[\"datetime\"] = pd.to_datetime(df[\"datetime\"], utc=True, errors=\"coerce\")\n",
    "\n",
    "try:\n",
    "    df_enriched = toolkit.analysis.addDatesColumns(df)\n",
    "    display(df_enriched[[\"yearonly\", \"monthonly\", \"season\"]].head())\n",
    "except Exception as e:\n",
    "    print(\"❌ ERROR:\", repr(e))\n",
    "    print(\"datetime column dtype:\", df[\"datetime\"].dtype)\n",
    "    print(\"NaT values in datetime:\", df[\"datetime\"].isnull().sum())"
   ]
  },
  {
   "cell_type": "markdown",
   "id": "6112c1e6",
   "metadata": {},
   "source": [
    "### 📌 Plot 1: Scatter Plot of Relative Humidity (RH)\n",
    "This plot shows RH values across the day in hourly resolution."
   ]
  },
  {
   "cell_type": "code",
   "execution_count": null,
   "id": "aee4fe71",
   "metadata": {},
   "outputs": [],
   "source": [
    "ax = toolkit.presentation.dailyPlots.plotScatter(df, plotField='RH')\n",
    "ax.set_title('Scatter Plot: Relative Humidity over 24 Hours')"
   ]
  },
  {
   "cell_type": "markdown",
   "id": "195a984a",
   "metadata": {},
   "source": [
    "### 📌 Plot 2: Line Plot for a Specific Date\n",
    "Visualizes a full day of RH values to detect patterns or anomalies."
   ]
  },
  {
   "cell_type": "code",
   "execution_count": null,
   "id": "9696c655",
   "metadata": {},
   "outputs": [],
   "source": [
    "sample_date = df['datetime'].dt.date.astype(str).iloc[0]\n",
    "ax, line = toolkit.presentation.dailyPlots.dateLinePlot(df, plotField='RH', date=sample_date)\n",
    "ax.set_title(f'Daily Line Plot: RH on {sample_date}')"
   ]
  },
  {
   "cell_type": "markdown",
   "id": "c04372a7",
   "metadata": {},
   "source": [
    "### 📌 Plot 3: Probability Contour Plot\n",
    "Displays the likelihood (density) of RH across hours of the day."
   ]
  },
  {
   "cell_type": "code",
   "execution_count": null,
   "id": "2ec4b697",
   "metadata": {},
   "outputs": [],
   "source": [
    "CS, CFS, ax = toolkit.presentation.dailyPlots.plotProbContourf(df, plotField='RH')\n",
    "ax.set_title('Probability Contour of Relative Humidity')"
   ]
  },
  {
   "cell_type": "markdown",
   "id": "c6482f50",
   "metadata": {},
   "source": [
    "### 📌 Plot 4: Seasonal Contour Plots\n",
    "Compares RH distributions across the 4 meteorological seasons."
   ]
  },
  {
   "cell_type": "code",
   "execution_count": null,
   "id": "c968501a",
   "metadata": {},
   "outputs": [],
   "source": [
    "ax_grid = toolkit.presentation.seasonalPlots.plotProbContourf_bySeason(df, plotField='RH')"
   ]
  },
  {
   "cell_type": "markdown",
   "id": "a5c2fe5f",
   "metadata": {},
   "source": [
    "## ✅ Explanation of Unit Tests\n",
    "Here is a summary of the unit tests and what each one checks:\n",
    "\n",
    "- `test_plotScatter`: Verifies scatter plot runs and returns Axes.\n",
    "- `test_plotScatter_matches_data`: Ensures plotted Y values exist in raw data.\n",
    "- `test_plotScatter_WS_field` / `WD_field`: Validates support for other fields.\n",
    "- `test_plotScatter_axis_labels`: Checks that X and Y labels are correctly set.\n",
    "- `test_plotScatter_empty_dataframe`: Ensures empty input doesn’t crash plot.\n",
    "- `test_plotScatter_with_nan_and_outliers`: Ensures invalid values are filtered.\n",
    "- `test_plotScatter_creates_non_empty_image`: Confirms that plot image is not empty.\n",
    "- `test_dateLinePlot`: Verifies line plot runs correctly for a given date.\n",
    "- `test_dateLinePlot_matches_data`: Ensures exact Y values match original data.\n",
    "- `test_plotProbContourf`: Verifies 2D histogram plot runs.\n",
    "- `test_plotProbContourf_distribution_ranges`: Checks axis limits cover all data.\n",
    "- `test_plotProbContourf_bySeason`: Verifies seasonal plots generate a 2x2 grid.\n",
    "- `test_plotProbContourf_bySeason_basic`: Structural validation of seasonal grid.\n",
    "- `test_add_dates_columns`: Ensures temporal columns are added correctly.\n",
    "- `test_calc_hourly_dist_max_normalized`: Validates max-normalized histograms.\n",
    "- `test_calc_hourly_dist_density`: Validates density normalization.\n",
    "- `test_resample_second_moments`: Confirms second moment computations run without error."
   ]
  }
 ],
 "metadata": {},
 "nbformat": 4,
 "nbformat_minor": 5
}
