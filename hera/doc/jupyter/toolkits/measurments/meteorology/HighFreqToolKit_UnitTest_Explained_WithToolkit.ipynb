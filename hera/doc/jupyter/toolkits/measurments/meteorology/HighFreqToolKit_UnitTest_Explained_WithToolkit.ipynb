{
 "cells": [
  {
   "cell_type": "markdown",
   "id": "ff0018d1",
   "metadata": {},
   "source": [
    "# 📘 HighFreqToolKit Unit Tests – Full Explanation\n",
    "\n",
    "**This notebook explains in detail each of the 38 unit tests written for the `HighFreqToolKit` system,**\n",
    "including what each test does, how it does it, and which module/function/class it is testing.\n",
    "\n",
    "Tests are grouped and explained by the components they validate:\n",
    "\n",
    "- 🔹 `HighFreqToolKit`\n",
    "- 🔹 `AbstractCalculator`\n",
    "- 🔹 `MeanDataCalculator`\n",
    "- 🔹 `RawdataAnalysis`\n",
    "- 🔹 `singlePointTurbulenceStatistics`\n",
    "- 🔹 `AveragingCalculator`\n",
    "\n",
    "Additionally, we describe the input files used in testing and how time columns are processed when needed.\n"
   ]
  },
  {
   "cell_type": "markdown",
   "id": "df38f6fe",
   "metadata": {},
   "source": [
    "## 🧪 HighFreqToolKit – Core Tests"
   ]
  },
  {
   "cell_type": "markdown",
   "id": "24f03e0f",
   "metadata": {},
   "source": [
    "### 🔧 `test_docType_property`\n",
    "- **Purpose:** Tests that the `docType` property returns the expected string identifier `highFreqMeteorology_HighFreqData`. Ensures the toolkit is configured correctly.\n",
    "- **Test Type:** Value check / error handling / data structure verification"
   ]
  },
  {
   "cell_type": "markdown",
   "id": "3c5a40e2",
   "metadata": {},
   "source": [
    "### 🔧 `test_read_sonic_data`\n",
    "- **Purpose:** Reads the Sonic data file using `dask.read_parquet`, checks that the DataFrame is valid and contains columns.\n",
    "- **Test Type:** Value check / error handling / data structure verification"
   ]
  },
  {
   "cell_type": "markdown",
   "id": "12060b1f",
   "metadata": {},
   "source": [
    "### 🔧 `test_read_trh_data`\n",
    "- **Purpose:** Reads the TRH data file, verifies that it loads properly into a Dask DataFrame.\n",
    "- **Test Type:** Value check / error handling / data structure verification"
   ]
  },
  {
   "cell_type": "markdown",
   "id": "ef099e61",
   "metadata": {},
   "source": [
    "### 🔧 `test_read_nonexistent_file`\n",
    "- **Purpose:** Attempts to read a nonexistent Parquet file. Confirms that the code properly raises an exception.\n",
    "- **Test Type:** Value check / error handling / data structure verification"
   ]
  },
  {
   "cell_type": "markdown",
   "id": "6a532910",
   "metadata": {},
   "source": [
    "### 🔧 `test_sonic_time_range`\n",
    "- **Purpose:** Verifies that the Sonic dataset contains a valid time range using the `Time` or `timestamp` column.\n",
    "- **Test Type:** Value check / error handling / data structure verification"
   ]
  },
  {
   "cell_type": "markdown",
   "id": "d0ae0545",
   "metadata": {},
   "source": [
    "### 🔧 `test_trh_time_range`\n",
    "- **Purpose:** Same as above, but for the TRH dataset.\n",
    "- **Test Type:** Value check / error handling / data structure verification"
   ]
  },
  {
   "cell_type": "markdown",
   "id": "b8467f3d",
   "metadata": {},
   "source": [
    "### 🔧 `test_campbelToParquet_with_nonexistent_file`\n",
    "- **Purpose:** Ensures that calling `campbelToParquet()` with a bad file path raises a `ValueError`.\n",
    "- **Test Type:** Value check / error handling / data structure verification"
   ]
  },
  {
   "cell_type": "markdown",
   "id": "ee9555ca",
   "metadata": {},
   "source": [
    "### 🔧 `test_asciiToParquet_with_nonexistent_file`\n",
    "- **Purpose:** Ensures that calling `asciiToParquet()` with a bad file path raises a `FileNotFoundError`.\n",
    "- **Test Type:** Value check / error handling / data structure verification"
   ]
  },
  {
   "cell_type": "markdown",
   "id": "64717057",
   "metadata": {},
   "source": [
    "### 🔧 `test_sonic_specific_point`\n",
    "- **Purpose:** Checks that the first row in the Sonic file matches expected values for `u`, `v`, `w`, and `T`.\n",
    "- **Test Type:** Value check / error handling / data structure verification"
   ]
  },
  {
   "cell_type": "markdown",
   "id": "35e5fecb",
   "metadata": {},
   "source": [
    "### 🔧 `test_trh_specific_point`\n",
    "- **Purpose:** Checks specific known values in the TRH dataset: `TC_T` and `RH`.\n",
    "- **Test Type:** Value check / error handling / data structure verification"
   ]
  },
  {
   "cell_type": "markdown",
   "id": "377d0762",
   "metadata": {},
   "source": [
    "## 🧪 AbstractCalculator – Core Logic Tests"
   ]
  },
  {
   "cell_type": "markdown",
   "id": "a222542c",
   "metadata": {},
   "source": [
    "### 🔧 `test_AbstractCalculator_init`\n",
    "- **Purpose:** Tests that an AbstractCalculator instance initializes correctly with a small DataFrame.\n",
    "- **Test Type:** Initialization / attribute check"
   ]
  },
  {
   "cell_type": "markdown",
   "id": "84601480",
   "metadata": {},
   "source": [
    "### 🔧 `test_AbstractCalculator_init_basic`\n",
    "- **Purpose:** Same as above, using real sonic data.\n",
    "- **Test Type:** Initialization / attribute check"
   ]
  },
  {
   "cell_type": "markdown",
   "id": "403bc3c7",
   "metadata": {},
   "source": [
    "### 🔧 `test_AbstractCalculator_sampling_window`\n",
    "- **Purpose:** Ensures the `SamplingWindow` property returns the correct string from metadata.\n",
    "- **Test Type:** Initialization / attribute check"
   ]
  },
  {
   "cell_type": "markdown",
   "id": "073ab953",
   "metadata": {},
   "source": [
    "### 🔧 `test_AbstractCalculator_compute_methods_exist`\n",
    "- **Purpose:** Checks that `.compute()` and `._compute()` methods are present.\n",
    "- **Test Type:** Initialization / attribute check"
   ]
  },
  {
   "cell_type": "markdown",
   "id": "2f1c19d5",
   "metadata": {},
   "source": [
    "### 🔧 `test_AbstractCalculator_set_save_properties`\n",
    "- **Purpose:** Verifies that calling `set_saveProperties()` returns a dictionary or `None` when appropriate.\n",
    "- **Test Type:** Initialization / attribute check"
   ]
  },
  {
   "cell_type": "markdown",
   "id": "fd7e430f",
   "metadata": {},
   "source": [
    "## 🧪 MeanDataCalculator – Mean Statistics Tests"
   ]
  },
  {
   "cell_type": "markdown",
   "id": "7ca8a85a",
   "metadata": {},
   "source": [
    "### 🔧 `test_MeanDataCalculator_calculate_mean`\n",
    "- **Purpose:** Computes mean values over time using turbulence statistics. Verifies that `.MeanData` is created and not empty.\n",
    "- **Test Type:** Calculation validation / column generation"
   ]
  },
  {
   "cell_type": "markdown",
   "id": "277b71e0",
   "metadata": {},
   "source": [
    "### 🔧 `test_MeanDataCalculator_hour_and_timeWithinDay`\n",
    "- **Purpose:** Adds `hour` and `timeWithinDay` columns to the mean data.\n",
    "- **Test Type:** Calculation validation / column generation"
   ]
  },
  {
   "cell_type": "markdown",
   "id": "f6bdda9f",
   "metadata": {},
   "source": [
    "### 🔧 `test_MeanDataCalculator_horizontalSpeed`\n",
    "- **Purpose:** Calculates and stores `horizontal_speed_bar`.\n",
    "- **Test Type:** Calculation validation / column generation"
   ]
  },
  {
   "cell_type": "markdown",
   "id": "512f5686",
   "metadata": {},
   "source": [
    "### 🔧 `test_MeanDataCalculator_sigma_sigmaH`\n",
    "- **Purpose:** Calculates `sigmaU`, `sigmaV`, `sigmaW`, and `sigmaH` from turbulent fluctuations.\n",
    "- **Test Type:** Calculation validation / column generation"
   ]
  },
  {
   "cell_type": "markdown",
   "id": "d664d860",
   "metadata": {},
   "source": [
    "### 🔧 `test_MeanDataCalculator_Ustar_and_uStarOverWindSpeed`\n",
    "- **Purpose:** Checks `Ustar` and normalized `uStarOverWindSpeed` are computed.\n",
    "- **Test Type:** Calculation validation / column generation"
   ]
  },
  {
   "cell_type": "markdown",
   "id": "6322a25a",
   "metadata": {},
   "source": [
    "### 🔧 `test_TKE_adds_column`\n",
    "- **Purpose:** Checks whether `TKE` (turbulent kinetic energy) is calculated and added.\n",
    "- **Test Type:** Calculation validation / column generation"
   ]
  },
  {
   "cell_type": "markdown",
   "id": "1e4049a5",
   "metadata": {},
   "source": [
    "### 🔧 `test_MOLength_adds_column`\n",
    "- **Purpose:** Verifies that Monin-Obukhov length (`L`) is computed and stored.\n",
    "- **Test Type:** Calculation validation / column generation"
   ]
  },
  {
   "cell_type": "markdown",
   "id": "e0afc7b9",
   "metadata": {},
   "source": [
    "### 🔧 `test_MeanDataCalculator_compute_returns_dataframe`\n",
    "- **Purpose:** Ensures that calling `.compute()` returns a proper pandas DataFrame.\n",
    "- **Test Type:** Calculation validation / column generation"
   ]
  },
  {
   "cell_type": "markdown",
   "id": "5d8567c0",
   "metadata": {},
   "source": [
    "## 🧪 RawdataAnalysis – Layer Interface Tests"
   ]
  },
  {
   "cell_type": "markdown",
   "id": "caf987c7",
   "metadata": {},
   "source": [
    "### 🔧 `test_RawdataAnalysis_process`\n",
    "- **Purpose:** Validates use of `RawdataAnalysis` with `singlePointTurbulenceStatistics` from real data.\n",
    "- **Test Type:** Interface check / error path"
   ]
  },
  {
   "cell_type": "markdown",
   "id": "196defb2",
   "metadata": {},
   "source": [
    "### 🔧 `test_singlePointTurbulenceStatistics_returns_instance`\n",
    "- **Purpose:** Verifies that the analysis layer returns a valid turbulence statistics object.\n",
    "- **Test Type:** Interface check / error path"
   ]
  },
  {
   "cell_type": "markdown",
   "id": "3ad41d4d",
   "metadata": {},
   "source": [
    "### 🔧 `test_singlePointTurbulenceStatistics_raises_on_invalid_input`\n",
    "- **Purpose:** Ensures error is raised if non-DataFrame input is passed.\n",
    "- **Test Type:** Interface check / error path"
   ]
  },
  {
   "cell_type": "markdown",
   "id": "dc487ce5",
   "metadata": {},
   "source": [
    "## 🧪 AveragingCalculator – Averaging Statistics Tests"
   ]
  },
  {
   "cell_type": "markdown",
   "id": "9c964e85",
   "metadata": {},
   "source": [
    "### 🔧 `test_AveragingCalculator_returns_instance`\n",
    "- **Purpose:** Creates an `AveragingCalculator`, computes over 5-minute intervals, verifies result is valid.\n",
    "- **Test Type:** Averaging / windowing / error case"
   ]
  },
  {
   "cell_type": "markdown",
   "id": "0017f5d8",
   "metadata": {},
   "source": [
    "### 🔧 `test_AveragingCalculator_raises_on_invalid_input`\n",
    "- **Purpose:** Ensures error is raised for null input.\n",
    "- **Test Type:** Averaging / windowing / error case"
   ]
  },
  {
   "cell_type": "markdown",
   "id": "9c759924",
   "metadata": {},
   "source": [
    "## 🧪 singlePointTurbulenceStatistics – Turbulence Logic Tests"
   ]
  },
  {
   "cell_type": "markdown",
   "id": "879382bd",
   "metadata": {},
   "source": [
    "### 🔧 `test_instantiation`\n",
    "- **Purpose:** Basic test of initialization. Confirms `RawData` and `metaData` are stored.\n",
    "- **Test Type:** Turbulence model logic / variable output check"
   ]
  },
  {
   "cell_type": "markdown",
   "id": "7be0b045",
   "metadata": {},
   "source": [
    "### 🔧 `test_invalid_input_type`\n",
    "- **Purpose:** Throws error if a string or other invalid type is passed instead of a DataFrame.\n",
    "- **Test Type:** Turbulence model logic / variable output check"
   ]
  },
  {
   "cell_type": "markdown",
   "id": "5b609286",
   "metadata": {},
   "source": [
    "### 🔧 `test_fluctuations_outputs`\n",
    "- **Purpose:** Checks that `u_bar`, `up`, and similar columns are created after `.fluctuations()`.\n",
    "- **Test Type:** Turbulence model logic / variable output check"
   ]
  },
  {
   "cell_type": "markdown",
   "id": "10663a2a",
   "metadata": {},
   "source": [
    "### 🔧 `test_secondMoments_outputs_exist`\n",
    "- **Purpose:** Validates that `.secondMoments()` adds expected turbulence terms like `uu`, `uv`, etc.\n",
    "- **Test Type:** Turbulence model logic / variable output check"
   ]
  },
  {
   "cell_type": "markdown",
   "id": "3b52fc8d",
   "metadata": {},
   "source": [
    "### 🔧 `test_sigma_computation`\n",
    "- **Purpose:** Computes standard deviations `sigmaU`, `sigmaV`, `sigmaW`.\n",
    "- **Test Type:** Turbulence model logic / variable output check"
   ]
  },
  {
   "cell_type": "markdown",
   "id": "34ba43af",
   "metadata": {},
   "source": [
    "### 🔧 `test_horizontal_speed`\n",
    "- **Purpose:** Calculates `horizontal_speed_bar` from velocity components.\n",
    "- **Test Type:** Turbulence model logic / variable output check"
   ]
  },
  {
   "cell_type": "markdown",
   "id": "e8b2c56c",
   "metadata": {},
   "source": [
    "### 🔧 `test_Ustar_computation`\n",
    "- **Purpose:** Computes `Ustar` from momentum flux.\n",
    "- **Test Type:** Turbulence model logic / variable output check"
   ]
  },
  {
   "cell_type": "markdown",
   "id": "5a59c227",
   "metadata": {},
   "source": [
    "### 🔧 `test_TKE_computation`\n",
    "- **Purpose:** Derives turbulent kinetic energy from velocity variances.\n",
    "- **Test Type:** Turbulence model logic / variable output check"
   ]
  },
  {
   "cell_type": "markdown",
   "id": "9677bf78",
   "metadata": {},
   "source": [
    "### 🔧 `test_MOLength_Sonic_computation`\n",
    "- **Purpose:** Estimates Monin-Obukhov length using sonic temperature and `Ustar`.\n",
    "- **Test Type:** Turbulence model logic / variable output check"
   ]
  },
  {
   "cell_type": "markdown",
   "id": "ecb6d9cb",
   "metadata": {},
   "source": [
    "## ✅ Summary\n",
    "\n",
    "This notebook documented **all 38 unit tests** for `HighFreqToolKit`, with a focus on:\n",
    "- The tested function/class\n",
    "- What the test verifies\n",
    "- Why it is important\n",
    "\n",
    "This helps ensure maintainability and traceability when updating code, adding features, or reviewing test coverage."
   ]
  }
 ],
 "metadata": {},
 "nbformat": 4,
 "nbformat_minor": 5
}
