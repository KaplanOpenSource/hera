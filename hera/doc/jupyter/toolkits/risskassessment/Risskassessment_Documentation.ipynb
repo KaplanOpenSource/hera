{
 "cells": [
  {
   "cell_type": "markdown",
   "id": "9dcc5a12-bf8a-4527-8c85-efe4985203dc",
   "metadata": {},
   "source": [
    "# Riskassesment - Agent Documentation"
   ]
  },
  {
   "cell_type": "markdown",
   "id": "90ba4e01-e873-407f-895a-bc8cf7ff1855",
   "metadata": {},
   "source": [
    "## Regular User"
   ]
  },
  {
   "cell_type": "markdown",
   "id": "d0e3a4dc-ecb7-4491-a656-a37d953707da",
   "metadata": {},
   "source": [
    "### Loading Agent to Project  \n",
    "1) For loading an agent to a project, you will first need to create a repository using the following CLI:\n",
    "\n",
    "<p style=\"background:black\">\n",
    "<code style=\"background:black;color:white\">>> hera-riskassessment agents createRepository &ltrepository_name&gt --path &ltpath to Agents files folder&gt\n",
    "</code>\n",
    "</p>   "
   ]
  },
  {
   "cell_type": "markdown",
   "id": "2aa855f8-00d4-4ebd-8d6a-f8a5479fdda4",
   "metadata": {},
   "source": [
    "Arguments:  \n",
    "* **repository_name** : The name of the created repository you wish to name.\n",
    "* **path**: Path to the directory in which the agents json files are. If not provided will look for files in the current directory."
   ]
  },
  {
   "cell_type": "markdown",
   "id": "09eabe8e-602b-40a6-8a88-d64ca0593e27",
   "metadata": {},
   "source": [
    "2. Load the repository to the repositories list:\n",
    "<p style=\"background:black\">\n",
    "<code style=\"background:black;color:white\">>> hera-project repository add &ltrepository_name&gt\n",
    "</code>\n",
    "</p>   \n",
    "\n",
    "3. Update the project:\n",
    "<p style=\"background:black\">\n",
    "<code style=\"background:black;color:white\">>> hera-project project updateRepositories --projectName &ltproject_name&gt</code>\n",
    "</p>   "
   ]
  },
  {
   "cell_type": "markdown",
   "id": "e9c7c6f3-586e-4589-8b37-154e65fc96ec",
   "metadata": {},
   "source": [
    "4. Now you can load the agents using the Riskassessment toolKit:"
   ]
  },
  {
   "cell_type": "code",
   "execution_count": 5,
   "id": "622cd3ae-3d82-4881-8106-26f7afb8c180",
   "metadata": {},
   "outputs": [],
   "source": [
    "from hera import toolkitHome\n",
    "from hera.datalayer import datatypes\n",
    "\n",
    "\n",
    "projectName = \"DOCUMENTATION\"\n",
    "tk = toolkitHome.getToolkit(toolkitName=toolkitHome.RISKASSESSMENT, projectName=projectName)"
   ]
  },
  {
   "cell_type": "markdown",
   "id": "742d37e9-bcb2-41c1-995b-002a2295612a",
   "metadata": {},
   "source": [
    "Print agents:"
   ]
  },
  {
   "cell_type": "code",
   "execution_count": 4,
   "id": "5de09290-5de6-400f-99fd-bd897af16c15",
   "metadata": {
    "scrolled": true
   },
   "outputs": [
    {
     "data": {
      "text/plain": [
       "['H2S', 'HCl']"
      ]
     },
     "execution_count": 4,
     "metadata": {},
     "output_type": "execute_result"
    }
   ],
   "source": [
    "tk.listAgentsNames()"
   ]
  },
  {
   "cell_type": "markdown",
   "id": "d1a29a60-e996-4533-9ed1-a86656bdbfdf",
   "metadata": {},
   "source": [
    "## Advanced User\n",
    "\n",
    "### The structure of an agent JSON\n"
   ]
  },
  {
   "cell_type": "markdown",
   "id": "b4bd467b-ede2-447a-9612-f6808d229744",
   "metadata": {},
   "source": [
    "```json\n",
    "{\n",
    "   \"effectParameters\" : {\n",
    "\t\t\"tenbergeCoefficient\" : {INTEGER}\n",
    "   },\n",
    "   \"effects\" : {\n",
    "     \"EFFECT_NAME\": {\n",
    "       \"type\": \"Threshold\",\n",
    "       \"calculator\": {\n",
    "         \"MaxConcentration\": {\n",
    "           \"sampling\": \"{NUM}min\"\n",
    "         }\n",
    "       },\n",
    "       \"parameters\": {\n",
    "         \"type\": \"Threshold\",\n",
    "         \"levels\": [\n",
    "           \"{INTEGER}\",\n",
    "           \"{INTEGER}\",\n",
    "           \"{INTEGER}\"\n",
    "         ],\n",
    "         \"parameters\": {\n",
    "           \"{INTEGER}\": {\n",
    "             \"threshold\": \"{FLOAT}*mg/m**3\"\n",
    "           },\n",
    "           \"{INTEGER}\": {\n",
    "             \"threshold\": \"{FLOAT}*mg/m**3\"\n",
    "           },\n",
    "           \"{INTEGER}\": {\n",
    "             \"threshold\": \"{FLOAT}*mg/m**3\"\n",
    "           }\n",
    "         }\n",
    "       }\n",
    "     },\n",
    "   },\n",
    "  \"physicalProperties\": {\n",
    "      \"molecularWeight\"     : \"{FLOAT}*g/mol\",\n",
    "      \"sorptionCoefficient\" : \"{FLOAT}*cm/s\",\n",
    "      \"spreadFactor\"        : {FLOAT},\n",
    "      \"volatilityConstants\" : [{FLOAT},{FLOAT}{FLOAT},{FLOAT}],\n",
    "      \"densityConstants\"    : [{FLOAT},{FLOAT},{FLOAT}]\n",
    "  }\n",
    "}\n",
    "```"
   ]
  }
 ],
 "metadata": {
  "kernelspec": {
   "display_name": "Python 3 (ipykernel)",
   "language": "python",
   "name": "python3"
  },
  "language_info": {
   "codemirror_mode": {
    "name": "ipython",
    "version": 3
   },
   "file_extension": ".py",
   "mimetype": "text/x-python",
   "name": "python",
   "nbconvert_exporter": "python",
   "pygments_lexer": "ipython3",
   "version": "3.11.6"
  }
 },
 "nbformat": 4,
 "nbformat_minor": 5
}
