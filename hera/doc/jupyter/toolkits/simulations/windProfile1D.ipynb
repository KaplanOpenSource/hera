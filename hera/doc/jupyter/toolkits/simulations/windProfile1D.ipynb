{
 "cells": [
  {
   "cell_type": "markdown",
   "id": "88fe5190-2b08-4fff-b126-306a76be30d4",
   "metadata": {},
   "source": [
    "## WindProfile1D Documentation"
   ]
  },
  {
   "cell_type": "markdown",
   "id": "e917c334-bd2e-4913-aa35-0262d6b62ab3",
   "metadata": {},
   "source": [
    "Imports"
   ]
  },
  {
   "cell_type": "code",
   "execution_count": 1,
   "id": "49536fa3-6b92-4abc-b34b-5dfc6cc4e41a",
   "metadata": {},
   "outputs": [],
   "source": [
    "from hera import toolkitHome\n",
    "from hera.measurements.GIS.utils import WSG84,ITM,convertCRS\n",
    "import pandas as pd\n",
    "import json"
   ]
  },
  {
   "cell_type": "code",
   "execution_count": 2,
   "id": "a5f3f858-793d-44f5-92f8-fe4eb842d240",
   "metadata": {},
   "outputs": [],
   "source": [
    "projectName = \"DOCUMENTATION\"\n",
    "wind_tk = toolkitHome.getToolkit(toolkitHome.WINDPROFILE,projectName=projectName)\n",
    "landcover_tk = toolkitHome.getToolkit(toolkitHome.GIS_LANDCOVER,projectName=\"DOCUMENTATION\")"
   ]
  },
  {
   "cell_type": "markdown",
   "id": "48015df6-1755-4fe6-927c-5c114dc7817a",
   "metadata": {},
   "source": [
    "### getSpatialWind()"
   ]
  },
  {
   "cell_type": "markdown",
   "id": "d2790a23-69f3-413d-ada2-634bca6152a1",
   "metadata": {},
   "source": [
    "For calculating the Wind Profile in specific regions, we first specify such region and calculate the corresponding spatial wind values.  \n",
    "We use it using the **getSpatialWind()** function.  \n",
    "Arguments:  \n",
    "- minlon: Minimum value of longitude coodinate.\n",
    "- minlat: Minimum value of latitude coodinate.\n",
    "- maxlon: Maximum value of longitude coodinate.\n",
    "- maxlat: Maximum value of latitude coodinate.\n",
    "- IMS_TOKEN: IMS token for connection IMS API.\n",
    "- dxdy: Spatial resolution of the output land cover map. Defines the step size for the grid points in both the x (longitude) and y (latitude) directions within the specified bounding box.\n",
    "- inputCRS: The ESPRG of the coordinates.\n",
    "- landcover_DataSource: The name of the landcover DataSource to use."
   ]
  },
  {
   "cell_type": "code",
   "execution_count": 3,
   "id": "ee34fac3-2fc5-4d40-a4d4-f284a4e15345",
   "metadata": {
    "scrolled": true
   },
   "outputs": [
    {
     "name": "stdout",
     "output_type": "stream",
     "text": [
      "(33, 3)\r"
     ]
    },
    {
     "name": "stderr",
     "output_type": "stream",
     "text": [
      "Warning 1: Starting with GDAL 3.7, PIXELTYPE=SIGNEDBYTE is no longer used to signal signed 8-bit raster. Change your code to test for the new GDT_Int8 data type instead.\n",
      "  1%|▌                                           | 1/83 [00:00<00:40,  2.03it/s]"
     ]
    },
    {
     "name": "stdout",
     "output_type": "stream",
     "text": [
      "Trial 1 for Station 6\n",
      "Trial 2 for Station 6\n",
      "Trial 3 for Station 6\n",
      "Trial 4 for Station 6\n",
      "Trial 5 for Station 6\n",
      "Trial 6 for Station 6\n"
     ]
    },
    {
     "name": "stderr",
     "output_type": "stream",
     "text": [
      "  7%|███▏                                        | 6/83 [00:03<00:35,  2.18it/s]"
     ]
    },
    {
     "name": "stdout",
     "output_type": "stream",
     "text": [
      "Trial 1 for Station 16\n",
      "Trial 2 for Station 16\n",
      "Trial 3 for Station 16\n"
     ]
    },
    {
     "name": "stderr",
     "output_type": "stream",
     "text": [
      "  8%|███▋                                        | 7/83 [00:04<00:47,  1.61it/s]"
     ]
    },
    {
     "name": "stdout",
     "output_type": "stream",
     "text": [
      "Trial 1 for Station 20\n",
      "Trial 2 for Station 20\n",
      "Trial 3 for Station 20\n",
      "Trial 4 for Station 20\n",
      "Trial 5 for Station 20\n",
      "Trial 6 for Station 20\n"
     ]
    },
    {
     "name": "stderr",
     "output_type": "stream",
     "text": [
      " 13%|█████▋                                     | 11/83 [00:06<00:36,  1.97it/s]"
     ]
    },
    {
     "name": "stdout",
     "output_type": "stream",
     "text": [
      "Trial 1 for Station 24\n",
      "Trial 2 for Station 24\n",
      "Trial 3 for Station 24\n"
     ]
    },
    {
     "name": "stderr",
     "output_type": "stream",
     "text": [
      " 16%|██████▋                                    | 13/83 [00:07<00:36,  1.94it/s]"
     ]
    },
    {
     "name": "stdout",
     "output_type": "stream",
     "text": [
      "Trial 1 for Station 26\n",
      "Trial 2 for Station 26\n",
      "Trial 3 for Station 26\n",
      "Trial 4 for Station 26\n",
      "Trial 5 for Station 26\n",
      "Trial 6 for Station 26\n",
      "Trial 7 for Station 26\n",
      "Trial 8 for Station 26\n",
      "Trial 9 for Station 26\n",
      "Trial 10 for Station 26\n",
      "Trial 11 for Station 26\n",
      "Trial 12 for Station 26\n",
      "Trial 13 for Station 26\n",
      "Trial 14 for Station 26\n",
      "Trial 15 for Station 26\n",
      "Trial 16 for Station 26\n",
      "Trial 17 for Station 26\n",
      "Trial 18 for Station 26\n",
      "Trial 19 for Station 26\n"
     ]
    },
    {
     "name": "stderr",
     "output_type": "stream",
     "text": [
      " 17%|███████▎                                   | 14/83 [00:10<01:30,  1.32s/it]"
     ]
    },
    {
     "name": "stdout",
     "output_type": "stream",
     "text": [
      "Trial 20 for Station 26\n",
      "Trial 1 for Station 28\n",
      "Trial 2 for Station 28\n"
     ]
    },
    {
     "name": "stderr",
     "output_type": "stream",
     "text": [
      " 22%|█████████▎                                 | 18/83 [00:12<00:42,  1.52it/s]"
     ]
    },
    {
     "name": "stdout",
     "output_type": "stream",
     "text": [
      "Trial 1 for Station 36\n",
      "Trial 2 for Station 36\n",
      "Trial 3 for Station 36\n"
     ]
    },
    {
     "name": "stderr",
     "output_type": "stream",
     "text": [
      " 28%|███████████▉                               | 23/83 [00:15<00:29,  2.05it/s]"
     ]
    },
    {
     "name": "stdout",
     "output_type": "stream",
     "text": [
      "Trial 1 for Station 54\n",
      "Trial 2 for Station 54\n",
      "Trial 3 for Station 54\n",
      "Trial 4 for Station 54\n"
     ]
    },
    {
     "name": "stderr",
     "output_type": "stream",
     "text": [
      " 33%|█████████████▉                             | 27/83 [00:17<00:24,  2.32it/s]"
     ]
    },
    {
     "name": "stdout",
     "output_type": "stream",
     "text": [
      "Trial 1 for Station 64\n",
      "Trial 2 for Station 64\n",
      "Trial 3 for Station 64\n",
      "Trial 4 for Station 64\n"
     ]
    },
    {
     "name": "stderr",
     "output_type": "stream",
     "text": [
      " 37%|████████████████                           | 31/83 [00:19<00:24,  2.09it/s]"
     ]
    },
    {
     "name": "stdout",
     "output_type": "stream",
     "text": [
      "Trial 1 for Station 77\n",
      "Trial 2 for Station 77\n",
      "Trial 3 for Station 77\n"
     ]
    },
    {
     "name": "stderr",
     "output_type": "stream",
     "text": [
      " 42%|██████████████████▏                        | 35/83 [00:21<00:21,  2.25it/s]"
     ]
    },
    {
     "name": "stdout",
     "output_type": "stream",
     "text": [
      "Trial 1 for Station 90\n",
      "Trial 2 for Station 90\n",
      "Trial 3 for Station 90\n"
     ]
    },
    {
     "name": "stderr",
     "output_type": "stream",
     "text": [
      " 45%|███████████████████▏                       | 37/83 [00:23<00:25,  1.79it/s]"
     ]
    },
    {
     "name": "stdout",
     "output_type": "stream",
     "text": [
      "Trial 1 for Station 106\n",
      "Trial 2 for Station 106\n",
      "Trial 3 for Station 106\n",
      "Trial 4 for Station 106\n",
      "Trial 5 for Station 106\n",
      "Trial 6 for Station 106\n",
      "Trial 7 for Station 106\n",
      "Trial 8 for Station 106\n",
      "Trial 9 for Station 106\n",
      "Trial 10 for Station 106\n",
      "Trial 11 for Station 106\n",
      "Trial 12 for Station 106\n",
      "Trial 13 for Station 106\n",
      "Trial 14 for Station 106\n",
      "Trial 15 for Station 106\n",
      "Trial 16 for Station 106\n",
      "Trial 17 for Station 106\n",
      "Trial 18 for Station 106\n"
     ]
    },
    {
     "name": "stderr",
     "output_type": "stream",
     "text": [
      " 46%|███████████████████▋                       | 38/83 [00:26<00:59,  1.33s/it]"
     ]
    },
    {
     "name": "stdout",
     "output_type": "stream",
     "text": [
      "Trial 19 for Station 106\n",
      "Trial 20 for Station 106\n",
      "Trial 1 for Station 112\n",
      "Trial 2 for Station 112\n",
      "Trial 3 for Station 112\n"
     ]
    },
    {
     "name": "stderr",
     "output_type": "stream",
     "text": [
      " 52%|██████████████████████▎                    | 43/83 [00:28<00:20,  1.91it/s]"
     ]
    },
    {
     "name": "stdout",
     "output_type": "stream",
     "text": [
      "Trial 1 for Station 188\n",
      "Trial 2 for Station 188\n",
      "Trial 3 for Station 188\n",
      "Trial 4 for Station 188\n"
     ]
    },
    {
     "name": "stderr",
     "output_type": "stream",
     "text": [
      " 55%|███████████████████████▊                   | 46/83 [00:30<00:23,  1.60it/s]"
     ]
    },
    {
     "name": "stdout",
     "output_type": "stream",
     "text": [
      "Trial 1 for Station 207\n",
      "Trial 2 for Station 207\n",
      "Trial 3 for Station 207\n",
      "Trial 4 for Station 207\n"
     ]
    },
    {
     "name": "stderr",
     "output_type": "stream",
     "text": [
      " 59%|█████████████████████████▍                 | 49/83 [00:32<00:21,  1.55it/s]"
     ]
    },
    {
     "name": "stdout",
     "output_type": "stream",
     "text": [
      "Trial 1 for Station 211\n",
      "Trial 2 for Station 211\n",
      "Trial 3 for Station 211\n",
      "Trial 4 for Station 211\n",
      "Trial 5 for Station 211\n",
      "Trial 6 for Station 211\n",
      "Trial 7 for Station 211\n",
      "Trial 8 for Station 211\n",
      "Trial 9 for Station 211\n",
      "Trial 10 for Station 211\n",
      "Trial 11 for Station 211\n",
      "Trial 12 for Station 211\n",
      "Trial 13 for Station 211\n",
      "Trial 14 for Station 211\n",
      "Trial 15 for Station 211\n",
      "Trial 16 for Station 211\n",
      "Trial 17 for Station 211\n",
      "Trial 18 for Station 211\n"
     ]
    },
    {
     "name": "stderr",
     "output_type": "stream",
     "text": [
      " 60%|█████████████████████████▉                 | 50/83 [00:35<00:43,  1.33s/it]"
     ]
    },
    {
     "name": "stdout",
     "output_type": "stream",
     "text": [
      "Trial 19 for Station 211\n",
      "Trial 20 for Station 211\n",
      "Trial 1 for Station 218\n"
     ]
    },
    {
     "name": "stderr",
     "output_type": "stream",
     "text": [
      " 65%|███████████████████████████▉               | 54/83 [00:37<00:19,  1.47it/s]"
     ]
    },
    {
     "name": "stdout",
     "output_type": "stream",
     "text": [
      "Trial 1 for Station 232\n",
      "Trial 2 for Station 232\n",
      "Trial 3 for Station 232\n",
      "Trial 4 for Station 232\n",
      "Trial 5 for Station 232\n"
     ]
    },
    {
     "name": "stderr",
     "output_type": "stream",
     "text": [
      " 67%|█████████████████████████████              | 56/83 [00:39<00:17,  1.50it/s]"
     ]
    },
    {
     "name": "stdout",
     "output_type": "stream",
     "text": [
      "Trial 1 for Station 259\n",
      "Trial 2 for Station 259\n",
      "Trial 3 for Station 259\n",
      "Trial 4 for Station 259\n",
      "Trial 5 for Station 259\n",
      "Trial 6 for Station 259\n",
      "Trial 7 for Station 259\n",
      "Trial 8 for Station 259\n",
      "Trial 9 for Station 259\n",
      "Trial 10 for Station 259\n",
      "Trial 11 for Station 259\n",
      "Trial 12 for Station 259\n",
      "Trial 13 for Station 259\n",
      "Trial 14 for Station 259\n",
      "Trial 15 for Station 259\n",
      "Trial 16 for Station 259\n",
      "Trial 17 for Station 259\n",
      "Trial 18 for Station 259\n"
     ]
    },
    {
     "name": "stderr",
     "output_type": "stream",
     "text": [
      " 69%|█████████████████████████████▌             | 57/83 [00:42<00:36,  1.40s/it]"
     ]
    },
    {
     "name": "stdout",
     "output_type": "stream",
     "text": [
      "Trial 19 for Station 259\n",
      "Trial 20 for Station 259\n",
      "Trial 1 for Station 269\n",
      "Trial 2 for Station 269\n",
      "Trial 3 for Station 269\n"
     ]
    },
    {
     "name": "stderr",
     "output_type": "stream",
     "text": [
      " 70%|██████████████████████████████             | 58/83 [00:43<00:31,  1.26s/it]"
     ]
    },
    {
     "name": "stdout",
     "output_type": "stream",
     "text": [
      "Trial 1 for Station 270\n",
      "Trial 2 for Station 270\n",
      "Trial 3 for Station 270\n",
      "Trial 4 for Station 270\n",
      "Trial 5 for Station 270\n",
      "Trial 6 for Station 270\n",
      "Trial 7 for Station 270\n",
      "Trial 8 for Station 270\n",
      "Trial 9 for Station 270\n",
      "Trial 10 for Station 270\n",
      "Trial 11 for Station 270\n",
      "Trial 12 for Station 270\n",
      "Trial 13 for Station 270\n",
      "Trial 14 for Station 270\n",
      "Trial 15 for Station 270\n",
      "Trial 16 for Station 270\n",
      "Trial 17 for Station 270\n",
      "Trial 18 for Station 270\n"
     ]
    },
    {
     "name": "stderr",
     "output_type": "stream",
     "text": [
      " 71%|██████████████████████████████▌            | 59/83 [00:47<00:47,  1.98s/it]"
     ]
    },
    {
     "name": "stdout",
     "output_type": "stream",
     "text": [
      "Trial 19 for Station 270\n",
      "Trial 20 for Station 270\n",
      "Trial 1 for Station 271\n",
      "Trial 2 for Station 271\n"
     ]
    },
    {
     "name": "stderr",
     "output_type": "stream",
     "text": [
      " 77%|█████████████████████████████████▏         | 64/83 [00:49<00:12,  1.46it/s]"
     ]
    },
    {
     "name": "stdout",
     "output_type": "stream",
     "text": [
      "Trial 1 for Station 380\n",
      "Trial 2 for Station 380\n",
      "Trial 3 for Station 380\n"
     ]
    },
    {
     "name": "stderr",
     "output_type": "stream",
     "text": [
      " 81%|██████████████████████████████████▋        | 67/83 [00:51<00:10,  1.58it/s]"
     ]
    },
    {
     "name": "stdout",
     "output_type": "stream",
     "text": [
      "Trial 1 for Station 499\n",
      "Trial 2 for Station 499\n",
      "Trial 3 for Station 499\n",
      "Trial 4 for Station 499\n",
      "Trial 5 for Station 499\n"
     ]
    },
    {
     "name": "stderr",
     "output_type": "stream",
     "text": [
      " 82%|███████████████████████████████████▏       | 68/83 [00:52<00:11,  1.31it/s]"
     ]
    },
    {
     "name": "stdout",
     "output_type": "stream",
     "text": [
      "Trial 1 for Station 35\n",
      "Trial 2 for Station 35\n",
      "Trial 3 for Station 35\n",
      "Trial 4 for Station 35\n",
      "Trial 5 for Station 35\n",
      "Trial 6 for Station 35\n",
      "Trial 7 for Station 35\n",
      "Trial 8 for Station 35\n",
      "Trial 9 for Station 35\n",
      "Trial 10 for Station 35\n",
      "Trial 11 for Station 35\n",
      "Trial 12 for Station 35\n",
      "Trial 13 for Station 35\n",
      "Trial 14 for Station 35\n",
      "Trial 15 for Station 35\n",
      "Trial 16 for Station 35\n",
      "Trial 17 for Station 35\n",
      "Trial 18 for Station 35\n"
     ]
    },
    {
     "name": "stderr",
     "output_type": "stream",
     "text": [
      " 83%|███████████████████████████████████▋       | 69/83 [00:55<00:21,  1.56s/it]"
     ]
    },
    {
     "name": "stdout",
     "output_type": "stream",
     "text": [
      "Trial 19 for Station 35\n",
      "Trial 20 for Station 35\n"
     ]
    },
    {
     "name": "stderr",
     "output_type": "stream",
     "text": [
      " 86%|████████████████████████████████████▊      | 71/83 [00:56<00:11,  1.02it/s]"
     ]
    },
    {
     "name": "stdout",
     "output_type": "stream",
     "text": [
      "Trial 1 for Station 99\n",
      "Trial 2 for Station 99\n",
      "Trial 3 for Station 99\n"
     ]
    },
    {
     "name": "stderr",
     "output_type": "stream",
     "text": [
      " 90%|██████████████████████████████████████▊    | 75/83 [00:58<00:05,  1.47it/s]"
     ]
    },
    {
     "name": "stdout",
     "output_type": "stream",
     "text": [
      "Trial 1 for Station 257\n",
      "Trial 2 for Station 257\n",
      "Trial 3 for Station 257\n",
      "Trial 4 for Station 257\n",
      "Trial 5 for Station 257\n",
      "Trial 6 for Station 257\n",
      "Trial 7 for Station 257\n",
      "Trial 8 for Station 257\n",
      "Trial 9 for Station 257\n",
      "Trial 10 for Station 257\n",
      "Trial 11 for Station 257\n",
      "Trial 12 for Station 257\n",
      "Trial 13 for Station 257\n",
      "Trial 14 for Station 257\n",
      "Trial 15 for Station 257\n",
      "Trial 16 for Station 257\n",
      "Trial 17 for Station 257\n",
      "Trial 18 for Station 257\n",
      "Trial 19 for Station 257\n"
     ]
    },
    {
     "name": "stderr",
     "output_type": "stream",
     "text": [
      " 92%|███████████████████████████████████████▎   | 76/83 [01:02<00:10,  1.47s/it]"
     ]
    },
    {
     "name": "stdout",
     "output_type": "stream",
     "text": [
      "Trial 20 for Station 257\n"
     ]
    },
    {
     "name": "stderr",
     "output_type": "stream",
     "text": [
      " 93%|███████████████████████████████████████▉   | 77/83 [01:02<00:06,  1.14s/it]"
     ]
    },
    {
     "name": "stdout",
     "output_type": "stream",
     "text": [
      "Trial 1 for Station 265\n",
      "Trial 2 for Station 265\n",
      "Trial 3 for Station 265\n",
      "Trial 4 for Station 265\n",
      "Trial 5 for Station 265\n",
      "Trial 6 for Station 265\n",
      "Trial 7 for Station 265\n",
      "Trial 8 for Station 265\n",
      "Trial 9 for Station 265\n",
      "Trial 10 for Station 265\n",
      "Trial 11 for Station 265\n",
      "Trial 12 for Station 265\n",
      "Trial 13 for Station 265\n",
      "Trial 14 for Station 265\n",
      "Trial 15 for Station 265\n",
      "Trial 16 for Station 265\n",
      "Trial 17 for Station 265\n",
      "Trial 18 for Station 265\n"
     ]
    },
    {
     "name": "stderr",
     "output_type": "stream",
     "text": [
      " 94%|████████████████████████████████████████▍  | 78/83 [01:05<00:08,  1.73s/it]"
     ]
    },
    {
     "name": "stdout",
     "output_type": "stream",
     "text": [
      "Trial 19 for Station 265\n",
      "Trial 20 for Station 265\n",
      "Trial 1 for Station 379\n",
      "Trial 2 for Station 379\n"
     ]
    },
    {
     "name": "stderr",
     "output_type": "stream",
     "text": [
      " 96%|█████████████████████████████████████████▍ | 80/83 [01:06<00:03,  1.08s/it]"
     ]
    },
    {
     "name": "stdout",
     "output_type": "stream",
     "text": [
      "Trial 1 for Station 348\n",
      "Trial 2 for Station 348\n",
      "Trial 3 for Station 348\n",
      "Trial 4 for Station 348\n",
      "Trial 5 for Station 348\n",
      "Trial 6 for Station 348\n",
      "Trial 7 for Station 348\n",
      "Trial 8 for Station 348\n",
      "Trial 9 for Station 348\n",
      "Trial 10 for Station 348\n",
      "Trial 11 for Station 348\n",
      "Trial 12 for Station 348\n",
      "Trial 13 for Station 348\n",
      "Trial 14 for Station 348\n",
      "Trial 15 for Station 348\n",
      "Trial 16 for Station 348\n",
      "Trial 17 for Station 348\n",
      "Trial 18 for Station 348\n"
     ]
    },
    {
     "name": "stderr",
     "output_type": "stream",
     "text": [
      " 98%|█████████████████████████████████████████▉ | 81/83 [01:09<00:03,  1.62s/it]"
     ]
    },
    {
     "name": "stdout",
     "output_type": "stream",
     "text": [
      "Trial 19 for Station 348\n",
      "Trial 20 for Station 348\n",
      "Trial 1 for Station 499\n",
      "Trial 2 for Station 499\n"
     ]
    },
    {
     "name": "stderr",
     "output_type": "stream",
     "text": [
      "100%|███████████████████████████████████████████| 83/83 [01:10<00:00,  1.18it/s]\n"
     ]
    }
   ],
   "source": [
    "minlon = 271000\n",
    "minlat = 747100\n",
    "maxlon = 272000\n",
    "maxlat = 747200\n",
    "\n",
    "f = open(f'token.json')\n",
    "token = json.load(f)\n",
    "\n",
    "xr_dataset,stations_with_data = wind_tk.getSpatialWind(minlon,minlat,maxlon,maxlat,token,inputCRS=ITM)"
   ]
  },
  {
   "cell_type": "markdown",
   "id": "135e8d87-28da-4f1d-aeb4-7983f65637e9",
   "metadata": {},
   "source": [
    "The function returns two values. The first one is the corresponding xarray of the specified region. The second is the stations in the region (currently using all wind stations in Israel)."
   ]
  },
  {
   "cell_type": "markdown",
   "id": "17952d0e-bfe4-4e9e-a088-f7ff67578d91",
   "metadata": {},
   "source": [
    "### add_interpolated_ws_wd()  \n",
    "\n",
    "Now, we can add the wind Speed and Direction in each cell in the mesh, using the **add_interpolated_ws_wd()** function.  \n",
    "Arguments:  \n",
    "- xarray: The xarray of the region with the corresponding values.\n",
    "- stations: List of the stations to consider for interpolation."
   ]
  },
  {
   "cell_type": "code",
   "execution_count": 4,
   "id": "696c2a2d-878d-4879-a469-ecfb9f80603e",
   "metadata": {},
   "outputs": [
    {
     "data": {
      "text/html": [
       "<div><svg style=\"position: absolute; width: 0; height: 0; overflow: hidden\">\n",
       "<defs>\n",
       "<symbol id=\"icon-database\" viewBox=\"0 0 32 32\">\n",
       "<path d=\"M16 0c-8.837 0-16 2.239-16 5v4c0 2.761 7.163 5 16 5s16-2.239 16-5v-4c0-2.761-7.163-5-16-5z\"></path>\n",
       "<path d=\"M16 17c-8.837 0-16-2.239-16-5v6c0 2.761 7.163 5 16 5s16-2.239 16-5v-6c0 2.761-7.163 5-16 5z\"></path>\n",
       "<path d=\"M16 26c-8.837 0-16-2.239-16-5v6c0 2.761 7.163 5 16 5s16-2.239 16-5v-6c0 2.761-7.163 5-16 5z\"></path>\n",
       "</symbol>\n",
       "<symbol id=\"icon-file-text2\" viewBox=\"0 0 32 32\">\n",
       "<path d=\"M28.681 7.159c-0.694-0.947-1.662-2.053-2.724-3.116s-2.169-2.030-3.116-2.724c-1.612-1.182-2.393-1.319-2.841-1.319h-15.5c-1.378 0-2.5 1.121-2.5 2.5v27c0 1.378 1.122 2.5 2.5 2.5h23c1.378 0 2.5-1.122 2.5-2.5v-19.5c0-0.448-0.137-1.23-1.319-2.841zM24.543 5.457c0.959 0.959 1.712 1.825 2.268 2.543h-4.811v-4.811c0.718 0.556 1.584 1.309 2.543 2.268zM28 29.5c0 0.271-0.229 0.5-0.5 0.5h-23c-0.271 0-0.5-0.229-0.5-0.5v-27c0-0.271 0.229-0.5 0.5-0.5 0 0 15.499-0 15.5 0v7c0 0.552 0.448 1 1 1h7v19.5z\"></path>\n",
       "<path d=\"M23 26h-14c-0.552 0-1-0.448-1-1s0.448-1 1-1h14c0.552 0 1 0.448 1 1s-0.448 1-1 1z\"></path>\n",
       "<path d=\"M23 22h-14c-0.552 0-1-0.448-1-1s0.448-1 1-1h14c0.552 0 1 0.448 1 1s-0.448 1-1 1z\"></path>\n",
       "<path d=\"M23 18h-14c-0.552 0-1-0.448-1-1s0.448-1 1-1h14c0.552 0 1 0.448 1 1s-0.448 1-1 1z\"></path>\n",
       "</symbol>\n",
       "</defs>\n",
       "</svg>\n",
       "<style>/* CSS stylesheet for displaying xarray objects in jupyterlab.\n",
       " *\n",
       " */\n",
       "\n",
       ":root {\n",
       "  --xr-font-color0: var(--jp-content-font-color0, rgba(0, 0, 0, 1));\n",
       "  --xr-font-color2: var(--jp-content-font-color2, rgba(0, 0, 0, 0.54));\n",
       "  --xr-font-color3: var(--jp-content-font-color3, rgba(0, 0, 0, 0.38));\n",
       "  --xr-border-color: var(--jp-border-color2, #e0e0e0);\n",
       "  --xr-disabled-color: var(--jp-layout-color3, #bdbdbd);\n",
       "  --xr-background-color: var(--jp-layout-color0, white);\n",
       "  --xr-background-color-row-even: var(--jp-layout-color1, white);\n",
       "  --xr-background-color-row-odd: var(--jp-layout-color2, #eeeeee);\n",
       "}\n",
       "\n",
       "html[theme=dark],\n",
       "body[data-theme=dark],\n",
       "body.vscode-dark {\n",
       "  --xr-font-color0: rgba(255, 255, 255, 1);\n",
       "  --xr-font-color2: rgba(255, 255, 255, 0.54);\n",
       "  --xr-font-color3: rgba(255, 255, 255, 0.38);\n",
       "  --xr-border-color: #1F1F1F;\n",
       "  --xr-disabled-color: #515151;\n",
       "  --xr-background-color: #111111;\n",
       "  --xr-background-color-row-even: #111111;\n",
       "  --xr-background-color-row-odd: #313131;\n",
       "}\n",
       "\n",
       ".xr-wrap {\n",
       "  display: block !important;\n",
       "  min-width: 300px;\n",
       "  max-width: 700px;\n",
       "}\n",
       "\n",
       ".xr-text-repr-fallback {\n",
       "  /* fallback to plain text repr when CSS is not injected (untrusted notebook) */\n",
       "  display: none;\n",
       "}\n",
       "\n",
       ".xr-header {\n",
       "  padding-top: 6px;\n",
       "  padding-bottom: 6px;\n",
       "  margin-bottom: 4px;\n",
       "  border-bottom: solid 1px var(--xr-border-color);\n",
       "}\n",
       "\n",
       ".xr-header > div,\n",
       ".xr-header > ul {\n",
       "  display: inline;\n",
       "  margin-top: 0;\n",
       "  margin-bottom: 0;\n",
       "}\n",
       "\n",
       ".xr-obj-type,\n",
       ".xr-array-name {\n",
       "  margin-left: 2px;\n",
       "  margin-right: 10px;\n",
       "}\n",
       "\n",
       ".xr-obj-type {\n",
       "  color: var(--xr-font-color2);\n",
       "}\n",
       "\n",
       ".xr-sections {\n",
       "  padding-left: 0 !important;\n",
       "  display: grid;\n",
       "  grid-template-columns: 150px auto auto 1fr 20px 20px;\n",
       "}\n",
       "\n",
       ".xr-section-item {\n",
       "  display: contents;\n",
       "}\n",
       "\n",
       ".xr-section-item input {\n",
       "  display: none;\n",
       "}\n",
       "\n",
       ".xr-section-item input + label {\n",
       "  color: var(--xr-disabled-color);\n",
       "}\n",
       "\n",
       ".xr-section-item input:enabled + label {\n",
       "  cursor: pointer;\n",
       "  color: var(--xr-font-color2);\n",
       "}\n",
       "\n",
       ".xr-section-item input:enabled + label:hover {\n",
       "  color: var(--xr-font-color0);\n",
       "}\n",
       "\n",
       ".xr-section-summary {\n",
       "  grid-column: 1;\n",
       "  color: var(--xr-font-color2);\n",
       "  font-weight: 500;\n",
       "}\n",
       "\n",
       ".xr-section-summary > span {\n",
       "  display: inline-block;\n",
       "  padding-left: 0.5em;\n",
       "}\n",
       "\n",
       ".xr-section-summary-in:disabled + label {\n",
       "  color: var(--xr-font-color2);\n",
       "}\n",
       "\n",
       ".xr-section-summary-in + label:before {\n",
       "  display: inline-block;\n",
       "  content: '►';\n",
       "  font-size: 11px;\n",
       "  width: 15px;\n",
       "  text-align: center;\n",
       "}\n",
       "\n",
       ".xr-section-summary-in:disabled + label:before {\n",
       "  color: var(--xr-disabled-color);\n",
       "}\n",
       "\n",
       ".xr-section-summary-in:checked + label:before {\n",
       "  content: '▼';\n",
       "}\n",
       "\n",
       ".xr-section-summary-in:checked + label > span {\n",
       "  display: none;\n",
       "}\n",
       "\n",
       ".xr-section-summary,\n",
       ".xr-section-inline-details {\n",
       "  padding-top: 4px;\n",
       "  padding-bottom: 4px;\n",
       "}\n",
       "\n",
       ".xr-section-inline-details {\n",
       "  grid-column: 2 / -1;\n",
       "}\n",
       "\n",
       ".xr-section-details {\n",
       "  display: none;\n",
       "  grid-column: 1 / -1;\n",
       "  margin-bottom: 5px;\n",
       "}\n",
       "\n",
       ".xr-section-summary-in:checked ~ .xr-section-details {\n",
       "  display: contents;\n",
       "}\n",
       "\n",
       ".xr-array-wrap {\n",
       "  grid-column: 1 / -1;\n",
       "  display: grid;\n",
       "  grid-template-columns: 20px auto;\n",
       "}\n",
       "\n",
       ".xr-array-wrap > label {\n",
       "  grid-column: 1;\n",
       "  vertical-align: top;\n",
       "}\n",
       "\n",
       ".xr-preview {\n",
       "  color: var(--xr-font-color3);\n",
       "}\n",
       "\n",
       ".xr-array-preview,\n",
       ".xr-array-data {\n",
       "  padding: 0 5px !important;\n",
       "  grid-column: 2;\n",
       "}\n",
       "\n",
       ".xr-array-data,\n",
       ".xr-array-in:checked ~ .xr-array-preview {\n",
       "  display: none;\n",
       "}\n",
       "\n",
       ".xr-array-in:checked ~ .xr-array-data,\n",
       ".xr-array-preview {\n",
       "  display: inline-block;\n",
       "}\n",
       "\n",
       ".xr-dim-list {\n",
       "  display: inline-block !important;\n",
       "  list-style: none;\n",
       "  padding: 0 !important;\n",
       "  margin: 0;\n",
       "}\n",
       "\n",
       ".xr-dim-list li {\n",
       "  display: inline-block;\n",
       "  padding: 0;\n",
       "  margin: 0;\n",
       "}\n",
       "\n",
       ".xr-dim-list:before {\n",
       "  content: '(';\n",
       "}\n",
       "\n",
       ".xr-dim-list:after {\n",
       "  content: ')';\n",
       "}\n",
       "\n",
       ".xr-dim-list li:not(:last-child):after {\n",
       "  content: ',';\n",
       "  padding-right: 5px;\n",
       "}\n",
       "\n",
       ".xr-has-index {\n",
       "  font-weight: bold;\n",
       "}\n",
       "\n",
       ".xr-var-list,\n",
       ".xr-var-item {\n",
       "  display: contents;\n",
       "}\n",
       "\n",
       ".xr-var-item > div,\n",
       ".xr-var-item label,\n",
       ".xr-var-item > .xr-var-name span {\n",
       "  background-color: var(--xr-background-color-row-even);\n",
       "  margin-bottom: 0;\n",
       "}\n",
       "\n",
       ".xr-var-item > .xr-var-name:hover span {\n",
       "  padding-right: 5px;\n",
       "}\n",
       "\n",
       ".xr-var-list > li:nth-child(odd) > div,\n",
       ".xr-var-list > li:nth-child(odd) > label,\n",
       ".xr-var-list > li:nth-child(odd) > .xr-var-name span {\n",
       "  background-color: var(--xr-background-color-row-odd);\n",
       "}\n",
       "\n",
       ".xr-var-name {\n",
       "  grid-column: 1;\n",
       "}\n",
       "\n",
       ".xr-var-dims {\n",
       "  grid-column: 2;\n",
       "}\n",
       "\n",
       ".xr-var-dtype {\n",
       "  grid-column: 3;\n",
       "  text-align: right;\n",
       "  color: var(--xr-font-color2);\n",
       "}\n",
       "\n",
       ".xr-var-preview {\n",
       "  grid-column: 4;\n",
       "}\n",
       "\n",
       ".xr-index-preview {\n",
       "  grid-column: 2 / 5;\n",
       "  color: var(--xr-font-color2);\n",
       "}\n",
       "\n",
       ".xr-var-name,\n",
       ".xr-var-dims,\n",
       ".xr-var-dtype,\n",
       ".xr-preview,\n",
       ".xr-attrs dt {\n",
       "  white-space: nowrap;\n",
       "  overflow: hidden;\n",
       "  text-overflow: ellipsis;\n",
       "  padding-right: 10px;\n",
       "}\n",
       "\n",
       ".xr-var-name:hover,\n",
       ".xr-var-dims:hover,\n",
       ".xr-var-dtype:hover,\n",
       ".xr-attrs dt:hover {\n",
       "  overflow: visible;\n",
       "  width: auto;\n",
       "  z-index: 1;\n",
       "}\n",
       "\n",
       ".xr-var-attrs,\n",
       ".xr-var-data,\n",
       ".xr-index-data {\n",
       "  display: none;\n",
       "  background-color: var(--xr-background-color) !important;\n",
       "  padding-bottom: 5px !important;\n",
       "}\n",
       "\n",
       ".xr-var-attrs-in:checked ~ .xr-var-attrs,\n",
       ".xr-var-data-in:checked ~ .xr-var-data,\n",
       ".xr-index-data-in:checked ~ .xr-index-data {\n",
       "  display: block;\n",
       "}\n",
       "\n",
       ".xr-var-data > table {\n",
       "  float: right;\n",
       "}\n",
       "\n",
       ".xr-var-name span,\n",
       ".xr-var-data,\n",
       ".xr-index-name div,\n",
       ".xr-index-data,\n",
       ".xr-attrs {\n",
       "  padding-left: 25px !important;\n",
       "}\n",
       "\n",
       ".xr-attrs,\n",
       ".xr-var-attrs,\n",
       ".xr-var-data,\n",
       ".xr-index-data {\n",
       "  grid-column: 1 / -1;\n",
       "}\n",
       "\n",
       "dl.xr-attrs {\n",
       "  padding: 0;\n",
       "  margin: 0;\n",
       "  display: grid;\n",
       "  grid-template-columns: 125px auto;\n",
       "}\n",
       "\n",
       ".xr-attrs dt,\n",
       ".xr-attrs dd {\n",
       "  padding: 0;\n",
       "  margin: 0;\n",
       "  float: left;\n",
       "  padding-right: 10px;\n",
       "  width: auto;\n",
       "}\n",
       "\n",
       ".xr-attrs dt {\n",
       "  font-weight: normal;\n",
       "  grid-column: 1;\n",
       "}\n",
       "\n",
       ".xr-attrs dt:hover span {\n",
       "  display: inline-block;\n",
       "  background: var(--xr-background-color);\n",
       "  padding-right: 10px;\n",
       "}\n",
       "\n",
       ".xr-attrs dd {\n",
       "  grid-column: 2;\n",
       "  white-space: pre-wrap;\n",
       "  word-break: break-all;\n",
       "}\n",
       "\n",
       ".xr-icon-database,\n",
       ".xr-icon-file-text2,\n",
       ".xr-no-icon {\n",
       "  display: inline-block;\n",
       "  vertical-align: middle;\n",
       "  width: 1em;\n",
       "  height: 1.5em !important;\n",
       "  stroke-width: 0;\n",
       "  stroke: currentColor;\n",
       "  fill: currentColor;\n",
       "}\n",
       "</style><pre class='xr-text-repr-fallback'>&lt;xarray.DataArray (i: 34, j: 4)&gt; Size: 136B\n",
       "array([[0, 0, 0, 0],\n",
       "       [0, 0, 0, 0],\n",
       "       [0, 0, 0, 0],\n",
       "       [0, 0, 0, 0],\n",
       "       [0, 0, 0, 0],\n",
       "       [0, 0, 0, 0],\n",
       "       [0, 0, 0, 0],\n",
       "       [0, 0, 0, 0],\n",
       "       [0, 0, 0, 0],\n",
       "       [0, 0, 0, 0],\n",
       "       [0, 0, 0, 0],\n",
       "       [0, 0, 0, 0],\n",
       "       [0, 0, 0, 0],\n",
       "       [0, 0, 0, 0],\n",
       "       [0, 0, 0, 0],\n",
       "       [0, 0, 0, 0],\n",
       "       [0, 0, 0, 0],\n",
       "       [0, 0, 0, 0],\n",
       "       [0, 0, 0, 0],\n",
       "       [0, 0, 0, 0],\n",
       "       [0, 0, 0, 0],\n",
       "       [0, 0, 0, 0],\n",
       "       [0, 0, 0, 0],\n",
       "       [0, 0, 0, 0],\n",
       "       [0, 0, 0, 0],\n",
       "       [0, 0, 0, 0],\n",
       "       [0, 0, 0, 0],\n",
       "       [0, 0, 0, 0],\n",
       "       [0, 0, 0, 0],\n",
       "       [0, 0, 0, 0],\n",
       "       [0, 0, 0, 0],\n",
       "       [0, 0, 0, 0],\n",
       "       [0, 0, 0, 0],\n",
       "       [0, 0, 0, 0]], dtype=uint8)\n",
       "Coordinates:\n",
       "  * i          (i) int64 272B 0 1 2 3 4 5 6 7 8 9 ... 25 26 27 28 29 30 31 32 33\n",
       "  * j          (j) int64 32B 0 1 2 3\n",
       "    lat        (i, j) float64 1kB 35.75 35.75 35.75 35.75 ... 35.77 35.77 35.77\n",
       "    lon        (i, j) float64 1kB 32.82 32.82 32.82 32.82 ... 32.82 32.82 32.82\n",
       "    landcover  (i, j) uint8 136B 0 0 0 0 0 0 0 0 0 0 0 ... 0 0 0 0 0 0 0 0 0 0 0\n",
       "    dxdy       int64 8B 30\n",
       "    z0         (i, j) float64 1kB 0.0001 0.0001 0.0001 ... 0.0001 0.0001 0.0001\n",
       "    ws         (i, j) float64 1kB 1.576 1.576 1.576 1.576 ... 1.576 1.576 1.576\n",
       "    wd         (i, j) float64 1kB 83.49 83.49 83.49 83.49 ... 83.49 83.49 83.49\n",
       "Attributes:\n",
       "    landcover_description:  {}</pre><div class='xr-wrap' style='display:none'><div class='xr-header'><div class='xr-obj-type'>xarray.DataArray</div><div class='xr-array-name'></div><ul class='xr-dim-list'><li><span class='xr-has-index'>i</span>: 34</li><li><span class='xr-has-index'>j</span>: 4</li></ul></div><ul class='xr-sections'><li class='xr-section-item'><div class='xr-array-wrap'><input id='section-97f659f6-e02b-48ab-9101-f4f154b2795f' class='xr-array-in' type='checkbox' checked><label for='section-97f659f6-e02b-48ab-9101-f4f154b2795f' title='Show/hide data repr'><svg class='icon xr-icon-database'><use xlink:href='#icon-database'></use></svg></label><div class='xr-array-preview xr-preview'><span>0 0 0 0 0 0 0 0 0 0 0 0 0 0 0 0 0 ... 0 0 0 0 0 0 0 0 0 0 0 0 0 0 0 0</span></div><div class='xr-array-data'><pre>array([[0, 0, 0, 0],\n",
       "       [0, 0, 0, 0],\n",
       "       [0, 0, 0, 0],\n",
       "       [0, 0, 0, 0],\n",
       "       [0, 0, 0, 0],\n",
       "       [0, 0, 0, 0],\n",
       "       [0, 0, 0, 0],\n",
       "       [0, 0, 0, 0],\n",
       "       [0, 0, 0, 0],\n",
       "       [0, 0, 0, 0],\n",
       "       [0, 0, 0, 0],\n",
       "       [0, 0, 0, 0],\n",
       "       [0, 0, 0, 0],\n",
       "       [0, 0, 0, 0],\n",
       "       [0, 0, 0, 0],\n",
       "       [0, 0, 0, 0],\n",
       "       [0, 0, 0, 0],\n",
       "       [0, 0, 0, 0],\n",
       "       [0, 0, 0, 0],\n",
       "       [0, 0, 0, 0],\n",
       "       [0, 0, 0, 0],\n",
       "       [0, 0, 0, 0],\n",
       "       [0, 0, 0, 0],\n",
       "       [0, 0, 0, 0],\n",
       "       [0, 0, 0, 0],\n",
       "       [0, 0, 0, 0],\n",
       "       [0, 0, 0, 0],\n",
       "       [0, 0, 0, 0],\n",
       "       [0, 0, 0, 0],\n",
       "       [0, 0, 0, 0],\n",
       "       [0, 0, 0, 0],\n",
       "       [0, 0, 0, 0],\n",
       "       [0, 0, 0, 0],\n",
       "       [0, 0, 0, 0]], dtype=uint8)</pre></div></div></li><li class='xr-section-item'><input id='section-1b40a131-e2ea-4745-b024-d518beedeb66' class='xr-section-summary-in' type='checkbox'  checked><label for='section-1b40a131-e2ea-4745-b024-d518beedeb66' class='xr-section-summary' >Coordinates: <span>(9)</span></label><div class='xr-section-inline-details'></div><div class='xr-section-details'><ul class='xr-var-list'><li class='xr-var-item'><div class='xr-var-name'><span class='xr-has-index'>i</span></div><div class='xr-var-dims'>(i)</div><div class='xr-var-dtype'>int64</div><div class='xr-var-preview xr-preview'>0 1 2 3 4 5 6 ... 28 29 30 31 32 33</div><input id='attrs-ebec63b4-85e1-4ed9-a55d-cc827b8f5fe1' class='xr-var-attrs-in' type='checkbox' disabled><label for='attrs-ebec63b4-85e1-4ed9-a55d-cc827b8f5fe1' title='Show/Hide attributes'><svg class='icon xr-icon-file-text2'><use xlink:href='#icon-file-text2'></use></svg></label><input id='data-c34b2249-e181-4943-9234-7f55d3e03110' class='xr-var-data-in' type='checkbox'><label for='data-c34b2249-e181-4943-9234-7f55d3e03110' title='Show/Hide data repr'><svg class='icon xr-icon-database'><use xlink:href='#icon-database'></use></svg></label><div class='xr-var-attrs'><dl class='xr-attrs'></dl></div><div class='xr-var-data'><pre>array([ 0,  1,  2,  3,  4,  5,  6,  7,  8,  9, 10, 11, 12, 13, 14, 15, 16, 17,\n",
       "       18, 19, 20, 21, 22, 23, 24, 25, 26, 27, 28, 29, 30, 31, 32, 33])</pre></div></li><li class='xr-var-item'><div class='xr-var-name'><span class='xr-has-index'>j</span></div><div class='xr-var-dims'>(j)</div><div class='xr-var-dtype'>int64</div><div class='xr-var-preview xr-preview'>0 1 2 3</div><input id='attrs-9b5c1f07-2c44-44e5-b8b9-b4f41878b98d' class='xr-var-attrs-in' type='checkbox' disabled><label for='attrs-9b5c1f07-2c44-44e5-b8b9-b4f41878b98d' title='Show/Hide attributes'><svg class='icon xr-icon-file-text2'><use xlink:href='#icon-file-text2'></use></svg></label><input id='data-d320f7ff-1776-4f91-bd96-2946e88d11ee' class='xr-var-data-in' type='checkbox'><label for='data-d320f7ff-1776-4f91-bd96-2946e88d11ee' title='Show/Hide data repr'><svg class='icon xr-icon-database'><use xlink:href='#icon-database'></use></svg></label><div class='xr-var-attrs'><dl class='xr-attrs'></dl></div><div class='xr-var-data'><pre>array([0, 1, 2, 3])</pre></div></li><li class='xr-var-item'><div class='xr-var-name'><span>lat</span></div><div class='xr-var-dims'>(i, j)</div><div class='xr-var-dtype'>float64</div><div class='xr-var-preview xr-preview'>35.75 35.75 35.75 ... 35.77 35.77</div><input id='attrs-951cc678-f199-4cfc-84de-9b5971d8495f' class='xr-var-attrs-in' type='checkbox' disabled><label for='attrs-951cc678-f199-4cfc-84de-9b5971d8495f' title='Show/Hide attributes'><svg class='icon xr-icon-file-text2'><use xlink:href='#icon-file-text2'></use></svg></label><input id='data-38e07b72-aeb4-40ba-88e0-7df9deb4c40d' class='xr-var-data-in' type='checkbox'><label for='data-38e07b72-aeb4-40ba-88e0-7df9deb4c40d' title='Show/Hide data repr'><svg class='icon xr-icon-database'><use xlink:href='#icon-database'></use></svg></label><div class='xr-var-attrs'><dl class='xr-attrs'></dl></div><div class='xr-var-data'><pre>array([[35.75484538, 35.75484705, 35.75484871, 35.75485038],\n",
       "       [35.75516572, 35.75516739, 35.75516906, 35.75517072],\n",
       "       [35.75548606, 35.75548773, 35.7554894 , 35.75549107],\n",
       "       [35.7558064 , 35.75580807, 35.75580974, 35.75581141],\n",
       "       [35.75612674, 35.75612841, 35.75613008, 35.75613175],\n",
       "       [35.75644708, 35.75644875, 35.75645042, 35.75645209],\n",
       "       [35.75676741, 35.75676909, 35.75677076, 35.75677244],\n",
       "       [35.75708775, 35.75708943, 35.7570911 , 35.75709278],\n",
       "       [35.75740809, 35.75740977, 35.75741144, 35.75741312],\n",
       "       [35.75772843, 35.75773011, 35.75773179, 35.75773346],\n",
       "       [35.75804877, 35.75805045, 35.75805213, 35.7580538 ],\n",
       "       [35.75836911, 35.75837079, 35.75837247, 35.75837415],\n",
       "       [35.75868945, 35.75869113, 35.75869281, 35.75869449],\n",
       "       [35.75900979, 35.75901147, 35.75901315, 35.75901483],\n",
       "       [35.75933013, 35.75933181, 35.75933349, 35.75933517],\n",
       "       [35.75965047, 35.75965215, 35.75965383, 35.75965551],\n",
       "       [35.75997081, 35.75997249, 35.75997417, 35.75997586],\n",
       "       [35.76029114, 35.76029283, 35.76029451, 35.7602962 ],\n",
       "       [35.76061148, 35.76061317, 35.76061485, 35.76061654],\n",
       "       [35.76093182, 35.76093351, 35.7609352 , 35.76093688],\n",
       "       [35.76125216, 35.76125385, 35.76125554, 35.76125722],\n",
       "       [35.7615725 , 35.76157419, 35.76157588, 35.76157757],\n",
       "       [35.76189284, 35.76189453, 35.76189622, 35.76189791],\n",
       "       [35.76221318, 35.76221487, 35.76221656, 35.76221825],\n",
       "       [35.76253352, 35.76253521, 35.7625369 , 35.76253859],\n",
       "       [35.76285386, 35.76285555, 35.76285724, 35.76285893],\n",
       "       [35.76317419, 35.76317589, 35.76317758, 35.76317927],\n",
       "       [35.76349453, 35.76349623, 35.76349792, 35.76349962],\n",
       "       [35.76381487, 35.76381657, 35.76381826, 35.76381996],\n",
       "       [35.76413521, 35.76413691, 35.7641386 , 35.7641403 ],\n",
       "       [35.76445555, 35.76445725, 35.76445894, 35.76446064],\n",
       "       [35.76477589, 35.76477759, 35.76477928, 35.76478098],\n",
       "       [35.76509623, 35.76509793, 35.76509962, 35.76510132],\n",
       "       [35.76541656, 35.76541826, 35.76541996, 35.76542166]])</pre></div></li><li class='xr-var-item'><div class='xr-var-name'><span>lon</span></div><div class='xr-var-dims'>(i, j)</div><div class='xr-var-dtype'>float64</div><div class='xr-var-preview xr-preview'>32.82 32.82 32.82 ... 32.82 32.82</div><input id='attrs-afd3da90-6a8b-40cf-b409-459081f2c0ee' class='xr-var-attrs-in' type='checkbox' disabled><label for='attrs-afd3da90-6a8b-40cf-b409-459081f2c0ee' title='Show/Hide attributes'><svg class='icon xr-icon-file-text2'><use xlink:href='#icon-file-text2'></use></svg></label><input id='data-752e64e5-0ecc-45f8-891f-e9a132e482fb' class='xr-var-data-in' type='checkbox'><label for='data-752e64e5-0ecc-45f8-891f-e9a132e482fb' title='Show/Hide data repr'><svg class='icon xr-icon-database'><use xlink:href='#icon-database'></use></svg></label><div class='xr-var-attrs'><dl class='xr-attrs'></dl></div><div class='xr-var-data'><pre>array([[32.81741392, 32.81768441, 32.81795491, 32.8182254 ],\n",
       "       [32.81741251, 32.817683  , 32.8179535 , 32.81822399],\n",
       "       [32.8174111 , 32.81768159, 32.81795209, 32.81822258],\n",
       "       [32.81740969, 32.81768018, 32.81795068, 32.81822117],\n",
       "       [32.81740828, 32.81767877, 32.81794927, 32.81821976],\n",
       "       [32.81740686, 32.81767736, 32.81794786, 32.81821835],\n",
       "       [32.81740545, 32.81767595, 32.81794644, 32.81821694],\n",
       "       [32.81740404, 32.81767453, 32.81794503, 32.81821552],\n",
       "       [32.81740262, 32.81767312, 32.81794361, 32.81821411],\n",
       "       [32.81740121, 32.8176717 , 32.8179422 , 32.81821269],\n",
       "       [32.81739979, 32.81767029, 32.81794078, 32.81821128],\n",
       "       [32.81739838, 32.81766887, 32.81793937, 32.81820986],\n",
       "       [32.81739696, 32.81766745, 32.81793795, 32.81820844],\n",
       "       [32.81739554, 32.81766603, 32.81793653, 32.81820702],\n",
       "       [32.81739412, 32.81766461, 32.81793511, 32.8182056 ],\n",
       "       [32.8173927 , 32.81766319, 32.81793369, 32.81820418],\n",
       "       [32.81739128, 32.81766177, 32.81793227, 32.81820276],\n",
       "       [32.81738986, 32.81766035, 32.81793085, 32.81820134],\n",
       "       [32.81738843, 32.81765893, 32.81792942, 32.81819992],\n",
       "       [32.81738701, 32.8176575 , 32.817928  , 32.81819849],\n",
       "       [32.81738559, 32.81765608, 32.81792657, 32.81819707],\n",
       "       [32.81738416, 32.81765465, 32.81792515, 32.81819564],\n",
       "       [32.81738273, 32.81765323, 32.81792372, 32.81819422],\n",
       "       [32.81738131, 32.8176518 , 32.8179223 , 32.81819279],\n",
       "       [32.81737988, 32.81765037, 32.81792087, 32.81819136],\n",
       "       [32.81737845, 32.81764895, 32.81791944, 32.81818994],\n",
       "       [32.81737702, 32.81764752, 32.81791801, 32.81818851],\n",
       "       [32.81737559, 32.81764609, 32.81791658, 32.81818708],\n",
       "       [32.81737416, 32.81764466, 32.81791515, 32.81818564],\n",
       "       [32.81737273, 32.81764322, 32.81791372, 32.81818421],\n",
       "       [32.8173713 , 32.81764179, 32.81791229, 32.81818278],\n",
       "       [32.81736986, 32.81764036, 32.81791085, 32.81818135],\n",
       "       [32.81736843, 32.81763892, 32.81790942, 32.81817991],\n",
       "       [32.81736699, 32.81763749, 32.81790798, 32.81817848]])</pre></div></li><li class='xr-var-item'><div class='xr-var-name'><span>landcover</span></div><div class='xr-var-dims'>(i, j)</div><div class='xr-var-dtype'>uint8</div><div class='xr-var-preview xr-preview'>0 0 0 0 0 0 0 0 ... 0 0 0 0 0 0 0 0</div><input id='attrs-3d374a5d-2159-4899-ae8b-221a3896de6b' class='xr-var-attrs-in' type='checkbox' disabled><label for='attrs-3d374a5d-2159-4899-ae8b-221a3896de6b' title='Show/Hide attributes'><svg class='icon xr-icon-file-text2'><use xlink:href='#icon-file-text2'></use></svg></label><input id='data-cfe9c959-5f6a-4742-b859-ff76b57a66aa' class='xr-var-data-in' type='checkbox'><label for='data-cfe9c959-5f6a-4742-b859-ff76b57a66aa' title='Show/Hide data repr'><svg class='icon xr-icon-database'><use xlink:href='#icon-database'></use></svg></label><div class='xr-var-attrs'><dl class='xr-attrs'></dl></div><div class='xr-var-data'><pre>array([[0, 0, 0, 0],\n",
       "       [0, 0, 0, 0],\n",
       "       [0, 0, 0, 0],\n",
       "       [0, 0, 0, 0],\n",
       "       [0, 0, 0, 0],\n",
       "       [0, 0, 0, 0],\n",
       "       [0, 0, 0, 0],\n",
       "       [0, 0, 0, 0],\n",
       "       [0, 0, 0, 0],\n",
       "       [0, 0, 0, 0],\n",
       "       [0, 0, 0, 0],\n",
       "       [0, 0, 0, 0],\n",
       "       [0, 0, 0, 0],\n",
       "       [0, 0, 0, 0],\n",
       "       [0, 0, 0, 0],\n",
       "       [0, 0, 0, 0],\n",
       "       [0, 0, 0, 0],\n",
       "       [0, 0, 0, 0],\n",
       "       [0, 0, 0, 0],\n",
       "       [0, 0, 0, 0],\n",
       "       [0, 0, 0, 0],\n",
       "       [0, 0, 0, 0],\n",
       "       [0, 0, 0, 0],\n",
       "       [0, 0, 0, 0],\n",
       "       [0, 0, 0, 0],\n",
       "       [0, 0, 0, 0],\n",
       "       [0, 0, 0, 0],\n",
       "       [0, 0, 0, 0],\n",
       "       [0, 0, 0, 0],\n",
       "       [0, 0, 0, 0],\n",
       "       [0, 0, 0, 0],\n",
       "       [0, 0, 0, 0],\n",
       "       [0, 0, 0, 0],\n",
       "       [0, 0, 0, 0]], dtype=uint8)</pre></div></li><li class='xr-var-item'><div class='xr-var-name'><span>dxdy</span></div><div class='xr-var-dims'>()</div><div class='xr-var-dtype'>int64</div><div class='xr-var-preview xr-preview'>30</div><input id='attrs-a60bfbaf-1739-4941-92e5-a30718993806' class='xr-var-attrs-in' type='checkbox' disabled><label for='attrs-a60bfbaf-1739-4941-92e5-a30718993806' title='Show/Hide attributes'><svg class='icon xr-icon-file-text2'><use xlink:href='#icon-file-text2'></use></svg></label><input id='data-2faf7a5d-2a83-4856-8e19-15d105733609' class='xr-var-data-in' type='checkbox'><label for='data-2faf7a5d-2a83-4856-8e19-15d105733609' title='Show/Hide data repr'><svg class='icon xr-icon-database'><use xlink:href='#icon-database'></use></svg></label><div class='xr-var-attrs'><dl class='xr-attrs'></dl></div><div class='xr-var-data'><pre>array(30)</pre></div></li><li class='xr-var-item'><div class='xr-var-name'><span>z0</span></div><div class='xr-var-dims'>(i, j)</div><div class='xr-var-dtype'>float64</div><div class='xr-var-preview xr-preview'>0.0001 0.0001 ... 0.0001 0.0001</div><input id='attrs-d3a976c8-4580-40d3-9cc0-d6387d4d3185' class='xr-var-attrs-in' type='checkbox' disabled><label for='attrs-d3a976c8-4580-40d3-9cc0-d6387d4d3185' title='Show/Hide attributes'><svg class='icon xr-icon-file-text2'><use xlink:href='#icon-file-text2'></use></svg></label><input id='data-53ad1d29-fd4a-4952-83cd-aeaca3c22711' class='xr-var-data-in' type='checkbox'><label for='data-53ad1d29-fd4a-4952-83cd-aeaca3c22711' title='Show/Hide data repr'><svg class='icon xr-icon-database'><use xlink:href='#icon-database'></use></svg></label><div class='xr-var-attrs'><dl class='xr-attrs'></dl></div><div class='xr-var-data'><pre>array([[0.0001, 0.0001, 0.0001, 0.0001],\n",
       "       [0.0001, 0.0001, 0.0001, 0.0001],\n",
       "       [0.0001, 0.0001, 0.0001, 0.0001],\n",
       "       [0.0001, 0.0001, 0.0001, 0.0001],\n",
       "       [0.0001, 0.0001, 0.0001, 0.0001],\n",
       "       [0.0001, 0.0001, 0.0001, 0.0001],\n",
       "       [0.0001, 0.0001, 0.0001, 0.0001],\n",
       "       [0.0001, 0.0001, 0.0001, 0.0001],\n",
       "       [0.0001, 0.0001, 0.0001, 0.0001],\n",
       "       [0.0001, 0.0001, 0.0001, 0.0001],\n",
       "       [0.0001, 0.0001, 0.0001, 0.0001],\n",
       "       [0.0001, 0.0001, 0.0001, 0.0001],\n",
       "       [0.0001, 0.0001, 0.0001, 0.0001],\n",
       "       [0.0001, 0.0001, 0.0001, 0.0001],\n",
       "       [0.0001, 0.0001, 0.0001, 0.0001],\n",
       "       [0.0001, 0.0001, 0.0001, 0.0001],\n",
       "       [0.0001, 0.0001, 0.0001, 0.0001],\n",
       "       [0.0001, 0.0001, 0.0001, 0.0001],\n",
       "       [0.0001, 0.0001, 0.0001, 0.0001],\n",
       "       [0.0001, 0.0001, 0.0001, 0.0001],\n",
       "       [0.0001, 0.0001, 0.0001, 0.0001],\n",
       "       [0.0001, 0.0001, 0.0001, 0.0001],\n",
       "       [0.0001, 0.0001, 0.0001, 0.0001],\n",
       "       [0.0001, 0.0001, 0.0001, 0.0001],\n",
       "       [0.0001, 0.0001, 0.0001, 0.0001],\n",
       "       [0.0001, 0.0001, 0.0001, 0.0001],\n",
       "       [0.0001, 0.0001, 0.0001, 0.0001],\n",
       "       [0.0001, 0.0001, 0.0001, 0.0001],\n",
       "       [0.0001, 0.0001, 0.0001, 0.0001],\n",
       "       [0.0001, 0.0001, 0.0001, 0.0001],\n",
       "       [0.0001, 0.0001, 0.0001, 0.0001],\n",
       "       [0.0001, 0.0001, 0.0001, 0.0001],\n",
       "       [0.0001, 0.0001, 0.0001, 0.0001],\n",
       "       [0.0001, 0.0001, 0.0001, 0.0001]])</pre></div></li><li class='xr-var-item'><div class='xr-var-name'><span>ws</span></div><div class='xr-var-dims'>(i, j)</div><div class='xr-var-dtype'>float64</div><div class='xr-var-preview xr-preview'>1.576 1.576 1.576 ... 1.576 1.576</div><input id='attrs-bb321c3e-a7b6-494b-993c-ccfd37d4a32e' class='xr-var-attrs-in' type='checkbox' disabled><label for='attrs-bb321c3e-a7b6-494b-993c-ccfd37d4a32e' title='Show/Hide attributes'><svg class='icon xr-icon-file-text2'><use xlink:href='#icon-file-text2'></use></svg></label><input id='data-d134a3cb-592c-43b0-9935-e09854df9ffe' class='xr-var-data-in' type='checkbox'><label for='data-d134a3cb-592c-43b0-9935-e09854df9ffe' title='Show/Hide data repr'><svg class='icon xr-icon-database'><use xlink:href='#icon-database'></use></svg></label><div class='xr-var-attrs'><dl class='xr-attrs'></dl></div><div class='xr-var-data'><pre>array([[1.57587268, 1.57587193, 1.57587119, 1.57587045],\n",
       "       [1.5758723 , 1.57587156, 1.57587081, 1.57587007],\n",
       "       [1.57587192, 1.57587118, 1.57587044, 1.57586969],\n",
       "       [1.57587154, 1.5758708 , 1.57587006, 1.57586932],\n",
       "       [1.57587117, 1.57587042, 1.57586968, 1.57586894],\n",
       "       [1.57587079, 1.57587005, 1.5758693 , 1.57586856],\n",
       "       [1.57587041, 1.57586967, 1.57586893, 1.57586819],\n",
       "       [1.57587003, 1.57586929, 1.57586855, 1.57586781],\n",
       "       [1.57586966, 1.57586892, 1.57586817, 1.57586743],\n",
       "       [1.57586928, 1.57586854, 1.5758678 , 1.57586705],\n",
       "       [1.5758689 , 1.57586816, 1.57586742, 1.57586668],\n",
       "       [1.57586853, 1.57586778, 1.57586704, 1.5758663 ],\n",
       "       [1.57586815, 1.57586741, 1.57586666, 1.57586592],\n",
       "       [1.57586777, 1.57586703, 1.57586629, 1.57586555],\n",
       "       [1.57586739, 1.57586665, 1.57586591, 1.57586517],\n",
       "       [1.57586702, 1.57586628, 1.57586553, 1.57586479],\n",
       "       [1.57586664, 1.5758659 , 1.57586516, 1.57586441],\n",
       "       [1.57586626, 1.57586552, 1.57586478, 1.57586404],\n",
       "       [1.57586589, 1.57586514, 1.5758644 , 1.57586366],\n",
       "       [1.57586551, 1.57586477, 1.57586403, 1.57586328],\n",
       "       [1.57586513, 1.57586439, 1.57586365, 1.57586291],\n",
       "       [1.57586476, 1.57586401, 1.57586327, 1.57586253],\n",
       "       [1.57586438, 1.57586364, 1.57586289, 1.57586215],\n",
       "       [1.575864  , 1.57586326, 1.57586252, 1.57586177],\n",
       "       [1.57586362, 1.57586288, 1.57586214, 1.5758614 ],\n",
       "       [1.57586325, 1.5758625 , 1.57586176, 1.57586102],\n",
       "       [1.57586287, 1.57586213, 1.57586139, 1.57586064],\n",
       "       [1.57586249, 1.57586175, 1.57586101, 1.57586027],\n",
       "       [1.57586212, 1.57586137, 1.57586063, 1.57585989],\n",
       "       [1.57586174, 1.575861  , 1.57586025, 1.57585951],\n",
       "       [1.57586136, 1.57586062, 1.57585988, 1.57585914],\n",
       "       [1.57586098, 1.57586024, 1.5758595 , 1.57585876],\n",
       "       [1.57586061, 1.57585987, 1.57585912, 1.57585838],\n",
       "       [1.57586023, 1.57585949, 1.57585875, 1.575858  ]])</pre></div></li><li class='xr-var-item'><div class='xr-var-name'><span>wd</span></div><div class='xr-var-dims'>(i, j)</div><div class='xr-var-dtype'>float64</div><div class='xr-var-preview xr-preview'>83.49 83.49 83.49 ... 83.49 83.49</div><input id='attrs-10e654be-5346-4e40-ae4b-5dd6e2371477' class='xr-var-attrs-in' type='checkbox' disabled><label for='attrs-10e654be-5346-4e40-ae4b-5dd6e2371477' title='Show/Hide attributes'><svg class='icon xr-icon-file-text2'><use xlink:href='#icon-file-text2'></use></svg></label><input id='data-4609c1ee-9e99-4568-ad84-c3dfb90aa812' class='xr-var-data-in' type='checkbox'><label for='data-4609c1ee-9e99-4568-ad84-c3dfb90aa812' title='Show/Hide data repr'><svg class='icon xr-icon-database'><use xlink:href='#icon-database'></use></svg></label><div class='xr-var-attrs'><dl class='xr-attrs'></dl></div><div class='xr-var-data'><pre>array([[83.4865854 , 83.48660427, 83.48662313, 83.48664199],\n",
       "       [83.48659832, 83.48661718, 83.48663604, 83.4866549 ],\n",
       "       [83.48661123, 83.48663009, 83.48664895, 83.48666782],\n",
       "       [83.48662414, 83.486643  , 83.48666186, 83.48668073],\n",
       "       [83.48663705, 83.48665591, 83.48667478, 83.48669364],\n",
       "       [83.48664996, 83.48666882, 83.48668769, 83.48670655],\n",
       "       [83.48666287, 83.48668173, 83.4867006 , 83.48671946],\n",
       "       [83.48667578, 83.48669464, 83.48671351, 83.48673237],\n",
       "       [83.48668869, 83.48670755, 83.48672642, 83.48674528],\n",
       "       [83.4867016 , 83.48672047, 83.48673933, 83.48675819],\n",
       "       [83.48671451, 83.48673338, 83.48675224, 83.4867711 ],\n",
       "       [83.48672742, 83.48674628, 83.48676515, 83.48678401],\n",
       "       [83.48674033, 83.48675919, 83.48677806, 83.48679692],\n",
       "       [83.48675324, 83.4867721 , 83.48679097, 83.48680983],\n",
       "       [83.48676615, 83.48678501, 83.48680388, 83.48682274],\n",
       "       [83.48677906, 83.48679792, 83.48681678, 83.48683565],\n",
       "       [83.48679197, 83.48681083, 83.48682969, 83.48684856],\n",
       "       [83.48680488, 83.48682374, 83.4868426 , 83.48686146],\n",
       "       [83.48681779, 83.48683665, 83.48685551, 83.48687437],\n",
       "       [83.48683069, 83.48684956, 83.48686842, 83.48688728],\n",
       "       [83.4868436 , 83.48686246, 83.48688133, 83.48690019],\n",
       "       [83.48685651, 83.48687537, 83.48689423, 83.4869131 ],\n",
       "       [83.48686942, 83.48688828, 83.48690714, 83.486926  ],\n",
       "       [83.48688232, 83.48690119, 83.48692005, 83.48693891],\n",
       "       [83.48689523, 83.48691409, 83.48693296, 83.48695182],\n",
       "       [83.48690814, 83.486927  , 83.48694586, 83.48696472],\n",
       "       [83.48692105, 83.48693991, 83.48695877, 83.48697763],\n",
       "       [83.48693395, 83.48695281, 83.48697168, 83.48699054],\n",
       "       [83.48694686, 83.48696572, 83.48698458, 83.48700344],\n",
       "       [83.48695977, 83.48697863, 83.48699749, 83.48701635],\n",
       "       [83.48697267, 83.48699153, 83.4870104 , 83.48702926],\n",
       "       [83.48698558, 83.48700444, 83.4870233 , 83.48704216],\n",
       "       [83.48699848, 83.48701734, 83.48703621, 83.48705507],\n",
       "       [83.48701139, 83.48703025, 83.48704911, 83.48706797]])</pre></div></li></ul></div></li><li class='xr-section-item'><input id='section-0fb15cd6-3581-410d-ade6-2b392760ee9f' class='xr-section-summary-in' type='checkbox'  ><label for='section-0fb15cd6-3581-410d-ade6-2b392760ee9f' class='xr-section-summary' >Indexes: <span>(2)</span></label><div class='xr-section-inline-details'></div><div class='xr-section-details'><ul class='xr-var-list'><li class='xr-var-item'><div class='xr-index-name'><div>i</div></div><div class='xr-index-preview'>PandasIndex</div><div></div><input id='index-7505ada8-f013-48ca-8dc2-c0a417bfeeb8' class='xr-index-data-in' type='checkbox'/><label for='index-7505ada8-f013-48ca-8dc2-c0a417bfeeb8' title='Show/Hide index repr'><svg class='icon xr-icon-database'><use xlink:href='#icon-database'></use></svg></label><div class='xr-index-data'><pre>PandasIndex(Index([ 0,  1,  2,  3,  4,  5,  6,  7,  8,  9, 10, 11, 12, 13, 14, 15, 16, 17,\n",
       "       18, 19, 20, 21, 22, 23, 24, 25, 26, 27, 28, 29, 30, 31, 32, 33],\n",
       "      dtype=&#x27;int64&#x27;, name=&#x27;i&#x27;))</pre></div></li><li class='xr-var-item'><div class='xr-index-name'><div>j</div></div><div class='xr-index-preview'>PandasIndex</div><div></div><input id='index-e7c6053a-a08f-4df6-8e7d-21301e25558c' class='xr-index-data-in' type='checkbox'/><label for='index-e7c6053a-a08f-4df6-8e7d-21301e25558c' title='Show/Hide index repr'><svg class='icon xr-icon-database'><use xlink:href='#icon-database'></use></svg></label><div class='xr-index-data'><pre>PandasIndex(Index([0, 1, 2, 3], dtype=&#x27;int64&#x27;, name=&#x27;j&#x27;))</pre></div></li></ul></div></li><li class='xr-section-item'><input id='section-ec47da9e-173f-493e-b94a-ba2cf9e6910c' class='xr-section-summary-in' type='checkbox'  checked><label for='section-ec47da9e-173f-493e-b94a-ba2cf9e6910c' class='xr-section-summary' >Attributes: <span>(1)</span></label><div class='xr-section-inline-details'></div><div class='xr-section-details'><dl class='xr-attrs'><dt><span>landcover_description :</span></dt><dd>{}</dd></dl></div></li></ul></div></div>"
      ],
      "text/plain": [
       "<xarray.DataArray (i: 34, j: 4)> Size: 136B\n",
       "array([[0, 0, 0, 0],\n",
       "       [0, 0, 0, 0],\n",
       "       [0, 0, 0, 0],\n",
       "       [0, 0, 0, 0],\n",
       "       [0, 0, 0, 0],\n",
       "       [0, 0, 0, 0],\n",
       "       [0, 0, 0, 0],\n",
       "       [0, 0, 0, 0],\n",
       "       [0, 0, 0, 0],\n",
       "       [0, 0, 0, 0],\n",
       "       [0, 0, 0, 0],\n",
       "       [0, 0, 0, 0],\n",
       "       [0, 0, 0, 0],\n",
       "       [0, 0, 0, 0],\n",
       "       [0, 0, 0, 0],\n",
       "       [0, 0, 0, 0],\n",
       "       [0, 0, 0, 0],\n",
       "       [0, 0, 0, 0],\n",
       "       [0, 0, 0, 0],\n",
       "       [0, 0, 0, 0],\n",
       "       [0, 0, 0, 0],\n",
       "       [0, 0, 0, 0],\n",
       "       [0, 0, 0, 0],\n",
       "       [0, 0, 0, 0],\n",
       "       [0, 0, 0, 0],\n",
       "       [0, 0, 0, 0],\n",
       "       [0, 0, 0, 0],\n",
       "       [0, 0, 0, 0],\n",
       "       [0, 0, 0, 0],\n",
       "       [0, 0, 0, 0],\n",
       "       [0, 0, 0, 0],\n",
       "       [0, 0, 0, 0],\n",
       "       [0, 0, 0, 0],\n",
       "       [0, 0, 0, 0]], dtype=uint8)\n",
       "Coordinates:\n",
       "  * i          (i) int64 272B 0 1 2 3 4 5 6 7 8 9 ... 25 26 27 28 29 30 31 32 33\n",
       "  * j          (j) int64 32B 0 1 2 3\n",
       "    lat        (i, j) float64 1kB 35.75 35.75 35.75 35.75 ... 35.77 35.77 35.77\n",
       "    lon        (i, j) float64 1kB 32.82 32.82 32.82 32.82 ... 32.82 32.82 32.82\n",
       "    landcover  (i, j) uint8 136B 0 0 0 0 0 0 0 0 0 0 0 ... 0 0 0 0 0 0 0 0 0 0 0\n",
       "    dxdy       int64 8B 30\n",
       "    z0         (i, j) float64 1kB 0.0001 0.0001 0.0001 ... 0.0001 0.0001 0.0001\n",
       "    ws         (i, j) float64 1kB 1.576 1.576 1.576 1.576 ... 1.576 1.576 1.576\n",
       "    wd         (i, j) float64 1kB 83.49 83.49 83.49 83.49 ... 83.49 83.49 83.49\n",
       "Attributes:\n",
       "    landcover_description:  {}"
      ]
     },
     "execution_count": 4,
     "metadata": {},
     "output_type": "execute_result"
    }
   ],
   "source": [
    "wind_tk.add_interpolated_ws_wd(xr_dataset,stations_with_data)"
   ]
  },
  {
   "cell_type": "markdown",
   "id": "71d0b7c4-7c1d-4442-a15b-10b7f4e53a4e",
   "metadata": {},
   "source": [
    "Now we have the xarray with two more additionals fields: Wind speed (ws) and direction (wd)."
   ]
  },
  {
   "cell_type": "markdown",
   "id": "25218052-a09c-4162-9f77-15439b1ac1eb",
   "metadata": {},
   "source": [
    "### getWindProfile()  \n",
    "Now, we can create a Dataframe from the xarray and caluclate the wind profile of each cell in each specified height.\n",
    "We do this using **getWindProfile()**. The output will be a dataframe with u and v columns.  \n",
    "Arguments:  \n",
    "- df: Dataframe with columns lon,lat,ws,wd\n",
    "- xarray: Xarray of the region.\n",
    "- height: The Maximum height value to calculate U and V.\n",
    "- dz: Resolution for height axis."
   ]
  },
  {
   "cell_type": "markdown",
   "id": "a0bba5a2-86c1-46ab-a91e-99b9859a15be",
   "metadata": {},
   "source": [
    "Data Frame creation:"
   ]
  },
  {
   "cell_type": "code",
   "execution_count": 7,
   "id": "3daeab62-63fb-4b32-ac5b-febbdf4ff885",
   "metadata": {},
   "outputs": [
    {
     "data": {
      "text/html": [
       "<div>\n",
       "<style scoped>\n",
       "    .dataframe tbody tr th:only-of-type {\n",
       "        vertical-align: middle;\n",
       "    }\n",
       "\n",
       "    .dataframe tbody tr th {\n",
       "        vertical-align: top;\n",
       "    }\n",
       "\n",
       "    .dataframe thead th {\n",
       "        text-align: right;\n",
       "    }\n",
       "</style>\n",
       "<table border=\"1\" class=\"dataframe\">\n",
       "  <thead>\n",
       "    <tr style=\"text-align: right;\">\n",
       "      <th></th>\n",
       "      <th>lon</th>\n",
       "      <th>lat</th>\n",
       "      <th>ws</th>\n",
       "      <th>wd</th>\n",
       "    </tr>\n",
       "  </thead>\n",
       "  <tbody>\n",
       "    <tr>\n",
       "      <th>0</th>\n",
       "      <td>32.817414</td>\n",
       "      <td>35.754845</td>\n",
       "      <td>1.575873</td>\n",
       "      <td>83.486585</td>\n",
       "    </tr>\n",
       "    <tr>\n",
       "      <th>1</th>\n",
       "      <td>32.817684</td>\n",
       "      <td>35.754847</td>\n",
       "      <td>1.575872</td>\n",
       "      <td>83.486604</td>\n",
       "    </tr>\n",
       "    <tr>\n",
       "      <th>2</th>\n",
       "      <td>32.817955</td>\n",
       "      <td>35.754849</td>\n",
       "      <td>1.575871</td>\n",
       "      <td>83.486623</td>\n",
       "    </tr>\n",
       "    <tr>\n",
       "      <th>3</th>\n",
       "      <td>32.818225</td>\n",
       "      <td>35.754850</td>\n",
       "      <td>1.575870</td>\n",
       "      <td>83.486642</td>\n",
       "    </tr>\n",
       "    <tr>\n",
       "      <th>4</th>\n",
       "      <td>32.817413</td>\n",
       "      <td>35.755166</td>\n",
       "      <td>1.575872</td>\n",
       "      <td>83.486598</td>\n",
       "    </tr>\n",
       "    <tr>\n",
       "      <th>...</th>\n",
       "      <td>...</td>\n",
       "      <td>...</td>\n",
       "      <td>...</td>\n",
       "      <td>...</td>\n",
       "    </tr>\n",
       "    <tr>\n",
       "      <th>131</th>\n",
       "      <td>32.818180</td>\n",
       "      <td>35.765101</td>\n",
       "      <td>1.575858</td>\n",
       "      <td>83.487055</td>\n",
       "    </tr>\n",
       "    <tr>\n",
       "      <th>132</th>\n",
       "      <td>32.817367</td>\n",
       "      <td>35.765417</td>\n",
       "      <td>1.575860</td>\n",
       "      <td>83.487011</td>\n",
       "    </tr>\n",
       "    <tr>\n",
       "      <th>133</th>\n",
       "      <td>32.817637</td>\n",
       "      <td>35.765418</td>\n",
       "      <td>1.575859</td>\n",
       "      <td>83.487030</td>\n",
       "    </tr>\n",
       "    <tr>\n",
       "      <th>134</th>\n",
       "      <td>32.817908</td>\n",
       "      <td>35.765420</td>\n",
       "      <td>1.575859</td>\n",
       "      <td>83.487049</td>\n",
       "    </tr>\n",
       "    <tr>\n",
       "      <th>135</th>\n",
       "      <td>32.818178</td>\n",
       "      <td>35.765422</td>\n",
       "      <td>1.575858</td>\n",
       "      <td>83.487068</td>\n",
       "    </tr>\n",
       "  </tbody>\n",
       "</table>\n",
       "<p>136 rows × 4 columns</p>\n",
       "</div>"
      ],
      "text/plain": [
       "           lon        lat        ws         wd\n",
       "0    32.817414  35.754845  1.575873  83.486585\n",
       "1    32.817684  35.754847  1.575872  83.486604\n",
       "2    32.817955  35.754849  1.575871  83.486623\n",
       "3    32.818225  35.754850  1.575870  83.486642\n",
       "4    32.817413  35.755166  1.575872  83.486598\n",
       "..         ...        ...       ...        ...\n",
       "131  32.818180  35.765101  1.575858  83.487055\n",
       "132  32.817367  35.765417  1.575860  83.487011\n",
       "133  32.817637  35.765418  1.575859  83.487030\n",
       "134  32.817908  35.765420  1.575859  83.487049\n",
       "135  32.818178  35.765422  1.575858  83.487068\n",
       "\n",
       "[136 rows x 4 columns]"
      ]
     },
     "execution_count": 7,
     "metadata": {},
     "output_type": "execute_result"
    }
   ],
   "source": [
    "import pandas as pd\n",
    "\n",
    "df = pd.DataFrame()\n",
    "df['lon'] = xr_dataset['lon'].values.flatten()\n",
    "df['lat'] = xr_dataset['lat'].values.flatten()\n",
    "df['ws'] = xr_dataset['ws'].values.flatten()\n",
    "df['wd'] = xr_dataset['wd'].values.flatten()\n",
    "\n",
    "df"
   ]
  },
  {
   "cell_type": "code",
   "execution_count": 8,
   "id": "e4d856f6-d95c-47cb-89bc-1c1f11b6674b",
   "metadata": {},
   "outputs": [
    {
     "name": "stderr",
     "output_type": "stream",
     "text": [
      "/home/salo/development/hera/hera/simulations/windProfile/toolkit.py:53: RuntimeWarning: divide by zero encountered in log\n",
      "  U_star = (wind_speed * KARMAN) / np.log(z / z0)\n",
      "/home/salo/development/hera/hera/simulations/windProfile/toolkit.py:65: RuntimeWarning: divide by zero encountered in log\n",
      "  U_z = (U_star / KARMAN) * np.log(z / z0)\n",
      "/home/salo/development/hera/hera/simulations/windProfile/toolkit.py:65: RuntimeWarning: invalid value encountered in scalar multiply\n",
      "  U_z = (U_star / KARMAN) * np.log(z / z0)\n"
     ]
    },
    {
     "data": {
      "text/html": [
       "<div>\n",
       "<style scoped>\n",
       "    .dataframe tbody tr th:only-of-type {\n",
       "        vertical-align: middle;\n",
       "    }\n",
       "\n",
       "    .dataframe tbody tr th {\n",
       "        vertical-align: top;\n",
       "    }\n",
       "\n",
       "    .dataframe thead th {\n",
       "        text-align: right;\n",
       "    }\n",
       "</style>\n",
       "<table border=\"1\" class=\"dataframe\">\n",
       "  <thead>\n",
       "    <tr style=\"text-align: right;\">\n",
       "      <th></th>\n",
       "      <th>lat</th>\n",
       "      <th>lon</th>\n",
       "      <th>height</th>\n",
       "      <th>u</th>\n",
       "      <th>v</th>\n",
       "      <th>U_z</th>\n",
       "      <th>direction</th>\n",
       "    </tr>\n",
       "  </thead>\n",
       "  <tbody>\n",
       "    <tr>\n",
       "      <th>0</th>\n",
       "      <td>35.754845</td>\n",
       "      <td>32.817414</td>\n",
       "      <td>0</td>\n",
       "      <td>NaN</td>\n",
       "      <td>NaN</td>\n",
       "      <td>NaN</td>\n",
       "      <td>83.486585</td>\n",
       "    </tr>\n",
       "    <tr>\n",
       "      <th>1</th>\n",
       "      <td>35.754845</td>\n",
       "      <td>32.817414</td>\n",
       "      <td>5</td>\n",
       "      <td>-1.565701</td>\n",
       "      <td>-0.178760</td>\n",
       "      <td>1.575873</td>\n",
       "      <td>83.486585</td>\n",
       "    </tr>\n",
       "    <tr>\n",
       "      <th>2</th>\n",
       "      <td>35.754845</td>\n",
       "      <td>32.817414</td>\n",
       "      <td>10</td>\n",
       "      <td>-1.565701</td>\n",
       "      <td>-0.178760</td>\n",
       "      <td>1.575873</td>\n",
       "      <td>83.486585</td>\n",
       "    </tr>\n",
       "    <tr>\n",
       "      <th>3</th>\n",
       "      <td>35.754845</td>\n",
       "      <td>32.817414</td>\n",
       "      <td>15</td>\n",
       "      <td>-1.565701</td>\n",
       "      <td>-0.178760</td>\n",
       "      <td>1.575873</td>\n",
       "      <td>83.486585</td>\n",
       "    </tr>\n",
       "    <tr>\n",
       "      <th>4</th>\n",
       "      <td>35.754845</td>\n",
       "      <td>32.817414</td>\n",
       "      <td>20</td>\n",
       "      <td>-1.565701</td>\n",
       "      <td>-0.178760</td>\n",
       "      <td>1.575873</td>\n",
       "      <td>83.486585</td>\n",
       "    </tr>\n",
       "    <tr>\n",
       "      <th>...</th>\n",
       "      <td>...</td>\n",
       "      <td>...</td>\n",
       "      <td>...</td>\n",
       "      <td>...</td>\n",
       "      <td>...</td>\n",
       "      <td>...</td>\n",
       "      <td>...</td>\n",
       "    </tr>\n",
       "    <tr>\n",
       "      <th>947</th>\n",
       "      <td>35.765422</td>\n",
       "      <td>32.818178</td>\n",
       "      <td>10</td>\n",
       "      <td>-1.565688</td>\n",
       "      <td>-0.178746</td>\n",
       "      <td>1.575858</td>\n",
       "      <td>83.487068</td>\n",
       "    </tr>\n",
       "    <tr>\n",
       "      <th>948</th>\n",
       "      <td>35.765422</td>\n",
       "      <td>32.818178</td>\n",
       "      <td>15</td>\n",
       "      <td>-1.565688</td>\n",
       "      <td>-0.178746</td>\n",
       "      <td>1.575858</td>\n",
       "      <td>83.487068</td>\n",
       "    </tr>\n",
       "    <tr>\n",
       "      <th>949</th>\n",
       "      <td>35.765422</td>\n",
       "      <td>32.818178</td>\n",
       "      <td>20</td>\n",
       "      <td>-1.565688</td>\n",
       "      <td>-0.178746</td>\n",
       "      <td>1.575858</td>\n",
       "      <td>83.487068</td>\n",
       "    </tr>\n",
       "    <tr>\n",
       "      <th>950</th>\n",
       "      <td>35.765422</td>\n",
       "      <td>32.818178</td>\n",
       "      <td>25</td>\n",
       "      <td>-1.565688</td>\n",
       "      <td>-0.178746</td>\n",
       "      <td>1.575858</td>\n",
       "      <td>83.487068</td>\n",
       "    </tr>\n",
       "    <tr>\n",
       "      <th>951</th>\n",
       "      <td>35.765422</td>\n",
       "      <td>32.818178</td>\n",
       "      <td>30</td>\n",
       "      <td>-1.565688</td>\n",
       "      <td>-0.178746</td>\n",
       "      <td>1.575858</td>\n",
       "      <td>83.487068</td>\n",
       "    </tr>\n",
       "  </tbody>\n",
       "</table>\n",
       "<p>952 rows × 7 columns</p>\n",
       "</div>"
      ],
      "text/plain": [
       "           lat        lon  height         u         v       U_z  direction\n",
       "0    35.754845  32.817414       0       NaN       NaN       NaN  83.486585\n",
       "1    35.754845  32.817414       5 -1.565701 -0.178760  1.575873  83.486585\n",
       "2    35.754845  32.817414      10 -1.565701 -0.178760  1.575873  83.486585\n",
       "3    35.754845  32.817414      15 -1.565701 -0.178760  1.575873  83.486585\n",
       "4    35.754845  32.817414      20 -1.565701 -0.178760  1.575873  83.486585\n",
       "..         ...        ...     ...       ...       ...       ...        ...\n",
       "947  35.765422  32.818178      10 -1.565688 -0.178746  1.575858  83.487068\n",
       "948  35.765422  32.818178      15 -1.565688 -0.178746  1.575858  83.487068\n",
       "949  35.765422  32.818178      20 -1.565688 -0.178746  1.575858  83.487068\n",
       "950  35.765422  32.818178      25 -1.565688 -0.178746  1.575858  83.487068\n",
       "951  35.765422  32.818178      30 -1.565688 -0.178746  1.575858  83.487068\n",
       "\n",
       "[952 rows x 7 columns]"
      ]
     },
     "execution_count": 8,
     "metadata": {},
     "output_type": "execute_result"
    }
   ],
   "source": [
    "wind_tk.getWindProfile(df,xr_dataset,30,5)"
   ]
  },
  {
   "cell_type": "markdown",
   "id": "48c66301-36be-4819-9896-6510de110e88",
   "metadata": {},
   "source": [
    "Now, for each lon lat in the mesh, we have the U and V for each Z we specified."
   ]
  }
 ],
 "metadata": {
  "kernelspec": {
   "display_name": "Python 3 (ipykernel)",
   "language": "python",
   "name": "python3"
  },
  "language_info": {
   "codemirror_mode": {
    "name": "ipython",
    "version": 3
   },
   "file_extension": ".py",
   "mimetype": "text/x-python",
   "name": "python",
   "nbconvert_exporter": "python",
   "pygments_lexer": "ipython3",
   "version": "3.11.6"
  }
 },
 "nbformat": 4,
 "nbformat_minor": 5
}
