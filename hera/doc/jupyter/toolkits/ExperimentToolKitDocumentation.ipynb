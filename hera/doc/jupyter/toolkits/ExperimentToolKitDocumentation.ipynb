{
 "cells": [
  {
   "cell_type": "markdown",
   "id": "a80ce7d2-e80c-48f2-ab7a-96e31d8fb5e7",
   "metadata": {},
   "source": [
    "# Experiment Documendation"
   ]
  },
  {
   "cell_type": "markdown",
   "id": "3b5320ac-0bbb-45ba-bc71-35b63f9aebb7",
   "metadata": {},
   "source": [
    "This notebook is a user's guide to everything related to conducting experiments.  \n",
    "The notebook includes a general guide to all actions related to the experiment using an example for demonstration. "
   ]
  },
  {
   "cell_type": "markdown",
   "id": "0a036e78-b885-476b-bf4c-f19a61a66874",
   "metadata": {},
   "source": [
    "Before we start, you should know that an experiment will be always connected to a certain or several Projects. \n",
    "You can read more about Projects [here](https://github.com/KaplanOpenSource/hera/blob/master/hera/doc/jupyter/datalayer/Project.ipynb).  \n",
    "\n",
    "Given only a zip file containing the metadata of an experiment, you can easily create it and connect it to a project, with a few simple comand lines(CLI) in your environment. \n",
    "\n",
    "## Introduction  \n",
    "### Experiment and Experiment ToolKit\n",
    "An **Experiment** is a simply folder that contains all the files related to an experiment, such as: the data of the devices, the metadata (which devices are in the experiment and etc.), the class of the experiment (will be explained soon) and other files. The **Experiment toolKit** is the interface which you can access that folder and perform actions and manipulations on it simply, and according to your requirements. \n",
    "\n",
    "### Why you should use it  \n",
    "#### Functions are already build for you\n",
    "The experiment toolkit is designed to handle experiments data and metadata inside projects. You can perform various actions with it. Instead of writing the code yourself, the tool already contains all functions you need.  \n",
    "#### Easy access to experiments\n",
    "It is also useful because it does not require you to remember where all experiments folders are. Inside a project, there may be a high number of experiments that you wish to reach, but you may not remember where their paths. The toolKit already holds the paths for you, so you can create as many experiments as you wish, without worrying about remembering their locations."
   ]
  },
  {
   "cell_type": "markdown",
   "id": "42453855-b0be-401e-8564-4048b70a9281",
   "metadata": {},
   "source": [
    "## Step 1 - Creation of an Experiment  "
   ]
  },
  {
   "cell_type": "markdown",
   "id": "e93d85e8-372d-4ab7-b331-5352acacf0ef",
   "metadata": {},
   "source": [
    "Given a zip file which contains the experiment metadata, we can easily create an experiment folder.  \n",
    "We use the 'create' CLI, which looks like that:"
   ]
  },
  {
   "cell_type": "markdown",
   "id": "7f7ef068-172a-4fb9-a8e9-61018cefce68",
   "metadata": {},
   "source": [
    "<p style=\"background:black\">\n",
    "<code style=\"background:black;color:white\">>> hera-experiment create &ltexperiment&gt [--path &ltpath to experiment folder&gt] [--zip &ltzip file&gt]\n",
    "</code>\n",
    "</p>   \n",
    "  \n",
    "Arguments:  \n",
    "- **experiment**: The name of the experiment. Must be defined.\n",
    "- **path**: Path to the experiment directory (Optional). If you don't provide one, it uses the current directory as the experiment folder.\n",
    "- **zip**: Path to the zip containing the metadata of the experiment (Optional). If does not exist, creates an empty experiment (which we can later add a zip to it).\n",
    "\n"
   ]
  },
  {
   "cell_type": "markdown",
   "id": "2d463d6a-9bfb-4e5c-a669-2a819849a3ab",
   "metadata": {},
   "source": [
    "After we use this command, few things will happen inside your experiment folder:  \n",
    "1) A new folder <i>code</i> will be created. Inside it, you can find an empty class with the name of the experiment you provided. This class is meant for you to implement if you wish to write functions related to the experiment you are dealing with. You can also remain it empty. This class is also called the experiment class.\n",
    "2) A new folder <i>data</i> will be created. This folder will contatin the data of the devices related to the experiment.\n",
    "3) A new folder <i>runtimeExperimentData</i> will be created (only when providing a zip file). It will include the zip file you just provided and a configuration file. This directory is out of your use.\n",
    "4) A JSON file will be created, named as \"experimentName\"_repository.json, containing the metadata of the experiment. For example, if you named your experiment as 'Jerusalem_2019', the file will be named Jerusalem_2019_repository.json.  \n",
    "This JSON file is also called **Repository**. It's purpose is to ease us when we want to create or update a certain project.  You can read more about Repositories [here](https://github.com/KaplanOpenSource/hera/blob/master/hera/doc/jupyter/Repository.ipynb).  \n",
    "For now, all you need to know about it is that as soon as you add this file to the repositories list, every new project you will create or update, will contain the metadata inside it (in our case, it will contain the experiment)."
   ]
  },
  {
   "cell_type": "markdown",
   "id": "fdcde2b0-bd6d-45d8-b339-a34738e7b2c0",
   "metadata": {},
   "source": [
    "### Example:  \n",
    "- We have a zip file contating the metadata of an experiment held in Haifa in 2014, with the name <i>HaifaFluxes2014.zip</i>.\n",
    "- We wish to use our curren folder, named as <i>haifaExperiment</i>, as our experiment folder. The folder is empty.\n",
    "-  The zip file containing the metadata is in the path: <i>home/salo/Projects/2024/zip/HaifaFluxes2014.zip</i>.\n",
    "-  We wish to use the name <i>Haifa2014</i> as the experiment name. \n",
    "\n",
    "The CLI will look like that:  \n",
    "\n",
    "<p style=\"background:black\">\n",
    "<code style=\"background:black;color:white\">>> hera-experiment create Haifa2014 --zip home/salo/Projects/2024/experimentToolKit/zip/HaifaFluxes2014.zip\n",
    "</code>\n",
    "</p>   "
   ]
  },
  {
   "cell_type": "markdown",
   "id": "4eb2379f-8527-44b1-9f8d-acb2a01d283b",
   "metadata": {},
   "source": [
    "Now, our folder will look like that:  \n",
    "\n",
    "```\n",
    "haifaExperiment\n",
    "|   Haifa2014_repository.json\n",
    "└───code\n",
    "    │   Haifa2014.py\n",
    "└───data\n",
    "    │\n",
    "└───|runtimeExperimentData\n",
    "    │   Haifa2014.zip\n",
    "    │   Datasources_Configurations.json\n",
    "```"
   ]
  },
  {
   "cell_type": "markdown",
   "id": "eaca7398-3a70-46b3-a4c1-dec1096dc87c",
   "metadata": {},
   "source": [
    "## Step 2 - Add the repository to the repositories list  \n",
    "Now, we only need to add the Repository we just created to the list of repositories, so when we create a project, the experiment will be loaded to it.  \n",
    "\n",
    "We do this with the following CLI:  \n",
    "\n",
    "<p style=\"background:black\">\n",
    "<code style=\"background:black;color:white\">>> hera-project repository add &ltrepository&gt\n",
    "</code>\n",
    "</p>  "
   ]
  },
  {
   "cell_type": "markdown",
   "id": "3ba6bb68-2ce9-4433-8712-0977e2f5b4ab",
   "metadata": {},
   "source": [
    "### Example:  \n",
    "In our example, we will use:\n",
    "<p style=\"background:black\">\n",
    "<code style=\"background:black;color:white\">>> hera-project repository add Haifa2014_repository.json\n",
    "</code>\n",
    "</p>   "
   ]
  },
  {
   "cell_type": "markdown",
   "id": "c04941ce-5f53-4b0a-9d26-1b916c5ea0d6",
   "metadata": {},
   "source": [
    "## Step 3 - Creating the project  \n",
    "As mentioned above, every experiment should be connected to a certain Project if we wish to perform actions on  it. So now, we only need to create a new project and the experiment will be automatically connected the new project.  \n",
    "We do this with:  \n",
    "<p style=\"background:black\">\n",
    "<code style=\"background:black;color:white\">>> hera-project project create &ltprojectName&gt\n",
    "</code>\n",
    "</p>   \n",
    "\n",
    "### Example:\n",
    "If we wish to create a new project with the name 'northProject', we will use:  \n",
    "<p style=\"background:black\">\n",
    "<code style=\"background:black;color:white\">>> hera-project project create northProject\n",
    "</code>\n",
    "</p>   "
   ]
  },
  {
   "cell_type": "markdown",
   "id": "e3266796-92a2-44fb-bcc6-66feae5edb60",
   "metadata": {},
   "source": [
    "Great! Now we have a project with the name 'northProject', with the experiment 'Haifa2014' connected to it.    \n",
    "\n",
    "**Note**: Now, every time you create a new project, the Haifa2014 experiment will be connected to it, as long as the Haifa2014_repository.json is inside the repositories list. You can always remove the JSON from the list however (You can read more about Repositories [here](/hera/doc/jupyter/Repository.ipynb) if you wish.)"
   ]
  },
  {
   "cell_type": "markdown",
   "id": "939c3b8c-c3af-4d4b-bbe8-03f3f7af47d8",
   "metadata": {},
   "source": [
    "## Loading a experiment to an existing\n",
    "If you wish to load an experiment to an existing project (without creating a new one), you should repeat steps 1 & 2 and perform the update CLI as following:\n",
    "\n",
    "<p style=\"background:black\">\n",
    "<code style=\"background:black;color:white\">>> hera-project project update &ltthe project name&gt [--overwrite]\n",
    "</code>\n",
    "</p>   \n",
    "\n",
    "Arguments:  \n",
    "\n",
    "- **projectName**: The name of the Project. Must be defined.\n",
    "- **overwrite**: If is mentioned,  will overwrite the existing project (Optional). Default is False."
   ]
  },
  {
   "cell_type": "markdown",
   "id": "676329ee-870d-412a-a2ef-5b0276261eec",
   "metadata": {},
   "source": [
    "## Other useful CLI  \n",
    "\n",
    "### List  \n",
    "To display the experiment list in a project, you can type the following command:  \n",
    "\n",
    "<p style=\"background:black\">\n",
    "<code style=\"background:black;color:white\">>> hera-experiment list [--projectName &ltthe project name&gt]\n",
    "</code>\n",
    "</p>   \n",
    "Arguments:  \n",
    "\n",
    "- **projectName**: The name of the Project (Optional). If does not exist take from configuration.json in your directory"
   ]
  },
  {
   "cell_type": "markdown",
   "id": "542f65d0-8b36-43d3-8df0-8bd0430a8270",
   "metadata": {},
   "source": [
    "### Table\n",
    "To display the experiments inside a project in a Table, with more details, you can type the  following command:  \n",
    "\n",
    "<p style=\"background:black\">\n",
    "<code style=\"background:black;color:white\">>> hera-experiment table [--projectName &ltthe project name&gt]\n",
    "</code>\n",
    "</p>   \n",
    "Arguments:  \n",
    "\n",
    "- **projectName**: The name of the Project (Optional). If does not exist take from configuration.json in your directory"
   ]
  },
  {
   "cell_type": "markdown",
   "id": "0995774c-f2f9-4567-8a90-a6b0f78ae6de",
   "metadata": {},
   "source": [
    "## Getting the Data  \n",
    "\n",
    "You can display the data of a certain device inside an experiment. For it, you can type the following command:  \n",
    "\n",
    "<p style=\"background:black\">\n",
    "<code style=\"background:black;color:white\">>> hera-experiment data [--projectName &ltthe project name&gt] &ltexperiment&gt &ltdeviceType&gt [--deviceName &ltdevice name&gt] [--perDevice &ltboolean argument&gt]\n",
    "</code>\n",
    "</p>   \n",
    "\n",
    "Arguments:  \n",
    "\n",
    "- **projectName**: The name of the Project (Optional). If does not exist take from configuration.json in your directory\n",
    "- **experiment**: The name of the experiment. Must be defined.\n",
    "- **deviceType**: The name of the device type you wish to display. Must be defined.\n",
    "- **deviceName**: The name of the device you wish to display. Optional. However, if perDevice=True, it must be specified.\n",
    "- **perDevice**: Boolean argument, defining if data is stored perDevice (long experiment or not). If true - device name must be specified."
   ]
  },
  {
   "cell_type": "markdown",
   "id": "f8474c90-915e-4b64-8091-dbebcc710d42",
   "metadata": {},
   "source": [
    "## Experiment ToolKit\n",
    "\n",
    "After we have an experiment connected to a project, we can use Experiment ToolKit in Python.  \n",
    "\n",
    "For doing that, we need to import the **toolkitHome** module and specify the <i>toolkitName</i> argument as **toolkitHome.EXPERIMENT**, just as the following cell. We also need to specify the Project we want to deal with, using the <i>projectName</i> argument. We will use the project we just created above."
   ]
  },
  {
   "cell_type": "code",
   "execution_count": 19,
   "id": "9dea002a-f551-4024-b026-908c37616291",
   "metadata": {},
   "outputs": [],
   "source": [
    "from hera import toolkitHome\n",
    "\n",
    "projectName = 'northProject'\n",
    "experimentToolKit = toolkitHome.getToolkit(toolkitName=toolkitHome.EXPERIMENT, projectName=projectName)"
   ]
  },
  {
   "cell_type": "code",
   "execution_count": 20,
   "id": "7ae3a185-03d8-418b-ac9b-4ac24a49ab55",
   "metadata": {},
   "outputs": [
    {
     "data": {
      "text/plain": [
       "<hera.measurements.experiment.experiment.experimentHome at 0x7069fd625650>"
      ]
     },
     "execution_count": 20,
     "metadata": {},
     "output_type": "execute_result"
    }
   ],
   "source": [
    "experimentToolKit"
   ]
  },
  {
   "cell_type": "markdown",
   "id": "af07cb86-4044-43f7-81fa-0a5cc52e4c1e",
   "metadata": {},
   "source": [
    "### Useful Functions  \n",
    "Using the experimentToolKit, we can perform various useful functions:"
   ]
  },
  {
   "cell_type": "markdown",
   "id": "886c865a-af4e-4280-9cd0-77217620a362",
   "metadata": {},
   "source": [
    "#### List\n",
    "List of all experiments in a project (only names):"
   ]
  },
  {
   "cell_type": "code",
   "execution_count": 21,
   "id": "6b4b5092-57e9-4245-bc86-7354edf5b2d7",
   "metadata": {},
   "outputs": [
    {
     "data": {
      "text/plain": [
       "['Haifa2014']"
      ]
     },
     "execution_count": 21,
     "metadata": {},
     "output_type": "execute_result"
    }
   ],
   "source": [
    "experimentToolKit.keys()"
   ]
  },
  {
   "cell_type": "markdown",
   "id": "c9b28ef1-8c30-4e02-82b6-9a08ea9f46f1",
   "metadata": {},
   "source": [
    "#### Table\n",
    "List of all experiments in a project in Table displaying:"
   ]
  },
  {
   "cell_type": "code",
   "execution_count": 22,
   "id": "dff9d7d8-4688-4ba0-bddc-f56a5875a782",
   "metadata": {},
   "outputs": [
    {
     "data": {
      "text/html": [
       "<div>\n",
       "<style scoped>\n",
       "    .dataframe tbody tr th:only-of-type {\n",
       "        vertical-align: middle;\n",
       "    }\n",
       "\n",
       "    .dataframe tbody tr th {\n",
       "        vertical-align: top;\n",
       "    }\n",
       "\n",
       "    .dataframe thead th {\n",
       "        text-align: right;\n",
       "    }\n",
       "</style>\n",
       "<table border=\"1\" class=\"dataframe\">\n",
       "  <thead>\n",
       "    <tr style=\"text-align: right;\">\n",
       "      <th></th>\n",
       "      <th>dataFormat</th>\n",
       "      <th>resource</th>\n",
       "      <th>experimentPath</th>\n",
       "      <th>toolkit</th>\n",
       "      <th>datasourceName</th>\n",
       "      <th>version</th>\n",
       "    </tr>\n",
       "  </thead>\n",
       "  <tbody>\n",
       "    <tr>\n",
       "      <th>0</th>\n",
       "      <td>parquet</td>\n",
       "      <td>/home/salo/Projects/2024/experimentToolKit/hai...</td>\n",
       "      <td>/home/salo/Projects/2024/experimentToolKit/hai...</td>\n",
       "      <td>experimentToolKit</td>\n",
       "      <td>Haifa2014</td>\n",
       "      <td>[0, 0, 1]</td>\n",
       "    </tr>\n",
       "  </tbody>\n",
       "</table>\n",
       "</div>"
      ],
      "text/plain": [
       "  dataFormat                                           resource  \\\n",
       "0    parquet  /home/salo/Projects/2024/experimentToolKit/hai...   \n",
       "\n",
       "                                      experimentPath            toolkit  \\\n",
       "0  /home/salo/Projects/2024/experimentToolKit/hai...  experimentToolKit   \n",
       "\n",
       "  datasourceName    version  \n",
       "0      Haifa2014  [0, 0, 1]  "
      ]
     },
     "execution_count": 22,
     "metadata": {},
     "output_type": "execute_result"
    }
   ],
   "source": [
    "experimentToolKit.getExperimentsTable()"
   ]
  },
  {
   "cell_type": "markdown",
   "id": "0d5d3d29-3d38-44d3-89a9-7c933fa00117",
   "metadata": {},
   "source": [
    "#### Reaching the Experiment Class\n",
    "You can reach the experiment class you implemented (or not), by specifing the experiment name:"
   ]
  },
  {
   "cell_type": "code",
   "execution_count": 31,
   "id": "9181bd92-e334-4bb8-8ea9-5546efad4a2b",
   "metadata": {},
   "outputs": [
    {
     "data": {
      "text/plain": [
       "<Haifa2014.Haifa2014 at 0x7069fc4d3c90>"
      ]
     },
     "execution_count": 31,
     "metadata": {},
     "output_type": "execute_result"
    }
   ],
   "source": [
    "experimentToolKit.getExperiment('Haifa2014')"
   ]
  },
  {
   "cell_type": "markdown",
   "id": "4c77aed9-57ed-497c-bc49-f22908a913e0",
   "metadata": {},
   "source": [
    "#### Metadata\n",
    "You can reach the metadata of a all experiments in the project:"
   ]
  },
  {
   "cell_type": "code",
   "execution_count": 24,
   "id": "d59e3926-14a7-450f-937e-2cb12711efd0",
   "metadata": {},
   "outputs": [
    {
     "data": {
      "text/plain": [
       "[<Measurements: {\n",
       "    \"_cls\": \"Metadata.Measurements\",\n",
       "    \"projectName\": \"northProject\",\n",
       "    \"desc\": {\n",
       "        \"experimentPath\": \"/home/salo/Projects/2024/experimentToolKit/haifaExperiment\",\n",
       "        \"toolkit\": \"experimentToolKit\",\n",
       "        \"datasourceName\": \"Haifa2014\",\n",
       "        \"version\": [\n",
       "            0,\n",
       "            0,\n",
       "            1\n",
       "        ]\n",
       "    },\n",
       "    \"type\": \"ToolkitDataSource\",\n",
       "    \"resource\": \"/home/salo/Projects/2024/experimentToolKit/haifaExperiment/\",\n",
       "    \"dataFormat\": \"parquet\"\n",
       "}>, <Measurements: {\n",
       "    \"_cls\": \"Metadata.Measurements\",\n",
       "    \"projectName\": \"northProject\",\n",
       "    \"desc\": {\n",
       "        \"deviceType\": \"TRH\",\n",
       "        \"experimentName\": \"Haifa2014\"\n",
       "    },\n",
       "    \"type\": \"Experiment_rawData\",\n",
       "    \"resource\": \"/home/salo/Projects/2024/experimentToolKit/haifaExperiment/data/TRH\",\n",
       "    \"dataFormat\": \"parquet\"\n",
       "}>, <Measurements: {\n",
       "    \"_cls\": \"Metadata.Measurements\",\n",
       "    \"projectName\": \"northProject\",\n",
       "    \"desc\": {\n",
       "        \"deviceType\": \"Sonic\",\n",
       "        \"experimentName\": \"Haifa2014\"\n",
       "    },\n",
       "    \"type\": \"Experiment_rawData\",\n",
       "    \"resource\": \"/home/salo/Projects/2024/experimentToolKit/haifaExperiment/data/Sonic\",\n",
       "    \"dataFormat\": \"parquet\"\n",
       "}>]"
      ]
     },
     "execution_count": 24,
     "metadata": {},
     "output_type": "execute_result"
    }
   ],
   "source": [
    "experimentToolKit.getMeasurementsDocuments()"
   ]
  },
  {
   "cell_type": "markdown",
   "id": "f7e84c91-8f6f-4b97-b712-b1299385fbbb",
   "metadata": {},
   "source": [
    "The first Document (also called DataSource) is the link to the class experiment you implemented. The rest are paths to Parquet files of each device in the experiment."
   ]
  },
  {
   "cell_type": "markdown",
   "id": "a962f0c0-9e0b-4238-870a-14669f862449",
   "metadata": {},
   "source": [
    "#### Getting the Data  \n",
    "Say we have parquet files inside our /data folder in the experiment folder. We can get data of a required device using the following cell:"
   ]
  },
  {
   "cell_type": "code",
   "execution_count": 39,
   "id": "c16b203d-376c-494f-91ee-403521a65d58",
   "metadata": {},
   "outputs": [
    {
     "name": "stderr",
     "output_type": "stream",
     "text": [
      "/home/salo/heraenv/lib/python3.11/site-packages/dask/dataframe/io/parquet/core.py:1241: FutureWarning: The fastparquet engine is deprecated and will be removed in a future release. Please install pyarrow.\n",
      "  warnings.warn(\n"
     ]
    },
    {
     "data": {
      "text/html": [
       "<div><strong>Dask DataFrame Structure:</strong></div>\n",
       "<div>\n",
       "<style scoped>\n",
       "    .dataframe tbody tr th:only-of-type {\n",
       "        vertical-align: middle;\n",
       "    }\n",
       "\n",
       "    .dataframe tbody tr th {\n",
       "        vertical-align: top;\n",
       "    }\n",
       "\n",
       "    .dataframe thead th {\n",
       "        text-align: right;\n",
       "    }\n",
       "</style>\n",
       "<table border=\"1\" class=\"dataframe\">\n",
       "  <thead>\n",
       "    <tr style=\"text-align: right;\">\n",
       "      <th></th>\n",
       "      <th>TIMESTAMP</th>\n",
       "      <th>RECORD</th>\n",
       "      <th>TC_T</th>\n",
       "      <th>TRH</th>\n",
       "      <th>RH</th>\n",
       "    </tr>\n",
       "    <tr>\n",
       "      <th>npartitions=1</th>\n",
       "      <th></th>\n",
       "      <th></th>\n",
       "      <th></th>\n",
       "      <th></th>\n",
       "      <th></th>\n",
       "    </tr>\n",
       "  </thead>\n",
       "  <tbody>\n",
       "    <tr>\n",
       "      <th></th>\n",
       "      <td>string</td>\n",
       "      <td>string</td>\n",
       "      <td>string</td>\n",
       "      <td>string</td>\n",
       "      <td>string</td>\n",
       "    </tr>\n",
       "    <tr>\n",
       "      <th></th>\n",
       "      <td>...</td>\n",
       "      <td>...</td>\n",
       "      <td>...</td>\n",
       "      <td>...</td>\n",
       "      <td>...</td>\n",
       "    </tr>\n",
       "  </tbody>\n",
       "</table>\n",
       "</div>\n",
       "<div>Dask Name: to_pyarrow_string, 3 graph layers</div>"
      ],
      "text/plain": [
       "Dask DataFrame Structure:\n",
       "              TIMESTAMP  RECORD    TC_T     TRH      RH\n",
       "npartitions=1                                          \n",
       "                 string  string  string  string  string\n",
       "                    ...     ...     ...     ...     ...\n",
       "Dask Name: to_pyarrow_string, 3 graph layers"
      ]
     },
     "execution_count": 39,
     "metadata": {},
     "output_type": "execute_result"
    }
   ],
   "source": [
    "haifa2014_class = experimentToolKit.getExperiment('Haifa2014')\n",
    "trh_data = haifa2014_class.getExperimentData().getData('TRH')\n",
    "trh_data"
   ]
  },
  {
   "cell_type": "markdown",
   "id": "2ea51fd8-5182-4c93-bf65-bbfa1756ad1c",
   "metadata": {},
   "source": [
    "We first reach the experiment class, and the use the getExperimentData() and getData() functions. 'TRH' is the device type in this case.  \n",
    "We can display it as a csv dataframe:"
   ]
  },
  {
   "cell_type": "code",
   "execution_count": 40,
   "id": "89befc64-f493-43eb-a68f-19a670c1b139",
   "metadata": {},
   "outputs": [
    {
     "data": {
      "text/html": [
       "<div>\n",
       "<style scoped>\n",
       "    .dataframe tbody tr th:only-of-type {\n",
       "        vertical-align: middle;\n",
       "    }\n",
       "\n",
       "    .dataframe tbody tr th {\n",
       "        vertical-align: top;\n",
       "    }\n",
       "\n",
       "    .dataframe thead th {\n",
       "        text-align: right;\n",
       "    }\n",
       "</style>\n",
       "<table border=\"1\" class=\"dataframe\">\n",
       "  <thead>\n",
       "    <tr style=\"text-align: right;\">\n",
       "      <th></th>\n",
       "      <th>0</th>\n",
       "      <th>1</th>\n",
       "      <th>2</th>\n",
       "      <th>3</th>\n",
       "      <th>4</th>\n",
       "    </tr>\n",
       "  </thead>\n",
       "  <tbody>\n",
       "    <tr>\n",
       "      <th>0</th>\n",
       "      <td>2022-09-18 00:00:00</td>\n",
       "      <td>21710734</td>\n",
       "      <td>20.69</td>\n",
       "      <td>20.00</td>\n",
       "      <td>nan</td>\n",
       "    </tr>\n",
       "    <tr>\n",
       "      <th>1</th>\n",
       "      <td>2022-09-18 00:00:08</td>\n",
       "      <td>21710735</td>\n",
       "      <td>20.73</td>\n",
       "      <td>19.98</td>\n",
       "      <td>nan</td>\n",
       "    </tr>\n",
       "    <tr>\n",
       "      <th>2</th>\n",
       "      <td>2022-09-18 00:00:09</td>\n",
       "      <td>21710736</td>\n",
       "      <td>20.73</td>\n",
       "      <td>19.92</td>\n",
       "      <td>nan</td>\n",
       "    </tr>\n",
       "    <tr>\n",
       "      <th>3</th>\n",
       "      <td>2022-09-18 00:00:10</td>\n",
       "      <td>21710737</td>\n",
       "      <td>20.74</td>\n",
       "      <td>19.92</td>\n",
       "      <td>nan</td>\n",
       "    </tr>\n",
       "    <tr>\n",
       "      <th>4</th>\n",
       "      <td>2022-09-18 00:00:11</td>\n",
       "      <td>21710738</td>\n",
       "      <td>20.74</td>\n",
       "      <td>19.90</td>\n",
       "      <td>nan</td>\n",
       "    </tr>\n",
       "    <tr>\n",
       "      <th>...</th>\n",
       "      <td>...</td>\n",
       "      <td>...</td>\n",
       "      <td>...</td>\n",
       "      <td>...</td>\n",
       "      <td>...</td>\n",
       "    </tr>\n",
       "    <tr>\n",
       "      <th>53988</th>\n",
       "      <td>2022-09-18 14:59:55</td>\n",
       "      <td>21764722</td>\n",
       "      <td>26.61</td>\n",
       "      <td>26.37</td>\n",
       "      <td>nan</td>\n",
       "    </tr>\n",
       "    <tr>\n",
       "      <th>53989</th>\n",
       "      <td>2022-09-18 14:59:56</td>\n",
       "      <td>21764723</td>\n",
       "      <td>26.53</td>\n",
       "      <td>26.35</td>\n",
       "      <td>nan</td>\n",
       "    </tr>\n",
       "    <tr>\n",
       "      <th>53990</th>\n",
       "      <td>2022-09-18 14:59:57</td>\n",
       "      <td>21764724</td>\n",
       "      <td>26.55</td>\n",
       "      <td>26.31</td>\n",
       "      <td>nan</td>\n",
       "    </tr>\n",
       "    <tr>\n",
       "      <th>53991</th>\n",
       "      <td>2022-09-18 14:59:58</td>\n",
       "      <td>21764725</td>\n",
       "      <td>26.54</td>\n",
       "      <td>26.35</td>\n",
       "      <td>nan</td>\n",
       "    </tr>\n",
       "    <tr>\n",
       "      <th>53992</th>\n",
       "      <td>2022-09-18 14:59:59</td>\n",
       "      <td>21764726</td>\n",
       "      <td>26.56</td>\n",
       "      <td>26.38</td>\n",
       "      <td>nan</td>\n",
       "    </tr>\n",
       "  </tbody>\n",
       "</table>\n",
       "<p>53993 rows × 5 columns</p>\n",
       "</div>"
      ],
      "text/plain": [
       "                         0         1      2      3    4\n",
       "0      2022-09-18 00:00:00  21710734  20.69  20.00  nan\n",
       "1      2022-09-18 00:00:08  21710735  20.73  19.98  nan\n",
       "2      2022-09-18 00:00:09  21710736  20.73  19.92  nan\n",
       "3      2022-09-18 00:00:10  21710737  20.74  19.92  nan\n",
       "4      2022-09-18 00:00:11  21710738  20.74  19.90  nan\n",
       "...                    ...       ...    ...    ...  ...\n",
       "53988  2022-09-18 14:59:55  21764722  26.61  26.37  nan\n",
       "53989  2022-09-18 14:59:56  21764723  26.53  26.35  nan\n",
       "53990  2022-09-18 14:59:57  21764724  26.55  26.31  nan\n",
       "53991  2022-09-18 14:59:58  21764725  26.54  26.35  nan\n",
       "53992  2022-09-18 14:59:59  21764726  26.56  26.38  nan\n",
       "\n",
       "[53993 rows x 5 columns]"
      ]
     },
     "execution_count": 40,
     "metadata": {},
     "output_type": "execute_result"
    }
   ],
   "source": [
    "pd.DataFrame(trh_data)"
   ]
  }
 ],
 "metadata": {
  "kernelspec": {
   "display_name": "Python 3 (ipykernel)",
   "language": "python",
   "name": "python3"
  },
  "language_info": {
   "codemirror_mode": {
    "name": "ipython",
    "version": 3
   },
   "file_extension": ".py",
   "mimetype": "text/x-python",
   "name": "python",
   "nbconvert_exporter": "python",
   "pygments_lexer": "ipython3",
   "version": "3.11.6"
  }
 },
 "nbformat": 4,
 "nbformat_minor": 5
}
