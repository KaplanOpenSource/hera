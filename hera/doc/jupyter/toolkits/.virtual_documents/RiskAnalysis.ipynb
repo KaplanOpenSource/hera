














from hera.utils.logging import initialize_logging,with_logger
from hera import toolkitHome
from hera.utils import *
tk = toolkitHome.getToolkit(toolkitName=toolkitHome.SIMULATIONS_OPENFOAM)

initialize_logging(
     with_logger("hera.simulations", handlers=['console'], level='INFO', propagate=False),
     with_logger("hera.simulations.openFoam.lagrangian.StochasticLagrangianSolver.StochasticLagrangianSolver_toolkitExtension.getCaseResults", handlers=['console'], level='DEBUG', propagate=False), # getCaseResults
    with_logger("hera.bin", handlers=['console'], level='ERROR', propagate=False),
    with_logger("hera.utils", handlers=['console'], level='ERROR', propagate=False),
)


dispersionCaseName = "NeutralDispersion_1"





doc = tk.getWorkflowDocumentFromDB(dispersionCaseName)


doc[0].desc['parameters']['Parameters']['endOfInjection']


doc[0].desc['parameters']['Parameters']['dispersionDuration']


wf = tk.getHermesWorkflowFromDB(dispersionCaseName)


wf.dispersionDuration


originalFlowField = tk.stochasticLagrangian.getOriginalFlowDocument(wf)
dispersionFlowField = tk.stochasticLagrangian.getDispersionFlowDocument(wf)


dispersionField = tk.stochasticLagrangian.getDispersionFlowDocument(dispersionCaseName)


originalFlow = tk.stochasticLagrangian.getOriginalFlowDocument(dispersionCaseName)


#mesh = tk.getMesh(originalFlowField.getData())


# lims = tk.stochasticLagrangian.getOriginalFlowFieldExtent("NeutralDispersion_1")
# lims





LagrangianResults = tk.stochasticLagrangian.getCaseResults(dispersionCaseName,withReleaseTimes=True,overwrite=False)


LagrangianResults.compute()


data = tk.stochasticLagrangian.analysis.calcConcentrationFieldFullMesh(dispersionCaseName,dxdydz=10*m,overwrite=True,reReadResults=False)





data


data['C'].sel(z=10).isel(datetime=15).compute().plot()





import matplotlib.pyplot as plt
import numpy as np





meanData = data.resample(datetime = '20s').mean()


maxcon_x = meanData.sel(z=0,y=0, method ='nearest')['C'].max(dim = 'datetime')
x_array = maxcon_x.squeeze().x
f = (maxcon_x.squeeze().values) * (10**6)


f_ppm = f/14.1 # Divide f by the number corresponding to the material type.
fig, ax = plt.subplots(figsize=(9,9))
plt.title(f"Log scale max concentration (20s mean) along the plume centerline", fontsize = 15)
ax_ppm = ax.twinx()
ax.plot(x_array, f, color = 'g')
ax_ppm.plot(x_array, f_ppm, color = 'b')
ax.set_xlabel("X distance [m]")
ax.set_ylabel("Log scale concentration [$mg\cdot m^{-3}$]")
ax_ppm.set_ylabel("Log scale concentration [$PPM$]")
ax.set_yscale("log")
ax_ppm.set_yscale("log")
ax_ppm.tick_params(axis='y', labelsize = 20)
ax.tick_params(axis='x', labelsize = 20)
ax.tick_params(axis='y', labelsize = 20)
ax.set_xlim(-100, 1500)
ax.set_ylim(10**(-3), 10**3)
ax_ppm.set_ylim(10**(-3)/14.1, 10**3/14.1)
ax.minorticks_on()
ax.grid(which='major', color='#DDDDDD', linewidth=1.5)
ax.grid(which='minor', color='#DDDDDD', linewidth=0.5)








cdata = data.sel(z=10).compute()


ra = toolkitHome.getToolkit(toolkitHome.RISKASSESSMENT)


ra.listAgentsNames()


H2S = ra.getAgent("H2S")


CS = H2S.AEGL10min.calculateRegionOfInjured(1e6*data.sel(z=10),"C")


TL = H2S.AEGL10min.calculateToxicLoads(data.sel(z=10),field="C")


TL.max().compute()


TL.plot()



