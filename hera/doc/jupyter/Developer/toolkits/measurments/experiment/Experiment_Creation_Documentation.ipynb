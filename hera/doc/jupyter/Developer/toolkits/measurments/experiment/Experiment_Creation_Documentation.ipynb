{
 "cells": [
  {
   "cell_type": "markdown",
   "id": "a80ce7d2-e80c-48f2-ab7a-96e31d8fb5e7",
   "metadata": {},
   "source": [
    "# Experiment Creation Documendation"
   ]
  },
  {
   "cell_type": "markdown",
   "id": "3b5320ac-0bbb-45ba-bc71-35b63f9aebb7",
   "metadata": {},
   "source": [
    "This notebook is a user's guide to everything related to creating new experiments.  \n",
    "The notebook includes a general guide to all actions related to creating new experiments using an examples for demonstration. "
   ]
  },
  {
   "cell_type": "markdown",
   "id": "0a036e78-b885-476b-bf4c-f19a61a66874",
   "metadata": {},
   "source": [
    "## Introduction  \n",
    "\n",
    "Before we start, you should know that an experiment will be always connected to a certain or several Projects. \n",
    "You can read more about Projects [here](https://github.com/KaplanOpenSource/hera/blob/master/hera/doc/jupyter/datalayer/Project.ipynb).  \n",
    "\n",
    "Given only a zip file containing the metadata of an experiment, you can easily create it and connect it to a project, with a few simple comand lines(CLI) in your environment. \n",
    "  \n",
    "### Experiment and Experiment ToolKit\n",
    "An **Experiment** is a simply folder that contains all the files related to an experiment, such as: the data of the devices, the metadata (which devices are in the experiment and etc.), the class of the experiment (will be explained soon) and other files. The **Experiment toolKit** is the interface which you can access that folder and perform actions and manipulations on it simply, and according to your requirements. \n",
    "\n",
    "### Why you should use it  \n",
    "#### Functions are already build for you\n",
    "The experiment toolkit is designed to handle experiments data and metadata inside projects. You can perform various actions with it. Instead of writing the code yourself, the tool already contains all functions you need.  \n",
    "#### Easy access to experiments\n",
    "It is also useful because it does not require you to remember where all experiments folders are. Inside a project, there may be a high number of experiments that you wish to reach, but you may not remember where their paths. The toolKit already holds the paths for you, so you can create as many experiments as you wish, without worrying about remembering their locations."
   ]
  },
  {
   "cell_type": "markdown",
   "id": "42453855-b0be-401e-8564-4048b70a9281",
   "metadata": {},
   "source": [
    "## Creation of an Experiment  "
   ]
  },
  {
   "cell_type": "markdown",
   "id": "e93d85e8-372d-4ab7-b331-5352acacf0ef",
   "metadata": {},
   "source": [
    "Given a zip file which contains the experiment metadata, we can easily create an experiment folder.  \n",
    "We use the 'create' CLI, which looks like that:"
   ]
  },
  {
   "cell_type": "markdown",
   "id": "7f7ef068-172a-4fb9-a8e9-61018cefce68",
   "metadata": {},
   "source": [
    "<p style=\"background:black\">\n",
    "<code style=\"background:black;color:white\">>> hera-experiment create &ltexperiment&gt [--path &ltpath to experiment folder&gt] [--zip &ltzip file&gt]\n",
    "</code>\n",
    "</p>   \n",
    "  \n",
    "Arguments:  \n",
    "- **experiment**: The name of the experiment. Must be defined.\n",
    "- **path**: Path to the experiment directory (Optional). If you don't provide one, it uses the current directory as the experiment folder.\n",
    "- **zip**: Path to the zip containing the metadata of the experiment (Optional). If does not exist, creates an empty experiment (which we can later add a zip to it).\n",
    "\n"
   ]
  },
  {
   "cell_type": "markdown",
   "id": "2d463d6a-9bfb-4e5c-a669-2a819849a3ab",
   "metadata": {},
   "source": [
    "After we use this command, few things will happen inside your experiment folder:  \n",
    "1) A new folder <i>code</i> will be created. Inside it, you can find an empty class with the name of the experiment you provided. This class is meant for you to implement if you wish to write functions related to the experiment you are dealing with. You can also remain it empty. This class is also called the experiment class.\n",
    "2) A new folder <i>data</i> will be created. This folder will contatin the data of the devices related to the experiment.\n",
    "3) A new folder <i>runtimeExperimentData</i> will be created (only when providing a zip file). It will include the zip file you just provided and a configuration file. This directory is out of your use.\n",
    "4) A JSON file will be created, named as \"experimentName\"_repository.json, containing the metadata of the experiment. For example, if you named your experiment as 'Jerusalem_2019', the file will be named Jerusalem_2019_repository.json.  \n",
    "This JSON file is also called **Repository**. It's purpose is to on ease us when we want to create or update a certain project. Details about using Repositories and Experiments are detailed in the Experiment Usage Documentation."
   ]
  },
  {
   "cell_type": "markdown",
   "id": "fdcde2b0-bd6d-45d8-b339-a34738e7b2c0",
   "metadata": {},
   "source": [
    "### Example:  \n",
    "- We have a zip file contating the metadata of an experiment held in Haifa in 2014, with the name <i>HaifaFluxes2014.zip</i>.\n",
    "- We wish to use our curren folder, named as <i>haifaExperiment</i>, as our experiment folder. The folder is empty.\n",
    "-  The zip file containing the metadata is in the path: <i>user/zip/HaifaFluxes2014.zip</i>.\n",
    "-  We wish to use the name <i>Haifa2014</i> as the experiment name. \n",
    "\n",
    "The CLI will look like that:  \n",
    "\n",
    "<p style=\"background:black\">\n",
    "<code style=\"background:black;color:white\">>> hera-experiment create Haifa2014 --zip user/zip/HaifaFluxes2014.zip\n",
    "</code>\n",
    "</p>   "
   ]
  },
  {
   "cell_type": "markdown",
   "id": "4eb2379f-8527-44b1-9f8d-acb2a01d283b",
   "metadata": {},
   "source": [
    "Now, our folder will look like that:  \n",
    "\n",
    "```\n",
    "haifaExperiment\n",
    "|   Haifa2014_repository.json\n",
    "└───code\n",
    "    │   Haifa2014.py\n",
    "└───data\n",
    "    │\n",
    "└───|runtimeExperimentData\n",
    "    │   Haifa2014.zip\n",
    "    │   Datasources_Configurations.json\n",
    "```"
   ]
  },
  {
   "cell_type": "markdown",
   "id": "f7e84c91-8f6f-4b97-b712-b1299385fbbb",
   "metadata": {},
   "source": [
    "The first Document (also called DataSource) is the link to the class experiment you implemented. The rest are paths to Parquet files of each device in the experiment."
   ]
  }
 ],
 "metadata": {
  "kernelspec": {
   "display_name": "Python 3 (ipykernel)",
   "language": "python",
   "name": "python3"
  },
  "language_info": {
   "codemirror_mode": {
    "name": "ipython",
    "version": 3
   },
   "file_extension": ".py",
   "mimetype": "text/x-python",
   "name": "python",
   "nbconvert_exporter": "python",
   "pygments_lexer": "ipython3",
   "version": "3.11.6"
  }
 },
 "nbformat": 4,
 "nbformat_minor": 5
}
