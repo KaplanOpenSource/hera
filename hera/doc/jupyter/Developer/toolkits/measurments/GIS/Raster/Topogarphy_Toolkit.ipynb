{
 "cells": [
  {
   "cell_type": "markdown",
   "id": "3a2f5205",
   "metadata": {},
   "source": [
    "# 📘 Unit Tests for `TopographyToolkit` in Hera"
   ]
  },
  {
   "cell_type": "markdown",
   "id": "d9fdf351",
   "metadata": {},
   "source": [
    "\n",
    "This notebook documents and explains the `TopographyToolkit` class in the Hera project,\n",
    "as well as how each function is tested using `unittest`.\n",
    "\n",
    "We also include explanations of important concepts such as:\n",
    "- What is an `xarray.Dataset`?\n",
    "- What is WGS84 and ITM?\n",
    "- What is an STL file?\n",
    "\n",
    "---\n"
   ]
  },
  {
   "cell_type": "markdown",
   "id": "182af30f",
   "metadata": {},
   "source": [
    "## 🔶 What is `xarray.Dataset`?"
   ]
  },
  {
   "cell_type": "markdown",
   "id": "61e1cc07",
   "metadata": {},
   "source": [
    "\n",
    "An `xarray.Dataset` is a data structure for multi-dimensional labeled data, built on top of NumPy and Pandas.\n",
    "\n",
    "It is ideal for working with gridded data, like satellite images or elevation maps.\n",
    "It consists of:\n",
    "\n",
    "- **Dimensions**: Named axes, like `i`, `j` for 2D.\n",
    "- **Coordinates**: Data that labels points on axes, like `lat`, `lon`.\n",
    "- **Data Variables**: The actual data values, like `elevation`.\n",
    "\n",
    "Example:\n",
    "```python\n",
    "xr.Dataset({\n",
    "    \"lat\": ([\"i\", \"j\"], [[33.8, 33.8], [33.81, 33.81]]),\n",
    "    \"lon\": ([\"i\", \"j\"], [[35.2, 35.21], [35.2, 35.21]]),\n",
    "    \"elevation\": ([\"i\", \"j\"], [[100, 110], [120, 130]])\n",
    "})\n",
    "```\n"
   ]
  },
  {
   "cell_type": "markdown",
   "id": "df20a43b",
   "metadata": {},
   "source": [
    "## 🗺 What is WGS84 vs ITM?"
   ]
  },
  {
   "cell_type": "markdown",
   "id": "d0e69dbe",
   "metadata": {},
   "source": [
    "\n",
    "- **WGS84 (EPSG:4326)** is the standard GPS coordinate system.\n",
    "  - Units: **degrees** (latitude/longitude)\n",
    "  - Used globally in navigation.\n",
    "\n",
    "- **ITM (EPSG:2039)** is the Israeli Transverse Mercator projection.\n",
    "  - Units: **meters**\n",
    "  - Used for precise local mapping in Israel.\n",
    "\n",
    "The function `convertPointsCRS` helps convert from WGS84 to ITM and vice versa using GeoPandas.\n"
   ]
  },
  {
   "cell_type": "markdown",
   "id": "b41033af",
   "metadata": {},
   "source": [
    "## 🧱 What is an STL File?"
   ]
  },
  {
   "cell_type": "markdown",
   "id": "908b4bf7",
   "metadata": {},
   "source": [
    "\n",
    "STL (STereoLithography) is a file format for representing 3D surfaces.\n",
    "It's widely used for 3D printing.\n",
    "\n",
    "In our context, we use elevation data to generate a 3D surface and export it as `.stl` using the function `createElevationSTL`.\n",
    "\n",
    "The STL file is a text file starting with the keyword `solid`, e.g.:\n",
    "\n",
    "```\n",
    "solid SurfaceName\n",
    "  facet normal ...\n",
    "    outer loop\n",
    "      vertex x y z\n",
    "      ...\n",
    "    endloop\n",
    "  endfacet\n",
    "endsolid SurfaceName\n",
    "```\n"
   ]
  },
  {
   "cell_type": "markdown",
   "id": "c550dcf8",
   "metadata": {},
   "source": [
    "## ✅ Functions and Their Unit Tests"
   ]
  },
  {
   "cell_type": "markdown",
   "id": "a2411b30",
   "metadata": {},
   "source": [
    "### 🔹 `getPointElevation()`"
   ]
  },
  {
   "cell_type": "markdown",
   "id": "664950a4",
   "metadata": {},
   "source": [
    "**What it does:** Returns elevation for a single (lat, lon) point using SRTM data.\n",
    "\n",
    "**How we test it:**"
   ]
  },
  {
   "cell_type": "markdown",
   "id": "051b0e60",
   "metadata": {},
   "source": [
    "- A specific and small region is selected for testing.\n",
    "- If no valid HGT file is found (or data is missing), the test is **skipped** with a clear message.\n",
    "- The output is checked to contain expected fields or structure.\n"
   ]
  },
  {
   "cell_type": "markdown",
   "id": "bce53b02",
   "metadata": {},
   "source": [
    "### 🔹 `getPointListElevation()`"
   ]
  },
  {
   "cell_type": "markdown",
   "id": "cf86daa9",
   "metadata": {},
   "source": [
    "**What it does:** Returns elevation for a list of points in a DataFrame.\n",
    "\n",
    "**How we test it:**"
   ]
  },
  {
   "cell_type": "markdown",
   "id": "4544240f",
   "metadata": {},
   "source": [
    "- A specific and small region is selected for testing.\n",
    "- If no valid HGT file is found (or data is missing), the test is **skipped** with a clear message.\n",
    "- The output is checked to contain expected fields or structure.\n"
   ]
  },
  {
   "cell_type": "markdown",
   "id": "3751b69c",
   "metadata": {},
   "source": [
    "### 🔹 `getElevationOfXarray()`"
   ]
  },
  {
   "cell_type": "markdown",
   "id": "d21d7aaa",
   "metadata": {},
   "source": [
    "**What it does:** Adds elevation data to a 2D xarray grid of lat/lon.\n",
    "\n",
    "**How we test it:**"
   ]
  },
  {
   "cell_type": "markdown",
   "id": "19bdb003",
   "metadata": {},
   "source": [
    "- A specific and small region is selected for testing.\n",
    "- If no valid HGT file is found (or data is missing), the test is **skipped** with a clear message.\n",
    "- The output is checked to contain expected fields or structure.\n"
   ]
  },
  {
   "cell_type": "markdown",
   "id": "02c5a3b6",
   "metadata": {},
   "source": [
    "### 🔹 `getElevation()`"
   ]
  },
  {
   "cell_type": "markdown",
   "id": "6cc8e81e",
   "metadata": {},
   "source": [
    "**What it does:** Creates an elevation map (as xarray) for a bounding box at a specific resolution.\n",
    "\n",
    "**How we test it:**"
   ]
  },
  {
   "cell_type": "markdown",
   "id": "130de7ce",
   "metadata": {},
   "source": [
    "- A specific and small region is selected for testing.\n",
    "- If no valid HGT file is found (or data is missing), the test is **skipped** with a clear message.\n",
    "- The output is checked to contain expected fields or structure.\n"
   ]
  },
  {
   "cell_type": "markdown",
   "id": "a5efc2d6",
   "metadata": {},
   "source": [
    "### 🔹 `convertPointsCRS()`"
   ]
  },
  {
   "cell_type": "markdown",
   "id": "707ffaa4",
   "metadata": {},
   "source": [
    "**What it does:** Converts coordinates between CRSs (e.g. WGS84 ↔ ITM).\n",
    "\n",
    "**How we test it:**"
   ]
  },
  {
   "cell_type": "markdown",
   "id": "f2da118d",
   "metadata": {},
   "source": [
    "- A specific and small region is selected for testing.\n",
    "- If no valid HGT file is found (or data is missing), the test is **skipped** with a clear message.\n",
    "- The output is checked to contain expected fields or structure.\n"
   ]
  },
  {
   "cell_type": "markdown",
   "id": "0f8272e8",
   "metadata": {},
   "source": [
    "### 🔹 `createElevationSTL()`"
   ]
  },
  {
   "cell_type": "markdown",
   "id": "5bb677ba",
   "metadata": {},
   "source": [
    "**What it does:** Creates an STL string representing a 3D surface from elevation.\n",
    "\n",
    "**How we test it:**"
   ]
  },
  {
   "cell_type": "markdown",
   "id": "e234e551",
   "metadata": {},
   "source": [
    "- A specific and small region is selected for testing.\n",
    "- If no valid HGT file is found (or data is missing), the test is **skipped** with a clear message.\n",
    "- The output is checked to contain expected fields or structure.\n"
   ]
  },
  {
   "cell_type": "markdown",
   "id": "27eed8dd",
   "metadata": {},
   "source": [
    "### 🔹 `getElevationSTL()`"
   ]
  },
  {
   "cell_type": "markdown",
   "id": "29d7b71f",
   "metadata": {},
   "source": [
    "**What it does:** Converts xarray Dataset to 3D STL string.\n",
    "\n",
    "**How we test it:**"
   ]
  },
  {
   "cell_type": "markdown",
   "id": "f046f6d3",
   "metadata": {},
   "source": [
    "- A specific and small region is selected for testing.\n",
    "- If no valid HGT file is found (or data is missing), the test is **skipped** with a clear message.\n",
    "- The output is checked to contain expected fields or structure.\n"
   ]
  },
  {
   "cell_type": "markdown",
   "id": "178041e1",
   "metadata": {},
   "source": [
    "### 🔹 `calculateStastics()`"
   ]
  },
  {
   "cell_type": "markdown",
   "id": "31531703",
   "metadata": {},
   "source": [
    "**What it does:** Returns elevation statistics: min, max, mean, std, and area.\n",
    "\n",
    "**How we test it:**"
   ]
  },
  {
   "cell_type": "markdown",
   "id": "d47e001e",
   "metadata": {},
   "source": [
    "- A specific and small region is selected for testing.\n",
    "- If no valid HGT file is found (or data is missing), the test is **skipped** with a clear message.\n",
    "- The output is checked to contain expected fields or structure.\n"
   ]
  },
  {
   "cell_type": "markdown",
   "id": "b1d687b8",
   "metadata": {},
   "source": [
    "---\n",
    "This notebook was generated to document and test the Hera `TopographyToolkit`."
   ]
  }
 ],
 "metadata": {},
 "nbformat": 4,
 "nbformat_minor": 5
}
