{
 "cells": [
  {
   "cell_type": "markdown",
   "id": "a6481400-947b-4bb4-ae4e-873393c33f51",
   "metadata": {},
   "source": [
    "<font size=\"+4\">Building toolkit</font>"
   ]
  },
  {
   "cell_type": "code",
   "execution_count": 1,
   "id": "6a3f32be-e51a-4a75-b238-f975bdb8b4d0",
   "metadata": {},
   "outputs": [],
   "source": [
    "from hera import toolkitHome\n",
    "tk = toolkitHome.getToolkit(toolkitName=toolkitHome.GIS_BUILDINGS)"
   ]
  },
  {
   "cell_type": "code",
   "execution_count": null,
   "id": "f0d007cd-eeff-4fb3-bff7-05b350a500d4",
   "metadata": {},
   "outputs": [],
   "source": []
  }
 ],
 "metadata": {
  "kernelspec": {
   "display_name": "Python 3",
   "language": "python",
   "name": "python3"
  },
  "language_info": {
   "codemirror_mode": {
    "name": "ipython",
    "version": 3
   },
   "file_extension": ".py",
   "mimetype": "text/x-python",
   "name": "python",
   "nbconvert_exporter": "python",
   "pygments_lexer": "ipython3",
   "version": "3.9.13"
  }
 },
 "nbformat": 4,
 "nbformat_minor": 5
}
