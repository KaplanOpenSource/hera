{
 "cells": [
  {
   "cell_type": "code",
   "execution_count": 1,
   "id": "e7868cc3-ca49-4585-bed1-ff5aca90d31c",
   "metadata": {},
   "outputs": [],
   "source": [
    "from hera import toolkitHome\n",
    "from shapely import Point\n",
    "import shapely\n",
    "\n",
    "gis_demography_tk = toolkitHome.getToolkit(toolkitName=toolkitHome.GIS_DEMOGRAPHY)"
   ]
  },
  {
   "cell_type": "code",
   "execution_count": 13,
   "id": "d78d0ada-4294-46f5-b81f-09154acda1c1",
   "metadata": {},
   "outputs": [
    {
     "data": {
      "text/plain": [
       "{'All': 'total_pop',\n",
       " 'Children': 'age_0_14',\n",
       " 'Youth': 'age_15_19',\n",
       " 'YoungAdults': 'age_20_29',\n",
       " 'Adults': 'age_30_64',\n",
       " 'Elderly': 'age_65_up'}"
      ]
     },
     "execution_count": 13,
     "metadata": {},
     "output_type": "execute_result"
    }
   ],
   "source": [
    "gis_demography_tk.populationTypes"
   ]
  },
  {
   "cell_type": "markdown",
   "id": "61c0a1a8-e629-4f97-a4f0-435585292c5c",
   "metadata": {},
   "source": [
    "## calculatePopulationInPolygon  \n",
    "\n",
    "Create some sort of Area:"
   ]
  },
  {
   "cell_type": "code",
   "execution_count": 30,
   "id": "edd4a714-82a3-4005-ae27-75dc86e600a9",
   "metadata": {},
   "outputs": [
    {
     "data": {
      "image/svg+xml": [
       "<svg xmlns=\"http://www.w3.org/2000/svg\" xmlns:xlink=\"http://www.w3.org/1999/xlink\" width=\"300\" height=\"300\" viewBox=\"-755988.0 -756000.0 1512000.0 1512000.0\" preserveAspectRatio=\"xMinYMin meet\"><g transform=\"matrix(1,0,0,-1,0,0.0)\"><path fill-rule=\"evenodd\" fill=\"#66cc99\" stroke=\"#555555\" stroke-width=\"10080.0\" opacity=\"0.6\" d=\"M 700012.0,0.0 L 696641.3086705379,-68611.99823069242 L 686561.6962822613,-136563.22541128978 L 669870.2350125462,-203199.27407812362 L 646727.6727579007,-267878.40265556285 L 617356.8850438485,-329977.7157781983 L 582040.7286117816,-388899.16311372153 L 541119.3173539159,-444075.29891455185 L 494986.7468305833,-494974.7468305832 L 444087.29891455185,-541107.3173539159 L 388911.1631137216,-582028.7286117816 L 329989.71577819844,-617344.8850438484 L 267890.4026555629,-646715.6727579007 L 203211.27407812362,-669858.2350125463 L 136575.22541128984,-686549.6962822613 L 68623.99823069254,-696629.3086705378 L 12.000000000042863,-700000.0 L -68599.99823069245,-696629.3086705379 L -136551.22541128972,-686549.6962822613 L -203187.2740781235,-669858.2350125463 L -267866.4026555628,-646715.6727579007 L -329965.7157781984,-617344.8850438485 L -388887.16311372136,-582028.7286117818 L -444063.29891455173,-541107.317353916 L -494962.7468305832,-494974.7468305833 L -541095.3173539159,-444075.29891455185 L -582016.7286117817,-388899.16311372153 L -617332.8850438484,-329977.7157781985 L -646703.6727579007,-267878.4026555629 L -669846.2350125462,-203199.27407812368 L -686537.6962822613,-136563.22541129 L -696617.3086705378,-68611.99823069258 L -699988.0,-8.572527594031473e-11 L -696617.3086705379,68611.9982306924 L -686537.6962822613,136563.22541128984 L -669846.2350125463,203199.27407812348 L -646703.6727579008,267878.4026555628 L -617332.8850438485,329977.7157781983 L -582016.7286117818,388899.16311372136 L -541095.317353916,444075.2989145517 L -494962.7468305834,494974.7468305832 L -444063.29891455214,541107.3173539157 L -388887.16311372153,582028.7286117816 L -329965.7157781985,617344.8850438484 L -267866.40265556326,646715.6727579006 L -203187.2740781237,669858.2350125462 L -136551.22541129007,686549.6962822612 L -68599.99823069232,696629.3086705379 L 11.999999999871411,700000.0 L 68623.99823069206,696629.3086705379 L 136575.2254112898,686549.6962822613 L 203211.27407812345,669858.2350125463 L 267890.402655563,646715.6727579007 L 329989.7157781983,617344.8850438485 L 388911.1631137213,582028.7286117818 L 444087.2989145519,541107.3173539158 L 494986.74683058314,494974.7468305834 L 541119.3173539157,444075.29891455214 L 582040.7286117816,388899.16311372153 L 617356.8850438484,329977.71577819856 L 646727.6727579006,267878.40265556326 L 669870.2350125462,203199.27407812374 L 686561.6962822612,136563.2254112901 L 696641.3086705379,68611.99823069235 L 700012.0,0.0 z\" /></g></svg>"
      ],
      "text/plain": [
       "<POLYGON ((700012 0, 696641.309 -68611.998, 686561.696 -136563.225, 669870.2...>"
      ]
     },
     "execution_count": 30,
     "metadata": {},
     "output_type": "execute_result"
    }
   ],
   "source": [
    "Point(12.0, 0.0).buffer(700000.0)"
   ]
  },
  {
   "cell_type": "markdown",
   "id": "c978e705-2a03-4de2-bcc4-2949a9b419a2",
   "metadata": {},
   "source": [
    "Apply the function by providing the area and the datasource name:"
   ]
  },
  {
   "cell_type": "code",
   "execution_count": 29,
   "id": "6ada0f5b-9bcd-43ba-8bba-7b93a080c619",
   "metadata": {},
   "outputs": [
    {
     "data": {
      "text/html": [
       "<div>\n",
       "<style scoped>\n",
       "    .dataframe tbody tr th:only-of-type {\n",
       "        vertical-align: middle;\n",
       "    }\n",
       "\n",
       "    .dataframe tbody tr th {\n",
       "        vertical-align: top;\n",
       "    }\n",
       "\n",
       "    .dataframe thead th {\n",
       "        text-align: right;\n",
       "    }\n",
       "</style>\n",
       "<table border=\"1\" class=\"dataframe\">\n",
       "  <thead>\n",
       "    <tr style=\"text-align: right;\">\n",
       "      <th></th>\n",
       "      <th>geometry</th>\n",
       "      <th>areaFraction</th>\n",
       "      <th>total_pop</th>\n",
       "      <th>age_0_14</th>\n",
       "      <th>age_15_19</th>\n",
       "      <th>age_20_29</th>\n",
       "      <th>age_30_64</th>\n",
       "      <th>age_65_up</th>\n",
       "    </tr>\n",
       "  </thead>\n",
       "  <tbody>\n",
       "    <tr>\n",
       "      <th>0</th>\n",
       "      <td>POLYGON ((179567.440 659322.434, 179547.701 65...</td>\n",
       "      <td>1.000000</td>\n",
       "      <td>432.000000</td>\n",
       "      <td>54.000000</td>\n",
       "      <td>203.000000</td>\n",
       "      <td>36.000000</td>\n",
       "      <td>116.000000</td>\n",
       "      <td>24.000000</td>\n",
       "    </tr>\n",
       "    <tr>\n",
       "      <th>1</th>\n",
       "      <td>POLYGON ((189333.144 663960.216, 189340.993 66...</td>\n",
       "      <td>1.000000</td>\n",
       "      <td>292.000000</td>\n",
       "      <td>68.000000</td>\n",
       "      <td>19.000000</td>\n",
       "      <td>27.000000</td>\n",
       "      <td>127.000000</td>\n",
       "      <td>51.000000</td>\n",
       "    </tr>\n",
       "    <tr>\n",
       "      <th>4</th>\n",
       "      <td>POLYGON ((188095.551 673630.081, 188092.844 67...</td>\n",
       "      <td>0.169627</td>\n",
       "      <td>289.214092</td>\n",
       "      <td>74.127014</td>\n",
       "      <td>35.621677</td>\n",
       "      <td>29.854358</td>\n",
       "      <td>111.953842</td>\n",
       "      <td>37.317947</td>\n",
       "    </tr>\n",
       "    <tr>\n",
       "      <th>6</th>\n",
       "      <td>MULTIPOLYGON (((191120.606 672880.501, 191049....</td>\n",
       "      <td>0.200697</td>\n",
       "      <td>49.772895</td>\n",
       "      <td>9.031372</td>\n",
       "      <td>3.010457</td>\n",
       "      <td>6.422309</td>\n",
       "      <td>20.471110</td>\n",
       "      <td>10.837647</td>\n",
       "    </tr>\n",
       "    <tr>\n",
       "      <th>7</th>\n",
       "      <td>POLYGON ((187852.514 664147.237, 187938.552 66...</td>\n",
       "      <td>1.000000</td>\n",
       "      <td>10190.000000</td>\n",
       "      <td>3586.000000</td>\n",
       "      <td>632.000000</td>\n",
       "      <td>744.000000</td>\n",
       "      <td>4179.000000</td>\n",
       "      <td>1047.000000</td>\n",
       "    </tr>\n",
       "    <tr>\n",
       "      <th>...</th>\n",
       "      <td>...</td>\n",
       "      <td>...</td>\n",
       "      <td>...</td>\n",
       "      <td>...</td>\n",
       "      <td>...</td>\n",
       "      <td>...</td>\n",
       "      <td>...</td>\n",
       "      <td>...</td>\n",
       "    </tr>\n",
       "    <tr>\n",
       "      <th>622</th>\n",
       "      <td>POLYGON ((189562.120 673272.348, 189561.880 67...</td>\n",
       "      <td>0.876246</td>\n",
       "      <td>4224.380475</td>\n",
       "      <td>1106.698307</td>\n",
       "      <td>321.582168</td>\n",
       "      <td>506.470009</td>\n",
       "      <td>1798.932403</td>\n",
       "      <td>489.821341</td>\n",
       "    </tr>\n",
       "    <tr>\n",
       "      <th>623</th>\n",
       "      <td>POLYGON ((190387.830 673047.991, 190413.059 67...</td>\n",
       "      <td>0.999790</td>\n",
       "      <td>4832.985601</td>\n",
       "      <td>886.813866</td>\n",
       "      <td>416.912494</td>\n",
       "      <td>788.834431</td>\n",
       "      <td>1953.589959</td>\n",
       "      <td>788.834431</td>\n",
       "    </tr>\n",
       "    <tr>\n",
       "      <th>624</th>\n",
       "      <td>POLYGON ((187697.671 673527.152, 187695.182 67...</td>\n",
       "      <td>1.000000</td>\n",
       "      <td>3360.000000</td>\n",
       "      <td>878.000000</td>\n",
       "      <td>251.000000</td>\n",
       "      <td>361.000000</td>\n",
       "      <td>1335.000000</td>\n",
       "      <td>532.000000</td>\n",
       "    </tr>\n",
       "    <tr>\n",
       "      <th>625</th>\n",
       "      <td>POLYGON ((190857.302 671200.352, 190846.083 67...</td>\n",
       "      <td>1.000000</td>\n",
       "      <td>2074.000000</td>\n",
       "      <td>436.000000</td>\n",
       "      <td>132.000000</td>\n",
       "      <td>229.000000</td>\n",
       "      <td>865.000000</td>\n",
       "      <td>410.000000</td>\n",
       "    </tr>\n",
       "    <tr>\n",
       "      <th>626</th>\n",
       "      <td>POLYGON ((191051.176 671208.238, 191053.650 67...</td>\n",
       "      <td>1.000000</td>\n",
       "      <td>2.000000</td>\n",
       "      <td>0.000000</td>\n",
       "      <td>0.000000</td>\n",
       "      <td>0.000000</td>\n",
       "      <td>1.000000</td>\n",
       "      <td>1.000000</td>\n",
       "    </tr>\n",
       "  </tbody>\n",
       "</table>\n",
       "<p>545 rows × 8 columns</p>\n",
       "</div>"
      ],
      "text/plain": [
       "                                              geometry  areaFraction  \\\n",
       "0    POLYGON ((179567.440 659322.434, 179547.701 65...      1.000000   \n",
       "1    POLYGON ((189333.144 663960.216, 189340.993 66...      1.000000   \n",
       "4    POLYGON ((188095.551 673630.081, 188092.844 67...      0.169627   \n",
       "6    MULTIPOLYGON (((191120.606 672880.501, 191049....      0.200697   \n",
       "7    POLYGON ((187852.514 664147.237, 187938.552 66...      1.000000   \n",
       "..                                                 ...           ...   \n",
       "622  POLYGON ((189562.120 673272.348, 189561.880 67...      0.876246   \n",
       "623  POLYGON ((190387.830 673047.991, 190413.059 67...      0.999790   \n",
       "624  POLYGON ((187697.671 673527.152, 187695.182 67...      1.000000   \n",
       "625  POLYGON ((190857.302 671200.352, 190846.083 67...      1.000000   \n",
       "626  POLYGON ((191051.176 671208.238, 191053.650 67...      1.000000   \n",
       "\n",
       "        total_pop     age_0_14   age_15_19   age_20_29    age_30_64  \\\n",
       "0      432.000000    54.000000  203.000000   36.000000   116.000000   \n",
       "1      292.000000    68.000000   19.000000   27.000000   127.000000   \n",
       "4      289.214092    74.127014   35.621677   29.854358   111.953842   \n",
       "6       49.772895     9.031372    3.010457    6.422309    20.471110   \n",
       "7    10190.000000  3586.000000  632.000000  744.000000  4179.000000   \n",
       "..            ...          ...         ...         ...          ...   \n",
       "622   4224.380475  1106.698307  321.582168  506.470009  1798.932403   \n",
       "623   4832.985601   886.813866  416.912494  788.834431  1953.589959   \n",
       "624   3360.000000   878.000000  251.000000  361.000000  1335.000000   \n",
       "625   2074.000000   436.000000  132.000000  229.000000   865.000000   \n",
       "626      2.000000     0.000000    0.000000    0.000000     1.000000   \n",
       "\n",
       "       age_65_up  \n",
       "0      24.000000  \n",
       "1      51.000000  \n",
       "4      37.317947  \n",
       "6      10.837647  \n",
       "7    1047.000000  \n",
       "..           ...  \n",
       "622   489.821341  \n",
       "623   788.834431  \n",
       "624   532.000000  \n",
       "625   410.000000  \n",
       "626     1.000000  \n",
       "\n",
       "[545 rows x 8 columns]"
      ]
     },
     "execution_count": 29,
     "metadata": {},
     "output_type": "execute_result"
    }
   ],
   "source": [
    "df = gis_demography_tk.analysis.calculatePopulationInPolygon(Point(12.0, 0.0).buffer(700000.0),'lamas')\n",
    "df"
   ]
  },
  {
   "cell_type": "code",
   "execution_count": 32,
   "id": "14611804-36bf-45af-b962-f7c8a9cbf592",
   "metadata": {},
   "outputs": [
    {
     "name": "stderr",
     "output_type": "stream",
     "text": [
      "/home/salo/development/hera/hera/measurements/GIS/vector/demography.py:251: FutureWarning: <class 'geopandas.array.GeometryArray'>._reduce will require a `keepdims` parameter in the future\n",
      "  newData[populationType] = res_intersect_poly.sum()[populationType]\n"
     ]
    },
    {
     "ename": "TypeError",
     "evalue": "'GeometryArray' with dtype geometry does not support reduction 'sum'",
     "output_type": "error",
     "traceback": [
      "\u001b[0;31m---------------------------------------------------------------------------\u001b[0m",
      "\u001b[0;31mTypeError\u001b[0m                                 Traceback (most recent call last)",
      "Cell \u001b[0;32mIn[32], line 1\u001b[0m\n\u001b[0;32m----> 1\u001b[0m \u001b[43mgis_demography_tk\u001b[49m\u001b[38;5;241;43m.\u001b[39;49m\u001b[43manalysis\u001b[49m\u001b[38;5;241;43m.\u001b[39;49m\u001b[43mcreateNewArea\u001b[49m\u001b[43m(\u001b[49m\u001b[43mPoint\u001b[49m\u001b[43m(\u001b[49m\u001b[38;5;241;43m12.0\u001b[39;49m\u001b[43m,\u001b[49m\u001b[43m \u001b[49m\u001b[38;5;241;43m0.0\u001b[39;49m\u001b[43m)\u001b[49m\u001b[38;5;241;43m.\u001b[39;49m\u001b[43mbuffer\u001b[49m\u001b[43m(\u001b[49m\u001b[38;5;241;43m700000.0\u001b[39;49m\u001b[43m)\u001b[49m\u001b[43m,\u001b[49m\u001b[38;5;124;43m'\u001b[39;49m\u001b[38;5;124;43mlamas\u001b[39;49m\u001b[38;5;124;43m'\u001b[39;49m\u001b[43m)\u001b[49m\n",
      "File \u001b[0;32m~/development/hera/hera/measurements/GIS/vector/demography.py:251\u001b[0m, in \u001b[0;36manalysis.createNewArea\u001b[0;34m(self, shapeNameOrData, dataSourceOrData, dataSourceVersion, populationTypes, convex, saveMode, regionName, metadata)\u001b[0m\n\u001b[1;32m    249\u001b[0m \u001b[38;5;28;01mfor\u001b[39;00m populationType \u001b[38;5;129;01min\u001b[39;00m populationTypes:\n\u001b[1;32m    250\u001b[0m     \u001b[38;5;28;01mif\u001b[39;00m populationType \u001b[38;5;129;01min\u001b[39;00m res_intersect_poly:\n\u001b[0;32m--> 251\u001b[0m         newData[populationType] \u001b[38;5;241m=\u001b[39m \u001b[43mres_intersect_poly\u001b[49m\u001b[38;5;241;43m.\u001b[39;49m\u001b[43msum\u001b[49m\u001b[43m(\u001b[49m\u001b[43m)\u001b[49m[populationType]\n\u001b[1;32m    254\u001b[0m doc \u001b[38;5;241m=\u001b[39m \u001b[38;5;28;01mNone\u001b[39;00m\n\u001b[1;32m    255\u001b[0m \u001b[38;5;28;01mif\u001b[39;00m saveMode \u001b[38;5;241m!=\u001b[39m TOOLKIT_SAVEMODE_NOSAVE:\n",
      "File \u001b[0;32m~/heraenv/lib/python3.11/site-packages/pandas/core/frame.py:11657\u001b[0m, in \u001b[0;36mDataFrame.sum\u001b[0;34m(self, axis, skipna, numeric_only, min_count, **kwargs)\u001b[0m\n\u001b[1;32m  11648\u001b[0m \u001b[38;5;129m@doc\u001b[39m(make_doc(\u001b[38;5;124m\"\u001b[39m\u001b[38;5;124msum\u001b[39m\u001b[38;5;124m\"\u001b[39m, ndim\u001b[38;5;241m=\u001b[39m\u001b[38;5;241m2\u001b[39m))\n\u001b[1;32m  11649\u001b[0m \u001b[38;5;28;01mdef\u001b[39;00m \u001b[38;5;21msum\u001b[39m(\n\u001b[1;32m  11650\u001b[0m     \u001b[38;5;28mself\u001b[39m,\n\u001b[0;32m   (...)\u001b[0m\n\u001b[1;32m  11655\u001b[0m     \u001b[38;5;241m*\u001b[39m\u001b[38;5;241m*\u001b[39mkwargs,\n\u001b[1;32m  11656\u001b[0m ):\n\u001b[0;32m> 11657\u001b[0m     result \u001b[38;5;241m=\u001b[39m \u001b[38;5;28;43msuper\u001b[39;49m\u001b[43m(\u001b[49m\u001b[43m)\u001b[49m\u001b[38;5;241;43m.\u001b[39;49m\u001b[43msum\u001b[49m\u001b[43m(\u001b[49m\u001b[43maxis\u001b[49m\u001b[43m,\u001b[49m\u001b[43m \u001b[49m\u001b[43mskipna\u001b[49m\u001b[43m,\u001b[49m\u001b[43m \u001b[49m\u001b[43mnumeric_only\u001b[49m\u001b[43m,\u001b[49m\u001b[43m \u001b[49m\u001b[43mmin_count\u001b[49m\u001b[43m,\u001b[49m\u001b[43m \u001b[49m\u001b[38;5;241;43m*\u001b[39;49m\u001b[38;5;241;43m*\u001b[39;49m\u001b[43mkwargs\u001b[49m\u001b[43m)\u001b[49m\n\u001b[1;32m  11658\u001b[0m     \u001b[38;5;28;01mreturn\u001b[39;00m result\u001b[38;5;241m.\u001b[39m__finalize__(\u001b[38;5;28mself\u001b[39m, method\u001b[38;5;241m=\u001b[39m\u001b[38;5;124m\"\u001b[39m\u001b[38;5;124msum\u001b[39m\u001b[38;5;124m\"\u001b[39m)\n",
      "File \u001b[0;32m~/heraenv/lib/python3.11/site-packages/pandas/core/generic.py:12503\u001b[0m, in \u001b[0;36mNDFrame.sum\u001b[0;34m(self, axis, skipna, numeric_only, min_count, **kwargs)\u001b[0m\n\u001b[1;32m  12495\u001b[0m \u001b[38;5;28;01mdef\u001b[39;00m \u001b[38;5;21msum\u001b[39m(\n\u001b[1;32m  12496\u001b[0m     \u001b[38;5;28mself\u001b[39m,\n\u001b[1;32m  12497\u001b[0m     axis: Axis \u001b[38;5;241m|\u001b[39m \u001b[38;5;28;01mNone\u001b[39;00m \u001b[38;5;241m=\u001b[39m \u001b[38;5;241m0\u001b[39m,\n\u001b[0;32m   (...)\u001b[0m\n\u001b[1;32m  12501\u001b[0m     \u001b[38;5;241m*\u001b[39m\u001b[38;5;241m*\u001b[39mkwargs,\n\u001b[1;32m  12502\u001b[0m ):\n\u001b[0;32m> 12503\u001b[0m     \u001b[38;5;28;01mreturn\u001b[39;00m \u001b[38;5;28;43mself\u001b[39;49m\u001b[38;5;241;43m.\u001b[39;49m\u001b[43m_min_count_stat_function\u001b[49m\u001b[43m(\u001b[49m\n\u001b[1;32m  12504\u001b[0m \u001b[43m        \u001b[49m\u001b[38;5;124;43m\"\u001b[39;49m\u001b[38;5;124;43msum\u001b[39;49m\u001b[38;5;124;43m\"\u001b[39;49m\u001b[43m,\u001b[49m\u001b[43m \u001b[49m\u001b[43mnanops\u001b[49m\u001b[38;5;241;43m.\u001b[39;49m\u001b[43mnansum\u001b[49m\u001b[43m,\u001b[49m\u001b[43m \u001b[49m\u001b[43maxis\u001b[49m\u001b[43m,\u001b[49m\u001b[43m \u001b[49m\u001b[43mskipna\u001b[49m\u001b[43m,\u001b[49m\u001b[43m \u001b[49m\u001b[43mnumeric_only\u001b[49m\u001b[43m,\u001b[49m\u001b[43m \u001b[49m\u001b[43mmin_count\u001b[49m\u001b[43m,\u001b[49m\u001b[43m \u001b[49m\u001b[38;5;241;43m*\u001b[39;49m\u001b[38;5;241;43m*\u001b[39;49m\u001b[43mkwargs\u001b[49m\n\u001b[1;32m  12505\u001b[0m \u001b[43m    \u001b[49m\u001b[43m)\u001b[49m\n",
      "File \u001b[0;32m~/heraenv/lib/python3.11/site-packages/pandas/core/generic.py:12486\u001b[0m, in \u001b[0;36mNDFrame._min_count_stat_function\u001b[0;34m(self, name, func, axis, skipna, numeric_only, min_count, **kwargs)\u001b[0m\n\u001b[1;32m  12483\u001b[0m \u001b[38;5;28;01melif\u001b[39;00m axis \u001b[38;5;129;01mis\u001b[39;00m lib\u001b[38;5;241m.\u001b[39mno_default:\n\u001b[1;32m  12484\u001b[0m     axis \u001b[38;5;241m=\u001b[39m \u001b[38;5;241m0\u001b[39m\n\u001b[0;32m> 12486\u001b[0m \u001b[38;5;28;01mreturn\u001b[39;00m \u001b[38;5;28;43mself\u001b[39;49m\u001b[38;5;241;43m.\u001b[39;49m\u001b[43m_reduce\u001b[49m\u001b[43m(\u001b[49m\n\u001b[1;32m  12487\u001b[0m \u001b[43m    \u001b[49m\u001b[43mfunc\u001b[49m\u001b[43m,\u001b[49m\n\u001b[1;32m  12488\u001b[0m \u001b[43m    \u001b[49m\u001b[43mname\u001b[49m\u001b[38;5;241;43m=\u001b[39;49m\u001b[43mname\u001b[49m\u001b[43m,\u001b[49m\n\u001b[1;32m  12489\u001b[0m \u001b[43m    \u001b[49m\u001b[43maxis\u001b[49m\u001b[38;5;241;43m=\u001b[39;49m\u001b[43maxis\u001b[49m\u001b[43m,\u001b[49m\n\u001b[1;32m  12490\u001b[0m \u001b[43m    \u001b[49m\u001b[43mskipna\u001b[49m\u001b[38;5;241;43m=\u001b[39;49m\u001b[43mskipna\u001b[49m\u001b[43m,\u001b[49m\n\u001b[1;32m  12491\u001b[0m \u001b[43m    \u001b[49m\u001b[43mnumeric_only\u001b[49m\u001b[38;5;241;43m=\u001b[39;49m\u001b[43mnumeric_only\u001b[49m\u001b[43m,\u001b[49m\n\u001b[1;32m  12492\u001b[0m \u001b[43m    \u001b[49m\u001b[43mmin_count\u001b[49m\u001b[38;5;241;43m=\u001b[39;49m\u001b[43mmin_count\u001b[49m\u001b[43m,\u001b[49m\n\u001b[1;32m  12493\u001b[0m \u001b[43m\u001b[49m\u001b[43m)\u001b[49m\n",
      "File \u001b[0;32m~/heraenv/lib/python3.11/site-packages/pandas/core/frame.py:11549\u001b[0m, in \u001b[0;36mDataFrame._reduce\u001b[0;34m(self, op, name, axis, skipna, numeric_only, filter_type, **kwds)\u001b[0m\n\u001b[1;32m  11545\u001b[0m     df \u001b[38;5;241m=\u001b[39m df\u001b[38;5;241m.\u001b[39mT\n\u001b[1;32m  11547\u001b[0m \u001b[38;5;66;03m# After possibly _get_data and transposing, we are now in the\u001b[39;00m\n\u001b[1;32m  11548\u001b[0m \u001b[38;5;66;03m#  simple case where we can use BlockManager.reduce\u001b[39;00m\n\u001b[0;32m> 11549\u001b[0m res \u001b[38;5;241m=\u001b[39m \u001b[43mdf\u001b[49m\u001b[38;5;241;43m.\u001b[39;49m\u001b[43m_mgr\u001b[49m\u001b[38;5;241;43m.\u001b[39;49m\u001b[43mreduce\u001b[49m\u001b[43m(\u001b[49m\u001b[43mblk_func\u001b[49m\u001b[43m)\u001b[49m\n\u001b[1;32m  11550\u001b[0m out \u001b[38;5;241m=\u001b[39m df\u001b[38;5;241m.\u001b[39m_constructor_from_mgr(res, axes\u001b[38;5;241m=\u001b[39mres\u001b[38;5;241m.\u001b[39maxes)\u001b[38;5;241m.\u001b[39miloc[\u001b[38;5;241m0\u001b[39m]\n\u001b[1;32m  11551\u001b[0m \u001b[38;5;28;01mif\u001b[39;00m out_dtype \u001b[38;5;129;01mis\u001b[39;00m \u001b[38;5;129;01mnot\u001b[39;00m \u001b[38;5;28;01mNone\u001b[39;00m \u001b[38;5;129;01mand\u001b[39;00m out\u001b[38;5;241m.\u001b[39mdtype \u001b[38;5;241m!=\u001b[39m \u001b[38;5;124m\"\u001b[39m\u001b[38;5;124mboolean\u001b[39m\u001b[38;5;124m\"\u001b[39m:\n",
      "File \u001b[0;32m~/heraenv/lib/python3.11/site-packages/pandas/core/internals/managers.py:1500\u001b[0m, in \u001b[0;36mBlockManager.reduce\u001b[0;34m(self, func)\u001b[0m\n\u001b[1;32m   1498\u001b[0m res_blocks: \u001b[38;5;28mlist\u001b[39m[Block] \u001b[38;5;241m=\u001b[39m []\n\u001b[1;32m   1499\u001b[0m \u001b[38;5;28;01mfor\u001b[39;00m blk \u001b[38;5;129;01min\u001b[39;00m \u001b[38;5;28mself\u001b[39m\u001b[38;5;241m.\u001b[39mblocks:\n\u001b[0;32m-> 1500\u001b[0m     nbs \u001b[38;5;241m=\u001b[39m \u001b[43mblk\u001b[49m\u001b[38;5;241;43m.\u001b[39;49m\u001b[43mreduce\u001b[49m\u001b[43m(\u001b[49m\u001b[43mfunc\u001b[49m\u001b[43m)\u001b[49m\n\u001b[1;32m   1501\u001b[0m     res_blocks\u001b[38;5;241m.\u001b[39mextend(nbs)\n\u001b[1;32m   1503\u001b[0m index \u001b[38;5;241m=\u001b[39m Index([\u001b[38;5;28;01mNone\u001b[39;00m])  \u001b[38;5;66;03m# placeholder\u001b[39;00m\n",
      "File \u001b[0;32m~/heraenv/lib/python3.11/site-packages/pandas/core/internals/blocks.py:404\u001b[0m, in \u001b[0;36mBlock.reduce\u001b[0;34m(self, func)\u001b[0m\n\u001b[1;32m    398\u001b[0m \u001b[38;5;129m@final\u001b[39m\n\u001b[1;32m    399\u001b[0m \u001b[38;5;28;01mdef\u001b[39;00m \u001b[38;5;21mreduce\u001b[39m(\u001b[38;5;28mself\u001b[39m, func) \u001b[38;5;241m-\u001b[39m\u001b[38;5;241m>\u001b[39m \u001b[38;5;28mlist\u001b[39m[Block]:\n\u001b[1;32m    400\u001b[0m     \u001b[38;5;66;03m# We will apply the function and reshape the result into a single-row\u001b[39;00m\n\u001b[1;32m    401\u001b[0m     \u001b[38;5;66;03m#  Block with the same mgr_locs; squeezing will be done at a higher level\u001b[39;00m\n\u001b[1;32m    402\u001b[0m     \u001b[38;5;28;01massert\u001b[39;00m \u001b[38;5;28mself\u001b[39m\u001b[38;5;241m.\u001b[39mndim \u001b[38;5;241m==\u001b[39m \u001b[38;5;241m2\u001b[39m\n\u001b[0;32m--> 404\u001b[0m     result \u001b[38;5;241m=\u001b[39m \u001b[43mfunc\u001b[49m\u001b[43m(\u001b[49m\u001b[38;5;28;43mself\u001b[39;49m\u001b[38;5;241;43m.\u001b[39;49m\u001b[43mvalues\u001b[49m\u001b[43m)\u001b[49m\n\u001b[1;32m    406\u001b[0m     \u001b[38;5;28;01mif\u001b[39;00m \u001b[38;5;28mself\u001b[39m\u001b[38;5;241m.\u001b[39mvalues\u001b[38;5;241m.\u001b[39mndim \u001b[38;5;241m==\u001b[39m \u001b[38;5;241m1\u001b[39m:\n\u001b[1;32m    407\u001b[0m         res_values \u001b[38;5;241m=\u001b[39m result\n",
      "File \u001b[0;32m~/heraenv/lib/python3.11/site-packages/pandas/core/frame.py:11465\u001b[0m, in \u001b[0;36mDataFrame._reduce.<locals>.blk_func\u001b[0;34m(values, axis)\u001b[0m\n\u001b[1;32m  11458\u001b[0m     \u001b[38;5;28;01melse\u001b[39;00m:\n\u001b[1;32m  11459\u001b[0m         warnings\u001b[38;5;241m.\u001b[39mwarn(\n\u001b[1;32m  11460\u001b[0m             \u001b[38;5;124mf\u001b[39m\u001b[38;5;124m\"\u001b[39m\u001b[38;5;132;01m{\u001b[39;00m\u001b[38;5;28mtype\u001b[39m(values)\u001b[38;5;132;01m}\u001b[39;00m\u001b[38;5;124m._reduce will require a `keepdims` parameter \u001b[39m\u001b[38;5;124m\"\u001b[39m\n\u001b[1;32m  11461\u001b[0m             \u001b[38;5;124m\"\u001b[39m\u001b[38;5;124min the future\u001b[39m\u001b[38;5;124m\"\u001b[39m,\n\u001b[1;32m  11462\u001b[0m             \u001b[38;5;167;01mFutureWarning\u001b[39;00m,\n\u001b[1;32m  11463\u001b[0m             stacklevel\u001b[38;5;241m=\u001b[39mfind_stack_level(),\n\u001b[1;32m  11464\u001b[0m         )\n\u001b[0;32m> 11465\u001b[0m         result \u001b[38;5;241m=\u001b[39m \u001b[43mvalues\u001b[49m\u001b[38;5;241;43m.\u001b[39;49m\u001b[43m_reduce\u001b[49m\u001b[43m(\u001b[49m\u001b[43mname\u001b[49m\u001b[43m,\u001b[49m\u001b[43m \u001b[49m\u001b[43mskipna\u001b[49m\u001b[38;5;241;43m=\u001b[39;49m\u001b[43mskipna\u001b[49m\u001b[43m,\u001b[49m\u001b[43m \u001b[49m\u001b[38;5;241;43m*\u001b[39;49m\u001b[38;5;241;43m*\u001b[39;49m\u001b[43mkwds\u001b[49m\u001b[43m)\u001b[49m\n\u001b[1;32m  11466\u001b[0m         \u001b[38;5;28;01mreturn\u001b[39;00m np\u001b[38;5;241m.\u001b[39marray([result])\n\u001b[1;32m  11467\u001b[0m \u001b[38;5;28;01melse\u001b[39;00m:\n",
      "File \u001b[0;32m~/heraenv/lib/python3.11/site-packages/geopandas/array.py:1467\u001b[0m, in \u001b[0;36mGeometryArray._reduce\u001b[0;34m(self, name, skipna, **kwargs)\u001b[0m\n\u001b[1;32m   1464\u001b[0m \u001b[38;5;28;01mif\u001b[39;00m name \u001b[38;5;241m==\u001b[39m \u001b[38;5;124m\"\u001b[39m\u001b[38;5;124many\u001b[39m\u001b[38;5;124m\"\u001b[39m \u001b[38;5;129;01mor\u001b[39;00m name \u001b[38;5;241m==\u001b[39m \u001b[38;5;124m\"\u001b[39m\u001b[38;5;124mall\u001b[39m\u001b[38;5;124m\"\u001b[39m:\n\u001b[1;32m   1465\u001b[0m     \u001b[38;5;66;03m# TODO(pygeos)\u001b[39;00m\n\u001b[1;32m   1466\u001b[0m     \u001b[38;5;28;01mreturn\u001b[39;00m \u001b[38;5;28mgetattr\u001b[39m(to_shapely(\u001b[38;5;28mself\u001b[39m), name)()\n\u001b[0;32m-> 1467\u001b[0m \u001b[38;5;28;01mraise\u001b[39;00m \u001b[38;5;167;01mTypeError\u001b[39;00m(\n\u001b[1;32m   1468\u001b[0m     \u001b[38;5;124mf\u001b[39m\u001b[38;5;124m\"\u001b[39m\u001b[38;5;124m'\u001b[39m\u001b[38;5;132;01m{\u001b[39;00m\u001b[38;5;28mtype\u001b[39m(\u001b[38;5;28mself\u001b[39m)\u001b[38;5;241m.\u001b[39m\u001b[38;5;18m__name__\u001b[39m\u001b[38;5;132;01m}\u001b[39;00m\u001b[38;5;124m'\u001b[39m\u001b[38;5;124m with dtype \u001b[39m\u001b[38;5;132;01m{\u001b[39;00m\u001b[38;5;28mself\u001b[39m\u001b[38;5;241m.\u001b[39mdtype\u001b[38;5;132;01m}\u001b[39;00m\u001b[38;5;124m \u001b[39m\u001b[38;5;124m\"\u001b[39m\n\u001b[1;32m   1469\u001b[0m     \u001b[38;5;124mf\u001b[39m\u001b[38;5;124m\"\u001b[39m\u001b[38;5;124mdoes not support reduction \u001b[39m\u001b[38;5;124m'\u001b[39m\u001b[38;5;132;01m{\u001b[39;00mname\u001b[38;5;132;01m}\u001b[39;00m\u001b[38;5;124m'\u001b[39m\u001b[38;5;124m\"\u001b[39m\n\u001b[1;32m   1470\u001b[0m )\n",
      "\u001b[0;31mTypeError\u001b[0m: 'GeometryArray' with dtype geometry does not support reduction 'sum'"
     ]
    }
   ],
   "source": [
    "gis_demography_tk.analysis.createNewArea(Point(12.0, 0.0).buffer(700000.0),'lamas')"
   ]
  },
  {
   "cell_type": "code",
   "execution_count": null,
   "id": "b4a1dbac-9edd-42e8-b647-c8f67c86b52b",
   "metadata": {},
   "outputs": [],
   "source": []
  }
 ],
 "metadata": {
  "kernelspec": {
   "display_name": "Python 3 (ipykernel)",
   "language": "python",
   "name": "python3"
  },
  "language_info": {
   "codemirror_mode": {
    "name": "ipython",
    "version": 3
   },
   "file_extension": ".py",
   "mimetype": "text/x-python",
   "name": "python",
   "nbconvert_exporter": "python",
   "pygments_lexer": "ipython3",
   "version": "3.11.6"
  }
 },
 "nbformat": 4,
 "nbformat_minor": 5
}
