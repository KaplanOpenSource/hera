{
 "cells": [
  {
   "cell_type": "markdown",
   "id": "c8146136",
   "metadata": {},
   "source": [
    "# 📊 DemographyToolkit - Unit Test Documentation\n",
    "\n",
    "This notebook explains the purpose and coverage of the unit tests written for the `DemographyToolkit` class in Hera.\n",
    "Each test is described in detail along with the logic of the toolkit methods it verifies.\n"
   ]
  },
  {
   "cell_type": "markdown",
   "id": "d3bfff53",
   "metadata": {},
   "source": [
    "## 🧰 Overview: `DemographyToolkit`\n",
    "\n",
    "The `DemographyToolkit` is responsible for managing demographic data, including loading population shapefiles, analyzing intersections with custom polygons, and saving derived areas.\n",
    "\n",
    "### Core Methods\n",
    "\n",
    "- `loadData(...)`: Loads a shapefile or GeoJSON into the database as a population source.\n",
    "- `createNewArea(...)`: Generates a new area (polygon) and summarizes the intersecting population from a data source.\n",
    "- `calculatePopulationInPolygon(...)`: Calculates fractional population within a specified polygon.\n",
    "- `setDefaultDirectory(...)`: Sets and optionally creates a default directory to save shapefiles.\n"
   ]
  },
  {
   "cell_type": "markdown",
   "id": "24e89148",
   "metadata": {},
   "source": [
    "## ✅ Test: `test_calculatePopulationInPolygon_basic`\n",
    "\n",
    "**Purpose:**  \n",
    "Validates that the function returns a non-empty result for a polygon that intersects existing data.\n",
    "\n",
    "**What it does:**  \n",
    "- Constructs a buffered rectangle around the first polygon.\n",
    "- Calls `calculatePopulationInPolygon` to get population fractions.\n",
    "- Asserts:\n",
    "  - The result is not empty.\n",
    "  - It contains expected columns: `geometry` and `areaFraction`.\n",
    "\n",
    "**Why it matters:**  \n",
    "Ensures the intersection logic and population weight computation work for overlapping geometries.\n"
   ]
  },
  {
   "cell_type": "markdown",
   "id": "aaa984cb",
   "metadata": {},
   "source": [
    "## 🧪 Test: `test_calculatePopulationInPolygon_partial_intersection`\n",
    "\n",
    "**Purpose:**  \n",
    "Checks correctness when a polygon intersects **multiple existing** features only partially.\n",
    "\n",
    "**What it does:**  \n",
    "- Unions two adjacent polygons and creates a buffer around their centroid.\n",
    "- Ensures that multiple overlaps are detected and partial contributions are calculated correctly.\n",
    "\n",
    "**Assertions:**  \n",
    "- Result is non-empty.\n",
    "- At least one intersecting region is returned.\n"
   ]
  },
  {
   "cell_type": "markdown",
   "id": "1298921d",
   "metadata": {},
   "source": [
    "## 🚫 Test: `test_calculatePopulationInPolygon_outside_bounds`\n",
    "\n",
    "**Purpose:**  \n",
    "Verifies that the function behaves correctly when the polygon is **outside the data bounds**.\n",
    "\n",
    "**What it does:**  \n",
    "- Builds a polygon far away from all population data.\n",
    "- Ensures the returned GeoDataFrame is empty.\n",
    "\n",
    "**Why this test is important:**  \n",
    "Prevents false positives or errors on spatial mismatches.\n"
   ]
  },
  {
   "cell_type": "markdown",
   "id": "2ba5bbe4",
   "metadata": {},
   "source": [
    "## 🛑 Test: `test_calculatePopulationInPolygon_invalid_datasource`\n",
    "\n",
    "**Purpose:**  \n",
    "Checks error handling when the data source name does not exist.\n",
    "\n",
    "**What it does:**  \n",
    "- Passes an invalid source name.\n",
    "- Confirms that the code raises a `ValueError`.\n",
    "\n",
    "**Why it's tested:**  \n",
    "Verifies input validation and prevents silent failures.\n"
   ]
  },
  {
   "cell_type": "markdown",
   "id": "2b3bfa3c",
   "metadata": {},
   "source": [
    "## 🧮 Test: `test_createNewArea_simple`\n",
    "\n",
    "**Purpose:**  \n",
    "Tests the creation of a new area and verifies population aggregation.\n",
    "\n",
    "**How it works:**  \n",
    "- Creates a rectangle covering the full extent of the dataset.\n",
    "- Calls `createNewArea` with `TOOLKIT_SAVEMODE_NOSAVE`.\n",
    "- Verifies that:\n",
    "  - The result is a `nonDBMetadataFrame`.\n",
    "  - The geometry and population data are present.\n",
    "  - The total population matches the expected sum.\n",
    "\n",
    "**Key aspect tested:**  \n",
    "Correct aggregation and output structure when creating regions dynamically.\n"
   ]
  },
  {
   "cell_type": "markdown",
   "id": "50a1ddd6",
   "metadata": {},
   "source": [
    "## 📁 Test: `test_setDefaultDirectory_creates_and_sets_path`\n",
    "\n",
    "**Purpose:**  \n",
    "Validates the behavior of setting and creating the default save directory.\n",
    "\n",
    "**What it checks:**  \n",
    "- A temporary folder is created.\n",
    "- The internal attribute `_FilesDirectory` is updated.\n",
    "- The directory exists on the filesystem.\n",
    "\n",
    "**Why important:**  \n",
    "Ensures safe and correct saving of shapefiles when working across systems.\n"
   ]
  },
  {
   "metadata": {},
   "cell_type": "markdown",
   "source": [
    "## ✅ `test_calculatePopulationInPolygon_with_known_values`\n",
    "\n",
    "**Purpose**:\n",
    "To validate `calculatePopulationInPolygon` by comparing against known geometry and population values in a synthetic dataset.\n",
    "\n",
    "**What it verifies**:\n",
    "- That partial overlaps are handled via area fractions.\n",
    "- That population is proportionally scaled.\n",
    "- That the result is within expected numerical range.\n",
    "\n",
    "**Why it's important**:\n",
    "This test simulates real-world usage and ensures area-weighted population interpolation works correctly.\n"
   ],
   "id": "7d6c66010f90ae98"
  },
  {
   "metadata": {
    "ExecuteTime": {
     "end_time": "2025-05-08T06:05:19.723869Z",
     "start_time": "2025-05-08T06:05:19.721812Z"
    }
   },
   "cell_type": "code",
   "source": [
    "def test_calculatePopulationInPolygon_with_known_values(self):\n",
    "    from shapely.geometry import Polygon\n",
    "    import geopandas as gpd\n",
    "\n",
    "    print(\"🚀 Running test_calculatePopulationInPolygon_with_known_values\")\n",
    "\n",
    "    # 🔧 Create synthetic test data\n",
    "    geometry = [\n",
    "        Polygon([(0, 0), (2, 0), (2, 2), (0, 2)]),  # Full overlap\n",
    "        Polygon([(1, 1), (3, 1), (3, 3), (1, 3)]),  # Partial overlap\n",
    "        Polygon([(5, 5), (6, 5), (6, 6), (5, 6)])  # No overlap\n",
    "    ]\n",
    "    total_pop = [1000, 500, 200]\n",
    "    gdf = gpd.GeoDataFrame({'total_pop': total_pop, 'geometry': geometry}, crs=\"EPSG:4326\")\n",
    "\n",
    "    # 🟦 Create polygon that intersects the first two\n",
    "    test_poly = Polygon([(1, 1), (2.5, 1), (2.5, 2.5), (1, 2.5)])\n",
    "\n",
    "    # 🧪 Call function\n",
    "    result = self.toolkit.analysis.calculatePopulationInPolygon(\n",
    "        shapelyPolygon=test_poly,\n",
    "        dataSourceOrData=gdf,\n",
    "        populationTypes=\"total_pop\"\n",
    "    )\n",
    "\n",
    "    # ✅ Validate result\n",
    "    self.assertFalse(result.empty)\n",
    "    total_estimated = result[\"total_pop\"].sum()\n",
    "    print(f\"✅ Total estimated population in polygon: {total_estimated}\")\n",
    "    self.assertGreater(total_estimated, 0)\n",
    "    self.assertLess(total_estimated, 1500)\n"
   ],
   "id": "1b402908bdea3e1f",
   "outputs": [],
   "execution_count": null
  },
  {
   "cell_type": "markdown",
   "id": "37040ebb",
   "metadata": {},
   "source": [
    "## ✅ Summary\n",
    "\n",
    "All tests together ensure:\n",
    "\n",
    "- Polygon-based population analysis is mathematically sound.\n",
    "- Geometry corrections are handled automatically.\n",
    "- Directory handling is OS-safe.\n",
    "- Population data sources are correctly registered and validated.\n",
    "\n",
    "> This unit test suite provides strong functional confidence in `DemographyToolkit` and serves as a base for expanding geospatial capabilities in Hera.\n"
   ]
  }
 ],
 "metadata": {},
 "nbformat": 4,
 "nbformat_minor": 5
}
