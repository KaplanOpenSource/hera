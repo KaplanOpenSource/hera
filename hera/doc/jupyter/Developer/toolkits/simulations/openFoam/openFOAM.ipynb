{
 "cells": [
  {
   "cell_type": "markdown",
   "id": "541504c1-3f3c-47cc-8d2a-9f7be26e8c70",
   "metadata": {
    "tags": []
   },
   "source": [
    "<font size=\"+4\">OpenFOAM toolkit</font>\n",
    "\n",
    "# Introduction\n",
    "\n",
    "The OpenFOAM toolkit helps the user to manage and run openFOAM simulations. \n",
    "The toolkit has sub-toolkits for each solver, to make sure that it is specialized. \n",
    "\n",
    "To see an example of usage and explanation of how work see the documentation of the specific solver. \n",
    "\n",
    "Current supported solvers are: "
   ]
  },
  {
   "cell_type": "markdown",
   "id": "e28f8f69-f2b1-4bf3-889c-91ad55f352e2",
   "metadata": {},
   "source": [
    "<table style=\"font-size: 18px;\">\n",
    "    <tr>\n",
    "        <td><a href=\"simpleFoam.ipynb\">simpleFoam</a></td>\n",
    "        <td>The incompressible steady-state solver</td>\n",
    "    </tr\n",
    "</table>\n"
   ]
  },
  {
   "cell_type": "markdown",
   "id": "1837570f-c584-4baa-b9b4-f792ef6655c0",
   "metadata": {},
   "source": [
    "# Managing templates\n",
    "\n",
    "In this section we will describe the CLI to manage workflow templates in the toolkit. \n",
    "We remind the reader that each workflow template is dedicated to a specific solver. \n",
    "\n",
    "## Listing workflow templates \n",
    "\n",
    "To list the existing templates of a solver use the CLI\n",
    "\n",
    "TBD\n",
    "\n",
    "## Add workflow templates \n",
    "\n",
    "Adds a workflow template to the toolkit. The template can be added to the specific project, \n",
    "or as a repository that will automatically be added to all repositories.\n",
    "\n",
    "TBD\n",
    "\n",
    "## Remove workflow template \n",
    "\n",
    "Remove workflow template from the list. The template can be removed from the specific project, \n",
    "or from the default project (and then it wont be added to new project). \n",
    "\n",
    "## Export as repository \n",
    "\n",
    "This exports the JSON file and the workflow file that can define this workflow as a repository. \n",
    "\n"
   ]
  }
 ],
 "metadata": {
  "kernelspec": {
   "display_name": "Python 3 (ipykernel)",
   "language": "python",
   "name": "python3"
  },
  "language_info": {
   "codemirror_mode": {
    "name": "ipython",
    "version": 3
   },
   "file_extension": ".py",
   "mimetype": "text/x-python",
   "name": "python",
   "nbconvert_exporter": "python",
   "pygments_lexer": "ipython3",
   "version": "3.9.13"
  }
 },
 "nbformat": 4,
 "nbformat_minor": 5
}
