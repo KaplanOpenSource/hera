{
 "cells": [
  {
   "cell_type": "markdown",
   "id": "1a758bab-c317-4240-9357-96ad2b375fe6",
   "metadata": {},
   "source": [
    "# Please Run this Script before Reading the Documentations"
   ]
  },
  {
   "cell_type": "code",
   "execution_count": 18,
   "id": "4594b5d9-dc7f-4e84-ac40-047a0e4a6b0e",
   "metadata": {},
   "outputs": [],
   "source": [
    "from hera.utils.data.toolkit import dataToolkit\n",
    "from hera import Project \n",
    "\n",
    "proj = Project()\n",
    "dtk = dataToolkit()\n",
    "dtk.addRepository(repositoryName='Documentation_Repository',\n",
    "                      repositoryPath='Documentation_Repository.json',\n",
    "                      overwrite=True)\n",
    "dtk.loadAllDatasourcesInAllRepositoriesToProject(projectName=proj.projectName,overwrite=True)"
   ]
  }
 ],
 "metadata": {
  "kernelspec": {
   "display_name": "Python 3 (ipykernel)",
   "language": "python",
   "name": "python3"
  },
  "language_info": {
   "codemirror_mode": {
    "name": "ipython",
    "version": 3
   },
   "file_extension": ".py",
   "mimetype": "text/x-python",
   "name": "python",
   "nbconvert_exporter": "python",
   "pygments_lexer": "ipython3",
   "version": "3.11.6"
  }
 },
 "nbformat": 4,
 "nbformat_minor": 5
}
