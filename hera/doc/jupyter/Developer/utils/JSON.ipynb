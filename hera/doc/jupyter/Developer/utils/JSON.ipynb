{
 "cells": [
  {
   "cell_type": "markdown",
   "id": "982f442b-bd91-4a78-9ac9-9d2f669607b8",
   "metadata": {
    "tags": []
   },
   "source": [
    "# Utils \n",
    "## JSON\n",
    "\n",
    "The JSON utils helps with managing JSON files. It includes the utils:\n",
    "\n",
    "- loadJSON    : Returns a json from file, string, or python object. \n",
    "- ConfigurationToJSON/JSONToConfiguration: converts dict with unum (unit) object (e.g. a configuration file) to unum \n",
    "                                            and vice versa.\n",
    "\n",
    "- convertJSONtoPandas : Converts JSON to pandas dataframe by flattening the path. uses processJSONToPandas as a utility function. \n",
    "- processJSONToPandas : creates dataframe from JSON where the values are int,float, or string and lists. It does not handle dicts/ lists of dicts. \n",
    "                        To do so, use convertJSONtoPandas. \n",
    "- JSONVariations      : Creates a list of variations from a base JSON file. \n",
    "- compareJSON : compares arbitrary number of JSONS and returns a pandas dataframe with the results (not implemented yet). "
   ]
  },
  {
   "cell_type": "markdown",
   "id": "6c1a80f3-c590-475b-850b-79e85787b81d",
   "metadata": {},
   "source": [
    "### loadJSON \n",
    "\n",
    "Loading a json from the dist "
   ]
  },
  {
   "cell_type": "code",
   "execution_count": 1,
   "id": "f5dadfed-60c6-46ae-98a3-565deb23e8b1",
   "metadata": {},
   "outputs": [],
   "source": [
    "from hera.utils.jsonutils import loadJSON"
   ]
  },
  {
   "cell_type": "code",
   "execution_count": 2,
   "id": "19512f87-61e7-4904-8029-01bbea726d9c",
   "metadata": {},
   "outputs": [
    {
     "data": {
      "text/plain": [
       "{'a': 1, 'b': 2}"
      ]
     },
     "execution_count": 2,
     "metadata": {},
     "output_type": "execute_result"
    }
   ],
   "source": [
    "jsonSTR = '{ \"a\" : 1, \"b\" : 2}'\n",
    "loadJSON(jsonSTR)"
   ]
  },
  {
   "cell_type": "markdown",
   "id": "97181e24-8ece-45a9-8d19-ddc4cac70622",
   "metadata": {},
   "source": [
    "### ConfigurationToJSON/JSONToConfiguration\n",
    "\n",
    "The ConfigurationToJSON/JSONToConfiguration converts dict with unum to string and vice versa. This is useful for configuration files. \n",
    "\n"
   ]
  },
  {
   "cell_type": "code",
   "execution_count": 3,
   "id": "8bb0068d-4ab4-48d5-a5f8-98228325d7f4",
   "metadata": {},
   "outputs": [
    {
     "data": {
      "text/plain": [
       "{'a': '5*m', 'b': '1.0*m/s', 'c': ['3*s', '1*s', '2*s']}"
      ]
     },
     "execution_count": 3,
     "metadata": {},
     "output_type": "execute_result"
    }
   ],
   "source": [
    "from unum.units import * \n",
    "from hera.utils.jsonutils import ConfigurationToJSON,JSONToConfiguration\n",
    "\n",
    "configuration = {\n",
    "    'a' : 5*m, \n",
    "    'b' : 1*m/s,\n",
    "    'c' : [3*s,1*s,2*s]\n",
    "}\n",
    "\n",
    "ConfigurationToJSON(configuration)"
   ]
  },
  {
   "cell_type": "markdown",
   "id": "4b8e8e44-4c12-4820-afb9-c11a3130b757",
   "metadata": {},
   "source": [
    "Converting backwards (read the configuration from file)"
   ]
  },
  {
   "cell_type": "code",
   "execution_count": 4,
   "id": "91d2183d-267d-497e-b740-2fe8ed2ba2ea",
   "metadata": {},
   "outputs": [
    {
     "data": {
      "text/plain": [
       "{'a': 5 [m], 'b': 1.0 [m/s], 'c': [3 [s], 1 [s], 2 [s]]}"
      ]
     },
     "execution_count": 4,
     "metadata": {},
     "output_type": "execute_result"
    }
   ],
   "source": [
    "JSONToConfiguration(configuration)"
   ]
  },
  {
   "cell_type": "markdown",
   "id": "3bf2fbaf-9495-4121-9559-a75310bddec1",
   "metadata": {},
   "source": [
    "### JSON variations\n",
    "\n",
    "JSONVariations gets a base file and a variation file and creates variations of the base by substituting the values in the variation files. \n",
    "\n",
    "To use the JSONVariations first import it:"
   ]
  },
  {
   "cell_type": "code",
   "execution_count": 5,
   "id": "9aae93c9-e690-48d4-96f9-85a972fa1e53",
   "metadata": {},
   "outputs": [],
   "source": [
    "from hera.utils.jsonutils import JSONVariations"
   ]
  },
  {
   "cell_type": "markdown",
   "id": "fe420cad-6956-4cfc-9ef1-c9044f3eb143",
   "metadata": {},
   "source": [
    "To use it the user must provide a base JSON file and a variation file. \n",
    "\n",
    "A variation file is a list of variation groups. Each variation group is a mapping between a number of [json paths](https://docs.oracle.com/cd/E60058_01/PDF/8.0.8.x/8.0.8.0.0/PMF_HTML/JsonPath_Expressions.htm) to a  list of values.  \n",
    "For example, the following variations:"
   ]
  },
  {
   "cell_type": "code",
   "execution_count": 6,
   "id": "0338d276-b755-4ae0-af24-393fc85254a8",
   "metadata": {},
   "outputs": [],
   "source": [
    "variations = [\n",
    "{\n",
    "        \"a0\" : [1,2,3,4],\n",
    "        \"a1.b0\" : ['a','b','c','d']\n",
    "},\n",
    "{\n",
    "        \"a1.b1[2]\" : ['x','y','z'],\n",
    "        \"a1.b1[0]\" : [3,2,1]\n",
    "},\n",
    "]"
   ]
  },
  {
   "cell_type": "markdown",
   "id": "c257b161-21b3-4633-8232-f1e3ce4aee38",
   "metadata": {},
   "source": [
    "Contains two groups. One with the paths a0 and a1.b0 and the other with the paths a1.b1[0],a1.b1[2].\n",
    "\n",
    "The path a0 is the a0 from the root. The path a1.b0 is when b0 is the son of the a1. \n",
    "a1.b1[0] is the first term in the son b1 of a1 (given that b1 is a list). \n",
    "\n",
    "The JSONVariations creates variations of the cartesian product of all the values between the variation groups. \n",
    "parameters within the variation group change together. Hence, all the members of one variation group must an identical number of \n",
    "values. \n",
    "\n",
    "For example when the base file is "
   ]
  },
  {
   "cell_type": "code",
   "execution_count": 7,
   "id": "1607412f-034f-409f-a146-5d8e8f8c591b",
   "metadata": {},
   "outputs": [],
   "source": [
    "base = {\n",
    " \"a0\" : 1,\n",
    " \"a1\" : {\n",
    "    \"b0\" : 1,\n",
    "    \"b1\" : [1,2,3],\n",
    "     \"b2\" : {\n",
    "             \"c0\": 0\n",
    "     }\n",
    " }  \n",
    "}"
   ]
  },
  {
   "cell_type": "markdown",
   "id": "4eeecdcf-3c0b-414e-a00e-8299b16364bf",
   "metadata": {},
   "source": [
    "The variations of the variation file given above are: "
   ]
  },
  {
   "cell_type": "code",
   "execution_count": 8,
   "id": "bb1c813e-b391-4bc8-886f-83dd9ae03fbc",
   "metadata": {},
   "outputs": [
    {
     "name": "stdout",
     "output_type": "stream",
     "text": [
      "{'a0': 1, 'a1': {'b0': 'a', 'b1': [3, 2, 'x'], 'b2': {'c0': 0}}}\n",
      "{'a0': 1, 'a1': {'b0': 'a', 'b1': [2, 2, 'y'], 'b2': {'c0': 0}}}\n",
      "{'a0': 1, 'a1': {'b0': 'a', 'b1': [1, 2, 'z'], 'b2': {'c0': 0}}}\n",
      "{'a0': 2, 'a1': {'b0': 'b', 'b1': [3, 2, 'x'], 'b2': {'c0': 0}}}\n",
      "{'a0': 2, 'a1': {'b0': 'b', 'b1': [2, 2, 'y'], 'b2': {'c0': 0}}}\n",
      "{'a0': 2, 'a1': {'b0': 'b', 'b1': [1, 2, 'z'], 'b2': {'c0': 0}}}\n",
      "{'a0': 3, 'a1': {'b0': 'c', 'b1': [3, 2, 'x'], 'b2': {'c0': 0}}}\n",
      "{'a0': 3, 'a1': {'b0': 'c', 'b1': [2, 2, 'y'], 'b2': {'c0': 0}}}\n",
      "{'a0': 3, 'a1': {'b0': 'c', 'b1': [1, 2, 'z'], 'b2': {'c0': 0}}}\n",
      "{'a0': 4, 'a1': {'b0': 'd', 'b1': [3, 2, 'x'], 'b2': {'c0': 0}}}\n",
      "{'a0': 4, 'a1': {'b0': 'd', 'b1': [2, 2, 'y'], 'b2': {'c0': 0}}}\n",
      "{'a0': 4, 'a1': {'b0': 'd', 'b1': [1, 2, 'z'], 'b2': {'c0': 0}}}\n"
     ]
    }
   ],
   "source": [
    "for x in JSONVariations(base,variations):\n",
    "    print(x)"
   ]
  }
 ],
 "metadata": {
  "kernelspec": {
   "display_name": "Python 3 (ipykernel)",
   "language": "python",
   "name": "python3"
  },
  "language_info": {
   "codemirror_mode": {
    "name": "ipython",
    "version": 3
   },
   "file_extension": ".py",
   "mimetype": "text/x-python",
   "name": "python",
   "nbconvert_exporter": "python",
   "pygments_lexer": "ipython3",
   "version": "3.9.13"
  }
 },
 "nbformat": 4,
 "nbformat_minor": 5
}
