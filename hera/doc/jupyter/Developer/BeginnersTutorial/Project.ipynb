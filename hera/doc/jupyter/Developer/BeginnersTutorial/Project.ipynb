{
 "cells": [
  {
   "cell_type": "markdown",
   "id": "c0d6b32e-32d2-4b78-9472-6ab8dc7713b7",
   "metadata": {},
   "source": [
    "# Projects Documentation  \n",
    "\n",
    "Welcome to the Projects documentation. In this tutorial, you will learn about projects and their basic operations.\n",
    "We will cover how to create a project, load documents into it, and work with them using toolkits."
   ]
  },
  {
   "cell_type": "markdown",
   "id": "26bac2a4-be10-4904-b257-10d212f2c5d9",
   "metadata": {
    "jp-MarkdownHeadingCollapsed": true
   },
   "source": [
    "## What is a Proejct?  "
   ]
  },
  {
   "cell_type": "markdown",
   "id": "257d29e2-ecb1-4c40-9d63-24e2e2c1b17e",
   "metadata": {},
   "source": [
    "You can think of a project as a collection of data sources and other documents (such as measurement documents) organized in one place.  \n",
    "By adding a document to a project, users can connect the corresponding toolkit without needing to remember the paths to the data they want to work with.  \n",
    "This provides a flexible and convenient way to manage and work with various types of data in a single, unified environment"
   ]
  },
  {
   "cell_type": "markdown",
   "id": "92a4856a-c448-4fd0-b84b-b784225e4ee2",
   "metadata": {
    "jp-MarkdownHeadingCollapsed": true
   },
   "source": [
    "## Creating a Project"
   ]
  },
  {
   "cell_type": "markdown",
   "id": "7ac18198-336b-4406-9075-f3a661801eb8",
   "metadata": {},
   "source": [
    "1) #### Creating a Project using Command Line Interface (CLI)\n",
    "    The user can easily create a Project using the following command:  \n",
    "<p style=\"background:black\">\n",
    "<code style=\"background:black;color:white\">>> hera-project project create &ltPROJECT_NAME&gt --directory &ltDIRECTORY_PATH&gt --noRepositories &ltANY_CHAR&gt\n",
    "</code>\n",
    "</p>  \n",
    "By executing this command, a new project and a configuration JSON file will be created. Before discussing this file, let’s go over the command arguments:  \n",
    "\n",
    "    - PROJECT_NAME: The name of the Project the user.\n",
    "    - directory (Optional): The path to save the configuration file. If not specified, will create in the folder where the user executes the command.\n",
    "    - noRepositories (Optional): If True, will not apply the repositories loading (Will discuss soon). Default is False.  \n",
    "\n",
    "Example:  \n",
    "If I want to create a project named 'MY_PROJECT', with the configuration file created in the current directory and without using repositories, I would type:\n",
    "<p style=\"background:black\">\n",
    "<code style=\"background:black;color:white\">>> hera-project project create MY_FIRST_PROJECT --noRepositories 1\n",
    "</code>\n",
    "</p>"
   ]
  },
  {
   "cell_type": "markdown",
   "id": "29e33f9c-4e46-4acf-a82b-1189502d2a54",
   "metadata": {},
   "source": [
    "2) #### Initate the Project using Python\n",
    "    We can access the Project class in Python and perform various operations.  \n",
    "    **Note**: In Hera, if we specify a non-existent project in a Python script (without performing Stage 1 as shown earlier using the CLI), no error will occur. In addition, the project will be automaticly created when a new document is loaded to it.\n",
    "    \n",
    "    However:\n",
    "    1. No configuration file will be created.\n",
    "    2. Repository loading (which we will discuss shortly) will not be applied.\n",
    "    \n",
    "  \n",
    "Let's see now how can we initate Projects using Python.  "
   ]
  },
  {
   "cell_type": "markdown",
   "id": "b921f391-f6a9-4d34-8901-3c31cb5acf4b",
   "metadata": {},
   "source": [
    "First, we need to import the Project object:"
   ]
  },
  {
   "cell_type": "code",
   "execution_count": 1,
   "id": "f42cbb29-ea88-41f3-b10b-fdafb02548d4",
   "metadata": {},
   "outputs": [],
   "source": [
    "from hera import Project "
   ]
  },
  {
   "cell_type": "markdown",
   "id": "58aef6ff-1994-4838-92e0-c40df3429a57",
   "metadata": {},
   "source": [
    "#### Initialize from a configuration file  \n",
    "If we have created the caseConfiguration file and it is located in the same directory where we are writing the script, we can initiate the project as follows:"
   ]
  },
  {
   "cell_type": "code",
   "execution_count": 2,
   "id": "7cfaa422-d391-4def-8226-3024f08fff97",
   "metadata": {},
   "outputs": [
    {
     "name": "stdout",
     "output_type": "stream",
     "text": [
      "MY_FIRST_PROJECT\n"
     ]
    }
   ],
   "source": [
    "proj = Project()\n",
    "print(proj.projectName)"
   ]
  },
  {
   "cell_type": "markdown",
   "id": "de898a30-845b-40c7-8fc8-860241ae31af",
   "metadata": {},
   "source": [
    "As we said above, this will only work by creating a json configuration file and run the code in its directory."
   ]
  },
  {
   "cell_type": "markdown",
   "id": "8aad1983-a745-4be4-bb8c-dffb080a4f94",
   "metadata": {},
   "source": [
    "#### Initialize by Project Name  \n",
    "If the caseConfiguration file is not placed in your current directory, you can easily access a project from anywhere in our local machine by using only the project name, like this:"
   ]
  },
  {
   "cell_type": "code",
   "execution_count": 4,
   "id": "fde989ec-1a6e-4750-8808-f3d9953ab323",
   "metadata": {},
   "outputs": [
    {
     "name": "stdout",
     "output_type": "stream",
     "text": [
      "MY_FIRST_PROJECT\n"
     ]
    }
   ],
   "source": [
    "proj = Project(projectName=\"MY_FIRST_PROJECT\")\n",
    "print(proj.projectName)"
   ]
  },
  {
   "cell_type": "markdown",
   "id": "ac1deba8-33e5-4c90-a030-3b6282ba7cf8",
   "metadata": {},
   "source": [
    "Again, if no project exists with the specified name, Hera will not throw an error. The project will only be created automatically when the first document is loaded into it."
   ]
  },
  {
   "cell_type": "markdown",
   "id": "f70af13b-d232-4853-90df-352a76367433",
   "metadata": {
    "jp-MarkdownHeadingCollapsed": true
   },
   "source": [
    "## Loading Documents into to a Project (Manualy)  \n",
    "Let's see how we can load a datasource and a measurment documents into a project."
   ]
  },
  {
   "cell_type": "markdown",
   "id": "0b635060-4439-4f49-ba9f-4ac07ecd820d",
   "metadata": {
    "jp-MarkdownHeadingCollapsed": true
   },
   "source": [
    "### Load Data Sources to Projects"
   ]
  },
  {
   "cell_type": "markdown",
   "id": "6c68e849-c74a-4625-81c1-1cf3e432fbbe",
   "metadata": {},
   "source": [
    "To load a data source into a project, the user must first connect the corresponding toolkit to the project and then use a function named **addDataSource()**. \n",
    "\n",
    "For demonstration purposes, let’s use an example of loading a LandCover data source into a project. We have already saw a similar example in the pervious documentation.  \n",
    "First, we initate a LandCover toolkit to the project we just created - 'MY_FIRST_PROJECT':"
   ]
  },
  {
   "cell_type": "code",
   "execution_count": 6,
   "id": "0748e28f-deed-40ba-8189-b435869de32c",
   "metadata": {},
   "outputs": [],
   "source": [
    "from hera import toolkitHome\n",
    "\n",
    "toolkitName = toolkitHome.GIS_LANDCOVER\n",
    "projectName = \"MY_FIRST_PROJECT\"\n",
    "\n",
    "landcover_toolkit = toolkitHome.getToolkit(\n",
    "                    toolkitName=toolkitName,\n",
    "                    projectName=projectName)"
   ]
  },
  {
   "cell_type": "markdown",
   "id": "82475430-21b6-4692-825e-3050faa2136c",
   "metadata": {},
   "source": [
    "Using the **addDataSource()** function, we can add a LandCover datasource to the project.  \n",
    "As we saw in the pervious documentation, the datasource structure is compromised of several fields. Here, we specify them manually in the code:"
   ]
  },
  {
   "cell_type": "code",
   "execution_count": 7,
   "id": "22b88b4f-bcf3-419d-a875-0eaf33151189",
   "metadata": {},
   "outputs": [
    {
     "data": {
      "text/plain": [
       "<Measurements: {\n",
       "    \"_cls\": \"Metadata.Measurements\",\n",
       "    \"projectName\": \"MY_FIRST_PROJECT\",\n",
       "    \"desc\": {\n",
       "        \"kwargs\": {\n",
       "            \"year\": 2021,\n",
       "            \"type\": 1\n",
       "        },\n",
       "        \"toolkit\": \"LandCoverToolkit\",\n",
       "        \"datasourceName\": \"MY_LANDCOVER_DATASOURCE\",\n",
       "        \"version\": [\n",
       "            1,\n",
       "            0,\n",
       "            0\n",
       "        ]\n",
       "    },\n",
       "    \"type\": \"ToolkitDataSource\",\n",
       "    \"resource\": \"./prefixaac.tif\",\n",
       "    \"dataFormat\": \"geotiff\"\n",
       "}>"
      ]
     },
     "execution_count": 7,
     "metadata": {},
     "output_type": "execute_result"
    }
   ],
   "source": [
    "dataSourceName = 'MY_LANDCOVER_DATASOURCE'\n",
    "resource = './prefixaac.tif'\n",
    "dataFormat = 'geotiff'\n",
    "version = (1,0,0)\n",
    "overwrite = True\n",
    "kwargs = dict(year=2021,type=1)\n",
    "\n",
    "landcover_toolkit.addDataSource(\n",
    "    dataSourceName=dataSourceName,\n",
    "    resource=resource,\n",
    "    dataFormat=dataFormat,\n",
    "    version=version,\n",
    "    overwrite=overwrite,\n",
    "    kwargs=kwargs\n",
    ")"
   ]
  },
  {
   "cell_type": "markdown",
   "id": "e701322d-5ec3-4fd7-b30f-3c76ea8b2d27",
   "metadata": {},
   "source": [
    "Reminder:\n",
    "\n",
    "- **dataSourceName**: The name we want to assign to the data source.\n",
    "- **resource**: The path to the actual data (in this case, the file is in this folder).\n",
    "- **dataFormat**: The format of the data. It can be string, parquet, and more (in this case, 'geotiff').\n",
    "- **version**: The version of the data source.\n",
    "- **overwrite**: Whether to overwrite an existing data source with the same name.\n",
    "- **kwargs**: Additional metadata related to the data source."
   ]
  },
  {
   "cell_type": "markdown",
   "id": "271bcb1b-7f9c-4f64-bb8a-29b45217173f",
   "metadata": {},
   "source": [
    "Now we have successfully added a new LandCover data source to the project.\n",
    "We can verify this by using the **getDataSourceList()** function:"
   ]
  },
  {
   "cell_type": "code",
   "execution_count": 8,
   "id": "39fa8793-fdb6-4870-ba5d-969a932bc413",
   "metadata": {},
   "outputs": [
    {
     "data": {
      "text/plain": [
       "['MY_LANDCOVER_DATASOURCE']"
      ]
     },
     "execution_count": 8,
     "metadata": {},
     "output_type": "execute_result"
    }
   ],
   "source": [
    "landcover_toolkit.getDataSourceList()"
   ]
  },
  {
   "cell_type": "markdown",
   "id": "1964b388-6ea8-4256-902b-1d3c818ee034",
   "metadata": {
    "jp-MarkdownHeadingCollapsed": true
   },
   "source": [
    "## Disadvantages of Adding Documents Manually  \n",
    "While adding documents manually is quick and straightforward, it has a significant disadvantage.  \n",
    "Suppose you want to create another project and use the same documents. In that case, you will need to repeat the entire process of adding the documents again.  \n",
    "If you have multiple data sources and documents to use across various projects, you’ll need to repeatedly add them, remembering all the paths and associated information, which can become tedious and error-prone.  \n",
    "To overcome this problem, the Hera system provides a feature called Repository, which we will cover next."
   ]
  },
  {
   "cell_type": "markdown",
   "id": "0b23a6fd-690d-436c-b9cd-289d62166d32",
   "metadata": {
    "jp-MarkdownHeadingCollapsed": true
   },
   "source": [
    "## Repositories"
   ]
  },
  {
   "cell_type": "markdown",
   "id": "1508f568-80d1-4d52-bf7a-c75b73ca89fe",
   "metadata": {},
   "source": [
    "Repositories are essentially lists of data sources and documents. They are stored in a JSON file, which keeps track of all the data sources and documents.  \n",
    "If a Repository is added to the repositories list in the system, a new created project will automatically include all the data sources and documents from this repository (and all repositories in the list). This eliminates the need for users to manually add data sources and documents each time or remember their paths."
   ]
  },
  {
   "cell_type": "markdown",
   "id": "1aa3b822-850a-417d-86df-9a0d0278c62c",
   "metadata": {},
   "source": [
    "### Structure"
   ]
  },
  {
   "cell_type": "markdown",
   "id": "a535d191-990b-4b0a-bba1-3e1fcf4eec32",
   "metadata": {},
   "source": [
    "For demonstration, let's use an example of a repository consisting of two data sources:\n",
    "```json\n",
    "{\n",
    "\"GIS_LandCover\": {\n",
    "    \"Config\": {\n",
    "      \"defaultLandCover\": \"Type-1\"\n",
    "    },\n",
    "    \"DataSource\": {\n",
    "      \"Type-1\": {\n",
    "        \"isRelativePath\": \"True\",\n",
    "        \"item\": {\n",
    "          \"resource\": \"prefixaac.tif\",\n",
    "          \"dataFormat\": \"geotiff\",\n",
    "          \"desc\": {\n",
    "            \"year\": 2021,\n",
    "            \"type\": 1\n",
    "          }\n",
    "        }\n",
    "      }\n",
    "    }\n",
    "  },\n",
    "\"GIS_Tiles\": {\n",
    "    \"Config\": {\n",
    "      \"defaultTileServer\": \"http://mt1.google.com/vt/lyrs=s&x={x}&y={y}&z={z}\"\n",
    "    },\n",
    "    \"DataSource\": {\n",
    "      \"THE_LOCAL_TILE_SERVER\": {\n",
    "        \"isRelativePath\": \"False\",\n",
    "        \"item\": {\n",
    "          \"resource\": \"http://mt1.google.com/vt/lyrs=s&x={x}&y={y}&z={z}\",\n",
    "          \"dataFormat\": \"string\"\n",
    "        }\n",
    "      }\n",
    "    }\n",
    "  }\n",
    "}\n",
    "```"
   ]
  },
  {
   "cell_type": "markdown",
   "id": "d3a3a312-dd92-4d00-8a5c-99fb1d2be7b9",
   "metadata": {},
   "source": [
    "As you can see, in this case, the repository contains a list of data sources. One notable difference from the general data source structure is the isRelativePath field and the Config field:\n",
    "\n",
    "- **isRelativePath**: Indicates whether the data source path is relative to the location of the Repository JSON file. If set to false, the system assumes the path is absolute.\n",
    "- **Config**: A JSON element that specifies which data source is the default. This is useful when the user has multiple data sources in a domain, as it allows the user to work with the default data source without specifying its name each time (this will be discussed further)."
   ]
  },
  {
   "cell_type": "markdown",
   "id": "e891ab50-82d8-4aa5-91fe-cf1810aacce3",
   "metadata": {},
   "source": [
    "### Adding a Repository to the Repositories list  \n",
    "When creating a project , all documents and data sources from each repository in the Repositories list will be added to the project.  \n",
    "If the user anticipates using several documents across multiple projects in the future, he first need to define the documents in a repository and then add the repository to the repositories list. Now, whenever a project is created, all documents will be automatically included.  \n",
    "**Important Note**: This functionality is only applicable when the project is created using the **CLI**. If the user creates a project by adding a document to a non-existent project (as demonstrated above), the documents in the repositories will not be added.\n",
    "\n"
   ]
  },
  {
   "cell_type": "markdown",
   "id": "4eadc275-cdd2-46d0-86bf-c3fffb3d37d8",
   "metadata": {},
   "source": [
    "### Repository Basic Functions"
   ]
  },
  {
   "cell_type": "markdown",
   "id": "c7fa0306-f5dd-454a-bded-4b2e03d1b21a",
   "metadata": {},
   "source": [
    "For adding it, we use the next command in the CLI:  \n",
    "\n",
    "<p style=\"background:black\">\n",
    "<code style=\"background:black;color:white\">>> hera-project repository add &ltPATH_TO_REPOSITORY&gt --overwrite &ltANY_CHAR&gt\n",
    "</code>\n",
    "</p> "
   ]
  },
  {
   "cell_type": "markdown",
   "id": "900a06b5-08ad-49ba-ba4d-c1d86bcd3f1e",
   "metadata": {},
   "source": [
    "For displaying the repository list, we use the next command in the CLI:  \n",
    "<p style=\"background:black\">\n",
    "<code style=\"background:black;color:white\">>> hera-project repository list\n",
    "</code>\n",
    "</p> "
   ]
  },
  {
   "cell_type": "markdown",
   "id": "9755b254-cda1-4e89-bb24-b4cd50368206",
   "metadata": {},
   "source": [
    "For removing a repository from the repository list, we use the next command in the CLI:  \n",
    "<p style=\"background:black\">\n",
    "<code style=\"background:black;color:white\">>> hera-project repository remove &ltPATH_TO_REPOSITORY&gt\n",
    "</code>\n",
    "</p> "
   ]
  },
  {
   "cell_type": "markdown",
   "id": "bd842111-1858-4080-bcde-dd6a6ab3d23a",
   "metadata": {},
   "source": [
    "For dipslaying items in a specific repository, we use:  \n",
    "<p style=\"background:black\">\n",
    "<code style=\"background:black;color:white\">>> hera-project repository show &ltREPOSITORY_NAME&gt\n",
    "</code>\n",
    "</p> "
   ]
  },
  {
   "cell_type": "markdown",
   "id": "21433e85-a3d9-4a34-aaa0-2565f90b1f58",
   "metadata": {
    "jp-MarkdownHeadingCollapsed": true
   },
   "source": [
    "## CLI for Projects"
   ]
  },
  {
   "cell_type": "markdown",
   "id": "04a52065-7a75-4b83-a9cb-7b770a936cde",
   "metadata": {},
   "source": [
    "Here are some basic project commands to use in the CLI:"
   ]
  },
  {
   "metadata": {},
   "cell_type": "markdown",
   "source": [
    "**Listing the Projects in the system**:\n",
    "<p style=\"background:black\">\n",
    "<code style=\"background:black;color:white\">>> hera-project project list\n",
    "</code>\n",
    "</p>"
   ],
   "id": "51c881a9-a7ca-456b-8183-10b00e4b936b"
  },
  {
   "metadata": {},
   "cell_type": "markdown",
   "source": [
    "**Updating Repository Documents in to a Project**:\n",
    "Useful if a project was created before adding a new repository to the repositories list, and the user wishes to update the project with the documents from the repository:\n",
    "<p style=\"background:black\">\n",
    "<code style=\"background:black;color:white\">>> hera-project project updateRepositories --projectName &ltPROJECT_NAME&gt --overwrite &ltANY_CHAR&gt\n",
    "</code>\n",
    "</p>\n",
    "Arguments:\n",
    "\n",
    "- **--projectName (Optional)**: The project to update with the current repositories list. If not specified, will update all projects in the system.\n",
    "- **--overwrite (Optional)**: If overwrite the project with the current repositories list. Default is False."
   ],
   "id": "8c2ae0b0-be8b-433e-97fe-dee3c834670d"
  },
  {
   "metadata": {},
   "cell_type": "markdown",
   "source": [
    "\n",
    "# Command Line Interface (CLI) in Hera\n",
    "\n",
    "**What is CLI?**\n",
    "CLI stands for **Command Line Interface** — it means interacting with the system by typing text commands instead of using graphical menus and buttons.\n",
    "\n",
    "In Hera, the CLI allows you to quickly and efficiently perform tasks like:\n",
    "- Creating a project\n",
    "- Adding or removing repositories\n",
    "- Listing available projects\n",
    "- Updating project repositories\n",
    "\n",
    "**Why Use CLI?**\n",
    "- Faster execution compared to using scripts.\n",
    "- Easy automation for repeated tasks.\n",
    "- Remote management of Hera projects.\n",
    "\n",
    "**Example: Creating a new project using CLI**\n",
    "\n",
    "```bash\n",
    "hera-project project create MY_FIRST_PROJECT --noRepositories 1\n",
    "```\n",
    "\n",
    "This command will:\n",
    "- Create a new project named `MY_FIRST_PROJECT`.\n",
    "- Skip loading any default repositories at creation time.\n",
    "\n",
    "**Summary:**\n",
    "Using the CLI helps you interact directly with Hera's management system in a simple, fast, and powerful way.\n"
   ],
   "id": "e501c6ba968370e"
  }
 ],
 "metadata": {
  "kernelspec": {
   "display_name": "Python 3 (ipykernel)",
   "language": "python",
   "name": "python3"
  },
  "language_info": {
   "codemirror_mode": {
    "name": "ipython",
    "version": 3
   },
   "file_extension": ".py",
   "mimetype": "text/x-python",
   "name": "python",
   "nbconvert_exporter": "python",
   "pygments_lexer": "ipython3",
   "version": "3.11.6"
  }
 },
 "nbformat": 4,
 "nbformat_minor": 5
}
