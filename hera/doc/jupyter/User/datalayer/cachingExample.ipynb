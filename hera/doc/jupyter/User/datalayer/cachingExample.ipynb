{
 "cells": [
  {
   "cell_type": "markdown",
   "id": "04e2e6c1-114d-454c-b9b1-526bd0717045",
   "metadata": {},
   "source": [
    "# Automatic Caching \n",
    "\n",
    "## Background \n",
    "\n",
    "The automatic caching works by designating a function as 'cached' with the decorator cacheFunction.\n",
    "\n",
    "Then, every time the function is called, the caching mechanism will check if this set of parameters \n",
    "is stored in the database (for the project that is defined in the caseConfiguration.json). \n",
    "If it is, the function will return it. \n",
    "\n",
    "If the data is not in the database, the function will run and the result will be stored in the database to save future calls. \n",
    "\n",
    "Note that if the function is a member function of a class, the entire class state will be stored as the 'parameters' of the function. "
   ]
  },
  {
   "cell_type": "markdown",
   "id": "7e2a1496-bd25-49a4-885a-5b0a10603a67",
   "metadata": {},
   "source": [
    "## Usage \n",
    "To use the the autocaching, we first import it. "
   ]
  },
  {
   "cell_type": "code",
   "execution_count": 16,
   "id": "initial_id",
   "metadata": {},
   "outputs": [],
   "source": [
    "from hera import cacheFunction"
   ]
  },
  {
   "cell_type": "markdown",
   "id": "69633d78-1e60-4645-ba71-df4d15f868b1",
   "metadata": {},
   "source": [
    "Now for example lets define the function computeTheItem. and add the decorator for \n",
    "automatic caching. "
   ]
  },
  {
   "cell_type": "code",
   "execution_count": 14,
   "id": "f9efe003-342c-4826-9a1a-b531569e90b3",
   "metadata": {},
   "outputs": [],
   "source": [
    "import numpy \n",
    "import time \n",
    "import pandas \n",
    "\n",
    "@cacheFunction\n",
    "def computeTheItem(param1,param2,param3):\n",
    "    time.sleep(5)\n",
    "    return pandas.Series([param1,param2,param3])"
   ]
  },
  {
   "cell_type": "markdown",
   "id": "b896f320-df18-4e54-8872-eeb5bae9a9a8",
   "metadata": {},
   "source": [
    "Now, calling the function normally, the caching mechanism will be activated. \n",
    "The data is saved in the 'cache' directory under the project 'filesDirectory'. That is, the directory \n",
    "in which the project was activated first. "
   ]
  },
  {
   "cell_type": "code",
   "execution_count": 15,
   "id": "22f6260d-ea10-42f1-aa91-c6c34f37ed2b",
   "metadata": {},
   "outputs": [
    {
     "data": {
      "text/plain": [
       "0    1\n",
       "1    2\n",
       "2    3\n",
       "dtype: int64"
      ]
     },
     "execution_count": 15,
     "metadata": {},
     "output_type": "execute_result"
    }
   ],
   "source": [
    "computeTheItem(1,2,3)"
   ]
  },
  {
   "cell_type": "markdown",
   "id": "5e1d8567-a22b-4336-9449-af4d51a563c4",
   "metadata": {},
   "source": [
    "Calling with a different set of parameters will save the different result"
   ]
  },
  {
   "cell_type": "code",
   "execution_count": 11,
   "id": "6c4d5e29-f1ef-4f08-8913-6aa3b8657add",
   "metadata": {},
   "outputs": [
    {
     "data": {
      "text/plain": [
       "0    1\n",
       "1    4\n",
       "2    3\n",
       "dtype: int64"
      ]
     },
     "execution_count": 11,
     "metadata": {},
     "output_type": "execute_result"
    }
   ],
   "source": [
    "computeTheItem(1,4,3)"
   ]
  },
  {
   "cell_type": "code",
   "execution_count": 12,
   "id": "29673ba6-d924-422b-bf57-d2e58ab622a5",
   "metadata": {},
   "outputs": [
    {
     "data": {
      "text/plain": [
       "0    1\n",
       "1    2\n",
       "2    3\n",
       "dtype: int64"
      ]
     },
     "execution_count": 12,
     "metadata": {},
     "output_type": "execute_result"
    }
   ],
   "source": [
    "computeTheItem(1,2,3)"
   ]
  },
  {
   "cell_type": "code",
   "execution_count": 13,
   "id": "b82bbd25-82e3-4c7f-95e2-31c2668c8d49",
   "metadata": {},
   "outputs": [
    {
     "data": {
      "text/plain": [
       "0    1\n",
       "1    2\n",
       "2    5\n",
       "dtype: int64"
      ]
     },
     "execution_count": 13,
     "metadata": {},
     "output_type": "execute_result"
    }
   ],
   "source": [
    "computeTheItem(1,2,5)"
   ]
  },
  {
   "cell_type": "markdown",
   "id": "4a8133bc-68f4-4fd1-a85d-3e5f4ae5df4f",
   "metadata": {},
   "source": [
    "Caching will also work exactlu the same  for classes.\n"
   ]
  },
  {
   "cell_type": "code",
   "execution_count": 3,
   "id": "d9001f85-3b06-4e77-bebe-b9d6a69a10db",
   "metadata": {},
   "outputs": [],
   "source": [
    "import pandas\n",
    "\n",
    "class exampleClass:\n",
    "\n",
    "    def __init__(self,myParam):\n",
    "        self.data = myParam\n",
    "\n",
    "    @cacheFunction\n",
    "    def computeClassMethod(self,param1,param2,param3):\n",
    "        time.sleep(10)\n",
    "        return pandas.Series(numpy.array([param1,param2,param3]))  "
   ]
  },
  {
   "cell_type": "markdown",
   "id": "5a3a8092-b255-4dfc-ac47-d6ab4490fa43",
   "metadata": {},
   "source": [
    "The caching will take into account all the parameters of the class. \n",
    "This will work as far as the serialization of the object results in different values. However, \n",
    "if the class returns a value from a file that could be different, then the serialization will be the same and the caching \n",
    "mechanism will identify the two different calls as one. However, the present mechanism is supposed to work for the vast majority of cases. "
   ]
  },
  {
   "cell_type": "code",
   "execution_count": 4,
   "id": "8dc41133-5ba8-41f8-8490-48594d00c2f7",
   "metadata": {},
   "outputs": [],
   "source": [
    "exmaple = exampleClass(\"A\")\n",
    "aa = exmaple.computeClassMethod(4,5,9)"
   ]
  },
  {
   "cell_type": "code",
   "execution_count": 6,
   "id": "000fe250-6998-4664-bd04-eca7b4ee3d4d",
   "metadata": {},
   "outputs": [],
   "source": [
    "aa = exmaple.computeClassMethod(4,5,90)"
   ]
  },
  {
   "cell_type": "markdown",
   "id": "4ea132fe-e4f4-4f7a-a4f1-30cdc1e9ca7e",
   "metadata": {},
   "source": [
    "Since the mechanism checks for the class and its member functions, even different instances (with the same parameters) are \n",
    "cached. \n",
    "\n",
    "Hence, the following will use the results that were computed above. "
   ]
  },
  {
   "cell_type": "code",
   "execution_count": 9,
   "id": "5ea951d6-aa75-4b8f-953b-68ac254be26c",
   "metadata": {},
   "outputs": [],
   "source": [
    "exmaple1 = exampleClass(\"A\")\n",
    "aa = exmaple.computeClassMethod(4,5,9)"
   ]
  },
  {
   "cell_type": "markdown",
   "id": "7398317a-e4b0-4e50-826a-591b9225598f",
   "metadata": {},
   "source": [
    "However, when the member change (here, the constructor paramters change the parameters of the class) \n",
    "then a the caching mechanism will identify it as a different call method. \n",
    "\n",
    "That is, "
   ]
  },
  {
   "cell_type": "code",
   "execution_count": 10,
   "id": "d068b40a-0774-4e83-8068-0b305c15e6e0",
   "metadata": {},
   "outputs": [],
   "source": [
    "exmaple = exampleClass(\"B\")\n",
    "aa = exmaple.computeClassMethod(4,5,9)"
   ]
  },
  {
   "cell_type": "markdown",
   "id": "1b30f1b0-5ba7-45a3-8509-9367beb23d02",
   "metadata": {},
   "source": [
    "Will result in caching of a different call. "
   ]
  },
  {
   "cell_type": "markdown",
   "id": "387cd54b-d120-40e0-bec9-ce7d0c9af0e6",
   "metadata": {},
   "source": [
    "## Clearing the cache of one function\n",
    "\n",
    "After we discover a bug, or change the function, it is necessary to clear the cache. \n",
    "\n",
    "Clearing the cache of the function is done with clearFunctionCache. \n",
    "To do so, import it "
   ]
  },
  {
   "cell_type": "code",
   "execution_count": null,
   "id": "d2d51a98-6f66-4e76-8ff3-60306cf8589a",
   "metadata": {},
   "outputs": [],
   "source": [
    "from hera import clearFunctionCache"
   ]
  },
  {
   "cell_type": "markdown",
   "id": "c123857c-a655-405c-ab79-39f9474c7d4f",
   "metadata": {},
   "source": [
    "Then, clear the cache of the function by calling with its name. \n",
    "When the function is a method of a class, use the '[class name].[function name]' \n",
    "syntax. \n",
    "\n",
    "For example "
   ]
  },
  {
   "cell_type": "code",
   "execution_count": 13,
   "id": "a95b83e4-b96c-4176-84dc-3c713a083aec",
   "metadata": {},
   "outputs": [
    {
     "data": {
      "text/plain": [
       "True"
      ]
     },
     "execution_count": 13,
     "metadata": {},
     "output_type": "execute_result"
    }
   ],
   "source": [
    "clearFunctionCache(\"exampleClass.computeClassMethod\")"
   ]
  },
  {
   "cell_type": "markdown",
   "id": "cad7f908-d091-4e6c-b712-05364e0f1453",
   "metadata": {},
   "source": [
    "## Clearing the cache of all functions\n",
    "\n",
    "It is possible to clear the cache of all the functions using 'clearAllFunctionsCache'"
   ]
  },
  {
   "cell_type": "markdown",
   "id": "46603e2d-f073-4443-a19c-750aa1721cc0",
   "metadata": {},
   "source": [
    "### from hera import clearAllFunctionsCache"
   ]
  },
  {
   "cell_type": "markdown",
   "id": "1feb95da-efde-471d-afc8-b67c61d1cbc1",
   "metadata": {},
   "source": [
    "Now, call to clear all the cache. "
   ]
  },
  {
   "cell_type": "code",
   "execution_count": null,
   "id": "620bb0da-0de9-4c91-a2bd-6eed0d52f454",
   "metadata": {},
   "outputs": [],
   "source": [
    "clearAllFunctionsCache()"
   ]
  }
 ],
 "metadata": {
  "kernelspec": {
   "display_name": "Python 3 (ipykernel)",
   "language": "python",
   "name": "python3"
  },
  "language_info": {
   "codemirror_mode": {
    "name": "ipython",
    "version": 3
   },
   "file_extension": ".py",
   "mimetype": "text/x-python",
   "name": "python",
   "nbconvert_exporter": "python",
   "pygments_lexer": "ipython3",
   "version": "3.9.13"
  }
 },
 "nbformat": 4,
 "nbformat_minor": 5
}
