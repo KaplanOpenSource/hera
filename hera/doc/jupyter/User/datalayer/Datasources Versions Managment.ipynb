{
 "cells": [
  {
   "cell_type": "markdown",
   "id": "12dc71af-d678-49f8-b802-602f62cb5648",
   "metadata": {},
   "source": [
    "# Datasources Default Version Management  "
   ]
  },
  {
   "cell_type": "markdown",
   "id": "93539f80-e160-4521-a5b0-4a095bd2856b",
   "metadata": {},
   "source": [
    "Setting a default datasource versions enhances convenience and streamlines your workflow. Here's why and when to use it:\n",
    "\n",
    "- Datasource with multiple Versions:\n",
    "When a datasource has multiple versions, the toolkit defaults to use the highest version unless a specific default is set.\n",
    "\n",
    "- Simplified Workflow:\n",
    "If you frequently use a particular version, specifying it every time can be cumbersome. Setting a default version ensures that the toolkit automatically selects your preferred version without requiring manual input.\n",
    "\n",
    "By setting a default version, you can bypass repetitive configuration and focus on your tasks more efficiently."
   ]
  },
  {
   "cell_type": "markdown",
   "id": "aaceab80-83db-40db-b27e-1233e05499b6",
   "metadata": {},
   "source": [
    "#### Using the CLI, we can display, set and update the default datasources. "
   ]
  },
  {
   "cell_type": "markdown",
   "id": "74f1867d-b80a-412c-93a9-0eec721ba892",
   "metadata": {},
   "source": [
    "### Display  \n",
    "For displaying the datasource version and default versions, we use the following CLI:"
   ]
  },
  {
   "cell_type": "markdown",
   "id": "5d5d01de-cb2d-4f84-8e13-d8bc088a0a20",
   "metadata": {},
   "source": [
    "<p style=\"background:black\">\n",
    "<code style=\"background:black;color:white\">>> hera-project project version display PROJECT_NAME --datasource DATASOURCE_NAME --default ANY_CHAR\n",
    "</code>\n",
    "</p>   \n",
    "\n",
    "#### Arguments:\n",
    "- PROJECT_NAME: The name of the project to display versions. Must be defined.\n",
    "- DATASOURCE_NAME: The name of the datasource to display versions. Optional argument. If not defined, will display all datasources in project.\n",
    "- default: A boolean argument. If specified, will show only default versions."
   ]
  },
  {
   "cell_type": "markdown",
   "id": "2503bc48-7cd5-49ef-a055-5c9872f87b1e",
   "metadata": {},
   "source": [
    "### Set and Update  \n",
    "To set or update a default version of a datasource, we use the following CLI:  "
   ]
  },
  {
   "cell_type": "markdown",
   "id": "7f3d1f1f-2089-4b6c-92de-f4f0ea105df5",
   "metadata": {},
   "source": [
    "<p style=\"background:black\">\n",
    "<code style=\"background:black;color:white\">>> hera-project project version update PROJECT_NAME DATASOURCE_NAME VERSION\n",
    "</code>\n",
    "</p>   \n",
    "\n",
    "#### Arguments:\n",
    "- PROJECT_NAME: The name of the project. Must be defined.\n",
    "- DATASOURCE_NAME: The name of the datasource to set or update the default version. Must be defined.\n",
    "- VERSION: The default version to set or update the datasource to. Must be in format \"%D,%D,%D\". Must be defined."
   ]
  },
  {
   "cell_type": "markdown",
   "id": "86aae7d9-ec49-4a46-b251-f74318032274",
   "metadata": {},
   "source": [
    "## Examples "
   ]
  },
  {
   "cell_type": "markdown",
   "id": "8767b2cf-8384-4ab6-835a-b7e456dd6915",
   "metadata": {},
   "source": [
    "### Display  \n",
    "Displaying all datasources version in the project \"MY_PROJECT\":\n",
    "<p style=\"background:black\">\n",
    "<code style=\"background:black;color:white\">>> hera-project project version display MY_PROJECT\n",
    "</code>\n",
    "</p>   \n",
    "\n",
    "Displaying all defualt datasources version in the project \"MY_PROJECT\":\n",
    "<p style=\"background:black\">\n",
    "<code style=\"background:black;color:white\">>> hera-project project version display MY_PROJECT --default 1\n",
    "</code>\n",
    "</p>  \n",
    "\n",
    "Displaying all datasources versions of the datasource \"DATASOURCE_1\" in the project \"MY_PROJECT\":\n",
    "<p style=\"background:black\">\n",
    "<code style=\"background:black;color:white\">>> hera-project project version display MY_PROJECT --datasource DATASOURCE_1\n",
    "</code>\n",
    "</p>  \n",
    "\n"
   ]
  },
  {
   "cell_type": "markdown",
   "id": "4debfea5-60b9-4170-81d8-769e62ca7fc3",
   "metadata": {},
   "source": [
    "### Set and Update\n",
    "To set the default version of the datasource \"HCL\" to version (0,0,2) in the project \"MY_PROJECT\":\n",
    "<p style=\"background:black\">\n",
    "<code style=\"background:black;color:white\">>> hera-project project version update MY_PROJECT HCL \"0,0,2\"\n",
    "</code>\n",
    "</p>  "
   ]
  }
 ],
 "metadata": {
  "kernelspec": {
   "display_name": "Python 3 (ipykernel)",
   "language": "python",
   "name": "python3"
  },
  "language_info": {
   "codemirror_mode": {
    "name": "ipython",
    "version": 3
   },
   "file_extension": ".py",
   "mimetype": "text/x-python",
   "name": "python",
   "nbconvert_exporter": "python",
   "pygments_lexer": "ipython3",
   "version": "3.9.13"
  }
 },
 "nbformat": 4,
 "nbformat_minor": 5
}
