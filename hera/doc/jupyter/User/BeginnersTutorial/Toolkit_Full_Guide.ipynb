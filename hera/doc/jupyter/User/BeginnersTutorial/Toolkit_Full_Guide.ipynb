{
 "cells": [
  {
   "cell_type": "markdown",
   "id": "c7ab5399",
   "metadata": {},
   "source": [
    "# Toolkit and Data Sources Documentation  \n",
    "Welcome to the toolkit and data sources documentation.  \n",
    "In this tutorial, you will become more familiar with toolkits and data sources, how they are related, and how to connect and use them in Projects."
   ]
  },
  {
   "cell_type": "markdown",
   "id": "47ca5330",
   "metadata": {},
   "source": [
    "## Toolkits  \n",
    "Let's start with toolkits. A toolkit is a set of tools and functionalities tailored for specific areas and their data.  \n",
    "For example, the GIS Buildings toolkit is designed to work with Buildings data and includes functions for analyzing and managing this type of data.\n",
    "\n",
    "The following list includes the available toolkits Hera provides:  \n",
    "- Experiment toolkit\n",
    "- GIS Landcover toolkit\n",
    "- GIS Buildings toolkit\n",
    "- GIS Tiles toolkit\n",
    "- GIS Topography toolkit\n",
    "- GIS Demography toolkit\n",
    "- Meteorology Low Frequency toolkit\n",
    "- Meteorology High Frequency toolkit\n",
    "- Riskassessment Agents toolkit\n",
    "- Wind Profile toolkit\n",
    "- LSM toolkit\n",
    "- OpenFOAM toolkit\n",
    "\n",
    "Each toolkit requires one or more datasources to function and operate. Each type of toolkit works with its corresponding data source type.  \n",
    "For example, the GIS Buildings toolkit works with a GIS Buildings Data Source.  \n",
    "Data sources are placed inside projects.  \n",
    "We will soon detail more about data sources in this notebook.\n",
    "\n",
    "### The Toolkit Structure\n",
    "Basically, each toolkit is designed as a 3-tier application. In simple words, each toolkit includes 3 layers:  \n",
    "1) **Data Layer**: Manages loading and parsing the specific data domain.  \n",
    "2) **Presentation Layer**: Manages the graphs and other types of presentation for the specific domain.  \n",
    "3) **Analysis Layer**: Manages the analysis and computational functions for the specific domain.\n",
    "\n",
    "At the end, users will mainly use the second and third layers.  \n",
    "It is important to note that while some toolkits may include only one or two of these layers, this is rare."
   ]
  },
  {
   "cell_type": "markdown",
   "id": "d1dddc66",
   "metadata": {},
   "source": [
    "### Getting Started with Toolkits  \n",
    "Let's see how we initiate a toolkit and connect it to a project.  \n",
    "First, we need to import the **toolkitHome** class from Hera:"
   ]
  },
  {
   "cell_type": "code",
   "execution_count": null,
   "id": "7223c050",
   "metadata": {},
   "outputs": [],
   "source": [
    "from hera import toolkitHome"
   ]
  },
  {
   "cell_type": "markdown",
   "id": "68cbd95f",
   "metadata": {},
   "source": [
    "Using the **toolkitHome** class, we can reach and initiate any type of toolkit we want, using the *getToolkit()* function.  \n",
    "The *getToolkit()* function receives two main arguments:  \n",
    "1) Toolkit Name — the type of toolkit you want to access.  \n",
    "2) Project Name — the project you want to connect the toolkit to.\n",
    "\n",
    "The project name is simply a user-defined string (no strict format).  \n",
    "The toolkit name must match one of the predefined attributes in `toolkitHome`.  \n",
    "When specifying a toolkit name, use only names from the following list:"
   ]
  },
  {
   "cell_type": "code",
   "execution_count": null,
   "id": "53bd7ac2",
   "metadata": {},
   "outputs": [],
   "source": [
    "for attr in dir(toolkitHome)[1:-2]:\n",
    "    if not callable(getattr(toolkitHome, attr)) and not attr.startswith(\"__\") and not 'SAVEMODE' in attr:\n",
    "        print(f\"{attr}: '{getattr(toolkitHome, attr)}'\")"
   ]
  },
  {
   "cell_type": "markdown",
   "id": "0a58308c",
   "metadata": {},
   "source": [
    "For demonstration, let's initiate the GIS Buildings toolkit and connect it to a new project.  \n",
    "Pay attention to the syntax and how we retrieve the toolkit name:"
   ]
  },
  {
   "cell_type": "code",
   "execution_count": null,
   "id": "590b5b07",
   "metadata": {},
   "outputs": [],
   "source": [
    "toolkitName = toolkitHome.GIS_BUILDINGS  ## Same as 'GIS_LandCover'\n",
    "projectName = \"MY_PROJECT\"\n",
    "\n",
    "building_toolkit = toolkitHome.getToolkit(\n",
    "    toolkitName=toolkitName,\n",
    "    projectName=projectName\n",
    ")"
   ]
  },
  {
   "cell_type": "markdown",
   "id": "62ce0224",
   "metadata": {},
   "source": [
    "By writing *toolkitHome.GIS_BUILDINGS*,  \n",
    "we basically retrieve the corresponding string for the GIS Buildings toolkit."
   ]
  },
  {
   "cell_type": "code",
   "execution_count": null,
   "id": "e5c946a8",
   "metadata": {},
   "outputs": [],
   "source": [
    "toolkitName"
   ]
  },
  {
   "cell_type": "markdown",
   "id": "d8d80b38",
   "metadata": {},
   "source": [
    "Now we have a new variable *building_toolkit*, which represents a GIS Buildings toolkit connected to the project \"MY_PROJECT\".\n",
    "\n",
    "**Important Note:**  \n",
    "When initializing a toolkit:\n",
    "- If no project with the specified name exists, a new empty project will be created.\n",
    "- If the project already exists, the toolkit will connect to it."
   ]
  },
  {
   "cell_type": "markdown",
   "id": "a8109889",
   "metadata": {},
   "source": [
    "Since the project is currently empty (no data sources added yet), let's set the toolkit aside for now and move on to data sources."
   ]
  },
  {
   "cell_type": "markdown",
   "id": "b5c9e750",
   "metadata": {},
   "source": [
    "## Data Sources  \n",
    "A data source is external data needed by a toolkit.  \n",
    "Each toolkit works with one or more data sources, which provide the information it needs to operate.\n",
    "\n",
    "Sources can include:  \n",
    "- URLs\n",
    "- File paths to files and folders\n",
    "- Python Classes or Objects\n",
    "- And more\n",
    "\n",
    "Datasources also include versioning and metadata.  \n",
    "Each toolkit knows how to handle its corresponding data source type.\n",
    "\n",
    "### Data Source Structure\n",
    "\n",
    "A datasource is represented as a structured JSON object that defines all necessary information about a dataset.  \n",
    "For example, a GIS Buildings Data Source could look like this:\n",
    "\n",
    "```json\n",
    "\"GIS_Buildings\": {\n",
    "    \"DataSource\": {\n",
    "        \"BNTL\": {\n",
    "            \"item\": {\n",
    "                \"resource\": \"data/GIS_BUILDING/BNTL-JERUSALEM/JERU-BLDG.shp\",\n",
    "                \"dataFormat\": \"geopandas\",\n",
    "                \"desc\": {\n",
    "                    \"crs\": 2039,\n",
    "                    \"BuildingHeightColumn\": \"BLDG_HT\",\n",
    "                    \"LandHeightColumns\": \"HT_LAND\"\n",
    "                }\n",
    "            }\n",
    "        }\n",
    "    }\n",
    "}\n",
    "```\n",
    "\n",
    "**Explanation of the Components:**  \n",
    "- **Toolkit Type (GIS_Buildings)**: Defines which toolkit will use the datasource.  \n",
    "- **DataSource Section**: Contains named datasource entries (like 'BNTL').  \n",
    "- **Item Details**:  \n",
    "  - **resource**: The path to the file.  \n",
    "  - **dataFormat**: The data format (e.g., geopandas, rasterio).  \n",
    "  - **desc**: Metadata such as coordinate system, important columns, etc."
   ]
  },
  {
   "cell_type": "markdown",
   "id": "4c6ade85",
   "metadata": {},
   "source": [
    "## Understanding the Role of JSON and Data Sources\n",
    "\n",
    "In Hera, toolkits manage complex data, but they **do not inherently know** where the data is or how it is structured.  \n",
    "That's why we need a **JSON description** that instructs the toolkit:\n",
    "\n",
    "- Where the data file is located (`resource`).\n",
    "- What format the data is in (`dataFormat`).\n",
    "- How to interpret it (`desc`).\n",
    "\n",
    "### Why is JSON Necessary?\n",
    "\n",
    "The toolkit can't guess:\n",
    "- Which file to open.\n",
    "- Which library to use.\n",
    "- How to map the data fields.\n",
    "\n",
    "The JSON acts as a **contract** — a blueprint that tells the toolkit how to interact with the data properly.\n",
    "\n",
    "### Where Does the Data Actually Come From?\n",
    "\n",
    "The **Data Source** is the operational part that reads the JSON instructions and actually:\n",
    "- Opens the specified file.\n",
    "- Loads it using the correct handler (e.g., Rasterio, GeoPandas).\n",
    "- Parses it according to the given metadata.\n",
    "\n",
    "If the `resource` is missing or wrong, loading will fail!\n",
    "\n",
    "### Simple Example\n",
    "\n",
    "Suppose we have an elevation file `/home/user/elevation/N33E035.hgt`,  \n",
    "the corresponding JSON would be:\n",
    "\n",
    "```json\n",
    "{\n",
    "    \"GIS_Topography\": {\n",
    "        \"DataSource\": {\n",
    "            \"SRTMGL1\": {\n",
    "                \"item\": {\n",
    "                    \"resource\": \"/home/user/elevation/N33E035.hgt\",\n",
    "                    \"dataFormat\": \"rasterio\",\n",
    "                    \"desc\": {\n",
    "                        \"crs\": 4326\n",
    "                    }\n",
    "                }\n",
    "            }\n",
    "        }\n",
    "    }\n",
    "}\n",
    "```\n",
    "\n",
    "The toolkit will:\n",
    "- Open `/home/user/elevation/N33E035.hgt`.\n",
    "- Use Rasterio to read it.\n",
    "- Understand that it uses WGS84 coordinates (EPSG:4326)."
   ]
  },
  {
   "cell_type": "markdown",
   "id": "0f5e8f03",
   "metadata": {},
   "source": [
    "## Example: GIS Topography Toolkit and Elevation Data Source\n",
    "\n",
    "Now, let's see a complete example using the **GIS Topography Toolkit**.\n",
    "\n",
    "### Preparing the Data Source\n",
    "\n",
    "We have a real elevation file `N33E035.hgt` containing SRTM data for a geographic region.\n",
    "\n",
    "The JSON would be:\n",
    "\n",
    "```json\n",
    "{\n",
    "    \"GIS_Topography\": {\n",
    "        \"DataSource\": {\n",
    "            \"SRTMGL1\": {\n",
    "                \"item\": {\n",
    "                    \"resource\": \"path/to/N33E035.hgt\",\n",
    "                    \"dataFormat\": \"rasterio\",\n",
    "                    \"desc\": {\n",
    "                        \"crs\": 4326\n",
    "                    }\n",
    "                }\n",
    "            }\n",
    "        }\n",
    "    }\n",
    "}\n",
    "```"
   ]
  },
  {
   "cell_type": "markdown",
   "id": "d8ff7b43",
   "metadata": {},
   "source": [
    "### Loading the Toolkit and Adding the Data Source"
   ]
  },
  {
   "cell_type": "code",
   "execution_count": null,
   "id": "6decec05",
   "metadata": {},
   "outputs": [],
   "source": [
    "from hera import toolkitHome\n",
    "\n",
    "# Set the toolkit and project\n",
    "toolkitName = toolkitHome.GIS_TOPOGRAPHY\n",
    "projectName = \"MY_TOPO_PROJECT\"\n",
    "\n",
    "# Initialize the toolkit\n",
    "topography_toolkit = toolkitHome.getToolkit(\n",
    "    toolkitName=toolkitName,\n",
    "    projectName=projectName\n",
    ")\n",
    "\n",
    "# Define the datasource JSON\n",
    "datasource_json = {\n",
    "    \"GIS_Topography\": {\n",
    "        \"DataSource\": {\n",
    "            \"SRTMGL1\": {\n",
    "                \"item\": {\n",
    "                    \"resource\": \"path/to/N33E035.hgt\",\n",
    "                    \"dataFormat\": \"rasterio\",\n",
    "                    \"desc\": {\n",
    "                        \"crs\": 4326\n",
    "                    }\n",
    "                }\n",
    "            }\n",
    "        }\n",
    "    }\n",
    "}\n",
    "\n",
    "# Add the datasource to the toolkit\n",
    "topography_toolkit.addDatasource(datasource_json)"
   ]
  },
  {
   "cell_type": "markdown",
   "id": "d37b02a8",
   "metadata": {},
   "source": [
    "### Querying Elevation Data"
   ]
  },
  {
   "cell_type": "code",
   "execution_count": null,
   "id": "f39f26f9",
   "metadata": {},
   "outputs": [],
   "source": [
    "# Get elevation at latitude 33.8N and longitude 35.2E\n",
    "elevation = topography_toolkit.getPointElevation(lat=33.8, lon=35.2)\n",
    "print(f\"Elevation at (33.8N, 35.2E): {elevation} meters\")"
   ]
  },
  {
   "cell_type": "markdown",
   "id": "c3c1a5f3",
   "metadata": {},
   "source": [
    "### Summary\n",
    "\n",
    "Toolkits in Hera make it easy to manage complex datasets.  \n",
    "By defining clear JSON Data Sources, you can connect external files and perform advanced queries and analysis — all with clean, simple Python code."
   ]
  }
 ],
 "metadata": {},
 "nbformat": 4,
 "nbformat_minor": 5
}
