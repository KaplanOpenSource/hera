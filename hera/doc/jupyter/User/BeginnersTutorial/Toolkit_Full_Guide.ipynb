{
 "cells": [
  {
   "cell_type": "markdown",
   "id": "c7ab5399",
   "metadata": {},
   "source": [
    "# Toolkit and Data Sources"
   ]
  },
  {
   "cell_type": "markdown",
   "id": "47ca5330",
   "metadata": {},
   "source": [
    "## Toolkits  \n",
    "A toolkit is a set of tools and functionalities tailored for specific areas and their data.  \n",
    "For example, the GIS Buildings toolkit is designed to work with Buildings data and includes functions for analyzing and managing this type of data.\n",
    "\n",
    "Each toolkit requires one or more datasources to function and operate. Each type of toolkit works with its corresponding data source type.  \n",
    "For example, the GIS Buildings toolkit works with a GIS Buildings Data Source.  \n",
    "Data sources are placed inside projects.  \n",
    "We will soon detail more about data sources in this notebook.\n",
    "\n",
    "### The Toolkit Structure\n",
    "Basically, each toolkit is designed as a 3-tier application. In simple words, each toolkit includes 3 layers:  \n",
    "1) **Data Layer**: Manages loading and parsing the specific data domain.  \n",
    "2) **Presentation Layer**: Manages the graphs and other types of presentation for the specific domain.  \n",
    "3) **Analysis Layer**: Manages the analysis and computational functions for the specific domain.\n",
    "\n",
    "At the end, users will mainly use the second and third layers.  "
   ]
  },
  {
   "cell_type": "markdown",
   "id": "d1dddc66",
   "metadata": {},
   "source": [
    "### Getting Started with Toolkits  \n",
    "Let's see how we initiate a toolkit and connect it to a project.  \n",
    "First, we need to import the **toolkitHome** class from Hera:"
   ]
  },
  {
   "cell_type": "code",
   "execution_count": 1,
   "id": "7223c050",
   "metadata": {},
   "outputs": [],
   "source": [
    "from hera import toolkitHome"
   ]
  },
  {
   "cell_type": "markdown",
   "id": "68cbd95f",
   "metadata": {},
   "source": [
    "Using the **toolkitHome** class, we can reach and initiate any type of toolkit we want, using the *getToolkit()* function.  \n",
    "The *getToolkit()* function receives two main arguments:  \n",
    "1) Toolkit Name — the type of toolkit you want to access.  \n",
    "2) Project Name — the project you want to connect the toolkit to.\n",
    "\n",
    "The project name is simply a user-defined string (no strict format).  \n",
    "The toolkit name must match one of the predefined attributes in `toolkitHome`.  \n",
    "When specifying a toolkit name, use only names from the following list:"
   ]
  },
  {
   "cell_type": "code",
   "execution_count": 2,
   "id": "53bd7ac2",
   "metadata": {},
   "outputs": [
    {
     "name": "stdout",
     "output_type": "stream",
     "text": [
      "EXPERIMENT: 'experiment'\n",
      "GAUSSIANDISPERSION: 'GaussianDispersion'\n",
      "GIS_BUILDINGS: 'GIS_Buildings'\n",
      "GIS_DEMOGRAPHY: 'GIS_Demography'\n",
      "GIS_LANDCOVER: 'GIS_LandCover'\n",
      "GIS_RASTER_TOPOGRAPHY: 'GIS_Raster_Topography'\n",
      "GIS_SHAPES: 'GIS_Shapes'\n",
      "GIS_TILES: 'GIS_Tiles'\n",
      "GIS_VECTOR_TOPOGRAPHY: 'GIS_Vector_Topography'\n",
      "LSM: 'LSM'\n",
      "METEOROLOGY_HIGHFREQ: 'MeteoHighFreq'\n",
      "METEOROLOGY_LOWFREQ: 'MeteoLowFreq'\n",
      "RISKASSESSMENT: 'RiskAssessment'\n",
      "SIMULATIONS_OPENFOAM: 'OpenFOAM'\n",
      "SIMULATIONS_WORKFLOWS: 'hermesWorkflows'\n",
      "WINDPROFILE: 'WindProfile'\n"
     ]
    }
   ],
   "source": [
    "for attr in dir(toolkitHome)[1:-2]:\n",
    "    if not callable(getattr(toolkitHome, attr)) and not attr.startswith(\"__\") and not 'SAVEMODE' in attr:\n",
    "        print(f\"{attr}: '{getattr(toolkitHome, attr)}'\")"
   ]
  },
  {
   "cell_type": "markdown",
   "id": "0a58308c",
   "metadata": {},
   "source": [
    "For demonstration, let's initiate the GIS Buildings toolkit and connect it to a new project.  \n",
    "Pay attention to the syntax and how we retrieve the toolkit name:"
   ]
  },
  {
   "cell_type": "code",
   "execution_count": 3,
   "id": "590b5b07",
   "metadata": {},
   "outputs": [],
   "source": [
    "toolkitName = toolkitHome.GIS_BUILDINGS  ## Same as 'GIS_LandCover'\n",
    "projectName = \"MY_PROJECT\"\n",
    "\n",
    "building_toolkit = toolkitHome.getToolkit(\n",
    "    toolkitName=toolkitName,\n",
    "    projectName=projectName\n",
    ")"
   ]
  },
  {
   "cell_type": "markdown",
   "id": "62ce0224",
   "metadata": {},
   "source": [
    "By writing *toolkitHome.GIS_BUILDINGS*,  \n",
    "we basically retrieve the corresponding string for the GIS Buildings toolkit."
   ]
  },
  {
   "cell_type": "code",
   "execution_count": 4,
   "id": "e5c946a8",
   "metadata": {},
   "outputs": [
    {
     "data": {
      "text/plain": [
       "'GIS_Buildings'"
      ]
     },
     "execution_count": 4,
     "metadata": {},
     "output_type": "execute_result"
    }
   ],
   "source": [
    "toolkitName"
   ]
  },
  {
   "cell_type": "markdown",
   "id": "d8d80b38",
   "metadata": {},
   "source": [
    "Now we have a new variable *building_toolkit*, which represents a GIS Buildings toolkit connected to the project \"MY_PROJECT\".\n",
    "\n",
    "**Important Note:**  \n",
    "When initializing a toolkit:\n",
    "- If no project with the specified name exists, a new empty project will be created.\n",
    "- If the project already exists, the toolkit will connect to it."
   ]
  },
  {
   "cell_type": "markdown",
   "id": "a8109889",
   "metadata": {},
   "source": [
    "Since the project is currently empty (no data sources added yet), let's set the toolkit aside for now and move on to data sources."
   ]
  },
  {
   "cell_type": "markdown",
   "id": "b5c9e750",
   "metadata": {},
   "source": [
    "## Data Sources  \n",
    "A data source is external data needed by a toolkit.  \n",
    "Each toolkit works with one or more data sources, which provide the information it needs to operate.\n",
    "\n",
    "Sources can include:  \n",
    "- URLs\n",
    "- File paths to files and folders\n",
    "- Python Classes or Objects<br>\n",
    "  And more\n",
    "\n",
    "Datasources also include versioning and metadata.  \n",
    "Each toolkit knows how to handle its corresponding data source type.\n",
    "\n",
    "### Data Source Structure\n",
    "\n",
    "A datasource is represented as a structured JSON object that defines all necessary information about a dataset.  \n",
    "For example, a GIS Buildings Data Source could look like this:\n",
    "\n",
    "```json\n",
    "\"GIS_Buildings\": {\n",
    "    \"DataSource\": {\n",
    "        \"BNTL\": {\n",
    "            \"item\": {\n",
    "                \"resource\": \"data/GIS_BUILDING/BNTL-JERUSALEM/JERU-BLDG.shp\",\n",
    "                \"dataFormat\": \"geopandas\",\n",
    "                \"desc\": {\n",
    "                    \"crs\": 2039,\n",
    "                    \"BuildingHeightColumn\": \"BLDG_HT\",\n",
    "                    \"LandHeightColumns\": \"HT_LAND\"\n",
    "                }\n",
    "            }\n",
    "        }\n",
    "    }\n",
    "}\n",
    "```\n",
    "\n",
    "**Explanation of the Components:**  \n",
    "- **Toolkit Type (GIS_Buildings)**: Defines which toolkit will use the datasource.  \n",
    "- **DataSource Section**: Contains named datasource entries (like 'BNTL').  \n",
    "- **Item Details**:  \n",
    "  - **resource**: The path to the file.  \n",
    "  - **dataFormat**: The data format (e.g., geopandas, rasterio).  \n",
    "  - **desc**: Metadata such as coordinate system, important columns, etc."
   ]
  },
  {
   "cell_type": "markdown",
   "id": "758d7c81-e346-45d9-9276-27170697610b",
   "metadata": {},
   "source": [
    "### Example- Loading the Toolkit and Adding the Data Source"
   ]
  },
  {
   "cell_type": "code",
   "execution_count": 1,
   "id": "6decec05",
   "metadata": {},
   "outputs": [
    {
     "data": {
      "text/plain": [
       "<Measurements: {\n",
       "    \"_cls\": \"Metadata.Measurements\",\n",
       "    \"projectName\": \"MY_PROJECT\",\n",
       "    \"desc\": {\n",
       "        \"toolkit\": \"Buildings\",\n",
       "        \"datasourceName\": {\n",
       "            \"GIS_Buildings\": {\n",
       "                \"DataSource\": {\n",
       "                    \"BNTL\": {\n",
       "                        \"item\": {\n",
       "                            \"resource\": \"data/GIS_BUILDING/BNTL-JERUSALEM/JERU-BLDG.shp\",\n",
       "                            \"dataFormat\": \"geopandas\",\n",
       "                            \"desc\": {\n",
       "                                \"crs\": 2039,\n",
       "                                \"BuildingHeightColumn\": \"BLDG_HT\",\n",
       "                                \"LandHeightColumns\": \"HT_LAND\"\n",
       "                            }\n",
       "                        }\n",
       "                    }\n",
       "                }\n",
       "            }\n",
       "        },\n",
       "        \"version\": [\n",
       "            0,\n",
       "            0,\n",
       "            1\n",
       "        ]\n",
       "    },\n",
       "    \"type\": \"ToolkitDataSource\",\n",
       "    \"resource\": \"data/GIS_BUILDING/BNTL-JERUSALEM/JERU-BLDG.shp\",\n",
       "    \"dataFormat\": \"geopandas\"\n",
       "}>"
      ]
     },
     "execution_count": 1,
     "metadata": {},
     "output_type": "execute_result"
    }
   ],
   "source": [
    "from hera import toolkitHome\n",
    "\n",
    "# Set the toolkit and project\n",
    "toolkitName = toolkitHome.GIS_BUILDINGS\n",
    "projectName = \"MY_PROJECT\"\n",
    "\n",
    "# Initialize the toolkit\n",
    "building_toolkit = toolkitHome.getToolkit(\n",
    "    toolkitName=toolkitName,\n",
    "    projectName=projectName\n",
    ")\n",
    "\n",
    "# Define the datasource JSON\n",
    "datasource_json = {\n",
    "    \"GIS_Buildings\": {\n",
    "        \"DataSource\": {\n",
    "            \"BNTL\": {\n",
    "                \"item\": {\n",
    "                    \"resource\": \"data/GIS_BUILDING/BNTL-JERUSALEM/JERU-BLDG.shp\",\n",
    "                    \"dataFormat\": \"geopandas\",\n",
    "                    \"desc\": {\n",
    "                        \"crs\": 2039,\n",
    "                        \"BuildingHeightColumn\": \"BLDG_HT\",\n",
    "                        \"LandHeightColumns\": \"HT_LAND\"\n",
    "                }\n",
    "            }\n",
    "        }\n",
    "    }\n",
    "}\n",
    "}\n",
    "# Add the datasource to the toolkit\n",
    "building_toolkit.addDataSource(datasource_json,\"data/GIS_BUILDING/BNTL-JERUSALEM/JERU-BLDG.shp\",\"geopandas\")"
   ]
  }
 ],
 "metadata": {
  "kernelspec": {
   "display_name": "Python 3 (ipykernel)",
   "language": "python",
   "name": "python3"
  },
  "language_info": {
   "codemirror_mode": {
    "name": "ipython",
    "version": 3
   },
   "file_extension": ".py",
   "mimetype": "text/x-python",
   "name": "python",
   "nbconvert_exporter": "python",
   "pygments_lexer": "ipython3",
   "version": "3.9.13"
  }
 },
 "nbformat": 4,
 "nbformat_minor": 5
}
