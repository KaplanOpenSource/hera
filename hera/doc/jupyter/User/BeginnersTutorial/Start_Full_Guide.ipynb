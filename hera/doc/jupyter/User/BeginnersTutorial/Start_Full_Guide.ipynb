{
 "cells": [
  {
   "cell_type": "markdown",
   "id": "1c2225d6",
   "metadata": {},
   "source": [
    "\n",
    "# Introduction to Hera and Heraenv\n",
    "\n",
    "**What is Hera?**  \n",
    "Hera is an integrated platform that simplifies the management of complex projects across various domains such as experiments, geographic information systems (GIS), risk assessment, and physical simulations.  \n",
    "It provides ready-to-use toolkits, data handling, analysis tools, and graphical presentations — all without needing deep programming skills.\n",
    "\n",
    "Hera’s design is based on these principles:\n",
    "- **Modularity**: You load only the toolkits you need.\n",
    "- **Scalability**: Works from small to very large datasets.\n",
    "- **Automation**: You don't have to manually write scripts to manage projects or analyze data.\n",
    "- **Cross-domain**: Supports many types of scientific and engineering fields.\n",
    "\n",
    "**Main Domains Supported:**\n",
    "- Measurements (Experiments, GIS, Meteorology)\n",
    "- Risk Assessment (Agent-Based Modeling)\n",
    "- Simulations (Wind Profiles, OpenFOAM)\n"
   ]
  },
  {
   "cell_type": "markdown",
   "id": "3bc3c0fb",
   "metadata": {},
   "source": [
    "\n",
    "**What is heraenv (the virtual environment)?**  \n",
    "`heraenv` is a dedicated Python virtual environment that contains all the libraries and dependencies needed to work smoothly with the Hera platform.\n",
    "\n",
    "It includes:\n",
    "- Data processing libraries like `geopandas`, `rasterio`, `pandas`, `numpy`.\n",
    "- Visualization libraries like `matplotlib`.\n",
    "- Database connectors (for MongoDB and others).\n",
    "- Hera-specific libraries that connect you to the Hera project system.\n",
    "\n",
    "**Why use a virtual environment?**\n",
    "- **Isolation**: No conflicts with other Python packages installed on your computer.\n",
    "- **Stability**: Ensures that the versions of libraries are exactly the ones Hera needs.\n",
    "- **Ease of Setup**: One simple environment — you activate it and start working, without worrying about setup each time.\n"
   ]
  },
  {
   "cell_type": "markdown",
   "id": "142d8964",
   "metadata": {},
   "source": [
    "\n",
    "# Beginner Tutorial  \n",
    "Welcome to the Hera System!\n",
    "\n",
    "Hera is a powerful platform designed to help you easily manage projects and work in a variety of specialized areas without needing to write scripts.\n",
    "\n",
    "It is built to support tasks across three main domains:  \n",
    "\n",
    "**Measurements**  \n",
    "- Experiment conduction and management.\n",
    "- GIS data (both raster and vector).\n",
    "- Meteorological data (low and high-frequency datasets).\n",
    "\n",
    "**Risk Assessment**  \n",
    "- Model and manage risk using advanced agent-based approaches.\n",
    "\n",
    "**Simulations**  \n",
    "- Wind Profiles for analysis.\n",
    "- OpenFOAM.\n",
    "\n",
    "Each of these domains is enhanced with presentation and analysis tools, making it easy to visualize data and gain insights.\n",
    "Whether you're working with experiments, assessing risks, or running simulations, Hera simplifies complex tasks so you can focus on results.\n"
   ]
  },
  {
   "cell_type": "markdown",
   "id": "c954c650",
   "metadata": {},
   "source": [
    "\n",
    "## Basic Concepts  \n",
    "\n",
    "To understand how Hera works, let’s explore some key ideas:\n",
    "\n",
    "**Toolkit**  \n",
    "A toolkit is a set of tools and functionalities tailored for a specific area.  \n",
    "Examples:\n",
    "- The GIS toolkit uses raster or vector files from specific URLs or files.\n",
    "- The experiment toolkit is for creating and managing experiments.\n",
    "- The windProfile toolkit handles creation and analysis of wind profiles.\n",
    "- And more...\n",
    "\n",
    "Toolkits provide the core functions for their respective areas, allowing you to handle tasks easily without writing complex code.\n",
    "\n",
    "**Data Sources**  \n",
    "Each toolkit works with various data sources, which provide the information it needs to operate.  \n",
    "Examples:\n",
    "- URLs pointing to online maps.\n",
    "- File paths to local or network-stored data.\n",
    "- JSON objects describing specific datasets.\n",
    "- And more...\n",
    "\n",
    "Datasources also include version and metadata.\n",
    "\n",
    "**Project**  \n",
    "A project in Hera is a central workspace where you can bring together multiple datasources.  \n",
    "For example, one project might include:\n",
    "- GIS Building datasources\n",
    "- Landcover datasources\n",
    "- Risk assessment datasources\n",
    "- And more...\n",
    "\n",
    "Projects help you manage and organize different data sources effectively, allowing you to work seamlessly across various areas.\n",
    "\n",
    "When a project is initiated with multiple data sources, the corresponding toolkit can be connected to perform tasks.  \n",
    "Toolkits automatically link to the data sources in the project, enabling immediate access and operations.\n",
    "\n",
    "**Repository**  \n",
    "Each project can connect to one or more repositories. A repository is a storage hub for information about data sources (typically stored in JSON format).  \n",
    "Examples:\n",
    "- The URL for a raster GIS toolkit.\n",
    "- The file path for GIS building folders.\n",
    "- And more...\n",
    "\n",
    "You can connect a project to multiple repositories, each holding data for different toolkits.\n"
   ]
  },
  {
   "cell_type": "markdown",
   "id": "ded06ca1",
   "metadata": {},
   "source": [
    "\n",
    "## Getting Started  \n",
    "\n",
    "To become familiar with the basics of the Hera system, we recommend following these documents (in order):\n",
    "\n",
    "1. [Toolkit Documentation](./ToolKit.ipynb)\n",
    "2. [Project Documentation](./Project.ipynb)\n"
   ]
  }
 ],
 "metadata": {
  "kernelspec": {
   "display_name": "Python 3 (ipykernel)",
   "language": "python",
   "name": "python3"
  },
  "language_info": {
   "codemirror_mode": {
    "name": "ipython",
    "version": 3
   },
   "file_extension": ".py",
   "mimetype": "text/x-python",
   "name": "python",
   "nbconvert_exporter": "python",
   "pygments_lexer": "ipython3",
   "version": "3.9.13"
  }
 },
 "nbformat": 4,
 "nbformat_minor": 5
}
