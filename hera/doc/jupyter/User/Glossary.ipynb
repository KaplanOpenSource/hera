{
 "cells": [
  {
   "cell_type": "markdown",
   "id": "2c77768b",
   "metadata": {},
   "source": [
    "# 📘 Glossary of Terms"
   ]
  },
  {
   "cell_type": "markdown",
   "id": "e71af411",
   "metadata": {},
   "source": [
    "### [**Toolkit**](BeginnersTutorial/Toolkit_and_DataSource.ipynb)\n",
    "A toolkit is a collection of tools made to work with specific types of data, like buildings, land, or weather. It helps you analyze, visualize, and work with that data.\n",
    "Once a document is loaded into a project, you can connect a suitable toolkit to perform operations on the data."
   ]
  },
  {
   "cell_type": "markdown",
   "id": "0609b946",
   "metadata": {},
   "source": [
    "### [**Data Source**](BeginnersTutorial/DataSource.ipynb)\n",
    "A data source is an external data that a toolkit needs to work. This can be a file, URL, or even a Python object. It includes all the information needed for the toolkit to read and understand the data."
   ]
  },
  {
   "cell_type": "markdown",
   "id": "79ac146a",
   "metadata": {},
   "source": [
    "### [**Project**](BeginnersTutorial/Project.ipynb)\n",
    "A project is where all your toolkits and data sources are connected and stored. Think of it like a folder or workspace that holds everything related to one analysis.\n",
    "\n",
    "  "
   ]
  },
  {
   "cell_type": "markdown",
   "id": "cb3b4e0d",
   "metadata": {},
   "source": [
    "\n",
    "### [**Repository**](BeginnersTutorial/Repository.ipynb)\n",
    "A repository is like a digital folder that holds various types of data sources and documents.\n",
    "Each repository is described using a JSON file and can be added to your workspace to use its contents automatically. "
   ]
  }
 ],
 "metadata": {
  "kernelspec": {
   "display_name": "Python 3 (ipykernel)",
   "language": "python",
   "name": "python3"
  },
  "language_info": {
   "codemirror_mode": {
    "name": "ipython",
    "version": 3
   },
   "file_extension": ".py",
   "mimetype": "text/x-python",
   "name": "python",
   "nbconvert_exporter": "python",
   "pygments_lexer": "ipython3",
   "version": "3.9.13"
  }
 },
 "nbformat": 4,
 "nbformat_minor": 5
}
