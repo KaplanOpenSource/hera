{
 "cells": [
  {
   "cell_type": "markdown",
   "id": "a80ce7d2-e80c-48f2-ab7a-96e31d8fb5e7",
   "metadata": {},
   "source": [
    "# Experiment Usage Documendation"
   ]
  },
  {
   "cell_type": "markdown",
   "id": "3b5320ac-0bbb-45ba-bc71-35b63f9aebb7",
   "metadata": {},
   "source": [
    "This notebook is a user's guide to everything related to using existing experiments.  \n",
    "The notebook includes a general guide to all actions related to using experiments using an example for demonstration. "
   ]
  },
  {
   "cell_type": "markdown",
   "id": "0a036e78-b885-476b-bf4c-f19a61a66874",
   "metadata": {},
   "source": [
    "## Introduction  \n",
    "\n",
    "Before we start, you should know that an experiment will be always connected to a certain or several Projects. \n",
    "You can read more about Projects [here](https://github.com/KaplanOpenSource/hera/blob/master/hera/doc/jupyter/datalayer/Project.ipynb).  \n",
    "\n",
    "Given only a zip file containing the metadata of an experiment, you can easily create it and connect it to a project, with a few simple comand lines(CLI) in your environment. \n",
    "\n",
    "\n",
    "### Experiment and Experiment ToolKit\n",
    "An **Experiment** is a simply folder that contains all the files related to an experiment, such as: the data of the devices, the metadata (which devices are in the experiment and etc.), the class of the experiment (will be explained soon) and other files. The **Experiment toolKit** is the interface which you can access that folder and perform actions and manipulations on it simply, and according to your requirements. \n",
    "\n",
    "### Why you should use it  \n",
    "#### Functions are already build for you\n",
    "The experiment toolkit is designed to handle experiments data and metadata inside projects. You can perform various actions with it. Instead of writing the code yourself, the tool already contains all functions you need.  \n",
    "#### Easy access to experiments\n",
    "It is also useful because it does not require you to remember where all experiments folders are. Inside a project, there may be a high number of experiments that you wish to reach, but you may not remember where their paths. The toolKit already holds the paths for you, so you can create as many experiments as you wish, without worrying about remembering their locations."
   ]
  },
  {
   "cell_type": "markdown",
   "id": "eaca7398-3a70-46b3-a4c1-dec1096dc87c",
   "metadata": {},
   "source": [
    "## First usage of an existing experiment - Loading experiments using Repositories\n",
    "After we have created a new experiment directory, we need to load it to an existing or a new project.  \n",
    "We will add an experiment to a project using a Repository (the JSON file in the experiment directory).  \n",
    "A Repository includes all the metadata and paths of an experiment.  \n",
    "\n",
    "**Why should we use Repsotiry?**  \n",
    "\n",
    "Using a regular 'load' command (mentioned below), the experiment will be loaded to your project. However, if we wish to load this experiment to other projects, either with new ones you want to create or existing ones, we will have to perform the load command multiple times, moreover if we have multiple experiments.\n",
    "In order to avoid remembering the paths for each experiment and repeating the command many times, we use Repositories.  \n",
    "\n",
    "Whenever we will add a Repository of an experiment to the Repository list in our system, each new project we will create will automaticly contain it. We can also update an existing project after we added the repository to the list.  \n",
    "\n",
    "(You can read more about Repositories [here](/hera/doc/jupyter/Repository.ipynb) if you wish.)\n",
    "\n",
    "For adding the repository of an experiment to the repository list in your system, we can perform the following CLI:  \n",
    "\n",
    "<p style=\"background:black\">\n",
    "<code style=\"background:black;color:white\">>> hera-project repository add &ltrepository&gt\n",
    "</code>\n",
    "</p>   \n",
    "\n",
    "Arguments:  \n",
    "- **repository**: Path to the repository.\n"
   ]
  },
  {
   "cell_type": "markdown",
   "id": "3ba6bb68-2ce9-4433-8712-0977e2f5b4ab",
   "metadata": {},
   "source": [
    "### Example:  \n",
    "In our example (if we are currently in the experiment directory), we will use:\n",
    "<p style=\"background:black\">\n",
    "<code style=\"background:black;color:white\">>> hera-project repository add Haifa2014_repository.json\n",
    "</code>\n",
    "</p>   "
   ]
  },
  {
   "cell_type": "markdown",
   "id": "c04941ce-5f53-4b0a-9d26-1b916c5ea0d6",
   "metadata": {},
   "source": [
    "Now, we only need to create a new project and the experiment will be automatically connected the new project. \n",
    "We do this with:  \n",
    "<p style=\"background:black\">\n",
    "<code style=\"background:black;color:white\">>> hera-project project create &ltprojectName&gt\n",
    "</code>\n",
    "</p>   "
   ]
  },
  {
   "cell_type": "markdown",
   "id": "c19ca5e0-6d0f-463d-9a1b-09b6536b4e9c",
   "metadata": {},
   "source": [
    "If we have an exisiting project already, and wish to load the repository we just created to the project, we can perform the 'updateRepositories' CLI:  \n",
    "\n",
    "<p style=\"background:black\">\n",
    "<code style=\"background:black;color:white\">>> hera-project project updateRepositories &ltprojectName&gt\n",
    "</code>\n",
    "</p>   "
   ]
  },
  {
   "cell_type": "markdown",
   "id": "3e5930c2-faac-4d02-ab83-c775a60c4fa9",
   "metadata": {},
   "source": [
    "## Loading an Experiment to a Project (without repository) \n",
    "\n",
    "We can load an existing experiment to an existing or a new project using the 'load' CLI:  \n",
    "\n",
    "<p style=\"background:black\">\n",
    "<code style=\"background:black;color:white\">>> hera-experiment load [--experiment &ltexperiment directory path&gt] &ltproject name&gt\n",
    "</code>\n",
    "</p>   \n",
    "\n",
    "Arguments:  \n",
    "- **experiment**: Path to the experiment directory. If you don't provide one, it takes the current directory. Make sure the directory is an experiment directory!\n",
    "- **project name**: The name of the existing or new project. If the project does not exists, it will create a new one with the name you defined.\n",
    "\n",
    "\n",
    "Note that if we don't use repostory, we will need to repeat this function each time for each project we want to add the experiment to."
   ]
  },
  {
   "cell_type": "markdown",
   "id": "676329ee-870d-412a-a2ef-5b0276261eec",
   "metadata": {},
   "source": [
    "## Experiment CLI Usage \n",
    "\n",
    "### List  \n",
    "To display the experiment list in a project, you can type the following command:  \n",
    "\n",
    "<p style=\"background:black\">\n",
    "<code style=\"background:black;color:white\">>> hera-experiment list [--projectName &ltthe project name&gt]\n",
    "</code>\n",
    "</p>   \n",
    "Arguments:  \n",
    "\n",
    "- **projectName**: The name of the Project (Optional). If does not exist take from configuration.json in your directory"
   ]
  },
  {
   "cell_type": "markdown",
   "id": "542f65d0-8b36-43d3-8df0-8bd0430a8270",
   "metadata": {},
   "source": [
    "### Table\n",
    "To display the experiments inside a project in a Table, with more details, you can type the  following command:  \n",
    "\n",
    "<p style=\"background:black\">\n",
    "<code style=\"background:black;color:white\">>> hera-experiment table [--projectName &ltthe project name&gt]\n",
    "</code>\n",
    "</p>   \n",
    "Arguments:  \n",
    "\n",
    "- **projectName**: The name of the Project (Optional). If does not exist take from configuration.json in your directory"
   ]
  },
  {
   "cell_type": "markdown",
   "id": "0995774c-f2f9-4567-8a90-a6b0f78ae6de",
   "metadata": {},
   "source": [
    "## Getting the Data  \n",
    "\n",
    "You can display the data of a certain device inside an experiment. For it, you can type the following command:  \n",
    "\n",
    "<p style=\"background:black\">\n",
    "<code style=\"background:black;color:white\">>> hera-experiment data [--projectName &ltthe project name&gt] &ltexperiment&gt &ltdeviceType&gt [--deviceName &ltdevice name&gt] [--perDevice &ltboolean argument&gt]\n",
    "</code>\n",
    "</p>   \n",
    "\n",
    "Arguments:  \n",
    "\n",
    "- **projectName**: The name of the Project (Optional). If does not exist take from configuration.json in your directory\n",
    "- **experiment**: The name of the experiment. Must be defined.\n",
    "- **deviceType**: The name of the device type you wish to display. Must be defined.\n",
    "- **deviceName**: The name of the device you wish to display. Optional. However, if perDevice=True, it must be specified.\n",
    "- **perDevice**: Boolean argument, defining if data is stored perDevice (long experiment or not). If true - device name must be specified."
   ]
  },
  {
   "cell_type": "markdown",
   "id": "f8474c90-915e-4b64-8091-dbebcc710d42",
   "metadata": {},
   "source": [
    "## Experiment ToolKit\n",
    "\n",
    "After we have an experiment connected to a project, we can use Experiment ToolKit in Python.  \n",
    "\n",
    "For doing that, we need to import the **toolkitHome** module and specify the <i>toolkitName</i> argument as **toolkitHome.EXPERIMENT**, just as the following cell. We also need to specify the Project we want to deal with, using the <i>projectName</i> argument. We will use the project we just created above."
   ]
  },
  {
   "cell_type": "code",
   "execution_count": 4,
   "id": "9dea002a-f551-4024-b026-908c37616291",
   "metadata": {},
   "outputs": [],
   "source": [
    "from hera import toolkitHome\n",
    "\n",
    "experimentToolKit = toolkitHome.getToolkit(toolkitName=toolkitHome.EXPERIMENT)"
   ]
  },
  {
   "cell_type": "code",
   "execution_count": 5,
   "id": "7ae3a185-03d8-418b-ac9b-4ac24a49ab55",
   "metadata": {},
   "outputs": [
    {
     "data": {
      "text/plain": [
       "<hera.measurements.experiment.experiment.experimentHome at 0x7d9dd1ec1d90>"
      ]
     },
     "execution_count": 5,
     "metadata": {},
     "output_type": "execute_result"
    }
   ],
   "source": [
    "experimentToolKit"
   ]
  },
  {
   "cell_type": "markdown",
   "id": "af07cb86-4044-43f7-81fa-0a5cc52e4c1e",
   "metadata": {},
   "source": [
    "### Useful Functions  \n",
    "Using the experimentToolKit, we can perform various useful functions:"
   ]
  },
  {
   "cell_type": "markdown",
   "id": "886c865a-af4e-4280-9cd0-77217620a362",
   "metadata": {},
   "source": [
    "#### List\n",
    "List of all experiments in a project (only names):"
   ]
  },
  {
   "cell_type": "code",
   "execution_count": 6,
   "id": "6b4b5092-57e9-4245-bc86-7354edf5b2d7",
   "metadata": {},
   "outputs": [
    {
     "data": {
      "text/plain": [
       "['IMS_experiment', 'Haifa2014']"
      ]
     },
     "execution_count": 6,
     "metadata": {},
     "output_type": "execute_result"
    }
   ],
   "source": [
    "experimentToolKit.keys()"
   ]
  },
  {
   "cell_type": "markdown",
   "id": "c9b28ef1-8c30-4e02-82b6-9a08ea9f46f1",
   "metadata": {},
   "source": [
    "#### Table\n",
    "List of all experiments in a project in Table displaying:"
   ]
  },
  {
   "cell_type": "code",
   "execution_count": 4,
   "id": "dff9d7d8-4688-4ba0-bddc-f56a5875a782",
   "metadata": {},
   "outputs": [
    {
     "data": {
      "text/html": [
       "<div>\n",
       "<style scoped>\n",
       "    .dataframe tbody tr th:only-of-type {\n",
       "        vertical-align: middle;\n",
       "    }\n",
       "\n",
       "    .dataframe tbody tr th {\n",
       "        vertical-align: top;\n",
       "    }\n",
       "\n",
       "    .dataframe thead th {\n",
       "        text-align: right;\n",
       "    }\n",
       "</style>\n",
       "<table border=\"1\" class=\"dataframe\">\n",
       "  <thead>\n",
       "    <tr style=\"text-align: right;\">\n",
       "      <th></th>\n",
       "      <th>dataFormat</th>\n",
       "      <th>resource</th>\n",
       "      <th>toolkit</th>\n",
       "      <th>datasourceName</th>\n",
       "      <th>version</th>\n",
       "    </tr>\n",
       "  </thead>\n",
       "  <tbody>\n",
       "    <tr>\n",
       "      <th>0</th>\n",
       "      <td>string</td>\n",
       "      <td>/home/salo/development/hera/hera/doc/jupyter/d...</td>\n",
       "      <td>experimentToolKit</td>\n",
       "      <td>IMS_experiment</td>\n",
       "      <td>[0, 0, 1]</td>\n",
       "    </tr>\n",
       "    <tr>\n",
       "      <th>1</th>\n",
       "      <td>string</td>\n",
       "      <td>/home/salo/development/hera/hera/doc/jupyter/d...</td>\n",
       "      <td>experimentToolKit</td>\n",
       "      <td>Haifa2014</td>\n",
       "      <td>[0, 0, 1]</td>\n",
       "    </tr>\n",
       "  </tbody>\n",
       "</table>\n",
       "</div>"
      ],
      "text/plain": [
       "  dataFormat                                           resource  \\\n",
       "0     string  /home/salo/development/hera/hera/doc/jupyter/d...   \n",
       "1     string  /home/salo/development/hera/hera/doc/jupyter/d...   \n",
       "\n",
       "             toolkit  datasourceName    version  \n",
       "0  experimentToolKit  IMS_experiment  [0, 0, 1]  \n",
       "1  experimentToolKit       Haifa2014  [0, 0, 1]  "
      ]
     },
     "execution_count": 4,
     "metadata": {},
     "output_type": "execute_result"
    }
   ],
   "source": [
    "experimentToolKit.getExperimentsTable()"
   ]
  },
  {
   "cell_type": "markdown",
   "id": "0d5d3d29-3d38-44d3-89a9-7c933fa00117",
   "metadata": {},
   "source": [
    "#### Reaching the Experiment Class\n",
    "You can reach the experiment class you implemented (or not), by specifing the experiment name:"
   ]
  },
  {
   "cell_type": "code",
   "execution_count": 5,
   "id": "9181bd92-e334-4bb8-8ea9-5546efad4a2b",
   "metadata": {},
   "outputs": [
    {
     "data": {
      "text/plain": [
       "<Haifa2014.Haifa2014 at 0x798e50117bd0>"
      ]
     },
     "execution_count": 5,
     "metadata": {},
     "output_type": "execute_result"
    }
   ],
   "source": [
    "experimentToolKit.getExperiment('Haifa2014')"
   ]
  },
  {
   "cell_type": "markdown",
   "id": "4c77aed9-57ed-497c-bc49-f22908a913e0",
   "metadata": {},
   "source": [
    "#### Metadata\n",
    "You can reach the metadata of a all experiments in the project:"
   ]
  },
  {
   "cell_type": "code",
   "execution_count": 6,
   "id": "d59e3926-14a7-450f-937e-2cb12711efd0",
   "metadata": {},
   "outputs": [
    {
     "data": {
      "text/plain": [
       "{'IMS_experiment': {'dataFormat': 'string',\n",
       "  'resource': '/home/salo/development/hera/hera/doc/jupyter/data/experiment/hera-ims/code/',\n",
       "  'toolkit': 'experimentToolKit',\n",
       "  'datasourceName': 'IMS_experiment',\n",
       "  'version': [0, 0, 1]},\n",
       " 'Haifa2014': {'dataFormat': 'string',\n",
       "  'resource': '/home/salo/development/hera/hera/doc/jupyter/data/experiment',\n",
       "  'toolkit': 'experimentToolKit',\n",
       "  'datasourceName': 'Haifa2014',\n",
       "  'version': [0, 0, 1]}}"
      ]
     },
     "execution_count": 6,
     "metadata": {},
     "output_type": "execute_result"
    }
   ],
   "source": [
    "experimentToolKit.getExperimentsMap()"
   ]
  },
  {
   "cell_type": "markdown",
   "id": "a962f0c0-9e0b-4238-870a-14669f862449",
   "metadata": {},
   "source": [
    "#### Getting the Data  \n",
    "Say we have parquet files inside our /data folder in the experiment folder. We can get data of a required device using the following cell:"
   ]
  },
  {
   "cell_type": "code",
   "execution_count": 7,
   "id": "c16b203d-376c-494f-91ee-403521a65d58",
   "metadata": {},
   "outputs": [
    {
     "name": "stderr",
     "output_type": "stream",
     "text": [
      "/home/salo/heraenv/lib/python3.11/site-packages/dask/dataframe/io/parquet/core.py:1241: FutureWarning: The fastparquet engine is deprecated and will be removed in a future release. Please install pyarrow.\n",
      "  warnings.warn(\n"
     ]
    },
    {
     "data": {
      "text/html": [
       "<div><strong>Dask DataFrame Structure:</strong></div>\n",
       "<div>\n",
       "<style scoped>\n",
       "    .dataframe tbody tr th:only-of-type {\n",
       "        vertical-align: middle;\n",
       "    }\n",
       "\n",
       "    .dataframe tbody tr th {\n",
       "        vertical-align: top;\n",
       "    }\n",
       "\n",
       "    .dataframe thead th {\n",
       "        text-align: right;\n",
       "    }\n",
       "</style>\n",
       "<table border=\"1\" class=\"dataframe\">\n",
       "  <thead>\n",
       "    <tr style=\"text-align: right;\">\n",
       "      <th></th>\n",
       "      <th>TIMESTAMP</th>\n",
       "      <th>RECORD</th>\n",
       "      <th>TC_T</th>\n",
       "      <th>TRH</th>\n",
       "      <th>RH</th>\n",
       "    </tr>\n",
       "    <tr>\n",
       "      <th>npartitions=1</th>\n",
       "      <th></th>\n",
       "      <th></th>\n",
       "      <th></th>\n",
       "      <th></th>\n",
       "      <th></th>\n",
       "    </tr>\n",
       "  </thead>\n",
       "  <tbody>\n",
       "    <tr>\n",
       "      <th></th>\n",
       "      <td>string</td>\n",
       "      <td>string</td>\n",
       "      <td>string</td>\n",
       "      <td>string</td>\n",
       "      <td>string</td>\n",
       "    </tr>\n",
       "    <tr>\n",
       "      <th></th>\n",
       "      <td>...</td>\n",
       "      <td>...</td>\n",
       "      <td>...</td>\n",
       "      <td>...</td>\n",
       "      <td>...</td>\n",
       "    </tr>\n",
       "  </tbody>\n",
       "</table>\n",
       "</div>\n",
       "<div>Dask Name: to_pyarrow_string, 3 graph layers</div>"
      ],
      "text/plain": [
       "Dask DataFrame Structure:\n",
       "              TIMESTAMP  RECORD    TC_T     TRH      RH\n",
       "npartitions=1                                          \n",
       "                 string  string  string  string  string\n",
       "                    ...     ...     ...     ...     ...\n",
       "Dask Name: to_pyarrow_string, 3 graph layers"
      ]
     },
     "execution_count": 7,
     "metadata": {},
     "output_type": "execute_result"
    }
   ],
   "source": [
    "haifa2014_class = experimentToolKit.getExperiment('Haifa2014')\n",
    "trh_data = haifa2014_class.getExperimentData().getData('TRH')\n",
    "trh_data"
   ]
  },
  {
   "cell_type": "markdown",
   "id": "2ea51fd8-5182-4c93-bf65-bbfa1756ad1c",
   "metadata": {},
   "source": [
    "We first reach the experiment class, and the use the getExperimentData() and getData() functions. 'TRH' is the device type in this case.  \n",
    "We can display it as a csv dataframe:"
   ]
  },
  {
   "cell_type": "code",
   "execution_count": 8,
   "id": "89befc64-f493-43eb-a68f-19a670c1b139",
   "metadata": {},
   "outputs": [
    {
     "data": {
      "text/html": [
       "<div>\n",
       "<style scoped>\n",
       "    .dataframe tbody tr th:only-of-type {\n",
       "        vertical-align: middle;\n",
       "    }\n",
       "\n",
       "    .dataframe tbody tr th {\n",
       "        vertical-align: top;\n",
       "    }\n",
       "\n",
       "    .dataframe thead th {\n",
       "        text-align: right;\n",
       "    }\n",
       "</style>\n",
       "<table border=\"1\" class=\"dataframe\">\n",
       "  <thead>\n",
       "    <tr style=\"text-align: right;\">\n",
       "      <th></th>\n",
       "      <th>0</th>\n",
       "      <th>1</th>\n",
       "      <th>2</th>\n",
       "      <th>3</th>\n",
       "      <th>4</th>\n",
       "    </tr>\n",
       "  </thead>\n",
       "  <tbody>\n",
       "    <tr>\n",
       "      <th>0</th>\n",
       "      <td>2022-09-18 00:00:00</td>\n",
       "      <td>21710734</td>\n",
       "      <td>20.69</td>\n",
       "      <td>20.00</td>\n",
       "      <td>nan</td>\n",
       "    </tr>\n",
       "    <tr>\n",
       "      <th>1</th>\n",
       "      <td>2022-09-18 00:00:08</td>\n",
       "      <td>21710735</td>\n",
       "      <td>20.73</td>\n",
       "      <td>19.98</td>\n",
       "      <td>nan</td>\n",
       "    </tr>\n",
       "    <tr>\n",
       "      <th>2</th>\n",
       "      <td>2022-09-18 00:00:09</td>\n",
       "      <td>21710736</td>\n",
       "      <td>20.73</td>\n",
       "      <td>19.92</td>\n",
       "      <td>nan</td>\n",
       "    </tr>\n",
       "    <tr>\n",
       "      <th>3</th>\n",
       "      <td>2022-09-18 00:00:10</td>\n",
       "      <td>21710737</td>\n",
       "      <td>20.74</td>\n",
       "      <td>19.92</td>\n",
       "      <td>nan</td>\n",
       "    </tr>\n",
       "    <tr>\n",
       "      <th>4</th>\n",
       "      <td>2022-09-18 00:00:11</td>\n",
       "      <td>21710738</td>\n",
       "      <td>20.74</td>\n",
       "      <td>19.90</td>\n",
       "      <td>nan</td>\n",
       "    </tr>\n",
       "    <tr>\n",
       "      <th>...</th>\n",
       "      <td>...</td>\n",
       "      <td>...</td>\n",
       "      <td>...</td>\n",
       "      <td>...</td>\n",
       "      <td>...</td>\n",
       "    </tr>\n",
       "    <tr>\n",
       "      <th>53988</th>\n",
       "      <td>2022-09-18 14:59:55</td>\n",
       "      <td>21764722</td>\n",
       "      <td>26.61</td>\n",
       "      <td>26.37</td>\n",
       "      <td>nan</td>\n",
       "    </tr>\n",
       "    <tr>\n",
       "      <th>53989</th>\n",
       "      <td>2022-09-18 14:59:56</td>\n",
       "      <td>21764723</td>\n",
       "      <td>26.53</td>\n",
       "      <td>26.35</td>\n",
       "      <td>nan</td>\n",
       "    </tr>\n",
       "    <tr>\n",
       "      <th>53990</th>\n",
       "      <td>2022-09-18 14:59:57</td>\n",
       "      <td>21764724</td>\n",
       "      <td>26.55</td>\n",
       "      <td>26.31</td>\n",
       "      <td>nan</td>\n",
       "    </tr>\n",
       "    <tr>\n",
       "      <th>53991</th>\n",
       "      <td>2022-09-18 14:59:58</td>\n",
       "      <td>21764725</td>\n",
       "      <td>26.54</td>\n",
       "      <td>26.35</td>\n",
       "      <td>nan</td>\n",
       "    </tr>\n",
       "    <tr>\n",
       "      <th>53992</th>\n",
       "      <td>2022-09-18 14:59:59</td>\n",
       "      <td>21764726</td>\n",
       "      <td>26.56</td>\n",
       "      <td>26.38</td>\n",
       "      <td>nan</td>\n",
       "    </tr>\n",
       "  </tbody>\n",
       "</table>\n",
       "<p>53993 rows × 5 columns</p>\n",
       "</div>"
      ],
      "text/plain": [
       "                         0         1      2      3    4\n",
       "0      2022-09-18 00:00:00  21710734  20.69  20.00  nan\n",
       "1      2022-09-18 00:00:08  21710735  20.73  19.98  nan\n",
       "2      2022-09-18 00:00:09  21710736  20.73  19.92  nan\n",
       "3      2022-09-18 00:00:10  21710737  20.74  19.92  nan\n",
       "4      2022-09-18 00:00:11  21710738  20.74  19.90  nan\n",
       "...                    ...       ...    ...    ...  ...\n",
       "53988  2022-09-18 14:59:55  21764722  26.61  26.37  nan\n",
       "53989  2022-09-18 14:59:56  21764723  26.53  26.35  nan\n",
       "53990  2022-09-18 14:59:57  21764724  26.55  26.31  nan\n",
       "53991  2022-09-18 14:59:58  21764725  26.54  26.35  nan\n",
       "53992  2022-09-18 14:59:59  21764726  26.56  26.38  nan\n",
       "\n",
       "[53993 rows x 5 columns]"
      ]
     },
     "execution_count": 8,
     "metadata": {},
     "output_type": "execute_result"
    }
   ],
   "source": [
    "import pandas as pd\n",
    "pd.DataFrame(trh_data)"
   ]
  },
  {
   "cell_type": "code",
   "execution_count": 24,
   "id": "2b80f648-810a-437f-9f77-70363d2c0770",
   "metadata": {},
   "outputs": [
    {
     "name": "stderr",
     "output_type": "stream",
     "text": [
      "/home/salo/heraenv/lib/python3.11/site-packages/dask/dataframe/io/parquet/core.py:1241: FutureWarning: The fastparquet engine is deprecated and will be removed in a future release. Please install pyarrow.\n",
      "  warnings.warn(\n"
     ]
    },
    {
     "data": {
      "text/html": [
       "<div><strong>Dask DataFrame Structure:</strong></div>\n",
       "<div>\n",
       "<style scoped>\n",
       "    .dataframe tbody tr th:only-of-type {\n",
       "        vertical-align: middle;\n",
       "    }\n",
       "\n",
       "    .dataframe tbody tr th {\n",
       "        vertical-align: top;\n",
       "    }\n",
       "\n",
       "    .dataframe thead th {\n",
       "        text-align: right;\n",
       "    }\n",
       "</style>\n",
       "<table border=\"1\" class=\"dataframe\">\n",
       "  <thead>\n",
       "    <tr style=\"text-align: right;\">\n",
       "      <th></th>\n",
       "      <th>TIMESTAMP</th>\n",
       "      <th>RECORD</th>\n",
       "      <th>U</th>\n",
       "      <th>V</th>\n",
       "      <th>W</th>\n",
       "      <th>T</th>\n",
       "    </tr>\n",
       "    <tr>\n",
       "      <th>npartitions=1</th>\n",
       "      <th></th>\n",
       "      <th></th>\n",
       "      <th></th>\n",
       "      <th></th>\n",
       "      <th></th>\n",
       "      <th></th>\n",
       "    </tr>\n",
       "  </thead>\n",
       "  <tbody>\n",
       "    <tr>\n",
       "      <th></th>\n",
       "      <td>string</td>\n",
       "      <td>string</td>\n",
       "      <td>string</td>\n",
       "      <td>string</td>\n",
       "      <td>string</td>\n",
       "      <td>string</td>\n",
       "    </tr>\n",
       "    <tr>\n",
       "      <th></th>\n",
       "      <td>...</td>\n",
       "      <td>...</td>\n",
       "      <td>...</td>\n",
       "      <td>...</td>\n",
       "      <td>...</td>\n",
       "      <td>...</td>\n",
       "    </tr>\n",
       "  </tbody>\n",
       "</table>\n",
       "</div>\n",
       "<div>Dask Name: to_pyarrow_string, 3 graph layers</div>"
      ],
      "text/plain": [
       "Dask DataFrame Structure:\n",
       "              TIMESTAMP  RECORD       U       V       W       T\n",
       "npartitions=1                                                  \n",
       "                 string  string  string  string  string  string\n",
       "                    ...     ...     ...     ...     ...     ...\n",
       "Dask Name: to_pyarrow_string, 3 graph layers"
      ]
     },
     "execution_count": 24,
     "metadata": {},
     "output_type": "execute_result"
    }
   ],
   "source": [
    "experimentToolKit.getExperiment('Haifa2014')._experimentData.getData(deviceType='Sonic',deviceName=None,startTime=None,endTime=None)"
   ]
  },
  {
   "cell_type": "code",
   "execution_count": null,
   "id": "4955b29c-11b6-43ac-b54e-f51769d810cb",
   "metadata": {},
   "outputs": [],
   "source": []
  }
 ],
 "metadata": {
  "kernelspec": {
   "display_name": "Python 3 (ipykernel)",
   "language": "python",
   "name": "python3"
  },
  "language_info": {
   "codemirror_mode": {
    "name": "ipython",
    "version": 3
   },
   "file_extension": ".py",
   "mimetype": "text/x-python",
   "name": "python",
   "nbconvert_exporter": "python",
   "pygments_lexer": "ipython3",
   "version": "3.11.6"
  }
 },
 "nbformat": 4,
 "nbformat_minor": 5
}
