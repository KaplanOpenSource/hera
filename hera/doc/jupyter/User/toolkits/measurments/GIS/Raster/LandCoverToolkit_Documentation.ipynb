{
 "cells": [
  {
   "cell_type": "markdown",
   "id": "2d7c2f86",
   "metadata": {},
   "source": [
    "# LandCoverToolkit - Full Documentation and Tests Overview"
   ]
  },
  {
   "cell_type": "markdown",
   "id": "f56a40d3",
   "metadata": {},
   "source": [
    "\n",
    "This notebook provides a **complete explanation** of the `LandCoverToolkit` functionalities,\n",
    "detailed mapping to **unit tests**, and **working examples**.\n",
    "\n",
    "✅ Clear documentation  \n",
    "✅ Table matching functions to tests  \n",
    "✅ Executable code examples  \n",
    "✅ Explanations for each function\n"
   ]
  },
  {
   "cell_type": "markdown",
   "id": "c4cdaf6c",
   "metadata": {},
   "source": [
    "## 1. Toolkit Functions Overview <a id='functions-overview'></a>"
   ]
  },
  {
   "cell_type": "markdown",
   "id": "1def9761",
   "metadata": {},
   "source": [
    "\n",
    "| Function | Description |\n",
    "|:---------|:------------|\n",
    "| `getLandCoverAtPoint` | Get land cover value at a specific (lon, lat) point. |\n",
    "| `getLandCover` | Get land cover over a rectangular area as xarray. |\n",
    "| `getRoughnessAtPoint` | Get roughness length at a specific (lon, lat) point. |\n",
    "| `getRoughness` | Get roughness map over a rectangular area as xarray. |\n",
    "| `getCodingMap` | Return dictionary mapping land cover type codes to names. |\n",
    "| `roughnesslength2sandgrainroughness` | Convert roughness length to sand grain roughness. |\n"
   ]
  },
  {
   "cell_type": "markdown",
   "id": "7e783ae4",
   "metadata": {},
   "source": [
    "## 2. Unit Tests Mapping <a id='unit-tests-mapping'></a>"
   ]
  },
  {
   "cell_type": "markdown",
   "id": "a0579dbc",
   "metadata": {},
   "source": [
    "\n",
    "| Unit Test | Toolkit Function Tested | What is Being Checked |\n",
    "|:----------|:-------------------------|:----------------------|\n",
    "| `test_get_land_cover_at_point` | `getLandCoverAtPoint` | Value exists and matches raster value |\n",
    "| `test_get_land_cover` | `getLandCover` | xarray is created and has expected shape |\n",
    "| `test_get_roughness_at_point` | `getRoughnessAtPoint` | Roughness value is positive and valid |\n",
    "| `test_get_roughness` | `getRoughness` | Roughness map generated correctly |\n",
    "| `test_get_coding_map` | `getCodingMap` | Mapping dictionary is correct |\n",
    "| `test_roughnesslength2sandgrainroughness` | `roughnesslength2sandgrainroughness` | Calculation is correct (30*z0) |\n",
    "| `test_land_cover_at_point_against_original` | `getLandCoverAtPoint` | Comparison to raster pixel |\n",
    "| `test_get_land_cover_map_vs_raster` | `getLandCover` | Consistency between map and raster |\n",
    "| `test_land_cover_out_of_bounds` | `getLandCoverAtPoint` | Proper error when point is outside |\n",
    "| `test_roughness_values_are_in_range` | `getRoughness` | Roughness values are reasonable |\n",
    "| `test_water_point_roughness` | `getRoughnessAtPoint` | Roughness for water point is low |\n"
   ]
  },
  {
   "metadata": {},
   "cell_type": "markdown",
   "source": [
    "## Mapping Between Toolkit and Unit Tests\n",
    "| Toolkit Function | Unit Test | What it Verifies |\n",
    "|:-----------------|:----------|:-----------------|\n",
    "| `getLandCoverAtPoint` | `test_get_land_cover_at_point`, `test_land_cover_at_point_against_original` | Checks the returned landcover value at a point |\n",
    "| `getLandCover` | `test_get_land_cover`, `test_get_land_cover_map_vs_raster` | Verifies map generation and values against raster |\n",
    "| `getRoughnessAtPoint` | `test_get_roughness_at_point` | Verifies roughness at a point |\n",
    "| `getRoughness` | `test_get_roughness` | Verifies roughness map generation |\n",
    "| `getCodingMap` | `test_get_coding_map` | Checks the dictionary mapping |\n",
    "| `roughnesslength2sandgrainroughness` | `test_roughnesslength2sandgrainroughness` | Checks calculation of Ks |\n",
    "| - | `test_land_cover_out_of_bounds` | Behavior when out of raster |\n",
    "| - | `test_roughness_values_are_in_range` | Range validation for roughness |\n",
    "| - | `test_water_point_roughness` | Specific validation for water points |\n",
    "---"
   ],
   "id": "6d10a1e2b936fc05"
  },
  {
   "cell_type": "markdown",
   "id": "ac823cbd",
   "metadata": {},
   "source": [
    "## 3. Function by Function Explanation <a id='function-by-function'></a>"
   ]
  },
  {
   "cell_type": "markdown",
   "id": "847c4770",
   "metadata": {},
   "source": [
    "### `getLandCoverAtPoint`\n",
    "\n",
    "Fetches the integer land cover type at a specific geographic point.\n",
    "- **Input**: Longitude, Latitude.\n",
    "- **Output**: Integer between 0-16.\n",
    "- Reads raster pixel based on geotransform.\n",
    "\n",
    "**Test**: Assert value exists and matches original raster value.\n"
   ]
  },
  {
   "cell_type": "markdown",
   "id": "dd25dcbd",
   "metadata": {},
   "source": [
    "### `getLandCover`\n",
    "\n",
    "Returns an xarray of land cover over a bounding box.\n",
    "- **Input**: minx, miny, maxx, maxy, dxdy (resolution).\n",
    "- **Output**: xarray with land cover values.\n",
    "\n",
    "**Test**: Validate xarray structure and shape.\n"
   ]
  },
  {
   "cell_type": "markdown",
   "id": "7d38c794",
   "metadata": {},
   "source": [
    "### `getRoughnessAtPoint`\n",
    "\n",
    "Returns roughness length at a specific point using land cover to roughness mapping.\n",
    "\n",
    "**Test**: Check that the returned roughness is a positive float.\n"
   ]
  },
  {
   "cell_type": "markdown",
   "id": "b3f713ae",
   "metadata": {},
   "source": [
    "### `getRoughness`\n",
    "\n",
    "Returns a roughness xarray over an area.\n",
    "\n",
    "**Test**: Same as land cover but includes roughness sanity checks.\n"
   ]
  },
  {
   "cell_type": "markdown",
   "id": "17536e67",
   "metadata": {},
   "source": [
    "### `getCodingMap`\n",
    "\n",
    "Returns a mapping of land cover integer types to their names.\n",
    "\n",
    "**Test**: Check that expected keys and values exist.\n"
   ]
  },
  {
   "cell_type": "markdown",
   "id": "056113e5",
   "metadata": {},
   "source": [
    "### `roughnesslength2sandgrainroughness`\n",
    "\n",
    "Converts roughness length z0 into sand grain roughness Ks.\n",
    "Equation: Ks = 30 * z0.\n",
    "\n",
    "**Test**: Confirm output is mathematically correct.\n"
   ]
  },
  {
   "metadata": {},
   "cell_type": "markdown",
   "source": "## 4. Examples and Usage <a id='examples-usage'></a>",
   "id": "367f7e9e"
  },
  {
   "cell_type": "markdown",
   "id": "5a790918",
   "metadata": {},
   "source": [
    "### Example: Get Land Cover at Point"
   ]
  },
  {
   "cell_type": "code",
   "execution_count": null,
   "id": "46287532",
   "metadata": {},
   "outputs": [],
   "source": [
    "# Use the toolkit to query a point\n",
    "lon, lat = 35.0, 32.0\n",
    "landcover_type = toolkit.getLandCoverAtPoint(lon, lat)\n",
    "print(f\"Land cover type at ({lon}, {lat}):\", landcover_type)"
   ]
  },
  {
   "cell_type": "markdown",
   "id": "4bb53e2e",
   "metadata": {},
   "source": [
    "### Example: Get Land Cover Map"
   ]
  },
  {
   "cell_type": "code",
   "execution_count": null,
   "id": "e2e70c34",
   "metadata": {},
   "outputs": [],
   "source": [
    "landcover_map = toolkit.getLandCover(minx=34.9, miny=31.9, maxx=35.1, maxy=32.1, dxdy=500)\n",
    "landcover_map['landcover'].plot()"
   ]
  },
  {
   "cell_type": "markdown",
   "id": "001d4b46",
   "metadata": {},
   "source": [
    "### Example: Get Roughness at Point"
   ]
  },
  {
   "cell_type": "code",
   "execution_count": null,
   "id": "423b6163",
   "metadata": {},
   "outputs": [],
   "source": [
    "roughness = toolkit.getRoughnessAtPoint(35.0, 32.0)\n",
    "print(\"Roughness (z0):\", roughness)"
   ]
  },
  {
   "cell_type": "markdown",
   "id": "4fd36db6",
   "metadata": {},
   "source": [
    "### Example: Roughness Length to Sand Grain Roughness"
   ]
  },
  {
   "cell_type": "code",
   "execution_count": null,
   "id": "805fac2a",
   "metadata": {},
   "outputs": [],
   "source": [
    "z0 = 0.1\n",
    "Ks = toolkit.roughnesslength2sandgrainroughness(z0)\n",
    "print(\"Sand grain roughness (Ks):\", Ks)"
   ]
  },
  {
   "cell_type": "markdown",
   "id": "6e500b0c",
   "metadata": {},
   "source": [
    "### Example: Get Coding Map"
   ]
  },
  {
   "cell_type": "code",
   "execution_count": null,
   "id": "b0af7db5",
   "metadata": {},
   "outputs": [],
   "source": [
    "coding_map = toolkit.getCodingMap(datasourceName=\"Type-1\")\n",
    "print(coding_map)"
   ]
  }
 ],
 "metadata": {},
 "nbformat": 4,
 "nbformat_minor": 5
}
