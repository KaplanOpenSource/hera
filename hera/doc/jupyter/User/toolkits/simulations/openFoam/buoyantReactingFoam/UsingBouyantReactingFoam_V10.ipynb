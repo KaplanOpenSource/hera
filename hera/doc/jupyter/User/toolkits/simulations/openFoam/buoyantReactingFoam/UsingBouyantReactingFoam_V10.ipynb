{
 "cells": [
  {
   "cell_type": "markdown",
   "id": "ca6d9e54-07d9-43bc-a670-0f4e610a7cc7",
   "metadata": {},
   "source": [
    "# buoyantReactingFoam V10\n",
    "\n",
    "The buoyantReactingFoam is used to simulate a compressible multi-phase flow. \n",
    "However, in V10, the solver is formulated in the terms of fractional density and not molar fraction. "
   ]
  },
  {
   "cell_type": "markdown",
   "id": "c9e94764-022d-4f2e-82cf-11a8b806e4e4",
   "metadata": {},
   "source": [
    "## Notation. \n",
    "\n",
    "Lets assume we have $i$ species:\n",
    "\n",
    "*  $MW_i$: The molecular weight\n",
    "*  $f_i$ mole fraction\n",
    "*  $Y_i$ mass fraction.\n",
    "\n",
    "**Computing mass fraction from mole fraction** \n",
    "\n",
    "$$\n",
    "    Y_i = \\frac{f_i\\cdot MW_i}{\\sum_i f_i\\cdot MW_i}\n",
    "$$"
   ]
  },
  {
   "cell_type": "markdown",
   "id": "1e50cf0a-7e67-460b-b6e5-f9bd224fffc9",
   "metadata": {},
   "source": [
    "**Computing mole fraction from the mass fraction** \n",
    "$$\n",
    "    f_i = \\frac{Y_i}{\\sum_i \\frac{Y_i}{MW_i}}\n",
    "$$"
   ]
  },
  {
   "cell_type": "code",
   "execution_count": null,
   "id": "f693deb5-5aab-489b-b5c3-9bf5103b3152",
   "metadata": {},
   "outputs": [],
   "source": []
  },
  {
   "cell_type": "code",
   "execution_count": null,
   "id": "8d462703-6e5f-4413-8854-aefde9f7df27",
   "metadata": {},
   "outputs": [],
   "source": []
  }
 ],
 "metadata": {
  "kernelspec": {
   "display_name": "Python 3 (ipykernel)",
   "language": "python",
   "name": "python3"
  },
  "language_info": {
   "codemirror_mode": {
    "name": "ipython",
    "version": 3
   },
   "file_extension": ".py",
   "mimetype": "text/x-python",
   "name": "python",
   "nbconvert_exporter": "python",
   "pygments_lexer": "ipython3",
   "version": "3.9.13"
  }
 },
 "nbformat": 4,
 "nbformat_minor": 5
}
