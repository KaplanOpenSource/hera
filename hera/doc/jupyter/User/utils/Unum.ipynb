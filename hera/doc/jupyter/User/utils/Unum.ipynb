{
 "cells": [
  {
   "cell_type": "markdown",
   "id": "74596ed4-7fa1-4aa4-8d67-3554f436f2ba",
   "metadata": {},
   "source": [
    "<font size=\"+3\">Unum (unit)</font>\n",
    "\n",
    "The unum package manages physical units in python. \n",
    "\n",
    "Importing the unum package could be perfomed directly, but it is simpler to import it \n",
    "through hera."
   ]
  },
  {
   "cell_type": "code",
   "execution_count": 1,
   "id": "1e5fd4c2-ba46-4925-825f-a145a945be08",
   "metadata": {},
   "outputs": [],
   "source": [
    "from hera.utils.unum import *"
   ]
  },
  {
   "cell_type": "markdown",
   "id": "d0159fcf-824f-4171-923e-6ed4c1275f36",
   "metadata": {},
   "source": [
    "After this import, it is possible to use the unum package as usual"
   ]
  },
  {
   "cell_type": "code",
   "execution_count": 2,
   "id": "37424f51-91b1-4541-81db-1a4f1a7fa23d",
   "metadata": {},
   "outputs": [
    {
     "data": {
      "text/plain": [
       "1000.0 [g]"
      ]
     },
     "execution_count": 2,
     "metadata": {},
     "output_type": "execute_result"
    }
   ],
   "source": [
    "(1*kg).asUnit(1*g)"
   ]
  },
  {
   "cell_type": "markdown",
   "id": "7515296d-69e3-4c71-8b34-5e0b787c6143",
   "metadata": {},
   "source": [
    "# Conversion between float and Unum\n",
    "\n",
    "In many occasions we have a variable that is either float or Unum. \n",
    "In order to convert the input to unum we use the **tounit** (or **tounum**) function. \n",
    "\n",
    "However, if it is a float, we need to supply the units. The **tounit** will return the input if it is unum (in the input units), else, it will return an unum in the input units. \n",
    "\n",
    "That is,"
   ]
  },
  {
   "cell_type": "code",
   "execution_count": 3,
   "id": "788552dd-1ce8-4194-805f-5a20e7ac3f7b",
   "metadata": {},
   "outputs": [
    {
     "data": {
      "text/plain": [
       "5 [kg]"
      ]
     },
     "execution_count": 3,
     "metadata": {},
     "output_type": "execute_result"
    }
   ],
   "source": [
    "ret = tounum(5,kg) # input is float, so return value will be unum\n",
    "ret"
   ]
  },
  {
   "cell_type": "code",
   "execution_count": 4,
   "id": "4df4d11c-9792-4bea-824e-82d977072ce8",
   "metadata": {},
   "outputs": [
    {
     "data": {
      "text/plain": [
       "0.005 [kg]"
      ]
     },
     "execution_count": 4,
     "metadata": {},
     "output_type": "execute_result"
    }
   ],
   "source": [
    "ret = tounum(5*g,kg) # input is unum, so return value will be the input\n",
    "ret"
   ]
  },
  {
   "cell_type": "markdown",
   "id": "77605840-7d4a-4020-8986-444f2ba551c8",
   "metadata": {},
   "source": [
    "Alternatively, the function **tonumber** is dentical, except that it returns a float"
   ]
  },
  {
   "cell_type": "code",
   "execution_count": 5,
   "id": "8bf0704a-fcc6-46a1-a7db-08ba731cab51",
   "metadata": {},
   "outputs": [
    {
     "data": {
      "text/plain": [
       "5"
      ]
     },
     "execution_count": 5,
     "metadata": {},
     "output_type": "execute_result"
    }
   ],
   "source": [
    "ret = tonumber(5,kg) # input is float, so return value will be the input\n",
    "ret"
   ]
  },
  {
   "cell_type": "code",
   "execution_count": 6,
   "id": "73c95b30-ebb5-4cf0-bf1d-fd93fbb4c657",
   "metadata": {},
   "outputs": [
    {
     "data": {
      "text/plain": [
       "0.005"
      ]
     },
     "execution_count": 6,
     "metadata": {},
     "output_type": "execute_result"
    }
   ],
   "source": [
    "ret = tonumber(5*g,kg) # input is unum, so return value will be unum value in g\n",
    "ret"
   ]
  },
  {
   "cell_type": "markdown",
   "id": "8b7ba323-17ae-4d76-ae4b-c5d07688708a",
   "metadata": {},
   "source": [
    "# Hera units\n",
    "\n",
    "The hera package defines several new useful units: \n",
    "\n",
    "<table style=\"font-size: 16px;\">\n",
    "    <tr>\n",
    "        <td><b>Unit</b></td>\n",
    "        <td><b>Description</b></td>\n",
    "        <td><b>Value</b></td>\n",
    "    </tr>\n",
    "  <tr>\n",
    "    <th colspan=\"3\">Pressure</th>\n",
    "  </tr>    \n",
    "    <tr>\n",
    "        <td>atm</td>\n",
    "        <td>Atmosphere</td>\n",
    "        <td>1.01325*bar</td>\n",
    "    </tr>\n",
    "    <tr>\n",
    "        <td>mbar</td>\n",
    "        <td>millibar (1 torr)</td>\n",
    "        <td>bar/1000</td>\n",
    "    </tr>\n",
    "    <tr>\n",
    "        <td>mmHg</td>\n",
    "        <td>mm Hg</td>\n",
    "        <td>atm/760.</td>\n",
    "    </tr>\n",
    "    <tr>\n",
    "        <td>mmH2O</td>\n",
    "        <td>mm H2O</td>\n",
    "        <td>atm/10197.162129779</td>\n",
    "    </tr>\n",
    "    <tr>\n",
    "        <td>torr</td>\n",
    "        <td>torr (1 millibar)</td>\n",
    "        <td>atm/760.</td>\n",
    "    </tr>\n",
    "  <tr>\n",
    "    <th colspan=\"3\">Force</th>\n",
    "  </tr>  \n",
    "    <tr>\n",
    "        <td>dyne</td>\n",
    "        <td>dyne</td>\n",
    "        <td>1e-5*N</td>\n",
    "    </tr>\n",
    "  <tr>\n",
    "    <th colspan=\"3\">Viscosity</th>\n",
    "  </tr>     \n",
    "    <tr>\n",
    "        <td>poise</td>\n",
    "        <td>poise</td>\n",
    "        <td>g/cm/s</td>\n",
    "    </tr>\n",
    "    <tr>\n",
    "        <td>cpoise</td>\n",
    "        <td>centi poise</td>\n",
    "        <td>poise/10.</td>\n",
    "    </tr>   \n",
    "  <tr>\n",
    "    <th colspan=\"3\">Volume</th>\n",
    "  </tr>     \n",
    "    <tr>\n",
    "        <td>mL</td>\n",
    "        <td>Milli Liter</td>\n",
    "        <td>1e-3 * L</td>\n",
    "    </tr>       \n",
    "    <tr>\n",
    "        <td>uL</td>\n",
    "        <td>Micro Liter</td>\n",
    "        <td>1e-6 * L</td>\n",
    "    </tr>       \n",
    "    <tr>\n",
    "        <td>nL</td>\n",
    "        <td>Nano Liter</td>\n",
    "        <td>1e-9 * L</td>\n",
    "    </tr>           \n",
    "</table>\n"
   ]
  },
  {
   "cell_type": "markdown",
   "id": "c513a7dc-00ab-4b9e-b6f7-479e114e6dd9",
   "metadata": {},
   "source": [
    "# Converting an unum to str \n",
    "\n",
    "Converting unum to str with the `str` function is not reversible. That is, there is no \n",
    "simple function that converts str to unum. \n",
    "\n",
    "Hence, hera provides these function. \n",
    "\n",
    "## Converting unum $\\rightarrow$ str \n",
    "\n",
    "Converting unum to str "
   ]
  },
  {
   "cell_type": "code",
   "execution_count": 7,
   "id": "12ae2080-02a3-43a8-977d-96146ef3d137",
   "metadata": {},
   "outputs": [
    {
     "data": {
      "text/plain": [
       "'5*kg'"
      ]
     },
     "execution_count": 7,
     "metadata": {},
     "output_type": "execute_result"
    }
   ],
   "source": [
    "five_kg_str = unumToStr(5*kg)\n",
    "five_kg_str"
   ]
  },
  {
   "cell_type": "markdown",
   "id": "06bafe98-db4f-4c32-ab89-5c64825e5e14",
   "metadata": {},
   "source": [
    "## Converting str $\\rightarrow$ unum "
   ]
  },
  {
   "cell_type": "code",
   "execution_count": 8,
   "id": "df41b74c-b99b-4829-9634-50640d33d4aa",
   "metadata": {},
   "outputs": [
    {
     "data": {
      "text/plain": [
       "5 [kg]"
      ]
     },
     "execution_count": 8,
     "metadata": {},
     "output_type": "execute_result"
    }
   ],
   "source": [
    "five_kg = strToUnum(five_kg_str)\n",
    "five_kg"
   ]
  },
  {
   "cell_type": "markdown",
   "id": "611e5435-fd19-4476-9f9a-4537b10c3374",
   "metadata": {},
   "source": [
    "# Defining new units \n",
    "\n",
    "The unum package allows the user to define new pacakge as follows \n",
    "\n",
    "```python\n",
    "newUnit   = Unum.unit(<unitName>, <the unit> ,<description>)\n",
    "```\n",
    "\n",
    "<div class=\"alert alert-block alert-info\">\n",
    "<b>Example: </b> \n",
    "    \n",
    "```\n",
    ">> atm   = Unum.unit('atm',1.01325*bar,'atmosphere')\n",
    "```\n",
    "Defines a new unit `atm` that is 1.01325*bar\n",
    "</div>        "
   ]
  },
  {
   "cell_type": "code",
   "execution_count": 10,
   "id": "c3721364-6fad-4c16-a6f9-a3b9e75d4f03",
   "metadata": {},
   "outputs": [
    {
     "data": {
      "text/plain": [
       "1.01325 [bar]"
      ]
     },
     "execution_count": 10,
     "metadata": {},
     "output_type": "execute_result"
    }
   ],
   "source": [
    "atm.asUnit(bar)"
   ]
  }
 ],
 "metadata": {
  "kernelspec": {
   "display_name": "Python 3 (ipykernel)",
   "language": "python",
   "name": "python3"
  },
  "language_info": {
   "codemirror_mode": {
    "name": "ipython",
    "version": 3
   },
   "file_extension": ".py",
   "mimetype": "text/x-python",
   "name": "python",
   "nbconvert_exporter": "python",
   "pygments_lexer": "ipython3",
   "version": "3.9.13"
  }
 },
 "nbformat": 4,
 "nbformat_minor": 5
}
