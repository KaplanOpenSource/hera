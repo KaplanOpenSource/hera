{
 "cells": [
  {
   "cell_type": "markdown",
   "id": "4dccfba8-c040-41b4-8108-5db467af168e",
   "metadata": {},
   "source": [
    "# Welcome to Hera's documentation!"
   ]
  },
  {
   "attachments": {},
   "cell_type": "markdown",
   "id": "b72787b5-e5af-48fe-960f-0daf4de6d0a8",
   "metadata": {},
   "source": [
    "## Overview\n",
    "\n",
    "Hera is a lightweight software platform designed to manage and organize data and metadata in research, engineering, or simulation-based projects. (metadata refers to information about the data — such as file paths, parameters, types, etc) Raw data is stored as files on disk, while metadata is stored in a database and accessed via the dedicated `DataLayer`. Hera helps users keep their work structured and documented, without needing to write complex code or manage separate tools manually."
   ]
  },
  {
   "cell_type": "markdown",
   "id": "547cdd99-791d-49ae-b4df-9d57bdf1ab0d",
   "metadata": {},
   "source": [
    "### Core Design Principles\n",
    "- **Modularity**: Load only the components you need.\n",
    "- **Scalability**: Operates efficiently on small and large datasets.\n",
    "- **Automation**: Minimizes the need for manual scripting.\n",
    "- **Cross-domain Support**: Built to handle varied scientific and engineering domains."
   ]
  },
  {
   "cell_type": "markdown",
   "id": "61ceaf86-8021-47e6-b0b7-c50d47a30748",
   "metadata": {},
   "source": [
    "## Functional Domains\n",
    "\n",
    "Hera is built to support tasks across three main domains:  \n",
    "\n",
    "### Measurements\n",
    "- Conduct and manage experiments.\n",
    "- Handle GIS data (raster and vector).\n",
    "- Manage meteorological datasets (low/high frequency).\n",
    "\n",
    "### Risk Assessment\n",
    "- Model and evaluate risk using agent-based methods.\n",
    "\n",
    "### Simulations\n",
    "- Analyze wind profiles.\n",
    "- Integrate with external simulators such as OpenFOAM."
   ]
  },
  {
   "cell_type": "markdown",
   "id": "bef34656-1bf3-4288-b6e1-ae5941671f30",
   "metadata": {},
   "source": [
    "## Hera Package Structure\n",
    "Hera consists of the following main components:\n",
    "- **[Data Layer](datalayer/DataLayer.ipynb)**: Stores and manages metadata for data assets.\n",
    "- **[Toolkit](Toolkit.ipynb)**: Provides interfaces for handling specific data types.\n",
    "- **[Utilities](utils/UtilMain.ipynb)**: General-purpose functions and helpers."
   ]
  },
  {
   "cell_type": "markdown",
   "id": "52cab008-6db9-4b6f-bd31-889058aa5b2a",
   "metadata": {},
   "source": [
    "\n",
    "The **Datalayer** communicates with a MongoDB database to get the data. then, various **Toolkits** are connected to the workspace to help manage the data.\n",
    "<br>\n",
    "<br>\n",
    "![Hera Architecture](Hera-Layers.png)"
   ]
  },
  {
   "cell_type": "markdown",
   "id": "32cbcaed-2b02-4253-bfff-50ae9bf3a17f",
   "metadata": {},
   "source": [
    "## Getting Started\n",
    "- [Glossary](Glossary.ipynb)\n",
    "- [Getting Started](Start.ipynb)\n",
    "- [Toolkit and Data Source](BeginnersTutorial/Toolkit_and_DataSource.ipynb)\n",
    "- [Data Source](BeginnersTutorial/DataSource.ipynb)\n",
    "- [Repository](BeginnersTutorial/Repository.ipynb)\n",
    "- [Data Layer](datalayer/DataLayer.ipynb)"
   ]
  }
 ],
 "metadata": {
  "kernelspec": {
   "display_name": "Python 3 (ipykernel)",
   "language": "python",
   "name": "python3"
  },
  "language_info": {
   "codemirror_mode": {
    "name": "ipython",
    "version": 3
   },
   "file_extension": ".py",
   "mimetype": "text/x-python",
   "name": "python",
   "nbconvert_exporter": "python",
   "pygments_lexer": "ipython3",
   "version": "3.9.13"
  },
  "toc-autonumbering": true
 },
 "nbformat": 4,
 "nbformat_minor": 5
}
