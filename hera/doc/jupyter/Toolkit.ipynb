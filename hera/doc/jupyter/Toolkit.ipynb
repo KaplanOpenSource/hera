{
 "cells": [
  {
   "cell_type": "markdown",
   "id": "f911c401-b09f-4364-b47e-f18280edd94a",
   "metadata": {},
   "source": [
    "<font size=\"+3\">Toolkit</font>"
   ]
  },
  {
   "cell_type": "markdown",
   "id": "39101139-3b33-4493-95b4-59479251e54a",
   "metadata": {},
   "source": [
    "# Overview\n",
    "\n",
    "A toolkit is a collection of procedures designed for working with specific types of data, such as Urban GIS, topography, simulations, etc. Toolkits facilitate data management by offering procedures for retrieval and modification. Moreover, they include procedures for analyzing and processing the data, as well as procedures for presenting graphical representations.\n",
    "\n",
    "Some toolkits require external data. For example a toolkit that handles demography data requires the demography database. \n",
    "These external data sources are referred to as [datasources](#datasource) and it will be detailed below how to manage them. \n",
    "\n"
   ]
  },
  {
   "cell_type": "markdown",
   "id": "78144086-abf5-4aa2-83de-6ae891398bcd",
   "metadata": {},
   "source": [
    "# The structure and function of  toolkits\n",
    "\n",
    "A toolkit handles a type of data in a project. Therefore, \n",
    "it is necessary to supply a project name when initializing one. Then, the functions\n",
    "of the toolkit will be performed on the data that exists in that project.\n",
    "\n",
    "The initialization of a toolkit occurs using the hera [ToolkitHome](#toolkitHome) that will \n",
    "be detailed below. \n",
    "\n",
    "A toolkit is designed as a [3-tier application](https://en.wikipedia.org/wiki/Multitier_architecture#Three-tier_architecture). \n",
    "That is,\n",
    "\n",
    "<table>\n",
    "    <tr>\n",
    "        <td><b>Layer name</b></td>\n",
    "        <td><b>Description</b></td>\n",
    "    </tr>\n",
    "    <tr>\n",
    "        <td>Data layer</td>\n",
    "        <td>Manages loading and parsing data</td>\n",
    "    </tr>\n",
    "    <tr>\n",
    "        <td>Analysis layer</td>\n",
    "        <td>Manages the analysis and computational functions (called logic layer)</td>\n",
    "    </tr>\n",
    "    <tr>\n",
    "        <td>Presentation Layer</td>\n",
    "        <td>Manages the graphs and other types of presentation</td>\n",
    "    </tr>    \n",
    "</table>\n",
    "\n",
    "The data layer inherits from the [Project](project) class, offering users an interface to add and remove data items (measurements, simulations, or caches) from the database associated with the project on which the toolkit was initialized.\n",
    "\n",
    "**Caching analysis results** The analysis layer is used to process the data, and compute results that might require lengthy computation. \n",
    "Caching the simulation results can reduce the computation time for the next time the same set of parameters is used. \n",
    "To cache the results, it is possible to use the Hera mechanism to link the parameters to the computation results by \n",
    "adding a cache document with the parameters as meta data. \n",
    "\n",
    "The results of the cache should be saved in a directory. The property `filesDirectory` of the toolkit can provide a directory to save the files. \n",
    "The value of the `filesDirectory` is given in the constructor of the toolkit. If the `filesDirectory` is not supplied then \n",
    "the default directory is the current working directory. \n",
    "\n",
    "**datatypes** The `datatypes` property holds all the available properties. "
   ]
  },
  {
   "cell_type": "markdown",
   "id": "71e5870c-6e0e-4146-af51-aec60763bbd9",
   "metadata": {},
   "source": [
    "<a id=\"toolkitHome\"></a>\n",
    "\n",
    "# Initializing a toolkit\n",
    "\n",
    "Access to the toolkits is done through the hera tookitHome interface \n",
    "\n",
    "For example loading the GIS_DEMOGRAPHY toolkit is given below. \n",
    "A list of available toolkits is given [here](#toolkitList) \n",
    "\n",
    "The `filesDirectory` property is not given, and therefore, the directory is \n",
    "current directory. "
   ]
  },
  {
   "cell_type": "code",
   "execution_count": 1,
   "id": "3dc793cb-66cf-4b1d-a7fe-f5adeea2ffc2",
   "metadata": {},
   "outputs": [],
   "source": [
    "from hera import toolkitHome\n",
    "\n",
    "toolkitName = toolkitHome.GIS_DEMOGRAPHY\n",
    "projectName = \"The-Project-Name\"\n",
    "toolkit_specific_parameters = dict() # empty for this presentation. \n",
    "tk  = toolkitHome.getToolkit(toolkitName=toolkitName,\n",
    "                             projectName=projectName,\n",
    "                             **toolkit_specific_parameters)\n"
   ]
  },
  {
   "cell_type": "markdown",
   "id": "c0e30d0f-6d72-43c9-8486-0e0d3140a5ff",
   "metadata": {},
   "source": [
    "<a id=\"datasource\"></a>\n",
    "\n",
    "# Datasource\n",
    "\n",
    "A datasource is an external data that is needed for the toolkit. \n",
    "\n",
    "The data is usually loaded by some repository of data. Note, that the \n",
    "loaded data is specific for a **project**. Hence, it is needed \n",
    "to load it seperately for each project. \n",
    "\n",
    "Internally, datasource is implemented as a data item saved as a measurement document. The type and the resource is \n",
    "determined by the user that added them. "
   ]
  },
  {
   "cell_type": "markdown",
   "id": "66829021-a5a0-4891-892d-935e37714aef",
   "metadata": {},
   "source": [
    "## Adding a datasource\n",
    "\n",
    "Adding a datasource to a toolkit is performed by addDataSource property. \n",
    "\n",
    "The parameters are: \n",
    "\n",
    "- **dataSourceName** : str<br/>\n",
    "  The name of the data source \n",
    "- **resource** : str<br/>\n",
    "    The path to the data file of the datasource.\n",
    "\n",
    "- **dataFormat** : str<br/> \n",
    "    The format of the data. Should be one of the [data formats](dataformats). \n",
    "    \n",
    "- **version**: tuple, default (0,0,1)<br/>\n",
    "        The version of the datasouce. This allows you to add different version of the datasource \n",
    "        and access the currect one. \n",
    "        \n",
    "- **overwrite**: bool, default: False <br/>\n",
    "        If True, overwrite the existing datasource (of the input version).\n",
    "        If False, raise an exception if the datasource exists (with the input version). \n",
    "        \n",
    "- **Additional parameters**: additional parameters name and their values for the \n",
    "    datasource. "
   ]
  },
  {
   "cell_type": "code",
   "execution_count": 2,
   "id": "88991895-f7b4-43ed-ad65-4efae806d85e",
   "metadata": {},
   "outputs": [
    {
     "data": {
      "text/plain": [
       "<Measurements: Measurements object>"
      ]
     },
     "execution_count": 2,
     "metadata": {},
     "output_type": "execute_result"
    }
   ],
   "source": [
    "tk.addDataSource(dataSourceName=\"thedata\",\n",
    "                 resource=\"path-to-data\",\n",
    "                 dataFormat=tk.datatypes.STRING,\n",
    "                 version=(0,0,1),overwrite=True)"
   ]
  },
  {
   "cell_type": "markdown",
   "id": "41ab9732-22f6-4c6b-95fe-70d9d56e980f",
   "metadata": {},
   "source": [
    "Adding another version of the datasource"
   ]
  },
  {
   "cell_type": "code",
   "execution_count": 16,
   "id": "47475512-34a0-4897-b3a4-90cf142beb98",
   "metadata": {},
   "outputs": [
    {
     "data": {
      "text/plain": [
       "<Measurements: Measurements object>"
      ]
     },
     "execution_count": 16,
     "metadata": {},
     "output_type": "execute_result"
    }
   ],
   "source": [
    "tk.addDataSource(dataSourceName=\"thedata\",\n",
    "                 resource=\"path-to-data-2\",\n",
    "                 dataFormat=tk.datatypes.STRING,\n",
    "                 overwrite=True,\n",
    "                 version=(0,0,2),key=\"value\")"
   ]
  },
  {
   "cell_type": "markdown",
   "id": "30ac5edb-8e6e-4e37-a9e1-acd381c3b807",
   "metadata": {},
   "source": [
    "## Listing the datasources\n",
    "\n",
    "List the datasources that were added to the project is performed by"
   ]
  },
  {
   "cell_type": "code",
   "execution_count": 17,
   "id": "cbeb940d-f2cd-45b3-85b9-82eaff002597",
   "metadata": {},
   "outputs": [
    {
     "data": {
      "text/html": [
       "<div>\n",
       "<style scoped>\n",
       "    .dataframe tbody tr th:only-of-type {\n",
       "        vertical-align: middle;\n",
       "    }\n",
       "\n",
       "    .dataframe tbody tr th {\n",
       "        vertical-align: top;\n",
       "    }\n",
       "\n",
       "    .dataframe thead th {\n",
       "        text-align: right;\n",
       "    }\n",
       "</style>\n",
       "<table border=\"1\" class=\"dataframe\">\n",
       "  <thead>\n",
       "    <tr style=\"text-align: right;\">\n",
       "      <th></th>\n",
       "      <th>dataFormat</th>\n",
       "      <th>resource</th>\n",
       "      <th>toolkit</th>\n",
       "      <th>datasourceName</th>\n",
       "      <th>version</th>\n",
       "      <th>key</th>\n",
       "    </tr>\n",
       "  </thead>\n",
       "  <tbody>\n",
       "    <tr>\n",
       "      <th>0</th>\n",
       "      <td>string</td>\n",
       "      <td>path-to-data</td>\n",
       "      <td>Demography</td>\n",
       "      <td>thedata</td>\n",
       "      <td>[0, 0, 1]</td>\n",
       "      <td>NaN</td>\n",
       "    </tr>\n",
       "    <tr>\n",
       "      <th>1</th>\n",
       "      <td>string</td>\n",
       "      <td>path-to-data-2</td>\n",
       "      <td>Demography</td>\n",
       "      <td>thedata</td>\n",
       "      <td>[0, 0, 2]</td>\n",
       "      <td>value</td>\n",
       "    </tr>\n",
       "  </tbody>\n",
       "</table>\n",
       "</div>"
      ],
      "text/plain": [
       "  dataFormat        resource     toolkit datasourceName    version    key\n",
       "0     string    path-to-data  Demography        thedata  [0, 0, 1]    NaN\n",
       "1     string  path-to-data-2  Demography        thedata  [0, 0, 2]  value"
      ]
     },
     "execution_count": 17,
     "metadata": {},
     "output_type": "execute_result"
    }
   ],
   "source": [
    "tk.getDataSourceTable()"
   ]
  },
  {
   "cell_type": "markdown",
   "id": "7b95d5d8-25eb-413f-a734-9eb73a72d793",
   "metadata": {},
   "source": [
    "It is possible to filter the datasources using the key/value"
   ]
  },
  {
   "cell_type": "code",
   "execution_count": 27,
   "id": "f6af388c-89b2-4525-b71b-160b1c24b9ac",
   "metadata": {},
   "outputs": [
    {
     "data": {
      "text/html": [
       "<div>\n",
       "<style scoped>\n",
       "    .dataframe tbody tr th:only-of-type {\n",
       "        vertical-align: middle;\n",
       "    }\n",
       "\n",
       "    .dataframe tbody tr th {\n",
       "        vertical-align: top;\n",
       "    }\n",
       "\n",
       "    .dataframe thead th {\n",
       "        text-align: right;\n",
       "    }\n",
       "</style>\n",
       "<table border=\"1\" class=\"dataframe\">\n",
       "  <thead>\n",
       "    <tr style=\"text-align: right;\">\n",
       "      <th></th>\n",
       "      <th>dataFormat</th>\n",
       "      <th>resource</th>\n",
       "      <th>key</th>\n",
       "      <th>toolkit</th>\n",
       "      <th>datasourceName</th>\n",
       "      <th>version</th>\n",
       "    </tr>\n",
       "  </thead>\n",
       "  <tbody>\n",
       "    <tr>\n",
       "      <th>0</th>\n",
       "      <td>string</td>\n",
       "      <td>path-to-data-2</td>\n",
       "      <td>value</td>\n",
       "      <td>Demography</td>\n",
       "      <td>thedata</td>\n",
       "      <td>[0, 0, 2]</td>\n",
       "    </tr>\n",
       "  </tbody>\n",
       "</table>\n",
       "</div>"
      ],
      "text/plain": [
       "  dataFormat        resource    key     toolkit datasourceName    version\n",
       "0     string  path-to-data-2  value  Demography        thedata  [0, 0, 2]"
      ]
     },
     "execution_count": 27,
     "metadata": {},
     "output_type": "execute_result"
    }
   ],
   "source": [
    "tk.getDataSourceTable(key=\"value\")"
   ]
  },
  {
   "cell_type": "markdown",
   "id": "783593ae-9f28-42c7-ae1b-db3b61563642",
   "metadata": {},
   "source": [
    "Alternativle, it is possible to get the datasource as a list of dictionaryes. "
   ]
  },
  {
   "cell_type": "code",
   "execution_count": 19,
   "id": "c4b148a1-7f09-4a64-baae-9ee4d1c0b631",
   "metadata": {},
   "outputs": [
    {
     "data": {
      "text/plain": [
       "[{'dataFormat': 'string',\n",
       "  'resource': 'path-to-data',\n",
       "  'toolkit': 'Demography',\n",
       "  'datasourceName': 'thedata',\n",
       "  'version': [0, 0, 1]},\n",
       " {'dataFormat': 'string',\n",
       "  'resource': 'path-to-data-2',\n",
       "  'key': 'value',\n",
       "  'toolkit': 'Demography',\n",
       "  'datasourceName': 'thedata',\n",
       "  'version': [0, 0, 2]}]"
      ]
     },
     "execution_count": 19,
     "metadata": {},
     "output_type": "execute_result"
    }
   ],
   "source": [
    "tk.getDataSourceMap()"
   ]
  },
  {
   "cell_type": "markdown",
   "id": "b778f0e9-37d3-4ef1-baa5-e873bc3a2bd8",
   "metadata": {},
   "source": [
    "## Getting the datasource \n",
    "\n",
    "It is possible to retrieve either the metadata document (datasource document) or the data itself. \n",
    "\n",
    "To get the data document we use  "
   ]
  },
  {
   "cell_type": "code",
   "execution_count": 20,
   "id": "c53d15f5-854f-499e-9f67-9b5f7ad28e9c",
   "metadata": {},
   "outputs": [
    {
     "name": "stdout",
     "output_type": "stream",
     "text": [
      "{\n",
      "    \"key\": \"value\",\n",
      "    \"toolkit\": \"Demography\",\n",
      "    \"datasourceName\": \"thedata\",\n",
      "    \"version\": [\n",
      "        0,\n",
      "        0,\n",
      "        2\n",
      "    ]\n",
      "}\n"
     ]
    }
   ],
   "source": [
    "import json \n",
    "\n",
    "datasourceName  = \"thedata\"\n",
    "doc = tk.getDatasourceDocument(datasourceName=datasourceName)\n",
    "print(json.dumps(doc.desc,indent=4))"
   ]
  },
  {
   "cell_type": "markdown",
   "id": "ebaed6b1-000d-4866-b4ef-2519acfacff0",
   "metadata": {},
   "source": [
    "If the version is not specified, the function will return \n",
    "the highest version.\n",
    "\n",
    "It is possible to set the version to get the relevant datasource  "
   ]
  },
  {
   "cell_type": "code",
   "execution_count": 21,
   "id": "2f9c3026-5f6e-48ed-958a-1b18028a7655",
   "metadata": {},
   "outputs": [
    {
     "name": "stdout",
     "output_type": "stream",
     "text": [
      "{\n",
      "    \"toolkit\": \"Demography\",\n",
      "    \"datasourceName\": \"thedata\",\n",
      "    \"version\": [\n",
      "        0,\n",
      "        0,\n",
      "        1\n",
      "    ]\n",
      "}\n"
     ]
    }
   ],
   "source": [
    "doc = tk.getDatasourceDocument(datasourceName=datasourceName,version=(0,0,1))\n",
    "print(json.dumps(doc.desc,indent=4))"
   ]
  },
  {
   "cell_type": "markdown",
   "id": "386367a7-24df-40f2-ad4c-3a4eb2396118",
   "metadata": {},
   "source": [
    "Getting the data is possible by using the getData"
   ]
  },
  {
   "cell_type": "code",
   "execution_count": 24,
   "id": "b4702bf6-10c9-415b-a9de-e06751e0a371",
   "metadata": {},
   "outputs": [
    {
     "data": {
      "text/plain": [
       "'path-to-data'"
      ]
     },
     "execution_count": 24,
     "metadata": {},
     "output_type": "execute_result"
    }
   ],
   "source": [
    "doc.getData()"
   ]
  },
  {
   "cell_type": "markdown",
   "id": "ffb50e79-5d3b-45bb-9809-a5b02d76da04",
   "metadata": {},
   "source": [
    "It is possible to get a list of all the datasources"
   ]
  },
  {
   "cell_type": "code",
   "execution_count": 25,
   "id": "047f8278-fce0-4f52-beb2-1328b53e40c3",
   "metadata": {},
   "outputs": [
    {
     "data": {
      "text/plain": [
       "[<Measurements: Measurements object>, <Measurements: Measurements object>]"
      ]
     },
     "execution_count": 25,
     "metadata": {},
     "output_type": "execute_result"
    }
   ],
   "source": [
    "tk.getDatasourceDocumentsList()"
   ]
  },
  {
   "cell_type": "markdown",
   "id": "aa509099-e765-4ee8-b4d9-15bdb2d20b74",
   "metadata": {},
   "source": [
    "It is also possible to get the datasource data directly "
   ]
  },
  {
   "cell_type": "code",
   "execution_count": 26,
   "id": "621ba140-fe89-4415-85a7-2e96005b6eee",
   "metadata": {},
   "outputs": [
    {
     "data": {
      "text/plain": [
       "'path-to-data-2'"
      ]
     },
     "execution_count": 26,
     "metadata": {},
     "output_type": "execute_result"
    }
   ],
   "source": [
    "tk.getDatasourceData(datasourceName=datasourceName)"
   ]
  },
  {
   "cell_type": "markdown",
   "id": "b8a6871b-41fd-4f05-b58a-b9fa9483191d",
   "metadata": {},
   "source": [
    "## Delete datasource\n",
    "\n",
    "Deleting the datasource is achieved by"
   ]
  },
  {
   "cell_type": "code",
   "execution_count": 28,
   "id": "aa59dcaa-c0b6-445b-a227-8ca1d171431b",
   "metadata": {},
   "outputs": [
    {
     "data": {
      "text/plain": [
       "[{'_id': {'$oid': '65a2dffb292b74d6310ca28d'},\n",
       "  '_cls': 'Metadata.Measurements',\n",
       "  'projectName': 'The-Project-Name',\n",
       "  'desc': {'toolkit': 'Demography',\n",
       "   'datasourceName': 'thedata',\n",
       "   'version': [0, 0, 1]},\n",
       "  'type': 'ToolkitDataSource',\n",
       "  'resource': 'path-to-data',\n",
       "  'dataFormat': 'string'}]"
      ]
     },
     "execution_count": 28,
     "metadata": {},
     "output_type": "execute_result"
    }
   ],
   "source": [
    "tk.deleteDataSourceDocuments(datasourceName=datasourceName,version=(0,0,1))"
   ]
  },
  {
   "cell_type": "code",
   "execution_count": 29,
   "id": "73596e05-f817-42c8-b185-23ad7e03e50c",
   "metadata": {},
   "outputs": [
    {
     "data": {
      "text/html": [
       "<div>\n",
       "<style scoped>\n",
       "    .dataframe tbody tr th:only-of-type {\n",
       "        vertical-align: middle;\n",
       "    }\n",
       "\n",
       "    .dataframe tbody tr th {\n",
       "        vertical-align: top;\n",
       "    }\n",
       "\n",
       "    .dataframe thead th {\n",
       "        text-align: right;\n",
       "    }\n",
       "</style>\n",
       "<table border=\"1\" class=\"dataframe\">\n",
       "  <thead>\n",
       "    <tr style=\"text-align: right;\">\n",
       "      <th></th>\n",
       "      <th>dataFormat</th>\n",
       "      <th>resource</th>\n",
       "      <th>key</th>\n",
       "      <th>toolkit</th>\n",
       "      <th>datasourceName</th>\n",
       "      <th>version</th>\n",
       "    </tr>\n",
       "  </thead>\n",
       "  <tbody>\n",
       "    <tr>\n",
       "      <th>0</th>\n",
       "      <td>string</td>\n",
       "      <td>path-to-data-2</td>\n",
       "      <td>value</td>\n",
       "      <td>Demography</td>\n",
       "      <td>thedata</td>\n",
       "      <td>[0, 0, 2]</td>\n",
       "    </tr>\n",
       "  </tbody>\n",
       "</table>\n",
       "</div>"
      ],
      "text/plain": [
       "  dataFormat        resource    key     toolkit datasourceName    version\n",
       "0     string  path-to-data-2  value  Demography        thedata  [0, 0, 2]"
      ]
     },
     "execution_count": 29,
     "metadata": {},
     "output_type": "execute_result"
    }
   ],
   "source": [
    "tk.getDataSourceTable()"
   ]
  },
  {
   "cell_type": "markdown",
   "id": "8e52b21f-86b2-4cd0-b260-662f3ee00f19",
   "metadata": {
    "tags": []
   },
   "source": [
    "# Available toolkits\n",
    "\n",
    "The datalalyer of a toolkit is \n",
    "\n",
    "<table>\n",
    "    <tr>\n",
    "        <td colspan=\"2\" align=\"center\"><font size=\"+1\">GIS</font></td>\n",
    "    </tr>\n",
    "    <tr>\n",
    "        <td>Topogrphy</td>\n",
    "        <td>Manages topography</td>\n",
    "    </tr>\n",
    "    <tr>\n",
    "        <td colspan=\"2\" align=\"center\"><font size=\"+1\">Simulations</font></td>\n",
    "    </tr>\n",
    "    <tr>\n",
    "        <td>LSM</td>\n",
    "        <td>Stochastic lagrangian simulation (fortran)</td>\n",
    "    </tr>\n",
    "    <tr>\n",
    "        <td>Hermes workflow</td>\n",
    "        <td>The hermes workflow toolkit</td>\n",
    "    </tr>\n",
    "    <tr>\n",
    "        <td>OpenFOAM</td>\n",
    "        <td>The openfoam toolkit</td>\n",
    "    </tr>    \n",
    "    <tr>\n",
    "        <td colspan=\"2\" align=\"center\"><font size=\"+1\">Risk assessment</font></td>\n",
    "    </tr>\n",
    "    <tr>\n",
    "        <td>Risk assessment</td>\n",
    "        <td>Estimating the effects of dispersion</td>\n",
    "    </tr>    \n",
    "</table>\n"
   ]
  }
 ],
 "metadata": {
  "kernelspec": {
   "display_name": "Python 3 (ipykernel)",
   "language": "python",
   "name": "python3"
  },
  "language_info": {
   "codemirror_mode": {
    "name": "ipython",
    "version": 3
   },
   "file_extension": ".py",
   "mimetype": "text/x-python",
   "name": "python",
   "nbconvert_exporter": "python",
   "pygments_lexer": "ipython3",
   "version": "3.9.18"
  }
 },
 "nbformat": 4,
 "nbformat_minor": 5
}
