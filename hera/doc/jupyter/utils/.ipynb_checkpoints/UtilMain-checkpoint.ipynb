{
 "cells": [
  {
   "cell_type": "markdown",
   "id": "bf1b7439-a08a-4fef-8142-8df62d297cef",
   "metadata": {},
   "source": [
    "<font size=\"+3\">Utils</font>\n",
    "\n",
    "Hera has different utilities to help using different aspects \n",
    "\n",
    "<table style=\"font-size: 16px;\">\n",
    "    <tr>\n",
    "        <td><b>Utility</b></td>\n",
    "        <td><b>Description</b></td>\n",
    "    </tr>\n",
    "    <tr>\n",
    "        <td><a href=\"Logging.ipynb\">Logging</a></td>\n",
    "        <td>Assists in utilizing the logging package. </td>\n",
    "    </tr>\n",
    "    <tr>\n",
    "        <td><a href=\"JSON.ipynb\">JSON</a></td>\n",
    "        <td>Loading, saving, making variations and other JSON utils</td>\n",
    "    </tr>\n",
    "    <tr>\n",
    "        <td><a href=\"Unum.ipynb\">Unum</a></td>\n",
    "        <td>unum, physical unit management package</td>\n",
    "    </tr>\n",
    "    \n",
    "</table>"
   ]
  },
  {
   "cell_type": "code",
   "execution_count": null,
   "id": "40dadd2f-788a-4c1a-aea6-4c815b5a7842",
   "metadata": {},
   "outputs": [],
   "source": []
  }
 ],
 "metadata": {
  "kernelspec": {
   "display_name": "Python 3 (ipykernel)",
   "language": "python",
   "name": "python3"
  },
  "language_info": {
   "codemirror_mode": {
    "name": "ipython",
    "version": 3
   },
   "file_extension": ".py",
   "mimetype": "text/x-python",
   "name": "python",
   "nbconvert_exporter": "python",
   "pygments_lexer": "ipython3",
   "version": "3.9.18"
  }
 },
 "nbformat": 4,
 "nbformat_minor": 5
}
