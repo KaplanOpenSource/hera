{
 "cells": [
  {
   "cell_type": "markdown",
   "id": "01083537-4de7-4c01-b22b-8498c4a5be15",
   "metadata": {},
   "source": [
    "<font size=\"+3\">Query utils</font>\n",
    "\n",
    "The utils in this package helps the user to build \n",
    "pandas query string and mongoDB queries. \n",
    "\n",
    "# Pandas query\n",
    "\n",
    "The pandas query is used to query pandas dataframe using the [query](https://pandas.pydata.org/docs/reference/api/pandas.DataFrame.query.html) function. \n",
    "\n",
    "The **andClause** builds a query string. \n",
    "Currently, the query has only `and` conditions. \n",
    "\n",
    "The **andClause** handles:\n",
    "- **lists**: using the `in` clause \n",
    "- **operator**: Build an operator string \n",
    "```python \n",
    "    {\n",
    "     'operator' : <operator>,\n",
    "        'value' : <value>\n",
    "    }\n",
    "```\n",
    "\n",
    "For example."
   ]
  },
  {
   "cell_type": "code",
   "execution_count": 1,
   "id": "5532fcef-929e-441b-b48e-2c51d3c931aa",
   "metadata": {},
   "outputs": [
    {
     "data": {
      "text/plain": [
       "'a == 1 and b in [1, 2, 3] and c > 7'"
      ]
     },
     "execution_count": 1,
     "metadata": {},
     "output_type": "execute_result"
    }
   ],
   "source": [
    "from hera.utils import andClause \n",
    "\n",
    "andClause(a=1,b=[1,2,3],c=dict(operator='>',value=7))"
   ]
  },
  {
   "cell_type": "markdown",
   "id": "b0baf902-841e-4134-88c4-5a487b85b94b",
   "metadata": {},
   "source": [
    "# MongoDB query \n",
    "\n",
    "The mongoDB in the hera datalayer allows querying using the [mongoengine](http://mongoengine.org/) package. \n",
    "The package also defines a [query language](https://docs.mongoengine.org/guide/querying.html) to allow querying\n",
    "on the DB. \n",
    "\n",
    "\n",
    "<div class=\"alert alert-block alert-info\">\n",
    "<b>Example: </b> \n",
    "    \n",
    "So, for example, the JSON \n",
    "```python \n",
    "        \"fieldname1\" : {\n",
    "                \"subfield\" : 1,\n",
    "                \"subfield1\" : \"d\"\n",
    "        },\n",
    "        \"fieldname2\" : {\n",
    "                \"subfield3\" : \"hello\",\n",
    "                \"subfield4\" : \"goodbye\",\n",
    "        }\n",
    "```\n",
    "\n",
    "In order to query according to `subfield` we use \n",
    "```python \n",
    "    fieldname1__subfield = 1\n",
    "```\n",
    "as the parameter to the query\n",
    "</div>        \n",
    "\n",
    "The **dictToMongoQuery** converts a dict to a mongo dict. \n",
    "That is "
   ]
  },
  {
   "cell_type": "code",
   "execution_count": 2,
   "id": "c1d5ffd1-64af-4b62-9160-8d3673f6cc55",
   "metadata": {},
   "outputs": [
    {
     "data": {
      "text/plain": [
       "{'a__b': 1, 'a__c': 2, 'b': 2}"
      ]
     },
     "execution_count": 2,
     "metadata": {},
     "output_type": "execute_result"
    }
   ],
   "source": [
    "from hera.utils import dictToMongoQuery\n",
    "\n",
    "qry = dict(a=dict(b=1,c=2),b=2)\n",
    "dictToMongoQuery(qry)"
   ]
  },
  {
   "cell_type": "markdown",
   "id": "f9ccdf88-5c45-4a4e-aa60-30edecdc4e4a",
   "metadata": {},
   "source": [
    "The usage of **dictToMongoQuery** with the datalayer \n",
    "is performed"
   ]
  },
  {
   "cell_type": "code",
   "execution_count": 3,
   "id": "06cbfaa2-3d08-48f0-b4b9-7ed7b002835c",
   "metadata": {},
   "outputs": [],
   "source": [
    "from hera import Project \n",
    "\n",
    "proj = Project(\"test\")"
   ]
  },
  {
   "cell_type": "code",
   "execution_count": 4,
   "id": "2dc7f1d9-f17e-4766-b90f-e2f11a9c2978",
   "metadata": {},
   "outputs": [
    {
     "data": {
      "text/plain": [
       "[]"
      ]
     },
     "execution_count": 4,
     "metadata": {},
     "output_type": "execute_result"
    }
   ],
   "source": [
    "proj.getMeasurementsDocuments(**dictToMongoQuery(qry))"
   ]
  },
  {
   "cell_type": "markdown",
   "id": "3b2689aa-ba74-4150-9a63-f4b427e76728",
   "metadata": {},
   "source": [
    "The **dictToMongoQuery** allows the user to add a prefix before \n",
    "the key. THis is used when the query is perfomed on a part of the JSON. \n",
    "For example, "
   ]
  },
  {
   "cell_type": "code",
   "execution_count": 5,
   "id": "9e538212-ad3f-497c-b909-e239f1faa234",
   "metadata": {},
   "outputs": [
    {
     "data": {
      "text/plain": [
       "{'root__a__b': 1, 'root__a__c': 2, 'root__b': 2}"
      ]
     },
     "execution_count": 5,
     "metadata": {},
     "output_type": "execute_result"
    }
   ],
   "source": [
    "dictToMongoQuery(qry,prefix=\"root\")"
   ]
  },
  {
   "cell_type": "markdown",
   "id": "815be521-d4cc-419a-b610-1b3e12713217",
   "metadata": {},
   "source": [
    "That us, the query assumes that the JSON being queried has a `root` node. \n",
    "\n",
    "The function also allows the usage of operation in the MongoDB. \n",
    "\n",
    "For example, the JSON\n",
    "```javascript\n",
    "{\n",
    "    value : {\n",
    "        'gt' : 4\n",
    "    }\n",
    "}\n",
    "```\n",
    "will return  all the documents whose `value` field is greater than 4. \n",
    "\n",
    "The opreations implemented: \n",
    "- **type**\n",
    "- **in**\n",
    "- **ne**\n",
    "- **lt**\n",
    "- **lte***\n",
    "- **gt***\n",
    "- **gte***\n",
    "- **not**\n",
    "-  **all**\n",
    "-  **size**\n",
    "-  **exists**\n",
    "-  **nin**\n",
    "- **not**\n"
   ]
  },
  {
   "cell_type": "code",
   "execution_count": 6,
   "id": "a5f175bb-e126-4275-8542-d24708836775",
   "metadata": {},
   "outputs": [
    {
     "data": {
      "text/plain": [
       "{'root__value__gt': 1}"
      ]
     },
     "execution_count": 6,
     "metadata": {},
     "output_type": "execute_result"
    }
   ],
   "source": [
    "dictToMongoQuery(dict(value={\"gt\":1}),prefix=\"root\")"
   ]
  },
  {
   "cell_type": "code",
   "execution_count": null,
   "id": "3c3e61ba-6e81-43bc-9554-c231d38b066b",
   "metadata": {},
   "outputs": [],
   "source": []
  }
 ],
 "metadata": {
  "kernelspec": {
   "display_name": "Python 3",
   "language": "python",
   "name": "python3"
  },
  "language_info": {
   "codemirror_mode": {
    "name": "ipython",
    "version": 3
   },
   "file_extension": ".py",
   "mimetype": "text/x-python",
   "name": "python",
   "nbconvert_exporter": "python",
   "pygments_lexer": "ipython3",
   "version": "3.9.13"
  }
 },
 "nbformat": 4,
 "nbformat_minor": 5
}
