{
 "cells": [
  {
   "cell_type": "markdown",
   "id": "4f9b2191-81bb-400d-add3-f32bfe451bee",
   "metadata": {},
   "source": [
    "<font size=\"+3\">Logging</font>\n",
    "\n",
    "The Python logging package provides a flexible and powerful framework for logging messages in Python applications. It allows developers to create loggers, define log levels, configure handlers to specify where log messages should be sent (e.g., console, file), and format log messages according to specific requirements. \n",
    "\n",
    "The logging package supports various log levels (e.g., DEBUG, INFO, WARNING, ERROR, CRITICAL) to categorize the severity of log messages. Additionally, it offers features like loggers hierarchy, log propagation, filters, and formatters, enabling developers to customize logging behavior according to the needs of their application. Overall, the Python logging package is widely used for effective logging and debugging in Python programs. \n",
    "\n",
    "<div class=\"alert alert-block alert-info\">\n",
    "A short example of the usage of the logging python. Note that the logger is set to INFO logging level, \n",
    "and therefore the debug message wasnt printed. \n",
    "</div>"
   ]
  },
  {
   "cell_type": "code",
   "execution_count": 1,
   "id": "b674ac7a-139f-46dd-ae8d-8b305f597e6c",
   "metadata": {},
   "outputs": [
    {
     "name": "stderr",
     "output_type": "stream",
     "text": [
      "INFO:simple_example:This is an info message\n",
      "WARNING:simple_example:This is a warning message\n",
      "ERROR:simple_example:This is an error message\n",
      "CRITICAL:simple_example:This is a critical message\n"
     ]
    }
   ],
   "source": [
    "import logging\n",
    "\n",
    "# Configure logging\n",
    "logging.basicConfig(level=logging.INFO)\n",
    "\n",
    "# Get the root logger and set its level\n",
    "root_logger = logging.getLogger()\n",
    "root_logger.setLevel(logging.INFO)\n",
    "\n",
    "# Create a logger\n",
    "logger = logging.getLogger(\"simple_example\")\n",
    "\n",
    "# Log messages\n",
    "logger.debug(\"This is a debug message\")\n",
    "logger.info(\"This is an info message\")\n",
    "logger.warning(\"This is a warning message\")\n",
    "logger.error(\"This is an error message\")\n",
    "logger.critical(\"This is a critical message\")"
   ]
  },
  {
   "cell_type": "markdown",
   "id": "99ed494a-9772-401c-977f-09c513d28772",
   "metadata": {
    "toc-hr-collapsed": true
   },
   "source": [
    "#  A primer on Logging concepts"
   ]
  },
  {
   "cell_type": "markdown",
   "id": "668e3dae-cb98-4c95-b865-2de9078282aa",
   "metadata": {
    "tags": []
   },
   "source": [
    "## Logger\n",
    "\n",
    "\n",
    "<div class=\"alert alert-block alert-warning\">\n",
    "    <b>Summary</b>\n",
    "<ul>\n",
    "    <li>A logger is an object used to log messages.</li>\n",
    "    <li>Loggers are organized hierarchically, inheriting settings and behavior from ancestor loggers.</li>\n",
    "    <li>Each logger is identified by a name, typically the name of the module it is used in.</li>\n",
    "    <li>Each logger has one or more handlers associated to it, that determine how to output the messages</li>\n",
    "</ul>\n",
    "</div>\n",
    "\n",
    "Loggers in the Python logging package are objects used to record log messages. They serve as entry points to the logging system and provide a namespace for different parts of an application to log messages. \n",
    "\n",
    "Loggers can be configured with handlers to specify where log messages should be sent, and they can also have associated levels to filter log messages based on their severity. \n",
    "\n",
    "Loggers are organized in a hierarchical namespace, allowing developers to control the flow of log messages and set different configurations for different parts of the application. The hierarchy of the loggers is determined similarly to the python package notation. \n",
    "Specifically, `logger.son` inherits from `logger`. \n",
    "\n",
    "\n",
    "### Logger Hierarchy\n",
    "\n",
    "<div class=\"alert alert-block alert-info\">\n",
    "This example demonstrates the creation of a logger hierarchy in Python using the built-in `logging` module. The logger hierarchy allows for better organization and management of log messages in an application.\n",
    "</div>"
   ]
  },
  {
   "cell_type": "code",
   "execution_count": 2,
   "id": "e5e368a7-b82d-48d8-87de-2199b573c053",
   "metadata": {},
   "outputs": [
    {
     "name": "stderr",
     "output_type": "stream",
     "text": [
      "DEBUG:root:This is a debug message\n",
      "2024-02-19 01:13:10,364 - root - DEBUG - This is a debug message\n",
      "INFO:hera:This is an info message from hera logger\n",
      "2024-02-19 01:13:10,365 - hera - INFO - This is an info message from hera logger\n",
      "WARNING:hera.datalayer:This is a warning message from hera.datalayer logger\n",
      "2024-02-19 01:13:10,365 - hera.datalayer - WARNING - This is a warning message from hera.datalayer logger\n",
      "ERROR:hera.measurements:This is an error message from hera.measurements logger\n",
      "2024-02-19 01:13:10,366 - hera.measurements - ERROR - This is an error message from hera.measurements logger\n"
     ]
    }
   ],
   "source": [
    "import logging\n",
    "\n",
    "# Create a root logger\n",
    "root_logger = logging.getLogger()\n",
    "root_logger.setLevel(logging.DEBUG)\n",
    "\n",
    "# Create child loggers\n",
    "hera_logger = logging.getLogger('hera')\n",
    "hera_datalayer_logger = logging.getLogger('hera.datalayer')\n",
    "hera_measurements_logger = logging.getLogger('hera.measurements')\n",
    "\n",
    "# Set log levels for child loggers\n",
    "hera_logger.setLevel(logging.INFO)\n",
    "hera_datalayer_logger.setLevel(logging.WARNING)\n",
    "hera_measurements_logger.setLevel(logging.ERROR)\n",
    "\n",
    "# Create a console handler and set its level\n",
    "console_handler = logging.StreamHandler()\n",
    "console_handler.setLevel(logging.DEBUG)\n",
    "\n",
    "# Create a formatter\n",
    "formatter = logging.Formatter('%(asctime)s - %(name)s - %(levelname)s - %(message)s')\n",
    "\n",
    "# Add the formatter to the handler\n",
    "console_handler.setFormatter(formatter)\n",
    "\n",
    "# Add the handler to the root logger\n",
    "root_logger.addHandler(console_handler)\n",
    "\n",
    "# Log messages\n",
    "root_logger.debug('This is a debug message')\n",
    "hera_logger.info('This is an info message from hera logger')\n",
    "hera_datalayer_logger.warning('This is a warning message from hera.datalayer logger')\n",
    "hera_measurements_logger.error('This is an error message from hera.measurements logger')\n"
   ]
  },
  {
   "cell_type": "markdown",
   "id": "95cf83b1-824e-4209-92c3-18a1696e1f29",
   "metadata": {},
   "source": [
    "This example creates the loggers\n",
    "- `hera`\n",
    "- `hera.datalayer`\n",
    "- `hera.measurements`\n",
    "\n",
    "These child loggers inherit properties from their parent loggers in the hierarchy.\n",
    "That is, the logger `hera.datalayer` and `hera.measurements` inherit from the logger `hera`. \n",
    "\n",
    "Log messages are formatted according to the specified format and output to the console. The hierarchy ensures that log messages are handled and filtered based on their log levels and the configuration of the loggers and handlers.\n",
    "\n",
    "### Propagation\n",
    "\n",
    "Loggers propagate messages up the logger hierarchy to parent loggers by default.\n",
    "Messages are passed up to ancestor loggers if the current logger does not handle them.\n",
    "\n",
    "### Logging to Multiple Destinations\n",
    " Multiple handlers can be added to a logger to log messages to multiple destinations simultaneously.\n",
    " \n",
    " \n",
    "### Level\n",
    "\n",
    "The logging levels are: \n",
    "- DEBUG\n",
    "- INFO\n",
    "- WARNING\n",
    "- ERROR\n",
    "- CRITICAL\n",
    "\n",
    "The levels can be accessible through the logging package. \n",
    "For example, accessing the ERROR level is "
   ]
  },
  {
   "cell_type": "code",
   "execution_count": 3,
   "id": "89a3968d-06b5-41ab-9237-977464a1e9f9",
   "metadata": {},
   "outputs": [
    {
     "data": {
      "text/plain": [
       "40"
      ]
     },
     "execution_count": 3,
     "metadata": {},
     "output_type": "execute_result"
    }
   ],
   "source": [
    "logging.ERROR"
   ]
  },
  {
   "cell_type": "markdown",
   "id": "59e6da4e-3fc6-434e-858c-d46a85706209",
   "metadata": {},
   "source": [
    "## Handler\n",
    "\n",
    "<div class=\"alert alert-block alert-warning\">\n",
    "    <b>Summary</b>\n",
    "<ul>\n",
    "    <li>A handler dispatches log messages to specific destinations, such as the console, a file, or a network socket.</li>\n",
    "    <li>Handlers can filter log messages based on severity level, format messages, and route them to appropriate destinations.</li>\n",
    "</ul>\n",
    "</div>\n",
    "\n",
    "Handlers in the Python logging package are responsible for defining where log messages should be sent. They determine the output destination of log messages, such as the console, files, sockets, or other custom destinations. Handlers can be attached to loggers to specify how log messages should be processed and where they should be directed. Handlers can also have associated levels to filter log messages based on their severity before processing them. Overall, handlers provide a flexible way to customize the logging behavior and route log messages to various destinations based on application requirements."
   ]
  },
  {
   "cell_type": "markdown",
   "id": "a321417d-70c9-4203-8f02-a554d702bfc9",
   "metadata": {},
   "source": [
    "## Formatter\n",
    "<div class=\"alert alert-block alert-warning\">\n",
    "    <b>Summary</b>\n",
    "<ul>\n",
    "    <li>A formatter formats log messages before they are emitted by a handler.</li>\n",
    "    <li>Formatters allow customization of the appearance of log messages through format strings.</li>\n",
    "    </ul>\n",
    "</div>\n",
    "\n",
    "The formatting is a string with the placeholders that define the format. \n",
    "For example: \n",
    "```python\n",
    "\"%(levelname)-8s: %(filename)s/%(funcName)s(%(lineno)d) %(message)s\",\n",
    "```\n",
    "\n",
    "The list of placeholders is \n",
    "- **%asctime**: Timestamp when the log message was created. (Formatted using datefmt)\n",
    "- **%created**: Timestamp when the LogRecord was created.\n",
    "- **%filename**: Name of the source file where the logging call was made.\n",
    "- **%funcName**: Name of the function where the logging call was made.\n",
    "- **%levelname**: Log level (e.g., DEBUG, INFO, WARNING, ERROR, CRITICAL).\n",
    "- **%levelno**: Numeric value of the log level.\n",
    "- **%lineno**: Line number in the source code where the logging call was made.\n",
    "- **%message**: The actual log message.\n",
    "- **%module**: Name of the module where the logging call was made.\n",
    "- **%name**: Name of the logger used to log the message.\n",
    "- **%pathname**: Full pathname of the source file where the logging call was made.\n",
    "- **%process**: Process ID of the current process.\n",
    "- **%processName**: Name of the current process.\n",
    "- **%thread**: Thread ID of the current thread.\n",
    "- **%threadName**: Name of the current thread."
   ]
  },
  {
   "cell_type": "markdown",
   "id": "16e4fb0d-670f-4a89-80bc-2f36aab6eff2",
   "metadata": {},
   "source": [
    "Note that the `debug` message was not printed. "
   ]
  },
  {
   "cell_type": "markdown",
   "id": "d51dc416-731e-4f73-9ad9-9b0a7ccc40ee",
   "metadata": {
    "tags": [],
    "toc-hr-collapsed": true
   },
   "source": [
    "# Using the Hera defaults \n",
    "\n",
    "The hera logging defines several default loggers, handlers and formatters. \n",
    "\n",
    "## Loggers:\n",
    "- **hera.datalayer**: Logs to datalayer and console handlers, level set to CRITICAL.\n",
    "- **hera.measurements**: Logs to measurements and console handlers, level set to CRITICAL.\n",
    "- **hera.simulations**: Logs to simulations and console handlers, level set to CRITICAL.\n",
    "- **hera.bin**: Logs to bin and console handlers, level set to CRITICAL.\n",
    "\n",
    "## Handlers:\n",
    "- **console**: Writes logs to the console with a brief format.\n",
    "               \n",
    "- **bin**: Rotating file handler for bin logs. \n",
    "           The file is saved to the direcoty `$HOME/.pyhera/log/bin.log`.\n",
    "           A rotating file, holds the older logs in `$HOME/.pyhera/log/bin.log.1`, `$HOME/.pyhera/log/bin.log.2`, and \n",
    "           `$HOME/.pyhera/log/bin.log.3` when each file exceeds 20MB. \n",
    "\n",
    "- **datalayer**: Rotating file handler for datalayer logs.\n",
    "           The file is saved to the direcoty `$HOME/.pyhera/log/datalayer.log`.\n",
    "           A rotating file, holds the older logs in `$HOME/.pyhera/log/datalayer.log.1`, `$HOME/.pyhera/log/datalayer.log.2`, and \n",
    "           `$HOME/.pyhera/log/datalayer.log.3` when each file exceeds 20MB. \n",
    "\n",
    "- **measurements**: Rotating file handler for measurements logs.\n",
    "           The file is saved to the direcoty `$HOME/.pyhera/log/measurements.log`.\n",
    "           A rotating file, holds the older logs in `$HOME/.pyhera/log/measurements.log.1`, `$HOME/.pyhera/log/measurements.log.2`, and \n",
    "           `$HOME/.pyhera/log/measurements.log.3` when each file exceeds 20MB. \n",
    "\n",
    "- **errors**: File handler for error logs.\n",
    "           The file is saved to the direcoty `$HOME/.pyhera/log/Errors.log`.\n",
    "           \n",
    "\n",
    "- **simulations**: Rotating file handler for simulations logs.\n",
    "           The file is saved to the direcoty `$HOME/.pyhera/log/simulations.log`.\n",
    "           A rotating file, holds the older logs in `$HOME/.pyhera/log/simulations.log.1`, `$HOME/.pyhera/log/simulations.log.2`, and \n",
    "           `$HOME/.pyhera/log/simulations.log.3` when each file exceeds 20MB. \n",
    "\n",
    "## Formatters:\n",
    "- **brief**: Brief format for console logs.\n",
    "             The format is \n",
    "             \n",
    "             ```\n",
    "             %(levelname)-8s: %(filename)s/%(funcName)s(%(lineno)d) %(message)s\n",
    "             ```\n",
    "\n",
    "<div class=\"alert alert-block alert-info\">\n",
    "<b>Example</b>  of brief format\n",
    "    \n",
    "```\n",
    "INFO      :hera.bin <ipython-input-7-dc4f850583ba>/1/<module>: This is a debug message\n",
    "```\n",
    "</div>        \n",
    "\n",
    "- **default**: Default format for file logs.\n",
    "               This format is \n",
    "               \n",
    "\n",
    "                ```\n",
    "                %(asctime)s %(filename)s/%(funcName)s(%(lineno)d) %(levelname)-8s %(message)s\n",
    "                ```\n",
    "\n",
    "<div class=\"alert alert-block alert-info\">\n",
    "<b>Example</b>  of a default format\n",
    "    \n",
    "```\n",
    "2023-06-25 11:50:40 EXECUTION :[hera.simulations.openFoam.OFObjects.OFField] __init__.py/100/execution:  ---- Start ----\n",
    "```\n",
    "</div>        \n"
   ]
  },
  {
   "cell_type": "markdown",
   "id": "6f85f674-fec7-4dd4-8ebc-a5009d8d5cc3",
   "metadata": {},
   "source": [
    "# Using the utililty to define loggers, handlers, and formatter \n",
    "\n",
    "The hera interface helps the user to define a loggers whose name depend on the class and the \n",
    "method name. Additionally, Hera provides helper classes to add new handlers, loggers and formats. \n",
    "\n",
    "\n",
    "## Define loggers names in classes \n",
    "\n",
    "the function **get_classMethod_logger** defines the logger name in a class method based on the class path, and adding the method name \n",
    "in order to allow the user fine grain control on the logging level. \n",
    "\n",
    "Since all the classes in hera are under measurements, simulations, bin, and datalayer, \n",
    "the default handler will be used unless another handler is defined. \n",
    "\n",
    "First, we will import the helper functions"
   ]
  },
  {
   "cell_type": "code",
   "execution_count": 1,
   "id": "6d96223c-ef5d-46c9-a9ef-c6d52d21dd09",
   "metadata": {},
   "outputs": [
    {
     "name": "stdout",
     "output_type": "stream",
     "text": [
      "<Logger __main__.Test.loggerExample (WARNING)>\n"
     ]
    }
   ],
   "source": [
    "from hera.utils import *\n",
    "\n",
    "class Test:\n",
    "    def loggerExample(self):\n",
    "        logger = get_classMethod_logger(self,name=\"loggerExample\")\n",
    "        print(logger)\n",
    "        \n",
    "tst = Test()\n",
    "tst.loggerExample()"
   ]
  },
  {
   "cell_type": "markdown",
   "id": "b6bd6a0e-faee-4e9e-bc15-ba042f17cab2",
   "metadata": {},
   "source": [
    "As can be seen, the logger name was defined is `__main__.Test.loggerExample`. "
   ]
  },
  {
   "cell_type": "markdown",
   "id": "2e33cd11-894f-44d4-9b86-b75c2357620f",
   "metadata": {},
   "source": [
    "## Define the handlers, logger and formatters\n",
    "\n",
    "The **initialize_logging** interface is used to add (or override) the definition of existing \n",
    "logger, handlers or formatter. \n",
    "\n",
    "- **with_logger**   : Defining a new logger. \n",
    "- **add_FileHandler** :  Define a new handler that write to file. \n",
    "- **add_formatter** : Adds a new formatter. \n"
   ]
  },
  {
   "cell_type": "code",
   "execution_count": 1,
   "id": "d28e0993-b427-4c69-b6eb-42735048e741",
   "metadata": {},
   "outputs": [],
   "source": [
    "from hera.utils import *\n",
    "initialize_logging(\n",
    "    add_formatter(\"newFormatter\",format=\"%(levelname)-8s: -> %(filename)s/%(funcName)s(%(lineno)d) %(message)s\"),  \n",
    "    add_FileHandler(\"myFileHandler\",\"outFile.log\",mode='w',formatter=\"newFormatter\"),      \n",
    "    with_logger(\"__main__.Test2\", handlers=['console',\"myFileHandler\"], level='INFO', propagate=False)\n",
    ")"
   ]
  },
  {
   "cell_type": "code",
   "execution_count": 2,
   "id": "a32ae300-e3bb-4029-8f42-4930db28d9e2",
   "metadata": {},
   "outputs": [
    {
     "name": "stdout",
     "output_type": "stream",
     "text": [
      "<Logger __main__.Test2.loggerExample (INFO)>\n",
      " INFO      :__main__.Test2.loggerExample 1564042949.py/5/loggerExample: Example of logger\n"
     ]
    }
   ],
   "source": [
    "\n",
    "class Test2:\n",
    "    def loggerExample(self):\n",
    "        logger = get_classMethod_logger(self,name=\"loggerExample\")\n",
    "        print(logger)\n",
    "        logger.info(\"Example of logger\")\n",
    "        logger.debug(\"This will not be displayed\")\n",
    "        \n",
    "tst = Test2()\n",
    "tst.loggerExample()"
   ]
  },
  {
   "cell_type": "code",
   "execution_count": 3,
   "id": "13577107-2c1a-450e-8f1b-c5a2e6d6386d",
   "metadata": {},
   "outputs": [
    {
     "name": "stdout",
     "output_type": "stream",
     "text": [
      "INFO    : -> 1564042949.py/loggerExample(5) Example of logger\n"
     ]
    }
   ],
   "source": [
    "cat outFile.log"
   ]
  },
  {
   "cell_type": "markdown",
   "id": "5581ba66-1d67-482b-8b19-59c101765abb",
   "metadata": {},
   "source": [
    "As can be see, the output format to the console is the default format, but the \n",
    "output to the file is using the newFormatter. "
   ]
  }
 ],
 "metadata": {
  "kernelspec": {
   "display_name": "Python 3 (ipykernel)",
   "language": "python",
   "name": "python3"
  },
  "language_info": {
   "codemirror_mode": {
    "name": "ipython",
    "version": 3
   },
   "file_extension": ".py",
   "mimetype": "text/x-python",
   "name": "python",
   "nbconvert_exporter": "python",
   "pygments_lexer": "ipython3",
   "version": "3.9.18"
  },
  "toc-autonumbering": true,
  "toc-showcode": false
 },
 "nbformat": 4,
 "nbformat_minor": 5
}
