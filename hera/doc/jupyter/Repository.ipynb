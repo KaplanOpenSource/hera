{
 "cells": [
  {
   "cell_type": "markdown",
   "id": "584dd583-9784-4189-bed6-bc0130813503",
   "metadata": {},
   "source": [
    "<font size=\"+3\">Repositories</font>\n",
    "\n",
    "Repositories are lists of [datasources](Toolkit.ipynb#datasource) (and other data items). \n",
    "\n",
    "When a repository is added to the user workspace, all the data items in it are \n",
    "are automatically loaded to the project following its creation with the [hera-project](datalayer/Project.ipynb#newProject_CLI) CLI. \n",
    "\n",
    "The management of the data items repository is performed using the `hera-project repository` CLI which allows the user \n",
    "to add, list and remove repositories from his workspace. \n",
    "\n",
    "Each repository is a JSON file that describes datasources, as well as measurements, cache and simulations documents. \n",
    "\n",
    "In the following we show how to [manage](#management) the repositories, and how to [define](#definition) them. "
   ]
  },
  {
   "cell_type": "markdown",
   "id": "3118b6ed-92b3-4d97-8b45-2c8644dc60fd",
   "metadata": {},
   "source": [
    "<a href=\"management\"></a>\n",
    "# Repository management\n",
    "\n",
    "The management of the repository is perfomed using the \n",
    "\n",
    "```\n",
    "     >> hera-project repository <Action>\n",
    "```\n",
    "\n",
    "Where `Action` is \n",
    "\n",
    "- **add** : Adding a repository to the workspace \n",
    "- **list**: List the repositories in the workspace\n",
    "- **remove**: Remove a repository from the workspace. \n",
    "- **show** : Shows the content of the repository. \n",
    "- **load**: Load the repository to a specific project. Useful for debugging. "
   ]
  },
  {
   "cell_type": "markdown",
   "id": "8d9edb38-3f60-4e28-9c60-a9cfc2d2d9aa",
   "metadata": {},
   "source": [
    "## Listing repositories \n",
    "\n",
    "\n",
    "Listing the repositories in the workspace is achieved by, \n",
    "<div class=\"alert alert-success\" role=\"alert\">    \n",
    "    >> hera-project repository list\n",
    "</div>    "
   ]
  },
  {
   "cell_type": "markdown",
   "id": "40305141-f5a7-421d-bef8-bd4b078405ef",
   "metadata": {},
   "source": [
    "## Adding repostitories \n",
    "\n",
    "Adding a repository to the workspace by stating the full path to the repository JSON file, \n",
    "\n",
    "<div class=\"alert alert-success\" role=\"alert\">    \n",
    "    >> hera-project repository add {path to file}\n",
    "</div>    "
   ]
  },
  {
   "cell_type": "markdown",
   "id": "7b4643c5-9fd9-4759-8872-765f79e64c7c",
   "metadata": {},
   "source": [
    "<div class=\"alert alert-block alert-info\">\n",
    "<b>Example: </b> \n",
    "    \n",
    "```\n",
    ">> hera-project repository add /home/dataSource/repository.json\n",
    "```\n",
    "    \n",
    "Results in adding a repository `repository.json` to the workspace. \n",
    "</div>        \n",
    " "
   ]
  },
  {
   "cell_type": "markdown",
   "id": "9b6ff57e-a004-40fc-81ff-8326c43f6b57",
   "metadata": {},
   "source": [
    "## Removing repositories \n",
    "\n",
    "Removing the repository from the workspace is performed, \n",
    "\n",
    "<div class=\"alert alert-success\" role=\"alert\">    \n",
    "    >> hera-project repository remove {repository name}\n",
    "</div>    "
   ]
  },
  {
   "cell_type": "markdown",
   "id": "0d9724ef-64be-475a-bfb5-28efebacc7ba",
   "metadata": {},
   "source": [
    "## Shows repositories \n",
    "\n",
    "Showing the content of the repository was performed by, \n",
    "\n",
    "<div class=\"alert alert-success\" role=\"alert\">    \n",
    "    >> hera-project repository show {repository name}\n",
    "</div>    "
   ]
  },
  {
   "cell_type": "markdown",
   "id": "d54a7956-e40b-4663-a4c6-0429a2069a59",
   "metadata": {},
   "source": [
    "## Load repository into a project\n",
    "\n",
    "Load the repository manually to the project. This is very useful for debugging. \n",
    "\n",
    "<div class=\"alert alert-success\" role=\"alert\">    \n",
    "    >> hera-project repository load {repository file} {project name}\n",
    "</div>    "
   ]
  },
  {
   "cell_type": "markdown",
   "id": "6891369b-57cb-48a4-8392-d7c2d472bf7c",
   "metadata": {},
   "source": [
    "<a href=\"definition\"></a>\n",
    "# Repository definition \n",
    "  \n",
    "A repository is a JSON file that lists datasources (e.g external databases that some toolkit use), and other types of documents (e.g measurement, \n",
    "simulation, and cache). \n",
    "\n",
    "The repository JSON file lists the items that will be loaded for each toolkit. \n",
    "\n",
    "The definition of the datasource, measurements, simulationsm and cache items is specified per toolkit. \n",
    "That is,"
   ]
  },
  {
   "cell_type": "markdown",
   "id": "e0ebac05-c21d-4584-bae7-9495468927a6",
   "metadata": {},
   "source": [
    "\n",
    "\n",
    "```javascript\n",
    "{\n",
    " <toolkit name> : {\n",
    "    \"DataSource\" : { \n",
    "        ... data items definition ...\n",
    "    },\n",
    "    \"Measurements\" : {\n",
    "        ... data items definition ...        \n",
    "    },\n",
    "    \"Simulations\" : {\n",
    "        ... data items definition ...                \n",
    "    },\n",
    "    \"Cache\" : {\n",
    "        \n",
    "        \n",
    "    }    \n",
    "}\n",
    "```"
   ]
  },
  {
   "cell_type": "markdown",
   "id": "00b6caae-ce21-4119-ae4d-032604cd5eec",
   "metadata": {},
   "source": [
    "Where `DataSource` specifies the data items that will be added as data sources, and the rest \n",
    "as the relevant document type (`measurement`, `simulations`, and `cache`).\n",
    "\n",
    "The structure of the data item is slightly different for datasource and other data types. \n",
    "Hence, we will delineate each one of them. \n",
    "\n",
    "## The DataSource item structure\n",
    "\n",
    "The data item for the data source is specified as follows"
   ]
  },
  {
   "cell_type": "markdown",
   "id": "4d8fbc98-1849-4323-83c8-715d636779a7",
   "metadata": {},
   "source": [
    "```javascript\n",
    "<name> : {\n",
    "             \"isRelativePath\" : <true/false>,\n",
    "             \"item\" : {\n",
    "                \"resource\" : <file name>,\n",
    "                \"dataFormat\" : <data type>,\n",
    "                \"desc\":{\n",
    "                        ... user defined fields ...\n",
    "                }\n",
    "}\n",
    "```"
   ]
  },
  {
   "cell_type": "markdown",
   "id": "5c1244d6-af26-4c29-9570-b94326c06d3c",
   "metadata": {},
   "source": [
    "- **name**: The name of the dataitem is used in the case of the datasource (it is the name of the datasource). \n",
    "- **isRelativePath**: If true, change the resource to be relative to the location of the repository JSON. \n",
    "                      If it is False, then the value of the resource remains as it is.\n",
    "- **item**: In this map we will denote the resource, dataFormat and the desc. \n",
    "\n",
    "## The Measurement/Cache/Simulation item structure\n",
    "\n",
    "The data item for the Measurement/Cache/Simulation item data is specified as follows"
   ]
  },
  {
   "cell_type": "markdown",
   "id": "2f7356e7-0985-411c-afbe-0e0a6d90ca4f",
   "metadata": {},
   "source": [
    "```javascript\n",
    "<stub-name> : {\n",
    "             \"isRelativePath\" : <true/false>,\n",
    "             \"item\" : {\n",
    "                \"resource\" : <file name>,\n",
    "                \"dataFormat\" : <data type>,\n",
    "                 \"type\" : <type>\n",
    "                \"desc\":{\n",
    "                        ... user defined fields ...\n",
    "                }\n",
    "}\n",
    "```"
   ]
  },
  {
   "cell_type": "markdown",
   "id": "ba75a466-1018-428b-b607-1d7b48fd3dcd",
   "metadata": {},
   "source": [
    "- **stub-name**: A stub. This value is ignored. \n",
    "            \n",
    "- **isRelativePath**: If true, change the resource to be relative to the location of the repository JSON. \n",
    "                      If it is False, then the value of the resource remains as it is.\n",
    "- **item**: In this map we will denote the resource, dataFormat and the desc. \n"
   ]
  },
  {
   "cell_type": "markdown",
   "id": "a883159b-8c23-44e6-b55a-01d8fd7180fd",
   "metadata": {},
   "source": [
    "## Example for a repository file\n",
    "\n",
    "<div class=\"alert alert-block alert-info\">\n",
    "<b>Example: </b> \n",
    "\n",
    "An example to add to the `GIS_Demography` toolkit 2 data items. \n",
    "    \n",
    "1. A data source called `theData`.\n",
    "     The resource is a JSON file called `theData.json` that is in the same directory of the \n",
    "     repository JSON file. \n",
    "    \n",
    "1. A Measurements data item. \n",
    "    The resource is the string `my value`. \n",
    "\n",
    "```javascript\n",
    "{\n",
    "\t\"GIS_Demography\" : {\n",
    "\t\t\"DataSource\" : {\n",
    "\t\t\t\"theData\" : {\n",
    "\t\t\t\t\"isRelativePath\" : true,\n",
    "\t\t\t\t\"item\" : {\n",
    "\t\t\t\t\t\"resource\" : \"theData.json\",\n",
    "\t\t\t\t\t\"dataFormat\" : \"JSON_dict\",\n",
    "\t\t\t\t\t\"desc\" : {\n",
    "\t\t\t\t\t\t\"y\" : 1\n",
    "\t\t\t\t\t}\n",
    "\t\t\t\t\t\n",
    "\t\t\t\t}\n",
    "\t\t\t}\n",
    "\t\t},\n",
    "\t\t\"Measurements\" : {\n",
    "\t\t\t\"tmp1\" : {\n",
    "\t\t\t\t\"isRelativePath\" : false,\n",
    "\t\t\t\t\"item\" : {\n",
    "\t\t\t\t\t\"resource\" : \"my value\",\n",
    "\t\t\t\t\t\"dataFormat\" : \"str\",\n",
    "\t\t\t\t\t\"type\" : \"myType\", \n",
    "\t\t\t\t\t\"desc\" : {\n",
    "\t\t\t\t\t\t\"x\" : 1\n",
    "\t\t\t\t\t}\n",
    "\t\t\t\t}\t\t\t\t\n",
    "\t\t\t}\n",
    "\t\t}\t\t\n",
    "\t}\t\n",
    "}\n",
    "\n",
    "\n",
    "```\n",
    "</div>        \n"
   ]
  },
  {
   "cell_type": "code",
   "execution_count": null,
   "id": "cd7a0371-9989-43ac-a024-9e765f4a2290",
   "metadata": {},
   "outputs": [],
   "source": []
  }
 ],
 "metadata": {
  "kernelspec": {
   "display_name": "Python 3",
   "language": "python",
   "name": "python3"
  },
  "language_info": {
   "codemirror_mode": {
    "name": "ipython",
    "version": 3
   },
   "file_extension": ".py",
   "mimetype": "text/x-python",
   "name": "python",
   "nbconvert_exporter": "python",
   "pygments_lexer": "ipython3",
   "version": "3.9.13"
   "version": "3.11.6"
  }
 },
 "nbformat": 4,
 "nbformat_minor": 5
}
