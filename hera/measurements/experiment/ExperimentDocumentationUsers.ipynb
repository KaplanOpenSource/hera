{
 "cells": [
  {
   "cell_type": "markdown",
   "id": "a80ce7d2-e80c-48f2-ab7a-96e31d8fb5e7",
   "metadata": {},
   "source": [
    "## Experiment Documendation for Users"
   ]
  },
  {
   "cell_type": "markdown",
   "id": "3b5320ac-0bbb-45ba-bc71-35b63f9aebb7",
   "metadata": {},
   "source": [
    "This notebook is a user's guide to everything related to conducting experiments.  \n",
    "An experiment will be always connected with a certain or several Projects. The notebook includes a general guide on all the actions related to the experiment and its link to a project, using an example.  \n",
    "\n",
    "Given a zip file containing the metadata experiment, you can easily create an experiment and connect it to a project with only a few simple comand lines(CLI) in your environment.  \n",
    "\n",
    "You can read more about Projects [here](/hera/doc/jupyter/datalayer/Prokect.ipynb)."
   ]
  },
  {
   "cell_type": "markdown",
   "id": "8e988bdc-5f8f-46e0-b43f-7388f708cdb9",
   "metadata": {},
   "source": [
    "## Step 1 - Creation of an Experiment  "
   ]
  },
  {
   "cell_type": "markdown",
   "id": "e93d85e8-372d-4ab7-b331-5352acacf0ef",
   "metadata": {},
   "source": [
    "First, we use the 'create' CLI, which looks like that:"
   ]
  },
  {
   "cell_type": "markdown",
   "id": "7f7ef068-172a-4fb9-a8e9-61018cefce68",
   "metadata": {},
   "source": [
    "<p style=\"background:black\">\n",
    "<code style=\"background:black;color:white\">>> hera-experiment create ['experiment name'] [--path 'Path to experiment folder'] [--zip 'zip file']\n",
    "</code>\n",
    "</p>   \n",
    "  \n",
    "Arguments:  \n",
    "- **experiment**: The name of the experiment. Must be defined.\n",
    "- **path**: Path to the experiment directory (Optional). If does not exist, use the current directory.\n",
    "- **zip**: Path to the zip containing the metadata of the experiment (Optional). If does not exist, creates an empty experiment (which we can later add a zip to it).\n",
    "\n"
   ]
  },
  {
   "cell_type": "markdown",
   "id": "2d463d6a-9bfb-4e5c-a669-2a819849a3ab",
   "metadata": {},
   "source": [
    "After we use this command, few things will happen inside your experiment path directory you provided (or not if you wish to use the current directory):  \n",
    "1) A new folder 'code' will be created. Inside it, you can find an empty class with the name of the experiment you provided. This class is meant for you to implement if you wish to write functions related to the experiment you are dealing with. You can also remain it empty.\n",
    "2) A new folder 'data' will be created. This folder will contatin the data of the devices related to the experiment.\n",
    "3) A new folder 'runtimeExperimentData' will be created (only when providing a zip file). It will include the zip file you just provided and a configuration file. There is no reason to detail this folder because it is outside of your use.\n",
    "4) A JSON file will be created, named as 'experimentName'_repository.json, containing the metadata of the experiment. This JSON file is also called [Repository](/hera/doc/jupyter/Repository.ipynb). All it's purpose is to help us when we want to create a project or update a certain project. As soon as we create/update a project, the system will go to this file and initialize the project with the the metadata in this file. "
   ]
  },
  {
   "cell_type": "markdown",
   "id": "fdcde2b0-bd6d-45d8-b339-a34738e7b2c0",
   "metadata": {},
   "source": [
    "### Example:  \n",
    "- We have a zip file contating the metadata of an experiment held in Haifa in 2014, with the name 'HaifaFluxes2014.zip'.\n",
    "- We wish to use our currenlty folder (named as 'haifaExperiment') as our experiment folder, which is empty.\n",
    "-  The zip file containing the metadata is in the path 'home/Projects/2024/metadataFiles/HaifaFluxes2014.zip'.\n",
    "\n",
    "The CLI will look like that:  \n",
    "\n",
    "<p style=\"background:black\">\n",
    "<code style=\"background:black;color:white\">>> hera-experiment create Haifa2014 --zip home/Projects/2024/metadataFiles/HaifaFluxes2014.zip\n",
    "</code>\n",
    "</p>   "
   ]
  },
  {
   "cell_type": "markdown",
   "id": "4eb2379f-8527-44b1-9f8d-acb2a01d283b",
   "metadata": {},
   "source": [
    "Now, our folder will look like that:  \n",
    "\n",
    "```\n",
    "haifaExperiment\n",
    "|   Haifa2014_repository.json\n",
    "└───code\n",
    "    │   Haifa2014.py\n",
    "└───data\n",
    "    │\n",
    "└───|runtimeExperimentData\n",
    "    │   Haifa2014.zip\n",
    "    │   Datasources_Configurations.json\n",
    "```"
   ]
  },
  {
   "cell_type": "markdown",
   "id": "eaca7398-3a70-46b3-a4c1-dec1096dc87c",
   "metadata": {},
   "source": [
    "## Step 2 - Add the repository to the repositories list  \n",
    "Now, we only need to add the JSON file we just created to the list of repositories, so when we create a project, the experiment will be loaded to it.  \n",
    "\n",
    "We do this with the following CLI:  \n",
    "\n",
    "<p style=\"background:black\">\n",
    "<code style=\"background:black;color:white\">>> hera-project repository add ['json file']\n",
    "</code>\n",
    "</p>  "
   ]
  },
  {
   "cell_type": "markdown",
   "id": "3ba6bb68-2ce9-4433-8712-0977e2f5b4ab",
   "metadata": {},
   "source": [
    "### Example:  \n",
    "In our example, we will use:\n",
    "<p style=\"background:black\">\n",
    "<code style=\"background:black;color:white\">>> hera-project repository add Haifa2014_repository.json\n",
    "</code>\n",
    "</p>   "
   ]
  },
  {
   "cell_type": "markdown",
   "id": "c04941ce-5f53-4b0a-9d26-1b916c5ea0d6",
   "metadata": {},
   "source": [
    "## Step 3 - Creating the project  \n",
    "Now, we only need to create a new project and the experiment will be automatically inserted inside the project.  \n",
    "We do this with:  \n",
    "<p style=\"background:black\">\n",
    "<code style=\"background:black;color:white\">>> hera-project project create [projectName]\n",
    "</code>\n",
    "</p>   \n",
    "\n",
    "### Example:\n",
    "If we wish to create a new project with the name 'northProject', we will use:  \n",
    "<p style=\"background:black\">\n",
    "<code style=\"background:black;color:white\">>> hera-project project create northProject\n",
    "</code>\n",
    "</p>   "
   ]
  },
  {
   "cell_type": "markdown",
   "id": "e3266796-92a2-44fb-bcc6-66feae5edb60",
   "metadata": {},
   "source": [
    "Great! Now we have a project with the name 'northProject', with the experiment 'Haifa2014' connected to it.    \n",
    "\n",
    "**Note**: Now, every time you create a new project, you will be able to access the Haifa2014 experiment  through it, since the Haifa2014_repository.json is inside the repositories list. You can always remove the JSON from the list however (You can read more about Repositories [here](/hera/doc/jupyter/Repository.ipynb) if you wish.)"
   ]
  },
  {
   "cell_type": "markdown",
   "id": "676329ee-870d-412a-a2ef-5b0276261eec",
   "metadata": {},
   "source": [
    "## More Simple CLI  \n",
    "\n",
    "### List  \n",
    "To display the experiment list in a project, you can type the following command:  \n",
    "\n",
    "<p style=\"background:black\">\n",
    "<code style=\"background:black;color:white\">>> hera-experiment list [--projectName 'the project name']\n",
    "</code>\n",
    "</p>   \n",
    "Arguments:  \n",
    "\n",
    "- **projectName**: The name of the Project (Optional). If does not exist take from configuration.json in your directory"
   ]
  },
  {
   "cell_type": "markdown",
   "id": "542f65d0-8b36-43d3-8df0-8bd0430a8270",
   "metadata": {},
   "source": [
    "### Table\n",
    "To display the experiments inside a project in a Table, with more details, you can type the  following command:  \n",
    "\n",
    "<p style=\"background:black\">\n",
    "<code style=\"background:black;color:white\">>> hera-experiment table [--projectName 'the project name']\n",
    "</code>\n",
    "</p>   \n",
    "Arguments:  \n",
    "\n",
    "- **projectName**: The name of the Project (Optional). If does not exist take from configuration.json in your directory"
   ]
  },
  {
   "cell_type": "markdown",
   "id": "0995774c-f2f9-4567-8a90-a6b0f78ae6de",
   "metadata": {},
   "source": [
    "## Getting the Data  \n",
    "\n",
    "To display the data of an experiment inisde a certain project, you can type the following command:  \n",
    "\n",
    "<p style=\"background:black\">\n",
    "<code style=\"background:black;color:white\">>> hera-experiment data [--projectName 'the project name'] ['experiment'] ['deviceType'] [--deviceName 'device name'] [--perDevice 'True/False']\n",
    "</code>\n",
    "</p>   \n",
    "\n",
    "Arguments:  \n",
    "\n",
    "- **projectName**: The name of the Project (Optional). If does not exist take from configuration.json in your directory\n",
    "- **experiment**: The name of the experiment. Must be defined.\n",
    "- **deviceType**: The name of the device type you wish to display. Must be defined.\n",
    "- **deviceName**: The name of the device you wish to display. Optional. However, if perDevice=True, it must be specified.\n",
    "- **perDevice**: Boolean argument, defining if data is stored perDevice (long experiment or not). If true - device name must be specified."
   ]
  },
  {
   "cell_type": "markdown",
   "id": "35e59b20-d1c5-432e-80ae-f35c37c239eb",
   "metadata": {},
   "source": [
    "## Add a new experiment to an existing project\n",
    "If you created a new experiment, added the new json file to the repostiry list (steps 1 and 2), and wish to add it to an existing project, you can type the following command:  \n",
    "\n",
    "<p style=\"background:black\">\n",
    "<code style=\"background:black;color:white\">>> hera-project project update ['the project name'] [--overwrite 'True/False']\n",
    "</code>\n",
    "</p>   \n",
    "\n",
    "Arguments:  \n",
    "\n",
    "- **projectName**: The name of the Project. Must be defined.\n",
    "- **overwrite**: Boolean argument, defining if to overwrite the existing project or not (Optional). Default is False."
   ]
  },
  {
   "cell_type": "markdown",
   "id": "f8474c90-915e-4b64-8091-dbebcc710d42",
   "metadata": {},
   "source": [
    "## Python Commands\n",
    "\n",
    "After we have a project with an experiment, we can also use Python for displaying and reaching the experiments data.  \n",
    "\n",
    "For doing that, we need to import the 'toolkitHome' module and specify the toolkitName argument with 'toolkitHome.EXPERIMENT', just as the following cell. We also need to specify the Project we want to deal with, using the ProjectName argument. We will use the project we just created."
   ]
  },
  {
   "cell_type": "code",
   "execution_count": 25,
   "id": "9dea002a-f551-4024-b026-908c37616291",
   "metadata": {},
   "outputs": [],
   "source": [
    "from hera import toolkitHome\n",
    "\n",
    "projectName = 'northProject'\n",
    "experiments = toolkitHome.getToolkit(toolkitName=toolkitHome.EXPERIMENT, projectName=projectName)"
   ]
  },
  {
   "cell_type": "markdown",
   "id": "886c865a-af4e-4280-9cd0-77217620a362",
   "metadata": {},
   "source": [
    "List of all experiments in a project (only names):"
   ]
  },
  {
   "cell_type": "code",
   "execution_count": 26,
   "id": "6b4b5092-57e9-4245-bc86-7354edf5b2d7",
   "metadata": {},
   "outputs": [
    {
     "data": {
      "text/plain": [
       "['Haifa2014']"
      ]
     },
     "execution_count": 26,
     "metadata": {},
     "output_type": "execute_result"
    }
   ],
   "source": [
    "experiments.keys()"
   ]
  },
  {
   "cell_type": "markdown",
   "id": "c9b28ef1-8c30-4e02-82b6-9a08ea9f46f1",
   "metadata": {},
   "source": [
    "List of all experiments in a project in Table displaying:"
   ]
  },
  {
   "cell_type": "code",
   "execution_count": 27,
   "id": "dff9d7d8-4688-4ba0-bddc-f56a5875a782",
   "metadata": {},
   "outputs": [
    {
     "data": {
      "text/html": [
       "<div>\n",
       "<style scoped>\n",
       "    .dataframe tbody tr th:only-of-type {\n",
       "        vertical-align: middle;\n",
       "    }\n",
       "\n",
       "    .dataframe tbody tr th {\n",
       "        vertical-align: top;\n",
       "    }\n",
       "\n",
       "    .dataframe thead th {\n",
       "        text-align: right;\n",
       "    }\n",
       "</style>\n",
       "<table border=\"1\" class=\"dataframe\">\n",
       "  <thead>\n",
       "    <tr style=\"text-align: right;\">\n",
       "      <th></th>\n",
       "      <th>dataFormat</th>\n",
       "      <th>resource</th>\n",
       "      <th>experimentPath</th>\n",
       "      <th>toolkit</th>\n",
       "      <th>datasourceName</th>\n",
       "      <th>version</th>\n",
       "    </tr>\n",
       "  </thead>\n",
       "  <tbody>\n",
       "    <tr>\n",
       "      <th>0</th>\n",
       "      <td>datatypes.PARQUET</td>\n",
       "      <td>/home/salo/Projects/2024/haifaExperiment/</td>\n",
       "      <td>/home/salo/Projects/2024/haifaExperiment</td>\n",
       "      <td>experimentToolKit</td>\n",
       "      <td>Haifa2014</td>\n",
       "      <td>[0, 0, 1]</td>\n",
       "    </tr>\n",
       "  </tbody>\n",
       "</table>\n",
       "</div>"
      ],
      "text/plain": [
       "          dataFormat                                   resource  \\\n",
       "0  datatypes.PARQUET  /home/salo/Projects/2024/haifaExperiment/   \n",
       "\n",
       "                             experimentPath            toolkit datasourceName  \\\n",
       "0  /home/salo/Projects/2024/haifaExperiment  experimentToolKit      Haifa2014   \n",
       "\n",
       "     version  \n",
       "0  [0, 0, 1]  "
      ]
     },
     "execution_count": 27,
     "metadata": {},
     "output_type": "execute_result"
    }
   ],
   "source": [
    "experiments.getExperimentsTable()"
   ]
  },
  {
   "cell_type": "markdown",
   "id": "0d5d3d29-3d38-44d3-89a9-7c933fa00117",
   "metadata": {},
   "source": [
    "You can reach the experiment class you implemented (or not), by specifing the experiment name:"
   ]
  },
  {
   "cell_type": "code",
   "execution_count": 28,
   "id": "9181bd92-e334-4bb8-8ea9-5546efad4a2b",
   "metadata": {},
   "outputs": [
    {
     "data": {
      "text/plain": [
       "<Haifa2014.Haifa2014 at 0x728711dbe350>"
      ]
     },
     "execution_count": 28,
     "metadata": {},
     "output_type": "execute_result"
    }
   ],
   "source": [
    "experiments.getExperiment('Haifa2014')"
   ]
  },
  {
   "cell_type": "markdown",
   "id": "4c77aed9-57ed-497c-bc49-f22908a913e0",
   "metadata": {},
   "source": [
    "You can reach the metadata of a all experiments in the project:"
   ]
  },
  {
   "cell_type": "code",
   "execution_count": 31,
   "id": "d59e3926-14a7-450f-937e-2cb12711efd0",
   "metadata": {},
   "outputs": [
    {
     "data": {
      "text/plain": [
       "[<Measurements: {\n",
       "    \"_cls\": \"Metadata.Measurements\",\n",
       "    \"projectName\": \"northProject\",\n",
       "    \"desc\": {\n",
       "        \"experimentPath\": \"/home/salo/Projects/2024/haifaExperiment\",\n",
       "        \"toolkit\": \"experimentToolKit\",\n",
       "        \"datasourceName\": \"Haifa2014\",\n",
       "        \"version\": [\n",
       "            0,\n",
       "            0,\n",
       "            1\n",
       "        ]\n",
       "    },\n",
       "    \"type\": \"ToolkitDataSource\",\n",
       "    \"resource\": \"/home/salo/Projects/2024/haifaExperiment/\",\n",
       "    \"dataFormat\": \"datatypes.PARQUET\"\n",
       "}>, <Measurements: {\n",
       "    \"_cls\": \"Metadata.Measurements\",\n",
       "    \"projectName\": \"northProject\",\n",
       "    \"desc\": {\n",
       "        \"deviceType\": \"TRH\",\n",
       "        \"experimentName\": \"Haifa2014\"\n",
       "    },\n",
       "    \"type\": \"Experiment_rawData\",\n",
       "    \"resource\": \"/home/salo/Projects/2024/haifaExperiment/data/TRH\",\n",
       "    \"dataFormat\": \"datatypes.PARQUET\"\n",
       "}>, <Measurements: {\n",
       "    \"_cls\": \"Metadata.Measurements\",\n",
       "    \"projectName\": \"northProject\",\n",
       "    \"desc\": {\n",
       "        \"deviceType\": \"Sonic\",\n",
       "        \"experimentName\": \"Haifa2014\"\n",
       "    },\n",
       "    \"type\": \"Experiment_rawData\",\n",
       "    \"resource\": \"/home/salo/Projects/2024/haifaExperiment/data/Sonic\",\n",
       "    \"dataFormat\": \"datatypes.PARQUET\"\n",
       "}>]"
      ]
     },
     "execution_count": 31,
     "metadata": {},
     "output_type": "execute_result"
    }
   ],
   "source": [
    "experiments.getMeasurementsDocuments()"
   ]
  },
  {
   "cell_type": "markdown",
   "id": "35da0cea-a0ea-4d64-9f74-667dc63782b1",
   "metadata": {},
   "source": [
    "You can reach the experiment data through this class (won't work now since the parquet data does not exists):"
   ]
  },
  {
   "cell_type": "code",
   "execution_count": 24,
   "id": "c16b203d-376c-494f-91ee-403521a65d58",
   "metadata": {},
   "outputs": [
    {
     "ename": "KeyError",
     "evalue": "'DataHandler_datatypes.PARQUET'",
     "output_type": "error",
     "traceback": [
      "\u001b[0;31m---------------------------------------------------------------------------\u001b[0m",
      "\u001b[0;31mKeyError\u001b[0m                                  Traceback (most recent call last)",
      "Cell \u001b[0;32mIn[24], line 2\u001b[0m\n\u001b[1;32m      1\u001b[0m haifa2014 \u001b[38;5;241m=\u001b[39m experiment\u001b[38;5;241m.\u001b[39mgetExperiment(\u001b[38;5;124m'\u001b[39m\u001b[38;5;124mHaifa2014\u001b[39m\u001b[38;5;124m'\u001b[39m)\n\u001b[0;32m----> 2\u001b[0m \u001b[43mhaifa2014\u001b[49m\u001b[38;5;241;43m.\u001b[39;49m\u001b[43mgetExperimentData\u001b[49m\u001b[43m(\u001b[49m\u001b[43m)\u001b[49m\u001b[38;5;241;43m.\u001b[39;49m\u001b[43mgetData\u001b[49m\u001b[43m(\u001b[49m\u001b[38;5;124;43m'\u001b[39;49m\u001b[38;5;124;43mSonic\u001b[39;49m\u001b[38;5;124;43m'\u001b[39;49m\u001b[43m)\u001b[49m\n",
      "File \u001b[0;32m~/development/hera/hera/measurements/experiment/dataEngine.py:418\u001b[0m, in \u001b[0;36mparquetDataEngineHera.getData\u001b[0;34m(self, deviceType, deviceName, startTime, endTime, autoCompute, perDevice, **query)\u001b[0m\n\u001b[1;32m    415\u001b[0m \u001b[38;5;28;01mif\u001b[39;00m \u001b[38;5;28mlen\u001b[39m(collection) \u001b[38;5;241m==\u001b[39m \u001b[38;5;241m0\u001b[39m:\n\u001b[1;32m    416\u001b[0m         \u001b[38;5;28;01mreturn\u001b[39;00m pandas\u001b[38;5;241m.\u001b[39mDataFrame()\n\u001b[0;32m--> 418\u001b[0m data \u001b[38;5;241m=\u001b[39m \u001b[43mcollection\u001b[49m\u001b[43m[\u001b[49m\u001b[38;5;241;43m0\u001b[39;49m\u001b[43m]\u001b[49m\u001b[38;5;241;43m.\u001b[39;49m\u001b[43mgetData\u001b[49m\u001b[43m(\u001b[49m\u001b[43mengine\u001b[49m\u001b[38;5;241;43m=\u001b[39;49m\u001b[38;5;124;43m\"\u001b[39;49m\u001b[38;5;124;43mfastparquet\u001b[39;49m\u001b[38;5;124;43m\"\u001b[39;49m\u001b[43m)\u001b[49m\n\u001b[1;32m    420\u001b[0m \u001b[38;5;28;01mif\u001b[39;00m deviceName \u001b[38;5;129;01mis\u001b[39;00m \u001b[38;5;129;01mnot\u001b[39;00m \u001b[38;5;28;01mNone\u001b[39;00m:\n\u001b[1;32m    421\u001b[0m     data \u001b[38;5;241m=\u001b[39m data\u001b[38;5;241m.\u001b[39mquery(\u001b[38;5;124mf\u001b[39m\u001b[38;5;124m\"\u001b[39m\u001b[38;5;124mdeviceName == \u001b[39m\u001b[38;5;124m'\u001b[39m\u001b[38;5;132;01m{\u001b[39;00mdeviceName\u001b[38;5;132;01m}\u001b[39;00m\u001b[38;5;124m'\u001b[39m\u001b[38;5;124m\"\u001b[39m)\n",
      "File \u001b[0;32m~/development/hera/hera/datalayer/document/metadataDocument.py:52\u001b[0m, in \u001b[0;36mMetadataFrame.getData\u001b[0;34m(self, **kwargs)\u001b[0m\n\u001b[1;32m     37\u001b[0m \u001b[38;5;28;01mdef\u001b[39;00m \u001b[38;5;21mgetData\u001b[39m(\u001b[38;5;28mself\u001b[39m, \u001b[38;5;241m*\u001b[39m\u001b[38;5;241m*\u001b[39mkwargs):\n\u001b[1;32m     38\u001b[0m \u001b[38;5;250m    \u001b[39m\u001b[38;5;124;03m\"\"\"\u001b[39;00m\n\u001b[1;32m     39\u001b[0m \u001b[38;5;124;03m    Returns the data of the document.\u001b[39;00m\n\u001b[1;32m     40\u001b[0m \n\u001b[0;32m   (...)\u001b[0m\n\u001b[1;32m     50\u001b[0m \u001b[38;5;124;03m        object according to the datahandler. \u001b[39;00m\n\u001b[1;32m     51\u001b[0m \u001b[38;5;124;03m    \"\"\"\u001b[39;00m\n\u001b[0;32m---> 52\u001b[0m     \u001b[38;5;28;01mreturn\u001b[39;00m \u001b[43mgetHandler\u001b[49m\u001b[43m(\u001b[49m\u001b[38;5;28;43mself\u001b[39;49m\u001b[38;5;241;43m.\u001b[39;49m\u001b[43mdataFormat\u001b[49m\u001b[43m)\u001b[49m\u001b[38;5;241m.\u001b[39mgetData(\u001b[38;5;28mself\u001b[39m\u001b[38;5;241m.\u001b[39mresource,\u001b[38;5;28mself\u001b[39m\u001b[38;5;241m.\u001b[39mdesc, \u001b[38;5;241m*\u001b[39m\u001b[38;5;241m*\u001b[39mkwargs)\n",
      "File \u001b[0;32m~/development/hera/hera/datalayer/datahandler.py:37\u001b[0m, in \u001b[0;36mgetHandler\u001b[0;34m(type)\u001b[0m\n\u001b[1;32m     36\u001b[0m \u001b[38;5;28;01mdef\u001b[39;00m \u001b[38;5;21mgetHandler\u001b[39m(\u001b[38;5;28mtype\u001b[39m):\n\u001b[0;32m---> 37\u001b[0m     \u001b[38;5;28;01mreturn\u001b[39;00m \u001b[38;5;28;43mglobals\u001b[39;49m\u001b[43m(\u001b[49m\u001b[43m)\u001b[49m\u001b[43m[\u001b[49m\u001b[38;5;124;43m'\u001b[39;49m\u001b[38;5;124;43mDataHandler_\u001b[39;49m\u001b[38;5;132;43;01m%s\u001b[39;49;00m\u001b[38;5;124;43m'\u001b[39;49m\u001b[43m \u001b[49m\u001b[38;5;241;43m%\u001b[39;49m\u001b[43m \u001b[49m\u001b[38;5;28;43mtype\u001b[39;49m\u001b[43m]\u001b[49m\n",
      "\u001b[0;31mKeyError\u001b[0m: 'DataHandler_datatypes.PARQUET'"
     ]
    }
   ],
   "source": [
    "haifa2014 = experiment.getExperiment('Haifa2014')\n",
    "haifa2014.getExperimentData().getData('Sonic')"
   ]
  },
  {
   "cell_type": "code",
   "execution_count": null,
   "id": "0460086b-322b-4c07-905e-403295b97c58",
   "metadata": {},
   "outputs": [],
   "source": []
  }
 ],
 "metadata": {
  "kernelspec": {
   "display_name": "Python 3 (ipykernel)",
   "language": "python",
   "name": "python3"
  },
  "language_info": {
   "codemirror_mode": {
    "name": "ipython",
    "version": 3
   },
   "file_extension": ".py",
   "mimetype": "text/x-python",
   "name": "python",
   "nbconvert_exporter": "python",
   "pygments_lexer": "ipython3",
   "version": "3.11.6"
  }
 },
 "nbformat": 4,
 "nbformat_minor": 5
}
